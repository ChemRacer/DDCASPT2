{
 "cells": [
  {
   "cell_type": "code",
   "execution_count": null,
   "id": "d3bafaef-922b-469c-b2b1-100bb4dbf134",
   "metadata": {},
   "outputs": [],
   "source": [
    "import sys\n",
    "# !{sys.executable} -m pip install --upgrade  xeus-python notebook\n",
    "#######################################################\n",
    "#Import packages\n",
    "import numpy as np\n",
    "import os\n",
    "os.environ['MOLCAS']='/home/grierjones/Test/build'\n",
    "os.environ['MOLCAS_WORKDIR']='/tmp'\n",
    "import re\n",
    "from math import sin, cos, pi\n",
    "from glob import glob\n",
    "import subprocess\n",
    "import pickle\n",
    "from subprocess import call, check_output\n",
    "import pandas as pd\n",
    "# import psi4\n",
    "from joblib import Parallel,effective_n_jobs,delayed\n",
    "from time import time\n",
    "import matplotlib.pyplot as plt\n",
    "from plumbum.cmd import grep, awk\n",
    "\n",
    "import shutil\n",
    "import random\n",
    "import sklearn\n",
    "from shutil import copy\n",
    "import csv\n",
    "import h5py as h5\n",
    "import seaborn as sns; sns.set(style=\"ticks\", color_codes=True)\n",
    "\n",
    "from sklearn.model_selection import train_test_split"
   ]
  },
  {
   "cell_type": "code",
   "execution_count": null,
   "id": "67777916-0f59-4197-a0e2-28a5887b281c",
   "metadata": {},
   "outputs": [],
   "source": [
    "#######################################################\n",
    "# Obital labels\n",
    "## Inactive i,j\n",
    "## Active t,u,v\n",
    "## Virtual a,b\n",
    "\n",
    "## Type 1: IA->AA\n",
    "## Type 2: II->AA (P)\n",
    "## Type 3: II->AA (M)\n",
    "## Type 4: AA->VA\n",
    "## Type 5: IA->VA/AV\n",
    "## Type 6: II->AV (P)\n",
    "## Type 7: II->AV (M)\n",
    "## Type 8: AA->VV (P)\n",
    "## Type 9: AA->VV (M)\n",
    "## Type 10: IA->VV (P)\n",
    "## Type 11: IA->VV (M)\n",
    "## Type 12: II->VV (P)\n",
    "## Type 13: II->VV (M)\n",
    "\n",
    "## A: IA->AA\n",
    "## B: II->AA\n",
    "## C: AA->VA\n",
    "## D: IA->VA/AV\n",
    "## E: II->AV\n",
    "## F: AA->VV\n",
    "## G: IA->VV \n",
    "## H: II->VV\n",
    "#######################################################\n"
   ]
  },
  {
   "cell_type": "code",
   "execution_count": null,
   "id": "34e60803-33ce-452e-bcd9-d82f052f331b",
   "metadata": {},
   "outputs": [],
   "source": [
    "# Delete excessive extra files\n",
    "def del_useless():\n",
    "    '''\n",
    "    Delete the extra files\n",
    "    '''\n",
    "    for root, dirs, files in os.walk(os.getcwd()):\n",
    "        for file in files:\n",
    "            for j in ['status','GssOrb','LprOrb','LoProp','guessorb','xmldump','RasOrb','SpdOrb']:\n",
    "                if j in file:\n",
    "    #                 print(root,dirs,file)\n",
    "                    os.remove(os.path.join(root,file))"
   ]
  },
  {
   "cell_type": "code",
   "execution_count": null,
   "id": "e722a4cf-cd61-4567-afcf-843a5808795c",
   "metadata": {},
   "outputs": [],
   "source": [
    "# When restarting a setr of calculations just clear everyting out\n",
    "def clean_dir():\n",
    "    for entry in os.scandir(path=os.getcwd()):\n",
    "        if entry.is_dir():\n",
    "            if entry.name=='Fock':\n",
    "                shutil.rmtree(entry.name)\n",
    "            if entry.name=='hdf5':\n",
    "                shutil.rmtree(entry.name)\n",
    "            if entry.name=='e2':\n",
    "                shutil.rmtree(entry.name)                \n",
    "            if entry.name=='Labels':\n",
    "                shutil.rmtree(entry.name)\n",
    "            if entry.name=='Coords':\n",
    "                shutil.rmtree(entry.name)\n",
    "            if 'dir' in entry.name:\n",
    "                shutil.rmtree(entry.name)\n",
    "                \n"
   ]
  },
  {
   "cell_type": "code",
   "execution_count": null,
   "id": "163bc16d-beea-4201-81e3-69a0b05b32a0",
   "metadata": {},
   "outputs": [],
   "source": [
    "def gen_gateway(name,basis_set):\n",
    "    string=f'''&GATEWAY \n",
    "coord={f'{name}.xyz'}\n",
    "Basis = {basis_set}\n",
    "Group = nosymm\n",
    "Expert\n",
    "End of Input\n",
    "\n",
    "'''\n",
    "    return string\n",
    "\n",
    "def gen_seward():\n",
    "    string=f'''&SEWARD\n",
    "End of Input\n",
    "\n",
    "'''\n",
    "    return string\n",
    "\n",
    "def gen_motra(name):\n",
    "    string=f'''&MOTRA\n",
    "Frozen=0\n",
    "LUMORB\n",
    ">>> COPY $WorkDir/GMJ_one_int_indx.csv $CurrDir/{name}.GMJ_one_int_indx.csv\n",
    ">>> COPY $WorkDir/GMJ_one_int.csv $CurrDir/{name}.GMJ_one_int.csv\n",
    ">>> COPY $WorkDir/GMJ_two_int_indx.csv $CurrDir/{name}.GMJ_two_int_indx.csv\n",
    ">>> COPY $WorkDir/GMJ_two_int.csv $CurrDir/{name}.GMJ_two_int.csv\n",
    "\n",
    "'''\n",
    "    return string\n",
    "\n",
    "def gen_scf(name):\n",
    "    string=f\"\"\"&SCF &END\n",
    ">>> COPY $WorkDir/{name}.scf.h5 $CurrDir/\n",
    "\n",
    "\"\"\"\n",
    "    return string    \n",
    "\n",
    "\n",
    "def gen_rasscf(name,electrons,occupied,inactive,symmetry=1,spin=1,previous=None):\n",
    "    start_string=\"\"\"&RASSCF &END\n",
    "Title= RASSCF\n",
    "\"\"\"\n",
    "    if previous!=None:\n",
    "        fileorb=f\"\"\"FileOrb\n",
    "{previous}\n",
    "\"\"\"\n",
    "    else:\n",
    "        fileorb=''\n",
    "\n",
    "    end_string=f\"\"\"NACTEL\n",
    "{electrons} 0 0\n",
    "Inactive\n",
    "{inactive}\n",
    "RAS2\n",
    "{occupied}\n",
    "Symmetry\n",
    "{symmetry}\n",
    "Spin\n",
    "{spin}\n",
    "orblisting\n",
    "all\n",
    "ITERation\n",
    "200 100\n",
    "CIMX\n",
    "200\n",
    "SDAV\n",
    "500\n",
    "\n",
    ">>> COPY $WorkDir/{name}.rasscf.h5 $CurrDir/\n",
    ">>> COPY $WorkDir/GMJ_Fock_MO.csv $CurrDir/{name}.GMJ_Fock_MO.csv\n",
    ">>> COPY $WorkDir/GMJ_PT2_Fock_MO.csv $CurrDir/{name}.GMJ_PT2_Fock_MO.csv\n",
    "\n",
    "\"\"\"\n",
    "    return start_string+fileorb+end_string \n",
    "\n",
    "def gen_caspt2():\n",
    "    string=\"\"\"&CASPT2 &END\n",
    "Frozen \n",
    "0\n",
    "\n",
    ">>foreach i in (B,E,F,G,H)\n",
    ">>foreach j in (P,M)\n",
    ">>if ( -FILE GMJ_e2_${i}_${j}.csv )\n",
    ">>> COPY $WorkDir/GMJ_RHS_${i}_${j}.csv $CurrDir/GMJ_RHS_${i}_${j}.csv\n",
    ">>> COPY $WorkDir/GMJ_IVECW_${i}_${j}.csv $CurrDir/GMJ_IVECW_${i}_${j}.csv\n",
    ">>> COPY $WorkDir/GMJ_e2_${i}_${j}.csv $CurrDir/GMJ_e2_${i}_${j}.csv\n",
    ">>endif\n",
    ">>enddo\n",
    ">>enddo\n",
    "\n",
    ">>foreach i in (A,C,D)\n",
    ">>if ( -FILE GMJ_e2_$i.csv )\n",
    ">>> COPY $WorkDir/GMJ_RHS_$i.csv $CurrDir/GMJ_RHS_$i.csv\n",
    ">>> COPY $WorkDir/GMJ_IVECW_$i.csv $CurrDir/GMJ_IVECW_$i.csv\n",
    ">>> COPY $WorkDir/GMJ_e2_$i.csv $CurrDir/GMJ_e2_$i.csv\n",
    ">>endif\n",
    ">>enddo\n",
    "\n",
    "\"\"\"\n",
    "    return string    \n",
    "\n",
    "\n",
    "\n"
   ]
  },
  {
   "cell_type": "code",
   "execution_count": null,
   "id": "60cd2d23-0fd4-4753-a7e1-847dafd59682",
   "metadata": {},
   "outputs": [],
   "source": [
    "basis_set='ANO-RCC-VDZP'\n",
    "top=os.getcwd()"
   ]
  },
  {
   "cell_type": "code",
   "execution_count": null,
   "id": "ca2f9a9f-f2fc-441d-919e-b5d9772828fb",
   "metadata": {},
   "outputs": [],
   "source": [
    "with open(os.path.join(f'H2.xyz'),'w') as f:\n",
    "    f.write(f'2\\n\\n')\n",
    "    for j in range(2):\n",
    "        f.write(f'H {0:>8f} {0:>8f} {j*0.94:>8f}\\n')"
   ]
  },
  {
   "cell_type": "code",
   "execution_count": null,
   "id": "17926642-1d5a-4336-b4bb-abd611183a34",
   "metadata": {},
   "outputs": [],
   "source": [
    "def write_input(path,basis_set,name,electrons,occupied,inactive,previous=None):\n",
    "       # Write input\n",
    "        with open(os.path.join(path,f'{name}.input'),'wb') as g:\n",
    "            g.write(gen_gateway(name,basis_set).encode())\n",
    "            g.write(gen_seward().encode())\n",
    "            g.write(gen_scf(name).encode())   \n",
    "            g.write(gen_rasscf(name,electrons,occupied,inactive,previous=previous).encode())\n",
    "            g.write(gen_motra(name).encode())\n",
    "            g.write(gen_caspt2().encode())    "
   ]
  },
  {
   "cell_type": "code",
   "execution_count": null,
   "id": "84cbf0d4-63c2-4d14-beaf-d0f7066ff711",
   "metadata": {},
   "outputs": [],
   "source": [
    "write_input('./',basis_set,'H2',2,2,0,previous=None)"
   ]
  },
  {
   "cell_type": "code",
   "execution_count": null,
   "id": "8196b9ff-9b6e-4b86-8746-a3c85454b77a",
   "metadata": {},
   "outputs": [],
   "source": [
    "call(['pymolcas','-new','-clean',f'H2.input', '-oe', f'H2.output'])"
   ]
  },
  {
   "cell_type": "code",
   "execution_count": null,
   "id": "ea10109d-bd18-41eb-a05d-210dd6009438",
   "metadata": {},
   "outputs": [],
   "source": []
  },
  {
   "cell_type": "code",
   "execution_count": null,
   "id": "a7f26592-dbc7-40c2-af70-f75e6b35ca7c",
   "metadata": {},
   "outputs": [],
   "source": [
    "# Load the PT2 Fock elements\n",
    "# Columns are as follows:\n",
    "# IT,IU,F(global index),FI(global index),fa(global index),d(global index)\n",
    "pt2fock = 'H2.GMJ_PT2_Fock_MO.csv'\n",
    "pt2fock_values = np.fromfile(pt2fock,dtype=float).reshape(-1,6)[:,3:]\n",
    "pt2fock_idx = np.fromfile(pt2fock,dtype=int).reshape(-1,6)[:,0:3]\n",
    "pt2fock_stacked = np.hstack([pt2fock_idx,pt2fock_values])"
   ]
  },
  {
   "cell_type": "code",
   "execution_count": null,
   "id": "87e871f4-04b1-4270-a032-79d7f39fc6dc",
   "metadata": {},
   "outputs": [],
   "source": [
    "# Read CASSCF Fock from file\n",
    "CASSCF_fock = np.fromfile('H2.GMJ_Fock_MO.csv')"
   ]
  },
  {
   "cell_type": "code",
   "execution_count": null,
   "id": "1e8dfd7a-1605-462c-b34e-17eab45bfc82",
   "metadata": {},
   "outputs": [],
   "source": [
    "# Load one-electron integrals\n",
    "oneelint = np.fromfile('H2.GMJ_one_int.csv')\n",
    "oneelint_idx = np.fromfile('H2.GMJ_one_int_indx.csv')\n",
    "\n",
    "# Load two-electron integrals\n",
    "twoelint = np.fromfile('H2.GMJ_two_int.csv')\n",
    "twoelint_idx = np.fromfile('H2.GMJ_two_int_indx.csv')"
   ]
  },
  {
   "cell_type": "code",
   "execution_count": null,
   "id": "45236a59-d6f4-4a5e-aba7-99df744fd7ee",
   "metadata": {},
   "outputs": [],
   "source": [
    "# Grab rasscf and scf hdf5 data\n",
    "rasscf_h5 = h5.File('H2.rasscf.h5', 'r')\n",
    "scf_h5 = h5.File('H2.scf.h5', 'r')\n",
    "\n",
    "datasetNames = [n for n in rasscf_h5.keys()]\n",
    "NBAS = rasscf_h5.attrs['NBAS']\n",
    "NACTEL = rasscf_h5.attrs['NACTEL']\n",
    "\n",
    "#Keys: MO_VECTORS, MO_ENERGIES, MO_OCCUPATIONS\n",
    "casMO_dict = {k:np.array(rasscf_h5[k]) for k in datasetNames if \"MO\" in k}\n",
    "scfMO_dict = {k:np.array(scf_h5[k]) for k in datasetNames if \"MO\" in k}"
   ]
  },
  {
   "cell_type": "code",
   "execution_count": null,
   "id": "521d0095-3a76-4be5-a7e9-fddf9563347e",
   "metadata": {},
   "outputs": [],
   "source": [
    "# Get two-electron indices\n",
    "two_el_ex_labels = {i.split('.')[0].replace(\"GMJ_RHS_\",\"\"):[re.sub(r'(?<!\\d)0+(\\d+)', r'\\1', j) for j in pd.read_csv(i,header=None)[0].values] for i in glob(\"GMJ_RHS_*.csv\")}\n",
    "\n",
    "pair_labels = {i.split('.')[0].replace(\"GMJ_RHS_\",\"\"):['_'.join(re.sub(r'(?<!\\d)0+(\\d+)', r'\\1', j).split('_')[0:2]) for j in pd.read_csv(i,header=None)[0].values] for i in glob(\"GMJ_RHS_*.csv\")}"
   ]
  },
  {
   "cell_type": "code",
   "execution_count": null,
   "id": "ce300d06-a80f-447b-9b4d-791b238ca662",
   "metadata": {},
   "outputs": [],
   "source": [
    "np.genfromtxt('GMJ_e2_C.csv',skip_header=True).flatten().sum()+np.genfromtxt('GMJ_e2_F_P.csv',skip_header=True).flatten().sum()"
   ]
  },
  {
   "cell_type": "code",
   "execution_count": null,
   "id": "d84a52ed-8ac9-4311-ac5d-88ae50b3791c",
   "metadata": {},
   "outputs": [],
   "source": [
    "def strip(lst):   \n",
    "    return '_'.join(re.sub(r'(?<!\\d)0+(\\d+)', r'\\1', i) for i in lst.split('_'))"
   ]
  },
  {
   "cell_type": "markdown",
   "id": "b6b87f04-7564-42d4-867a-4cd8be078a6d",
   "metadata": {},
   "source": [
    "\n",
    "Dimension check for DDCASPT2: check the ordering of the pair-energies,\n",
    "this notation follows a mix of the papers and code.\n",
    "\n",
    "A (IA->AA): \\ TIUV \\ E$_{ti}$ E$_{uv}$ \\ pqrs=tiuv=0123 \\    \n",
    "B_P (II->AA) (P): \\ IJTU \\ E$_{ti}$ E$_{uj}$ \\ pqrs=tiuj=2031 \\\n",
    "B_M (II->AA) (M): \\ IJTU \\ E$_{ti}$ E$_{uj}$ \\ pqrs=tiuj=2031 \\\n",
    "C (AA->VA): \\ UVAT \\ E$_{at}$ E$_{uv}$ \\ pqrs=atuv=2301 \\\n",
    "D (IA->VA/AV): \\ IUAT/IUTA \\ E$_{ai}$ E$_{tu}$/E$_{ti}$ E$_{au}$ \\ pqrs=(a/t)i(t/a)u=2031 \\\n",
    "E_P (II->AV) (P): \\ IJAT \\ E$_{ti}$ E$_{aj}$ \\ pqrs=tiaj=3021 \\\n",
    "E_M (II->AV) (M): \\ IJAT \\ E$_{ti}$ E$_{aj}$ \\ pqrs=tiaj=3021 \\\n",
    "F_P (AA->VV) (P): \\ TUAB \\ E$_{at}$ E$_{bu}$ \\ pqrs=atbu=2031 \\\n",
    "F_M (AA->VV) (M): \\ TUAB \\ E$_{at}$ E$_{bu}$ \\ pqrs=atbu=2031 \\\n",
    "G_P (IA->VV) (P): \\ ITAB \\ E$_{ai}$ E$_{bt}$ \\ pqrs=aibt=2031 \\\n",
    "G_M (IA->VV) (M): \\ ITAB \\ E$_{ai}$ E$_{bt}$ \\ pqrs=aibt=2031 \\\n",
    "H_P (II->VV) (P): \\ IJAB \\ E$_{ai}$ E$_{bj}$ \\ pqrs=aibj=2031 \\\n",
    "H_M (II->VV) (M): \\ IJAB \\ E$_{ai}$ E$_{bj}$ \\ pqrs=aibj=2031 \\\n"
   ]
  },
  {
   "cell_type": "code",
   "execution_count": null,
   "id": "c5abbfdc-c581-41a0-90d2-e63ba6449d26",
   "metadata": {},
   "outputs": [],
   "source": [
    "RHS = pd.read_csv('GMJ_RHS_C.csv',sep=',',header=None,index_col=0)\n",
    "RHS.index = list(map(strip,RHS.index))\n",
    "IVEC = pd.read_csv('GMJ_IVECW_C.csv',sep='\\s+',header=None,skiprows=[0])\n",
    "e2 = np.genfromtxt('GMJ_e2_C.csv',skip_header=True)"
   ]
  },
  {
   "cell_type": "code",
   "execution_count": null,
   "id": "43b75813-8892-40b0-99a3-db317740d6da",
   "metadata": {},
   "outputs": [],
   "source": [
    "np.hstack([np.array(RHS.index).reshape(-1,1),e2.reshape(-1,1)])"
   ]
  },
  {
   "cell_type": "code",
   "execution_count": null,
   "id": "b77fcbc9-44a8-4561-8924-e09b5d7ff1e3",
   "metadata": {},
   "outputs": [],
   "source": [
    "ordered=pd.read_csv('GMJ_IVECW_C.csv',sep='\\s+', skiprows=[0],header=None).astype(np.float64).dropna(axis=1)\n",
    "\n",
    "ordered.columns=list(range(len(ordered.columns)))\n",
    "\n",
    "ordered=ordered.stack()\n",
    "\n",
    "df=pd.read_csv('GMJ_RHS_C.csv',header=None,delimiter=',',index_col=0)\n",
    "df.index=list(map(strip,df.index))\n",
    "merged=ordered.reset_index().sort_values(by=0).set_index(df.sort_values(by=1).index).sort_values(['level_0','level_1'])    "
   ]
  },
  {
   "cell_type": "code",
   "execution_count": null,
   "id": "a9cd6ab3-d854-419a-a431-9250e622e06b",
   "metadata": {},
   "outputs": [],
   "source": [
    "merged"
   ]
  },
  {
   "cell_type": "code",
   "execution_count": null,
   "id": "64b7ccc1-bed5-434e-ba1f-fbdcfd46b5be",
   "metadata": {},
   "outputs": [],
   "source": [
    "path_check = 'H2.output'"
   ]
  },
  {
   "cell_type": "code",
   "execution_count": null,
   "id": "05b9fa36-ee57-43bb-b17a-150e0bafa56a",
   "metadata": {},
   "outputs": [],
   "source": [
    "E2 = float((grep['-i', 'E2 (Variational):',path_check] | awk['{print $NF }'])())\n",
    "CASSCF_E = float((grep['-i', '::    RASSCF root number  1',path_check] | awk['{print $8 }'])())\n",
    "CASPT2_E = float((grep['-i', '::    CASPT2',path_check] | awk['{print $NF }'])())"
   ]
  },
  {
   "cell_type": "code",
   "execution_count": null,
   "id": "1e49f9c4-22a8-4e8d-b715-f35a6ff248ae",
   "metadata": {},
   "outputs": [],
   "source": [
    "\n",
    "fro=int(subprocess.Popen(f\"grep -i 'Frozen orbitals' {path_check} | tail -n 1\",shell=True,stdout=subprocess.PIPE,stderr=subprocess.STDOUT).communicate()[0].split()[-1])\n",
    "# Number of inactive orbitals\n",
    "inact=int(subprocess.Popen(f\"grep -i 'Inactive orbitals' {path_check} | tail -n 1\",shell=True,stdout=subprocess.PIPE,stderr=subprocess.STDOUT).communicate()[0].split()[-1])\n",
    "# Number of active orbitals\n",
    "act=int(subprocess.Popen(f\"grep -i 'Active orbitals' {path_check} | tail -n 1\",shell=True,stdout=subprocess.PIPE,stderr=subprocess.STDOUT).communicate()[0].split()[-1])\n",
    "# Number of seconary orbitals\n",
    "virt=int(subprocess.Popen(f\"grep -i 'Secondary orbitals' {path_check} | tail -n 1\",shell=True,stdout=subprocess.PIPE,stderr=subprocess.STDOUT).communicate()[0].split()[-1])\n",
    "# Number of basis functions for sanity check\n",
    "bas_check=int(subprocess.Popen(f\"grep -i 'Number of basis functions' {path_check} | tail -n 1\",shell=True,stdout=subprocess.PIPE,stderr=subprocess.STDOUT).communicate()[0].split()[-1])\n",
    "\n",
    "Basis_Indices=[]\n",
    "for i in range(fro):\n",
    "    Basis_Indices.append(f'F{i+1}')\n",
    "for i in range(inact):\n",
    "    Basis_Indices.append(f'I{i+1}')\n",
    "for i in range(act):\n",
    "    Basis_Indices.append(f'A{i+1}')\n",
    "for i in range(virt):\n",
    "    Basis_Indices.append(f'S{i+1}')   "
   ]
  },
  {
   "cell_type": "code",
   "execution_count": null,
   "id": "d2b08dae-fc81-4d18-bf95-c7e7b737eadd",
   "metadata": {},
   "outputs": [],
   "source": [
    "Basis_Indices"
   ]
  },
  {
   "cell_type": "code",
   "execution_count": null,
   "id": "d2c9f8f2-fc2e-4b17-bfef-396c197cf617",
   "metadata": {},
   "outputs": [],
   "source": [
    "indexarr = np.array([i.split('_') for i in df.index])"
   ]
  },
  {
   "cell_type": "code",
   "execution_count": null,
   "id": "edb26633-f90a-40c0-8c70-694413dc0b55",
   "metadata": {},
   "outputs": [],
   "source": [
    "np.unique(indexarr[:,0]).shape,np.unique(indexarr[:,1]).shape,np.unique(indexarr[:,2]).shape,np.unique(indexarr[:,3]).shape"
   ]
  },
  {
   "cell_type": "code",
   "execution_count": null,
   "id": "435ac261-e8e3-4e48-a050-c416276318c3",
   "metadata": {},
   "outputs": [],
   "source": [
    "df.index.values"
   ]
  },
  {
   "cell_type": "code",
   "execution_count": null,
   "id": "0cd5c401-dd0d-4fa4-9cef-97bde866cf19",
   "metadata": {},
   "outputs": [],
   "source": [
    "sorted([i.split('_') for i in df.index.values],key= lambda x: (x[2],x[3],x[0],x[1]))"
   ]
  },
  {
   "cell_type": "code",
   "execution_count": null,
   "id": "7c0f5c7b-8aea-4273-b821-19a4574c137e",
   "metadata": {},
   "outputs": [],
   "source": []
  }
 ],
 "metadata": {
  "kernelspec": {
   "display_name": "Python 3 (ipykernel)",
   "language": "python",
   "name": "python3"
  },
  "language_info": {
   "codemirror_mode": {
    "name": "ipython",
    "version": 3
   },
   "file_extension": ".py",
   "mimetype": "text/x-python",
   "name": "python",
   "nbconvert_exporter": "python",
   "pygments_lexer": "ipython3",
   "version": "3.10.4"
  }
 },
 "nbformat": 4,
 "nbformat_minor": 5
}
