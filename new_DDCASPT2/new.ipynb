{
 "cells": [
  {
   "cell_type": "code",
   "execution_count": 1,
   "id": "d3bafaef-922b-469c-b2b1-100bb4dbf134",
   "metadata": {},
   "outputs": [],
   "source": [
    "import sys\n",
    "# !{sys.executable} -m pip install --upgrade  xeus-python notebook\n",
    "#######################################################\n",
    "#Import packages\n",
    "import numpy as np\n",
    "import os\n",
    "os.environ['MOLCAS']='/home/grierjones/Test/build'\n",
    "os.environ['MOLCAS_WORKDIR']='/tmp'\n",
    "import re\n",
    "from math import sin, cos, pi\n",
    "from glob import glob\n",
    "import subprocess\n",
    "import pickle\n",
    "from subprocess import call, check_output\n",
    "import pandas as pd\n",
    "# import psi4\n",
    "from joblib import Parallel,effective_n_jobs,delayed\n",
    "from time import time\n",
    "import matplotlib.pyplot as plt\n",
    "from plumbum.cmd import grep, awk\n",
    "\n",
    "import shutil\n",
    "import random\n",
    "import sklearn\n",
    "from shutil import copy\n",
    "import csv\n",
    "import h5py as h5\n",
    "import seaborn as sns; sns.set(style=\"ticks\", color_codes=True)\n",
    "\n",
    "from sklearn.model_selection import train_test_split"
   ]
  },
  {
   "cell_type": "markdown",
   "id": "73ab660f-27c2-4df0-8443-55baa779dd0c",
   "metadata": {},
   "source": [
    "# To-do \n",
    "- Two-electron integral features\n",
    "- CASSCF Fock matrix\n",
    "- SCF Fock matrix\n",
    "- SCF MO features\n",
    "- CASSCF MO features\n",
    "- Generality"
   ]
  },
  {
   "cell_type": "code",
   "execution_count": 2,
   "id": "67777916-0f59-4197-a0e2-28a5887b281c",
   "metadata": {},
   "outputs": [],
   "source": [
    "#######################################################\n",
    "# Obital labels\n",
    "## Inactive i,j\n",
    "## Active t,u,v\n",
    "## Virtual a,b\n",
    "\n",
    "## Type 1: IA->AA\n",
    "## Type 2: II->AA (P)\n",
    "## Type 3: II->AA (M)\n",
    "## Type 4: AA->VA\n",
    "## Type 5: IA->VA/AV\n",
    "## Type 6: II->AV (P)\n",
    "## Type 7: II->AV (M)\n",
    "## Type 8: AA->VV (P)\n",
    "## Type 9: AA->VV (M)\n",
    "## Type 10: IA->VV (P)\n",
    "## Type 11: IA->VV (M)\n",
    "## Type 12: II->VV (P)\n",
    "## Type 13: II->VV (M)\n",
    "\n",
    "## A: IA->AA\n",
    "## B: II->AA\n",
    "## C: AA->VA\n",
    "## D: IA->VA/AV\n",
    "## E: II->AV\n",
    "## F: AA->VV\n",
    "## G: IA->VV \n",
    "## H: II->VV\n",
    "#######################################################\n"
   ]
  },
  {
   "cell_type": "code",
   "execution_count": 3,
   "id": "34e60803-33ce-452e-bcd9-d82f052f331b",
   "metadata": {},
   "outputs": [],
   "source": [
    "# Delete excessive extra files\n",
    "def del_useless():\n",
    "    '''\n",
    "    Delete the extra files\n",
    "    '''\n",
    "    for root, dirs, files in os.walk(os.getcwd()):\n",
    "        for file in files:\n",
    "            for j in ['status','GssOrb','LprOrb','LoProp','guessorb','xmldump','RasOrb','SpdOrb']:\n",
    "                if j in file:\n",
    "    #                 print(root,dirs,file)\n",
    "                    os.remove(os.path.join(root,file))"
   ]
  },
  {
   "cell_type": "code",
   "execution_count": 4,
   "id": "e722a4cf-cd61-4567-afcf-843a5808795c",
   "metadata": {},
   "outputs": [],
   "source": [
    "# When restarting a setr of calculations just clear everyting out\n",
    "def clean_dir():\n",
    "    for entry in os.scandir(path=os.getcwd()):\n",
    "        if entry.is_dir():\n",
    "            if entry.name=='Fock':\n",
    "                shutil.rmtree(entry.name)\n",
    "            if entry.name=='hdf5':\n",
    "                shutil.rmtree(entry.name)\n",
    "            if entry.name=='e2':\n",
    "                shutil.rmtree(entry.name)                \n",
    "            if entry.name=='Labels':\n",
    "                shutil.rmtree(entry.name)\n",
    "            if entry.name=='Coords':\n",
    "                shutil.rmtree(entry.name)\n",
    "            if 'dir' in entry.name:\n",
    "                shutil.rmtree(entry.name)\n",
    "                \n"
   ]
  },
  {
   "cell_type": "code",
   "execution_count": 5,
   "id": "163bc16d-beea-4201-81e3-69a0b05b32a0",
   "metadata": {},
   "outputs": [],
   "source": [
    "def gen_gateway(name,basis_set):\n",
    "    string=f'''&GATEWAY \n",
    "coord={f'{name}.xyz'}\n",
    "Basis = {basis_set}\n",
    "Group = nosymm\n",
    "Expert\n",
    "End of Input\n",
    "\n",
    "'''\n",
    "    return string\n",
    "\n",
    "def gen_seward():\n",
    "    string=f'''&SEWARD\n",
    "End of Input\n",
    "\n",
    "'''\n",
    "    return string\n",
    "\n",
    "def gen_motra(name):\n",
    "    string=f'''&MOTRA\n",
    "Frozen=0\n",
    "LUMORB\n",
    ">>> COPY $WorkDir/GMJ_one_int_indx.csv $CurrDir/{name}.GMJ_one_int_indx.csv\n",
    ">>> COPY $WorkDir/GMJ_one_int.csv $CurrDir/{name}.GMJ_one_int.csv\n",
    ">>> COPY $WorkDir/GMJ_two_int_indx.csv $CurrDir/{name}.GMJ_two_int_indx.csv\n",
    ">>> COPY $WorkDir/GMJ_two_int.csv $CurrDir/{name}.GMJ_two_int.csv\n",
    "\n",
    "'''\n",
    "    return string\n",
    "\n",
    "def gen_scf(name):\n",
    "    string=f\"\"\"&SCF &END\n",
    ">>> COPY $WorkDir/{name}.scf.h5 $CurrDir/\n",
    "\n",
    "\"\"\"\n",
    "    return string    \n",
    "\n",
    "\n",
    "def gen_rasscf(name,electrons,occupied,inactive,symmetry=1,spin=1,previous=None):\n",
    "    start_string=\"\"\"&RASSCF &END\n",
    "Title= RASSCF\n",
    "\"\"\"\n",
    "    if previous!=None:\n",
    "        fileorb=f\"\"\"FileOrb\n",
    "{previous}\n",
    "\"\"\"\n",
    "    else:\n",
    "        fileorb=''\n",
    "\n",
    "    end_string=f\"\"\"NACTEL\n",
    "{electrons} 0 0\n",
    "Inactive\n",
    "{inactive}\n",
    "RAS2\n",
    "{occupied}\n",
    "Symmetry\n",
    "{symmetry}\n",
    "Spin\n",
    "{spin}\n",
    "orblisting\n",
    "all\n",
    "ITERation\n",
    "200 100\n",
    "CIMX\n",
    "200\n",
    "SDAV\n",
    "500\n",
    "\n",
    ">>> COPY $WorkDir/{name}.rasscf.h5 $CurrDir/\n",
    ">>> COPY $WorkDir/GMJ_Fock_MO.csv $CurrDir/{name}.GMJ_Fock_MO.csv\n",
    ">>> COPY $WorkDir/GMJ_PT2_Fock_MO.csv $CurrDir/{name}.GMJ_PT2_Fock_MO.csv\n",
    "\n",
    "\"\"\"\n",
    "    return start_string+fileorb+end_string \n",
    "\n",
    "def gen_caspt2():\n",
    "    string=\"\"\"&CASPT2 &END\n",
    "Frozen \n",
    "0\n",
    "\n",
    ">>foreach i in (B,E,F,G,H)\n",
    ">>foreach j in (P,M)\n",
    ">>if ( -FILE GMJ_e2_${i}_${j}.csv )\n",
    ">>> COPY $WorkDir/GMJ_RHS_${i}_${j}.csv $CurrDir/GMJ_RHS_${i}_${j}.csv\n",
    ">>> COPY $WorkDir/GMJ_IVECW_${i}_${j}.csv $CurrDir/GMJ_IVECW_${i}_${j}.csv\n",
    ">>> COPY $WorkDir/GMJ_IVECX_${i}_${j}.csv $CurrDir/GMJ_IVECX_${i}_${j}.csv\n",
    ">>> COPY $WorkDir/GMJ_IVECC2_${i}_${j}.csv $CurrDir/GMJ_IVECC2_${i}_${j}.csv\n",
    ">>> COPY $WorkDir/GMJ_e2_${i}_${j}.csv $CurrDir/GMJ_e2_${i}_${j}.csv\n",
    ">>endif\n",
    ">>enddo\n",
    ">>enddo\n",
    "\n",
    ">>foreach i in (A,C,D)\n",
    ">>if ( -FILE GMJ_e2_$i.csv )\n",
    ">>> COPY $WorkDir/GMJ_RHS_$i.csv $CurrDir/GMJ_RHS_$i.csv\n",
    ">>> COPY $WorkDir/GMJ_IVECW_$i.csv $CurrDir/GMJ_IVECW_$i.csv\n",
    ">>> COPY $WorkDir/GMJ_IVECX_$i.csv $CurrDir/GMJ_IVECX_$i.csv\n",
    ">>> COPY $WorkDir/GMJ_IVECC2_$i.csv $CurrDir/GMJ_IVECC2_$i.csv\n",
    ">>> COPY $WorkDir/GMJ_e2_$i.csv $CurrDir/GMJ_e2_$i.csv\n",
    ">>endif\n",
    ">>enddo\n",
    "\n",
    "\"\"\"\n",
    "    return string    \n",
    "\n",
    "\n",
    "\n"
   ]
  },
  {
   "cell_type": "code",
   "execution_count": 6,
   "id": "60cd2d23-0fd4-4753-a7e1-847dafd59682",
   "metadata": {},
   "outputs": [],
   "source": [
    "basis_set='ANO-RCC-VDZP'\n",
    "top=os.getcwd()"
   ]
  },
  {
   "cell_type": "code",
   "execution_count": 7,
   "id": "ca2f9a9f-f2fc-441d-919e-b5d9772828fb",
   "metadata": {},
   "outputs": [],
   "source": [
    "# with open(os.path.join(f'O3_106.00.xyz'),'w') as f:\n",
    "#     f.write(f'2\\n\\n')\n",
    "#     for j in range(2):\n",
    "#         f.write(f'H {0:>8f} {0:>8f} {j*0.94:>8f}\\n')"
   ]
  },
  {
   "cell_type": "code",
   "execution_count": 8,
   "id": "17926642-1d5a-4336-b4bb-abd611183a34",
   "metadata": {},
   "outputs": [],
   "source": [
    "def write_input(path,basis_set,name,electrons,occupied,inactive,previous=None):\n",
    "       # Write input\n",
    "        with open(os.path.join(path,f'{name}.input'),'wb') as g:\n",
    "            g.write(gen_gateway(name,basis_set).encode())\n",
    "            g.write(gen_seward().encode())\n",
    "            g.write(gen_scf(name).encode())   \n",
    "            g.write(gen_rasscf(name,electrons,occupied,inactive,previous=previous).encode())\n",
    "            g.write(gen_motra(name).encode())\n",
    "            g.write(gen_caspt2().encode())    "
   ]
  },
  {
   "cell_type": "code",
   "execution_count": 9,
   "id": "84cbf0d4-63c2-4d14-beaf-d0f7066ff711",
   "metadata": {},
   "outputs": [],
   "source": [
    "# write_input('./',basis_set,'O3_106.00',2,2,0,previous=None)\n",
    "write_input('./',basis_set,'O3_106.00',4,3,10,previous=None)"
   ]
  },
  {
   "cell_type": "code",
   "execution_count": 10,
   "id": "8196b9ff-9b6e-4b86-8746-a3c85454b77a",
   "metadata": {},
   "outputs": [
    {
     "data": {
      "text/plain": [
       "0"
      ]
     },
     "execution_count": 10,
     "metadata": {},
     "output_type": "execute_result"
    }
   ],
   "source": [
    "call(['pymolcas','-new','-clean',f'O3_106.00.input', '-oe', f'O3_106.00.output'])"
   ]
  },
  {
   "cell_type": "code",
   "execution_count": 11,
   "id": "ea10109d-bd18-41eb-a05d-210dd6009438",
   "metadata": {},
   "outputs": [],
   "source": [
    "# Grab energies\n",
    "path_check = 'O3_106.00.output'\n",
    "\n",
    "E2 = float((grep['-i', 'E2 (Variational):',path_check] | awk['{print $NF }'])())\n",
    "CASSCF_E = float((grep['-i', '::    RASSCF root number  1',path_check] | awk['{print $8 }'])())\n",
    "CASPT2_E = float((grep['-i', '::    CASPT2',path_check] | awk['{print $NF }'])())\n",
    "\n",
    "#Grab basis information\n",
    "fro=int(subprocess.Popen(f\"grep -i 'Frozen orbitals' {path_check} | tail -n 1\",shell=True,stdout=subprocess.PIPE,stderr=subprocess.STDOUT).communicate()[0].split()[-1])\n",
    "# Number of inactive orbitals\n",
    "inact=int(subprocess.Popen(f\"grep -i 'Inactive orbitals' {path_check} | tail -n 1\",shell=True,stdout=subprocess.PIPE,stderr=subprocess.STDOUT).communicate()[0].split()[-1])\n",
    "# Number of active orbitals\n",
    "act=int(subprocess.Popen(f\"grep -i 'Active orbitals' {path_check} | tail -n 1\",shell=True,stdout=subprocess.PIPE,stderr=subprocess.STDOUT).communicate()[0].split()[-1])\n",
    "# Number of seconary orbitals\n",
    "virt=int(subprocess.Popen(f\"grep -i 'Secondary orbitals' {path_check} | tail -n 1\",shell=True,stdout=subprocess.PIPE,stderr=subprocess.STDOUT).communicate()[0].split()[-1])\n",
    "# Number of basis functions for sanity check\n",
    "bas_check=int(subprocess.Popen(f\"grep -i 'Number of basis functions' {path_check} | tail -n 1\",shell=True,stdout=subprocess.PIPE,stderr=subprocess.STDOUT).communicate()[0].split()[-1])\n",
    "\n",
    "Basis_Indices=[]\n",
    "for i in range(fro):\n",
    "    Basis_Indices.append(f'F{i+1}')\n",
    "for i in range(inact):\n",
    "    Basis_Indices.append(f'I{i+1}')\n",
    "for i in range(act):\n",
    "    Basis_Indices.append(f'A{i+1}')\n",
    "for i in range(virt):\n",
    "    Basis_Indices.append(f'S{i+1}')   \n",
    "\n",
    "\n",
    "basis_dict = {v:k for k,v in dict(enumerate(Basis_Indices)).items()}"
   ]
  },
  {
   "cell_type": "code",
   "execution_count": null,
   "id": "c8ebab0e-e008-4532-9608-abb979d7c2a1",
   "metadata": {},
   "outputs": [],
   "source": []
  },
  {
   "cell_type": "code",
   "execution_count": 12,
   "id": "a7f26592-dbc7-40c2-af70-f75e6b35ca7c",
   "metadata": {},
   "outputs": [],
   "source": [
    "# Load the PT2 Fock elements\n",
    "# Columns are as follows:\n",
    "# IT,IU,F(global index),FI(global index),fa(global index),d(global index)\n",
    "pt2fock = 'O3_106.00.GMJ_PT2_Fock_MO.csv'\n",
    "pt2fock_values = np.nan_to_num(np.fromfile(pt2fock,dtype=float).reshape(-1,6)[:,3:])\n",
    "pt2fock_idx = np.fromfile(pt2fock,dtype=int).reshape(-1,6)[:,0:3]-1\n",
    "pt2fock_stacked = np.hstack([pt2fock_idx,pt2fock_values])\n"
   ]
  },
  {
   "cell_type": "code",
   "execution_count": null,
   "id": "46188b2a-16cf-47e3-99ae-c3284acbb9c0",
   "metadata": {},
   "outputs": [],
   "source": [
    "\n"
   ]
  },
  {
   "cell_type": "code",
   "execution_count": 13,
   "id": "87e871f4-04b1-4270-a032-79d7f39fc6dc",
   "metadata": {},
   "outputs": [],
   "source": [
    "# Read CASSCF Fock from file\n",
    "CASSCF_fock = np.fromfile('O3_106.00.GMJ_Fock_MO.csv')"
   ]
  },
  {
   "cell_type": "code",
   "execution_count": 14,
   "id": "1e8dfd7a-1605-462c-b34e-17eab45bfc82",
   "metadata": {},
   "outputs": [],
   "source": [
    "# Load one-electron integrals\n",
    "oneelint = np.fromfile('O3_106.00.GMJ_one_int.csv').reshape(-1,1)\n",
    "oneelint_idx = np.fromfile('O3_106.00.GMJ_one_int_indx.csv',dtype=int).reshape(-1,4)[:,0:2]-1\n",
    "h_stacked = np.hstack([oneelint_idx,oneelint])\n",
    "\n",
    "# Load two-electron integrals\n",
    "twoelint = np.fromfile('O3_106.00.GMJ_two_int.csv').reshape(-1,1)\n",
    "twoelint_idx = np.fromfile('O3_106.00.GMJ_two_int_indx.csv',dtype=int).reshape(-1,4)-1\n",
    "twostacked = np.hstack([twoelint_idx,twoelint])"
   ]
  },
  {
   "cell_type": "code",
   "execution_count": 15,
   "id": "45236a59-d6f4-4a5e-aba7-99df744fd7ee",
   "metadata": {},
   "outputs": [],
   "source": [
    "# Grab rasscf and scf hdf5 data\n",
    "rasscf_h5 = h5.File('O3_106.00.rasscf.h5', 'r')\n",
    "scf_h5 = h5.File('O3_106.00.scf.h5', 'r')\n",
    "\n",
    "datasetNames = [n for n in rasscf_h5.keys()]\n",
    "NBAS = rasscf_h5.attrs['NBAS']\n",
    "NACTEL = rasscf_h5.attrs['NACTEL']\n",
    "\n",
    "#Keys: MO_VECTORS, MO_ENERGIES, MO_OCCUPATIONS\n",
    "casMO_dict = {k:np.array(rasscf_h5[k]) for k in datasetNames if \"MO\" in k}\n",
    "scfMO_dict = {k:np.array(scf_h5[k]) for k in datasetNames if \"MO\" in k}"
   ]
  },
  {
   "cell_type": "code",
   "execution_count": 16,
   "id": "521d0095-3a76-4be5-a7e9-fddf9563347e",
   "metadata": {},
   "outputs": [],
   "source": [
    "# Get two-electron indices\n",
    "two_el_ex_labels = {i.split('.')[0].replace(\"GMJ_RHS_\",\"\"):[re.sub(r'(?<!\\d)0+(\\d+)', r'\\1', j) for j in pd.read_csv(i,header=None)[0].values] for i in glob(\"GMJ_RHS_*.csv\")}\n",
    "\n",
    "pair_labels = {i.split('.')[0].replace(\"GMJ_RHS_\",\"\"):['_'.join(re.sub(r'(?<!\\d)0+(\\d+)', r'\\1', j).split('_')[0:2]) for j in pd.read_csv(i,header=None)[0].values] for i in glob(\"GMJ_RHS_*.csv\")}"
   ]
  },
  {
   "cell_type": "code",
   "execution_count": 17,
   "id": "ce300d06-a80f-447b-9b4d-791b238ca662",
   "metadata": {},
   "outputs": [
    {
     "data": {
      "text/plain": [
       "np.float64(-0.023455826504621642)"
      ]
     },
     "execution_count": 17,
     "metadata": {},
     "output_type": "execute_result"
    }
   ],
   "source": [
    "np.genfromtxt('GMJ_e2_C.csv',skip_header=True).flatten().sum()+np.genfromtxt('GMJ_e2_F_P.csv',skip_header=True).flatten().sum()"
   ]
  },
  {
   "cell_type": "code",
   "execution_count": 18,
   "id": "d84a52ed-8ac9-4311-ac5d-88ae50b3791c",
   "metadata": {},
   "outputs": [],
   "source": [
    "def strip(lst):   \n",
    "    return '_'.join(re.sub(r'(?<!\\d)0+(\\d+)', r'\\1', i) for i in lst.split('_'))"
   ]
  },
  {
   "cell_type": "markdown",
   "id": "b6b87f04-7564-42d4-867a-4cd8be078a6d",
   "metadata": {},
   "source": [
    "\n",
    "Dimension check for DDCASPT2: check the ordering of the pair-energies,\n",
    "this notation follows a mix of the papers and code.\n",
    "\n",
    "A (IA->AA): \\ TIUV \\ E$_{ti}$ E$_{uv}$ \\ pqrs=tiuv=0123 \\    \n",
    "B_P (II->AA) (P): \\ IJTU \\ E$_{ti}$ E$_{uj}$ \\ pqrs=tiuj=2031 \\\n",
    "B_M (II->AA) (M): \\ IJTU \\ E$_{ti}$ E$_{uj}$ \\ pqrs=tiuj=2031 \\\n",
    "C (AA->VA): \\ UVAT \\ E$_{at}$ E$_{uv}$ \\ pqrs=atuv=2301 \\\n",
    "D (IA->VA/AV): \\ IUAT/IUTA \\ E$_{ai}$ E$_{tu}$/E$_{ti}$ E$_{au}$ \\ pqrs=(a/t)i(t/a)u=2031 \\\n",
    "E_P (II->AV) (P): \\ IJAT \\ E$_{ti}$ E$_{aj}$ \\ pqrs=tiaj=3021 \\\n",
    "E_M (II->AV) (M): \\ IJAT \\ E$_{ti}$ E$_{aj}$ \\ pqrs=tiaj=3021 \\\n",
    "F_P (AA->VV) (P): \\ TUAB \\ E$_{at}$ E$_{bu}$ \\ pqrs=atbu=2031 \\\n",
    "F_M (AA->VV) (M): \\ TUAB \\ E$_{at}$ E$_{bu}$ \\ pqrs=atbu=2031 \\\n",
    "G_P (IA->VV) (P): \\ ITAB \\ E$_{ai}$ E$_{bt}$ \\ pqrs=aibt=2031 \\\n",
    "G_M (IA->VV) (M): \\ ITAB \\ E$_{ai}$ E$_{bt}$ \\ pqrs=aibt=2031 \\\n",
    "H_P (II->VV) (P): \\ IJAB \\ E$_{ai}$ E$_{bj}$ \\ pqrs=aibj=2031 \\\n",
    "H_M (II->VV) (M): \\ IJAB \\ E$_{ai}$ E$_{bj}$ \\ pqrs=aibj=2031 \\\n"
   ]
  },
  {
   "cell_type": "code",
   "execution_count": 19,
   "id": "4dc8bf25-406b-4453-bf8e-d497a4b19679",
   "metadata": {},
   "outputs": [],
   "source": [
    "# CASPT2 E_pq E_rs ordering\n",
    "index_dict = {\"A\":{\"p\":0,\"q\":1,\"r\":2,\"s\":3},\n",
    "\"B_P\":{\"p\":2,\"q\":0,\"r\":3,\"s\":1},\n",
    "\"B_M\":{\"p\":2,\"q\":0,\"r\":3,\"s\":1},\n",
    "\"C\":{\"p\":2,\"q\":3,\"r\":0,\"s\":1},\n",
    "\"D\":{\"p\":2,\"q\":0,\"r\":3,\"s\":1},\n",
    "\"E_P\":{\"p\":3,\"q\":0,\"r\":2,\"s\":1},\n",
    "\"E_M\":{\"p\":3,\"q\":0,\"r\":2,\"s\":1},\n",
    "\"F_P\":{\"p\":2,\"q\":0,\"r\":3,\"s\":1},\n",
    "\"F_M\":{\"p\":2,\"q\":0,\"r\":3,\"s\":1},\n",
    "\"G_P\":{\"p\":2,\"q\":0,\"r\":3,\"s\":1},\n",
    "\"G_M\":{\"p\":2,\"q\":0,\"r\":3,\"s\":1},\n",
    "\"H_P\":{\"p\":2,\"q\":0,\"r\":3,\"s\":1},\n",
    "\"H_M\":{\"p\":2,\"q\":0,\"r\":3,\"s\":1}}"
   ]
  },
  {
   "cell_type": "code",
   "execution_count": 33,
   "id": "4477ad08-bfe9-4c88-a452-644e30cd0390",
   "metadata": {},
   "outputs": [],
   "source": [
    "typedict = {v:k for k,v in dict(enumerate([\"A\", \"B_P\", \"B_M\", \"C\", \"D\", \"E_P\", \"E_M\", \"F_P\", \"F_M\", \"G_P\", \"G_M\", \"H_P\", \"H_M\"])).items()}"
   ]
  },
  {
   "cell_type": "code",
   "execution_count": 34,
   "id": "efa968a4-9aeb-4d21-b268-a5c260a298ce",
   "metadata": {},
   "outputs": [
    {
     "data": {
      "text/plain": [
       "{'A': 0,\n",
       " 'B_P': 1,\n",
       " 'B_M': 2,\n",
       " 'C': 3,\n",
       " 'D': 4,\n",
       " 'E_P': 5,\n",
       " 'E_M': 6,\n",
       " 'F_P': 7,\n",
       " 'F_M': 8,\n",
       " 'G_P': 9,\n",
       " 'G_M': 10,\n",
       " 'H_P': 11,\n",
       " 'H_M': 12}"
      ]
     },
     "execution_count": 34,
     "metadata": {},
     "output_type": "execute_result"
    }
   ],
   "source": [
    "typedict"
   ]
  },
  {
   "cell_type": "code",
   "execution_count": 20,
   "id": "055959b4-5119-4dff-8f1f-5521bcdcc153",
   "metadata": {},
   "outputs": [],
   "source": [
    "# IVECW and IRHS should have same indices\n",
    "# Same as IVECC2, it should all be element wise\n",
    "pairs = []\n",
    "for i in glob('GMJ_e2_*.csv'):\n",
    "    typ = i.split('.')[0].replace('GMJ_e2_','')\n",
    "    # print(typ)\n",
    "    IVEC = pd.read_csv(f'GMJ_IVECW_{typ}.csv',sep='\\s+',header=None,skiprows=[0])\n",
    "    RHS = pd.read_csv(f'GMJ_RHS_{typ}.csv',sep=',',header=None,index_col=0)\n",
    "    RHS.index = list(map(strip,RHS.index))\n",
    "    RHS = np.array(RHS.index).reshape(IVEC.shape)\n",
    "    \n",
    "    e2 = np.genfromtxt(f'GMJ_e2_{typ}.csv',skip_header=True)\n",
    "    IVECX = pd.read_csv(f'GMJ_IVECX_{typ}.csv',sep='\\s+',header=None,skiprows=[0])\n",
    "    IVECC2 = pd.read_csv(f'GMJ_IVECC2_{typ}.csv',sep='\\s+',header=None,skiprows=[0])    \n",
    "    for idxi,i in enumerate(RHS):\n",
    "        for idxj,j in enumerate(i):\n",
    "            # Split the index and enforce a standardization of p,q,r,s \n",
    "            split_index = j.split('_')\n",
    "            type_idx = index_dict[typ]\n",
    "            p,q,r,s = split_index[type_idx['p']],split_index[type_idx['q']],split_index[type_idx['r']],split_index[type_idx['s']]\n",
    "            # typ, pq,rs,qs,e2\n",
    "            pairs.append((typ,'_'.join((p,q)),'_'.join((r,s)),'_'.join((q,s)),e2[idxi,idxj]))\n",
    "\n",
    "pairs = np.array(pairs)"
   ]
  },
  {
   "cell_type": "code",
   "execution_count": 21,
   "id": "2ddd73b0-b318-421c-bcb6-b3558800c186",
   "metadata": {},
   "outputs": [],
   "source": [
    "# qs pairs!\n",
    "uniquepairs = np.unique(pairs[:,3])"
   ]
  },
  {
   "cell_type": "code",
   "execution_count": 24,
   "id": "7c230ca9-b9c4-4c8a-bdc7-5c62f959bebd",
   "metadata": {},
   "outputs": [],
   "source": [
    "def caspt2_fock_indexing(u,v):\n",
    "    '''\n",
    "    Fast way to generate feature labels for the CASPT2 style Fock featues\n",
    "    '''\n",
    "    return [\"F$_{\"+f\"{u}{v}\"+\"}$\",\"FI$_{\"+f\"{u}{v}\"+\"}$\",\"FA$_{\"+f\"{u}{v}\"+\"}$\",\"D$_{\"+f\"{u}{v}\"+\"}$\"]"
   ]
  },
  {
   "cell_type": "code",
   "execution_count": 72,
   "id": "c9613305-29a7-453a-be3f-63bc4921a608",
   "metadata": {},
   "outputs": [
    {
     "name": "stderr",
     "output_type": "stream",
     "text": [
      "/tmp/ipykernel_87342/2709188180.py:53: FutureWarning: Setting an item of incompatible dtype is deprecated and will raise an error in a future version of pandas. Value '-0.009174916375607235' has dtype incompatible with int64, please explicitly cast to a compatible dtype first.\n",
      "  pairenergy_df.loc[i] = pairenergy\n"
     ]
    }
   ],
   "source": [
    "checkE2=0\n",
    "pairenergy_df = pd.DataFrame(range(len(uniquepairs)),index=uniquepairs,columns=['Pair_Energies'])\n",
    "\n",
    "h_features = []\n",
    "CASPT2Fockfeatures = []\n",
    "b4_type = []\n",
    "binary_feat = []\n",
    "for i in uniquepairs:\n",
    "    q,s = i.split('_')\n",
    "    qidx = basis_dict[q]\n",
    "    sidx = basis_dict[s]\n",
    "\n",
    "    # From same orbital = 1, else 0\n",
    "    if q==s:\n",
    "        binary_feat.append((i,1))\n",
    "    else:\n",
    "        binary_feat.append((i,0))\n",
    "\n",
    "    # CASPT2 style Fock features\n",
    "    if qidx>=sidx:\n",
    "        CASPT2Fockfeatures.append((i,dict(zip(caspt2_fock_indexing('q','s'),pt2fock_stacked[:,2:][(pt2fock_stacked[:,0]==qidx)&(pt2fock_stacked[:,1]==sidx)].flatten()))))\n",
    "    else:\n",
    "        CASPT2Fockfeatures.append((i,dict(zip(caspt2_fock_indexing('q','s'),pt2fock_stacked[:,2:][(pt2fock_stacked[:,0]==sidx)&(pt2fock_stacked[:,1]==qidx)].flatten()))))\n",
    "\n",
    "    # Get the pair-energies that share the same qs\n",
    "    subpairs = pairs[pairs[:,3]==i]\n",
    "\n",
    "    # Grab the largest 4 two-electron contributers\n",
    "    best4 = subpairs[np.argsort(abs(subpairs[:,-1].astype(float)))][-4:]\n",
    "\n",
    "    # Loop over best four \n",
    "    for b4idx, (typ, pq, rs) in enumerate(best4[:,0:3]):\n",
    "        b4_type.append((i,f\"typ_{b4idx}\",typedict[typ]))\n",
    "        p,q = pq.split('_')\n",
    "        r,s = rs.split('_')\n",
    "        pidx = basis_dict[p]\n",
    "        qidx = basis_dict[q]\n",
    "        ridx = basis_dict[r]\n",
    "        sidx = basis_dict[s]\n",
    "    \n",
    "        # Set of label index pairs\n",
    "        pqrsindex_dict = {\"p\":[p,pidx],\"q\":[q,qidx],\"r\":[r,ridx],\"s\":[s,sidx]}\n",
    "\n",
    "        # All possible two-index pairs\n",
    "        twoidxpairs = [['p','q'],['r','s'],['p','r'],['q','s']]\n",
    "        # h_{ij} features\n",
    "        for u,v in twoidxpairs:\n",
    "            u_item, u_idx = pqrsindex_dict[u]\n",
    "            v_item, v_idx = pqrsindex_dict[v]\n",
    "            if u_idx>=v_idx:\n",
    "                h_features.append((i,\"h$_{\"+f\"{u}{v}\"+\"}^{\"+f\"{b4idx}\"+\"}$\",h_stacked[(oneelint_idx[:,0]==u_idx)&(oneelint_idx[:,1]==v_idx)].flatten()[-1]))     \n",
    "            else:\n",
    "                h_features.append((i,\"h$_{\"+f\"{u}{v}\"+\"}^{\"+f\"{b4idx}\"+\"}$\",h_stacked[(oneelint_idx[:,0]==v_idx)&(oneelint_idx[:,1]==u_idx)].flatten()[-1]))\n",
    "            \n",
    "\n",
    "    \n",
    "    # Pair-energies\n",
    "    pairenergy = np.sum(subpairs[:,-1].astype(float))\n",
    "    pairenergy_df.loc[i] = pairenergy\n",
    "    checkE2 += pairenergy"
   ]
  },
  {
   "cell_type": "code",
   "execution_count": 79,
   "id": "0cf4f72a-9d4f-4eaa-a457-141daa20b3f0",
   "metadata": {},
   "outputs": [
    {
     "name": "stdout",
     "output_type": "stream",
     "text": [
      "Pair-energies sum up to calculated correlation energy? True\n"
     ]
    }
   ],
   "source": [
    "print(f\"Pair-energies sum up to calculated correlation energy? {np.isclose(checkE2,E2)}\")"
   ]
  },
  {
   "cell_type": "code",
   "execution_count": 68,
   "id": "94841bd0-aca1-43f5-a8a7-bc2cdfb7008f",
   "metadata": {},
   "outputs": [],
   "source": [
    "# IT,IU,F(global index),FI(global index),fa(global index),d(global index)\n",
    "\n",
    "caspt2fockdf = pd.concat([pd.DataFrame.from_dict(vals,orient='index',columns=[idx]) for idx, vals in CASPT2Fockfeatures],axis=1).T"
   ]
  },
  {
   "cell_type": "code",
   "execution_count": 75,
   "id": "c0ecaafd-160a-49e4-b091-d426ad0e59ba",
   "metadata": {},
   "outputs": [],
   "source": [
    "# binary feature df\n",
    "bindf = pd.DataFrame(binary_feat).set_index(0).rename(columns={0:'binary'})"
   ]
  },
  {
   "cell_type": "code",
   "execution_count": 49,
   "id": "13975bdb-0093-4101-8226-7d376b06b0a8",
   "metadata": {},
   "outputs": [],
   "source": [
    "# one-electron dataframe\n",
    "h_df = pd.DataFrame(h_features).pivot(index=0, columns=1)\n",
    "h_df.columns=h_df.columns.droplevel()\n",
    "h_df.drop(columns=[\"h$_{qs}^{3}$\",\"h$_{qs}^{1}$\",\"h$_{qs}^{2}$\"],inplace=True)\n",
    "h_df.rename(columns={\"h$_{qs}^{0}$\":\"h$_{qs}$\"},inplace=True)\n",
    "\n",
    "# Important 4 types\n",
    "important2e = pd.DataFrame(b4_type).pivot(index=0, columns=1)\n",
    "important2e.columns=important2e.columns.droplevel()"
   ]
  },
  {
   "cell_type": "code",
   "execution_count": 80,
   "id": "172fd33f-3305-45ba-8b81-a2ed6ca1d3ca",
   "metadata": {},
   "outputs": [],
   "source": [
    "# Everything together so far\n",
    "concatdf = pd.concat([h_df,important2e,bindf,caspt2fockdf,pairenergy_df],axis=1)"
   ]
  },
  {
   "cell_type": "code",
   "execution_count": null,
   "id": "2c6689ed-4ced-4b0a-bac6-a4aac0005fb3",
   "metadata": {},
   "outputs": [],
   "source": []
  }
 ],
 "metadata": {
  "kernelspec": {
   "display_name": "Python 3 (ipykernel)",
   "language": "python",
   "name": "python3"
  },
  "language_info": {
   "codemirror_mode": {
    "name": "ipython",
    "version": 3
   },
   "file_extension": ".py",
   "mimetype": "text/x-python",
   "name": "python",
   "nbconvert_exporter": "python",
   "pygments_lexer": "ipython3",
   "version": "3.10.4"
  }
 },
 "nbformat": 4,
 "nbformat_minor": 5
}
