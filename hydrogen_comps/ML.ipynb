{
 "cells": [
  {
   "cell_type": "code",
   "execution_count": null,
   "id": "07f4ed39",
   "metadata": {},
   "outputs": [],
   "source": [
    "# For data generation\n",
    "import sys\n",
    "# !{sys.executable} -m pip install matplotlib --upgrade\n",
    "import shutil\n",
    "import os\n",
    "import numpy as np\n",
    "from glob import glob\n",
    "import re\n",
    "import pandas as pd\n",
    "import pickle\n",
    "#random\n",
    "from time import perf_counter\n",
    "\n",
    "# sklearn\n",
    "from sklearn.preprocessing import StandardScaler\n",
    "from sklearn.metrics import r2_score,root_mean_squared_error,mean_absolute_error,mean_absolute_percentage_error\n",
    "from sklearn.model_selection import train_test_split\n",
    "from sklearn.preprocessing import MinMaxScaler\n",
    "from sklearn.kernel_ridge import KernelRidge\n",
    "from sklearn.model_selection import GridSearchCV\n",
    "\n",
    "\n",
    "#Plotting\n",
    "import seaborn as sns\n",
    "sns.set_style()\n",
    "import matplotlib as mpl\n",
    "import matplotlib.pyplot as plt\n",
    "mpl.rcParams['figure.dpi'] = 200\n",
    "\n",
    "import warnings\n",
    "# warnings.filterwarnings(\"ignore\", category=np.DeprecationWarning) \n",
    "\n",
    "\n",
    "from tqdm.auto import tqdm\n",
    "# from tqdm.notebook import tqdm_notebook as tqdm"
   ]
  },
  {
   "cell_type": "code",
   "execution_count": null,
   "id": "ff2e8569-2d81-4deb-b91c-324e49b2d9fb",
   "metadata": {},
   "outputs": [],
   "source": [
    "with open(os.path.join(os.path.expanduser('~'),'DDCASPT2/drop.txt'),'r') as d:\n",
    "    dropfeat = [i.replace('\\n','') for i in d.readlines()]"
   ]
  },
  {
   "cell_type": "code",
   "execution_count": null,
   "id": "30fd72cf",
   "metadata": {},
   "outputs": [],
   "source": [
    "with open('test_ind.pickle', 'rb') as handle:\n",
    "    test_ind = pickle.load(handle)\n",
    "\n",
    "with open('train_ind.pickle', 'rb') as handle:\n",
    "    train_ind = pickle.load(handle)\n",
    "    \n",
    "print(len(train_ind),len(test_ind))    \n"
   ]
  },
  {
   "cell_type": "code",
   "execution_count": null,
   "id": "999501f4-64c1-449f-a4e8-dfc98da40ca3",
   "metadata": {},
   "outputs": [],
   "source": [
    "len(train_ind)*len(glob('H*')),len(test_ind)*len(glob('H*'))"
   ]
  },
  {
   "cell_type": "code",
   "execution_count": null,
   "id": "7547d465-a8c6-48d4-a1ce-d16aeead4761",
   "metadata": {},
   "outputs": [],
   "source": [
    "len(train_ind)*len([i for i in glob('H*') if '12' not in i]),len(test_ind)*len([i for i in glob('H*') if '12' not in i])"
   ]
  },
  {
   "cell_type": "code",
   "execution_count": null,
   "id": "abe9a7f2-d48e-478f-816f-45f962b200c7",
   "metadata": {},
   "outputs": [],
   "source": [
    "train = []\n",
    "test = []\n",
    "\n",
    "\n",
    "\n",
    "recover_train = []\n",
    "recover_test = []\n",
    "\n",
    "traincnt = 0\n",
    "testcnt = 0\n",
    "for i in sorted(glob('H*')):\n",
    "    print(i)\n",
    "    try:\n",
    "        if int(i.split('_')[0].strip('H'))<=12 and os.path.isdir(i):\n",
    "            for j in glob(os.path.join(i,'H*')):\n",
    "                for k in train_ind:\n",
    "                    if f\"{k:.2f}\" in j:\n",
    "                        traindf = pd.read_csv(os.path.join(j,os.path.basename(j)+'.csv'),compression='zip',index_col=0)\n",
    "                        train.append(traindf)\n",
    "                        recover_train.append((i,f\"{k:.2f}\",traincnt,len(traindf)))\n",
    "                        traincnt+=1\n",
    "                        \n",
    "                for l in test_ind:\n",
    "                    if f\"{l:.2f}\" in j:\n",
    "                        testdf = pd.read_csv(os.path.join(j,os.path.basename(j)+'.csv'),compression='zip',index_col=0)\n",
    "                        test.append(testdf)                    \n",
    "                        recover_test.append((i,f\"{l:.2f}\",testcnt,len(testdf)))\n",
    "                        testcnt+=1\n",
    "    except:\n",
    "        pass"
   ]
  },
  {
   "cell_type": "code",
   "execution_count": null,
   "id": "2c87e078-e070-4e7f-9301-f9067a3960dd",
   "metadata": {},
   "outputs": [],
   "source": [
    "rename = {'h$_{qq}^{0}$':'h$_{q}$',\n",
    "'$(F_{q})_{0}$':'$F_{q}$',\n",
    "'$(F_{q}^{\\\\text{SCF}})_{0}$':'$F_{q}^{\\\\text{SCF}}$',\n",
    "'$(\\\\eta_{q})_{0}$':'$\\\\eta_{q}$',\n",
    "'$(\\\\omega_{q})_{0}$':'$\\\\omega_{q}$',\n",
    "'$(\\\\eta_{s})_{0}$':'$\\\\eta_{s}$',\n",
    "'h$_{ss}^{0}$':'h$_{s}$',\n",
    "'$(F_{s}^{\\\\text{SCF}})_{0}$':'$F_{s}^{\\\\text{SCF}}$',\n",
    "'$(F_{s})_{0}$':'$F_{s}$',\n",
    "'$(\\\\omega_{s})_{0}$':'$\\\\omega_{s}$',\n",
    "'$(\\\\langle ss \\\\vert ss \\\\rangle)_{0}$':\"$\\\\langle ss \\\\vert ss \\\\rangle$\",\n",
    "'$(\\\\langle qq \\\\vert qq \\\\rangle)_{0}$':\"$\\langle qq \\\\vert qq \\\\rangle$\",\n",
    "'h$_{pp}^{0}$': '(h$_{p}$)$_{0}$',\n",
    "'h$_{pp}^{1}$': '(h$_{p}$)$_{1}$',\n",
    "'h$_{pp}^{2}$': '(h$_{p}$)$_{2}$',\n",
    "'h$_{pp}^{3}$': '(h$_{p}$)$_{3}$',\n",
    "'h$_{rr}^{0}$': '(h$_{r}$)$_{0}$',\n",
    "'h$_{rr}^{1}$': '(h$_{r}$)$_{1}$',\n",
    "'h$_{rr}^{2}$': '(h$_{r}$)$_{2}$',\n",
    "'h$_{rr}^{3}$': '(h$_{r}$)$_{3}$',\n",
    "'h$_{pq}^{0}$':'(h$_{pq}$)$_{0}$',\n",
    "'h$_{pq}^{1}$':'(h$_{pq}$)$_{1}$',\n",
    "'h$_{pq}^{2}$':'(h$_{pq}$)$_{2}$',\n",
    "'h$_{pq}^{3}$':'(h$_{pq}$)$_{3}$',\n",
    "'h$_{pr}^{0}$':'(h$_{pr}$)$_{0}$',\n",
    "'h$_{pr}^{1}$':'(h$_{pr}$)$_{1}$',\n",
    "'h$_{pr}^{2}$':'(h$_{pr}$)$_{2}$',\n",
    "'h$_{pr}^{3}$':'(h$_{pr}$)$_{3}$',\n",
    "'h$_{rs}^{0}$':'(h$_{rs}$)$_{0}$',\n",
    "'h$_{rs}^{1}$':'(h$_{rs}$)$_{1}$',\n",
    "'h$_{rs}^{2}$':'(h$_{rs}$)$_{2}$',\n",
    "'h$_{rs}^{3}$':'(h$_{rs}$)$_{3}$',\n",
    "'typ_0':'$type_0$',\n",
    "'typ_1':'$type_1$',\n",
    "'typ_2':'$type_2$',\n",
    "'typ_3':'$type_3$'}"
   ]
  },
  {
   "cell_type": "code",
   "execution_count": null,
   "id": "6eff1d8e-7084-4c81-80b3-5532cd22a32a",
   "metadata": {},
   "outputs": [],
   "source": [
    "train_df = pd.concat(train).drop(columns=dropfeat).rename(columns=rename)\n",
    "test_df = pd.concat(test).drop(columns=dropfeat).rename(columns=rename)"
   ]
  },
  {
   "cell_type": "code",
   "execution_count": null,
   "id": "a2f85187-249f-4f4e-b938-bffd564b8b19",
   "metadata": {},
   "outputs": [],
   "source": []
  },
  {
   "cell_type": "code",
   "execution_count": null,
   "id": "25a5bd17-b931-4412-bddb-0525e359a504",
   "metadata": {},
   "outputs": [],
   "source": [
    "counttypes=pd.concat([pd.concat([train_df,test_df])[i].value_counts() for i in train_df.columns if 'typ' in i],axis=1).T.sum(axis=0).sort_index()\n",
    "counttypes.index=[{1:\"A\", 2:\"B$_{+}$\", 3:\"B$_{-}$\", 4:\"C\", 5:\"D\", 6:\"E$_{+}$\", 7:\"E$_{-}$\", 8:\"F$_{+}$\", 9:\"F$_{-}$\", 10:\"G$_{+}$\", 11:\"G$_{-}$\", 12:\"H$_{+}$\", 13:\"H$_{-}$\"}[t] for t in counttypes.index+1]\n",
    "sns.barplot(data=counttypes.reset_index(),x='index',y=0,color=sns.color_palette('Paired')[1])\n",
    "plt.ylabel('Count')\n",
    "plt.xlabel('Excitation Class')\n",
    "plt.ylim(0,125e3)\n",
    "plt.title('H$_{2n}$ Excitations')\n",
    "plt.tight_layout()\n",
    "plt.savefig('images/excitation_barplot.png',dpi=300,bbox_inches='tight')\n",
    "plt.show()"
   ]
  },
  {
   "cell_type": "code",
   "execution_count": null,
   "id": "6f129fe3-504c-4403-bd62-240f31d6968d",
   "metadata": {},
   "outputs": [],
   "source": [
    "(counttypes/counttypes.sum()).round(2)"
   ]
  },
  {
   "cell_type": "code",
   "execution_count": null,
   "id": "af71b29c-0da9-412c-ad06-b408200db1f9",
   "metadata": {},
   "outputs": [],
   "source": []
  },
  {
   "cell_type": "code",
   "execution_count": null,
   "id": "0f8e5f1e-f6b3-4083-84b2-eb52bed90494",
   "metadata": {},
   "outputs": [],
   "source": [
    "X_train = train_df.drop(columns=['Pair_Energies']).values\n",
    "X_test = test_df.drop(columns=['Pair_Energies']).values\n",
    "\n",
    "y_train = train_df['Pair_Energies'].values\n",
    "y_test = test_df['Pair_Energies'].values"
   ]
  },
  {
   "cell_type": "code",
   "execution_count": null,
   "id": "26d1774c-f1d6-469e-af97-ed2eb16045fe",
   "metadata": {},
   "outputs": [],
   "source": [
    "scaler=MinMaxScaler()\n",
    "X_train=scaler.fit_transform(X_train)\n",
    "X_test=scaler.transform(X_test)"
   ]
  },
  {
   "cell_type": "code",
   "execution_count": null,
   "id": "b33b6610-2a11-4ac4-9c8d-4c7df2e7510c",
   "metadata": {
    "tags": []
   },
   "outputs": [],
   "source": [
    "from xgboost import XGBRegressor\n",
    "\n",
    "kwargs = dict(pd.read_excel(\"H2n_params.xlsx\").values)\n",
    "model=XGBRegressor(**kwargs)\n",
    "model.fit(X_train,y_train)\n",
    "y_pred_train=model.predict(X_train)\n",
    "y_pred_test=model.predict(X_test)\n",
    "print(f\"R2: {r2_score(y_train,y_pred_train):.4f},{r2_score(y_test,y_pred_test):.4f}\")\n",
    "print(f\"RMSE (mEh): {root_mean_squared_error(y_train,y_pred_train)*1e3:.4f},{root_mean_squared_error(y_test,y_pred_test)*1e3:.4f}\")\n",
    "\n",
    "# params = {'max_depth': [1, 10, 100],\n",
    "#           'n_estimators': [100, 500, 1000],\n",
    "#           'reg_lambda': [1e-6, 1e-3,1e-1],\n",
    "#           'reg_alpha': [1e-6, 1e-3,1e-1]}\n",
    "\n",
    "# model = XGBRegressor()\n",
    "# grid = GridSearchCV(estimator=model, \n",
    "#                    param_grid=params,\n",
    "#                    scoring='r2', \n",
    "#                    verbose=0,n_jobs=12).fit(X_train,y_train)\n",
    "\n",
    "\n",
    "# model=grid.best_estimator_\n",
    "# y_pred_train=model.predict(X_train)\n",
    "# y_pred_test=model.predict(X_test)\n",
    "# print(f\"R2: {r2_score(y_train,y_pred_train):.4f},{r2_score(y_test,y_pred_test):.4f}\")\n",
    "# print(f\"RMSE (mEh): {root_mean_squared_error(y_train,y_pred_train)*1e3:.4f},{root_mean_squared_error(y_test,y_pred_test)*1e3:.4f}\")\n",
    "# pd.DataFrame.from_dict(model.get_params(),orient='index').dropna().to_excel(\"H2n_params.xlsx\")"
   ]
  },
  {
   "cell_type": "code",
   "execution_count": null,
   "id": "ad41dfd9-8823-48af-b824-4af1fa19cbd4",
   "metadata": {},
   "outputs": [],
   "source": [
    "pd.DataFrame.from_dict(model.get_params(),orient='index').dropna().to_excel(\"H2n_VDZP_params.xlsx\")"
   ]
  },
  {
   "cell_type": "code",
   "execution_count": null,
   "id": "d59bfbe7-26b3-4e59-9967-492a9267e947",
   "metadata": {
    "tags": []
   },
   "outputs": [],
   "source": [
    "pal = sns.color_palette(\"Paired\")\n",
    "font=12\n",
    "plt.rc('font', size=font)          # controls default text sizes\n",
    "plt.rc('axes', titlesize=font)     # fontsize of the axes title\n",
    "plt.rc('axes', labelsize=font)    # fontsize of the x and y labels\n",
    "plt.rc('xtick', labelsize=font)    # fontsize of the tick labels\n",
    "plt.rc('ytick', labelsize=font)    # fontsize of the tick labels\n",
    "plt.rc('legend', fontsize=font)    # legend fontsize\n",
    "plt.rc('figure', titlesize=font)  # fontsize of the figure title\n",
    "fig,(ax1,ax2)=plt.subplots(1,2,figsize=(13,6))\n",
    "scale=1e-1\n",
    "ax1.set_title('Train')\n",
    "ax1.scatter(1e3*y_train,1e3*y_pred_train,label=\"R$^{2}$=\"+f'{r2_score(y_train,y_pred_train):.2f}\\nMAE={1e3*mean_absolute_error(y_train,y_pred_train):.4f}'+\" mE$_{h}$\",color=pal[4],edgecolors='k')\n",
    "ax1.plot(1e3*y_train,1e3*y_train,'k-')\n",
    "ax1.set_xlim(1e3*min(y_train)-scale,1e3*max(y_train)+scale)\n",
    "ax1.set_ylim(1e3*min(y_train)-scale,1e3*max(y_train)+scale)\n",
    "ax1.set_xlabel('Calculated Pair-Energies (mE$_{h}$)')\n",
    "ax1.set_ylabel('Predicted Pair-Energies (mE$_{h}$)')\n",
    "ax1.legend()\n",
    "\n",
    "\n",
    "ax2.set_title('Test')\n",
    "ax2.scatter(1e3*y_test,1e3*y_pred_test,label=\"R$^{2}$=\"+f'{r2_score(y_test,y_pred_test):.2f}\\nMAE={1e3*mean_absolute_error(y_test,y_pred_test):.4f}'+\" mE$_{h}$\",color=pal[5],edgecolors='k')\n",
    "ax2.plot(1e3*y_test,1e3*y_test,'k-')\n",
    "ax2.set_xlim(1e3*min(y_test)-scale,1e3*max(y_test)+scale)\n",
    "ax2.set_ylim(1e3*min(y_test)-scale,1e3*max(y_test)+scale)\n",
    "ax2.set_xlabel('Calculated Pair-Energies (mE$_{h}$)')\n",
    "ax2.set_ylabel('Predicted Pair-Energies (mE$_{h}$)')\n",
    "ax2.legend()\n",
    "\n",
    "plt.tight_layout()\n",
    "plt.savefig('images/H2n_parity.png',dpi=300,bbox_inches='tight')\n",
    "plt.show()"
   ]
  },
  {
   "cell_type": "code",
   "execution_count": null,
   "id": "e1ce5ef9-9a21-47d1-9f6d-a8748046f438",
   "metadata": {
    "scrolled": true
   },
   "outputs": [],
   "source": [
    "testcntrcvr = 0\n",
    "recover_test_list = []\n",
    "recover_test_E2 = []\n",
    "for i,j,k,l in recover_test:\n",
    "    init_test = testcntrcvr\n",
    "    testcntrcvr+=l\n",
    "    recover_test_list.append((i.split(\"_\")[0],j,y_test[init_test:testcntrcvr],y_pred_test[init_test:testcntrcvr]))\n",
    "    recover_test_E2.append((i.split(\"_\")[0],j,np.sum(y_test[init_test:testcntrcvr]),np.sum(y_pred_test[init_test:testcntrcvr])))\n",
    "\n",
    "\n",
    "traincntrcvr = 0\n",
    "recover_train_list = []\n",
    "recover_train_E2 = []\n",
    "for i,j,k,l in recover_train:\n",
    "    init_train = traincntrcvr\n",
    "    traincntrcvr+=l\n",
    "    recover_train_list.append((i.split(\"_\")[0],j,y_train[init_train:traincntrcvr],y_pred_train[init_train:traincntrcvr]))\n",
    "    recover_train_E2.append((i.split(\"_\")[0],j,np.sum(y_train[init_train:traincntrcvr]),np.sum(y_pred_train[init_train:traincntrcvr])))"
   ]
  },
  {
   "cell_type": "code",
   "execution_count": null,
   "id": "0b352604-8315-4330-86ad-4e6d8d285f0a",
   "metadata": {},
   "outputs": [],
   "source": [
    "traincorrE2 = pd.DataFrame(recover_train_E2).rename(columns={0:'H$_{2n}$',1:'Radius ($\\AA$)',2:'E$_{2}^{\\text{Calculated}}$',3:'E$_{2}^{\\text{Predicted}}$'})\n",
    "#.astype({'H$_{2n}$':str,'Radius ($\\AA$)':float,'E$_{2}^{\\text{Calculated}}$':float,'E$_{2}^{\\text{Predicted}}$':float})\n",
    "testcorrE2 = pd.DataFrame(recover_test_E2).rename(columns={0:'H$_{2n}$',1:'Radius ($\\AA$)',2:'E$_{2}^{\\text{Calculated}}$',3:'E$_{2}^{\\text{Predicted}}$'})\n",
    "#.astype({'H$_{2n}$':str,'Radius ($\\AA$)':float,'E$_{2}^{\\text{Calculated}}$':float,'E$_{2}^{\\text{Predicted}}$':float})\n",
    "\n",
    "\n",
    "traincorrE2['CASPT2_E']=np.zeros(len(traincorrE2))\n",
    "traincorrE2['CASSCF_E']=np.zeros(len(traincorrE2))\n",
    "traincorrE2['E2']=np.zeros(len(traincorrE2))\n",
    "\n",
    "traincorrE2.index = [\"_\".join((u,v)) for u,v in traincorrE2[['H$_{2n}$','Radius ($\\AA$)']].values]\n",
    "\n",
    "for i in traincorrE2.index:\n",
    "    hn, r = i.split('_')\n",
    "    energy_df = pd.read_excel(f\"{hn}_chain/{hn}_{r}/{hn}_{r}_energies.xlsx\",index_col=0)\n",
    "    traincorrE2.loc[i,'CASPT2_E']=energy_df.loc['CASPT2_E'].values\n",
    "    traincorrE2.loc[i,'CASSCF_E']=energy_df.loc['CASSCF_E'].values\n",
    "    # traincorrE2.loc[i,'E2']=energy_df.loc['E2'].values\n",
    "\n",
    "traincorrE2['E$_{\\text{CASPT2}}^{\\text{Predicted}}$'] = traincorrE2['CASSCF_E']+traincorrE2['E$_{2}^{\\text{Predicted}}$']\n",
    "\n",
    "traincorrE2.rename(columns = {'CASPT2_E':'E$_{\\text{CASPT2}}^{\\text{Calculated}}$','CASSCF_E':'E$_{\\text{CASSCF}}^{\\text{Calculated}}$'},inplace=True)\n",
    "\n",
    "\n",
    "testcorrE2['CASPT2_E']=np.zeros(len(testcorrE2))\n",
    "testcorrE2['CASSCF_E']=np.zeros(len(testcorrE2))\n",
    "testcorrE2['E2']=np.zeros(len(testcorrE2))\n",
    "\n",
    "testcorrE2.index = [\"_\".join((u,v)) for u,v in testcorrE2[['H$_{2n}$','Radius ($\\AA$)']].values]\n",
    "\n",
    "for i in testcorrE2.index:\n",
    "    hn, r = i.split('_')\n",
    "    energy_df = pd.read_excel(f\"{hn}_chain/{hn}_{r}/{hn}_{r}_energies.xlsx\",index_col=0)\n",
    "    testcorrE2.loc[i,'CASPT2_E']=energy_df.loc['CASPT2_E'].values\n",
    "    testcorrE2.loc[i,'CASSCF_E']=energy_df.loc['CASSCF_E'].values\n",
    "    # testcorrE2.loc[i,'E2']=energy_df.loc['E2'].values\n",
    "\n",
    "testcorrE2['E$_{\\text{CASPT2}}^{\\text{Predicted}}$'] = testcorrE2['CASSCF_E']+testcorrE2['E$_{2}^{\\text{Predicted}}$']\n",
    "\n",
    "testcorrE2.rename(columns = {'CASPT2_E':'E$_{\\text{CASPT2}}^{\\text{Calculated}}$','CASSCF_E':'E$_{\\text{CASSCF}}^{\\text{Calculated}}$'},inplace=True)"
   ]
  },
  {
   "cell_type": "code",
   "execution_count": null,
   "id": "06745306-816e-4b0b-a6d0-ba96e0cd4636",
   "metadata": {},
   "outputs": [],
   "source": [
    "traincaspt2melt = traincorrE2.melt(id_vars=['H$_{2n}$','Radius ($\\AA$)'], value_vars=['E$_{\\text{CASPT2}}^{\\text{Calculated}}$','E$_{\\text{CASPT2}}^{\\text{Predicted}}$']).astype({'Radius ($\\AA$)':float,'value':float})\n",
    "testcaspt2melt = testcorrE2.melt(id_vars=['H$_{2n}$','Radius ($\\AA$)'], value_vars=['E$_{\\text{CASPT2}}^{\\text{Calculated}}$','E$_{\\text{CASPT2}}^{\\text{Predicted}}$']).astype({'Radius ($\\AA$)':float,'value':float})"
   ]
  },
  {
   "cell_type": "code",
   "execution_count": null,
   "id": "d2e0f9a3-19c9-455a-8b75-02213e0e85b4",
   "metadata": {},
   "outputs": [],
   "source": [
    "trueE2=pd.concat([traincorrE2,testcorrE2]).astype({'Radius ($\\AA$)':float,'E$_{\\text{CASPT2}}^{\\text{Calculated}}$':float})"
   ]
  },
  {
   "cell_type": "code",
   "execution_count": null,
   "id": "a310dd6a-3aff-4b3a-bd1b-2efa9c7f7383",
   "metadata": {},
   "outputs": [],
   "source": [
    "mean_absolute_error(testcorrE2['E$_{\\text{CASPT2}}^{\\text{Calculated}}$'],testcorrE2['E$_{\\text{CASPT2}}^{\\text{Predicted}}$'])*1e3"
   ]
  },
  {
   "cell_type": "code",
   "execution_count": null,
   "id": "b7c8a0b3-d4cb-4637-8f19-e7a8b8e5e7e8",
   "metadata": {},
   "outputs": [],
   "source": [
    "mean_absolute_error(traincorrE2['E$_{\\text{CASPT2}}^{\\text{Calculated}}$'],traincorrE2['E$_{\\text{CASPT2}}^{\\text{Predicted}}$'])*1e3"
   ]
  },
  {
   "cell_type": "code",
   "execution_count": null,
   "id": "9953abcc-5a0d-49ff-9ca7-4fd26815c0b9",
   "metadata": {},
   "outputs": [],
   "source": [
    "f\"{0.5752539754040886:.4f}\",f\"{1.0749031665142728:.4f}\""
   ]
  },
  {
   "cell_type": "code",
   "execution_count": null,
   "id": "718f81fb",
   "metadata": {},
   "outputs": [],
   "source": [
    "pairedcp=sns.color_palette('Paired')"
   ]
  },
  {
   "cell_type": "code",
   "execution_count": null,
   "id": "a1ae5656-e5c0-4162-8671-33ad31074076",
   "metadata": {},
   "outputs": [],
   "source": [
    "try:\n",
    "    os.mkdir('images')\n",
    "except:\n",
    "    print(\"./images exists\")"
   ]
  },
  {
   "cell_type": "code",
   "execution_count": null,
   "id": "377dc303-7429-4e4f-af17-eb744e7c77e1",
   "metadata": {},
   "outputs": [],
   "source": [
    "traincorrE2.max()"
   ]
  },
  {
   "cell_type": "code",
   "execution_count": null,
   "id": "063aaeac-149b-4a26-8a3a-4c015cc185e9",
   "metadata": {},
   "outputs": [],
   "source": [
    "import matplotlib.pyplot as plt\n",
    "import seaborn as sns\n",
    "from matplotlib.gridspec import GridSpec\n",
    "\n",
    "# Create the figure and GridSpec layout\n",
    "fig = plt.figure(figsize=(12, 6))\n",
    "gs = GridSpec(2, 3, width_ratios=[4, 4, 0.2], height_ratios=[0.2, 4], figure=fig)\n",
    "\n",
    "# Main scatter plot axes\n",
    "ax_scatter1 = fig.add_subplot(gs[1, 0])\n",
    "ax_scatter2 = fig.add_subplot(gs[1, 1])\n",
    "\n",
    "# KDE axes for Calculated values\n",
    "ax_kde1 = fig.add_subplot(gs[0, 0], sharex=ax_scatter1)\n",
    "ax_kde2 = fig.add_subplot(gs[0, 1], sharex=ax_scatter2)\n",
    "\n",
    "# Colorbar axis\n",
    "cbar_ax = fig.add_subplot(gs[1, 2])\n",
    "\n",
    "# Train data scatter plot\n",
    "scatter1 = sns.scatterplot(\n",
    "    data=traincorrE2, \n",
    "    x='E$_{2}^{\\text{Calculated}}$', \n",
    "    y='E$_{2}^{\\text{Predicted}}$', \n",
    "    hue='H$_{2n}$', \n",
    "    ax=ax_scatter1, \n",
    "    legend=False\n",
    ")\n",
    "\n",
    "# Test data scatter plot\n",
    "scatter2 = sns.scatterplot(\n",
    "    data=testcorrE2, \n",
    "    x='E$_{2}^{\\text{Calculated}}$', \n",
    "    y='E$_{2}^{\\text{Predicted}}$', \n",
    "    hue='H$_{2n}$', \n",
    "    ax=ax_scatter2, \n",
    "    legend=False\n",
    ")\n",
    "\n",
    "# Train data KDE plot for Calculated values\n",
    "sns.kdeplot(\n",
    "    data=traincorrE2, \n",
    "    x='E$_{2}^{\\text{Calculated}}$', \n",
    "    hue='H$_{2n}$', \n",
    "    ax=ax_kde1, \n",
    "    fill=True, \n",
    "    alpha=0.5, \n",
    "    legend=False\n",
    ")\n",
    "\n",
    "# Test data KDE plot for Calculated values\n",
    "sns.kdeplot(\n",
    "    data=testcorrE2, \n",
    "    x='E$_{2}^{\\text{Calculated}}$', \n",
    "    hue='H$_{2n}$', \n",
    "    ax=ax_kde2, \n",
    "    fill=True, \n",
    "    alpha=0.5, \n",
    "    legend=False\n",
    ")\n",
    "\n",
    "# Adjust labels and titles\n",
    "ax_kde1.set_title(\"Train Data\")\n",
    "ax_kde2.set_title(\"Test Data\")\n",
    "ax_kde1.set_ylabel(\"\")  # Remove unnecessary ylabel\n",
    "ax_kde2.set_ylabel(\"\")\n",
    "ax_kde1.tick_params(axis='y', left=False, labelleft=False)  # Remove y-ticks\n",
    "ax_kde2.tick_params(axis='y', left=False, labelleft=False)\n",
    "\n",
    "# Add a single legend\n",
    "handles, labels = scatter2.get_legend_handles_labels()\n",
    "fig.legend(handles, labels, loc=\"upper right\", title=\"H$_{2n}$\", bbox_to_anchor=(0.95, 0.85))\n",
    "\n",
    "# Tight layout and show\n",
    "plt.tight_layout()\n",
    "plt.show()\n"
   ]
  },
  {
   "cell_type": "code",
   "execution_count": null,
   "id": "74517df7-d706-4f24-9095-e8325a8ba556",
   "metadata": {},
   "outputs": [],
   "source": [
    "allcorr = pd.concat([traincorrE2,testcorrE2])"
   ]
  },
  {
   "cell_type": "code",
   "execution_count": null,
   "id": "8025eba7-70df-4624-b0b8-0d5abb31471a",
   "metadata": {},
   "outputs": [],
   "source": []
  },
  {
   "cell_type": "code",
   "execution_count": null,
   "id": "fbb25471-ac94-447c-b01e-ea5c27e2166c",
   "metadata": {},
   "outputs": [],
   "source": [
    "traincorrerr = {}\n",
    "for n in sorted(set(traincaspt2melt['H$_{2n}$']),key=lambda x: int(x.replace(\"H\",''))):\n",
    "    fig,((ax1,ax2),(ax3,ax4))=plt.subplots(2,2,figsize=(10,10),sharey=False)\n",
    "    \n",
    "    pred_train,true_train = traincorrE2[traincorrE2['H$_{2n}$']==n]['E$_{2}^{\\text{Predicted}}$'],traincorrE2[traincorrE2['H$_{2n}$']==n]['E$_{2}^{\\text{Calculated}}$']\n",
    "    pred_test,true_test = testcorrE2[testcorrE2['H$_{2n}$']==n]['E$_{2}^{\\text{Predicted}}$'],testcorrE2[testcorrE2['H$_{2n}$']==n]['E$_{2}^{\\text{Calculated}}$']\n",
    "    testrad = testcorrE2[testcorrE2['H$_{2n}$']==n]['Radius ($\\AA$)']    \n",
    "    train_r2_corr = r2_score(true_train,pred_train)\n",
    "    test_r2_corr = r2_score(true_test,pred_test)\n",
    "    test_mae_corr = 1e3*mean_absolute_error(true_test,pred_test)\n",
    "    train_mae_corr = 1e3*mean_absolute_error(true_train,pred_train)\n",
    "    \n",
    "    traincorrerr[n] = {\"r2_train\":train_r2_corr,\"r2_test\":test_r2_corr,\"mae_train\":train_mae_corr,\"mae_test\":test_mae_corr}\n",
    "    trainrad = traincorrE2[traincorrE2['H$_{2n}$']==n]['Radius ($\\AA$)']\n",
    "\n",
    "    \n",
    "    ax1.scatter(true_train,pred_train,label='R$^{2}$='+f'{train_r2_corr:.4f}\\nMAE={train_mae_corr:.4f}'+\" mE$_{h}$\",color=pairedcp[4],edgecolors='k')\n",
    "    ax1.plot(np.arange(-1000,1000),np.arange(-1000,1000),'k')\n",
    "    ax1.set_xlabel('Calculated CASPT2 Correlation Energy (E$_{h}$)')\n",
    "    ax1.set_ylabel('Predicted CASPT2 Correlation Energy (E$_{h}$)')\n",
    "    ax1.set_title('Train')\n",
    "    ax1.legend()\n",
    "\n",
    "\n",
    "    ax2.scatter(true_test,pred_test,label='R$^{2}$='+f'{test_r2_corr:.4f}\\nMAE={test_mae_corr:.4f}'+\" mE$_{h}$\",color=pairedcp[5],edgecolors='k')\n",
    "    ax2.plot(np.arange(-1000,1000),np.arange(-1000,1000),'k')\n",
    "    ax2.set_xlabel('Calculated CASPT2 Correlation Energy (E$_{h}$)')\n",
    "    ax2.set_ylabel('Predicted CASPT2 Correlation Energy (E$_{h}$)')\n",
    "    ax2.set_title('Test')    \n",
    "    ax2.legend()\n",
    "\n",
    "    pred_train,true_train = traincorrE2[traincorrE2['H$_{2n}$']==n]['E$_{\\text{CASPT2}}^{\\text{Predicted}}$'],traincorrE2[traincorrE2['H$_{2n}$']==n]['E$_{\\text{CASPT2}}^{\\text{Calculated}}$']\n",
    "    pred_test,true_test = testcorrE2[testcorrE2['H$_{2n}$']==n]['E$_{\\text{CASPT2}}^{\\text{Predicted}}$'],testcorrE2[testcorrE2['H$_{2n}$']==n]['E$_{\\text{CASPT2}}^{\\text{Calculated}}$']\n",
    "    testrad = testcorrE2[testcorrE2['H$_{2n}$']==n]['Radius ($\\AA$)']    \n",
    "    train_r2_corr = r2_score(true_train,pred_train)\n",
    "    test_r2_corr = r2_score(true_test,pred_test)\n",
    "    test_mae_corr = 1e3*mean_absolute_error(true_test,pred_test)\n",
    "    train_mae_corr = 1e3*mean_absolute_error(true_train,pred_train)\n",
    "\n",
    "    \n",
    "    \n",
    "    traincorrerr[n] = {\"r2_train\":train_r2_corr,\"r2_test\":test_r2_corr,\"mae_train\":train_mae_corr,\"mae_test\":test_mae_corr}\n",
    "    trainrad = traincorrE2[traincorrE2['H$_{2n}$']==n]['Radius ($\\AA$)']\n",
    "    \n",
    "    ax3.scatter(np.array(trainrad,dtype=float),pred_train,color=pairedcp[4],edgecolors='k',label='Predicted CASPT2')\n",
    "    ax3.plot(allcorr[allcorr['H$_{2n}$']==n].sort_values(by='Radius ($\\AA$)')['Radius ($\\AA$)'].astype(float),allcorr[allcorr['H$_{2n}$']==n].sort_values(by='Radius ($\\AA$)')['E$_{\\text{CASPT2}}^{\\text{Calculated}}$'].astype(float),'k',label='Calculated CASPT2')\n",
    "    ax3.plot(allcorr[allcorr['H$_{2n}$']==n].sort_values(by='Radius ($\\AA$)')['Radius ($\\AA$)'].astype(float),allcorr[allcorr['H$_{2n}$']==n].sort_values(by='Radius ($\\AA$)')['E$_{\\text{CASSCF}}^{\\text{Calculated}}$'].astype(float),'k--',label='CASSCF')\n",
    "    ax3.set_xlabel('Radius (Å)')\n",
    "    ax3.set_ylabel('CASPT2 Energy (E$_{h}$)')\n",
    "    ax3.set_title('Train')\n",
    "    ax3.legend()\n",
    "    \n",
    "    ax4.scatter(np.array(testrad,dtype=float),pred_test,color=pairedcp[5],edgecolors='k',label='Predicted CASPT2')\n",
    "    ax4.plot(allcorr[allcorr['H$_{2n}$']==n].sort_values(by='Radius ($\\AA$)')['Radius ($\\AA$)'].astype(float),allcorr[allcorr['H$_{2n}$']==n].sort_values(by='Radius ($\\AA$)')['E$_{\\text{CASPT2}}^{\\text{Calculated}}$'].astype(float),'k',label='Calculated CASPT2')\n",
    "\n",
    "    # allcorr[allcorr['H$_{2n}$']==n]['E$_{\\text{CASPT2}}^{\\text{Calculated}}$']\n",
    "    ax4.plot(allcorr[allcorr['H$_{2n}$']==n].sort_values(by='Radius ($\\AA$)')['Radius ($\\AA$)'].astype(float),allcorr[allcorr['H$_{2n}$']==n].sort_values(by='Radius ($\\AA$)')['E$_{\\text{CASSCF}}^{\\text{Calculated}}$'].astype(float),'k--',label='CASSCF')    \n",
    "    ax4.set_xlabel('Radius (Å)')\n",
    "    ax4.set_ylabel('CASPT2 Energy (E$_{h}$)')\n",
    "    ax4.set_title('Test') \n",
    "    ax4.legend()\n",
    "    \n",
    "\n",
    "    \n",
    "    bottom, top = -0.14, 0.02\n",
    "    ax1.set_xlim(bottom, top)\n",
    "    ax1.set_ylim(bottom, top)\n",
    "    ax2.set_xlim(bottom, top)\n",
    "    ax2.set_ylim(bottom, top)\n",
    "    ax1.set_xticks(np.linspace(bottom,top,4),[f\"{i:.2f}\" for i in np.linspace(bottom,top,4)])\n",
    "    ax1.set_yticks(np.linspace(bottom,top,4),[f\"{i:.2f}\" for i in np.linspace(bottom,top,4)])    \n",
    "    ax2.set_xticks(np.linspace(bottom,top,4),[f\"{i:.2f}\" for i in np.linspace(bottom,top,4)])    \n",
    "    ax2.set_yticks(np.linspace(bottom,top,4),[f\"{i:.2f}\" for i in np.linspace(bottom,top,4)])   \n",
    "    \n",
    "    minpt2, maxpt2= pd.concat([true_train,true_test]).min(), pd.concat([true_train,true_test]).max()\n",
    "    pct=0.01\n",
    "    bufferbot, buffertop = minpt2*pct, maxpt2*pct\n",
    "    ax3.set_ylim(minpt2+bufferbot, maxpt2-buffertop)\n",
    "    # ax3.set_yticks(np.linspace(bottom,top,4),[f\"{i:.2f}\" for i in np.linspace(bottom,top,4)]) \n",
    "    ax4.set_ylim(minpt2+bufferbot, maxpt2-buffertop)\n",
    "    # ax4.set_yticks(np.linspace(bottom,top,4),[f\"{i:.2f}\" for i in np.linspace(bottom,top,4)]) \n",
    "\n",
    "    fig.suptitle(\"H$_{\"+re.findall(r'\\d+',n)[0]+\"}$\")\n",
    "    \n",
    "    plt.subplots_adjust(wspace=0.05)\n",
    "    plt.tight_layout()\n",
    "    plt.savefig(f'images/{n}_CASPT2.png',dpi=300,bbox_inches='tight')\n",
    "    plt.show()    "
   ]
  },
  {
   "cell_type": "code",
   "execution_count": null,
   "id": "227676e3-3584-48ec-8957-afbb757d23ce",
   "metadata": {},
   "outputs": [],
   "source": [
    "trainpairdf = pd.DataFrame(recover_train_list)\n",
    "testpairdf = pd.DataFrame(recover_test_list)\n",
    "pairerr={}\n",
    "for n in sorted(set(traincaspt2melt['H$_{2n}$']),key=lambda x: int(x.replace(\"H\",''))):\n",
    "    print(n)\n",
    "    fig,(ax1,ax2)=plt.subplots(1,2,figsize=(10,5),sharey=True)\n",
    "    \n",
    "    truetrainpair, predtrainpair = np.hstack(trainpairdf[trainpairdf[0]==n][2]),np.hstack(trainpairdf[trainpairdf[0]==n][3])\n",
    "    train_r2_pair = r2_score(truetrainpair, predtrainpair)\n",
    "    train_mae_pair = 1e3*mean_absolute_error(truetrainpair, predtrainpair)\n",
    "    ax1.scatter(truetrainpair, predtrainpair,label='R$^{2}$='+f'{train_r2_pair:.4f}\\nMAE={train_mae_pair:.4f}'+\" mE$_{h}$\",color=pairedcp[4],edgecolors='k')\n",
    "    ax1.plot(np.arange(-1000,1000),np.arange(-1000,1000),'k')\n",
    "    ax1.set_xlabel('Calculated E$_2$ Energy (E$_{h}$)')\n",
    "    ax1.set_ylabel('Predicted E$_2$ Energy (E$_{h}$)')\n",
    "    ax1.set_title('Train')    \n",
    "    ax1.legend()  \n",
    "    \n",
    "    truetestpair, predtestpair = np.hstack(testpairdf[testpairdf[0]==n][2]),np.hstack(testpairdf[testpairdf[0]==n][3])\n",
    "    test_r2_pair = r2_score(truetestpair, predtestpair)\n",
    "    test_mae_pair = 1e3*mean_absolute_error(truetestpair, predtestpair)\n",
    "    ax2.scatter(truetestpair, predtestpair,label='R$^{2}$='+f'{test_r2_pair:.4f}\\nMAE={test_mae_pair:.4f}'+\" mE$_{h}$\",color=pairedcp[5],edgecolors='k')\n",
    "    ax2.set_xlabel('Calculated E$_2$ Energy (E$_{h}$)')\n",
    "    ax2.plot(np.arange(-1000,1000),np.arange(-1000,1000),'k')\n",
    "    ax2.set_ylabel('Predicted E$_2$ Energy (E$_{h}$)')\n",
    "    ax2.set_title('Test')    \n",
    "    ax2.legend()  \n",
    "\n",
    "    mincorr, maxcorr= np.hstack([truetrainpair,truetestpair]).min(), np.hstack([truetrainpair,truetestpair]).max()\n",
    "    pct=0.50\n",
    "    bufferbot, buffertop = mincorr*pct, maxcorr*pct\n",
    "\n",
    "    # if 'H' in n:\n",
    "    bottom, top = mincorr-buffertop, maxcorr+buffertop\n",
    "    \n",
    "    # else:\n",
    "    #     bottom, top = mincorr+-0.1, maxcorr+0.05\n",
    "\n",
    "    ax1.set_xlim(bottom,top)\n",
    "    ax1.set_xticks(np.linspace(bottom,top,4),[f\"{i:.2f}\" for i in np.linspace(bottom,top,4)])\n",
    "    ax1.set_ylim(bottom,top)\n",
    "    ax1.set_yticks(np.linspace(bottom,top,4),[f\"{i:.2f}\" for i in np.linspace(bottom,top,4)])    \n",
    "    ax2.set_xlim(bottom,top)\n",
    "    ax2.set_xticks(np.linspace(bottom,top,4),[f\"{i:.2f}\" for i in np.linspace(bottom,top,4)])    \n",
    "    ax2.set_ylim(bottom,top)\n",
    "    ax2.set_yticks(np.linspace(bottom,top,4),[f\"{i:.2f}\" for i in np.linspace(bottom,top,4)])  \n",
    "    \n",
    "    fig.suptitle(\"H$_{\"+re.findall(r'\\d+',n)[0]+\"}$\")\n",
    "    plt.tight_layout()\n",
    "    plt.savefig(f'images/{n}_E2.png',dpi=300,bbox_inches='tight')    \n",
    "    plt.show()\n",
    "    pairerr[n] = {\"r2_train\":train_r2_pair,\"r2_test\":test_r2_pair,\"mae_train\":train_mae_pair,\"mae_test\":test_mae_pair}"
   ]
  },
  {
   "cell_type": "code",
   "execution_count": null,
   "id": "cb68b066-cf50-4c48-81ae-d570228bb1f0",
   "metadata": {},
   "outputs": [],
   "source": [
    "traincorrdf = pd.DataFrame.from_dict(traincorrerr).loc[['mae_train','mae_test']].T\n",
    "traincorrdf = traincorrdf.div([int(i.strip('H')) for i in traincorrdf.index], axis=0)\n",
    "\n",
    "pairerrdf = pd.DataFrame.from_dict(pairerr).loc[['mae_train','mae_test']].T\n",
    "pairerrdf = pairerrdf.div([int(i.strip('H')) for i in pairerrdf.index], axis=0)"
   ]
  },
  {
   "cell_type": "code",
   "execution_count": null,
   "id": "a4d0e671-62b6-48be-a49a-f6255eb7a830",
   "metadata": {},
   "outputs": [],
   "source": [
    "meltcorrerr = traincorrdf.rename(columns={'mae_train':'Train','mae_test':'Test'}).reset_index().melt(id_vars=['index'], value_vars=['Train','Test'])\n",
    "meltcorrerr['index'] = ['H$_{2}$', 'H$_{4}$', 'H$_{6}$', 'H$_{8}$', 'H$_{10}$', 'H$_{12}$', 'H$_{2}$', 'H$_{4}$', 'H$_{6}$', 'H$_{8}$', 'H$_{10}$', 'H$_{12}$']\n",
    "meltpairerr = pairerrdf.rename(columns={'mae_train':'Train','mae_test':'Test'}).reset_index().melt(id_vars=['index'], value_vars=['Train','Test'])\n",
    "meltpairerr['index'] = ['H$_{2}$', 'H$_{4}$', 'H$_{6}$', 'H$_{8}$', 'H$_{10}$', 'H$_{12}$', 'H$_{2}$', 'H$_{4}$', 'H$_{6}$', 'H$_{8}$', 'H$_{10}$', 'H$_{12}$']\n",
    "fig,(ax1,ax2)=plt.subplots(1,2,figsize=(10,5),sharey=True)\n",
    "sns.barplot(data=meltpairerr,x='index',y='value',hue='variable',palette=pairedcp[4:6],ax=ax1)\n",
    "ax1.set_ylabel('Mean Absolute Error per H atom (mE$_{h}$)')\n",
    "ax1.set_xlabel('Structures')\n",
    "ax1.set_title('Pair-Energies')\n",
    "ax1.set_ylim(0,0.3)\n",
    "sns.barplot(data=meltcorrerr,x='index',y='value',hue='variable',palette=pairedcp[4:6],ax=ax2)\n",
    "# ax2.set_ylabel('Mean Absolute Error (mE$_{h}$)')\n",
    "ax2.set_ylabel('')\n",
    "# ax2.set_ylim(0,3)\n",
    "ax2.set_xlabel('Structures')\n",
    "ax2.set_title('Correlation Energies')\n",
    "\n",
    "plt.tight_layout()\n",
    "plt.savefig('images/MAE_bar.png',dpi=300,bbox_inches='tight')\n",
    "plt.show()"
   ]
  },
  {
   "cell_type": "code",
   "execution_count": null,
   "id": "97d2d269-7cce-499c-8d27-eae393ca97b9",
   "metadata": {},
   "outputs": [],
   "source": [
    "meltcorrerr.to_excel('meltcorrMAE.xlsx')\n",
    "meltpairerr.to_excel('meltpairMAE.xlsx')"
   ]
  },
  {
   "cell_type": "code",
   "execution_count": null,
   "id": "dc200cee",
   "metadata": {},
   "outputs": [],
   "source": [
    "# import shap\n",
    "# explainer = shap.Explainer(model.predict, X_test)\n",
    "# shap_values = explainer(X_test)\n",
    "\n",
    "# dffeat=pd.DataFrame(shap_values.abs.values.mean(axis=0),index=train_df.drop(columns=['Pair_Energies']).columns,columns=['shap']).rename(index={'1':'$\\mathbf{b}$'}).reset_index().rename(columns={'index':'feat'}).sort_index().sort_values(by=['shap','feat'],ascending=False)\n",
    "# # dffeat['rename']=len(dffeat)*[1]\n",
    "\n",
    "# dffeat.to_excel('Hn_SHAP.xlsx')\n",
    "dffeat = pd.read_excel('Hn_SHAP.xlsx')"
   ]
  },
  {
   "cell_type": "code",
   "execution_count": null,
   "id": "dc3fb10e-f7ec-4b4f-b7a1-d82a7b8253bb",
   "metadata": {},
   "outputs": [],
   "source": []
  },
  {
   "cell_type": "code",
   "execution_count": null,
   "id": "63984cd5-95bf-41d9-a26b-773130a36837",
   "metadata": {},
   "outputs": [],
   "source": [
    "with open('feature_names.txt','w') as f:\n",
    "    for i in dffeat['feat'].values:\n",
    "        f.write(i+'\\n')\n",
    "\n",
    "# with open('feature_names.txt','w') as f:\n",
    "#     for i in dffeat['feat'].values:\n",
    "#         f.write(i+'\\n')"
   ]
  },
  {
   "cell_type": "code",
   "execution_count": null,
   "id": "b4e1c525-1929-49f4-b7f2-e52cb6719c7d",
   "metadata": {},
   "outputs": [],
   "source": []
  },
  {
   "cell_type": "code",
   "execution_count": null,
   "id": "b9fe17e8-a268-46c2-a788-254a7678ec55",
   "metadata": {},
   "outputs": [],
   "source": [
    "# color_map=sns.color_palette('rocket',6)\n",
    "# fontsize = 12\n",
    "# fig, ax = plt.subplots(1,3,figsize=(15,12))\n",
    "# for idx, i in enumerate([[ 0,  32], [42,  64], [64, 96]]):\n",
    "#     print(idx,i)\n",
    "#     feat_1 = dffeat.iloc[i[0]:i[1]]\n",
    "#     ax[idx]=feat_1.sort_values(by=['shap','feat']).plot.barh(x='feat',y='shap',legend=False,color=color_map[3],fontsize=fontsize,ax=ax[idx])\n",
    "#     ax[idx].bar_label(ax[idx].containers[0], fmt='%.4e',fontsize=fontsize,padding=1)\n",
    "#     ax[idx].set_xlim(0,5e-4)\n",
    "#     ax[idx].set_xticks(np.linspace(0,5e-4,4),[f\"{i:.2e}\" for i in np.linspace(0,5e-4,4)])\n",
    "#     ax[idx].set_ylabel('Features',fontsize=fontsize)\n",
    "#     ax[idx].set_xlabel('mean(|SHAP value|)',fontsize=fontsize)\n",
    "\n",
    "# fig.subplots_adjust(wspace=0, hspace=0)\n",
    "\n",
    "# plt.tight_layout()\n",
    "# plt.savefig('images/Hn_shap_bar.png',dpi=300, bbox_inches='tight')\n",
    "# plt.show()\n",
    "\n",
    "color_map=sns.color_palette('rocket',6)\n",
    "fontsize = 12\n",
    "fig, ax = plt.subplots(1,3,figsize=(15,12))\n",
    "for idx, i in enumerate([[ 0,  35], [35,  70], [70, 105]]):\n",
    "    print(idx,i)\n",
    "    feat_1 = dffeat.iloc[i[0]:i[1]]\n",
    "    ax[idx]=feat_1.sort_values(by=['shap','feat']).plot.barh(x='feat',y='shap',legend=False,color=color_map[3],fontsize=fontsize,ax=ax[idx])\n",
    "    ax[idx].bar_label(ax[idx].containers[0], fmt='%.4e',fontsize=fontsize,padding=1)\n",
    "    ax[idx].set_xlim(0,5e-4)\n",
    "    ax[idx].set_xticks(np.linspace(0,5e-4,4),[f\"{i:.2e}\" for i in np.linspace(0,5e-4,4)])\n",
    "    ax[idx].set_ylabel('Features',fontsize=fontsize)\n",
    "    ax[idx].set_xlabel('mean(|SHAP value|)',fontsize=fontsize)\n",
    "\n",
    "fig.subplots_adjust(wspace=0, hspace=0)\n",
    "\n",
    "plt.tight_layout()\n",
    "plt.savefig('images/Hn_shap_bar.png',dpi=300, bbox_inches='tight')\n",
    "plt.show()"
   ]
  },
  {
   "cell_type": "code",
   "execution_count": null,
   "id": "9e90058c-e999-4b95-bec9-bd6de7d6081c",
   "metadata": {},
   "outputs": [],
   "source": [
    "X_train.shape"
   ]
  },
  {
   "cell_type": "code",
   "execution_count": null,
   "id": "8c483142-30eb-48d1-af65-3e4970f6871d",
   "metadata": {},
   "outputs": [],
   "source": [
    "fig, ax = plt.subplots(1,1,figsize=(15,12))\n",
    "fontsize = 16\n",
    "pd.concat([dffeat.sort_values(by='shap').iloc[0:10],dffeat.sort_values(by='shap').iloc[-10:]]).plot.barh(x='feat',y='shap',legend=False,color=color_map[3],fontsize=fontsize,ax=ax)\n",
    "ax.bar_label(ax.containers[0], fmt='%.4e',fontsize=fontsize,padding=1)\n",
    "top_max = 4e-4\n",
    "ax.set_xlim(0,top_max)\n",
    "ax.set_xticks(np.linspace(0,top_max,4),[f\"{i:.2e}\" for i in np.linspace(0,top_max,4)])\n",
    "ax.set_ylabel('Features',fontsize=fontsize)\n",
    "ax.set_xlabel('mean(|SHAP value|)',fontsize=fontsize)\n",
    "\n",
    "fig.subplots_adjust(wspace=0, hspace=0)\n",
    "\n",
    "plt.tight_layout()\n",
    "plt.savefig('images/minmax_Hn_shap_bar.png',dpi=300, bbox_inches='tight')\n",
    "plt.show()"
   ]
  },
  {
   "cell_type": "code",
   "execution_count": null,
   "id": "c6661b63-2de9-428b-9576-86fd60c19ae8",
   "metadata": {},
   "outputs": [],
   "source": [
    "pd.concat([train_df,test_df]).shape"
   ]
  },
  {
   "cell_type": "code",
   "execution_count": null,
   "id": "906315cf-155d-424b-a0bb-19e1166e8d4e",
   "metadata": {},
   "outputs": [],
   "source": [
    "[(pd.concat([train_df,test_df])[f].value_counts()/36400).round(2) for f in dffeat.sort_values(by='shap').iloc[-10:]['feat'] if 'typ' in f]"
   ]
  },
  {
   "cell_type": "code",
   "execution_count": null,
   "id": "a4f0f2a2-b249-4adf-8084-b5a61289d594",
   "metadata": {},
   "outputs": [],
   "source": [
    "for f in dffeat.sort_values(by='shap').iloc[-10:]['feat']:\n",
    "    try:\n",
    "        sns.histplot(pd.concat([train_df,test_df])[f])\n",
    "    except:\n",
    "        print(f)\n",
    "    plt.title(f)\n",
    "    plt.show()"
   ]
  },
  {
   "cell_type": "code",
   "execution_count": null,
   "id": "940894c6-e74c-4a53-b7a8-dcdb189bed98",
   "metadata": {},
   "outputs": [],
   "source": [
    "dffeat.sort_values(by='shap').iloc[0:10]['feat']"
   ]
  },
  {
   "cell_type": "code",
   "execution_count": null,
   "id": "103a2693-a451-4db7-9c5a-c3163a83961d",
   "metadata": {},
   "outputs": [],
   "source": [
    "(pd.concat([train_df,test_df])['1'].value_counts()/pd.concat([train_df,test_df])['1'].shape[0]).round(2)"
   ]
  },
  {
   "cell_type": "code",
   "execution_count": null,
   "id": "3ade3d69-b35c-4068-969a-b4455fa38fc1",
   "metadata": {},
   "outputs": [],
   "source": [
    "for f in dffeat.sort_values(by='shap').iloc[0:10]['feat']:\n",
    "    try:\n",
    "        sns.histplot(pd.concat([train_df,test_df])[f])\n",
    "    except:\n",
    "        sns.histplot(pd.concat([train_df,test_df])['1'])\n",
    "    plt.title(f)\n",
    "    plt.show()"
   ]
  },
  {
   "cell_type": "code",
   "execution_count": null,
   "id": "666dbf66-8004-493c-b36f-207466708638",
   "metadata": {},
   "outputs": [],
   "source": [
    "# # plt.figure(figsize=(8,13))\n",
    "# color_map=sns.color_palette('rocket',6)\n",
    "# fontsize = 5\n",
    "\n",
    "# feat_2 = dffeat.sort_values(by=['shap','feat']).iloc[:63]\n",
    "# feat_1 = dffeat.sort_values(by=['shap','feat']).iloc[63:]\n",
    "\n",
    "\n",
    "# ax1=feat_1.sort_values(by=['shap','feat']).plot.barh(x='feat',y='shap',legend=False,color=color_map[3],fontsize=fontsize,ax=ax1)\n",
    "# ax1.bar_label(ax1.containers[0], fmt='%.4e',fontsize=fontsize,padding=1)\n",
    "# ax1.set_xlim(0,5e-4)\n",
    "# ax1.set_xticks(np.linspace(0,5e-4,4),[f\"{i:.2e}\" for i in np.linspace(0,5e-4,4)])\n",
    "# ax1.set_ylabel('Features',fontsize=fontsize)\n",
    "# ax1.set_xlabel('mean(|SHAP value|)',fontsize=fontsize)\n",
    "\n",
    "# ax2=feat_2.sort_values(by=['shap','feat']).plot.barh(x='feat',y='shap',legend=False,color=color_map[3],fontsize=fontsize,ax=ax2)\n",
    "# ax2.bar_label(ax2.containers[0], fmt='%.4e',fontsize=fontsize,padding=1)\n",
    "# ax2.set_xlim(0,5e-4)\n",
    "# ax2.set_xticks(np.linspace(0,5e-4,4),[f\"{i:.2e}\" for i in np.linspace(0,5e-4,4)])\n",
    "# ax2.set_ylabel('')\n",
    "# ax2.set_xlabel('mean(|SHAP value|)',fontsize=fontsize)\n",
    "\n",
    "# plt.tight_layout()\n",
    "# # os.mkdir('images')\n",
    "# plt.savefig('images/Hn_shap_bar.png',dpi=300, bbox_inches='tight')\n",
    "# plt.show()\n",
    "\n"
   ]
  },
  {
   "cell_type": "code",
   "execution_count": null,
   "id": "cdcad1bd-e7a2-4406-a95b-08e5841ed4b8",
   "metadata": {},
   "outputs": [],
   "source": [
    "traincorrE2.columns"
   ]
  },
  {
   "cell_type": "code",
   "execution_count": null,
   "id": "81c0190e-d336-4e74-9341-75f8a920e8fd",
   "metadata": {},
   "outputs": [],
   "source": [
    "r2_score(traincorrE2['E$_{2}^{\\text{Calculated}}$'],traincorrE2['E$_{2}^{\\text{Predicted}}$'])"
   ]
  },
  {
   "cell_type": "code",
   "execution_count": null,
   "id": "f9cad42e-51a5-464e-9e15-d1d109fbf649",
   "metadata": {},
   "outputs": [],
   "source": [
    "mean_absolute_error(traincorrE2['E$_{2}^{\\text{Calculated}}$'],traincorrE2['E$_{2}^{\\text{Predicted}}$'])*1e3"
   ]
  },
  {
   "cell_type": "code",
   "execution_count": null,
   "id": "c8413f06-8bac-4f51-acaf-0324849ba7ea",
   "metadata": {},
   "outputs": [],
   "source": [
    "r2_score(testcorrE2['E$_{2}^{\\text{Calculated}}$'],testcorrE2['E$_{2}^{\\text{Predicted}}$'])"
   ]
  },
  {
   "cell_type": "code",
   "execution_count": null,
   "id": "dcc074bb-13c7-459d-8c80-c43f8ddb36a5",
   "metadata": {},
   "outputs": [],
   "source": [
    "mean_absolute_error(testcorrE2['E$_{2}^{\\text{Calculated}}$'],testcorrE2['E$_{2}^{\\text{Predicted}}$'])*1e3"
   ]
  },
  {
   "cell_type": "code",
   "execution_count": null,
   "id": "1be8fa86-c7f9-4d64-8a01-742acff8d03b",
   "metadata": {},
   "outputs": [],
   "source": [
    "r2_score(traincorrE2['E$_{\\text{CASPT2}}^{\\text{Calculated}}$'],traincorrE2['E$_{\\text{CASPT2}}^{\\text{Predicted}}$'])"
   ]
  },
  {
   "cell_type": "code",
   "execution_count": null,
   "id": "0b2efd71-d9bc-47d1-a059-1caf907fa95a",
   "metadata": {},
   "outputs": [],
   "source": [
    "r2_score(testcorrE2['E$_{\\text{CASPT2}}^{\\text{Calculated}}$'],testcorrE2['E$_{\\text{CASPT2}}^{\\text{Predicted}}$'])"
   ]
  },
  {
   "cell_type": "code",
   "execution_count": null,
   "id": "65b24e39-316c-47bc-9d51-26b991c24c16",
   "metadata": {},
   "outputs": [],
   "source": [
    "mean_absolute_error(traincorrE2['E$_{\\text{CASPT2}}^{\\text{Calculated}}$'],traincorrE2['E$_{\\text{CASPT2}}^{\\text{Predicted}}$'])*1e3"
   ]
  },
  {
   "cell_type": "code",
   "execution_count": null,
   "id": "bf724139-ab59-412b-bc7c-5194f40ed230",
   "metadata": {},
   "outputs": [],
   "source": [
    "mean_absolute_error(testcorrE2['E$_{\\text{CASPT2}}^{\\text{Calculated}}$'],testcorrE2['E$_{\\text{CASPT2}}^{\\text{Predicted}}$'])*1e3"
   ]
  }
 ],
 "metadata": {
  "kernelspec": {
   "display_name": "Python 3 (ipykernel)",
   "language": "python",
   "name": "python3"
  },
  "language_info": {
   "codemirror_mode": {
    "name": "ipython",
    "version": 3
   },
   "file_extension": ".py",
   "mimetype": "text/x-python",
   "name": "python",
   "nbconvert_exporter": "python",
   "pygments_lexer": "ipython3",
   "version": "3.10.4"
  }
 },
 "nbformat": 4,
 "nbformat_minor": 5
}
