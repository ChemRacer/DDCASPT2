{
 "cells": [
  {
   "cell_type": "code",
   "execution_count": null,
   "id": "64186e21-f624-4588-8211-add44b1840a4",
   "metadata": {},
   "outputs": [],
   "source": [
    "from DDCASPT2 import DDCASPT2\n",
    "import pickle, os, shutil\n",
    "from glob import glob\n",
    "import numpy as np\n",
    "from joblib import Parallel, delayed\n",
    "import pandas as pd"
   ]
  },
  {
   "cell_type": "code",
   "execution_count": null,
   "id": "de6e2767-eafb-4dd0-8c89-9f0df23906bf",
   "metadata": {},
   "outputs": [],
   "source": [
    "radius_range=np.linspace(0.6,3,100)\n",
    "chains=np.arange(2,14,2)\n",
    "\n",
    "# train_ind,test_ind=train_test_split(radius_range, test_size=0.3, random_state=0)\n",
    "# print(len(train_ind),len(test_ind))\n",
    "# with open('train_ind.pickle', 'wb') as handle:\n",
    "#     pickle.dump(train_ind, handle, protocol=pickle.HIGHEST_PROTOCOL)\n",
    "\n",
    "# with open('test_ind.pickle', 'wb') as handle:\n",
    "#     pickle.dump(test_ind, handle, protocol=pickle.HIGHEST_PROTOCOL)\n",
    "\n",
    "with open('test_ind.pickle', 'rb') as handle:\n",
    "    test_ind = pickle.load(handle)\n",
    "\n",
    "with open('train_ind.pickle', 'rb') as handle:\n",
    "    train_ind = pickle.load(handle)\n",
    "    \n",
    "print(len(train_ind),len(test_ind))    \n"
   ]
  },
  {
   "cell_type": "code",
   "execution_count": null,
   "id": "beb7a178-1e8a-4df6-911c-86e80ebbb148",
   "metadata": {
    "scrolled": true
   },
   "outputs": [],
   "source": [
    "# for i in chains:\n",
    "topdir = os.getcwd()\n",
    "basis_set='ANO-RCC-VDZP'\n"
   ]
  },
  {
   "cell_type": "code",
   "execution_count": null,
   "id": "39d86cfa-6946-4d34-84c7-cff9ac4461b9",
   "metadata": {},
   "outputs": [],
   "source": [
    "def run(i):\n",
    "    dirname=f'H{i}_chain'\n",
    "    print(dirname)\n",
    "    if os.path.exists(dirname)==False:\n",
    "        os.mkdir(dirname)\n",
    "        \n",
    "    # os.chdir(os.path.join(topdir,dirname))    \n",
    "    for idxr, r in enumerate(radius_range):\n",
    "        \n",
    "        # Loop radius\n",
    "        name=f\"H{i}_{r:.2f}\"\n",
    "        \n",
    "        # Create files\n",
    "        subdirpath = os.path.join(topdir,dirname,f'{name}')\n",
    "        if os.path.exists(subdirpath)==False:\n",
    "            os.mkdir(subdirpath)\n",
    "        if os.path.exists(os.path.join(subdirpath,f'{name}.csv'))==False:\n",
    "            shutil.rmtree(os.path.join('tmp'),name)\n",
    "            \n",
    "            # Write xyz\n",
    "            with open(os.path.join(subdirpath,f'{name}.xyz'),'w') as f:\n",
    "                f.write(f'{i}\\n\\n')\n",
    "                for j in range(i):\n",
    "                    f.write(f'H {0:>8f} {0:>8f} {j*r:>8f}\\n')\n",
    "            print(subdirpath)\n",
    "            if idxr==0:\n",
    "                d = DDCASPT2(subdirpath,basis_set,name,i,i,0,previous=None)()\n",
    "            else:            \n",
    "                previous=os.path.join(topdir,dirname,f'H{i}_{radius_range[idxr-1]:.2f}',f\"H{i}_{radius_range[idxr-1]:.2f}.RasOrb\")\n",
    "                print(previous)\n",
    "                d = DDCASPT2(subdirpath,basis_set,name,i,i,0,previous=previous)()\n",
    "    \n",
    "    for idxr, r in enumerate(radius_range):\n",
    "        # Loop radius\n",
    "        name=f\"H{i}_{r:.2f}\" \n",
    "        \n",
    "        subdirpath = os.path.join(topdir,dirname,f'{name}')\n",
    "        \n",
    "        \n",
    "        for j in glob(os.path.join(subdirpath,\"*GMJ*.csv\"))+glob(os.path.join(subdirpath,\"*Orb*\"))+glob(os.path.join(subdirpath,\"*h5\"))+glob(os.path.join(subdirpath,\"xmldump\")):\n",
    "            os.remove(j)        \n",
    "    "
   ]
  },
  {
   "cell_type": "code",
   "execution_count": null,
   "id": "c09f67f4-13de-4e5a-9c93-835233504214",
   "metadata": {
    "scrolled": true
   },
   "outputs": [
    {
     "name": "stderr",
     "output_type": "stream",
     "text": [
      "100%|██████████| 100/100 [03:17<00:00,  1.98s/it]\n"
     ]
    },
    {
     "name": "stdout",
     "output_type": "stream",
     "text": [
      "/home/grierjones/DDCASPT2/hydrogen_comps/H10_chain/H10_2.30\n",
      "/home/grierjones/DDCASPT2/hydrogen_comps/H10_chain/H10_2.27/H10_2.27.RasOrb\n",
      "Found a valid MOLCAS installation at /home/grierjones/Test/build\n",
      "MOLCAS_WORKDIR is set to /tmp\n"
     ]
    },
    {
     "name": "stderr",
     "output_type": "stream",
     "text": [
      " 17%|█▋        | 17/100 [00:31<02:23,  1.73s/it]"
     ]
    },
    {
     "name": "stdout",
     "output_type": "stream",
     "text": [
      "/home/grierjones/DDCASPT2/hydrogen_comps/H12_chain/H12_0.99\n",
      "/home/grierjones/DDCASPT2/hydrogen_comps/H12_chain/H12_0.96/H12_0.96.RasOrb\n",
      "Found a valid MOLCAS installation at /home/grierjones/Test/build\n",
      "MOLCAS_WORKDIR is set to /tmp\n"
     ]
    },
    {
     "name": "stderr",
     "output_type": "stream",
     "text": [
      "100%|██████████| 100/100 [03:33<00:00,  2.13s/it]\n",
      " 26%|██▋       | 38/144 [03:12<08:22,  4.74s/it]"
     ]
    },
    {
     "name": "stdout",
     "output_type": "stream",
     "text": [
      "/home/grierjones/DDCASPT2/hydrogen_comps/H10_chain/H10_2.32\n",
      "/home/grierjones/DDCASPT2/hydrogen_comps/H10_chain/H10_2.30/H10_2.30.RasOrb\n",
      "Found a valid MOLCAS installation at /home/grierjones/Test/build\n",
      "MOLCAS_WORKDIR is set to /tmp\n"
     ]
    },
    {
     "name": "stderr",
     "output_type": "stream",
     "text": [
      "100%|██████████| 100/100 [03:32<00:00,  2.12s/it]\n",
      " 58%|█████▊    | 84/144 [06:59<04:05,  4.10s/it]"
     ]
    },
    {
     "name": "stdout",
     "output_type": "stream",
     "text": [
      "/home/grierjones/DDCASPT2/hydrogen_comps/H10_chain/H10_2.35\n",
      "/home/grierjones/DDCASPT2/hydrogen_comps/H10_chain/H10_2.32/H10_2.32.RasOrb\n",
      "Found a valid MOLCAS installation at /home/grierjones/Test/build\n",
      "MOLCAS_WORKDIR is set to /tmp\n"
     ]
    },
    {
     "name": "stderr",
     "output_type": "stream",
     "text": [
      "100%|██████████| 100/100 [03:28<00:00,  2.08s/it]\n",
      " 91%|█████████ | 131/144 [10:45<00:51,  3.99s/it]"
     ]
    },
    {
     "name": "stdout",
     "output_type": "stream",
     "text": [
      "/home/grierjones/DDCASPT2/hydrogen_comps/H10_chain/H10_2.37\n",
      "/home/grierjones/DDCASPT2/hydrogen_comps/H10_chain/H10_2.35/H10_2.35.RasOrb\n",
      "Found a valid MOLCAS installation at /home/grierjones/Test/build\n",
      "MOLCAS_WORKDIR is set to /tmp\n"
     ]
    },
    {
     "name": "stderr",
     "output_type": "stream",
     "text": [
      "100%|██████████| 144/144 [11:49<00:00,  4.93s/it]\n",
      "100%|██████████| 100/100 [03:03<00:00,  1.84s/it]\n"
     ]
    },
    {
     "name": "stdout",
     "output_type": "stream",
     "text": [
      "/home/grierjones/DDCASPT2/hydrogen_comps/H10_chain/H10_2.39\n",
      "/home/grierjones/DDCASPT2/hydrogen_comps/H10_chain/H10_2.37/H10_2.37.RasOrb\n",
      "Found a valid MOLCAS installation at /home/grierjones/Test/build\n",
      "MOLCAS_WORKDIR is set to /tmp\n"
     ]
    },
    {
     "name": "stderr",
     "output_type": "stream",
     "text": [
      " 25%|██▌       | 25/100 [00:45<02:03,  1.65s/it]"
     ]
    },
    {
     "name": "stdout",
     "output_type": "stream",
     "text": [
      "/home/grierjones/DDCASPT2/hydrogen_comps/H12_chain/H12_1.01\n",
      "/home/grierjones/DDCASPT2/hydrogen_comps/H12_chain/H12_0.99/H12_0.99.RasOrb\n",
      "Found a valid MOLCAS installation at /home/grierjones/Test/build\n",
      "MOLCAS_WORKDIR is set to /tmp\n"
     ]
    },
    {
     "name": "stderr",
     "output_type": "stream",
     "text": [
      "100%|██████████| 100/100 [03:21<00:00,  2.01s/it]\n",
      " 24%|██▍       | 35/144 [02:48<07:20,  4.04s/it]"
     ]
    },
    {
     "name": "stdout",
     "output_type": "stream",
     "text": [
      "/home/grierjones/DDCASPT2/hydrogen_comps/H10_chain/H10_2.42\n",
      "/home/grierjones/DDCASPT2/hydrogen_comps/H10_chain/H10_2.39/H10_2.39.RasOrb\n",
      "Found a valid MOLCAS installation at /home/grierjones/Test/build\n",
      "MOLCAS_WORKDIR is set to /tmp\n"
     ]
    },
    {
     "name": "stderr",
     "output_type": "stream",
     "text": [
      "100%|██████████| 100/100 [03:37<00:00,  2.18s/it]\n",
      " 57%|█████▋    | 82/144 [06:42<04:19,  4.18s/it]"
     ]
    },
    {
     "name": "stdout",
     "output_type": "stream",
     "text": [
      "/home/grierjones/DDCASPT2/hydrogen_comps/H10_chain/H10_2.44\n",
      "/home/grierjones/DDCASPT2/hydrogen_comps/H10_chain/H10_2.42/H10_2.42.RasOrb\n",
      "Found a valid MOLCAS installation at /home/grierjones/Test/build\n",
      "MOLCAS_WORKDIR is set to /tmp\n"
     ]
    },
    {
     "name": "stderr",
     "output_type": "stream",
     "text": [
      "100%|██████████| 100/100 [03:29<00:00,  2.10s/it]\n",
      " 90%|████████▉ | 129/144 [10:30<01:00,  4.00s/it]"
     ]
    },
    {
     "name": "stdout",
     "output_type": "stream",
     "text": [
      "/home/grierjones/DDCASPT2/hydrogen_comps/H10_chain/H10_2.47\n",
      "/home/grierjones/DDCASPT2/hydrogen_comps/H10_chain/H10_2.44/H10_2.44.RasOrb\n",
      "Found a valid MOLCAS installation at /home/grierjones/Test/build\n",
      "MOLCAS_WORKDIR is set to /tmp\n"
     ]
    },
    {
     "name": "stderr",
     "output_type": "stream",
     "text": [
      "100%|██████████| 144/144 [11:43<00:00,  4.89s/it]\n",
      "100%|██████████| 100/100 [03:03<00:00,  1.83s/it]\n"
     ]
    },
    {
     "name": "stdout",
     "output_type": "stream",
     "text": [
      "/home/grierjones/DDCASPT2/hydrogen_comps/H10_chain/H10_2.49\n",
      "/home/grierjones/DDCASPT2/hydrogen_comps/H10_chain/H10_2.47/H10_2.47.RasOrb\n",
      "Found a valid MOLCAS installation at /home/grierjones/Test/build\n",
      "MOLCAS_WORKDIR is set to /tmp\n"
     ]
    },
    {
     "name": "stderr",
     "output_type": "stream",
     "text": [
      " 31%|███       | 31/100 [00:56<01:50,  1.60s/it]"
     ]
    },
    {
     "name": "stdout",
     "output_type": "stream",
     "text": [
      "/home/grierjones/DDCASPT2/hydrogen_comps/H12_chain/H12_1.04\n",
      "/home/grierjones/DDCASPT2/hydrogen_comps/H12_chain/H12_1.01/H12_1.01.RasOrb\n",
      "Found a valid MOLCAS installation at /home/grierjones/Test/build\n",
      "MOLCAS_WORKDIR is set to /tmp\n"
     ]
    },
    {
     "name": "stderr",
     "output_type": "stream",
     "text": [
      "100%|██████████| 100/100 [03:04<00:00,  1.84s/it]\n",
      " 23%|██▎       | 33/144 [02:22<07:15,  3.93s/it]"
     ]
    },
    {
     "name": "stdout",
     "output_type": "stream",
     "text": [
      "/home/grierjones/DDCASPT2/hydrogen_comps/H10_chain/H10_2.52\n",
      "/home/grierjones/DDCASPT2/hydrogen_comps/H10_chain/H10_2.49/H10_2.49.RasOrb\n",
      "Found a valid MOLCAS installation at /home/grierjones/Test/build\n",
      "MOLCAS_WORKDIR is set to /tmp\n"
     ]
    },
    {
     "name": "stderr",
     "output_type": "stream",
     "text": [
      "100%|██████████| 100/100 [03:27<00:00,  2.08s/it]\n",
      " 55%|█████▍    | 79/144 [06:04<04:23,  4.05s/it]"
     ]
    },
    {
     "name": "stdout",
     "output_type": "stream",
     "text": [
      "/home/grierjones/DDCASPT2/hydrogen_comps/H10_chain/H10_2.54\n",
      "/home/grierjones/DDCASPT2/hydrogen_comps/H10_chain/H10_2.52/H10_2.52.RasOrb\n",
      "Found a valid MOLCAS installation at /home/grierjones/Test/build\n",
      "MOLCAS_WORKDIR is set to /tmp\n"
     ]
    },
    {
     "name": "stderr",
     "output_type": "stream",
     "text": [
      "100%|██████████| 100/100 [03:27<00:00,  2.07s/it]\n",
      " 88%|████████▊ | 126/144 [09:50<01:11,  3.98s/it]"
     ]
    },
    {
     "name": "stdout",
     "output_type": "stream",
     "text": [
      "/home/grierjones/DDCASPT2/hydrogen_comps/H10_chain/H10_2.56\n",
      "/home/grierjones/DDCASPT2/hydrogen_comps/H10_chain/H10_2.54/H10_2.54.RasOrb\n",
      "Found a valid MOLCAS installation at /home/grierjones/Test/build\n",
      "MOLCAS_WORKDIR is set to /tmp\n"
     ]
    },
    {
     "name": "stderr",
     "output_type": "stream",
     "text": [
      "100%|██████████| 144/144 [11:18<00:00,  4.71s/it]\n",
      "100%|██████████| 100/100 [03:05<00:00,  1.86s/it]\n"
     ]
    },
    {
     "name": "stdout",
     "output_type": "stream",
     "text": [
      "/home/grierjones/DDCASPT2/hydrogen_comps/H10_chain/H10_2.59\n",
      "/home/grierjones/DDCASPT2/hydrogen_comps/H10_chain/H10_2.56/H10_2.56.RasOrb\n",
      "Found a valid MOLCAS installation at /home/grierjones/Test/build\n",
      "MOLCAS_WORKDIR is set to /tmp\n"
     ]
    },
    {
     "name": "stderr",
     "output_type": "stream",
     "text": [
      "  0%|          | 0/144 [00:00<?, ?it/s]1.56s/it]"
     ]
    },
    {
     "name": "stdout",
     "output_type": "stream",
     "text": [
      "/home/grierjones/DDCASPT2/hydrogen_comps/H12_chain/H12_1.06\n",
      "/home/grierjones/DDCASPT2/hydrogen_comps/H12_chain/H12_1.04/H12_1.04.RasOrb\n",
      "Found a valid MOLCAS installation at /home/grierjones/Test/build\n",
      "MOLCAS_WORKDIR is set to /tmp\n"
     ]
    },
    {
     "name": "stderr",
     "output_type": "stream",
     "text": [
      "100%|██████████| 100/100 [03:17<00:00,  1.97s/it]\n",
      " 22%|██▏       | 31/144 [02:27<07:25,  3.94s/it]"
     ]
    },
    {
     "name": "stdout",
     "output_type": "stream",
     "text": [
      "/home/grierjones/DDCASPT2/hydrogen_comps/H10_chain/H10_2.61\n",
      "/home/grierjones/DDCASPT2/hydrogen_comps/H10_chain/H10_2.59/H10_2.59.RasOrb\n",
      "Found a valid MOLCAS installation at /home/grierjones/Test/build\n",
      "MOLCAS_WORKDIR is set to /tmp\n"
     ]
    },
    {
     "name": "stderr",
     "output_type": "stream",
     "text": [
      "100%|██████████| 100/100 [03:26<00:00,  2.07s/it]\n",
      " 54%|█████▍    | 78/144 [06:12<04:20,  3.94s/it]"
     ]
    },
    {
     "name": "stdout",
     "output_type": "stream",
     "text": [
      "/home/grierjones/DDCASPT2/hydrogen_comps/H10_chain/H10_2.64\n",
      "/home/grierjones/DDCASPT2/hydrogen_comps/H10_chain/H10_2.61/H10_2.61.RasOrb\n",
      "Found a valid MOLCAS installation at /home/grierjones/Test/build\n",
      "MOLCAS_WORKDIR is set to /tmp\n"
     ]
    },
    {
     "name": "stderr",
     "output_type": "stream",
     "text": [
      "100%|██████████| 100/100 [03:27<00:00,  2.07s/it]\n",
      " 87%|████████▋ | 125/144 [09:58<01:15,  3.99s/it]"
     ]
    },
    {
     "name": "stdout",
     "output_type": "stream",
     "text": [
      "/home/grierjones/DDCASPT2/hydrogen_comps/H10_chain/H10_2.66\n",
      "/home/grierjones/DDCASPT2/hydrogen_comps/H10_chain/H10_2.64/H10_2.64.RasOrb\n",
      "Found a valid MOLCAS installation at /home/grierjones/Test/build\n",
      "MOLCAS_WORKDIR is set to /tmp\n"
     ]
    },
    {
     "name": "stderr",
     "output_type": "stream",
     "text": [
      "100%|██████████| 144/144 [11:30<00:00,  4.79s/it]\n",
      "100%|██████████| 100/100 [03:05<00:00,  1.85s/it]\n"
     ]
    },
    {
     "name": "stdout",
     "output_type": "stream",
     "text": [
      "/home/grierjones/DDCASPT2/hydrogen_comps/H10_chain/H10_2.68\n",
      "/home/grierjones/DDCASPT2/hydrogen_comps/H10_chain/H10_2.66/H10_2.66.RasOrb\n",
      "Found a valid MOLCAS installation at /home/grierjones/Test/build\n",
      "MOLCAS_WORKDIR is set to /tmp\n"
     ]
    },
    {
     "name": "stderr",
     "output_type": "stream",
     "text": [
      " 32%|███▏      | 32/100 [00:58<01:48,  1.60s/it]"
     ]
    },
    {
     "name": "stdout",
     "output_type": "stream",
     "text": [
      "/home/grierjones/DDCASPT2/hydrogen_comps/H12_chain/H12_1.08\n",
      "/home/grierjones/DDCASPT2/hydrogen_comps/H12_chain/H12_1.06/H12_1.06.RasOrb\n",
      "Found a valid MOLCAS installation at /home/grierjones/Test/build\n",
      "MOLCAS_WORKDIR is set to /tmp\n"
     ]
    },
    {
     "name": "stderr",
     "output_type": "stream",
     "text": [
      "100%|██████████| 100/100 [03:18<00:00,  1.99s/it]\n",
      " 22%|██▏       | 32/144 [02:33<07:36,  4.08s/it]"
     ]
    },
    {
     "name": "stdout",
     "output_type": "stream",
     "text": [
      "/home/grierjones/DDCASPT2/hydrogen_comps/H10_chain/H10_2.71\n",
      "/home/grierjones/DDCASPT2/hydrogen_comps/H10_chain/H10_2.68/H10_2.68.RasOrb\n",
      "Found a valid MOLCAS installation at /home/grierjones/Test/build\n",
      "MOLCAS_WORKDIR is set to /tmp\n"
     ]
    },
    {
     "name": "stderr",
     "output_type": "stream",
     "text": [
      "100%|██████████| 100/100 [03:26<00:00,  2.07s/it]\n",
      "  0%|          | 0/100 [00:00<?, ?it/s]3.88s/it]"
     ]
    },
    {
     "name": "stdout",
     "output_type": "stream",
     "text": [
      "/home/grierjones/DDCASPT2/hydrogen_comps/H10_chain/H10_2.73\n",
      "/home/grierjones/DDCASPT2/hydrogen_comps/H10_chain/H10_2.71/H10_2.71.RasOrb\n",
      "Found a valid MOLCAS installation at /home/grierjones/Test/build\n",
      "MOLCAS_WORKDIR is set to /tmp\n"
     ]
    },
    {
     "name": "stderr",
     "output_type": "stream",
     "text": [
      "100%|██████████| 100/100 [03:15<00:00,  1.95s/it]\n",
      " 90%|████████▉ | 129/144 [10:00<00:52,  3.51s/it]"
     ]
    },
    {
     "name": "stdout",
     "output_type": "stream",
     "text": [
      "/home/grierjones/DDCASPT2/hydrogen_comps/H10_chain/H10_2.76\n",
      "/home/grierjones/DDCASPT2/hydrogen_comps/H10_chain/H10_2.73/H10_2.73.RasOrb\n",
      "Found a valid MOLCAS installation at /home/grierjones/Test/build\n",
      "MOLCAS_WORKDIR is set to /tmp\n"
     ]
    },
    {
     "name": "stderr",
     "output_type": "stream",
     "text": [
      "100%|██████████| 144/144 [11:14<00:00,  4.68s/it]\n",
      "100%|██████████| 100/100 [03:04<00:00,  1.85s/it]\n"
     ]
    },
    {
     "name": "stdout",
     "output_type": "stream",
     "text": [
      "/home/grierjones/DDCASPT2/hydrogen_comps/H10_chain/H10_2.78\n",
      "/home/grierjones/DDCASPT2/hydrogen_comps/H10_chain/H10_2.76/H10_2.76.RasOrb\n",
      "Found a valid MOLCAS installation at /home/grierjones/Test/build\n",
      "MOLCAS_WORKDIR is set to /tmp\n"
     ]
    },
    {
     "name": "stderr",
     "output_type": "stream",
     "text": [
      " 24%|██▍       | 24/100 [00:42<02:00,  1.58s/it]"
     ]
    },
    {
     "name": "stdout",
     "output_type": "stream",
     "text": [
      "/home/grierjones/DDCASPT2/hydrogen_comps/H12_chain/H12_1.11\n",
      "/home/grierjones/DDCASPT2/hydrogen_comps/H12_chain/H12_1.08/H12_1.08.RasOrb\n",
      "Found a valid MOLCAS installation at /home/grierjones/Test/build\n",
      "MOLCAS_WORKDIR is set to /tmp\n"
     ]
    },
    {
     "name": "stderr",
     "output_type": "stream",
     "text": [
      "100%|██████████| 100/100 [03:19<00:00,  2.00s/it]\n",
      " 25%|██▌       | 36/144 [02:51<07:09,  3.98s/it]"
     ]
    },
    {
     "name": "stdout",
     "output_type": "stream",
     "text": [
      "/home/grierjones/DDCASPT2/hydrogen_comps/H10_chain/H10_2.81\n",
      "/home/grierjones/DDCASPT2/hydrogen_comps/H10_chain/H10_2.78/H10_2.78.RasOrb\n",
      "Found a valid MOLCAS installation at /home/grierjones/Test/build\n",
      "MOLCAS_WORKDIR is set to /tmp\n"
     ]
    },
    {
     "name": "stderr",
     "output_type": "stream",
     "text": [
      "100%|██████████| 100/100 [03:27<00:00,  2.08s/it]\n",
      " 63%|██████▎   | 91/144 [07:08<03:17,  3.73s/it]"
     ]
    },
    {
     "name": "stdout",
     "output_type": "stream",
     "text": [
      "/home/grierjones/DDCASPT2/hydrogen_comps/H10_chain/H10_2.83\n",
      "/home/grierjones/DDCASPT2/hydrogen_comps/H10_chain/H10_2.81/H10_2.81.RasOrb\n",
      "Found a valid MOLCAS installation at /home/grierjones/Test/build\n",
      "MOLCAS_WORKDIR is set to /tmp\n"
     ]
    },
    {
     "name": "stderr",
     "output_type": "stream",
     "text": [
      "100%|██████████| 100/100 [03:27<00:00,  2.08s/it]\n",
      " 96%|█████████▌| 138/144 [10:54<00:23,  3.99s/it]"
     ]
    },
    {
     "name": "stdout",
     "output_type": "stream",
     "text": [
      "/home/grierjones/DDCASPT2/hydrogen_comps/H10_chain/H10_2.85\n",
      "/home/grierjones/DDCASPT2/hydrogen_comps/H10_chain/H10_2.83/H10_2.83.RasOrb\n",
      "Found a valid MOLCAS installation at /home/grierjones/Test/build\n",
      "MOLCAS_WORKDIR is set to /tmp\n"
     ]
    },
    {
     "name": "stderr",
     "output_type": "stream",
     "text": [
      "100%|██████████| 144/144 [11:23<00:00,  4.74s/it]\n",
      "100%|██████████| 100/100 [03:00<00:00,  1.81s/it]\n"
     ]
    },
    {
     "name": "stdout",
     "output_type": "stream",
     "text": [
      "/home/grierjones/DDCASPT2/hydrogen_comps/H10_chain/H10_2.88\n",
      "/home/grierjones/DDCASPT2/hydrogen_comps/H10_chain/H10_2.85/H10_2.85.RasOrb\n",
      "Found a valid MOLCAS installation at /home/grierjones/Test/build\n",
      "MOLCAS_WORKDIR is set to /tmp\n"
     ]
    },
    {
     "name": "stderr",
     "output_type": "stream",
     "text": [
      "  3%|▎         | 3/100 [00:04<02:26,  1.51s/it]"
     ]
    },
    {
     "name": "stdout",
     "output_type": "stream",
     "text": [
      "/home/grierjones/DDCASPT2/hydrogen_comps/H12_chain/H12_1.13\n",
      "/home/grierjones/DDCASPT2/hydrogen_comps/H12_chain/H12_1.11/H12_1.11.RasOrb\n",
      "Found a valid MOLCAS installation at /home/grierjones/Test/build\n",
      "MOLCAS_WORKDIR is set to /tmp\n"
     ]
    },
    {
     "name": "stderr",
     "output_type": "stream",
     "text": [
      "100%|██████████| 100/100 [03:25<00:00,  2.05s/it]\n",
      " 32%|███▏      | 46/144 [03:40<06:22,  3.91s/it]"
     ]
    },
    {
     "name": "stdout",
     "output_type": "stream",
     "text": [
      "/home/grierjones/DDCASPT2/hydrogen_comps/H10_chain/H10_2.90\n",
      "/home/grierjones/DDCASPT2/hydrogen_comps/H10_chain/H10_2.88/H10_2.88.RasOrb\n",
      "Found a valid MOLCAS installation at /home/grierjones/Test/build\n",
      "MOLCAS_WORKDIR is set to /tmp\n"
     ]
    },
    {
     "name": "stderr",
     "output_type": "stream",
     "text": [
      "100%|██████████| 100/100 [03:27<00:00,  2.08s/it]\n",
      " 66%|██████▌   | 95/144 [07:33<03:06,  3.80s/it]"
     ]
    },
    {
     "name": "stdout",
     "output_type": "stream",
     "text": [
      "/home/grierjones/DDCASPT2/hydrogen_comps/H10_chain/H10_2.93\n",
      "/home/grierjones/DDCASPT2/hydrogen_comps/H10_chain/H10_2.90/H10_2.90.RasOrb\n",
      "Found a valid MOLCAS installation at /home/grierjones/Test/build\n",
      "MOLCAS_WORKDIR is set to /tmp\n"
     ]
    },
    {
     "name": "stderr",
     "output_type": "stream",
     "text": [
      "100%|██████████| 100/100 [03:27<00:00,  2.08s/it]\n",
      "100%|██████████| 144/144 [11:27<00:00,  4.77s/it]\n"
     ]
    },
    {
     "name": "stdout",
     "output_type": "stream",
     "text": [
      "/home/grierjones/DDCASPT2/hydrogen_comps/H10_chain/H10_2.95\n",
      "/home/grierjones/DDCASPT2/hydrogen_comps/H10_chain/H10_2.93/H10_2.93.RasOrb\n",
      "Found a valid MOLCAS installation at /home/grierjones/Test/build\n",
      "MOLCAS_WORKDIR is set to /tmp\n"
     ]
    },
    {
     "name": "stderr",
     "output_type": "stream",
     "text": [
      "100%|██████████| 100/100 [02:57<00:00,  1.77s/it]\n"
     ]
    },
    {
     "name": "stdout",
     "output_type": "stream",
     "text": [
      "/home/grierjones/DDCASPT2/hydrogen_comps/H12_chain/H12_1.16\n",
      "/home/grierjones/DDCASPT2/hydrogen_comps/H12_chain/H12_1.13/H12_1.13.RasOrb\n",
      "Found a valid MOLCAS installation at /home/grierjones/Test/build\n",
      "MOLCAS_WORKDIR is set to /tmp\n"
     ]
    },
    {
     "name": "stderr",
     "output_type": "stream",
     "text": [
      "  4%|▍         | 6/144 [00:22<08:30,  3.70s/it]"
     ]
    },
    {
     "name": "stdout",
     "output_type": "stream",
     "text": [
      "/home/grierjones/DDCASPT2/hydrogen_comps/H10_chain/H10_2.98\n",
      "/home/grierjones/DDCASPT2/hydrogen_comps/H10_chain/H10_2.95/H10_2.95.RasOrb\n",
      "Found a valid MOLCAS installation at /home/grierjones/Test/build\n",
      "MOLCAS_WORKDIR is set to /tmp\n"
     ]
    },
    {
     "name": "stderr",
     "output_type": "stream",
     "text": [
      "100%|██████████| 100/100 [03:12<00:00,  1.93s/it]\n",
      " 38%|███▊      | 55/144 [04:01<05:43,  3.86s/it]"
     ]
    },
    {
     "name": "stdout",
     "output_type": "stream",
     "text": [
      "/home/grierjones/DDCASPT2/hydrogen_comps/H10_chain/H10_3.00\n",
      "/home/grierjones/DDCASPT2/hydrogen_comps/H10_chain/H10_2.98/H10_2.98.RasOrb\n",
      "Found a valid MOLCAS installation at /home/grierjones/Test/build\n",
      "MOLCAS_WORKDIR is set to /tmp\n"
     ]
    },
    {
     "name": "stderr",
     "output_type": "stream",
     "text": [
      "100%|██████████| 100/100 [03:27<00:00,  2.07s/it]\n",
      "100%|██████████| 144/144 [10:13<00:00,  4.26s/it]\n"
     ]
    },
    {
     "name": "stdout",
     "output_type": "stream",
     "text": [
      "/home/grierjones/DDCASPT2/hydrogen_comps/H12_chain/H12_1.18\n",
      "/home/grierjones/DDCASPT2/hydrogen_comps/H12_chain/H12_1.16/H12_1.16.RasOrb\n",
      "Found a valid MOLCAS installation at /home/grierjones/Test/build\n",
      "MOLCAS_WORKDIR is set to /tmp\n"
     ]
    },
    {
     "name": "stderr",
     "output_type": "stream",
     "text": [
      "100%|██████████| 144/144 [08:25<00:00,  3.51s/it]\n"
     ]
    },
    {
     "name": "stdout",
     "output_type": "stream",
     "text": [
      "/home/grierjones/DDCASPT2/hydrogen_comps/H12_chain/H12_1.21\n",
      "/home/grierjones/DDCASPT2/hydrogen_comps/H12_chain/H12_1.18/H12_1.18.RasOrb\n",
      "Found a valid MOLCAS installation at /home/grierjones/Test/build\n",
      "MOLCAS_WORKDIR is set to /tmp\n"
     ]
    },
    {
     "name": "stderr",
     "output_type": "stream",
     "text": [
      "100%|██████████| 144/144 [08:04<00:00,  3.37s/it]\n"
     ]
    },
    {
     "name": "stdout",
     "output_type": "stream",
     "text": [
      "/home/grierjones/DDCASPT2/hydrogen_comps/H12_chain/H12_1.23\n",
      "/home/grierjones/DDCASPT2/hydrogen_comps/H12_chain/H12_1.21/H12_1.21.RasOrb\n",
      "Found a valid MOLCAS installation at /home/grierjones/Test/build\n",
      "MOLCAS_WORKDIR is set to /tmp\n"
     ]
    },
    {
     "name": "stderr",
     "output_type": "stream",
     "text": [
      "100%|██████████| 144/144 [08:24<00:00,  3.51s/it]\n"
     ]
    },
    {
     "name": "stdout",
     "output_type": "stream",
     "text": [
      "/home/grierjones/DDCASPT2/hydrogen_comps/H12_chain/H12_1.25\n",
      "/home/grierjones/DDCASPT2/hydrogen_comps/H12_chain/H12_1.23/H12_1.23.RasOrb\n",
      "Found a valid MOLCAS installation at /home/grierjones/Test/build\n",
      "MOLCAS_WORKDIR is set to /tmp\n"
     ]
    },
    {
     "name": "stderr",
     "output_type": "stream",
     "text": [
      "100%|██████████| 144/144 [08:25<00:00,  3.51s/it]\n"
     ]
    },
    {
     "name": "stdout",
     "output_type": "stream",
     "text": [
      "/home/grierjones/DDCASPT2/hydrogen_comps/H12_chain/H12_1.28\n",
      "/home/grierjones/DDCASPT2/hydrogen_comps/H12_chain/H12_1.25/H12_1.25.RasOrb\n",
      "Found a valid MOLCAS installation at /home/grierjones/Test/build\n",
      "MOLCAS_WORKDIR is set to /tmp\n"
     ]
    },
    {
     "name": "stderr",
     "output_type": "stream",
     "text": [
      "100%|██████████| 144/144 [08:01<00:00,  3.34s/it]\n"
     ]
    },
    {
     "name": "stdout",
     "output_type": "stream",
     "text": [
      "/home/grierjones/DDCASPT2/hydrogen_comps/H12_chain/H12_1.30\n",
      "/home/grierjones/DDCASPT2/hydrogen_comps/H12_chain/H12_1.28/H12_1.28.RasOrb\n",
      "Found a valid MOLCAS installation at /home/grierjones/Test/build\n",
      "MOLCAS_WORKDIR is set to /tmp\n"
     ]
    },
    {
     "name": "stderr",
     "output_type": "stream",
     "text": [
      "100%|██████████| 144/144 [08:25<00:00,  3.51s/it]\n"
     ]
    },
    {
     "name": "stdout",
     "output_type": "stream",
     "text": [
      "/home/grierjones/DDCASPT2/hydrogen_comps/H12_chain/H12_1.33\n",
      "/home/grierjones/DDCASPT2/hydrogen_comps/H12_chain/H12_1.30/H12_1.30.RasOrb\n",
      "Found a valid MOLCAS installation at /home/grierjones/Test/build\n",
      "MOLCAS_WORKDIR is set to /tmp\n"
     ]
    },
    {
     "name": "stderr",
     "output_type": "stream",
     "text": [
      "100%|██████████| 144/144 [08:25<00:00,  3.51s/it]\n"
     ]
    },
    {
     "name": "stdout",
     "output_type": "stream",
     "text": [
      "/home/grierjones/DDCASPT2/hydrogen_comps/H12_chain/H12_1.35\n",
      "/home/grierjones/DDCASPT2/hydrogen_comps/H12_chain/H12_1.33/H12_1.33.RasOrb\n",
      "Found a valid MOLCAS installation at /home/grierjones/Test/build\n",
      "MOLCAS_WORKDIR is set to /tmp\n"
     ]
    },
    {
     "name": "stderr",
     "output_type": "stream",
     "text": [
      "100%|██████████| 144/144 [08:24<00:00,  3.50s/it]\n"
     ]
    },
    {
     "name": "stdout",
     "output_type": "stream",
     "text": [
      "/home/grierjones/DDCASPT2/hydrogen_comps/H12_chain/H12_1.38\n",
      "/home/grierjones/DDCASPT2/hydrogen_comps/H12_chain/H12_1.35/H12_1.35.RasOrb\n",
      "Found a valid MOLCAS installation at /home/grierjones/Test/build\n",
      "MOLCAS_WORKDIR is set to /tmp\n"
     ]
    },
    {
     "name": "stderr",
     "output_type": "stream",
     "text": [
      "100%|██████████| 144/144 [08:25<00:00,  3.51s/it]\n"
     ]
    },
    {
     "name": "stdout",
     "output_type": "stream",
     "text": [
      "/home/grierjones/DDCASPT2/hydrogen_comps/H12_chain/H12_1.40\n",
      "/home/grierjones/DDCASPT2/hydrogen_comps/H12_chain/H12_1.38/H12_1.38.RasOrb\n",
      "Found a valid MOLCAS installation at /home/grierjones/Test/build\n",
      "MOLCAS_WORKDIR is set to /tmp\n"
     ]
    },
    {
     "name": "stderr",
     "output_type": "stream",
     "text": [
      "100%|██████████| 144/144 [07:58<00:00,  3.32s/it]\n",
      "  0%|          | 0/144 [00:00<?, ?it/s]"
     ]
    },
    {
     "name": "stdout",
     "output_type": "stream",
     "text": [
      "/home/grierjones/DDCASPT2/hydrogen_comps/H12_chain/H12_1.42\n",
      "/home/grierjones/DDCASPT2/hydrogen_comps/H12_chain/H12_1.40/H12_1.40.RasOrb\n",
      "Found a valid MOLCAS installation at /home/grierjones/Test/build\n",
      "MOLCAS_WORKDIR is set to /tmp\n"
     ]
    },
    {
     "name": "stderr",
     "output_type": "stream",
     "text": [
      "100%|██████████| 144/144 [08:24<00:00,  3.50s/it]\n"
     ]
    },
    {
     "name": "stdout",
     "output_type": "stream",
     "text": [
      "/home/grierjones/DDCASPT2/hydrogen_comps/H12_chain/H12_1.45\n",
      "/home/grierjones/DDCASPT2/hydrogen_comps/H12_chain/H12_1.42/H12_1.42.RasOrb\n",
      "Found a valid MOLCAS installation at /home/grierjones/Test/build\n",
      "MOLCAS_WORKDIR is set to /tmp\n"
     ]
    },
    {
     "name": "stderr",
     "output_type": "stream",
     "text": [
      "100%|██████████| 144/144 [08:23<00:00,  3.49s/it]\n"
     ]
    },
    {
     "name": "stdout",
     "output_type": "stream",
     "text": [
      "/home/grierjones/DDCASPT2/hydrogen_comps/H12_chain/H12_1.47\n",
      "/home/grierjones/DDCASPT2/hydrogen_comps/H12_chain/H12_1.45/H12_1.45.RasOrb\n",
      "Found a valid MOLCAS installation at /home/grierjones/Test/build\n",
      "MOLCAS_WORKDIR is set to /tmp\n"
     ]
    },
    {
     "name": "stderr",
     "output_type": "stream",
     "text": [
      "100%|██████████| 144/144 [08:23<00:00,  3.49s/it]\n"
     ]
    },
    {
     "name": "stdout",
     "output_type": "stream",
     "text": [
      "/home/grierjones/DDCASPT2/hydrogen_comps/H12_chain/H12_1.50\n",
      "/home/grierjones/DDCASPT2/hydrogen_comps/H12_chain/H12_1.47/H12_1.47.RasOrb\n",
      "Found a valid MOLCAS installation at /home/grierjones/Test/build\n",
      "MOLCAS_WORKDIR is set to /tmp\n"
     ]
    },
    {
     "name": "stderr",
     "output_type": "stream",
     "text": [
      "100%|██████████| 144/144 [08:23<00:00,  3.49s/it]\n"
     ]
    },
    {
     "name": "stdout",
     "output_type": "stream",
     "text": [
      "/home/grierjones/DDCASPT2/hydrogen_comps/H12_chain/H12_1.52\n",
      "/home/grierjones/DDCASPT2/hydrogen_comps/H12_chain/H12_1.50/H12_1.50.RasOrb\n",
      "Found a valid MOLCAS installation at /home/grierjones/Test/build\n",
      "MOLCAS_WORKDIR is set to /tmp\n"
     ]
    },
    {
     "name": "stderr",
     "output_type": "stream",
     "text": [
      "100%|██████████| 144/144 [07:57<00:00,  3.32s/it]\n"
     ]
    },
    {
     "name": "stdout",
     "output_type": "stream",
     "text": [
      "/home/grierjones/DDCASPT2/hydrogen_comps/H12_chain/H12_1.55\n",
      "/home/grierjones/DDCASPT2/hydrogen_comps/H12_chain/H12_1.52/H12_1.52.RasOrb\n",
      "Found a valid MOLCAS installation at /home/grierjones/Test/build\n",
      "MOLCAS_WORKDIR is set to /tmp\n"
     ]
    },
    {
     "name": "stderr",
     "output_type": "stream",
     "text": [
      "100%|██████████| 144/144 [08:25<00:00,  3.51s/it]\n"
     ]
    },
    {
     "name": "stdout",
     "output_type": "stream",
     "text": [
      "/home/grierjones/DDCASPT2/hydrogen_comps/H12_chain/H12_1.57\n",
      "/home/grierjones/DDCASPT2/hydrogen_comps/H12_chain/H12_1.55/H12_1.55.RasOrb\n",
      "Found a valid MOLCAS installation at /home/grierjones/Test/build\n",
      "MOLCAS_WORKDIR is set to /tmp\n"
     ]
    },
    {
     "name": "stderr",
     "output_type": "stream",
     "text": [
      "100%|██████████| 144/144 [08:24<00:00,  3.50s/it]\n"
     ]
    },
    {
     "name": "stdout",
     "output_type": "stream",
     "text": [
      "/home/grierjones/DDCASPT2/hydrogen_comps/H12_chain/H12_1.59\n",
      "/home/grierjones/DDCASPT2/hydrogen_comps/H12_chain/H12_1.57/H12_1.57.RasOrb\n",
      "Found a valid MOLCAS installation at /home/grierjones/Test/build\n",
      "MOLCAS_WORKDIR is set to /tmp\n"
     ]
    },
    {
     "name": "stderr",
     "output_type": "stream",
     "text": [
      "100%|██████████| 144/144 [08:24<00:00,  3.50s/it]\n"
     ]
    },
    {
     "name": "stdout",
     "output_type": "stream",
     "text": [
      "/home/grierjones/DDCASPT2/hydrogen_comps/H12_chain/H12_1.62\n",
      "/home/grierjones/DDCASPT2/hydrogen_comps/H12_chain/H12_1.59/H12_1.59.RasOrb\n",
      "Found a valid MOLCAS installation at /home/grierjones/Test/build\n",
      "MOLCAS_WORKDIR is set to /tmp\n"
     ]
    },
    {
     "name": "stderr",
     "output_type": "stream",
     "text": [
      "100%|██████████| 144/144 [08:23<00:00,  3.50s/it]\n"
     ]
    },
    {
     "name": "stdout",
     "output_type": "stream",
     "text": [
      "/home/grierjones/DDCASPT2/hydrogen_comps/H12_chain/H12_1.64\n",
      "/home/grierjones/DDCASPT2/hydrogen_comps/H12_chain/H12_1.62/H12_1.62.RasOrb\n",
      "Found a valid MOLCAS installation at /home/grierjones/Test/build\n",
      "MOLCAS_WORKDIR is set to /tmp\n"
     ]
    },
    {
     "name": "stderr",
     "output_type": "stream",
     "text": [
      "100%|██████████| 144/144 [07:58<00:00,  3.32s/it]\n"
     ]
    },
    {
     "name": "stdout",
     "output_type": "stream",
     "text": [
      "/home/grierjones/DDCASPT2/hydrogen_comps/H12_chain/H12_1.67\n",
      "/home/grierjones/DDCASPT2/hydrogen_comps/H12_chain/H12_1.64/H12_1.64.RasOrb\n",
      "Found a valid MOLCAS installation at /home/grierjones/Test/build\n",
      "MOLCAS_WORKDIR is set to /tmp\n"
     ]
    },
    {
     "name": "stderr",
     "output_type": "stream",
     "text": [
      "100%|██████████| 144/144 [08:24<00:00,  3.50s/it]\n"
     ]
    },
    {
     "name": "stdout",
     "output_type": "stream",
     "text": [
      "/home/grierjones/DDCASPT2/hydrogen_comps/H12_chain/H12_1.69\n",
      "/home/grierjones/DDCASPT2/hydrogen_comps/H12_chain/H12_1.67/H12_1.67.RasOrb\n",
      "Found a valid MOLCAS installation at /home/grierjones/Test/build\n",
      "MOLCAS_WORKDIR is set to /tmp\n"
     ]
    },
    {
     "name": "stderr",
     "output_type": "stream",
     "text": [
      "100%|██████████| 144/144 [08:16<00:00,  3.45s/it]\n"
     ]
    },
    {
     "name": "stdout",
     "output_type": "stream",
     "text": [
      "/home/grierjones/DDCASPT2/hydrogen_comps/H12_chain/H12_1.72\n",
      "/home/grierjones/DDCASPT2/hydrogen_comps/H12_chain/H12_1.69/H12_1.69.RasOrb\n",
      "Found a valid MOLCAS installation at /home/grierjones/Test/build\n",
      "MOLCAS_WORKDIR is set to /tmp\n"
     ]
    },
    {
     "name": "stderr",
     "output_type": "stream",
     "text": [
      "100%|██████████| 144/144 [08:24<00:00,  3.50s/it]\n"
     ]
    },
    {
     "name": "stdout",
     "output_type": "stream",
     "text": [
      "/home/grierjones/DDCASPT2/hydrogen_comps/H12_chain/H12_1.74\n",
      "/home/grierjones/DDCASPT2/hydrogen_comps/H12_chain/H12_1.72/H12_1.72.RasOrb\n",
      "Found a valid MOLCAS installation at /home/grierjones/Test/build\n",
      "MOLCAS_WORKDIR is set to /tmp\n"
     ]
    },
    {
     "name": "stderr",
     "output_type": "stream",
     "text": [
      "100%|██████████| 144/144 [08:25<00:00,  3.51s/it]\n"
     ]
    },
    {
     "name": "stdout",
     "output_type": "stream",
     "text": [
      "/home/grierjones/DDCASPT2/hydrogen_comps/H12_chain/H12_1.76\n",
      "/home/grierjones/DDCASPT2/hydrogen_comps/H12_chain/H12_1.74/H12_1.74.RasOrb\n",
      "Found a valid MOLCAS installation at /home/grierjones/Test/build\n",
      "MOLCAS_WORKDIR is set to /tmp\n"
     ]
    },
    {
     "name": "stderr",
     "output_type": "stream",
     "text": [
      "100%|██████████| 144/144 [07:58<00:00,  3.32s/it]\n"
     ]
    },
    {
     "name": "stdout",
     "output_type": "stream",
     "text": [
      "/home/grierjones/DDCASPT2/hydrogen_comps/H12_chain/H12_1.79\n",
      "/home/grierjones/DDCASPT2/hydrogen_comps/H12_chain/H12_1.76/H12_1.76.RasOrb\n",
      "Found a valid MOLCAS installation at /home/grierjones/Test/build\n",
      "MOLCAS_WORKDIR is set to /tmp\n"
     ]
    },
    {
     "name": "stderr",
     "output_type": "stream",
     "text": [
      "100%|██████████| 144/144 [08:24<00:00,  3.51s/it]\n"
     ]
    },
    {
     "name": "stdout",
     "output_type": "stream",
     "text": [
      "/home/grierjones/DDCASPT2/hydrogen_comps/H12_chain/H12_1.81\n",
      "/home/grierjones/DDCASPT2/hydrogen_comps/H12_chain/H12_1.79/H12_1.79.RasOrb\n",
      "Found a valid MOLCAS installation at /home/grierjones/Test/build\n",
      "MOLCAS_WORKDIR is set to /tmp\n"
     ]
    },
    {
     "name": "stderr",
     "output_type": "stream",
     "text": [
      "100%|██████████| 144/144 [07:58<00:00,  3.32s/it]\n"
     ]
    },
    {
     "name": "stdout",
     "output_type": "stream",
     "text": [
      "/home/grierjones/DDCASPT2/hydrogen_comps/H12_chain/H12_1.84\n",
      "/home/grierjones/DDCASPT2/hydrogen_comps/H12_chain/H12_1.81/H12_1.81.RasOrb\n",
      "Found a valid MOLCAS installation at /home/grierjones/Test/build\n",
      "MOLCAS_WORKDIR is set to /tmp\n"
     ]
    },
    {
     "name": "stderr",
     "output_type": "stream",
     "text": [
      "100%|██████████| 144/144 [08:25<00:00,  3.51s/it]\n"
     ]
    },
    {
     "name": "stdout",
     "output_type": "stream",
     "text": [
      "/home/grierjones/DDCASPT2/hydrogen_comps/H12_chain/H12_1.86\n",
      "/home/grierjones/DDCASPT2/hydrogen_comps/H12_chain/H12_1.84/H12_1.84.RasOrb\n",
      "Found a valid MOLCAS installation at /home/grierjones/Test/build\n",
      "MOLCAS_WORKDIR is set to /tmp\n"
     ]
    },
    {
     "name": "stderr",
     "output_type": "stream",
     "text": [
      "100%|██████████| 144/144 [08:25<00:00,  3.51s/it]\n"
     ]
    },
    {
     "name": "stdout",
     "output_type": "stream",
     "text": [
      "/home/grierjones/DDCASPT2/hydrogen_comps/H12_chain/H12_1.88\n",
      "/home/grierjones/DDCASPT2/hydrogen_comps/H12_chain/H12_1.86/H12_1.86.RasOrb\n",
      "Found a valid MOLCAS installation at /home/grierjones/Test/build\n",
      "MOLCAS_WORKDIR is set to /tmp\n"
     ]
    },
    {
     "name": "stderr",
     "output_type": "stream",
     "text": [
      "100%|██████████| 144/144 [08:24<00:00,  3.50s/it]\n"
     ]
    },
    {
     "name": "stdout",
     "output_type": "stream",
     "text": [
      "/home/grierjones/DDCASPT2/hydrogen_comps/H12_chain/H12_1.91\n",
      "/home/grierjones/DDCASPT2/hydrogen_comps/H12_chain/H12_1.88/H12_1.88.RasOrb\n",
      "Found a valid MOLCAS installation at /home/grierjones/Test/build\n",
      "MOLCAS_WORKDIR is set to /tmp\n"
     ]
    },
    {
     "name": "stderr",
     "output_type": "stream",
     "text": [
      "100%|██████████| 144/144 [08:25<00:00,  3.51s/it]\n"
     ]
    },
    {
     "name": "stdout",
     "output_type": "stream",
     "text": [
      "/home/grierjones/DDCASPT2/hydrogen_comps/H12_chain/H12_1.93\n",
      "/home/grierjones/DDCASPT2/hydrogen_comps/H12_chain/H12_1.91/H12_1.91.RasOrb\n",
      "Found a valid MOLCAS installation at /home/grierjones/Test/build\n",
      "MOLCAS_WORKDIR is set to /tmp\n"
     ]
    },
    {
     "name": "stderr",
     "output_type": "stream",
     "text": [
      "100%|██████████| 144/144 [07:58<00:00,  3.32s/it]\n"
     ]
    },
    {
     "name": "stdout",
     "output_type": "stream",
     "text": [
      "/home/grierjones/DDCASPT2/hydrogen_comps/H12_chain/H12_1.96\n",
      "/home/grierjones/DDCASPT2/hydrogen_comps/H12_chain/H12_1.93/H12_1.93.RasOrb\n",
      "Found a valid MOLCAS installation at /home/grierjones/Test/build\n",
      "MOLCAS_WORKDIR is set to /tmp\n"
     ]
    },
    {
     "name": "stderr",
     "output_type": "stream",
     "text": [
      "100%|██████████| 144/144 [08:24<00:00,  3.50s/it]\n"
     ]
    },
    {
     "name": "stdout",
     "output_type": "stream",
     "text": [
      "/home/grierjones/DDCASPT2/hydrogen_comps/H12_chain/H12_1.98\n",
      "/home/grierjones/DDCASPT2/hydrogen_comps/H12_chain/H12_1.96/H12_1.96.RasOrb\n",
      "Found a valid MOLCAS installation at /home/grierjones/Test/build\n",
      "MOLCAS_WORKDIR is set to /tmp\n"
     ]
    },
    {
     "name": "stderr",
     "output_type": "stream",
     "text": [
      "100%|██████████| 144/144 [07:58<00:00,  3.32s/it]\n"
     ]
    },
    {
     "name": "stdout",
     "output_type": "stream",
     "text": [
      "/home/grierjones/DDCASPT2/hydrogen_comps/H12_chain/H12_2.01\n",
      "/home/grierjones/DDCASPT2/hydrogen_comps/H12_chain/H12_1.98/H12_1.98.RasOrb\n",
      "Found a valid MOLCAS installation at /home/grierjones/Test/build\n",
      "MOLCAS_WORKDIR is set to /tmp\n"
     ]
    },
    {
     "name": "stderr",
     "output_type": "stream",
     "text": [
      "100%|██████████| 144/144 [08:26<00:00,  3.52s/it]\n"
     ]
    },
    {
     "name": "stdout",
     "output_type": "stream",
     "text": [
      "/home/grierjones/DDCASPT2/hydrogen_comps/H12_chain/H12_2.03\n",
      "/home/grierjones/DDCASPT2/hydrogen_comps/H12_chain/H12_2.01/H12_2.01.RasOrb\n",
      "Found a valid MOLCAS installation at /home/grierjones/Test/build\n",
      "MOLCAS_WORKDIR is set to /tmp\n"
     ]
    },
    {
     "name": "stderr",
     "output_type": "stream",
     "text": [
      "100%|██████████| 144/144 [08:11<00:00,  3.41s/it]\n"
     ]
    },
    {
     "name": "stdout",
     "output_type": "stream",
     "text": [
      "/home/grierjones/DDCASPT2/hydrogen_comps/H12_chain/H12_2.05\n",
      "/home/grierjones/DDCASPT2/hydrogen_comps/H12_chain/H12_2.03/H12_2.03.RasOrb\n",
      "Found a valid MOLCAS installation at /home/grierjones/Test/build\n",
      "MOLCAS_WORKDIR is set to /tmp\n"
     ]
    },
    {
     "name": "stderr",
     "output_type": "stream",
     "text": [
      "100%|██████████| 144/144 [08:23<00:00,  3.50s/it]\n"
     ]
    },
    {
     "name": "stdout",
     "output_type": "stream",
     "text": [
      "/home/grierjones/DDCASPT2/hydrogen_comps/H12_chain/H12_2.08\n",
      "/home/grierjones/DDCASPT2/hydrogen_comps/H12_chain/H12_2.05/H12_2.05.RasOrb\n",
      "Found a valid MOLCAS installation at /home/grierjones/Test/build\n",
      "MOLCAS_WORKDIR is set to /tmp\n"
     ]
    },
    {
     "name": "stderr",
     "output_type": "stream",
     "text": [
      "100%|██████████| 144/144 [08:24<00:00,  3.50s/it]\n"
     ]
    },
    {
     "name": "stdout",
     "output_type": "stream",
     "text": [
      "/home/grierjones/DDCASPT2/hydrogen_comps/H12_chain/H12_2.10\n",
      "/home/grierjones/DDCASPT2/hydrogen_comps/H12_chain/H12_2.08/H12_2.08.RasOrb\n",
      "Found a valid MOLCAS installation at /home/grierjones/Test/build\n",
      "MOLCAS_WORKDIR is set to /tmp\n"
     ]
    },
    {
     "name": "stderr",
     "output_type": "stream",
     "text": [
      "100%|██████████| 144/144 [08:24<00:00,  3.50s/it]\n"
     ]
    },
    {
     "name": "stdout",
     "output_type": "stream",
     "text": [
      "/home/grierjones/DDCASPT2/hydrogen_comps/H12_chain/H12_2.13\n",
      "/home/grierjones/DDCASPT2/hydrogen_comps/H12_chain/H12_2.10/H12_2.10.RasOrb\n",
      "Found a valid MOLCAS installation at /home/grierjones/Test/build\n",
      "MOLCAS_WORKDIR is set to /tmp\n"
     ]
    },
    {
     "name": "stderr",
     "output_type": "stream",
     "text": [
      "100%|██████████| 144/144 [08:25<00:00,  3.51s/it]\n"
     ]
    },
    {
     "name": "stdout",
     "output_type": "stream",
     "text": [
      "/home/grierjones/DDCASPT2/hydrogen_comps/H12_chain/H12_2.15\n",
      "/home/grierjones/DDCASPT2/hydrogen_comps/H12_chain/H12_2.13/H12_2.13.RasOrb\n",
      "Found a valid MOLCAS installation at /home/grierjones/Test/build\n",
      "MOLCAS_WORKDIR is set to /tmp\n"
     ]
    },
    {
     "name": "stderr",
     "output_type": "stream",
     "text": [
      "100%|██████████| 144/144 [07:58<00:00,  3.32s/it]\n"
     ]
    },
    {
     "name": "stdout",
     "output_type": "stream",
     "text": [
      "/home/grierjones/DDCASPT2/hydrogen_comps/H12_chain/H12_2.18\n",
      "/home/grierjones/DDCASPT2/hydrogen_comps/H12_chain/H12_2.15/H12_2.15.RasOrb\n",
      "Found a valid MOLCAS installation at /home/grierjones/Test/build\n",
      "MOLCAS_WORKDIR is set to /tmp\n"
     ]
    },
    {
     "name": "stderr",
     "output_type": "stream",
     "text": [
      "100%|██████████| 144/144 [08:25<00:00,  3.51s/it]\n"
     ]
    },
    {
     "name": "stdout",
     "output_type": "stream",
     "text": [
      "/home/grierjones/DDCASPT2/hydrogen_comps/H12_chain/H12_2.20\n",
      "/home/grierjones/DDCASPT2/hydrogen_comps/H12_chain/H12_2.18/H12_2.18.RasOrb\n",
      "Found a valid MOLCAS installation at /home/grierjones/Test/build\n",
      "MOLCAS_WORKDIR is set to /tmp\n"
     ]
    },
    {
     "name": "stderr",
     "output_type": "stream",
     "text": [
      "100%|██████████| 144/144 [07:58<00:00,  3.32s/it]\n"
     ]
    },
    {
     "name": "stdout",
     "output_type": "stream",
     "text": [
      "/home/grierjones/DDCASPT2/hydrogen_comps/H12_chain/H12_2.22\n",
      "/home/grierjones/DDCASPT2/hydrogen_comps/H12_chain/H12_2.20/H12_2.20.RasOrb\n",
      "Found a valid MOLCAS installation at /home/grierjones/Test/build\n",
      "MOLCAS_WORKDIR is set to /tmp\n"
     ]
    },
    {
     "name": "stderr",
     "output_type": "stream",
     "text": [
      "100%|██████████| 144/144 [08:24<00:00,  3.50s/it]\n"
     ]
    },
    {
     "name": "stdout",
     "output_type": "stream",
     "text": [
      "/home/grierjones/DDCASPT2/hydrogen_comps/H12_chain/H12_2.25\n",
      "/home/grierjones/DDCASPT2/hydrogen_comps/H12_chain/H12_2.22/H12_2.22.RasOrb\n",
      "Found a valid MOLCAS installation at /home/grierjones/Test/build\n",
      "MOLCAS_WORKDIR is set to /tmp\n"
     ]
    },
    {
     "name": "stderr",
     "output_type": "stream",
     "text": [
      "100%|██████████| 144/144 [08:15<00:00,  3.44s/it]\n"
     ]
    },
    {
     "name": "stdout",
     "output_type": "stream",
     "text": [
      "/home/grierjones/DDCASPT2/hydrogen_comps/H12_chain/H12_2.27\n",
      "/home/grierjones/DDCASPT2/hydrogen_comps/H12_chain/H12_2.25/H12_2.25.RasOrb\n",
      "Found a valid MOLCAS installation at /home/grierjones/Test/build\n",
      "MOLCAS_WORKDIR is set to /tmp\n"
     ]
    },
    {
     "name": "stderr",
     "output_type": "stream",
     "text": [
      "100%|██████████| 144/144 [08:24<00:00,  3.51s/it]\n"
     ]
    },
    {
     "name": "stdout",
     "output_type": "stream",
     "text": [
      "/home/grierjones/DDCASPT2/hydrogen_comps/H12_chain/H12_2.30\n",
      "/home/grierjones/DDCASPT2/hydrogen_comps/H12_chain/H12_2.27/H12_2.27.RasOrb\n",
      "Found a valid MOLCAS installation at /home/grierjones/Test/build\n",
      "MOLCAS_WORKDIR is set to /tmp\n"
     ]
    },
    {
     "name": "stderr",
     "output_type": "stream",
     "text": [
      "100%|██████████| 144/144 [08:24<00:00,  3.50s/it]\n",
      "  0%|          | 0/144 [00:00<?, ?it/s]"
     ]
    },
    {
     "name": "stdout",
     "output_type": "stream",
     "text": [
      "/home/grierjones/DDCASPT2/hydrogen_comps/H12_chain/H12_2.32\n",
      "/home/grierjones/DDCASPT2/hydrogen_comps/H12_chain/H12_2.30/H12_2.30.RasOrb\n",
      "Found a valid MOLCAS installation at /home/grierjones/Test/build\n",
      "MOLCAS_WORKDIR is set to /tmp\n"
     ]
    },
    {
     "name": "stderr",
     "output_type": "stream",
     "text": [
      "100%|██████████| 144/144 [08:24<00:00,  3.50s/it]\n"
     ]
    },
    {
     "name": "stdout",
     "output_type": "stream",
     "text": [
      "/home/grierjones/DDCASPT2/hydrogen_comps/H12_chain/H12_2.35\n",
      "/home/grierjones/DDCASPT2/hydrogen_comps/H12_chain/H12_2.32/H12_2.32.RasOrb\n",
      "Found a valid MOLCAS installation at /home/grierjones/Test/build\n",
      "MOLCAS_WORKDIR is set to /tmp\n"
     ]
    },
    {
     "name": "stderr",
     "output_type": "stream",
     "text": [
      "100%|██████████| 144/144 [08:25<00:00,  3.51s/it]\n"
     ]
    },
    {
     "name": "stdout",
     "output_type": "stream",
     "text": [
      "/home/grierjones/DDCASPT2/hydrogen_comps/H12_chain/H12_2.37\n",
      "/home/grierjones/DDCASPT2/hydrogen_comps/H12_chain/H12_2.35/H12_2.35.RasOrb\n",
      "Found a valid MOLCAS installation at /home/grierjones/Test/build\n",
      "MOLCAS_WORKDIR is set to /tmp\n"
     ]
    },
    {
     "name": "stderr",
     "output_type": "stream",
     "text": [
      "100%|██████████| 144/144 [07:58<00:00,  3.32s/it]\n"
     ]
    },
    {
     "name": "stdout",
     "output_type": "stream",
     "text": [
      "/home/grierjones/DDCASPT2/hydrogen_comps/H12_chain/H12_2.39\n",
      "/home/grierjones/DDCASPT2/hydrogen_comps/H12_chain/H12_2.37/H12_2.37.RasOrb\n",
      "Found a valid MOLCAS installation at /home/grierjones/Test/build\n",
      "MOLCAS_WORKDIR is set to /tmp\n"
     ]
    },
    {
     "name": "stderr",
     "output_type": "stream",
     "text": [
      "100%|██████████| 144/144 [08:24<00:00,  3.50s/it]\n"
     ]
    },
    {
     "name": "stdout",
     "output_type": "stream",
     "text": [
      "/home/grierjones/DDCASPT2/hydrogen_comps/H12_chain/H12_2.42\n",
      "/home/grierjones/DDCASPT2/hydrogen_comps/H12_chain/H12_2.39/H12_2.39.RasOrb\n",
      "Found a valid MOLCAS installation at /home/grierjones/Test/build\n",
      "MOLCAS_WORKDIR is set to /tmp\n"
     ]
    },
    {
     "name": "stderr",
     "output_type": "stream",
     "text": [
      "100%|██████████| 144/144 [08:24<00:00,  3.50s/it]\n"
     ]
    },
    {
     "name": "stdout",
     "output_type": "stream",
     "text": [
      "/home/grierjones/DDCASPT2/hydrogen_comps/H12_chain/H12_2.44\n",
      "/home/grierjones/DDCASPT2/hydrogen_comps/H12_chain/H12_2.42/H12_2.42.RasOrb\n",
      "Found a valid MOLCAS installation at /home/grierjones/Test/build\n",
      "MOLCAS_WORKDIR is set to /tmp\n"
     ]
    },
    {
     "name": "stderr",
     "output_type": "stream",
     "text": [
      "100%|██████████| 144/144 [08:23<00:00,  3.50s/it]\n"
     ]
    },
    {
     "name": "stdout",
     "output_type": "stream",
     "text": [
      "/home/grierjones/DDCASPT2/hydrogen_comps/H12_chain/H12_2.47\n",
      "/home/grierjones/DDCASPT2/hydrogen_comps/H12_chain/H12_2.44/H12_2.44.RasOrb\n",
      "Found a valid MOLCAS installation at /home/grierjones/Test/build\n",
      "MOLCAS_WORKDIR is set to /tmp\n"
     ]
    },
    {
     "name": "stderr",
     "output_type": "stream",
     "text": [
      "100%|██████████| 144/144 [08:22<00:00,  3.49s/it]\n"
     ]
    },
    {
     "name": "stdout",
     "output_type": "stream",
     "text": [
      "/home/grierjones/DDCASPT2/hydrogen_comps/H12_chain/H12_2.49\n",
      "/home/grierjones/DDCASPT2/hydrogen_comps/H12_chain/H12_2.47/H12_2.47.RasOrb\n",
      "Found a valid MOLCAS installation at /home/grierjones/Test/build\n",
      "MOLCAS_WORKDIR is set to /tmp\n"
     ]
    },
    {
     "name": "stderr",
     "output_type": "stream",
     "text": [
      "100%|██████████| 144/144 [08:21<00:00,  3.48s/it]\n",
      "  0%|          | 0/144 [00:00<?, ?it/s]"
     ]
    },
    {
     "name": "stdout",
     "output_type": "stream",
     "text": [
      "/home/grierjones/DDCASPT2/hydrogen_comps/H12_chain/H12_2.52\n",
      "/home/grierjones/DDCASPT2/hydrogen_comps/H12_chain/H12_2.49/H12_2.49.RasOrb\n",
      "Found a valid MOLCAS installation at /home/grierjones/Test/build\n",
      "MOLCAS_WORKDIR is set to /tmp\n"
     ]
    },
    {
     "name": "stderr",
     "output_type": "stream",
     "text": [
      "100%|██████████| 144/144 [08:23<00:00,  3.49s/it]\n"
     ]
    },
    {
     "name": "stdout",
     "output_type": "stream",
     "text": [
      "/home/grierjones/DDCASPT2/hydrogen_comps/H12_chain/H12_2.54\n",
      "/home/grierjones/DDCASPT2/hydrogen_comps/H12_chain/H12_2.52/H12_2.52.RasOrb\n",
      "Found a valid MOLCAS installation at /home/grierjones/Test/build\n",
      "MOLCAS_WORKDIR is set to /tmp\n"
     ]
    },
    {
     "name": "stderr",
     "output_type": "stream",
     "text": [
      "100%|██████████| 144/144 [08:25<00:00,  3.51s/it]\n"
     ]
    },
    {
     "name": "stdout",
     "output_type": "stream",
     "text": [
      "/home/grierjones/DDCASPT2/hydrogen_comps/H12_chain/H12_2.56\n",
      "/home/grierjones/DDCASPT2/hydrogen_comps/H12_chain/H12_2.54/H12_2.54.RasOrb\n",
      "Found a valid MOLCAS installation at /home/grierjones/Test/build\n",
      "MOLCAS_WORKDIR is set to /tmp\n"
     ]
    },
    {
     "name": "stderr",
     "output_type": "stream",
     "text": [
      "100%|██████████| 144/144 [08:24<00:00,  3.50s/it]\n",
      "  0%|          | 0/144 [00:00<?, ?it/s]"
     ]
    },
    {
     "name": "stdout",
     "output_type": "stream",
     "text": [
      "/home/grierjones/DDCASPT2/hydrogen_comps/H12_chain/H12_2.59\n",
      "/home/grierjones/DDCASPT2/hydrogen_comps/H12_chain/H12_2.56/H12_2.56.RasOrb\n",
      "Found a valid MOLCAS installation at /home/grierjones/Test/build\n",
      "MOLCAS_WORKDIR is set to /tmp\n"
     ]
    },
    {
     "name": "stderr",
     "output_type": "stream",
     "text": [
      "100%|██████████| 144/144 [07:58<00:00,  3.33s/it]\n"
     ]
    },
    {
     "name": "stdout",
     "output_type": "stream",
     "text": [
      "/home/grierjones/DDCASPT2/hydrogen_comps/H12_chain/H12_2.61\n",
      "/home/grierjones/DDCASPT2/hydrogen_comps/H12_chain/H12_2.59/H12_2.59.RasOrb\n",
      "Found a valid MOLCAS installation at /home/grierjones/Test/build\n",
      "MOLCAS_WORKDIR is set to /tmp\n"
     ]
    },
    {
     "name": "stderr",
     "output_type": "stream",
     "text": [
      "100%|██████████| 144/144 [08:25<00:00,  3.51s/it]\n"
     ]
    },
    {
     "name": "stdout",
     "output_type": "stream",
     "text": [
      "/home/grierjones/DDCASPT2/hydrogen_comps/H12_chain/H12_2.64\n",
      "/home/grierjones/DDCASPT2/hydrogen_comps/H12_chain/H12_2.61/H12_2.61.RasOrb\n",
      "Found a valid MOLCAS installation at /home/grierjones/Test/build\n",
      "MOLCAS_WORKDIR is set to /tmp\n"
     ]
    },
    {
     "name": "stderr",
     "output_type": "stream",
     "text": [
      "100%|██████████| 144/144 [08:25<00:00,  3.51s/it]\n"
     ]
    },
    {
     "name": "stdout",
     "output_type": "stream",
     "text": [
      "/home/grierjones/DDCASPT2/hydrogen_comps/H12_chain/H12_2.66\n",
      "/home/grierjones/DDCASPT2/hydrogen_comps/H12_chain/H12_2.64/H12_2.64.RasOrb\n",
      "Found a valid MOLCAS installation at /home/grierjones/Test/build\n",
      "MOLCAS_WORKDIR is set to /tmp\n"
     ]
    },
    {
     "name": "stderr",
     "output_type": "stream",
     "text": [
      "100%|██████████| 144/144 [08:23<00:00,  3.50s/it]\n"
     ]
    },
    {
     "name": "stdout",
     "output_type": "stream",
     "text": [
      "/home/grierjones/DDCASPT2/hydrogen_comps/H12_chain/H12_2.68\n",
      "/home/grierjones/DDCASPT2/hydrogen_comps/H12_chain/H12_2.66/H12_2.66.RasOrb\n",
      "Found a valid MOLCAS installation at /home/grierjones/Test/build\n",
      "MOLCAS_WORKDIR is set to /tmp\n"
     ]
    },
    {
     "name": "stderr",
     "output_type": "stream",
     "text": [
      "100%|██████████| 144/144 [08:24<00:00,  3.50s/it]\n"
     ]
    }
   ],
   "source": [
    "Parallel(n_jobs=-1)(delayed(run)(i) for i in chains)"
   ]
  },
  {
   "cell_type": "code",
   "execution_count": null,
   "id": "4cb41387-2e70-4aa2-9ab6-987fb642e61c",
   "metadata": {},
   "outputs": [],
   "source": []
  }
 ],
 "metadata": {
  "kernelspec": {
   "display_name": "Python 3 (ipykernel)",
   "language": "python",
   "name": "python3"
  },
  "language_info": {
   "codemirror_mode": {
    "name": "ipython",
    "version": 3
   },
   "file_extension": ".py",
   "mimetype": "text/x-python",
   "name": "python",
   "nbconvert_exporter": "python",
   "pygments_lexer": "ipython3",
   "version": "3.10.4"
  }
 },
 "nbformat": 4,
 "nbformat_minor": 5
}
