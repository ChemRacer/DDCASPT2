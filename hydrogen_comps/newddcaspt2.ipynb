{
 "cells": [
  {
   "cell_type": "code",
   "execution_count": null,
   "id": "64186e21-f624-4588-8211-add44b1840a4",
   "metadata": {},
   "outputs": [],
   "source": [
    "from DDCASPT2 import DDCASPT2\n",
    "import pickle, os, shutil\n",
    "from glob import glob\n",
    "import numpy as np\n",
    "from joblib import Parallel, delayed\n",
    "import pandas as pd"
   ]
  },
  {
   "cell_type": "code",
   "execution_count": null,
   "id": "de6e2767-eafb-4dd0-8c89-9f0df23906bf",
   "metadata": {},
   "outputs": [],
   "source": [
    "radius_range=np.linspace(0.6,3,100)\n",
    "chains=np.arange(2,14,2)\n",
    "\n",
    "# train_ind,test_ind=train_test_split(radius_range, test_size=0.3, random_state=0)\n",
    "# print(len(train_ind),len(test_ind))\n",
    "# with open('train_ind.pickle', 'wb') as handle:\n",
    "#     pickle.dump(train_ind, handle, protocol=pickle.HIGHEST_PROTOCOL)\n",
    "\n",
    "# with open('test_ind.pickle', 'wb') as handle:\n",
    "#     pickle.dump(test_ind, handle, protocol=pickle.HIGHEST_PROTOCOL)\n",
    "\n",
    "with open('test_ind.pickle', 'rb') as handle:\n",
    "    test_ind = pickle.load(handle)\n",
    "\n",
    "with open('train_ind.pickle', 'rb') as handle:\n",
    "    train_ind = pickle.load(handle)\n",
    "    \n",
    "print(len(train_ind),len(test_ind))    \n"
   ]
  },
  {
   "cell_type": "code",
   "execution_count": null,
   "id": "beb7a178-1e8a-4df6-911c-86e80ebbb148",
   "metadata": {
    "scrolled": true
   },
   "outputs": [],
   "source": [
    "# for i in chains:\n",
    "topdir = os.getcwd()\n",
    "basis_set='ANO-RCC-VDZP'\n"
   ]
  },
  {
   "cell_type": "code",
   "execution_count": null,
   "id": "39d86cfa-6946-4d34-84c7-cff9ac4461b9",
   "metadata": {},
   "outputs": [],
   "source": [
    "def run(i):\n",
    "    dirname=f'H{i}_chain'\n",
    "    print(dirname)\n",
    "    if os.path.exists(dirname)==False:\n",
    "        os.mkdir(dirname)\n",
    "        \n",
    "    # os.chdir(os.path.join(topdir,dirname))    \n",
    "    for idxr, r in enumerate(radius_range):\n",
    "        \n",
    "        # Loop radius\n",
    "        name=f\"H{i}_{r:.2f}\"\n",
    "        \n",
    "        # Create files\n",
    "        subdirpath = os.path.join(topdir,dirname,f'{name}')\n",
    "        if os.path.exists(subdirpath)==False:\n",
    "            os.mkdir(subdirpath)\n",
    "        if os.path.exists(os.path.join(subdirpath,f'{name}.csv'))==False:\n",
    "            shutil.rmtree(os.path.join('tmp'),name)\n",
    "            \n",
    "            # Write xyz\n",
    "            with open(os.path.join(subdirpath,f'{name}.xyz'),'w') as f:\n",
    "                f.write(f'{i}\\n\\n')\n",
    "                for j in range(i):\n",
    "                    f.write(f'H {0:>8f} {0:>8f} {j*r:>8f}\\n')\n",
    "            print(subdirpath)\n",
    "            if idxr==0:\n",
    "                d = DDCASPT2(subdirpath,basis_set,name,i,i,0,previous=None)()\n",
    "            else:            \n",
    "                previous=os.path.join(topdir,dirname,f'H{i}_{radius_range[idxr-1]:.2f}',f\"H{i}_{radius_range[idxr-1]:.2f}.RasOrb\")\n",
    "                print(previous)\n",
    "                d = DDCASPT2(subdirpath,basis_set,name,i,i,0,previous=previous)()\n",
    "    \n",
    "    for idxr, r in enumerate(radius_range):\n",
    "        # Loop radius\n",
    "        name=f\"H{i}_{r:.2f}\" \n",
    "        \n",
    "        subdirpath = os.path.join(topdir,dirname,f'{name}')\n",
    "        \n",
    "        \n",
    "        for j in glob(os.path.join(subdirpath,\"*GMJ*.csv\"))+glob(os.path.join(subdirpath,\"*Orb*\"))+glob(os.path.join(subdirpath,\"*h5\"))+glob(os.path.join(subdirpath,\"xmldump\")):\n",
    "            os.remove(j)        \n",
    "    "
   ]
  },
  {
   "cell_type": "code",
   "execution_count": null,
   "id": "c09f67f4-13de-4e5a-9c93-835233504214",
   "metadata": {
    "scrolled": true
   },
   "outputs": [],
   "source": [
    "Parallel(n_jobs=-1)(delayed(run)(i) for i in chains)"
   ]
  },
  {
   "cell_type": "code",
   "execution_count": null,
   "id": "4cb41387-2e70-4aa2-9ab6-987fb642e61c",
   "metadata": {},
   "outputs": [],
   "source": []
  }
 ],
 "metadata": {
  "kernelspec": {
   "display_name": "Python 3 (ipykernel)",
   "language": "python",
   "name": "python3"
  },
  "language_info": {
   "codemirror_mode": {
    "name": "ipython",
    "version": 3
   },
   "file_extension": ".py",
   "mimetype": "text/x-python",
   "name": "python",
   "nbconvert_exporter": "python",
   "pygments_lexer": "ipython3",
   "version": "3.10.4"
  }
 },
 "nbformat": 4,
 "nbformat_minor": 5
}
