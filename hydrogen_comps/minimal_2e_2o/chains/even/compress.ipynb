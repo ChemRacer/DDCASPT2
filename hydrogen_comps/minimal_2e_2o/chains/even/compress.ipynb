{
 "cells": [
  {
   "cell_type": "code",
   "execution_count": null,
   "id": "de57279e-12ed-4211-9e72-846ba2503727",
   "metadata": {},
   "outputs": [],
   "source": [
    "from glob import glob\n",
    "import pandas as pd\n",
    "from joblib import Parallel,effective_n_jobs,delayed\n",
    "from tqdm import tqdm"
   ]
  },
  {
   "cell_type": "code",
   "execution_count": null,
   "id": "555d5ca6-bc29-4623-af73-c5769f08857c",
   "metadata": {},
   "outputs": [],
   "source": [
    "def compress(c):\n",
    "    if 'e2' in c or 'IVECW' in c:\n",
    "        try:\n",
    "            pd.read_csv(c).to_csv(c,compression='zip')\n",
    "        except:\n",
    "            print(f\"{c} is done\")\n",
    "    else:\n",
    "        try:\n",
    "            pd.read_csv(c,header=None).to_csv(c,compression='zip')\n",
    "        except:\n",
    "            print(f\"{c} is done\")"
   ]
  },
  {
   "cell_type": "code",
   "execution_count": null,
   "id": "6ce31380-fe67-42b7-9379-82fc1a08bf60",
   "metadata": {},
   "outputs": [],
   "source": [
    "Parallel(n_jobs=16)(delayed(compress)(c) for c in tqdm(glob('*/*/*csv')))"
   ]
  },
  {
   "cell_type": "code",
   "execution_count": null,
   "id": "72a782e5-0b44-4e43-8df6-9666eae22edc",
   "metadata": {},
   "outputs": [],
   "source": []
  }
 ],
 "metadata": {
  "kernelspec": {
   "display_name": "Python 3 (ipykernel)",
   "language": "python",
   "name": "python3"
  },
  "language_info": {
   "codemirror_mode": {
    "name": "ipython",
    "version": 3
   },
   "file_extension": ".py",
   "mimetype": "text/x-python",
   "name": "python",
   "nbconvert_exporter": "python",
   "pygments_lexer": "ipython3",
   "version": "3.10.4"
  }
 },
 "nbformat": 4,
 "nbformat_minor": 5
}
