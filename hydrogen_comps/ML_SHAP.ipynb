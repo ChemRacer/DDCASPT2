{
 "cells": [
  {
   "cell_type": "code",
   "execution_count": 1,
   "id": "07f4ed39",
   "metadata": {},
   "outputs": [],
   "source": [
    "# For data generation\n",
    "import sys\n",
    "# !{sys.executable} -m pip install matplotlib --upgrade\n",
    "import shutil\n",
    "import os\n",
    "import numpy as np\n",
    "from glob import glob\n",
    "import re\n",
    "import pandas as pd\n",
    "import pickle\n",
    "#random\n",
    "from time import perf_counter\n",
    "\n",
    "# sklearn\n",
    "from sklearn.preprocessing import StandardScaler\n",
    "from sklearn.metrics import r2_score,root_mean_squared_error,mean_absolute_error,mean_absolute_percentage_error\n",
    "from sklearn.model_selection import train_test_split\n",
    "from sklearn.preprocessing import MinMaxScaler\n",
    "from sklearn.kernel_ridge import KernelRidge\n",
    "from sklearn.model_selection import GridSearchCV\n",
    "\n",
    "from xgboost import XGBRegressor\n",
    "#Plotting\n",
    "import seaborn as sns\n",
    "sns.set_style()\n",
    "import matplotlib as mpl\n",
    "import matplotlib.pyplot as plt\n",
    "mpl.rcParams['figure.dpi'] = 200\n",
    "\n",
    "import warnings\n",
    "# warnings.filterwarnings(\"ignore\", category=np.DeprecationWarning) \n",
    "\n",
    "\n",
    "from tqdm.auto import tqdm\n",
    "# from tqdm.notebook import tqdm_notebook as tqdm"
   ]
  },
  {
   "cell_type": "code",
   "execution_count": 2,
   "id": "ff2e8569-2d81-4deb-b91c-324e49b2d9fb",
   "metadata": {},
   "outputs": [],
   "source": [
    "with open(os.path.join(os.path.expanduser('~'),'DDCASPT2/drop.txt'),'r') as d:\n",
    "    dropfeat = [i.replace('\\n','') for i in d.readlines()]"
   ]
  },
  {
   "cell_type": "code",
   "execution_count": 3,
   "id": "30fd72cf",
   "metadata": {},
   "outputs": [
    {
     "name": "stdout",
     "output_type": "stream",
     "text": [
      "70 30\n"
     ]
    },
    {
     "name": "stderr",
     "output_type": "stream",
     "text": [
      "/tmp/ipykernel_10946/2691449218.py:2: DeprecationWarning: numpy.core.numeric is deprecated and has been renamed to numpy._core.numeric. The numpy._core namespace contains private NumPy internals and its use is discouraged, as NumPy internals can change without warning in any release. In practice, most real-world usage of numpy.core is to access functionality in the public NumPy API. If that is the case, use the public NumPy API. If not, you are using NumPy internals. If you would still like to access an internal attribute, use numpy._core.numeric._frombuffer.\n",
      "  test_ind = pickle.load(handle)\n",
      "/tmp/ipykernel_10946/2691449218.py:5: DeprecationWarning: numpy.core.numeric is deprecated and has been renamed to numpy._core.numeric. The numpy._core namespace contains private NumPy internals and its use is discouraged, as NumPy internals can change without warning in any release. In practice, most real-world usage of numpy.core is to access functionality in the public NumPy API. If that is the case, use the public NumPy API. If not, you are using NumPy internals. If you would still like to access an internal attribute, use numpy._core.numeric._frombuffer.\n",
      "  train_ind = pickle.load(handle)\n"
     ]
    }
   ],
   "source": [
    "with open('test_ind.pickle', 'rb') as handle:\n",
    "    test_ind = pickle.load(handle)\n",
    "\n",
    "with open('train_ind.pickle', 'rb') as handle:\n",
    "    train_ind = pickle.load(handle)\n",
    "    \n",
    "print(len(train_ind),len(test_ind))    \n"
   ]
  },
  {
   "cell_type": "code",
   "execution_count": 4,
   "id": "999501f4-64c1-449f-a4e8-dfc98da40ca3",
   "metadata": {},
   "outputs": [
    {
     "data": {
      "text/plain": [
       "(700, 300)"
      ]
     },
     "execution_count": 4,
     "metadata": {},
     "output_type": "execute_result"
    }
   ],
   "source": [
    "len(train_ind)*len(glob('H*')),len(test_ind)*len(glob('H*'))"
   ]
  },
  {
   "cell_type": "code",
   "execution_count": 5,
   "id": "7547d465-a8c6-48d4-a1ce-d16aeead4761",
   "metadata": {},
   "outputs": [
    {
     "data": {
      "text/plain": [
       "(630, 270)"
      ]
     },
     "execution_count": 5,
     "metadata": {},
     "output_type": "execute_result"
    }
   ],
   "source": [
    "len(train_ind)*len([i for i in glob('H*') if '12' not in i]),len(test_ind)*len([i for i in glob('H*') if '12' not in i])"
   ]
  },
  {
   "cell_type": "code",
   "execution_count": 6,
   "id": "abe9a7f2-d48e-478f-816f-45f962b200c7",
   "metadata": {},
   "outputs": [
    {
     "name": "stdout",
     "output_type": "stream",
     "text": [
      "H10_chain\n",
      "H12_chain\n",
      "H14_chain\n",
      "H2_chain\n",
      "H2n_VDZP_params.xlsx\n",
      "H2n_params.xlsx\n",
      "H4_chain\n",
      "H6_chain\n",
      "H8_chain\n",
      "Hn_SHAP.xlsx\n"
     ]
    }
   ],
   "source": [
    "train = []\n",
    "test = []\n",
    "\n",
    "\n",
    "\n",
    "recover_train = []\n",
    "recover_test = []\n",
    "\n",
    "traincnt = 0\n",
    "testcnt = 0\n",
    "for i in sorted(glob('H*')):\n",
    "    print(i)\n",
    "    try:\n",
    "        if int(i.split('_')[0].strip('H'))<=12 and os.path.isdir(i):\n",
    "            for j in glob(os.path.join(i,'H*')):\n",
    "                for k in train_ind:\n",
    "                    if f\"{k:.2f}\" in j:\n",
    "                        traindf = pd.read_csv(os.path.join(j,os.path.basename(j)+'.csv'),compression='zip',index_col=0).rename(columns={'1':'$\\mathbf{b}$'})\n",
    "                        train.append(traindf)\n",
    "                        recover_train.append((i,f\"{k:.2f}\",traincnt,len(traindf)))\n",
    "                        traincnt+=1\n",
    "                        \n",
    "                for l in test_ind:\n",
    "                    if f\"{l:.2f}\" in j:\n",
    "                        testdf = pd.read_csv(os.path.join(j,os.path.basename(j)+'.csv'),compression='zip',index_col=0).rename(columns={'1':'$\\mathbf{b}$'})\n",
    "                        test.append(testdf)                    \n",
    "                        recover_test.append((i,f\"{l:.2f}\",testcnt,len(testdf)))\n",
    "                        testcnt+=1\n",
    "    except:\n",
    "        pass"
   ]
  },
  {
   "cell_type": "code",
   "execution_count": 7,
   "id": "2c87e078-e070-4e7f-9301-f9067a3960dd",
   "metadata": {},
   "outputs": [],
   "source": [
    "rename = {'h$_{qq}^{0}$':'h$_{q}$',\n",
    "'$(F_{q})_{0}$':'$F_{q}$',\n",
    "'$(F_{q}^{\\\\text{SCF}})_{0}$':'$F_{q}^{\\\\text{SCF}}$',\n",
    "'$(\\\\eta_{q})_{0}$':'$\\\\eta_{q}$',\n",
    "'$(\\\\omega_{q})_{0}$':'$\\\\omega_{q}$',\n",
    "'$(\\\\eta_{s})_{0}$':'$\\\\eta_{s}$',\n",
    "'h$_{ss}^{0}$':'h$_{s}$',\n",
    "'$(F_{s}^{\\\\text{SCF}})_{0}$':'$F_{s}^{\\\\text{SCF}}$',\n",
    "'$(F_{s})_{0}$':'$F_{s}$',\n",
    "'$(\\\\omega_{s})_{0}$':'$\\\\omega_{s}$',\n",
    "'$(\\\\langle ss \\\\vert ss \\\\rangle)_{0}$':\"$\\\\langle ss \\\\vert ss \\\\rangle$\",\n",
    "'$(\\\\langle qq \\\\vert qq \\\\rangle)_{0}$':\"$\\langle qq \\\\vert qq \\\\rangle$\",\n",
    "'h$_{pp}^{0}$': '(h$_{p}$)$_{0}$',\n",
    "'h$_{pp}^{1}$': '(h$_{p}$)$_{1}$',\n",
    "'h$_{pp}^{2}$': '(h$_{p}$)$_{2}$',\n",
    "'h$_{pp}^{3}$': '(h$_{p}$)$_{3}$',\n",
    "'h$_{rr}^{0}$': '(h$_{r}$)$_{0}$',\n",
    "'h$_{rr}^{1}$': '(h$_{r}$)$_{1}$',\n",
    "'h$_{rr}^{2}$': '(h$_{r}$)$_{2}$',\n",
    "'h$_{rr}^{3}$': '(h$_{r}$)$_{3}$',\n",
    "'h$_{pq}^{0}$':'(h$_{pq}$)$_{0}$',\n",
    "'h$_{pq}^{1}$':'(h$_{pq}$)$_{1}$',\n",
    "'h$_{pq}^{2}$':'(h$_{pq}$)$_{2}$',\n",
    "'h$_{pq}^{3}$':'(h$_{pq}$)$_{3}$',\n",
    "'h$_{pr}^{0}$':'(h$_{pr}$)$_{0}$',\n",
    "'h$_{pr}^{1}$':'(h$_{pr}$)$_{1}$',\n",
    "'h$_{pr}^{2}$':'(h$_{pr}$)$_{2}$',\n",
    "'h$_{pr}^{3}$':'(h$_{pr}$)$_{3}$',\n",
    "'h$_{rs}^{0}$':'(h$_{rs}$)$_{0}$',\n",
    "'h$_{rs}^{1}$':'(h$_{rs}$)$_{1}$',\n",
    "'h$_{rs}^{2}$':'(h$_{rs}$)$_{2}$',\n",
    "'h$_{rs}^{3}$':'(h$_{rs}$)$_{3}$',\n",
    "'typ_0':'$type_0$',\n",
    "'typ_1':'$type_1$',\n",
    "'typ_2':'$type_2$',\n",
    "'typ_3':'$type_3$'}"
   ]
  },
  {
   "cell_type": "code",
   "execution_count": 8,
   "id": "c832cd45-ef25-47d4-a80b-7146db63368a",
   "metadata": {},
   "outputs": [],
   "source": [
    "# dffeat = pd.read_excel('Hn_SHAP.xlsx',index_col=0).sort_values(by='shap',ascending=False)\n",
    "dffeat = pd.read_excel('Hn_SHAP.xlsx')"
   ]
  },
  {
   "cell_type": "code",
   "execution_count": 9,
   "id": "6eff1d8e-7084-4c81-80b3-5532cd22a32a",
   "metadata": {},
   "outputs": [],
   "source": [
    "# with open('feature_names.txt','r') as f:\n",
    "#     for i in sorted(f.readlines()):\n",
    "#         print(i)"
   ]
  },
  {
   "cell_type": "code",
   "execution_count": null,
   "id": "0f8e5f1e-f6b3-4083-84b2-eb52bed90494",
   "metadata": {},
   "outputs": [],
   "source": []
  },
  {
   "cell_type": "code",
   "execution_count": 10,
   "id": "8a0f0885-ae0c-4553-b3c2-dfcacc48c994",
   "metadata": {},
   "outputs": [
    {
     "name": "stdout",
     "output_type": "stream",
     "text": [
      "0.16666666666666666\n",
      "R2: 0.9878,0.9742\n",
      "RMSE (mEh): 0.1291,0.1979\n",
      "R2: 0.9982,0.9967\n",
      "RMSE (mEh): 1.2111,1.8191\n",
      "0.3333333333333333\n",
      "R2: 0.9918,0.9847\n",
      "RMSE (mEh): 0.1061,0.1525\n",
      "R2: 0.9989,0.9963\n",
      "RMSE (mEh): 0.9506,1.9348\n",
      "0.5\n",
      "R2: 0.9921,0.9846\n",
      "RMSE (mEh): 0.1037,0.1531\n",
      "R2: 0.9987,0.9954\n",
      "RMSE (mEh): 1.0226,2.1445\n",
      "0.6666666666666666\n",
      "R2: 0.9925,0.9843\n",
      "RMSE (mEh): 0.1010,0.1544\n",
      "R2: 0.9988,0.9951\n",
      "RMSE (mEh): 0.9826,2.2179\n",
      "0.8333333333333334\n",
      "R2: 0.9926,0.9842\n",
      "RMSE (mEh): 0.1004,0.1548\n",
      "R2: 0.9990,0.9955\n",
      "RMSE (mEh): 0.9021,2.1173\n",
      "1.0\n",
      "R2: 0.9926,0.9842\n",
      "RMSE (mEh): 0.1004,0.1548\n",
      "R2: 0.9990,0.9955\n",
      "RMSE (mEh): 0.9021,2.1173\n"
     ]
    }
   ],
   "source": [
    "maes = {}\n",
    "r2s = {}\n",
    "for featlen in np.arange(17,dffeat.shape[0]+17,17):\n",
    "    feat_shap = dffeat['feat'].iloc[0:featlen].values\n",
    "    \n",
    "    print(len(feat_shap)/len(dffeat))\n",
    "    train_df = pd.concat(train).drop(columns=dropfeat).rename(columns=rename)\n",
    "    test_df = pd.concat(test).drop(columns=dropfeat).rename(columns=rename)\n",
    "    \n",
    "    X_train = train_df[feat_shap].values\n",
    "    X_test = test_df[feat_shap].values\n",
    "    \n",
    "    y_train = train_df['Pair_Energies'].values\n",
    "    y_test = test_df['Pair_Energies'].values\n",
    "    \n",
    "    scaler=MinMaxScaler()\n",
    "    X_train=scaler.fit_transform(X_train)\n",
    "    X_test=scaler.transform(X_test)\n",
    "    \n",
    "    kwargs = dict(pd.read_excel(\"H2n_params.xlsx\").values)\n",
    "    model=XGBRegressor(**kwargs)\n",
    "    model.fit(X_train,y_train)\n",
    "    y_pred_train=model.predict(X_train)\n",
    "    y_pred_test=model.predict(X_test)\n",
    "    print(f\"R2: {r2_score(y_train,y_pred_train):.4f},{r2_score(y_test,y_pred_test):.4f}\")\n",
    "    print(f\"RMSE (mEh): {root_mean_squared_error(y_train,y_pred_train)*1e3:.4f},{root_mean_squared_error(y_test,y_pred_test)*1e3:.4f}\")\n",
    "\n",
    "    testcntrcvr = 0\n",
    "    recover_test_list = []\n",
    "    recover_test_E2 = []\n",
    "    for i,j,k,l in recover_test:\n",
    "        init_test = testcntrcvr\n",
    "        testcntrcvr+=l\n",
    "        recover_test_list.append((i.split(\"_\")[0],j,y_test[init_test:testcntrcvr],y_pred_test[init_test:testcntrcvr]))\n",
    "        recover_test_E2.append((i.split(\"_\")[0],j,np.sum(y_test[init_test:testcntrcvr]),np.sum(y_pred_test[init_test:testcntrcvr])))\n",
    "    \n",
    "    \n",
    "    traincntrcvr = 0\n",
    "    recover_train_list = []\n",
    "    recover_train_E2 = []\n",
    "    for i,j,k,l in recover_train:\n",
    "        init_train = traincntrcvr\n",
    "        traincntrcvr+=l\n",
    "        recover_train_list.append((i.split(\"_\")[0],j,y_train[init_train:traincntrcvr],y_pred_train[init_train:traincntrcvr]))\n",
    "        recover_train_E2.append((i.split(\"_\")[0],j,np.sum(y_train[init_train:traincntrcvr]),np.sum(y_pred_train[init_train:traincntrcvr])))\n",
    "\n",
    "    traincorrE2 = pd.DataFrame(recover_train_E2).rename(columns={0:'H$_{2n}$',1:'Radius ($\\AA$)',2:'E$_{2}^{\\text{Calculated}}$',3:'E$_{2}^{\\text{Predicted}}$'})\n",
    "    #.astype({'H$_{2n}$':str,'Radius ($\\AA$)':float,'E$_{2}^{\\text{Calculated}}$':float,'E$_{2}^{\\text{Predicted}}$':float})\n",
    "    testcorrE2 = pd.DataFrame(recover_test_E2).rename(columns={0:'H$_{2n}$',1:'Radius ($\\AA$)',2:'E$_{2}^{\\text{Calculated}}$',3:'E$_{2}^{\\text{Predicted}}$'})\n",
    "    #.astype({'H$_{2n}$':str,'Radius ($\\AA$)':float,'E$_{2}^{\\text{Calculated}}$':float,'E$_{2}^{\\text{Predicted}}$':float})\n",
    "\n",
    "\n",
    "    \n",
    "    traincorrcalc, traincorrpred = traincorrE2['E$_{2}^{\\text{Calculated}}$'],traincorrE2['E$_{2}^{\\text{Predicted}}$']\n",
    "    testcorrcalc, testcorrpred = testcorrE2['E$_{2}^{\\text{Calculated}}$'],testcorrE2['E$_{2}^{\\text{Predicted}}$']\n",
    "    print(f\"R2: {r2_score(traincorrcalc, traincorrpred):.4f},{r2_score(testcorrcalc, testcorrpred):.4f}\")\n",
    "    print(f\"RMSE (mEh): {root_mean_squared_error(traincorrcalc, traincorrpred)*1e3:.4f},{root_mean_squared_error(testcorrcalc, testcorrpred)*1e3:.4f}\")\n",
    "    \n",
    "    maes[featlen] = {'Train pairs':mean_absolute_error(y_train,y_pred_train)*1e3,'Test pairs':mean_absolute_error(y_test,y_pred_test)*1e3,'Train Corr':mean_absolute_error(traincorrcalc, traincorrpred)*1e3, 'Test Corr':mean_absolute_error(testcorrcalc, testcorrpred)*1e3}\n",
    "    r2s[featlen] = {'Train pairs':r2_score(y_train,y_pred_train),'Test pairs':r2_score(y_test,y_pred_test),'Train Corr':r2_score(traincorrcalc, traincorrpred), 'Test Corr':r2_score(testcorrcalc, testcorrpred)}\n",
    "    \n",
    "    traincorrE2['CASPT2_E']=np.zeros(len(traincorrE2))\n",
    "    traincorrE2['CASSCF_E']=np.zeros(len(traincorrE2))\n",
    "    traincorrE2['E2']=np.zeros(len(traincorrE2))\n",
    "    \n",
    "    traincorrE2.index = [\"_\".join((u,v)) for u,v in traincorrE2[['H$_{2n}$','Radius ($\\AA$)']].values]\n",
    "    \n",
    "    for i in traincorrE2.index:\n",
    "        hn, r = i.split('_')\n",
    "        energy_df = pd.read_excel(f\"{hn}_chain/{hn}_{r}/{hn}_{r}_energies.xlsx\",index_col=0)\n",
    "        traincorrE2.loc[i,'CASPT2_E']=energy_df.loc['CASPT2_E'].values\n",
    "        traincorrE2.loc[i,'CASSCF_E']=energy_df.loc['CASSCF_E'].values\n",
    "        # traincorrE2.loc[i,'E2']=energy_df.loc['E2'].values\n",
    "    \n",
    "    traincorrE2['E$_{\\text{CASPT2}}^{\\text{Predicted}}$'] = traincorrE2['CASSCF_E']+traincorrE2['E$_{2}^{\\text{Predicted}}$']\n",
    "    \n",
    "    traincorrE2.rename(columns = {'CASPT2_E':'E$_{\\text{CASPT2}}^{\\text{Calculated}}$','CASSCF_E':'E$_{\\text{CASSCF}}^{\\text{Calculated}}$'},inplace=True)\n",
    "    \n",
    "    \n",
    "    testcorrE2['CASPT2_E']=np.zeros(len(testcorrE2))\n",
    "    testcorrE2['CASSCF_E']=np.zeros(len(testcorrE2))\n",
    "    testcorrE2['E2']=np.zeros(len(testcorrE2))\n",
    "    \n",
    "    testcorrE2.index = [\"_\".join((u,v)) for u,v in testcorrE2[['H$_{2n}$','Radius ($\\AA$)']].values]\n",
    "    \n",
    "    for i in testcorrE2.index:\n",
    "        hn, r = i.split('_')\n",
    "        energy_df = pd.read_excel(f\"{hn}_chain/{hn}_{r}/{hn}_{r}_energies.xlsx\",index_col=0)\n",
    "        testcorrE2.loc[i,'CASPT2_E']=energy_df.loc['CASPT2_E'].values\n",
    "        testcorrE2.loc[i,'CASSCF_E']=energy_df.loc['CASSCF_E'].values\n",
    "        # testcorrE2.loc[i,'E2']=energy_df.loc['E2'].values\n",
    "    \n",
    "    testcorrE2['E$_{\\text{CASPT2}}^{\\text{Predicted}}$'] = testcorrE2['CASSCF_E']+testcorrE2['E$_{2}^{\\text{Predicted}}$']\n",
    "    \n",
    "    testcorrE2.rename(columns = {'CASPT2_E':'E$_{\\text{CASPT2}}^{\\text{Calculated}}$','CASSCF_E':'E$_{\\text{CASSCF}}^{\\text{Calculated}}$'},inplace=True)\n",
    "\n",
    "    "
   ]
  },
  {
   "cell_type": "code",
   "execution_count": 11,
   "id": "dc3fb10e-f7ec-4b4f-b7a1-d82a7b8253bb",
   "metadata": {},
   "outputs": [],
   "source": [
    "maecurve = pd.DataFrame(maes).T.reset_index()\n",
    "mae_pair_df = maecurve[['index','Train pairs','Test pairs']].rename(columns={'index':'Number of Features','Train pairs':'Train','Test pairs':'Test'}).melt(id_vars=['Number of Features'], value_vars=['Train','Test'])\n",
    "mae_corr_df = maecurve[['index','Train Corr','Test Corr']].rename(columns={'index':'Number of Features','Train Corr':'Train','Test Corr':'Test'}).melt(id_vars=['Number of Features'], value_vars=['Train','Test'])"
   ]
  },
  {
   "cell_type": "code",
   "execution_count": 12,
   "id": "4120be17-3d76-4f60-827b-6c0378bbab2b",
   "metadata": {},
   "outputs": [],
   "source": [
    "r2curve = pd.DataFrame(r2s).T.reset_index()\n",
    "r2_pair_df = r2curve[['index','Train pairs','Test pairs']].rename(columns={'index':'Number of Features','Train pairs':'Train','Test pairs':'Test'}).melt(id_vars=['Number of Features'], value_vars=['Train','Test'])\n",
    "r2_corr_df = r2curve[['index','Train Corr','Test Corr']].rename(columns={'index':'Number of Features','Train Corr':'Train','Test Corr':'Test'}).melt(id_vars=['Number of Features'], value_vars=['Train','Test'])"
   ]
  },
  {
   "cell_type": "code",
   "execution_count": 13,
   "id": "518cf22f-a090-4878-9033-f4f1036dcbac",
   "metadata": {},
   "outputs": [
    {
     "name": "stdout",
     "output_type": "stream",
     "text": [
      "0.16666666666666666 17 2.3126e-05\n",
      "\n",
      "0.3333333333333333 34 7.8961e-06\n",
      "\n",
      "0.5 51 3.9315e-06\n",
      "\n",
      "0.6666666666666666 68 1.9281e-06\n",
      "\n",
      "0.8333333333333334 85 2.3731e-09\n",
      "\n",
      "1.0 102 0.0000e+00\n",
      "\n"
     ]
    }
   ],
   "source": [
    "for featlen in np.arange(17,dffeat.shape[0]+17,17):\n",
    "    dfcheck = dffeat['feat'].iloc[0:featlen]\n",
    "    feat_shap = dfcheck.values\n",
    "    print(len(feat_shap)/len(dffeat),len(feat_shap),f\"{dffeat.iloc[0:featlen]['shap'].min():.4e}\")\n",
    "    print()"
   ]
  },
  {
   "cell_type": "code",
   "execution_count": 14,
   "id": "55a0429e-2158-42c9-a696-c5c9a2b77530",
   "metadata": {},
   "outputs": [
    {
     "data": {
      "text/html": [
       "<div>\n",
       "<style scoped>\n",
       "    .dataframe tbody tr th:only-of-type {\n",
       "        vertical-align: middle;\n",
       "    }\n",
       "\n",
       "    .dataframe tbody tr th {\n",
       "        vertical-align: top;\n",
       "    }\n",
       "\n",
       "    .dataframe thead th {\n",
       "        text-align: right;\n",
       "    }\n",
       "</style>\n",
       "<table border=\"1\" class=\"dataframe\">\n",
       "  <thead>\n",
       "    <tr style=\"text-align: right;\">\n",
       "      <th></th>\n",
       "      <th>index</th>\n",
       "      <th>Train pairs</th>\n",
       "      <th>Test pairs</th>\n",
       "      <th>Train Corr</th>\n",
       "      <th>Test Corr</th>\n",
       "    </tr>\n",
       "  </thead>\n",
       "  <tbody>\n",
       "    <tr>\n",
       "      <th>0</th>\n",
       "      <td>17</td>\n",
       "      <td>0.987794</td>\n",
       "      <td>0.974213</td>\n",
       "      <td>0.998246</td>\n",
       "      <td>0.996712</td>\n",
       "    </tr>\n",
       "    <tr>\n",
       "      <th>1</th>\n",
       "      <td>34</td>\n",
       "      <td>0.991753</td>\n",
       "      <td>0.984695</td>\n",
       "      <td>0.998920</td>\n",
       "      <td>0.996280</td>\n",
       "    </tr>\n",
       "    <tr>\n",
       "      <th>2</th>\n",
       "      <td>51</td>\n",
       "      <td>0.992118</td>\n",
       "      <td>0.984569</td>\n",
       "      <td>0.998750</td>\n",
       "      <td>0.995430</td>\n",
       "    </tr>\n",
       "    <tr>\n",
       "      <th>3</th>\n",
       "      <td>68</td>\n",
       "      <td>0.992524</td>\n",
       "      <td>0.984300</td>\n",
       "      <td>0.998846</td>\n",
       "      <td>0.995112</td>\n",
       "    </tr>\n",
       "    <tr>\n",
       "      <th>4</th>\n",
       "      <td>85</td>\n",
       "      <td>0.992615</td>\n",
       "      <td>0.984220</td>\n",
       "      <td>0.999027</td>\n",
       "      <td>0.995545</td>\n",
       "    </tr>\n",
       "    <tr>\n",
       "      <th>5</th>\n",
       "      <td>102</td>\n",
       "      <td>0.992615</td>\n",
       "      <td>0.984220</td>\n",
       "      <td>0.999027</td>\n",
       "      <td>0.995545</td>\n",
       "    </tr>\n",
       "  </tbody>\n",
       "</table>\n",
       "</div>"
      ],
      "text/plain": [
       "   index  Train pairs  Test pairs  Train Corr  Test Corr\n",
       "0     17     0.987794    0.974213    0.998246   0.996712\n",
       "1     34     0.991753    0.984695    0.998920   0.996280\n",
       "2     51     0.992118    0.984569    0.998750   0.995430\n",
       "3     68     0.992524    0.984300    0.998846   0.995112\n",
       "4     85     0.992615    0.984220    0.999027   0.995545\n",
       "5    102     0.992615    0.984220    0.999027   0.995545"
      ]
     },
     "execution_count": 14,
     "metadata": {},
     "output_type": "execute_result"
    }
   ],
   "source": [
    "r2curve"
   ]
  },
  {
   "cell_type": "code",
   "execution_count": 15,
   "id": "be96671b-e46d-485d-b7b3-28731aa8df9f",
   "metadata": {},
   "outputs": [
    {
     "data": {
      "text/html": [
       "<div>\n",
       "<style scoped>\n",
       "    .dataframe tbody tr th:only-of-type {\n",
       "        vertical-align: middle;\n",
       "    }\n",
       "\n",
       "    .dataframe tbody tr th {\n",
       "        vertical-align: top;\n",
       "    }\n",
       "\n",
       "    .dataframe thead th {\n",
       "        text-align: right;\n",
       "    }\n",
       "</style>\n",
       "<table border=\"1\" class=\"dataframe\">\n",
       "  <thead>\n",
       "    <tr style=\"text-align: right;\">\n",
       "      <th></th>\n",
       "      <th>index</th>\n",
       "      <th>Train pairs</th>\n",
       "      <th>Test pairs</th>\n",
       "      <th>Train Corr</th>\n",
       "      <th>Test Corr</th>\n",
       "    </tr>\n",
       "  </thead>\n",
       "  <tbody>\n",
       "    <tr>\n",
       "      <th>1</th>\n",
       "      <td>34</td>\n",
       "      <td>0.9918</td>\n",
       "      <td>0.9847</td>\n",
       "      <td>0.9989</td>\n",
       "      <td>0.9963</td>\n",
       "    </tr>\n",
       "  </tbody>\n",
       "</table>\n",
       "</div>"
      ],
      "text/plain": [
       "   index  Train pairs  Test pairs  Train Corr  Test Corr\n",
       "1     34       0.9918      0.9847      0.9989     0.9963"
      ]
     },
     "execution_count": 15,
     "metadata": {},
     "output_type": "execute_result"
    }
   ],
   "source": [
    "r2curve[r2curve['index']==34].round(4)"
   ]
  },
  {
   "cell_type": "code",
   "execution_count": 16,
   "id": "5bebe244-2c90-4514-8e82-9fc57c9a7572",
   "metadata": {},
   "outputs": [
    {
     "data": {
      "text/html": [
       "<div>\n",
       "<style scoped>\n",
       "    .dataframe tbody tr th:only-of-type {\n",
       "        vertical-align: middle;\n",
       "    }\n",
       "\n",
       "    .dataframe tbody tr th {\n",
       "        vertical-align: top;\n",
       "    }\n",
       "\n",
       "    .dataframe thead th {\n",
       "        text-align: right;\n",
       "    }\n",
       "</style>\n",
       "<table border=\"1\" class=\"dataframe\">\n",
       "  <thead>\n",
       "    <tr style=\"text-align: right;\">\n",
       "      <th></th>\n",
       "      <th>index</th>\n",
       "      <th>Train pairs</th>\n",
       "      <th>Test pairs</th>\n",
       "      <th>Train Corr</th>\n",
       "      <th>Test Corr</th>\n",
       "    </tr>\n",
       "  </thead>\n",
       "  <tbody>\n",
       "    <tr>\n",
       "      <th>5</th>\n",
       "      <td>102</td>\n",
       "      <td>0.9926</td>\n",
       "      <td>0.9842</td>\n",
       "      <td>0.999</td>\n",
       "      <td>0.9955</td>\n",
       "    </tr>\n",
       "  </tbody>\n",
       "</table>\n",
       "</div>"
      ],
      "text/plain": [
       "   index  Train pairs  Test pairs  Train Corr  Test Corr\n",
       "5    102       0.9926      0.9842       0.999     0.9955"
      ]
     },
     "execution_count": 16,
     "metadata": {},
     "output_type": "execute_result"
    }
   ],
   "source": [
    "r2curve[r2curve['index']==102].round(4)"
   ]
  },
  {
   "cell_type": "code",
   "execution_count": 17,
   "id": "b616fae8-c2b9-482a-814c-8c0ccb583fa6",
   "metadata": {},
   "outputs": [
    {
     "data": {
      "text/html": [
       "<div>\n",
       "<style scoped>\n",
       "    .dataframe tbody tr th:only-of-type {\n",
       "        vertical-align: middle;\n",
       "    }\n",
       "\n",
       "    .dataframe tbody tr th {\n",
       "        vertical-align: top;\n",
       "    }\n",
       "\n",
       "    .dataframe thead th {\n",
       "        text-align: right;\n",
       "    }\n",
       "</style>\n",
       "<table border=\"1\" class=\"dataframe\">\n",
       "  <thead>\n",
       "    <tr style=\"text-align: right;\">\n",
       "      <th></th>\n",
       "      <th>index</th>\n",
       "      <th>Train pairs</th>\n",
       "      <th>Test pairs</th>\n",
       "      <th>Train Corr</th>\n",
       "      <th>Test Corr</th>\n",
       "    </tr>\n",
       "  </thead>\n",
       "  <tbody>\n",
       "    <tr>\n",
       "      <th>1</th>\n",
       "      <td>34</td>\n",
       "      <td>0.0751</td>\n",
       "      <td>0.0912</td>\n",
       "      <td>0.6228</td>\n",
       "      <td>1.0636</td>\n",
       "    </tr>\n",
       "  </tbody>\n",
       "</table>\n",
       "</div>"
      ],
      "text/plain": [
       "   index  Train pairs  Test pairs  Train Corr  Test Corr\n",
       "1     34       0.0751      0.0912      0.6228     1.0636"
      ]
     },
     "execution_count": 17,
     "metadata": {},
     "output_type": "execute_result"
    }
   ],
   "source": [
    "maecurve[maecurve['index']==34].round(4)"
   ]
  },
  {
   "cell_type": "code",
   "execution_count": 18,
   "id": "58219e5f-406d-4aa7-a398-6d189f4324c4",
   "metadata": {},
   "outputs": [
    {
     "data": {
      "text/html": [
       "<div>\n",
       "<style scoped>\n",
       "    .dataframe tbody tr th:only-of-type {\n",
       "        vertical-align: middle;\n",
       "    }\n",
       "\n",
       "    .dataframe tbody tr th {\n",
       "        vertical-align: top;\n",
       "    }\n",
       "\n",
       "    .dataframe thead th {\n",
       "        text-align: right;\n",
       "    }\n",
       "</style>\n",
       "<table border=\"1\" class=\"dataframe\">\n",
       "  <thead>\n",
       "    <tr style=\"text-align: right;\">\n",
       "      <th></th>\n",
       "      <th>index</th>\n",
       "      <th>Train pairs</th>\n",
       "      <th>Test pairs</th>\n",
       "      <th>Train Corr</th>\n",
       "      <th>Test Corr</th>\n",
       "    </tr>\n",
       "  </thead>\n",
       "  <tbody>\n",
       "    <tr>\n",
       "      <th>5</th>\n",
       "      <td>102</td>\n",
       "      <td>0.0714</td>\n",
       "      <td>0.0895</td>\n",
       "      <td>0.5753</td>\n",
       "      <td>1.0957</td>\n",
       "    </tr>\n",
       "  </tbody>\n",
       "</table>\n",
       "</div>"
      ],
      "text/plain": [
       "   index  Train pairs  Test pairs  Train Corr  Test Corr\n",
       "5    102       0.0714      0.0895      0.5753     1.0957"
      ]
     },
     "execution_count": 18,
     "metadata": {},
     "output_type": "execute_result"
    }
   ],
   "source": [
    "maecurve[maecurve['index']==102].round(4)"
   ]
  },
  {
   "cell_type": "code",
   "execution_count": 19,
   "id": "54dd2a4e-b1d4-48a9-8b77-6fccff8f8cda",
   "metadata": {},
   "outputs": [
    {
     "data": {
      "image/png": "[encoded data removed]",
      "text/plain": [
       "<Figure size 1600x800 with 2 Axes>"
      ]
     },
     "metadata": {},
     "output_type": "display_data"
    }
   ],
   "source": [
    "# pairedcp=sns.color_palette('Paired')\n",
    "# fig, ax = plt.subplots(2,2,sharex=True)\n",
    "# sns.lineplot(r2_pair_df,x='Number of Features',y='value', hue='variable',ax=ax[0][0],palette=pairedcp[4:6])\n",
    "# sns.lineplot(r2_corr_df,x='Number of Features',y='value', hue='variable',ax=ax[0][1],markers='x',palette=pairedcp[4:6])\n",
    "# ax[0][0].set_title(r'Pair-Energies ($\\varepsilon_{qs}$)')\n",
    "# ax[0][1].set_title(r'Correlation Energies (E$_{2}$)')\n",
    "# ax[0][0].set_ylim(0.9,1.01)\n",
    "# ax[0][1].set_ylim(0.9,1.01)\n",
    "# ax[0][0].set_ylabel(\"R$^{2}$\")\n",
    "# ax[0][1].set_ylabel(\"R$^{2}$\")\n",
    "# sns.lineplot(mae_pair_df,x='Number of Features',y='value', hue='variable',ax=ax[1][0],palette=pairedcp[4:6])\n",
    "# ax[1][0].set_ylim(0,0.5)\n",
    "# sns.lineplot(mae_corr_df,x='Number of Features',y='value', hue='variable',ax=ax[1][1],palette=pairedcp[4:6])\n",
    "# ax[1][1].set_ylim(0,2)\n",
    "# ax[1][0].set_ylabel(\"MAE (m$E_{\\mathrm{h}}$)\")\n",
    "# ax[1][1].set_ylabel(\"MAE (m$E_{\\mathrm{h}}$)\")\n",
    "# plt.tight_layout()\n",
    "# plt.savefig('images/shap_curves.png',dpi=300,bbox_inches='tight')\n",
    "\n",
    "\n",
    "pairedcp=sns.color_palette('Paired')\n",
    "fig, ax = plt.subplots(1,2,sharex=True,figsize=(8,4))\n",
    "# sns.lineplot(r2_pair_df,x='Number of Features',y='value', hue='variable',ax=ax[0][0],palette=pairedcp[4:6])\n",
    "# sns.lineplot(r2_corr_df,x='Number of Features',y='value', hue='variable',ax=ax[0][1],markers='x',palette=pairedcp[4:6])\n",
    "# ax[0][0].set_title(r'Pair-Energies ($\\varepsilon_{qs}$)')\n",
    "# ax[0][1].set_title(r'Correlation Energies (E$_{2}$)')\n",
    "# ax[0][0].set_ylim(0.9,1.01)\n",
    "# ax[0][1].set_ylim(0.9,1.01)\n",
    "# ax[0][0].set_ylabel(\"R$^{2}$\")\n",
    "# ax[0][1].set_ylabel(\"R$^{2}$\")\n",
    "sns.lineplot(mae_pair_df,x='Number of Features',y='value', hue='variable',ax=ax[0],palette=pairedcp[4:6])\n",
    "ax[0].set_ylim(0,0.2)\n",
    "sns.lineplot(mae_corr_df,x='Number of Features',y='value', hue='variable',ax=ax[1],palette=pairedcp[4:6])\n",
    "ax[1].set_ylim(0,2)\n",
    "ax[0].set_ylabel(\"MAE (m$E_{\\mathrm{h}}$)\")\n",
    "ax[1].set_ylabel(\"MAE (m$E_{\\mathrm{h}}$)\")\n",
    "plt.tight_layout()\n",
    "plt.savefig('images/shap_curves.png',dpi=300,bbox_inches='tight')"
   ]
  },
  {
   "cell_type": "code",
   "execution_count": null,
   "id": "a7286cad-f816-40bd-80ec-be1fa8305253",
   "metadata": {},
   "outputs": [],
   "source": []
  }
 ],
 "metadata": {
  "kernelspec": {
   "display_name": "Python 3 (ipykernel)",
   "language": "python",
   "name": "python3"
  },
  "language_info": {
   "codemirror_mode": {
    "name": "ipython",
    "version": 3
   },
   "file_extension": ".py",
   "mimetype": "text/x-python",
   "name": "python",
   "nbconvert_exporter": "python",
   "pygments_lexer": "ipython3",
   "version": "3.10.4"
  }
 },
 "nbformat": 4,
 "nbformat_minor": 5
}
