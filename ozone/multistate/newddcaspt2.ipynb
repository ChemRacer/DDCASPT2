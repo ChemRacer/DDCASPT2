{
 "cells": [
  {
   "cell_type": "code",
   "execution_count": null,
   "id": "64186e21-f624-4588-8211-add44b1840a4",
   "metadata": {},
   "outputs": [],
   "source": [
    "from DDCASPT2 import DDCASPT2\n",
    "import pickle, os, shutil\n",
    "from glob import glob\n",
    "import numpy as np\n",
    "from joblib import Parallel, delayed\n",
    "import pandas as pd\n",
    "from math import sin, cos, pi\n",
    "from tqdm.notebook import tqdm"
   ]
  },
  {
   "cell_type": "code",
   "execution_count": null,
   "id": "de6e2767-eafb-4dd0-8c89-9f0df23906bf",
   "metadata": {},
   "outputs": [],
   "source": [
    "# radius_range=np.arange(106,182,0.5)\n",
    "radius_range=np.arange(106,182,0.25)\n",
    "# radius_range=np.arange(106,182,1)\n",
    "\n",
    "train_ind,test_ind=radius_range[0::2],radius_range[1::2]\n",
    "# train_test_split(radius_range, test_size=0.3, random_state=0)\n",
    "print(len(train_ind),len(test_ind))\n",
    "with open('big_train_ind.pickle', 'wb') as handle:\n",
    "    pickle.dump(train_ind, handle, protocol=pickle.HIGHEST_PROTOCOL)\n",
    "\n",
    "with open('big_test_ind.pickle', 'wb') as handle:\n",
    "    pickle.dump(test_ind, handle, protocol=pickle.HIGHEST_PROTOCOL)\n",
    "\n",
    "# with open('test_ind.pickle', 'rb') as handle:\n",
    "#     test_ind = pickle.load(handle)\n",
    "\n",
    "# with open('train_ind.pickle', 'rb') as handle:\n",
    "#     train_ind = pickle.load(handle)\n",
    "    \n",
    "print(len(train_ind),len(test_ind))    "
   ]
  },
  {
   "cell_type": "code",
   "execution_count": null,
   "id": "beb7a178-1e8a-4df6-911c-86e80ebbb148",
   "metadata": {
    "scrolled": true
   },
   "outputs": [],
   "source": [
    "# for i in chains:\n",
    "topdir = os.getcwd()\n",
    "\n",
    "print(topdir)"
   ]
  },
  {
   "cell_type": "code",
   "execution_count": null,
   "id": "3ceacd3e-aacb-4d0e-9670-f8213cd095cc",
   "metadata": {},
   "outputs": [],
   "source": [
    "def gen_run(name,path):\n",
    "    with open(os.path.join(path,f'run.sh'),'w') as g:\n",
    "        g.write(f\"\"\"#!/bin/bash\n",
    "#This file is a submission script to request the ISAAC resources from Slurm\n",
    "#SBATCH --account=ACF-UTK0011             # The project account to be charged\n",
    "#SBATCH --job-name={name}\t\t       #The name of the job\n",
    "#SBATCH --nodes=1                     # Number of nodes\n",
    "#SBATCH --ntasks-per-node=4          # cpus per node\n",
    "#SBATCH --partition=campus            # If not specified then default is \"campus\"\n",
    "#SBATCH --qos=campus\n",
    "#SBATCH --time=0-04:00:00             # Wall time (days-hh:mm:ss)\n",
    "#SBATCH --error=job.e%J\t       # The file where run time errors will be dumped\n",
    "#SBATCH --output=job.o%J\t       # The file where the output of the terminal will be dumped\n",
    "\n",
    "\n",
    "\n",
    "# PATCH!\n",
    "# MOVE TO WORKING DIR\n",
    "echo $SLURM_SUBMIT_DIR\n",
    "cd $SLURM_SUBMIT_DIR\n",
    "pwd\n",
    "# DEFINE WorkDir\n",
    "mkdir $SLURM_SUBMIT_DIR/$SLURM_JOBID\n",
    "export WorkDir=$SLURM_SUBMIT_DIR/$SLURM_JOBID\n",
    "export MOLCAS_WORKDIR=\"/lustre/isaac/scratch/gjones39\"\n",
    "export MOLCAS=\"/lustre/isaac/proj/UTK0022/Grier2025/Test/build\"\n",
    "echo $WorkDir\n",
    "\n",
    "\n",
    "\n",
    "module purge\n",
    "module load intel-compilers/2021.2.0\n",
    "module load hdf5/1.10.8-intel\n",
    "module load cmake/3.23.2-intel\n",
    "\n",
    "# DEFINE WorkDir\n",
    "echo \"Starting at $(date)\"\n",
    "echo \"Running on hosts: $SLURM_NODELIST\"\n",
    "echo \"Running on $SLURM_NNODES nodes.\"\n",
    "echo \"Running $SLURM_NTASKS tasks.\"\n",
    "echo \"Current working directory is $(pwd)\"\n",
    "\n",
    "# THE COMMAND\n",
    "pymolcas --new --clean {name}.input -oe {name}.output\n",
    "# CLEAN-UP AND EXIT\n",
    "rm -r $SLURM_SUBMIT_DIR/$SLURM_JOBID\n",
    "echo \"Program finished with exit code $? at: $(date)\"\n",
    "\"\"\")    "
   ]
  },
  {
   "cell_type": "code",
   "execution_count": null,
   "id": "39d86cfa-6946-4d34-84c7-cff9ac4461b9",
   "metadata": {},
   "outputs": [],
   "source": [
    "def run(dirname,basis_set):\n",
    "    if os.path.exists(basis_set)==False:\n",
    "        os.mkdir(basis_set)\n",
    "        \n",
    "    # os.chdir(os.path.join(topdir,dirname))    \n",
    "    for idxr, r in tqdm(enumerate(radius_range)):\n",
    "        \n",
    "        # Loop radius\n",
    "        name=f\"{dirname}_{r:.2f}\"\n",
    "        print(name)\n",
    "        # Create files\n",
    "        subdirpath = os.path.join(topdir,basis_set,f'{name}')\n",
    "        if os.path.exists(subdirpath)==False:\n",
    "            os.mkdir(subdirpath)\n",
    "        print(subdirpath)\n",
    "        # if os.path.exists(os.path.join(subdirpath,f'{name}.csv'))==False:\n",
    "        shutil.rmtree(os.path.join('tmp'),name)\n",
    "        gen_run(subdirpath,subdirpath)\n",
    "        # Write xyz\n",
    "        with open(os.path.join(subdirpath,f'{name}.xyz'),'w') as f:\n",
    "            f.write(f'{3}\\n\\n')\n",
    "            \n",
    "            radius=1.278\n",
    "            f.write(f\"\"\"O {radius*cos(((float(r)/2)*(pi/180))):>8f} {radius*sin((float(r)/2)*(pi/180)):>8f} {0.0000:>8f}\n",
    "O {0:>8f} {0:>8f} {0:>8f}\n",
    "O {radius*cos(-(float(r)/2)*(pi/180)):>8f} {radius*sin(-(float(r)/2)*(pi/180)):>8f} {0:>8f}\n",
    "\"\"\")\n",
    "\n",
    "        \n",
    "        if idxr==0:\n",
    "            \n",
    "            scfprevious=None\n",
    "            d = DDCASPT2(subdirpath,basis_set,name,12,9,6,scf_previous=scfprevious,casscf_previous=scfprevious,symmetry=1,spin=0,UHF=False,CIROOT=\"3 3 1\",frozen=0,pt2maxiter=50,MSroots=3,charge=0,n_jobs=12)(inputwrite=True,run=False,feat=False)\n",
    "            \n",
    "        else:            \n",
    "            \n",
    "            \n",
    "            scfprevious=os.path.join(f'pwd/{dirname}_{radius_range[idxr-1]:.2f}',f\"{dirname}_{radius_range[idxr-1]:.2f}.ScfOrb\")\n",
    "            casscf_previous=os.path.join(f'pwd/{dirname}_{radius_range[idxr-1]:.2f}',f\"{dirname}_{radius_range[idxr-1]:.2f}.RasOrb\")\n",
    "            d = DDCASPT2(subdirpath,basis_set,name,12,9,6,scf_previous=scfprevious,casscf_previous=casscf_previous,symmetry=1,spin=0,UHF=False,CIROOT=\"3 3 1\",frozen=0,pt2maxiter=50,MSroots=3,charge=0,n_jobs=12)(inputwrite=True,run=False,feat=False)\n",
    "            \n",
    "    \n",
    "    for idxr, r in enumerate(radius_range):\n",
    "        # Loop radius\n",
    "        name=f\"{dirname}_{r:.2f}\"\n",
    "        \n",
    "        subdirpath = os.path.join(topdir,basis_set,f'{name}')\n",
    "        \n",
    "        \n",
    "        for j in glob(os.path.join(subdirpath,\"*GMJ*.csv\"))+glob(os.path.join(subdirpath,\"*Orb*\"))+glob(os.path.join(subdirpath,\"*h5\"))+glob(os.path.join(subdirpath,\"xmldump\")):\n",
    "            os.remove(j)        \n",
    "    "
   ]
  },
  {
   "cell_type": "code",
   "execution_count": null,
   "id": "98b3e8fa-50df-4faf-9051-a93871f44df4",
   "metadata": {
    "scrolled": true
   },
   "outputs": [],
   "source": [
    "run('ozone','ANO-RCC-VTZP')"
   ]
  },
  {
   "cell_type": "code",
   "execution_count": null,
   "id": "68057c34-2ad2-4b3f-9bec-c0769673392a",
   "metadata": {},
   "outputs": [],
   "source": [
    "import pandas as pd\n",
    "import seaborn as sns; sns.set(style=\"ticks\", color_codes=True)\n",
    "df = pd.read_csv('./ANO-RCC-VTZP/energies.csv',index_col=0)\n",
    "\n",
    "sns.lineplot(data=df,x='radius',y='value',hue='root',style='variable')\n"
   ]
  },
  {
   "cell_type": "code",
   "execution_count": null,
   "id": "820f3fae-0514-4352-af3b-b0c86c2e803e",
   "metadata": {},
   "outputs": [],
   "source": [
    "\n",
    "sns.lineplot(data=df.query(\"root == 3 & variable == 'CASPT2_E'\"),x='radius',y='value',hue='root',style='variable')\n"
   ]
  },
  {
   "cell_type": "code",
   "execution_count": null,
   "id": "4e5d8a9b-c4e5-4fb3-a793-c5cddcf57207",
   "metadata": {},
   "outputs": [],
   "source": [
    "df.query(\"root == 1 & variable == 'CASPT2_E'\").iloc[-1]"
   ]
  },
  {
   "cell_type": "code",
   "execution_count": null,
   "id": "0ca4824d-b5ac-4e97-8e2c-dc7995607136",
   "metadata": {},
   "outputs": [],
   "source": [
    "27.211 * (df[df['radius']==117.0].query(\"root == 2 & variable == 'CASPT2_E'\")['value'].values - df[df['radius']==117.0].query(\"root == 1 & variable == 'CASPT2_E'\")['value'].values)"
   ]
  },
  {
   "cell_type": "code",
   "execution_count": null,
   "id": "15ed5fda-486b-4662-8283-87f0eef24078",
   "metadata": {},
   "outputs": [],
   "source": []
  }
 ],
 "metadata": {
  "kernelspec": {
   "display_name": "Python 3 (ipykernel)",
   "language": "python",
   "name": "python3"
  },
  "language_info": {
   "codemirror_mode": {
    "name": "ipython",
    "version": 3
   },
   "file_extension": ".py",
   "mimetype": "text/x-python",
   "name": "python",
   "nbconvert_exporter": "python",
   "pygments_lexer": "ipython3",
   "version": "3.10.4"
  }
 },
 "nbformat": 4,
 "nbformat_minor": 5
}
