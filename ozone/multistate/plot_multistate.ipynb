{
 "cells": [
  {
   "cell_type": "code",
   "execution_count": null,
   "id": "145774ac-d567-4ba7-83d8-9a76c0122f6a",
   "metadata": {},
   "outputs": [],
   "source": [
    "# For data generation\n",
    "import sys\n",
    "# !{sys.executable} -m pip install matplotlib --upgrade\n",
    "import shutil\n",
    "import os\n",
    "import numpy as np\n",
    "from glob import glob\n",
    "import re\n",
    "import pandas as pd\n",
    "import pickle\n",
    "#random\n",
    "from time import perf_counter\n",
    "\n",
    "# sklearn\n",
    "from sklearn.preprocessing import StandardScaler\n",
    "from sklearn.metrics import r2_score,root_mean_squared_error,mean_absolute_error,mean_absolute_percentage_error\n",
    "from sklearn.model_selection import train_test_split\n",
    "from sklearn.preprocessing import MinMaxScaler\n",
    "from sklearn.kernel_ridge import KernelRidge\n",
    "from sklearn.model_selection import GridSearchCV\n",
    "\n",
    "\n",
    "#Plotting\n",
    "import seaborn as sns\n",
    "sns.set_style()\n",
    "import matplotlib as mpl\n",
    "import matplotlib.pyplot as plt\n",
    "mpl.rcParams['figure.dpi'] = 200\n",
    "\n",
    "import warnings\n",
    "# warnings.filterwarnings(\"ignore\", category=np.DeprecationWarning) \n",
    "\n",
    "\n",
    "from tqdm.auto import tqdm\n",
    "# from tqdm.notebook import tqdm_notebook as tqdm"
   ]
  },
  {
   "cell_type": "code",
   "execution_count": null,
   "id": "57cdc4fd-fc47-4e96-9950-6878ce6bc7f7",
   "metadata": {},
   "outputs": [],
   "source": [
    "with open(\"y_train_1.npy\", 'rb') as f:\n",
    "    y_train_1 = np.load(f)\n",
    "\n",
    "with open(\"y_pred_train_1.npy\", 'rb') as f:\n",
    "    y_pred_train_1 = np.load(f)  \n",
    "\n",
    "\n",
    "with open(\"y_test_1.npy\", 'br') as f:\n",
    "    y_test_1 = np.load(f)\n",
    "\n",
    "with open(\"y_pred_test_1.npy\", 'rb') as f:\n",
    "    y_pred_test_1 = np.load(f)\n",
    "\n",
    "\n",
    "with open(\"y_train_2.npy\", 'rb') as f:\n",
    "    y_train_2 = np.load(f)\n",
    "\n",
    "with open(\"y_pred_train_2.npy\", 'rb') as f:\n",
    "    y_pred_train_2 = np.load(f)  \n",
    "\n",
    "\n",
    "with open(\"y_test_2.npy\", 'br') as f:\n",
    "    y_test_2 = np.load(f)\n",
    "\n",
    "with open(\"y_pred_test_2.npy\", 'rb') as f:\n",
    "    y_pred_test_2 = np.load(f)\n",
    "\n",
    "\n",
    "\n",
    "with open(\"y_train_3.npy\", 'rb') as f:\n",
    "    y_train_3 = np.load(f)\n",
    "\n",
    "with open(\"y_pred_train_3.npy\", 'rb') as f:\n",
    "    y_pred_train_3 = np.load(f)  \n",
    "\n",
    "\n",
    "with open(\"y_test_3.npy\", 'br') as f:\n",
    "    y_test_3 = np.load(f)\n",
    "\n",
    "with open(\"y_pred_test_3.npy\", 'rb') as f:\n",
    "    y_pred_test_3 = np.load(f)"
   ]
  },
  {
   "cell_type": "code",
   "execution_count": null,
   "id": "95bb44a7-fdfc-45fb-9940-37d466cb4af9",
   "metadata": {},
   "outputs": [],
   "source": [
    "energies = []\n",
    "for i in glob(\"ANO-RCC-VTZP/ozone_*/*_energies.xlsx\"):\n",
    "    df = pd.read_excel(i).rename(columns={'Unnamed: 0':'Root','CASSCF_E':'CASSCF', 'CASPT2_E':'CASPT2'})\n",
    "    df['Root'] = [int(i.split('_')[1]) for i in df['Root']]\n",
    "    df['Angle ($^{\\circ}$)'] = float(os.path.basename(i).split('_')[1])\n",
    "    df = df.melt(id_vars=['Angle ($^{\\circ}$)','Root'],value_vars=['CASSCF', 'CASPT2'])\n",
    "    energies.append(df)"
   ]
  },
  {
   "cell_type": "code",
   "execution_count": null,
   "id": "7f3a6280-da7d-46df-93a1-9dfca7ec2db6",
   "metadata": {},
   "outputs": [],
   "source": [
    "df_energies = pd.concat(energies)"
   ]
  },
  {
   "cell_type": "code",
   "execution_count": null,
   "id": "1af796a1-a4da-446d-a728-b535df15560c",
   "metadata": {},
   "outputs": [],
   "source": [
    "with open('big_test_ind.pickle', 'rb') as handle:\n",
    "    test_ind = pickle.load(handle)\n",
    "\n",
    "with open('big_train_ind.pickle', 'rb') as handle:\n",
    "    train_ind = pickle.load(handle)\n",
    "# train_ind = train_ind[train_ind>=110]\n",
    "# test_ind = test_ind[test_ind>=110]    \n",
    "train_ind = list(map(float,train_ind))\n",
    "test_ind = list(map(float,test_ind))\n",
    "# train_ind, test_ind = train_test_split(train_ind+test_ind,test_size=0.1, random_state=42)\n",
    "print(len(train_ind),len(test_ind))   "
   ]
  },
  {
   "cell_type": "code",
   "execution_count": null,
   "id": "86ba27e2-178d-4621-bec0-a9710006f5e9",
   "metadata": {},
   "outputs": [],
   "source": [
    "# train_MS1 = pd.read_excel('train_ozone_VTZP_MS_1_energies.xlsx')\n",
    "# test_MS1 = pd.read_excel('test_ozone_VTZP_MS_1_energies.xlsx')\n",
    "# train_MS2 = pd.read_excel('train_ozone_VTZP_MS_2_energies.xlsx')\n",
    "# test_MS2 = pd.read_excel('test_ozone_VTZP_MS_2_energies.xlsx')\n",
    "\n",
    "train_MS1 = pd.read_excel('train_ozone_VTZP_MS_1_90_10_split_energies.xlsx')\n",
    "test_MS1 = pd.read_excel('test_ozone_VTZP_MS_1_90_10_split_energies.xlsx')\n",
    "\n",
    "\n",
    "train_MS2 = pd.read_excel(\"train_ozone_VTZP_MS_2_70_30_energies.xlsx\")\n",
    "test_MS2 = pd.read_excel(\"test_ozone_VTZP_MS_2_70_30_energies.xlsx\")\n",
    "\n",
    "\n",
    "train_MS3 = pd.read_excel(\"train_ozone_VTZP_MS_3_70_30_energies.xlsx\")\n",
    "test_MS3 = pd.read_excel(\"test_ozone_VTZP_MS_3_70_30_energies.xlsx\")\n",
    "\n",
    "train_MS1['Set'] = len(train_MS1)*['Train']\n",
    "test_MS1['Set'] = len(test_MS1)*['Test']\n",
    "train_MS1['Root'] = len(train_MS1)*[1]\n",
    "test_MS1['Root'] = len(test_MS1)*[1]\n",
    "\n",
    "train_MS2['Set'] = len(train_MS2)*['Train']\n",
    "test_MS2['Set'] = len(test_MS2)*['Test']\n",
    "train_MS2['Root'] = len(train_MS2)*[2]\n",
    "test_MS2['Root'] = len(test_MS2)*[2]\n",
    "\n",
    "train_MS3['Set'] = len(train_MS3)*['Train']\n",
    "test_MS3['Set'] = len(test_MS3)*['Test']\n",
    "train_MS3['Root'] = len(train_MS3)*[3]\n",
    "test_MS3['Root'] = len(test_MS3)*[3]"
   ]
  },
  {
   "cell_type": "code",
   "execution_count": null,
   "id": "55c0fd46-6190-4388-8b76-e74c40252b98",
   "metadata": {},
   "outputs": [],
   "source": [
    "train_MS1.shape,test_MS1.shape"
   ]
  },
  {
   "cell_type": "code",
   "execution_count": null,
   "id": "d0aa9bb2-8d15-4b1c-abf8-3ab0f0632d62",
   "metadata": {},
   "outputs": [],
   "source": [
    "train_MS2.shape,test_MS2.shape"
   ]
  },
  {
   "cell_type": "code",
   "execution_count": null,
   "id": "be9c6741-af81-42ee-91c9-f61aa63b5de1",
   "metadata": {},
   "outputs": [],
   "source": [
    "train_MS3.shape,test_MS3.shape"
   ]
  },
  {
   "cell_type": "code",
   "execution_count": null,
   "id": "cf28bf4d-d9cc-4911-8c0d-9be45e5a4c31",
   "metadata": {},
   "outputs": [],
   "source": [
    "dfstacked = pd.concat([train_MS1,test_MS1,train_MS2,test_MS2,train_MS3,test_MS3])"
   ]
  },
  {
   "cell_type": "code",
   "execution_count": null,
   "id": "a631a40a-fe33-4107-851a-8b131e4032e5",
   "metadata": {},
   "outputs": [],
   "source": [
    "dfstacked"
   ]
  },
  {
   "cell_type": "code",
   "execution_count": null,
   "id": "d4c3161b-78ef-4e13-a924-e612e60463d4",
   "metadata": {},
   "outputs": [],
   "source": [
    "dfstacked[dfstacked[\"Angle ($^{\\circ}$)\"] == 116.75].query(\"Root == 1\")['E$_{\\text{CASPT2}}^{\\text{Calculated}}$']"
   ]
  },
  {
   "cell_type": "code",
   "execution_count": null,
   "id": "713d7150-9dad-4502-9479-f4ea1723fac0",
   "metadata": {},
   "outputs": [],
   "source": [
    "dfstacked.query(\"Root == 1\").set_index(\"Angle ($^{\\circ}$)\").idxmin()"
   ]
  },
  {
   "cell_type": "markdown",
   "id": "d8cba3fe-4ab0-488d-8f1c-cdcd1aee270e",
   "metadata": {},
   "source": [
    "# VEE in eV for state 1 to state 2"
   ]
  },
  {
   "cell_type": "code",
   "execution_count": null,
   "id": "892b2b4a-f096-4a37-8d79-e77c633faae6",
   "metadata": {},
   "outputs": [],
   "source": [
    "np.round((dfstacked[dfstacked[\"Angle ($^{\\circ}$)\"] == 116.75].query(\"Root == 2\")['E$_{\\text{CASPT2}}^{\\text{Calculated}}$'].values-dfstacked[dfstacked[\"Angle ($^{\\circ}$)\"] == 116.75].query(\"Root == 1\")['E$_{\\text{CASPT2}}^{\\text{Calculated}}$'].values) * 27.211407953,2)"
   ]
  },
  {
   "cell_type": "code",
   "execution_count": null,
   "id": "02862e0c-8fc8-402a-86c5-707f27c93091",
   "metadata": {},
   "outputs": [],
   "source": [
    "np.round((dfstacked[dfstacked[\"Angle ($^{\\circ}$)\"] == 116.75].query(\"Root == 2\")['E$_{\\text{CASPT2}}^{\\text{Predicted}}$'].values-dfstacked[dfstacked[\"Angle ($^{\\circ}$)\"] == 116.75].query(\"Root == 1\")['E$_{\\text{CASPT2}}^{\\text{Predicted}}$'].values) * 27.211407953,2)"
   ]
  },
  {
   "cell_type": "markdown",
   "id": "a4b5fe59-a53b-4b85-a2d4-aca8d9d934ab",
   "metadata": {},
   "source": [
    "# VEE in eV for state 1 to state 3"
   ]
  },
  {
   "cell_type": "code",
   "execution_count": null,
   "id": "733c8873-9009-417f-bfc0-0c871f860600",
   "metadata": {},
   "outputs": [],
   "source": [
    "np.round((dfstacked[dfstacked[\"Angle ($^{\\circ}$)\"] == 116.75].query(\"Root == 3\")['E$_{\\text{CASPT2}}^{\\text{Calculated}}$'].values-dfstacked[dfstacked[\"Angle ($^{\\circ}$)\"] == 116.75].query(\"Root == 1\")['E$_{\\text{CASPT2}}^{\\text{Calculated}}$'].values) * 27.211407953,2)"
   ]
  },
  {
   "cell_type": "code",
   "execution_count": null,
   "id": "158931c7-6b3b-4ca1-93c3-c6a6d9321f53",
   "metadata": {},
   "outputs": [],
   "source": [
    "np.round((dfstacked[dfstacked[\"Angle ($^{\\circ}$)\"] == 116.75].query(\"Root == 3\")['E$_{\\text{CASPT2}}^{\\text{Predicted}}$'].values-dfstacked[dfstacked[\"Angle ($^{\\circ}$)\"] == 116.75].query(\"Root == 1\")['E$_{\\text{CASPT2}}^{\\text{Predicted}}$'].values) * 27.211407953,2)"
   ]
  },
  {
   "cell_type": "code",
   "execution_count": null,
   "id": "f21e0be4-56ac-4b4d-b6e9-614c520e2685",
   "metadata": {},
   "outputs": [],
   "source": [
    "# (-225.222654\t\t- -225.297347) *27.211407953"
   ]
  },
  {
   "cell_type": "code",
   "execution_count": null,
   "id": "fbb8fd3e-ab1c-4aee-afcc-fe46c70e6265",
   "metadata": {},
   "outputs": [],
   "source": [
    "# stackeddf = pd.concat([pd.read_excel(i).rename(columns={'Unnamed: 0':\"root\"}) for i in glob('ANO-RCC-VTZP/ozone_*/*_energies.xlsx')])"
   ]
  },
  {
   "cell_type": "code",
   "execution_count": null,
   "id": "c01aabae-6e75-42bb-b460-62520a2bf158",
   "metadata": {},
   "outputs": [],
   "source": []
  },
  {
   "cell_type": "code",
   "execution_count": null,
   "id": "c494bac0-ad72-4e6d-bf00-93183a997ad0",
   "metadata": {},
   "outputs": [],
   "source": [
    "sns.color_palette('Paired',6)"
   ]
  },
  {
   "cell_type": "code",
   "execution_count": null,
   "id": "a8324401-8511-40a4-b9ca-b74bbcabbabb",
   "metadata": {},
   "outputs": [],
   "source": [
    "dfstacked.columns"
   ]
  },
  {
   "cell_type": "code",
   "execution_count": null,
   "id": "8239abaf-0f66-49e8-9abc-c12502656cd7",
   "metadata": {},
   "outputs": [],
   "source": []
  },
  {
   "cell_type": "code",
   "execution_count": null,
   "id": "0ab61331-35ab-4cb1-91e3-ce9c02144d74",
   "metadata": {},
   "outputs": [],
   "source": [
    "pairedcp = sns.color_palette(\"Paired\")"
   ]
  },
  {
   "cell_type": "code",
   "execution_count": null,
   "id": "17b028fb-a984-4dc3-9575-7e5c9c08bc8c",
   "metadata": {},
   "outputs": [],
   "source": [
    "train_colors = pairedcp[0::2]\n",
    "test_colors = pairedcp[1::2]"
   ]
  },
  {
   "cell_type": "code",
   "execution_count": null,
   "id": "ba217249-5467-4437-89c6-5be479ef9ac2",
   "metadata": {},
   "outputs": [],
   "source": [
    "dfstacked['E$_{2}^{\\text{Predicted}}$'].min(),dfstacked['E$_{2}^{\\text{Predicted}}$'].max()"
   ]
  },
  {
   "cell_type": "code",
   "execution_count": null,
   "id": "fdf2a646-ef58-4c24-80c9-cc90c8f86d32",
   "metadata": {},
   "outputs": [],
   "source": [
    "traincorrcalc1, traincorrpred1 = train_MS1['E$_{2}^{\\text{Calculated}}$'],train_MS1['E$_{2}^{\\text{Predicted}}$']\n",
    "traincorrcalc2, traincorrpred2 = train_MS2['E$_{2}^{\\text{Calculated}}$'],train_MS2['E$_{2}^{\\text{Predicted}}$']\n",
    "traincorrcalc3, traincorrpred3 = train_MS3['E$_{2}^{\\text{Calculated}}$'],train_MS3['E$_{2}^{\\text{Predicted}}$']\n",
    "\n",
    "traincorrlabel1 = 'Root 1 '+f'MAE={1e3 * mean_absolute_error(traincorrcalc1, traincorrpred1):.4f}'+\" mE$_{h}$\"\n",
    "traincorrlabel2 = 'Root 2 '+f'MAE={1e3 * mean_absolute_error(traincorrcalc2, traincorrpred2):.4f}'+\" mE$_{h}$\"\n",
    "traincorrlabel3 = 'Root 3 '+f'MAE={1e3 * mean_absolute_error(traincorrcalc3, traincorrpred3):.4f}'+\" mE$_{h}$\""
   ]
  },
  {
   "cell_type": "code",
   "execution_count": null,
   "id": "95350e0c-7199-4893-ae0c-061a1df01974",
   "metadata": {},
   "outputs": [],
   "source": [
    "testcorrcalc1, testcorrpred1 = test_MS1['E$_{2}^{\\text{Calculated}}$'],test_MS1['E$_{2}^{\\text{Predicted}}$']\n",
    "testcorrcalc2, testcorrpred2 = test_MS2['E$_{2}^{\\text{Calculated}}$'],test_MS2['E$_{2}^{\\text{Predicted}}$']\n",
    "testcorrcalc3, testcorrpred3 = test_MS3['E$_{2}^{\\text{Calculated}}$'],test_MS3['E$_{2}^{\\text{Predicted}}$']\n",
    "\n",
    "testcorrlabel1 = 'Root 1 '+f'MAE={1e3 * mean_absolute_error(testcorrcalc1, testcorrpred1):.4f}'+\" mE$_{h}$\"\n",
    "testcorrlabel2 = 'Root 2 '+f'MAE={1e3 * mean_absolute_error(testcorrcalc2, testcorrpred2):.4f}'+\" mE$_{h}$\"\n",
    "testcorrlabel3 = 'Root 3 '+f'MAE={1e3 * mean_absolute_error(testcorrcalc3, testcorrpred3):.4f}'+\" mE$_{h}$\""
   ]
  },
  {
   "cell_type": "code",
   "execution_count": null,
   "id": "b80aa001-dfe9-48be-b4c3-0a2a49b2be32",
   "metadata": {},
   "outputs": [],
   "source": [
    "1e3 * mean_absolute_error(testcorrcalc1, testcorrpred1)"
   ]
  },
  {
   "cell_type": "code",
   "execution_count": null,
   "id": "1f5ae348-4e94-49c1-b748-79e9b4875bdb",
   "metadata": {},
   "outputs": [],
   "source": [
    "np.hstack([y_train_1,y_train_2,y_train_3]).max()*1e3"
   ]
  },
  {
   "cell_type": "code",
   "execution_count": null,
   "id": "b6ca4034-bde1-4476-a2a2-2559686da10f",
   "metadata": {},
   "outputs": [],
   "source": [
    "dfstacked"
   ]
  },
  {
   "cell_type": "code",
   "execution_count": null,
   "id": "202f8f5c-c1bd-4ff2-abdc-50743f6f310f",
   "metadata": {},
   "outputs": [],
   "source": [
    "pal = sns.color_palette(\"Paired\")\n",
    "font=12\n",
    "plt.rc('font', size=font)          # controls default text sizes\n",
    "plt.rc('axes', titlesize=font)     # fontsize of the axes title\n",
    "plt.rc('axes', labelsize=font)    # fontsize of the x and y labels\n",
    "plt.rc('xtick', labelsize=font)    # fontsize of the tick labels\n",
    "plt.rc('ytick', labelsize=font)    # fontsize of the tick labels\n",
    "plt.rc('legend', fontsize=font)    # legend fontsize\n",
    "plt.rc('figure', titlesize=font)  # fontsize of the figure title\n",
    "\n",
    "fig,((ax1,ax2),(ax3,ax4),(ax5,ax6))=plt.subplots(3,2,figsize=(15,20),sharey=False)\n",
    "\n",
    "\n",
    "\n",
    "pred_train,true_train = dfstacked.query(\"Set == 'Train'\")['E$_{2}^{\\text{Predicted}}$'],dfstacked.query(\"Set == 'Train'\")['E$_{2}^{\\text{Calculated}}$']\n",
    "pred_test,true_test = dfstacked.query(\"Set == 'Test'\")['E$_{2}^{\\text{Predicted}}$'],dfstacked.query(\"Set == 'Test'\")['E$_{2}^{\\text{Calculated}}$']\n",
    "testrad = dfstacked.query(\"Set == 'Test'\")['Angle ($^{\\circ}$)']\n",
    "trainrad = dfstacked.query(\"Set == 'Train'\")['Angle ($^{\\circ}$)']\n",
    "\n",
    "ax1.scatter(1e3*y_train_1,1e3*y_pred_train_1,color=train_colors[0],edgecolors='k', label='Root 1\\nR$^{2}$='+f'{r2_score(y_train_1, y_pred_train_1):.4f}\\nMAE={1e3 * mean_absolute_error(y_train_1, y_pred_train_1):.4f}'+\" mE$_{h}$\")\n",
    "ax1.scatter(1e3*y_train_2,1e3*y_pred_train_2,color=train_colors[1],edgecolors='k', label='Root 2\\nR$^{2}$='+f'{r2_score(y_train_2, y_pred_train_2):.4f}\\nMAE={1e3 * mean_absolute_error(y_train_2, y_pred_train_2):.4f}'+\" mE$_{h}$\")\n",
    "ax1.scatter(1e3*y_train_3,1e3*y_pred_train_3,color=train_colors[2],edgecolors='k', label='Root 3\\nR$^{2}$='+f'{r2_score(y_train_3, y_pred_train_3):.4f}\\nMAE={1e3 * mean_absolute_error(y_train_3, y_pred_train_3):.4f}'+\" mE$_{h}$\")\n",
    "ax1.plot(np.arange(-100,100),np.arange(-100,100),'k')\n",
    "ax1.set_xlabel('Calculated CASPT2 Pair-Energies (mE$_{h}$)')\n",
    "ax1.set_ylabel('Predicted CASPT2 Pair-Energies (mE$_{h}$)')\n",
    "ax1.set_title('Train')\n",
    "ax1.set_xlim(-35,35)\n",
    "ax1.set_ylim(-35,35)\n",
    "ax1.legend(loc=4)\n",
    "\n",
    "\n",
    "ax2.scatter(1e3*y_test_1,1e3*y_pred_test_1,color=test_colors[0],edgecolors='k', label='Root 1\\nR$^{2}$='+f'{r2_score(y_test_1, y_pred_test_1):.4f}\\nMAE={1e3 * mean_absolute_error(y_test_1, y_pred_test_1):.4f}'+\" mE$_{h}$\")\n",
    "ax2.scatter(1e3*y_test_2,1e3*y_pred_test_2,color=test_colors[1],edgecolors='k', label='Root 2\\nR$^{2}$='+f'{r2_score(y_test_2, y_pred_test_2):.4f}\\nMAE={1e3 * mean_absolute_error(y_test_2, y_pred_test_2):.4f}'+\" mE$_{h}$\")\n",
    "ax2.scatter(1e3*y_test_3,1e3*y_pred_test_3,color=test_colors[2],edgecolors='k', label='Root 3\\nR$^{2}$='+f'{r2_score(y_test_3, y_pred_test_3):.4f}\\nMAE={1e3 * mean_absolute_error(y_test_3, y_pred_test_3):.4f}'+\" mE$_{h}$\")\n",
    "ax2.plot(np.arange(-100,100),np.arange(-100,100),'k')\n",
    "ax2.set_xlabel('Calculated CASPT2 Pair-Energies (mE$_{h}$)')\n",
    "ax2.set_ylabel('Predicted CASPT2 Pair-Energies (mE$_{h}$)')\n",
    "ax2.set_title('Test')\n",
    "ax2.set_xlim(-35,35)\n",
    "ax2.set_ylim(-35,35)\n",
    "ax2.legend(loc=4)\n",
    "\n",
    "\n",
    "\n",
    "sns.scatterplot(dfstacked.query(\"Set == 'Train'\"),x='E$_{2}^{\\text{Calculated}}$',y='E$_{2}^{\\text{Predicted}}$',hue='Root',palette=train_colors,edgecolors='k',ax=ax3)\n",
    "ax3.set_xlabel('Calculated CASPT2 Correlation Energy (E$_{h}$)')\n",
    "ax3.set_ylabel('Predicted CASPT2 Correlation Energy (E$_{h}$)')\n",
    "# ax3.set_title('Train')\n",
    "ax3.plot(np.arange(-5,5),np.arange(-5,5),'k')\n",
    "handles, labels = ax3.get_legend_handles_labels()\n",
    "ax3.legend(handles=handles, labels=[traincorrlabel1, traincorrlabel2, traincorrlabel3], loc=4)\n",
    "\n",
    "sns.scatterplot(dfstacked.query(\"Set == 'Train'\"),x='E$_{2}^{\\text{Calculated}}$',y='E$_{2}^{\\text{Predicted}}$',hue='Root',palette=test_colors,edgecolors='k',ax=ax4)\n",
    "ax4.plot(np.arange(-5,5),np.arange(-5,5),'k')\n",
    "ax4.set_xlabel('Calculated CASPT2 Correlation Energy (E$_{h}$)')\n",
    "ax4.set_ylabel('Predicted CASPT2 Correlation Energy (E$_{h}$)')\n",
    "# ax4.set_title('Test')    \n",
    "ax4.legend(loc=4)\n",
    "handles, labels = ax4.get_legend_handles_labels()\n",
    "\n",
    "ax4.legend(handles=handles,loc=4,labels=[testcorrlabel1, testcorrlabel2, testcorrlabel3])\n",
    "\n",
    "bottom, top = -0.65,-0.5\n",
    "ax3.set_xlim(bottom, top)\n",
    "ax3.set_ylim(bottom, top)\n",
    "ax4.set_xlim(bottom, top)\n",
    "ax4.set_ylim(bottom, top)\n",
    "ax3.set_xticks(np.linspace(bottom,top,4),[f\"{i:.4f}\" for i in np.linspace(bottom,top,4)])\n",
    "ax3.set_yticks(np.linspace(bottom,top,4),[f\"{i:.4f}\" for i in np.linspace(bottom,top,4)])    \n",
    "# ax4.set_xlim(bottom,top)\n",
    "ax4.set_xticks(np.linspace(bottom,top,4),[f\"{i:.4f}\" for i in np.linspace(bottom,top,4)])    \n",
    "# ax4.set_ylim(bottom,top)\n",
    "ax4.set_yticks(np.linspace(bottom,top,4),[f\"{i:.4f}\" for i in np.linspace(bottom,top,4)])    \n",
    "\n",
    "\n",
    "sns.scatterplot(dfstacked.query(\"Set == 'Train'\"),x='Angle ($^{\\circ}$)',y='E$_{\\text{CASPT2}}^{\\text{Predicted}}$',hue='Root',palette=train_colors,edgecolors='k',ax=ax5)\n",
    "sns.lineplot(dfstacked.query(\"Set == 'Train'\"),x='Angle ($^{\\circ}$)',y='E$_{\\text{CASPT2}}^{\\text{Calculated}}$',hue='Root',palette=train_colors,ax=ax5)\n",
    "sns.lineplot(dfstacked.query(\"Set == 'Train'\"),x='Angle ($^{\\circ}$)',y='E$_{\\text{CASSCF}}^{\\text{Calculated}}$',hue='Root',palette=train_colors,ax=ax5,linestyle='--')\n",
    "\n",
    "ax5.set_xlabel('Angle ($^{\\circ}$)')\n",
    "ax5.set_ylabel('CASPT2 Energy (E$_{h}$)')\n",
    "ax5.set_title('Train')\n",
    "handles3, labels3 = ax5.get_legend_handles_labels()\n",
    "# labels3 = [f\"Predicted MS-CASPT2 (root {i})\" for i in labels3[:3]]+[f\"Calculated MS-CASPT2 (root {i})\" for i in labels3[3:6]]+[f\"SA-CASSCF (root {i})\" for i in labels3[6:]]\n",
    "labels3 = [f\"Predicted MS-CASPT2 (root {i})\" for i in labels3[:3]]+[f\"SA-CASSCF (root {i})\" for i in labels3[6:]]\n",
    "handles3 = handles3[:3] + handles3[6:]\n",
    "ax5.legend(handles=handles3, labels=labels3)\n",
    "\n",
    "sns.scatterplot(dfstacked.query(\"Set == 'Test'\"),x='Angle ($^{\\circ}$)',y='E$_{\\text{CASPT2}}^{\\text{Predicted}}$',hue='Root',palette=test_colors,edgecolors='k',ax=ax6)\n",
    "sns.lineplot(dfstacked.query(\"Set == 'Test'\"),x='Angle ($^{\\circ}$)',y='E$_{\\text{CASPT2}}^{\\text{Calculated}}$',hue='Root',palette=test_colors,ax=ax6)\n",
    "sns.lineplot(dfstacked.query(\"Set == 'Test'\"),x='Angle ($^{\\circ}$)',y='E$_{\\text{CASSCF}}^{\\text{Calculated}}$',hue='Root',palette=test_colors,ax=ax6,linestyle='--')\n",
    "ax6.set_xlabel('Angle ($^{\\circ}$)')\n",
    "ax6.set_ylabel('CASPT2 Energy (E$_{h}$)')\n",
    "ax6.set_title('Test') \n",
    "\n",
    "handles4, labels4 = ax6.get_legend_handles_labels()\n",
    "# labels3 = [f\"Predicted MS-CASPT2 (root {i})\" for i in labels3[:3]]+[f\"Calculated MS-CASPT2 (root {i})\" for i in labels3[3:6]]+[f\"SA-CASSCF (root {i})\" for i in labels3[6:]]\n",
    "labels4 = [f\"Predicted MS-CASPT2 (root {i})\" for i in labels4[:3]]+[f\"SA-CASSCF (root {i})\" for i in labels4[6:]]\n",
    "handles4 = handles4[:3] + handles4[6:]\n",
    "\n",
    "ax6.legend(handles=handles4, labels=labels4)\n",
    "\n",
    "minpt2, maxpt2= pd.concat([pred_train,true_train,pred_test,true_test]).min(), pd.concat([pred_train,true_train,pred_test,true_test]).max()\n",
    "print(minpt2, maxpt2)\n",
    "pct=0.004\n",
    "bufferbot, buffertop = minpt2*pct, maxpt2*pct\n",
    "\n",
    "\n",
    "\n",
    "#mb\n",
    "# bottom, top = -224.5, -224.1984 \n",
    "#maxpt2-(buffertop) \n",
    "\n",
    "# vdzp: -224.40\n",
    "# bottom, top = -225.2, -224.4\n",
    "\n",
    "# vtzp\n",
    "bottom, top = -225.4, -224.4\n",
    "print(bottom, top)\n",
    "ax5.set_ylim(bottom,top)\n",
    "ax5.set_xlim(100,190)\n",
    "ax5.set_yticks(np.linspace(bottom,top,4),[f\"{i:.4f}\" for i in np.linspace(bottom,top,4)]) \n",
    "ax5.set_xticks(np.linspace(100,190,4),[f\"{i:.0f}\" for i in np.linspace(100,190,4)]) \n",
    "ax6.set_ylim(bottom,top)\n",
    "ax6.set_xlim(100,190)\n",
    "ax6.set_yticks(np.linspace(bottom,top,4),[f\"{i:.4f}\" for i in np.linspace(bottom,top,4)]) \n",
    "ax6.set_xticks(np.linspace(100,190,4),[f\"{i:.0f}\" for i in np.linspace(100,190,4)]) \n",
    "\n",
    "\n",
    "fig.suptitle(\"O$_{3}$ MS-CASPT2/ANO-RCC-VTZP\")\n",
    "\n",
    "plt.subplots_adjust(wspace=0.05)\n",
    "plt.tight_layout()\n",
    "plt.savefig(f'images/MSCASPTCombinedozone.png',dpi=300,bbox_inches='tight')\n",
    "plt.show()    "
   ]
  },
  {
   "cell_type": "code",
   "execution_count": null,
   "id": "5d15c713-6425-4529-b90f-f757af6ca41b",
   "metadata": {},
   "outputs": [],
   "source": [
    "calculated = [1.96, 2.08]\n",
    "base_dd = [1.27, 1.57]\n",
    "opt_dd = [2.05, 2.03]\n",
    "lit_a = [1.6, 2.1]\n",
    "lit_b = [1.92, 2.1]"
   ]
  },
  {
   "cell_type": "code",
   "execution_count": null,
   "id": "6d8165fd-f5c4-4aa2-a72f-b1ed381919a4",
   "metadata": {},
   "outputs": [],
   "source": [
    "f\"{np.round(mean_absolute_error(lit_a,calculated),2)}/{np.round(mean_absolute_error(lit_b,calculated),2)}\""
   ]
  },
  {
   "cell_type": "code",
   "execution_count": null,
   "id": "8c079415-640f-4ecd-8578-da1e78847662",
   "metadata": {},
   "outputs": [],
   "source": [
    "f\"{np.round(mean_absolute_error(lit_a,base_dd),2)}/{np.round(mean_absolute_error(lit_b,base_dd),2)}\""
   ]
  },
  {
   "cell_type": "code",
   "execution_count": null,
   "id": "6b3c4525-a9ca-4a02-ae67-d0ff60bebd63",
   "metadata": {},
   "outputs": [],
   "source": [
    "f\"{np.round(mean_absolute_error(lit_a,opt_dd),2)}/{np.round(mean_absolute_error(lit_b,opt_dd),2)}\""
   ]
  },
  {
   "cell_type": "code",
   "execution_count": null,
   "id": "d73c940b-5db3-4731-8dcf-bd7a7af62197",
   "metadata": {},
   "outputs": [],
   "source": [
    "f\"{np.round(mean_absolute_error(calculated,base_dd),2)}/{np.round(mean_absolute_error(calculated,opt_dd),2)}\""
   ]
  },
  {
   "cell_type": "code",
   "execution_count": null,
   "id": "c4013d5d-f493-456a-ad24-41e93be5eea1",
   "metadata": {},
   "outputs": [],
   "source": [
    "# Your plot\n",
    "sns.lineplot(dfstacked, x='Angle ($^{\\circ}$)', y='E$_{\\text{CASPT2}}^{\\text{Calculated}}$', hue='Root', palette=test_colors)\n",
    "\n",
    "# Remove everything\n",
    "plt.gca().set_axis_off()\n",
    "\n",
    "# Optional: Remove legend too\n",
    "plt.legend([], [], frameon=False)\n",
    "\n",
    "plt.tight_layout()\n",
    "plt.savefig(f'images/rawMSCASPTozone.svg',dpi=300,bbox_inches='tight')\n",
    "plt.show()   "
   ]
  },
  {
   "cell_type": "code",
   "execution_count": null,
   "id": "323fbc4b-8746-4b66-ae60-23378e326282",
   "metadata": {},
   "outputs": [],
   "source": []
  }
 ],
 "metadata": {
  "kernelspec": {
   "display_name": "Python 3 (ipykernel)",
   "language": "python",
   "name": "python3"
  },
  "language_info": {
   "codemirror_mode": {
    "name": "ipython",
    "version": 3
   },
   "file_extension": ".py",
   "mimetype": "text/x-python",
   "name": "python",
   "nbconvert_exporter": "python",
   "pygments_lexer": "ipython3",
   "version": "3.10.4"
  }
 },
 "nbformat": 4,
 "nbformat_minor": 5
}
