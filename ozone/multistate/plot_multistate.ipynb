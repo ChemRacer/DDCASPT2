{
 "cells": [
  {
   "cell_type": "code",
   "execution_count": null,
   "id": "145774ac-d567-4ba7-83d8-9a76c0122f6a",
   "metadata": {},
   "outputs": [],
   "source": [
    "# For data generation\n",
    "import sys\n",
    "# !{sys.executable} -m pip install matplotlib --upgrade\n",
    "import shutil\n",
    "import os\n",
    "import numpy as np\n",
    "from glob import glob\n",
    "import re\n",
    "import pandas as pd\n",
    "import pickle\n",
    "#random\n",
    "from time import perf_counter\n",
    "\n",
    "# sklearn\n",
    "from sklearn.preprocessing import StandardScaler\n",
    "from sklearn.metrics import r2_score,root_mean_squared_error,mean_absolute_error,mean_absolute_percentage_error\n",
    "from sklearn.model_selection import train_test_split\n",
    "from sklearn.preprocessing import MinMaxScaler\n",
    "from sklearn.kernel_ridge import KernelRidge\n",
    "from sklearn.model_selection import GridSearchCV\n",
    "\n",
    "\n",
    "#Plotting\n",
    "import seaborn as sns\n",
    "sns.set_style()\n",
    "import matplotlib as mpl\n",
    "import matplotlib.pyplot as plt\n",
    "mpl.rcParams['figure.dpi'] = 200\n",
    "\n",
    "import warnings\n",
    "# warnings.filterwarnings(\"ignore\", category=np.DeprecationWarning) \n",
    "\n",
    "\n",
    "from tqdm.auto import tqdm\n",
    "# from tqdm.notebook import tqdm_notebook as tqdm"
   ]
  },
  {
   "cell_type": "code",
   "execution_count": null,
   "id": "9e767077-0017-4479-a083-5d59c7dd4309",
   "metadata": {},
   "outputs": [],
   "source": [
    "help(pd.melt)"
   ]
  },
  {
   "cell_type": "code",
   "execution_count": null,
   "id": "95bb44a7-fdfc-45fb-9940-37d466cb4af9",
   "metadata": {},
   "outputs": [],
   "source": [
    "energies = []\n",
    "for i in glob(\"ANO-RCC-VTZP/ozone_*/*_energies.xlsx\"):\n",
    "    df = pd.read_excel(i).rename(columns={'Unnamed: 0':'Root','CASSCF_E':'CASSCF', 'CASPT2_E':'CASPT2'})\n",
    "    df['Root'] = [int(i.split('_')[1]) for i in df['Root']]\n",
    "    df['Angle ($^{\\circ}$)'] = float(os.path.basename(i).split('_')[1])\n",
    "    df = df.melt(id_vars=['Angle ($^{\\circ}$)','Root'],value_vars=['CASSCF', 'CASPT2'])\n",
    "    energies.append(df)"
   ]
  },
  {
   "cell_type": "code",
   "execution_count": null,
   "id": "7f3a6280-da7d-46df-93a1-9dfca7ec2db6",
   "metadata": {},
   "outputs": [],
   "source": [
    "df_energies = pd.concat(energies)"
   ]
  },
  {
   "cell_type": "code",
   "execution_count": null,
   "id": "1af796a1-a4da-446d-a728-b535df15560c",
   "metadata": {},
   "outputs": [],
   "source": [
    "with open('big_test_ind.pickle', 'rb') as handle:\n",
    "    test_ind = pickle.load(handle)\n",
    "\n",
    "with open('big_train_ind.pickle', 'rb') as handle:\n",
    "    train_ind = pickle.load(handle)\n",
    "# train_ind = train_ind[train_ind>=110]\n",
    "# test_ind = test_ind[test_ind>=110]    \n",
    "train_ind = list(map(float,train_ind))\n",
    "test_ind = list(map(float,test_ind))\n",
    "# train_ind, test_ind = train_test_split(train_ind+test_ind,test_size=0.1, random_state=42)\n",
    "print(len(train_ind),len(test_ind))   "
   ]
  },
  {
   "cell_type": "code",
   "execution_count": null,
   "id": "86ba27e2-178d-4621-bec0-a9710006f5e9",
   "metadata": {},
   "outputs": [],
   "source": [
    "train_MS1 = pd.read_excel('train_ozone_VTZP_MS_1_energies.xlsx')\n",
    "test_MS1 = pd.read_excel('test_ozone_VTZP_MS_1_energies.xlsx')\n",
    "\n",
    "train_MS2 = pd.read_excel('train_ozone_VTZP_MS_2_energies.xlsx')\n",
    "test_MS2 = pd.read_excel('test_ozone_VTZP_MS_2_energies.xlsx')\n",
    "\n",
    "train_MS3 = pd.read_excel('train_ozone_VTZP_MS_3_energies.xlsx')\n",
    "test_MS3 = pd.read_excel('test_ozone_VTZP_MS_3_energies.xlsx')\n",
    "\n",
    "train_MS1['Set'] = len(train_MS1)*['Train']\n",
    "test_MS1['Set'] = len(test_MS1)*['Test']\n",
    "train_MS1['Root'] = len(train_MS1)*[1]\n",
    "test_MS1['Root'] = len(test_MS1)*[1]\n",
    "\n",
    "train_MS2['Set'] = len(train_MS2)*['Train']\n",
    "test_MS2['Set'] = len(test_MS2)*['Test']\n",
    "train_MS2['Root'] = len(train_MS2)*[2]\n",
    "test_MS2['Root'] = len(test_MS2)*[2]\n",
    "\n",
    "train_MS3['Set'] = len(train_MS3)*['Train']\n",
    "test_MS3['Set'] = len(test_MS3)*['Test']\n",
    "train_MS3['Root'] = len(train_MS3)*[3]\n",
    "test_MS3['Root'] = len(test_MS3)*[3]"
   ]
  },
  {
   "cell_type": "code",
   "execution_count": null,
   "id": "cf28bf4d-d9cc-4911-8c0d-9be45e5a4c31",
   "metadata": {},
   "outputs": [],
   "source": [
    "dfstacked = pd.concat([train_MS1,test_MS1,train_MS2,test_MS2,train_MS3,train_MS3])"
   ]
  },
  {
   "cell_type": "code",
   "execution_count": null,
   "id": "fbb8fd3e-ab1c-4aee-afcc-fe46c70e6265",
   "metadata": {},
   "outputs": [],
   "source": [
    "# stackeddf = pd.concat([pd.read_excel(i).rename(columns={'Unnamed: 0':\"root\"}) for i in glob('ANO-RCC-VTZP/ozone_*/*_energies.xlsx')])"
   ]
  },
  {
   "cell_type": "code",
   "execution_count": null,
   "id": "d75b40be-d3ad-4621-8b4a-e1404d9689de",
   "metadata": {},
   "outputs": [],
   "source": [
    "df_energies.query(\"variable == 'CASPT2'\")"
   ]
  },
  {
   "cell_type": "code",
   "execution_count": null,
   "id": "c01aabae-6e75-42bb-b460-62520a2bf158",
   "metadata": {},
   "outputs": [],
   "source": []
  },
  {
   "cell_type": "code",
   "execution_count": null,
   "id": "c494bac0-ad72-4e6d-bf00-93183a997ad0",
   "metadata": {},
   "outputs": [],
   "source": [
    "sns.color_palette('Paired',6)"
   ]
  },
  {
   "cell_type": "code",
   "execution_count": null,
   "id": "a8324401-8511-40a4-b9ca-b74bbcabbabb",
   "metadata": {},
   "outputs": [],
   "source": [
    "dfstacked.columns"
   ]
  },
  {
   "cell_type": "code",
   "execution_count": null,
   "id": "8ab7a397-82d5-4623-90d8-df327dbca7f7",
   "metadata": {},
   "outputs": [],
   "source": [
    "sns.jointplot(dfstacked,x='E$_{\\text{CASPT2}}^{\\text{Calculated}}$',y='E$_{\\text{CASPT2}}^{\\text{Predicted}}$',hue='Root',palette=sns.color_palette('Paired',3))\n"
   ]
  },
  {
   "cell_type": "code",
   "execution_count": null,
   "id": "fa5be845-93df-46a2-826e-bb9f2bcf607f",
   "metadata": {},
   "outputs": [],
   "source": [
    "sns.scatterplot(dfstacked,x='Angle ($^{\\circ}$)',y='E$_{\\text{CASPT2}}^{\\text{Predicted}}$',hue='Root',style='Set',palette=sns.color_palette('Paired',3))\n",
    "\n",
    "\n",
    "\n",
    "# sns.lineplot(MS1,x='Angle ($^{\\circ}$)',y='E$_{\\text{CASPT2}}^{\\text{Calculated}}$')\n",
    "# sns.lineplot(MS2,x='Angle ($^{\\circ}$)',y='E$_{\\text{CASPT2}}^{\\text{Calculated}}$')\n",
    "# sns.lineplot(MS3,x='Angle ($^{\\circ}$)',y='E$_{\\text{CASPT2}}^{\\text{Calculated}}$')\n",
    "sns.lineplot(df_energies.query(\"variable == 'CASPT2'\"),x='Angle ($^{\\circ}$)',y='value',hue='Root',palette=sns.color_palette('Paired',3))\n",
    "plt.ylabel(r'E$_{\\text{CASPT2}}^{\\text{Predicted}}$')"
   ]
  },
  {
   "cell_type": "code",
   "execution_count": null,
   "id": "202f8f5c-c1bd-4ff2-abdc-50743f6f310f",
   "metadata": {},
   "outputs": [],
   "source": []
  },
  {
   "cell_type": "code",
   "execution_count": null,
   "id": "ab11df65-e9d9-4cd1-af02-2df490630d92",
   "metadata": {},
   "outputs": [],
   "source": []
  }
 ],
 "metadata": {
  "kernelspec": {
   "display_name": "Python 3 (ipykernel)",
   "language": "python",
   "name": "python3"
  },
  "language_info": {
   "codemirror_mode": {
    "name": "ipython",
    "version": 3
   },
   "file_extension": ".py",
   "mimetype": "text/x-python",
   "name": "python",
   "nbconvert_exporter": "python",
   "pygments_lexer": "ipython3",
   "version": "3.10.4"
  }
 },
 "nbformat": 4,
 "nbformat_minor": 5
}
