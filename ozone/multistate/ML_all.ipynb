{
 "cells": [
  {
   "cell_type": "code",
   "execution_count": null,
   "id": "07f4ed39",
   "metadata": {},
   "outputs": [],
   "source": [
    "# For data generation\n",
    "import sys\n",
    "# !{sys.executable} -m pip install matplotlib --upgrade\n",
    "import shutil\n",
    "import os\n",
    "import numpy as np\n",
    "from glob import glob\n",
    "import re\n",
    "import pandas as pd\n",
    "import pickle\n",
    "#random\n",
    "from time import perf_counter\n",
    "\n",
    "# sklearn\n",
    "from sklearn.preprocessing import StandardScaler\n",
    "from sklearn.metrics import r2_score,root_mean_squared_error,mean_absolute_error,mean_absolute_percentage_error\n",
    "from sklearn.model_selection import train_test_split\n",
    "from sklearn.preprocessing import MinMaxScaler\n",
    "from sklearn.kernel_ridge import KernelRidge\n",
    "from sklearn.model_selection import GridSearchCV\n",
    "\n",
    "\n",
    "#Plotting\n",
    "import seaborn as sns\n",
    "sns.set_style()\n",
    "import matplotlib as mpl\n",
    "import matplotlib.pyplot as plt\n",
    "mpl.rcParams['figure.dpi'] = 200\n",
    "\n",
    "import warnings\n",
    "# warnings.filterwarnings(\"ignore\", category=np.DeprecationWarning) \n",
    "\n",
    "\n",
    "from tqdm.auto import tqdm\n",
    "# from tqdm.notebook import tqdm_notebook as tqdm"
   ]
  },
  {
   "cell_type": "code",
   "execution_count": null,
   "id": "ff2e8569-2d81-4deb-b91c-324e49b2d9fb",
   "metadata": {},
   "outputs": [],
   "source": [
    "with open(os.path.join(os.path.expanduser('~'),'DDCASPT2/drop.txt'),'r') as d:\n",
    "    dropfeat = [i.replace('\\n','') for i in d.readlines()]"
   ]
  },
  {
   "cell_type": "code",
   "execution_count": null,
   "id": "30fd72cf",
   "metadata": {},
   "outputs": [],
   "source": [
    "# with open('test_ind.pickle', 'rb') as handle:\n",
    "#     test_ind = pickle.load(handle)\n",
    "\n",
    "# with open('train_ind.pickle', 'rb') as handle:\n",
    "#     train_ind = pickle.load(handle)\n",
    "\n",
    "with open('big_test_ind.pickle', 'rb') as handle:\n",
    "    test_ind = pickle.load(handle)\n",
    "\n",
    "with open('big_train_ind.pickle', 'rb') as handle:\n",
    "    train_ind = pickle.load(handle)\n",
    "# train_ind = train_ind[train_ind>=110]\n",
    "# test_ind = test_ind[test_ind>=110]    \n",
    "train_ind = list(map(float,train_ind))\n",
    "test_ind = list(map(float,test_ind))\n",
    "train_ind, test_ind = train_test_split(train_ind+test_ind,test_size=0.1, random_state=42)\n",
    "print(len(train_ind),len(test_ind))    \n"
   ]
  },
  {
   "cell_type": "code",
   "execution_count": null,
   "id": "5cc60849-f3b2-4336-8518-8c125d729943",
   "metadata": {},
   "outputs": [],
   "source": [
    "len(train_ind+test_ind)"
   ]
  },
  {
   "cell_type": "code",
   "execution_count": null,
   "id": "e089fd04-fb1c-4750-833c-38eee2437993",
   "metadata": {},
   "outputs": [],
   "source": [
    "rename = {'h$_{qq}^{0}$':'h$_{q}$',\n",
    "'$(F_{q})_{0}$':'$F_{q}$',\n",
    "'$(F_{q}^{\\\\text{SCF}})_{0}$':'$F_{q}^{\\\\text{SCF}}$',\n",
    "'$(\\\\eta_{q})_{0}$':'$\\\\eta_{q}$',\n",
    "'$(\\\\omega_{q})_{0}$':'$\\\\omega_{q}$',\n",
    "'$(\\\\eta_{s})_{0}$':'$\\\\eta_{s}$',\n",
    "'h$_{ss}^{0}$':'h$_{s}$',\n",
    "'$(F_{s}^{\\\\text{SCF}})_{0}$':'$F_{s}^{\\\\text{SCF}}$',\n",
    "'$(F_{s})_{0}$':'$F_{s}$',\n",
    "'$(\\\\omega_{s})_{0}$':'$\\\\omega_{s}$',\n",
    "'$(\\\\langle ss \\\\vert ss \\\\rangle)_{0}$':\"$\\\\langle ss \\\\vert ss \\\\rangle$\",\n",
    "'$(\\\\langle qq \\\\vert qq \\\\rangle)_{0}$':\"$\\langle qq \\\\vert qq \\\\rangle$\",\n",
    "'h$_{pp}^{0}$': '(h$_{p}$)$_{0}$',\n",
    "'h$_{pp}^{1}$': '(h$_{p}$)$_{1}$',\n",
    "'h$_{pp}^{2}$': '(h$_{p}$)$_{2}$',\n",
    "'h$_{pp}^{3}$': '(h$_{p}$)$_{3}$',\n",
    "'h$_{rr}^{0}$': '(h$_{r}$)$_{0}$',\n",
    "'h$_{rr}^{1}$': '(h$_{r}$)$_{1}$',\n",
    "'h$_{rr}^{2}$': '(h$_{r}$)$_{2}$',\n",
    "'h$_{rr}^{3}$': '(h$_{r}$)$_{3}$',\n",
    "'h$_{pq}^{0}$':'(h$_{pq}$)$_{0}$',\n",
    "'h$_{pq}^{1}$':'(h$_{pq}$)$_{1}$',\n",
    "'h$_{pq}^{2}$':'(h$_{pq}$)$_{2}$',\n",
    "'h$_{pq}^{3}$':'(h$_{pq}$)$_{3}$',\n",
    "'h$_{pr}^{0}$':'(h$_{pr}$)$_{0}$',\n",
    "'h$_{pr}^{1}$':'(h$_{pr}$)$_{1}$',\n",
    "'h$_{pr}^{2}$':'(h$_{pr}$)$_{2}$',\n",
    "'h$_{pr}^{3}$':'(h$_{pr}$)$_{3}$',\n",
    "'h$_{rs}^{0}$':'(h$_{rs}$)$_{0}$',\n",
    "'h$_{rs}^{1}$':'(h$_{rs}$)$_{1}$',\n",
    "'h$_{rs}^{2}$':'(h$_{rs}$)$_{2}$',\n",
    "'h$_{rs}^{3}$':'(h$_{rs}$)$_{3}$',\n",
    "'typ_0':'$type_0$',\n",
    "'typ_1':'$type_1$',\n",
    "'typ_2':'$type_2$',\n",
    "'typ_3':'$type_3$'}"
   ]
  },
  {
   "cell_type": "code",
   "execution_count": null,
   "id": "abe9a7f2-d48e-478f-816f-45f962b200c7",
   "metadata": {},
   "outputs": [],
   "source": [
    "def grab_state_data(state,dropfeat):\n",
    "    train = []\n",
    "    test = []\n",
    "    \n",
    "    \n",
    "    \n",
    "    recover_train = []\n",
    "    recover_test = []\n",
    "    \n",
    "    traincnt = 0\n",
    "    testcnt = 0\n",
    "    # TZP: 1e-5\n",
    "    # DZP: 1e-5\n",
    "    # mb: 1e-3\n",
    "    for i in sorted(glob('ANO-RCC-VTZP/')):\n",
    "        for j in glob(os.path.join(i,'ozone_*')):\n",
    "            for k in train_ind:\n",
    "                if f\"{k:.2f}\" in j:\n",
    "                    traindf = pd.read_csv(os.path.join(j,os.path.basename(j)+f'_{state}.csv'),index_col=0)\n",
    "                    # traindf = traindf[traindf['Pair_Energies'].abs()>=1e-5]\n",
    "                    train.append(traindf)\n",
    "                    recover_train.append((f\"state_{state}\",f\"{k:.2f}\",traincnt,len(traindf)))\n",
    "                    traincnt+=1\n",
    "                    \n",
    "            for l in test_ind:\n",
    "                if f\"{l:.2f}\" in j:\n",
    "                    testdf = pd.read_csv(os.path.join(j,os.path.basename(j)+f'_{state}.csv'),index_col=0)\n",
    "                    # testdf = testdf[testdf['Pair_Energies'].abs()>=1e-5]\n",
    "                    test.append(testdf)                    \n",
    "                    recover_test.append((f\"state_{state}\",f\"{l:.2f}\",testcnt,len(testdf)))\n",
    "                    testcnt+=1\n",
    "    \n",
    "    dropfeat = [a for a in dropfeat if a not in ['D$_{qs}$', 'F$_{qs}$', 'FA$_{qs}$', 'FI$_{qs}$']]\n",
    "    train_df = pd.concat(train).drop(columns=dropfeat).rename(columns=rename)\n",
    "    test_df = pd.concat(test).drop(columns=dropfeat).rename(columns=rename)                    \n",
    "\n",
    "    return train_df, test_df, recover_train, recover_test"
   ]
  },
  {
   "cell_type": "code",
   "execution_count": null,
   "id": "4e4d3a3d-9844-4c04-af80-2f80772cc4a7",
   "metadata": {},
   "outputs": [],
   "source": []
  },
  {
   "cell_type": "code",
   "execution_count": null,
   "id": "cad7cae0-fadc-4d40-974a-ff463fd162d9",
   "metadata": {},
   "outputs": [],
   "source": [
    "# train_df, test_df, recover_train, recover_test = grab_state_data(1,dropfeat)\n",
    "# train_df, test_df, recover_train, recover_test = grab_state_data(2,dropfeat)\n",
    "# train_df, test_df, recover_train, recover_test = grab_state_data(3,dropfeat)\n",
    "\n",
    "train_df_1, test_df_1, recover_train_1, recover_test_1 = grab_state_data(1,dropfeat)\n",
    "train_df_2, test_df_2, recover_train_2, recover_test_2 = grab_state_data(2,dropfeat)\n",
    "train_df_3, test_df_3, recover_train_3, recover_test_3 = grab_state_data(3,dropfeat)\n",
    "\n",
    "\n",
    "train_df = pd.concat([train_df_1,train_df_2,train_df_3])\n",
    "test_df = pd.concat([test_df_1,test_df_2,test_df_3])\n",
    "\n",
    "recover_train = recover_train_1+recover_train_2+recover_train_3\n",
    "recover_test = recover_test_1+recover_test_2+recover_test_3"
   ]
  },
  {
   "cell_type": "code",
   "execution_count": null,
   "id": "57f11f3d-1a9b-4ea5-9d28-b17dadd3a0f9",
   "metadata": {},
   "outputs": [],
   "source": []
  },
  {
   "cell_type": "code",
   "execution_count": null,
   "id": "e7bc98f9-1adb-4b5d-a632-8b489996a7e3",
   "metadata": {},
   "outputs": [],
   "source": []
  },
  {
   "cell_type": "code",
   "execution_count": null,
   "id": "0f8e5f1e-f6b3-4083-84b2-eb52bed90494",
   "metadata": {},
   "outputs": [],
   "source": [
    "X_train = train_df.drop(columns=['Pair_Energies']).values\n",
    "X_test = test_df.drop(columns=['Pair_Energies']).values\n",
    "\n",
    "y_train = train_df['Pair_Energies'].values\n",
    "y_test = test_df['Pair_Energies'].values"
   ]
  },
  {
   "cell_type": "code",
   "execution_count": null,
   "id": "51f782f1-0020-44ed-b6c8-526aac7e418a",
   "metadata": {},
   "outputs": [],
   "source": [
    "y_train.shape[0] / (y_train.shape[0]+y_test.shape[0])"
   ]
  },
  {
   "cell_type": "code",
   "execution_count": null,
   "id": "5917faf5-a34a-48f3-bc7d-b431a56e228d",
   "metadata": {},
   "outputs": [],
   "source": [
    "X_train.shape"
   ]
  },
  {
   "cell_type": "code",
   "execution_count": null,
   "id": "26d1774c-f1d6-469e-af97-ed2eb16045fe",
   "metadata": {},
   "outputs": [],
   "source": [
    "scaler=MinMaxScaler()\n",
    "X_train=scaler.fit_transform(X_train)\n",
    "X_test=scaler.transform(X_test)"
   ]
  },
  {
   "cell_type": "code",
   "execution_count": null,
   "id": "b33b6610-2a11-4ac4-9c8d-4c7df2e7510c",
   "metadata": {
    "scrolled": true,
    "tags": []
   },
   "outputs": [],
   "source": [
    "from xgboost import XGBRegressor\n",
    "\n",
    "kwargs = dict(pd.read_excel(\"ozone_VTZP_MS_ALL_90_10_split_params.xlsx\").values)\n",
    "model=XGBRegressor(**kwargs)\n",
    "model.fit(X_train,y_train)\n",
    "y_pred_train=model.predict(X_train)\n",
    "y_pred_test=model.predict(X_test)\n",
    "print(f\"R2: {r2_score(y_train,y_pred_train):.4f},{r2_score(y_test,y_pred_test):.4f}\")\n",
    "print(f\"RMSE (mEh): {root_mean_squared_error(y_train,y_pred_train)*1e3:.4f},{root_mean_squared_error(y_test,y_pred_test)*1e3:.4f}\")\n",
    "\n",
    "# params = {'max_depth': [1, 10, 100],\n",
    "#           'n_estimators': [100, 500, 1000],\n",
    "#           'reg_lambda': [1e-6, 1e-3,1e-1],\n",
    "#           'reg_alpha': [1e-6, 1e-3,1e-1]}\n",
    "\n",
    "# model = XGBRegressor()\n",
    "# grid = GridSearchCV(estimator=model, \n",
    "#                    param_grid=params,\n",
    "#                    scoring='r2', \n",
    "#                    verbose=100,n_jobs=12).fit(X_train,y_train)\n",
    "\n",
    "\n",
    "# model=grid.best_estimator_\n",
    "# y_pred_train=model.predict(X_train)\n",
    "# y_pred_test=model.predict(X_test)\n",
    "# print(f\"R2: {r2_score(y_train,y_pred_train):.4f},{r2_score(y_test,y_pred_test):.4f}\")\n",
    "# print(f\"RMSE (mEh): {root_mean_squared_error(y_train,y_pred_train)*1e3:.4f},{root_mean_squared_error(y_test,y_pred_test)*1e3:.4f}\")\n",
    "# pd.DataFrame.from_dict(model.get_params(),orient='index').dropna().to_excel(\"ozone_VTZP_MS_ALL_90_10_split_params.xlsx\")"
   ]
  },
  {
   "cell_type": "code",
   "execution_count": null,
   "id": "fdde8768-d791-46b2-a2d4-89e0231b0306",
   "metadata": {},
   "outputs": [],
   "source": [
    "with open(\"y_train_ALL.npy\", 'wb') as f:\n",
    "    np.save(f,y_train)\n",
    "\n",
    "with open(\"y_pred_train_ALL.npy\", 'wb') as f:\n",
    "    np.save(f,y_pred_train)  \n",
    "\n",
    "\n",
    "with open(\"y_test_ALL.npy\", 'wb') as f:\n",
    "    np.save(f,y_test)\n",
    "\n",
    "with open(\"y_pred_test_ALL.npy\", 'wb') as f:\n",
    "    np.save(f,y_pred_test)  \n",
    "# y_train,y_pred_train"
   ]
  },
  {
   "cell_type": "code",
   "execution_count": null,
   "id": "af01ab7b-f1b4-430d-9c7e-f6058294c85a",
   "metadata": {},
   "outputs": [],
   "source": [
    "pd.DataFrame.from_dict(model.get_params(),orient='index').dropna().to_excel(\"ozone_VTZP_MS_ALL_90_10_split_params.xlsx\")"
   ]
  },
  {
   "cell_type": "code",
   "execution_count": null,
   "id": "0cda8bda-8466-40d3-ad5a-23a5ac6118f5",
   "metadata": {},
   "outputs": [],
   "source": [
    "try:\n",
    "    os.mkdir('images')\n",
    "except:\n",
    "    print('./images exist')"
   ]
  },
  {
   "cell_type": "code",
   "execution_count": null,
   "id": "a6f319e3-3c14-4003-81a3-5ddc43f7895d",
   "metadata": {},
   "outputs": [],
   "source": [
    "y_train.min()*1e3,y_train.max()*1e3"
   ]
  },
  {
   "cell_type": "code",
   "execution_count": null,
   "id": "d59bfbe7-26b3-4e59-9967-492a9267e947",
   "metadata": {
    "tags": []
   },
   "outputs": [],
   "source": [
    "pairedcp = sns.color_palette(\"Paired\")\n",
    "font=12\n",
    "plt.rc('font', size=font)          # controls default text sizes\n",
    "plt.rc('axes', titlesize=font)     # fontsize of the axes title\n",
    "plt.rc('axes', labelsize=font)    # fontsize of the x and y labels\n",
    "plt.rc('xtick', labelsize=font)    # fontsize of the tick labels\n",
    "plt.rc('ytick', labelsize=font)    # fontsize of the tick labels\n",
    "plt.rc('legend', fontsize=font)    # legend fontsize\n",
    "plt.rc('figure', titlesize=font)  # fontsize of the figure title\n",
    "fig,(ax1,ax2)=plt.subplots(1,2,figsize=(13,6))\n",
    "scale=1e-1\n",
    "minL,maxL = -70, 30\n",
    "ax1.set_title('Train')\n",
    "ax1.scatter(1e3*y_train,1e3*y_pred_train,label=\"R$^{2}$=\"+f'{r2_score(y_train,y_pred_train):.4f}\\nMAE={1e3*mean_absolute_error(y_train,y_pred_train):.4f}'+\" mE$_{h}$\",color=pairedcp[0],edgecolors='k')\n",
    "ax1.plot(np.arange(-100,100),np.arange(-100,100),'k-')\n",
    "ax1.set_xlim(minL,maxL)\n",
    "ax1.set_ylim(minL,maxL)\n",
    "ax1.set_xlabel('Calculated Pair-Energies (mE$_{h}$)')\n",
    "ax1.set_ylabel('Predicted Pair-Energies (mE$_{h}$)')\n",
    "ax1.legend()\n",
    "\n",
    "\n",
    "ax2.set_title('Test')\n",
    "ax2.scatter(1e3*y_test,1e3*y_pred_test,label=\"R$^{2}$=\"+f'{r2_score(y_test,y_pred_test):.4f}\\nMAE={1e3*mean_absolute_error(y_test,y_pred_test):.4f}'+\" mE$_{h}$\",color=pairedcp[1],edgecolors='k')\n",
    "ax2.plot(np.arange(-100,100),np.arange(-100,100),'k-')\n",
    "ax2.set_xlim(minL,maxL)\n",
    "ax2.set_ylim(minL,maxL)\n",
    "ax2.set_xlabel('Calculated Pair-Energies (mE$_{h}$)')\n",
    "ax2.set_ylabel('Predicted Pair-Energies (mE$_{h}$)')\n",
    "ax2.legend()\n",
    "\n",
    "plt.tight_layout()\n",
    "plt.savefig('images/ozone_VTZP_MS_ALL_90_10_split_parity.png',dpi=300,bbox_inches='tight')\n",
    "plt.show()"
   ]
  },
  {
   "cell_type": "code",
   "execution_count": null,
   "id": "e1ce5ef9-9a21-47d1-9f6d-a8748046f438",
   "metadata": {
    "scrolled": true
   },
   "outputs": [],
   "source": [
    "testcntrcvr = 0\n",
    "recover_test_list = []\n",
    "recover_test_E2 = []\n",
    "for i,j,k,l in recover_test:\n",
    "    print(i,j,k,l)\n",
    "    init_test = testcntrcvr\n",
    "    testcntrcvr+=l\n",
    "    recover_test_list.append((i.split(\"_\")[1],j,y_test[init_test:testcntrcvr],y_pred_test[init_test:testcntrcvr]))\n",
    "    recover_test_E2.append((i.split(\"_\")[1],j,np.sum(y_test[init_test:testcntrcvr]),np.sum(y_pred_test[init_test:testcntrcvr])))\n",
    "\n",
    "\n",
    "traincntrcvr = 0\n",
    "recover_train_list = []\n",
    "recover_train_E2 = []\n",
    "for i,j,k,l in recover_train:\n",
    "    init_train = traincntrcvr\n",
    "    traincntrcvr+=l\n",
    "    recover_train_list.append((i.split(\"_\")[1],j,y_train[init_train:traincntrcvr],y_pred_train[init_train:traincntrcvr]))\n",
    "    recover_train_E2.append((i.split(\"_\")[1],j,np.sum(y_train[init_train:traincntrcvr]),np.sum(y_pred_train[init_train:traincntrcvr])))"
   ]
  },
  {
   "cell_type": "code",
   "execution_count": null,
   "id": "a8336f50-0cd4-4c08-9ff7-7c7d5558341c",
   "metadata": {},
   "outputs": [],
   "source": [
    "y_train_1, y_pred_train_1 = np.hstack([np.vstack((true, pred)) for state, angle, true, pred, in recover_train_list if state=='1'])\n",
    "\n",
    "y_test_1, y_pred_test_1 = np.hstack([np.vstack((true, pred)) for state, angle, true, pred, in recover_test_list if state=='1'])\n",
    "\n",
    "y_train_2, y_pred_train_2 = np.hstack([np.vstack((true, pred)) for state, angle, true, pred, in recover_train_list if state=='2'])\n",
    "\n",
    "y_test_2, y_pred_test_2 = np.hstack([np.vstack((true, pred)) for state, angle, true, pred, in recover_test_list if state=='2'])\n",
    "\n",
    "y_train_3, y_pred_train_3 = np.hstack([np.vstack((true, pred)) for state, angle, true, pred, in recover_train_list if state=='3'])\n",
    "\n",
    "y_test_3, y_pred_test_3 = np.hstack([np.vstack((true, pred)) for state, angle, true, pred, in recover_test_list if state=='3'])"
   ]
  },
  {
   "cell_type": "code",
   "execution_count": null,
   "id": "0b352604-8315-4330-86ad-4e6d8d285f0a",
   "metadata": {},
   "outputs": [],
   "source": [
    "traincorrE2 = pd.DataFrame(recover_train_E2).rename(columns={0:\"state\",1:'Angle ($^{\\circ}$)',2:'E$_{2}^{\\text{Calculated}}$',3:'E$_{2}^{\\text{Predicted}}$'})\n",
    "#.astype({\"state\":str,'Angle ($^{\\circ}$)':float,'E$_{2}^{\\text{Calculated}}$':float,'E$_{2}^{\\text{Predicted}}$':float})\n",
    "testcorrE2 = pd.DataFrame(recover_test_E2).rename(columns={0:\"state\",1:'Angle ($^{\\circ}$)',2:'E$_{2}^{\\text{Calculated}}$',3:'E$_{2}^{\\text{Predicted}}$'})\n",
    "#.astype({\"state\":str,'Angle ($^{\\circ}$)':float,'E$_{2}^{\\text{Calculated}}$':float,'E$_{2}^{\\text{Predicted}}$':float})\n",
    "\n",
    "\n",
    "traincorrE2['CASPT2_E']=np.zeros(len(traincorrE2))\n",
    "traincorrE2['CASSCF_E']=np.zeros(len(traincorrE2))\n",
    "traincorrE2['E2']=np.zeros(len(traincorrE2))\n",
    "\n",
    "traincorrE2.index = [\"_\".join((u,v)) for u,v in traincorrE2[[\"state\",'Angle ($^{\\circ}$)']].values]\n",
    "\n",
    "for i in traincorrE2.index:\n",
    "    \n",
    "    hn, r = i.split('_')\n",
    "    \n",
    "    energy_df = pd.read_excel(f\"ANO-RCC-VTZP/ozone_{r}/ozone_{r}_energies.xlsx\",index_col=0).loc[f\"root_{hn}\"]\n",
    "    traincorrE2.loc[i,'CASPT2_E']=energy_df.loc['CASPT2_E']\n",
    "    traincorrE2.loc[i,'CASSCF_E']=energy_df.loc['CASSCF_E']\n",
    "    # traincorrE2.loc[i,'E2']=energy_df.loc['E2'].values\n",
    "\n",
    "traincorrE2['E$_{\\text{CASPT2}}^{\\text{Predicted}}$'] = traincorrE2['CASSCF_E']+traincorrE2['E$_{2}^{\\text{Predicted}}$']\n",
    "\n",
    "traincorrE2.rename(columns = {'CASPT2_E':'E$_{\\text{CASPT2}}^{\\text{Calculated}}$','CASSCF_E':'E$_{\\text{CASSCF}}^{\\text{Calculated}}$'},inplace=True)\n",
    "\n",
    "\n",
    "testcorrE2['CASPT2_E']=np.zeros(len(testcorrE2))\n",
    "testcorrE2['CASSCF_E']=np.zeros(len(testcorrE2))\n",
    "testcorrE2['E2']=np.zeros(len(testcorrE2))\n",
    "\n",
    "testcorrE2.index = [\"_\".join((u,v)) for u,v in testcorrE2[[\"state\",'Angle ($^{\\circ}$)']].values]\n",
    "\n",
    "for i in testcorrE2.index:\n",
    "    hn, r = i.split('_')\n",
    "    energy_df = pd.read_excel(f\"ANO-RCC-VTZP/ozone_{r}/ozone_{r}_energies.xlsx\",index_col=0).loc[f\"root_{hn}\"]\n",
    "    testcorrE2.loc[i,'CASPT2_E']=energy_df.loc['CASPT2_E']\n",
    "    testcorrE2.loc[i,'CASSCF_E']=energy_df.loc['CASSCF_E']\n",
    "    # testcorrE2.loc[i,'E2']=energy_df.loc['E2'].values\n",
    "\n",
    "testcorrE2['E$_{\\text{CASPT2}}^{\\text{Predicted}}$'] = testcorrE2['CASSCF_E']+testcorrE2['E$_{2}^{\\text{Predicted}}$']\n",
    "\n",
    "testcorrE2.rename(columns = {'CASPT2_E':'E$_{\\text{CASPT2}}^{\\text{Calculated}}$','CASSCF_E':'E$_{\\text{CASSCF}}^{\\text{Calculated}}$'},inplace=True)\n",
    "\n",
    "\n",
    "traincorrE2['Set'] = len(traincorrE2)*['Train']\n",
    "testcorrE2['Set'] = len(testcorrE2)*['Test']"
   ]
  },
  {
   "cell_type": "code",
   "execution_count": null,
   "id": "06745306-816e-4b0b-a6d0-ba96e0cd4636",
   "metadata": {},
   "outputs": [],
   "source": [
    "traincaspt2melt = traincorrE2.melt(id_vars=[\"state\",'Angle ($^{\\circ}$)'], value_vars=['E$_{\\text{CASPT2}}^{\\text{Calculated}}$','E$_{\\text{CASPT2}}^{\\text{Predicted}}$']).astype({'Angle ($^{\\circ}$)':float,'value':float})\n",
    "testcaspt2melt = testcorrE2.melt(id_vars=[\"state\",'Angle ($^{\\circ}$)'], value_vars=['E$_{\\text{CASPT2}}^{\\text{Calculated}}$','E$_{\\text{CASPT2}}^{\\text{Predicted}}$']).astype({'Angle ($^{\\circ}$)':float,'value':float})"
   ]
  },
  {
   "cell_type": "code",
   "execution_count": null,
   "id": "27f07db2-465b-4843-9d34-519adeb1a3dc",
   "metadata": {},
   "outputs": [],
   "source": [
    "traincaspt2melt"
   ]
  },
  {
   "cell_type": "code",
   "execution_count": null,
   "id": "9ec3766b-29ed-44f2-b43e-a259c7109cc9",
   "metadata": {},
   "outputs": [],
   "source": [
    "np.round((traincorrE2[traincorrE2['Angle ($^{\\circ}$)'] == \"116.75\"].query(\"state == '2'\")['E$_{\\text{CASPT2}}^{\\text{Predicted}}$'].values-traincorrE2[traincorrE2['Angle ($^{\\circ}$)'] == \"116.75\"].query(\"state == '1'\")['E$_{\\text{CASPT2}}^{\\text{Predicted}}$'].values) * 27.211407953,2)"
   ]
  },
  {
   "cell_type": "code",
   "execution_count": null,
   "id": "7e41e0fe-7b8a-4050-bea4-9b32b79f86e3",
   "metadata": {},
   "outputs": [],
   "source": [
    "np.round((traincorrE2[traincorrE2['Angle ($^{\\circ}$)'] == \"116.75\"].query(\"state == '3'\")['E$_{\\text{CASPT2}}^{\\text{Predicted}}$'].values-traincorrE2[traincorrE2['Angle ($^{\\circ}$)'] == \"116.75\"].query(\"state == '1'\")['E$_{\\text{CASPT2}}^{\\text{Predicted}}$'].values) * 27.211407953,2)"
   ]
  },
  {
   "cell_type": "code",
   "execution_count": null,
   "id": "c7f91f9a-4de9-4794-8643-c42a6a8db868",
   "metadata": {},
   "outputs": [],
   "source": []
  },
  {
   "cell_type": "code",
   "execution_count": null,
   "id": "718f81fb",
   "metadata": {},
   "outputs": [],
   "source": [
    "pairedcp=sns.color_palette('Paired')"
   ]
  },
  {
   "cell_type": "code",
   "execution_count": null,
   "id": "11a4ad08-5dac-4c03-ac21-26e44013bfe5",
   "metadata": {},
   "outputs": [],
   "source": [
    "dfstacked = pd.concat([traincorrE2,testcorrE2]).sort_values(by='Angle ($^{\\circ}$)').astype({'Angle ($^{\\circ}$)': float})"
   ]
  },
  {
   "cell_type": "code",
   "execution_count": null,
   "id": "9de0ad21-9f21-48cf-8f62-d1483ed25915",
   "metadata": {},
   "outputs": [],
   "source": [
    "# dfstacked.dtypes"
   ]
  },
  {
   "cell_type": "code",
   "execution_count": null,
   "id": "e988eb73-59cf-4481-8b00-a2e07bdefaac",
   "metadata": {},
   "outputs": [],
   "source": [
    "train_MS1 = dfstacked.query(\"state == '1'\").query(\"Set == 'Train'\")\n",
    "train_MS2 = dfstacked.query(\"state == '2'\").query(\"Set == 'Train'\")\n",
    "train_MS3 = dfstacked.query(\"state == '3'\").query(\"Set == 'Train'\")\n",
    "\n",
    "test_MS1 = dfstacked.query(\"state == '1'\").query(\"Set == 'Test'\")\n",
    "test_MS2 = dfstacked.query(\"state == '2'\").query(\"Set == 'Test'\")\n",
    "test_MS3 = dfstacked.query(\"state == '3'\").query(\"Set == 'Test'\")"
   ]
  },
  {
   "cell_type": "code",
   "execution_count": null,
   "id": "246b7f2a-ca0b-4ba6-80ab-c81528b27e75",
   "metadata": {},
   "outputs": [],
   "source": [
    "traincorrcalc1, traincorrpred1 = train_MS1['E$_{2}^{\\text{Calculated}}$'],train_MS1['E$_{2}^{\\text{Predicted}}$']\n",
    "traincorrcalc2, traincorrpred2 = train_MS2['E$_{2}^{\\text{Calculated}}$'],train_MS2['E$_{2}^{\\text{Predicted}}$']\n",
    "traincorrcalc3, traincorrpred3 = train_MS3['E$_{2}^{\\text{Calculated}}$'],train_MS3['E$_{2}^{\\text{Predicted}}$']\n",
    "\n",
    "traincorrlabel1 = 'Root 1 '+f'MAE={1e3 * mean_absolute_error(traincorrcalc1, traincorrpred1):.4f}'+\" mE$_{h}$\"\n",
    "traincorrlabel2 = 'Root 2 '+f'MAE={1e3 * mean_absolute_error(traincorrcalc2, traincorrpred2):.4f}'+\" mE$_{h}$\"\n",
    "traincorrlabel3 = 'Root 3 '+f'MAE={1e3 * mean_absolute_error(traincorrcalc3, traincorrpred3):.4f}'+\" mE$_{h}$\"\n",
    "\n",
    "testcorrcalc1, testcorrpred1 = test_MS1['E$_{2}^{\\text{Calculated}}$'],test_MS1['E$_{2}^{\\text{Predicted}}$']\n",
    "testcorrcalc2, testcorrpred2 = test_MS2['E$_{2}^{\\text{Calculated}}$'],test_MS2['E$_{2}^{\\text{Predicted}}$']\n",
    "testcorrcalc3, testcorrpred3 = test_MS3['E$_{2}^{\\text{Calculated}}$'],test_MS3['E$_{2}^{\\text{Predicted}}$']\n",
    "\n",
    "testcorrlabel1 = 'Root 1 '+f'MAE={1e3 * mean_absolute_error(testcorrcalc1, testcorrpred1):.4f}'+\" mE$_{h}$\"\n",
    "testcorrlabel2 = 'Root 2 '+f'MAE={1e3 * mean_absolute_error(testcorrcalc2, testcorrpred2):.4f}'+\" mE$_{h}$\"\n",
    "testcorrlabel3 = 'Root 3 '+f'MAE={1e3 * mean_absolute_error(testcorrcalc3, testcorrpred3):.4f}'+\" mE$_{h}$\""
   ]
  },
  {
   "cell_type": "code",
   "execution_count": null,
   "id": "928b99b6-d6ac-4663-946e-4e0b19868ca1",
   "metadata": {},
   "outputs": [],
   "source": [
    "min_max = dfstacked[['E$_{2}^{\\text{Predicted}}$','E$_{2}^{\\text{Calculated}}$']].describe().loc[['min','max']]"
   ]
  },
  {
   "cell_type": "code",
   "execution_count": null,
   "id": "5acf61c6-a837-4bfa-a585-75136065ca78",
   "metadata": {},
   "outputs": [],
   "source": [
    "mincorr = np.min(min_max) + np.min(min_max)*0.01\n",
    "maxcorr = np.max(min_max) - np.max(min_max)*0.01"
   ]
  },
  {
   "cell_type": "code",
   "execution_count": null,
   "id": "4ddefbcb-2d64-4d7d-8698-591299437e5e",
   "metadata": {},
   "outputs": [],
   "source": [
    "traincorrE2.loc[:,\"E$_{\\text{CASPT2}}^{\\text{Calculated}}$\"].idxmin()"
   ]
  },
  {
   "cell_type": "markdown",
   "id": "19808a9f-5eeb-431f-9d68-07522754e6d1",
   "metadata": {},
   "source": [
    "# Vertical Excitation Energies from state 1 to state 2"
   ]
  },
  {
   "cell_type": "code",
   "execution_count": null,
   "id": "0887899e-3eda-40ef-a868-24c4d646027d",
   "metadata": {},
   "outputs": [],
   "source": [
    "((traincorrE2.loc['2_116.75',\"E$_{\\text{CASPT2}}^{\\text{Calculated}}$\"] - traincorrE2.loc['1_116.75',\"E$_{\\text{CASPT2}}^{\\text{Calculated}}$\"]))*27.211407953"
   ]
  },
  {
   "cell_type": "code",
   "execution_count": null,
   "id": "69aadabd-12a3-4364-88a8-a1899339ee6e",
   "metadata": {},
   "outputs": [],
   "source": [
    "((traincorrE2.loc['2_116.75',\"E$_{\\text{CASPT2}}^{\\text{Predicted}}$\"] - traincorrE2.loc['1_116.75',\"E$_{\\text{CASPT2}}^{\\text{Predicted}}$\"]))*27.211407953"
   ]
  },
  {
   "cell_type": "markdown",
   "id": "f690390b-3626-4d1f-936e-9157d5d25c6f",
   "metadata": {},
   "source": [
    "# Vertical Excitation Energies from state 1 to state 3"
   ]
  },
  {
   "cell_type": "code",
   "execution_count": null,
   "id": "87612e10-373a-468d-8d51-dea2231399b3",
   "metadata": {},
   "outputs": [],
   "source": [
    "((traincorrE2.loc['3_116.75',\"E$_{\\text{CASPT2}}^{\\text{Calculated}}$\"] - traincorrE2.loc['1_116.75',\"E$_{\\text{CASPT2}}^{\\text{Calculated}}$\"]))*27.211407953"
   ]
  },
  {
   "cell_type": "code",
   "execution_count": null,
   "id": "accf651e-ca82-4e72-9cb3-d0c9027ed0fa",
   "metadata": {},
   "outputs": [],
   "source": [
    "((traincorrE2.loc['3_116.75',\"E$_{\\text{CASPT2}}^{\\text{Predicted}}$\"] - traincorrE2.loc['1_116.75',\"E$_{\\text{CASPT2}}^{\\text{Predicted}}$\"]))*27.211407953"
   ]
  },
  {
   "cell_type": "code",
   "execution_count": null,
   "id": "b3c408a7-b342-432f-ab6d-2fa109645e6b",
   "metadata": {},
   "outputs": [],
   "source": [
    "pairedcp = sns.color_palette(\"Paired\")\n",
    "train_colors = pairedcp[0::2]\n",
    "test_colors = pairedcp[1::2]"
   ]
  },
  {
   "cell_type": "code",
   "execution_count": null,
   "id": "258540fa-554d-406a-9dc5-70350103ab51",
   "metadata": {},
   "outputs": [],
   "source": [
    "font=12\n",
    "plt.rc('font', size=font)          # controls default text sizes\n",
    "plt.rc('axes', titlesize=font)     # fontsize of the axes title\n",
    "plt.rc('axes', labelsize=font)    # fontsize of the x and y labels\n",
    "plt.rc('xtick', labelsize=font)    # fontsize of the tick labels\n",
    "plt.rc('ytick', labelsize=font)    # fontsize of the tick labels\n",
    "plt.rc('legend', fontsize=font)    # legend fontsize\n",
    "plt.rc('figure', titlesize=font)  # fontsize of the figure title\n",
    "\n",
    "fig,((ax1,ax2),(ax3,ax4),(ax5,ax6))=plt.subplots(3,2,figsize=(15,20),sharey=False)\n",
    "\n",
    "\n",
    "\n",
    "pred_train,true_train = dfstacked.query(\"Set == 'Train'\")['E$_{2}^{\\text{Predicted}}$'],dfstacked.query(\"Set == 'Train'\")['E$_{2}^{\\text{Calculated}}$']\n",
    "pred_test,true_test = dfstacked.query(\"Set == 'Test'\")['E$_{2}^{\\text{Predicted}}$'],dfstacked.query(\"Set == 'Test'\")['E$_{2}^{\\text{Calculated}}$']\n",
    "testrad = dfstacked.query(\"Set == 'Test'\")['Angle ($^{\\circ}$)']\n",
    "trainrad = dfstacked.query(\"Set == 'Train'\")['Angle ($^{\\circ}$)']\n",
    "\n",
    "ax1.scatter(1e3*y_train_1,1e3*y_pred_train_1,color=train_colors[0],edgecolors='k', label='Root 1\\nR$^{2}$='+f'{r2_score(y_train_1, y_pred_train_1):.4f}\\nMAE={1e3 * mean_absolute_error(y_train_1, y_pred_train_1):.4f}'+\" mE$_{h}$\")\n",
    "ax1.scatter(1e3*y_train_2,1e3*y_pred_train_2,color=train_colors[1],edgecolors='k', label='Root 2\\nR$^{2}$='+f'{r2_score(y_train_2, y_pred_train_2):.4f}\\nMAE={1e3 * mean_absolute_error(y_train_2, y_pred_train_2):.4f}'+\" mE$_{h}$\")\n",
    "ax1.scatter(1e3*y_train_3,1e3*y_pred_train_3,color=train_colors[2],edgecolors='k', label='Root 3\\nR$^{2}$='+f'{r2_score(y_train_3, y_pred_train_3):.4f}\\nMAE={1e3 * mean_absolute_error(y_train_3, y_pred_train_3):.4f}'+\" mE$_{h}$\")\n",
    "ax1.plot(np.arange(-100,100),np.arange(-100,100),'k')\n",
    "ax1.set_xlabel('Calculated CASPT2 Pair-Energies (mE$_{h}$)')\n",
    "ax1.set_ylabel('Predicted CASPT2 Pair-Energies (mE$_{h}$)')\n",
    "ax1.set_title('Train')\n",
    "ax1.set_xlim(-35,35)\n",
    "ax1.set_ylim(-35,35)\n",
    "ax1.legend(loc=4)\n",
    "\n",
    "\n",
    "ax2.scatter(1e3*y_test_1,1e3*y_pred_test_1,color=test_colors[0],edgecolors='k', label='Root 1\\nR$^{2}$='+f'{r2_score(y_test_1, y_pred_test_1):.4f}\\nMAE={1e3 * mean_absolute_error(y_test_1, y_pred_test_1):.4f}'+\" mE$_{h}$\")\n",
    "ax2.scatter(1e3*y_test_2,1e3*y_pred_test_2,color=test_colors[1],edgecolors='k', label='Root 2\\nR$^{2}$='+f'{r2_score(y_test_2, y_pred_test_2):.4f}\\nMAE={1e3 * mean_absolute_error(y_test_2, y_pred_test_2):.4f}'+\" mE$_{h}$\")\n",
    "ax2.scatter(1e3*y_test_3,1e3*y_pred_test_3,color=test_colors[2],edgecolors='k', label='Root 3\\nR$^{2}$='+f'{r2_score(y_test_3, y_pred_test_3):.4f}\\nMAE={1e3 * mean_absolute_error(y_test_3, y_pred_test_3):.4f}'+\" mE$_{h}$\")\n",
    "ax2.plot(np.arange(-100,100),np.arange(-100,100),'k')\n",
    "ax2.set_xlabel('Calculated CASPT2 Pair-Energies (mE$_{h}$)')\n",
    "ax2.set_ylabel('Predicted CASPT2 Pair-Energies (mE$_{h}$)')\n",
    "ax2.set_title('Test')\n",
    "ax2.set_xlim(-35,35)\n",
    "ax2.set_ylim(-35,35)\n",
    "ax2.legend(loc=4)\n",
    "\n",
    "\n",
    "\n",
    "sns.scatterplot(dfstacked.query(\"Set == 'Train'\"),x='E$_{2}^{\\text{Calculated}}$',y='E$_{2}^{\\text{Predicted}}$',hue='state',palette=train_colors,edgecolors='k',ax=ax3)\n",
    "ax3.set_xlabel('Calculated CASPT2 Correlation Energy (E$_{h}$)')\n",
    "ax3.set_ylabel('Predicted CASPT2 Correlation Energy (E$_{h}$)')\n",
    "# ax3.set_title('Train')\n",
    "ax3.plot(np.arange(-5,5),np.arange(-5,5),'k')\n",
    "handles, labels = ax3.get_legend_handles_labels()\n",
    "ax3.legend(handles=handles, labels=[traincorrlabel1, traincorrlabel2, traincorrlabel3], loc=4)\n",
    "\n",
    "sns.scatterplot(dfstacked.query(\"Set == 'Train'\"),x='E$_{2}^{\\text{Calculated}}$',y='E$_{2}^{\\text{Predicted}}$',hue='state',palette=test_colors,edgecolors='k',ax=ax4)\n",
    "ax4.plot(np.arange(-5,5),np.arange(-5,5),'k')\n",
    "ax4.set_xlabel('Calculated CASPT2 Correlation Energy (E$_{h}$)')\n",
    "ax4.set_ylabel('Predicted CASPT2 Correlation Energy (E$_{h}$)')\n",
    "# ax4.set_title('Test')    \n",
    "ax4.legend(loc=4)\n",
    "handles, labels = ax4.get_legend_handles_labels()\n",
    "\n",
    "ax4.legend(handles=handles,loc=4,labels=[testcorrlabel1, testcorrlabel2, testcorrlabel3])\n",
    "\n",
    "bottom, top = -0.65,-0.5\n",
    "ax3.set_xlim(bottom, top)\n",
    "ax3.set_ylim(bottom, top)\n",
    "ax4.set_xlim(bottom, top)\n",
    "ax4.set_ylim(bottom, top)\n",
    "ax3.set_xticks(np.linspace(bottom,top,4),[f\"{i:.4f}\" for i in np.linspace(bottom,top,4)])\n",
    "ax3.set_yticks(np.linspace(bottom,top,4),[f\"{i:.4f}\" for i in np.linspace(bottom,top,4)])    \n",
    "# ax4.set_xlim(bottom,top)\n",
    "ax4.set_xticks(np.linspace(bottom,top,4),[f\"{i:.4f}\" for i in np.linspace(bottom,top,4)])    \n",
    "# ax4.set_ylim(bottom,top)\n",
    "ax4.set_yticks(np.linspace(bottom,top,4),[f\"{i:.4f}\" for i in np.linspace(bottom,top,4)])    \n",
    "\n",
    "\n",
    "sns.scatterplot(dfstacked.query(\"Set == 'Train'\"),x='Angle ($^{\\circ}$)',y='E$_{\\text{CASPT2}}^{\\text{Predicted}}$',hue='state',palette=train_colors,edgecolors='k',ax=ax5)\n",
    "sns.lineplot(dfstacked.query(\"Set == 'Train'\"),x='Angle ($^{\\circ}$)',y='E$_{\\text{CASPT2}}^{\\text{Calculated}}$',hue='state',palette=train_colors,ax=ax5)\n",
    "sns.lineplot(dfstacked.query(\"Set == 'Train'\"),x='Angle ($^{\\circ}$)',y='E$_{\\text{CASSCF}}^{\\text{Calculated}}$',hue='state',palette=train_colors,ax=ax5,linestyle='--')\n",
    "\n",
    "ax5.set_xlabel('Angle ($^{\\circ}$)')\n",
    "ax5.set_ylabel('CASPT2 Energy (E$_{h}$)')\n",
    "ax5.set_title('Train')\n",
    "handles3, labels3 = ax5.get_legend_handles_labels()\n",
    "# labels3 = [f\"Predicted MS-CASPT2 (root {i})\" for i in labels3[:3]]+[f\"Calculated MS-CASPT2 (root {i})\" for i in labels3[3:6]]+[f\"SA-CASSCF (root {i})\" for i in labels3[6:]]\n",
    "labels3 = [f\"Predicted MS-CASPT2 (root {i})\" for i in labels3[:3]]+[f\"SA-CASSCF (root {i})\" for i in labels3[6:]]\n",
    "handles3 = handles3[:3] + handles3[6:]\n",
    "ax5.legend(handles=handles3, labels=labels3)\n",
    "\n",
    "sns.scatterplot(dfstacked.query(\"Set == 'Test'\"),x='Angle ($^{\\circ}$)',y='E$_{\\text{CASPT2}}^{\\text{Predicted}}$',hue='state',palette=test_colors,edgecolors='k',ax=ax6)\n",
    "sns.lineplot(dfstacked.query(\"Set == 'Test'\"),x='Angle ($^{\\circ}$)',y='E$_{\\text{CASPT2}}^{\\text{Calculated}}$',hue='state',palette=test_colors,ax=ax6)\n",
    "sns.lineplot(dfstacked.query(\"Set == 'Test'\"),x='Angle ($^{\\circ}$)',y='E$_{\\text{CASSCF}}^{\\text{Calculated}}$',hue='state',palette=test_colors,ax=ax6,linestyle='--')\n",
    "ax6.set_xlabel('Angle ($^{\\circ}$)')\n",
    "ax6.set_ylabel('CASPT2 Energy (E$_{h}$)')\n",
    "ax6.set_title('Test') \n",
    "\n",
    "handles4, labels4 = ax6.get_legend_handles_labels()\n",
    "# labels3 = [f\"Predicted MS-CASPT2 (root {i})\" for i in labels3[:3]]+[f\"Calculated MS-CASPT2 (root {i})\" for i in labels3[3:6]]+[f\"SA-CASSCF (root {i})\" for i in labels3[6:]]\n",
    "labels4 = [f\"Predicted MS-CASPT2 (root {i})\" for i in labels4[:3]]+[f\"SA-CASSCF (root {i})\" for i in labels4[6:]]\n",
    "handles4 = handles4[:3] + handles4[6:]\n",
    "\n",
    "ax6.legend(handles=handles4, labels=labels4)\n",
    "\n",
    "minpt2, maxpt2= pd.concat([pred_train,true_train,pred_test,true_test]).min(), pd.concat([pred_train,true_train,pred_test,true_test]).max()\n",
    "print(minpt2, maxpt2)\n",
    "pct=0.004\n",
    "bufferbot, buffertop = minpt2*pct, maxpt2*pct\n",
    "\n",
    "\n",
    "\n",
    "#mb\n",
    "# bottom, top = -224.5, -224.1984 \n",
    "#maxpt2-(buffertop) \n",
    "\n",
    "# vdzp: -224.40\n",
    "# bottom, top = -225.2, -224.4\n",
    "\n",
    "# vtzp\n",
    "bottom, top = -225.4, -224.4\n",
    "print(bottom, top)\n",
    "ax5.set_ylim(bottom,top)\n",
    "ax5.set_xlim(100,190)\n",
    "ax5.set_yticks(np.linspace(bottom,top,4),[f\"{i:.4f}\" for i in np.linspace(bottom,top,4)]) \n",
    "ax5.set_xticks(np.linspace(100,190,4),[f\"{i:.0f}\" for i in np.linspace(100,190,4)]) \n",
    "ax6.set_ylim(bottom,top)\n",
    "ax6.set_xlim(100,190)\n",
    "ax6.set_yticks(np.linspace(bottom,top,4),[f\"{i:.4f}\" for i in np.linspace(bottom,top,4)]) \n",
    "ax6.set_xticks(np.linspace(100,190,4),[f\"{i:.0f}\" for i in np.linspace(100,190,4)]) \n",
    "\n",
    "\n",
    "fig.suptitle(\"O$_{3}$ MS-CASPT2/ANO-RCC-VTZP\")\n",
    "\n",
    "plt.subplots_adjust(wspace=0.05)\n",
    "plt.tight_layout()\n",
    "plt.savefig(f'images/ALL_MSCASPTCombinedozone.png',dpi=300,bbox_inches='tight')\n",
    "plt.show()    "
   ]
  },
  {
   "cell_type": "code",
   "execution_count": null,
   "id": "3a2163a8-7a07-4ed3-acdf-17e3f53ee8c1",
   "metadata": {},
   "outputs": [],
   "source": []
  },
  {
   "cell_type": "code",
   "execution_count": null,
   "id": "15757b10-a7d0-4f32-8ca3-75be699b266b",
   "metadata": {},
   "outputs": [],
   "source": []
  }
 ],
 "metadata": {
  "kernelspec": {
   "display_name": "Python 3 (ipykernel)",
   "language": "python",
   "name": "python3"
  },
  "language_info": {
   "codemirror_mode": {
    "name": "ipython",
    "version": 3
   },
   "file_extension": ".py",
   "mimetype": "text/x-python",
   "name": "python",
   "nbconvert_exporter": "python",
   "pygments_lexer": "ipython3",
   "version": "3.10.4"
  }
 },
 "nbformat": 4,
 "nbformat_minor": 5
}
