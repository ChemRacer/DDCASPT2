{
 "cells": [
  {
   "cell_type": "code",
   "execution_count": 1,
   "id": "64186e21-f624-4588-8211-add44b1840a4",
   "metadata": {},
   "outputs": [],
   "source": [
    "from DDCASPT2 import DDCASPT2\n",
    "import pickle, os, shutil\n",
    "from glob import glob\n",
    "import numpy as np\n",
    "from joblib import Parallel, delayed\n",
    "import pandas as pd\n",
    "from math import sin, cos, pi\n",
    "from tqdm.notebook import tqdm"
   ]
  },
  {
   "cell_type": "code",
   "execution_count": 2,
   "id": "de6e2767-eafb-4dd0-8c89-9f0df23906bf",
   "metadata": {},
   "outputs": [
    {
     "name": "stdout",
     "output_type": "stream",
     "text": [
      "152 152\n",
      "152 152\n"
     ]
    }
   ],
   "source": [
    "# radius_range=np.arange(106,182,0.5)\n",
    "radius_range=np.arange(106,182,0.25)\n",
    "\n",
    "\n",
    "train_ind,test_ind=radius_range[0::2],radius_range[1::2]\n",
    "# train_test_split(radius_range, test_size=0.3, random_state=0)\n",
    "print(len(train_ind),len(test_ind))\n",
    "with open('big_train_ind.pickle', 'wb') as handle:\n",
    "    pickle.dump(train_ind, handle, protocol=pickle.HIGHEST_PROTOCOL)\n",
    "\n",
    "with open('big_test_ind.pickle', 'wb') as handle:\n",
    "    pickle.dump(test_ind, handle, protocol=pickle.HIGHEST_PROTOCOL)\n",
    "\n",
    "# with open('test_ind.pickle', 'rb') as handle:\n",
    "#     test_ind = pickle.load(handle)\n",
    "\n",
    "# with open('train_ind.pickle', 'rb') as handle:\n",
    "#     train_ind = pickle.load(handle)\n",
    "    \n",
    "print(len(train_ind),len(test_ind))    "
   ]
  },
  {
   "cell_type": "code",
   "execution_count": 3,
   "id": "beb7a178-1e8a-4df6-911c-86e80ebbb148",
   "metadata": {
    "scrolled": true
   },
   "outputs": [
    {
     "name": "stdout",
     "output_type": "stream",
     "text": [
      "/home/grierjones/DDCASPT2/ozone\n"
     ]
    }
   ],
   "source": [
    "# for i in chains:\n",
    "topdir = os.getcwd()\n",
    "\n",
    "print(topdir)"
   ]
  },
  {
   "cell_type": "code",
   "execution_count": 4,
   "id": "39d86cfa-6946-4d34-84c7-cff9ac4461b9",
   "metadata": {},
   "outputs": [],
   "source": [
    "def run(dirname,basis_set):\n",
    "    if os.path.exists(basis_set)==False:\n",
    "        os.mkdir(basis_set)\n",
    "        \n",
    "    # os.chdir(os.path.join(topdir,dirname))    \n",
    "    for idxr, r in tqdm(enumerate(radius_range)):\n",
    "        \n",
    "        # Loop radius\n",
    "        name=f\"{dirname}_{r:.2f}\"\n",
    "        \n",
    "        # Create files\n",
    "        subdirpath = os.path.join(topdir,basis_set,f'{name}')\n",
    "        if os.path.exists(subdirpath)==False:\n",
    "            os.mkdir(subdirpath)\n",
    "        print(subdirpath)\n",
    "        if os.path.exists(os.path.join(subdirpath,f'{name}.csv'))==False:\n",
    "            shutil.rmtree(os.path.join('tmp'),name)\n",
    "            \n",
    "            # Write xyz\n",
    "            with open(os.path.join(subdirpath,f'{name}.xyz'),'w') as f:\n",
    "                f.write(f'{3}\\n\\n')\n",
    "                \n",
    "                radius=1.278\n",
    "                f.write(f\"\"\"O {radius*cos(((float(r)/2)*(pi/180))):>8f} {radius*sin((float(r)/2)*(pi/180)):>8f} {0.0000:>8f}\n",
    "O {0:>8f} {0:>8f} {0:>8f}\n",
    "O {radius*cos(-(float(r)/2)*(pi/180)):>8f} {radius*sin(-(float(r)/2)*(pi/180)):>8f} {0:>8f}\n",
    "\"\"\")\n",
    "\n",
    "            \n",
    "            if idxr==0:\n",
    "                d = DDCASPT2(subdirpath,basis_set,name,4,3,10,previous=None)()\n",
    "            else:            \n",
    "                previous=os.path.join(topdir,basis_set,f'{dirname}_{radius_range[idxr-1]:.2f}',f\"{dirname}_{radius_range[idxr-1]:.2f}.RasOrb\")\n",
    "                print(previous)\n",
    "                d = DDCASPT2(subdirpath,basis_set,name,4,3,10,previous=previous)()\n",
    "    \n",
    "    for idxr, r in enumerate(radius_range):\n",
    "        # Loop radius\n",
    "        name=f\"{dirname}_{r:.2f}\"\n",
    "        \n",
    "        subdirpath = os.path.join(topdir,basis_set,f'{name}')\n",
    "        \n",
    "        \n",
    "        for j in glob(os.path.join(subdirpath,\"*GMJ*.csv\"))+glob(os.path.join(subdirpath,\"*Orb*\"))+glob(os.path.join(subdirpath,\"*h5\"))+glob(os.path.join(subdirpath,\"xmldump\")):\n",
    "            os.remove(j)        \n",
    "    "
   ]
  },
  {
   "cell_type": "code",
   "execution_count": 5,
   "id": "4248e2e8-dba1-463b-990d-c9c93b6ef4fb",
   "metadata": {
    "scrolled": true
   },
   "outputs": [
    {
     "data": {
      "application/vnd.jupyter.widget-view+json": {
       "model_id": "9cf745ca07f2435cae1b30d7e400111a",
       "version_major": 2,
       "version_minor": 0
      },
      "text/plain": [
       "0it [00:00, ?it/s]"
      ]
     },
     "metadata": {},
     "output_type": "display_data"
    },
    {
     "name": "stdout",
     "output_type": "stream",
     "text": [
      "/home/grierjones/DDCASPT2/ozone/ANO-RCC-VDZP/ozone_106.00\n",
      "Running on None cores\n",
      "Found a valid MOLCAS installation at /home/grierjones/Test/build\n",
      "MOLCAS_WORKDIR is set to /tmp\n"
     ]
    },
    {
     "ename": "ProcessExecutionError",
     "evalue": "Unexpected exit code: 1\nCommand line: | /usr/bin/grep -i 'E2 (Variational):' /home/grierjones/DDCASPT2/ozone/ANO-RCC-VDZP/ozone_106.00/ozone_106.00.output",
     "output_type": "error",
     "traceback": [
      "\u001b[0;31m---------------------------------------------------------------------------\u001b[0m",
      "\u001b[0;31mProcessExecutionError\u001b[0m                     Traceback (most recent call last)",
      "Cell \u001b[0;32mIn[5], line 1\u001b[0m\n\u001b[0;32m----> 1\u001b[0m \u001b[43mrun\u001b[49m\u001b[43m(\u001b[49m\u001b[38;5;124;43m'\u001b[39;49m\u001b[38;5;124;43mozone\u001b[39;49m\u001b[38;5;124;43m'\u001b[39;49m\u001b[43m,\u001b[49m\u001b[38;5;124;43m'\u001b[39;49m\u001b[38;5;124;43mANO-RCC-VDZP\u001b[39;49m\u001b[38;5;124;43m'\u001b[39;49m\u001b[43m)\u001b[49m\n",
      "Cell \u001b[0;32mIn[4], line 31\u001b[0m, in \u001b[0;36mrun\u001b[0;34m(dirname, basis_set)\u001b[0m\n\u001b[1;32m     24\u001b[0m                 f\u001b[38;5;241m.\u001b[39mwrite(\u001b[38;5;124mf\u001b[39m\u001b[38;5;124m\"\"\"\u001b[39m\u001b[38;5;124mO \u001b[39m\u001b[38;5;132;01m{\u001b[39;00mradius\u001b[38;5;241m*\u001b[39mcos(((\u001b[38;5;28mfloat\u001b[39m(r)\u001b[38;5;241m/\u001b[39m\u001b[38;5;241m2\u001b[39m)\u001b[38;5;241m*\u001b[39m(pi\u001b[38;5;241m/\u001b[39m\u001b[38;5;241m180\u001b[39m)))\u001b[38;5;132;01m:\u001b[39;00m\u001b[38;5;124m>8f\u001b[39m\u001b[38;5;132;01m}\u001b[39;00m\u001b[38;5;124m \u001b[39m\u001b[38;5;132;01m{\u001b[39;00mradius\u001b[38;5;241m*\u001b[39msin((\u001b[38;5;28mfloat\u001b[39m(r)\u001b[38;5;241m/\u001b[39m\u001b[38;5;241m2\u001b[39m)\u001b[38;5;241m*\u001b[39m(pi\u001b[38;5;241m/\u001b[39m\u001b[38;5;241m180\u001b[39m))\u001b[38;5;132;01m:\u001b[39;00m\u001b[38;5;124m>8f\u001b[39m\u001b[38;5;132;01m}\u001b[39;00m\u001b[38;5;124m \u001b[39m\u001b[38;5;132;01m{\u001b[39;00m\u001b[38;5;241m0.0000\u001b[39m\u001b[38;5;132;01m:\u001b[39;00m\u001b[38;5;124m>8f\u001b[39m\u001b[38;5;132;01m}\u001b[39;00m\n\u001b[1;32m     25\u001b[0m \u001b[38;5;124mO \u001b[39m\u001b[38;5;132;01m{\u001b[39;00m\u001b[38;5;241m0\u001b[39m\u001b[38;5;132;01m:\u001b[39;00m\u001b[38;5;124m>8f\u001b[39m\u001b[38;5;132;01m}\u001b[39;00m\u001b[38;5;124m \u001b[39m\u001b[38;5;132;01m{\u001b[39;00m\u001b[38;5;241m0\u001b[39m\u001b[38;5;132;01m:\u001b[39;00m\u001b[38;5;124m>8f\u001b[39m\u001b[38;5;132;01m}\u001b[39;00m\u001b[38;5;124m \u001b[39m\u001b[38;5;132;01m{\u001b[39;00m\u001b[38;5;241m0\u001b[39m\u001b[38;5;132;01m:\u001b[39;00m\u001b[38;5;124m>8f\u001b[39m\u001b[38;5;132;01m}\u001b[39;00m\n\u001b[1;32m     26\u001b[0m \u001b[38;5;124mO \u001b[39m\u001b[38;5;132;01m{\u001b[39;00mradius\u001b[38;5;241m*\u001b[39mcos(\u001b[38;5;241m-\u001b[39m(\u001b[38;5;28mfloat\u001b[39m(r)\u001b[38;5;241m/\u001b[39m\u001b[38;5;241m2\u001b[39m)\u001b[38;5;241m*\u001b[39m(pi\u001b[38;5;241m/\u001b[39m\u001b[38;5;241m180\u001b[39m))\u001b[38;5;132;01m:\u001b[39;00m\u001b[38;5;124m>8f\u001b[39m\u001b[38;5;132;01m}\u001b[39;00m\u001b[38;5;124m \u001b[39m\u001b[38;5;132;01m{\u001b[39;00mradius\u001b[38;5;241m*\u001b[39msin(\u001b[38;5;241m-\u001b[39m(\u001b[38;5;28mfloat\u001b[39m(r)\u001b[38;5;241m/\u001b[39m\u001b[38;5;241m2\u001b[39m)\u001b[38;5;241m*\u001b[39m(pi\u001b[38;5;241m/\u001b[39m\u001b[38;5;241m180\u001b[39m))\u001b[38;5;132;01m:\u001b[39;00m\u001b[38;5;124m>8f\u001b[39m\u001b[38;5;132;01m}\u001b[39;00m\u001b[38;5;124m \u001b[39m\u001b[38;5;132;01m{\u001b[39;00m\u001b[38;5;241m0\u001b[39m\u001b[38;5;132;01m:\u001b[39;00m\u001b[38;5;124m>8f\u001b[39m\u001b[38;5;132;01m}\u001b[39;00m\n\u001b[1;32m     27\u001b[0m \u001b[38;5;124m\"\"\"\u001b[39m)\n\u001b[1;32m     30\u001b[0m             \u001b[38;5;28;01mif\u001b[39;00m idxr\u001b[38;5;241m==\u001b[39m\u001b[38;5;241m0\u001b[39m:\n\u001b[0;32m---> 31\u001b[0m                 d \u001b[38;5;241m=\u001b[39m \u001b[43mDDCASPT2\u001b[49m\u001b[43m(\u001b[49m\u001b[43msubdirpath\u001b[49m\u001b[43m,\u001b[49m\u001b[43mbasis_set\u001b[49m\u001b[43m,\u001b[49m\u001b[43mname\u001b[49m\u001b[43m,\u001b[49m\u001b[38;5;241;43m4\u001b[39;49m\u001b[43m,\u001b[49m\u001b[38;5;241;43m3\u001b[39;49m\u001b[43m,\u001b[49m\u001b[38;5;241;43m10\u001b[39;49m\u001b[43m,\u001b[49m\u001b[43mprevious\u001b[49m\u001b[38;5;241;43m=\u001b[39;49m\u001b[38;5;28;43;01mNone\u001b[39;49;00m\u001b[43m)\u001b[49m\u001b[43m(\u001b[49m\u001b[43m)\u001b[49m\n\u001b[1;32m     32\u001b[0m             \u001b[38;5;28;01melse\u001b[39;00m:            \n\u001b[1;32m     33\u001b[0m                 previous\u001b[38;5;241m=\u001b[39mos\u001b[38;5;241m.\u001b[39mpath\u001b[38;5;241m.\u001b[39mjoin(topdir,basis_set,\u001b[38;5;124mf\u001b[39m\u001b[38;5;124m'\u001b[39m\u001b[38;5;132;01m{\u001b[39;00mdirname\u001b[38;5;132;01m}\u001b[39;00m\u001b[38;5;124m_\u001b[39m\u001b[38;5;132;01m{\u001b[39;00mradius_range[idxr\u001b[38;5;241m-\u001b[39m\u001b[38;5;241m1\u001b[39m]\u001b[38;5;132;01m:\u001b[39;00m\u001b[38;5;124m.2f\u001b[39m\u001b[38;5;132;01m}\u001b[39;00m\u001b[38;5;124m'\u001b[39m,\u001b[38;5;124mf\u001b[39m\u001b[38;5;124m\"\u001b[39m\u001b[38;5;132;01m{\u001b[39;00mdirname\u001b[38;5;132;01m}\u001b[39;00m\u001b[38;5;124m_\u001b[39m\u001b[38;5;132;01m{\u001b[39;00mradius_range[idxr\u001b[38;5;241m-\u001b[39m\u001b[38;5;241m1\u001b[39m]\u001b[38;5;132;01m:\u001b[39;00m\u001b[38;5;124m.2f\u001b[39m\u001b[38;5;132;01m}\u001b[39;00m\u001b[38;5;124m.RasOrb\u001b[39m\u001b[38;5;124m\"\u001b[39m)\n",
      "File \u001b[0;32m~/DDCASPT2/ozone/DDCASPT2.py:767\u001b[0m, in \u001b[0;36mDDCASPT2.__call__\u001b[0;34m(self, run)\u001b[0m\n\u001b[1;32m    765\u001b[0m \u001b[38;5;28;01mif\u001b[39;00m run\u001b[38;5;241m==\u001b[39m\u001b[38;5;28;01mTrue\u001b[39;00m:\n\u001b[1;32m    766\u001b[0m     call([\u001b[38;5;124m'\u001b[39m\u001b[38;5;124mpymolcas\u001b[39m\u001b[38;5;124m'\u001b[39m,\u001b[38;5;124m'\u001b[39m\u001b[38;5;124m-new\u001b[39m\u001b[38;5;124m'\u001b[39m,\u001b[38;5;124m'\u001b[39m\u001b[38;5;124m-clean\u001b[39m\u001b[38;5;124m'\u001b[39m,os\u001b[38;5;241m.\u001b[39mpath\u001b[38;5;241m.\u001b[39mjoin(\u001b[38;5;28mself\u001b[39m\u001b[38;5;241m.\u001b[39mpath,\u001b[38;5;124mf\u001b[39m\u001b[38;5;124m'\u001b[39m\u001b[38;5;132;01m{\u001b[39;00m\u001b[38;5;28mself\u001b[39m\u001b[38;5;241m.\u001b[39mname\u001b[38;5;132;01m}\u001b[39;00m\u001b[38;5;124m.input\u001b[39m\u001b[38;5;124m'\u001b[39m), \u001b[38;5;124m'\u001b[39m\u001b[38;5;124m-oe\u001b[39m\u001b[38;5;124m'\u001b[39m, os\u001b[38;5;241m.\u001b[39mpath\u001b[38;5;241m.\u001b[39mjoin(\u001b[38;5;28mself\u001b[39m\u001b[38;5;241m.\u001b[39mpath,\u001b[38;5;124mf\u001b[39m\u001b[38;5;124m'\u001b[39m\u001b[38;5;132;01m{\u001b[39;00m\u001b[38;5;28mself\u001b[39m\u001b[38;5;241m.\u001b[39mname\u001b[38;5;132;01m}\u001b[39;00m\u001b[38;5;124m.output\u001b[39m\u001b[38;5;124m'\u001b[39m)])\n\u001b[0;32m--> 767\u001b[0m \u001b[38;5;28;43mself\u001b[39;49m\u001b[38;5;241;43m.\u001b[39;49m\u001b[43mwrite_energies\u001b[49m\u001b[43m(\u001b[49m\u001b[43m)\u001b[49m\n\u001b[1;32m    769\u001b[0m \u001b[38;5;28mself\u001b[39m\u001b[38;5;241m.\u001b[39mgen_feats()\n\u001b[1;32m    771\u001b[0m \u001b[38;5;28;01mif\u001b[39;00m \u001b[38;5;28mself\u001b[39m\u001b[38;5;241m.\u001b[39mclean:\n",
      "File \u001b[0;32m~/DDCASPT2/ozone/DDCASPT2.py:290\u001b[0m, in \u001b[0;36mDDCASPT2.write_energies\u001b[0;34m(self)\u001b[0m\n\u001b[1;32m    286\u001b[0m \u001b[38;5;28;01mdef\u001b[39;00m \u001b[38;5;21mwrite_energies\u001b[39m(\u001b[38;5;28mself\u001b[39m):\n\u001b[1;32m    287\u001b[0m     \u001b[38;5;66;03m# Grab energies\u001b[39;00m\n\u001b[1;32m    288\u001b[0m     \u001b[38;5;28mself\u001b[39m\u001b[38;5;241m.\u001b[39mpath_check \u001b[38;5;241m=\u001b[39m os\u001b[38;5;241m.\u001b[39mpath\u001b[38;5;241m.\u001b[39mjoin(\u001b[38;5;28mself\u001b[39m\u001b[38;5;241m.\u001b[39mpath,\u001b[38;5;124mf\u001b[39m\u001b[38;5;124m'\u001b[39m\u001b[38;5;132;01m{\u001b[39;00m\u001b[38;5;28mself\u001b[39m\u001b[38;5;241m.\u001b[39mname\u001b[38;5;132;01m}\u001b[39;00m\u001b[38;5;124m.output\u001b[39m\u001b[38;5;124m'\u001b[39m)\n\u001b[0;32m--> 290\u001b[0m     \u001b[38;5;28mself\u001b[39m\u001b[38;5;241m.\u001b[39mE2 \u001b[38;5;241m=\u001b[39m \u001b[38;5;28mfloat\u001b[39m(\u001b[43m(\u001b[49m\u001b[43mgrep\u001b[49m\u001b[43m[\u001b[49m\u001b[38;5;124;43m'\u001b[39;49m\u001b[38;5;124;43m-i\u001b[39;49m\u001b[38;5;124;43m'\u001b[39;49m\u001b[43m,\u001b[49m\u001b[43m \u001b[49m\u001b[38;5;124;43m'\u001b[39;49m\u001b[38;5;124;43mE2 (Variational):\u001b[39;49m\u001b[38;5;124;43m'\u001b[39;49m\u001b[43m,\u001b[49m\u001b[38;5;28;43mself\u001b[39;49m\u001b[38;5;241;43m.\u001b[39;49m\u001b[43mpath_check\u001b[49m\u001b[43m]\u001b[49m\u001b[43m \u001b[49m\u001b[38;5;241;43m|\u001b[39;49m\u001b[43m \u001b[49m\u001b[43mawk\u001b[49m\u001b[43m[\u001b[49m\u001b[38;5;124;43m'\u001b[39;49m\u001b[38;5;124;43m{\u001b[39;49m\u001b[38;5;124;43mprint $NF }\u001b[39;49m\u001b[38;5;124;43m'\u001b[39;49m\u001b[43m]\u001b[49m\u001b[43m)\u001b[49m\u001b[43m(\u001b[49m\u001b[43m)\u001b[49m)\n\u001b[1;32m    291\u001b[0m     \u001b[38;5;28mself\u001b[39m\u001b[38;5;241m.\u001b[39mCASSCF_E \u001b[38;5;241m=\u001b[39m \u001b[38;5;28mfloat\u001b[39m((grep[\u001b[38;5;124m'\u001b[39m\u001b[38;5;124m-i\u001b[39m\u001b[38;5;124m'\u001b[39m, \u001b[38;5;124m'\u001b[39m\u001b[38;5;124m::    RASSCF root number  1\u001b[39m\u001b[38;5;124m'\u001b[39m,\u001b[38;5;28mself\u001b[39m\u001b[38;5;241m.\u001b[39mpath_check] \u001b[38;5;241m|\u001b[39m awk[\u001b[38;5;124m'\u001b[39m\u001b[38;5;124m{\u001b[39m\u001b[38;5;124mprint $8 }\u001b[39m\u001b[38;5;124m'\u001b[39m])())\n\u001b[1;32m    292\u001b[0m     \u001b[38;5;28mself\u001b[39m\u001b[38;5;241m.\u001b[39mCASPT2_E \u001b[38;5;241m=\u001b[39m \u001b[38;5;28mfloat\u001b[39m((grep[\u001b[38;5;124m'\u001b[39m\u001b[38;5;124m-i\u001b[39m\u001b[38;5;124m'\u001b[39m, \u001b[38;5;124m'\u001b[39m\u001b[38;5;124m::    CASPT2\u001b[39m\u001b[38;5;124m'\u001b[39m,\u001b[38;5;28mself\u001b[39m\u001b[38;5;241m.\u001b[39mpath_check] \u001b[38;5;241m|\u001b[39m awk[\u001b[38;5;124m'\u001b[39m\u001b[38;5;124m{\u001b[39m\u001b[38;5;124mprint $NF }\u001b[39m\u001b[38;5;124m'\u001b[39m])())   \n",
      "File \u001b[0;32m~/miniconda3/envs/DDGNN/lib/python3.10/site-packages/plumbum/commands/base.py:115\u001b[0m, in \u001b[0;36mBaseCommand.__call__\u001b[0;34m(self, *args, **kwargs)\u001b[0m\n\u001b[1;32m    113\u001b[0m \u001b[38;5;28;01mdef\u001b[39;00m \u001b[38;5;21m__call__\u001b[39m(\u001b[38;5;28mself\u001b[39m, \u001b[38;5;241m*\u001b[39margs, \u001b[38;5;241m*\u001b[39m\u001b[38;5;241m*\u001b[39mkwargs):\n\u001b[1;32m    114\u001b[0m \u001b[38;5;250m    \u001b[39m\u001b[38;5;124;03m\"\"\"A shortcut for `run(args)`, returning only the process' stdout\"\"\"\u001b[39;00m\n\u001b[0;32m--> 115\u001b[0m     \u001b[38;5;28;01mreturn\u001b[39;00m \u001b[38;5;28;43mself\u001b[39;49m\u001b[38;5;241;43m.\u001b[39;49m\u001b[43mrun\u001b[49m\u001b[43m(\u001b[49m\u001b[43margs\u001b[49m\u001b[43m,\u001b[49m\u001b[43m \u001b[49m\u001b[38;5;241;43m*\u001b[39;49m\u001b[38;5;241;43m*\u001b[39;49m\u001b[43mkwargs\u001b[49m\u001b[43m)\u001b[49m[\u001b[38;5;241m1\u001b[39m]\n",
      "File \u001b[0;32m~/miniconda3/envs/DDGNN/lib/python3.10/site-packages/plumbum/commands/base.py:254\u001b[0m, in \u001b[0;36mBaseCommand.run\u001b[0;34m(self, args, **kwargs)\u001b[0m\n\u001b[1;32m    229\u001b[0m \u001b[38;5;250m\u001b[39m\u001b[38;5;124;03m\"\"\"Runs the given command (equivalent to popen() followed by\u001b[39;00m\n\u001b[1;32m    230\u001b[0m \u001b[38;5;124;03m:func:`run_proc <plumbum.commands.run_proc>`). If the exit code of the process does\u001b[39;00m\n\u001b[1;32m    231\u001b[0m \u001b[38;5;124;03mnot match the expected one, :class:`ProcessExecutionError\u001b[39;00m\n\u001b[0;32m   (...)\u001b[0m\n\u001b[1;32m    251\u001b[0m \u001b[38;5;124;03m:returns: A tuple of (return code, stdout, stderr)\u001b[39;00m\n\u001b[1;32m    252\u001b[0m \u001b[38;5;124;03m\"\"\"\u001b[39;00m\n\u001b[1;32m    253\u001b[0m \u001b[38;5;28;01mwith\u001b[39;00m \u001b[38;5;28mself\u001b[39m\u001b[38;5;241m.\u001b[39mbgrun(args, \u001b[38;5;241m*\u001b[39m\u001b[38;5;241m*\u001b[39mkwargs) \u001b[38;5;28;01mas\u001b[39;00m p:\n\u001b[0;32m--> 254\u001b[0m     \u001b[38;5;28;01mreturn\u001b[39;00m \u001b[43mp\u001b[49m\u001b[38;5;241;43m.\u001b[39;49m\u001b[43mrun\u001b[49m\u001b[43m(\u001b[49m\u001b[43m)\u001b[49m\n",
      "File \u001b[0;32m~/miniconda3/envs/DDGNN/lib/python3.10/site-packages/plumbum/commands/base.py:217\u001b[0m, in \u001b[0;36mBaseCommand.bgrun.<locals>.runner\u001b[0;34m()\u001b[0m\n\u001b[1;32m    215\u001b[0m was_run[\u001b[38;5;241m0\u001b[39m] \u001b[38;5;241m=\u001b[39m \u001b[38;5;28;01mTrue\u001b[39;00m\n\u001b[1;32m    216\u001b[0m \u001b[38;5;28;01mtry\u001b[39;00m:\n\u001b[0;32m--> 217\u001b[0m     \u001b[38;5;28;01mreturn\u001b[39;00m \u001b[43mrun_proc\u001b[49m\u001b[43m(\u001b[49m\u001b[43mp\u001b[49m\u001b[43m,\u001b[49m\u001b[43m \u001b[49m\u001b[43mretcode\u001b[49m\u001b[43m,\u001b[49m\u001b[43m \u001b[49m\u001b[43mtimeout\u001b[49m\u001b[43m)\u001b[49m\n\u001b[1;32m    218\u001b[0m \u001b[38;5;28;01mfinally\u001b[39;00m:\n\u001b[1;32m    219\u001b[0m     \u001b[38;5;28;01mdel\u001b[39;00m p\u001b[38;5;241m.\u001b[39mrun  \u001b[38;5;66;03m# to break cyclic reference p -> cell -> p\u001b[39;00m\n",
      "File \u001b[0;32m~/miniconda3/envs/DDGNN/lib/python3.10/site-packages/plumbum/commands/processes.py:330\u001b[0m, in \u001b[0;36mrun_proc\u001b[0;34m(proc, retcode, timeout)\u001b[0m\n\u001b[1;32m    327\u001b[0m     stdout \u001b[38;5;241m=\u001b[39m stdout\u001b[38;5;241m.\u001b[39mdecode(proc\u001b[38;5;241m.\u001b[39mcustom_encoding, \u001b[38;5;124m\"\u001b[39m\u001b[38;5;124mignore\u001b[39m\u001b[38;5;124m\"\u001b[39m)\n\u001b[1;32m    328\u001b[0m     stderr \u001b[38;5;241m=\u001b[39m stderr\u001b[38;5;241m.\u001b[39mdecode(proc\u001b[38;5;241m.\u001b[39mcustom_encoding, \u001b[38;5;124m\"\u001b[39m\u001b[38;5;124mignore\u001b[39m\u001b[38;5;124m\"\u001b[39m)\n\u001b[0;32m--> 330\u001b[0m \u001b[38;5;28;01mreturn\u001b[39;00m \u001b[43m_check_process\u001b[49m\u001b[43m(\u001b[49m\u001b[43mproc\u001b[49m\u001b[43m,\u001b[49m\u001b[43m \u001b[49m\u001b[43mretcode\u001b[49m\u001b[43m,\u001b[49m\u001b[43m \u001b[49m\u001b[43mtimeout\u001b[49m\u001b[43m,\u001b[49m\u001b[43m \u001b[49m\u001b[43mstdout\u001b[49m\u001b[43m,\u001b[49m\u001b[43m \u001b[49m\u001b[43mstderr\u001b[49m\u001b[43m)\u001b[49m\n",
      "File \u001b[0;32m~/miniconda3/envs/DDGNN/lib/python3.10/site-packages/plumbum/commands/processes.py:19\u001b[0m, in \u001b[0;36m_check_process\u001b[0;34m(proc, retcode, timeout, stdout, stderr)\u001b[0m\n\u001b[1;32m     18\u001b[0m \u001b[38;5;28;01mdef\u001b[39;00m \u001b[38;5;21m_check_process\u001b[39m(proc, retcode, timeout, stdout, stderr):\n\u001b[0;32m---> 19\u001b[0m     \u001b[43mproc\u001b[49m\u001b[38;5;241;43m.\u001b[39;49m\u001b[43mverify\u001b[49m\u001b[43m(\u001b[49m\u001b[43mretcode\u001b[49m\u001b[43m,\u001b[49m\u001b[43m \u001b[49m\u001b[43mtimeout\u001b[49m\u001b[43m,\u001b[49m\u001b[43m \u001b[49m\u001b[43mstdout\u001b[49m\u001b[43m,\u001b[49m\u001b[43m \u001b[49m\u001b[43mstderr\u001b[49m\u001b[43m)\u001b[49m\n\u001b[1;32m     20\u001b[0m     \u001b[38;5;28;01mreturn\u001b[39;00m proc\u001b[38;5;241m.\u001b[39mreturncode, stdout, stderr\n",
      "File \u001b[0;32m~/miniconda3/envs/DDGNN/lib/python3.10/site-packages/plumbum/commands/base.py:429\u001b[0m, in \u001b[0;36mPipeline.popen.<locals>.verify\u001b[0;34m(proc, retcode, timeout, stdout, stderr)\u001b[0m\n\u001b[1;32m    426\u001b[0m \u001b[38;5;28;01mexcept\u001b[39;00m \u001b[38;5;167;01mTypeError\u001b[39;00m:\n\u001b[1;32m    427\u001b[0m     \u001b[38;5;66;03m# no-retcode-verification acts \"greedily\"\u001b[39;00m\n\u001b[1;32m    428\u001b[0m     or_retcode \u001b[38;5;241m=\u001b[39m \u001b[38;5;28;01mNone\u001b[39;00m \u001b[38;5;28;01mif\u001b[39;00m retcode \u001b[38;5;129;01mis\u001b[39;00m \u001b[38;5;28;01mNone\u001b[39;00m \u001b[38;5;28;01melse\u001b[39;00m [\u001b[38;5;241m0\u001b[39m, retcode]\n\u001b[0;32m--> 429\u001b[0m \u001b[43mproc\u001b[49m\u001b[38;5;241;43m.\u001b[39;49m\u001b[43msrcproc\u001b[49m\u001b[38;5;241;43m.\u001b[39;49m\u001b[43mverify\u001b[49m\u001b[43m(\u001b[49m\u001b[43mor_retcode\u001b[49m\u001b[43m,\u001b[49m\u001b[43m \u001b[49m\u001b[43mtimeout\u001b[49m\u001b[43m,\u001b[49m\u001b[43m \u001b[49m\u001b[43mstdout\u001b[49m\u001b[43m,\u001b[49m\u001b[43m \u001b[49m\u001b[43mstderr\u001b[49m\u001b[43m)\u001b[49m\n\u001b[1;32m    430\u001b[0m dstproc_verify(retcode, timeout, stdout, stderr)\n",
      "File \u001b[0;32m~/miniconda3/envs/DDGNN/lib/python3.10/site-packages/plumbum/machines/base.py:25\u001b[0m, in \u001b[0;36mPopenAddons.verify\u001b[0;34m(self, retcode, timeout, stdout, stderr)\u001b[0m\n\u001b[1;32m     23\u001b[0m \u001b[38;5;28;01mif\u001b[39;00m \u001b[38;5;28mhasattr\u001b[39m(retcode, \u001b[38;5;124m\"\u001b[39m\u001b[38;5;124m__contains__\u001b[39m\u001b[38;5;124m\"\u001b[39m):\n\u001b[1;32m     24\u001b[0m     \u001b[38;5;28;01mif\u001b[39;00m \u001b[38;5;28mself\u001b[39m\u001b[38;5;241m.\u001b[39mreturncode \u001b[38;5;129;01mnot\u001b[39;00m \u001b[38;5;129;01min\u001b[39;00m retcode:\n\u001b[0;32m---> 25\u001b[0m         \u001b[38;5;28;01mraise\u001b[39;00m ProcessExecutionError(\n\u001b[1;32m     26\u001b[0m             \u001b[38;5;28mgetattr\u001b[39m(\u001b[38;5;28mself\u001b[39m, \u001b[38;5;124m\"\u001b[39m\u001b[38;5;124margv\u001b[39m\u001b[38;5;124m\"\u001b[39m, \u001b[38;5;28;01mNone\u001b[39;00m), \u001b[38;5;28mself\u001b[39m\u001b[38;5;241m.\u001b[39mreturncode, stdout, stderr\n\u001b[1;32m     27\u001b[0m         )\n\u001b[1;32m     28\u001b[0m \u001b[38;5;28;01melif\u001b[39;00m \u001b[38;5;28mself\u001b[39m\u001b[38;5;241m.\u001b[39mreturncode \u001b[38;5;241m!=\u001b[39m retcode:\n\u001b[1;32m     29\u001b[0m     \u001b[38;5;28;01mraise\u001b[39;00m ProcessExecutionError(\n\u001b[1;32m     30\u001b[0m         \u001b[38;5;28mgetattr\u001b[39m(\u001b[38;5;28mself\u001b[39m, \u001b[38;5;124m\"\u001b[39m\u001b[38;5;124margv\u001b[39m\u001b[38;5;124m\"\u001b[39m, \u001b[38;5;28;01mNone\u001b[39;00m), \u001b[38;5;28mself\u001b[39m\u001b[38;5;241m.\u001b[39mreturncode, stdout, stderr\n\u001b[1;32m     31\u001b[0m     )\n",
      "\u001b[0;31mProcessExecutionError\u001b[0m: Unexpected exit code: 1\nCommand line: | /usr/bin/grep -i 'E2 (Variational):' /home/grierjones/DDCASPT2/ozone/ANO-RCC-VDZP/ozone_106.00/ozone_106.00.output"
     ]
    }
   ],
   "source": [
    "run('ozone','ANO-RCC-VDZP')"
   ]
  },
  {
   "cell_type": "code",
   "execution_count": null,
   "id": "98b3e8fa-50df-4faf-9051-a93871f44df4",
   "metadata": {},
   "outputs": [],
   "source": [
    "# run('ozone','ANO-RCC-VTZP')"
   ]
  },
  {
   "cell_type": "code",
   "execution_count": null,
   "id": "8ba678bc-dcd9-48e2-9150-0311460ac100",
   "metadata": {},
   "outputs": [],
   "source": []
  }
 ],
 "metadata": {
  "kernelspec": {
   "display_name": "Python 3 (ipykernel)",
   "language": "python",
   "name": "python3"
  },
  "language_info": {
   "codemirror_mode": {
    "name": "ipython",
    "version": 3
   },
   "file_extension": ".py",
   "mimetype": "text/x-python",
   "name": "python",
   "nbconvert_exporter": "python",
   "pygments_lexer": "ipython3",
   "version": "3.10.4"
  }
 },
 "nbformat": 4,
 "nbformat_minor": 5
}
