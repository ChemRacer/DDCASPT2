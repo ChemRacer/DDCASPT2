{
 "cells": [
  {
   "cell_type": "code",
   "execution_count": null,
   "id": "64186e21-f624-4588-8211-add44b1840a4",
   "metadata": {},
   "outputs": [],
   "source": [
    "from DDCASPT2 import DDCASPT2\n",
    "import pickle, os, shutil\n",
    "from glob import glob\n",
    "import numpy as np\n",
    "from joblib import Parallel, delayed\n",
    "import pandas as pd\n",
    "from math import sin, cos, pi\n",
    "from tqdm.notebook import tqdm"
   ]
  },
  {
   "cell_type": "code",
   "execution_count": null,
   "id": "de6e2767-eafb-4dd0-8c89-9f0df23906bf",
   "metadata": {},
   "outputs": [],
   "source": [
    "# radius_range=np.arange(106,182,0.5)\n",
    "radius_range=np.arange(106,182,0.25)\n",
    "\n",
    "\n",
    "train_ind,test_ind=radius_range[0::2],radius_range[1::2]\n",
    "# train_test_split(radius_range, test_size=0.3, random_state=0)\n",
    "print(len(train_ind),len(test_ind))\n",
    "with open('big_train_ind.pickle', 'wb') as handle:\n",
    "    pickle.dump(train_ind, handle, protocol=pickle.HIGHEST_PROTOCOL)\n",
    "\n",
    "with open('big_test_ind.pickle', 'wb') as handle:\n",
    "    pickle.dump(test_ind, handle, protocol=pickle.HIGHEST_PROTOCOL)\n",
    "\n",
    "# with open('test_ind.pickle', 'rb') as handle:\n",
    "#     test_ind = pickle.load(handle)\n",
    "\n",
    "# with open('train_ind.pickle', 'rb') as handle:\n",
    "#     train_ind = pickle.load(handle)\n",
    "    \n",
    "print(len(train_ind),len(test_ind))    "
   ]
  },
  {
   "cell_type": "code",
   "execution_count": null,
   "id": "beb7a178-1e8a-4df6-911c-86e80ebbb148",
   "metadata": {
    "scrolled": true
   },
   "outputs": [],
   "source": [
    "# for i in chains:\n",
    "topdir = os.getcwd()\n",
    "\n",
    "print(topdir)"
   ]
  },
  {
   "cell_type": "code",
   "execution_count": null,
   "id": "39d86cfa-6946-4d34-84c7-cff9ac4461b9",
   "metadata": {},
   "outputs": [],
   "source": [
    "def run(dirname,basis_set):\n",
    "    if os.path.exists(basis_set)==False:\n",
    "        os.mkdir(basis_set)\n",
    "        \n",
    "    # os.chdir(os.path.join(topdir,dirname))    \n",
    "    for idxr, r in tqdm(enumerate(radius_range)):\n",
    "        \n",
    "        # Loop radius\n",
    "        name=f\"{dirname}_{r:.2f}\"\n",
    "        \n",
    "        # Create files\n",
    "        subdirpath = os.path.join(topdir,basis_set,f'{name}')\n",
    "        if os.path.exists(subdirpath)==False:\n",
    "            os.mkdir(subdirpath)\n",
    "        print(subdirpath)\n",
    "        if os.path.exists(os.path.join(subdirpath,f'{name}.csv'))==False:\n",
    "            shutil.rmtree(os.path.join('tmp'),name)\n",
    "            \n",
    "            # Write xyz\n",
    "            with open(os.path.join(subdirpath,f'{name}.xyz'),'w') as f:\n",
    "                f.write(f'{3}\\n\\n')\n",
    "                \n",
    "                radius=1.278\n",
    "                f.write(f\"\"\"O {radius*cos(((float(r)/2)*(pi/180))):>8f} {radius*sin((float(r)/2)*(pi/180)):>8f} {0.0000:>8f}\n",
    "O {0:>8f} {0:>8f} {0:>8f}\n",
    "O {radius*cos(-(float(r)/2)*(pi/180)):>8f} {radius*sin(-(float(r)/2)*(pi/180)):>8f} {0:>8f}\n",
    "\"\"\")\n",
    "\n",
    "            \n",
    "            if idxr==0:\n",
    "                d = DDCASPT2(subdirpath,basis_set,name,4,3,10,previous=None)()\n",
    "            else:            \n",
    "                previous=os.path.join(topdir,basis_set,f'{dirname}_{radius_range[idxr-1]:.2f}',f\"{dirname}_{radius_range[idxr-1]:.2f}.RasOrb\")\n",
    "                print(previous)\n",
    "                d = DDCASPT2(subdirpath,basis_set,name,4,3,10,previous=previous)()\n",
    "    \n",
    "    for idxr, r in enumerate(radius_range):\n",
    "        # Loop radius\n",
    "        name=f\"{dirname}_{r:.2f}\"\n",
    "        \n",
    "        subdirpath = os.path.join(topdir,basis_set,f'{name}')\n",
    "        \n",
    "        \n",
    "        for j in glob(os.path.join(subdirpath,\"*GMJ*.csv\"))+glob(os.path.join(subdirpath,\"*Orb*\"))+glob(os.path.join(subdirpath,\"*h5\"))+glob(os.path.join(subdirpath,\"xmldump\")):\n",
    "            os.remove(j)        \n",
    "    "
   ]
  },
  {
   "cell_type": "code",
   "execution_count": null,
   "id": "4248e2e8-dba1-463b-990d-c9c93b6ef4fb",
   "metadata": {
    "scrolled": true
   },
   "outputs": [],
   "source": [
    "# run('ozone','ANO-RCC-VDZP')"
   ]
  },
  {
   "cell_type": "code",
   "execution_count": null,
   "id": "98b3e8fa-50df-4faf-9051-a93871f44df4",
   "metadata": {},
   "outputs": [],
   "source": [
    "run('ozone','ANO-RCC-VTZP')"
   ]
  },
  {
   "cell_type": "code",
   "execution_count": null,
   "id": "8ba678bc-dcd9-48e2-9150-0311460ac100",
   "metadata": {},
   "outputs": [],
   "source": []
  }
 ],
 "metadata": {
  "kernelspec": {
   "display_name": "Python 3 (ipykernel)",
   "language": "python",
   "name": "python3"
  },
  "language_info": {
   "codemirror_mode": {
    "name": "ipython",
    "version": 3
   },
   "file_extension": ".py",
   "mimetype": "text/x-python",
   "name": "python",
   "nbconvert_exporter": "python",
   "pygments_lexer": "ipython3",
   "version": "3.10.4"
  }
 },
 "nbformat": 4,
 "nbformat_minor": 5
}
