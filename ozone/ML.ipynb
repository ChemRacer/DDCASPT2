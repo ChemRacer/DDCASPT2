{
 "cells": [
  {
   "cell_type": "code",
   "execution_count": null,
   "id": "07f4ed39",
   "metadata": {},
   "outputs": [],
   "source": [
    "# For data generation\n",
    "import sys\n",
    "# !{sys.executable} -m pip install xgboost --upgrade\n",
    "import shutil\n",
    "import os\n",
    "import numpy as np\n",
    "from glob import glob\n",
    "import re\n",
    "import pandas as pd\n",
    "import pickle\n",
    "#random\n",
    "from time import perf_counter\n",
    "\n",
    "# sklearn\n",
    "from sklearn.preprocessing import StandardScaler\n",
    "from sklearn.metrics import r2_score,mean_squared_error,mean_absolute_error,mean_absolute_percentage_error\n",
    "from sklearn.model_selection import train_test_split\n",
    "from sklearn.preprocessing import MinMaxScaler\n",
    "from sklearn.kernel_ridge import KernelRidge\n",
    "from sklearn.model_selection import GridSearchCV\n",
    "\n",
    "\n",
    "#Plotting\n",
    "import seaborn as sns\n",
    "sns.set_style()\n",
    "import matplotlib as mpl\n",
    "import matplotlib.pyplot as plt\n",
    "mpl.rcParams['figure.dpi'] = 200\n",
    "\n",
    "import warnings\n",
    "warnings.filterwarnings(\"ignore\", category=np.VisibleDeprecationWarning) \n",
    "\n",
    "\n",
    "from tqdm.auto import tqdm\n",
    "# from tqdm.notebook import tqdm_notebook as tqdm"
   ]
  },
  {
   "cell_type": "code",
   "execution_count": null,
   "id": "30fd72cf",
   "metadata": {},
   "outputs": [],
   "source": [
    "with open('test_ind.pickle', 'rb') as handle:\n",
    "    test_ind = pickle.load(handle)\n",
    "\n",
    "with open('train_ind.pickle', 'rb') as handle:\n",
    "    train_ind = pickle.load(handle)\n",
    "    \n",
    "print(len(train_ind),len(test_ind))    \n"
   ]
  },
  {
   "cell_type": "code",
   "execution_count": null,
   "id": "da9c080a-2174-42f9-8841-1b21362d1e88",
   "metadata": {
    "tags": []
   },
   "outputs": [],
   "source": [
    "# feat_name=['From_Same_Orbital', 'pair_energy', 'coulomb', 'screen1_1', 'screen1_2',\n",
    "#        'screen1_3', 'screen1_4', 'screen2_1', 'screen2_2', 'screen2_3',\n",
    "#        'screen2_4', 'eijab_1', 'eijab_2', 'eijab_3', 'eijab_4', 'screenvirt_1',\n",
    "#        'screenvirt_2', 'screenvirt_3', 'screenvirt_4', 'Fr1', 'Fr2', 'Fr3',\n",
    "#        'Fr4', 'Fs1', 'Fs2', 'Fs3', 'Fs4', 'occr1', 'occr2', 'occr3', 'occr4',\n",
    "#        'occs1', 'occs2', 'occs3', 'occs4', 'SCFFr1', 'SCFFr2', 'SCFFr3',\n",
    "#        'SCFFr4', 'SCFFs1', 'SCFFs2', 'SCFFs3', 'SCFFs4', 'SCFOCCr1',\n",
    "#        'SCFOCCr2', 'SCFOCCr3', 'SCFOCCr4', 'SCFOCCs1', 'SCFOCCs2', 'SCFOCCs3',\n",
    "#        'SCFOCCs4', 'hrr1', 'hrr2', 'hrr3', 'hrr4', 'hss1', 'hss2', 'hss3',\n",
    "#        'hss4', 'hpp', 'hqq', 'Fp', 'Fq', 'occp', 'occq', 'SCFFp', 'SCFFq',\n",
    "#        'SCFOCCp', 'SCFOCCq']\n",
    "\n",
    "# feat_name=['occs3',\n",
    "#  'SCFOCCs2',\n",
    "#  'SCFOCCs1',\n",
    "#  'screen2_1',\n",
    "#  'SCFOCCp',\n",
    "#  'hss4',\n",
    "#  'hrr1',\n",
    "#  'Fs2',\n",
    "#  'occq',\n",
    "#  'screenvirt_4',\n",
    "#  'SCFFs2',\n",
    "#  'hrr3',\n",
    "#  'SCFFr1',\n",
    "#  'screenvirt_2',\n",
    "#  'screenvirt_3',\n",
    "#  'SCFFs4',\n",
    "#  'hss2',\n",
    "#  'screen1_2',\n",
    "#  'hrr4',\n",
    "#  'screen1_3',\n",
    "#  'Fp',\n",
    "#  'Fr1',\n",
    "#  'screenvirt_1',\n",
    "#  'occs4',\n",
    "#  'screen2_4',\n",
    "#  'SCFFr2',\n",
    "#  'eijab_2',\n",
    "#  'screen2_3',\n",
    "#  'SCFFs1',\n",
    "#  'eijab_4',\n",
    "#  'Fq',\n",
    "#  'hss1',\n",
    "#  'SCFFr4',\n",
    "#  'occs2',\n",
    "#  'occp',\n",
    "#  'screen1_4',\n",
    "#  'eijab_1',\n",
    "#  'hpp',\n",
    "#  'pair_energy',\n",
    "#  'hrr2',\n",
    "#  'hqq',\n",
    "#  'SCFFr3',\n",
    "#  'occs1',\n",
    "#  'Fr2',\n",
    "#  'eijab_3',\n",
    "#  'SCFOCCq',\n",
    "#  'SCFOCCs4',\n",
    "#  'Fs3',\n",
    "#  'Fs1',\n",
    "#  'From_Same_Orbital',\n",
    "#  'hss3',\n",
    "#  'Fs4',\n",
    "#  'SCFOCCs3',\n",
    "#  'Fr4',\n",
    "#  'screen2_2',\n",
    "#  'screen1_1',\n",
    "#  'Fr3',\n",
    "#  'SCFFs3']\n",
    "\n",
    "feat_name=['SCFFs3',\n",
    " 'hrr3',\n",
    " 'screen1_1',\n",
    " 'SCFOCCs2',\n",
    " 'hpp',\n",
    " 'SCFOCCs3',\n",
    " 'hss4',\n",
    " 'screen2_2',\n",
    " 'SCFOCCq',\n",
    " 'hss1',\n",
    " 'screenvirt_3',\n",
    " 'SCFFs4',\n",
    " 'SCFFr4',\n",
    " 'SCFOCCs1',\n",
    " 'SCFFr3',\n",
    " 'hss2',\n",
    " 'screen2_4',\n",
    " 'screenvirt_2',\n",
    " 'SCFFs2',\n",
    " 'hss3',\n",
    " 'hqq',\n",
    " 'hrr4',\n",
    " 'hrr1',\n",
    " 'screen1_3',\n",
    " 'SCFOCCs4',\n",
    " 'SCFFr1',\n",
    " 'SCFFs1',\n",
    " 'hrr2',\n",
    " 'SCFFr2',\n",
    " 'screen1_4',\n",
    " 'screen2_1',\n",
    " 'screenvirt_1',\n",
    " 'screen1_2',\n",
    " 'SCFOCCp',\n",
    " 'screen2_3',\n",
    " 'screenvirt_4']\n"
   ]
  },
  {
   "cell_type": "code",
   "execution_count": null,
   "id": "6506a7f5",
   "metadata": {},
   "outputs": [],
   "source": [
    "# Xcheck=pd.DataFrame(np.vstack([np.vstack(train_X),np.vstack(test_X)]),columns=feat_name)"
   ]
  },
  {
   "cell_type": "code",
   "execution_count": null,
   "id": "62a45c99",
   "metadata": {},
   "outputs": [],
   "source": [
    "train_X=[]\n",
    "train_y = []\n",
    "\n",
    "test_X=[]\n",
    "test_y = []\n",
    "\n",
    "nam='O3/fixed_feats.pickle'\n",
    "trydf=pd.read_pickle(nam).astype(float)[feat_name]  \n",
    "trydf.set_index(trydf.index.set_levels([int(i.split('/')[1].split('_')[1]) for i in trydf.index.levels[0]],level=0),inplace=True)"
   ]
  },
  {
   "cell_type": "code",
   "execution_count": null,
   "id": "a77d46a7-6908-45c0-b1ce-59744483f47a",
   "metadata": {},
   "outputs": [],
   "source": [
    "trydf"
   ]
  },
  {
   "cell_type": "code",
   "execution_count": null,
   "id": "fdc66dcd",
   "metadata": {},
   "outputs": [],
   "source": [
    "  \n",
    "\n",
    "\n",
    "for i in train_ind:\n",
    "    train_X.append(trydf.loc[int(i)].values)\n",
    "for j in test_ind: \n",
    "    test_X.append(trydf.loc[int(j)].values)\n",
    "    \n",
    "    \n",
    "# This recover is wrong... did not account for the # of pair-energies     \n",
    "recover_train=[]    \n",
    "recover_test=[]    \n",
    "tst_idx=0\n",
    "tr_idx=0\n",
    "for nidx,nam in enumerate(glob('*/fixed_targets.pickle')):\n",
    "    trydf=pd.read_pickle(nam).astype(float)\n",
    "    Hnam=nam.split('/')[0].split('_')[0]\n",
    "    for tridx,i in enumerate(train_ind):\n",
    "        pairdf=trydf[f'{int(i)}'].values\n",
    "        train_y.append(pairdf)\n",
    "        for k in range(len(pairdf)):\n",
    "            recover_train.append((int(i),tridx,tr_idx))\n",
    "            tr_idx+=1\n",
    "        \n",
    "    for teidx,j in enumerate(test_ind): \n",
    "        pairdf=trydf[f'{int(j)}'].values\n",
    "        test_y.append(pairdf)        \n",
    "        \n",
    "        for k in range(len(pairdf)):\n",
    "            recover_test.append((int(j),teidx,tst_idx))\n",
    "            tst_idx+=1\n"
   ]
  },
  {
   "cell_type": "code",
   "execution_count": null,
   "id": "25f5dc3b-568d-4790-becf-af15cfa57e77",
   "metadata": {
    "tags": []
   },
   "outputs": [],
   "source": [
    "X_train, X_test=np.vstack(train_X).astype(float),np.vstack(test_X).astype(float)\n",
    "for u,v in np.argwhere(np.isnan(X_train)):\n",
    "    X_train[u,v]=0\n",
    "    \n",
    "for u,v in np.argwhere(np.isnan(X_test)):\n",
    "    X_test[u,v]=0    "
   ]
  },
  {
   "cell_type": "code",
   "execution_count": null,
   "id": "2dbbf74c",
   "metadata": {},
   "outputs": [],
   "source": [
    "y_train,y_test=np.hstack(train_y).astype(float),np.hstack(test_y).astype(float)"
   ]
  },
  {
   "cell_type": "code",
   "execution_count": null,
   "id": "8e64801d",
   "metadata": {},
   "outputs": [],
   "source": [
    "scaler=MinMaxScaler()\n",
    "X_train=scaler.fit_transform(X_train)\n",
    "X_test=scaler.transform(X_test)"
   ]
  },
  {
   "cell_type": "code",
   "execution_count": null,
   "id": "8acff856",
   "metadata": {},
   "outputs": [],
   "source": [
    "print(X_train.shape,X_test.shape)"
   ]
  },
  {
   "cell_type": "code",
   "execution_count": null,
   "id": "02dfb823",
   "metadata": {},
   "outputs": [],
   "source": []
  },
  {
   "cell_type": "code",
   "execution_count": null,
   "id": "b33b6610-2a11-4ac4-9c8d-4c7df2e7510c",
   "metadata": {
    "tags": []
   },
   "outputs": [],
   "source": [
    "from xgboost import XGBRegressor\n",
    "# model=XGBRegressor(reg_lambda=0.3,max_depth=100,min_child_weight=5)\n",
    "# model=XGBRegressor(max_depth=100,min_child_weight=1,n_estimators=100, reg_alpha=0.001, reg_lambda=0.001)\n",
    "# model.fit(X_train,y_train)\n",
    "# y_pred_train=model.predict(X_train)\n",
    "# y_pred_test=model.predict(X_test)\n",
    "# print(f\"R2: {r2_score(y_train,y_pred_train):.4f},{r2_score(y_test,y_pred_test):.4f}\")\n",
    "# print(f\"RMSE (mEh): {mean_squared_error(y_train,y_pred_train,squared=False)*1e3:.4f},{mean_squared_error(y_test,y_pred_test,squared=False)*1e3:.4f}\")\n",
    "\n",
    "params = {'max_depth': [1, 10, 100],\n",
    "          'n_estimators': [100, 500, 1000],\n",
    "          'reg_lambda': [1e-6, 1e-3,1e-1],\n",
    "          'reg_alpha': [1e-6, 1e-3,1e-1]}\n",
    "\n",
    "model = XGBRegressor()\n",
    "grid = GridSearchCV(estimator=model, \n",
    "                   param_grid=params,\n",
    "                   scoring='r2', \n",
    "                   verbose=1000,n_jobs=12).fit(X_train,y_train)\n",
    "\n",
    "\n",
    "gmodel=grid.best_estimator_\n",
    "gmodel.device = 'cuda:0'\n",
    "y_pred_train=gmodel.predict(X_train)\n",
    "y_pred_test=gmodel.predict(X_test)\n",
    "print(f\"R2: {r2_score(y_train,y_pred_train):.4f},{r2_score(y_test,y_pred_test):.4f}\")\n",
    "print(f\"RMSE (mEh): {mean_squared_error(y_train,y_pred_train,squared=False)*1e3:.4f},{mean_squared_error(y_test,y_pred_test,squared=False)*1e3:.4f}\")\n",
    "\n"
   ]
  },
  {
   "cell_type": "code",
   "execution_count": null,
   "id": "7ba7aa36-0158-411e-93c6-4c19acbad8ef",
   "metadata": {},
   "outputs": [],
   "source": []
  },
  {
   "cell_type": "code",
   "execution_count": null,
   "id": "503fb4f0",
   "metadata": {},
   "outputs": [],
   "source": []
  },
  {
   "cell_type": "code",
   "execution_count": null,
   "id": "d59bfbe7-26b3-4e59-9967-492a9267e947",
   "metadata": {
    "tags": []
   },
   "outputs": [],
   "source": [
    "font=12\n",
    "plt.rc('font', size=font)          # controls default text sizes\n",
    "plt.rc('axes', titlesize=font)     # fontsize of the axes title\n",
    "plt.rc('axes', labelsize=font)    # fontsize of the x and y labels\n",
    "plt.rc('xtick', labelsize=font)    # fontsize of the tick labels\n",
    "plt.rc('ytick', labelsize=font)    # fontsize of the tick labels\n",
    "plt.rc('legend', fontsize=font)    # legend fontsize\n",
    "plt.rc('figure', titlesize=font)  # fontsize of the figure title\n",
    "fig,(ax1,ax2)=plt.subplots(1,2,figsize=(13,6))\n",
    "scale=1e-1\n",
    "ax1.set_title('Train')\n",
    "ax1.scatter(1e3*y_train,1e3*y_pred_train,label=\"R$^{2}$=\"+f'{r2_score(y_train,y_pred_train):.2f}\\nMAE={1e3*mean_absolute_error(y_train,y_pred_train):.4f}'+\" mE$_{h}$\")\n",
    "ax1.plot(1e3*y_train,1e3*y_train,'k-')\n",
    "ax1.set_xlim(1e3*min(y_train)-scale,1e3*max(y_train)+scale)\n",
    "ax1.set_ylim(1e3*min(y_train)-scale,1e3*max(y_train)+scale)\n",
    "ax1.set_xlabel('Calculated Pair-Energies (mE$_{h}$)')\n",
    "ax1.set_ylabel('Predicted Pair-Energies (mE$_{h}$)')\n",
    "ax1.legend()\n",
    "\n",
    "\n",
    "ax2.set_title('Test')\n",
    "ax2.scatter(1e3*y_test,1e3*y_pred_test,label=\"R$^{2}$=\"+f'{r2_score(y_test,y_pred_test):.2f}\\nMAE={1e3*mean_absolute_error(y_test,y_pred_test):.4f}'+\" mE$_{h}$\",color='orange')\n",
    "ax2.plot(1e3*y_test,1e3*y_test,'k-')\n",
    "ax2.set_xlim(1e3*min(y_test)-scale,1e3*max(y_test)+scale)\n",
    "ax2.set_ylim(1e3*min(y_test)-scale,1e3*max(y_test)+scale)\n",
    "ax2.set_xlabel('Calculated Pair-Energies (mE$_{h}$)')\n",
    "ax2.set_ylabel('Predicted Pair-Energies (mE$_{h}$)')\n",
    "ax2.legend()\n",
    "if os.path.exists('images')==False:\n",
    "    os.mkdir('images')\n",
    "plt.tight_layout()\n",
    "plt.savefig('images/O3_parity.png',dpi=300,bbox_inches='tight')\n",
    "plt.show()"
   ]
  },
  {
   "cell_type": "code",
   "execution_count": null,
   "id": "507573f5",
   "metadata": {},
   "outputs": [],
   "source": [
    "testdct=[np.vstack((y_test[np.array(recover_test)[np.array(recover_test)[:,1].astype(int)==i][:,2].astype(int)],y_pred_test[np.array(recover_test)[np.array(recover_test)[:,1].astype(int)==i][:,2].astype(int)])) for i in np.unique(np.array(recover_test)[:,1].astype(int))]\n",
    "\n",
    "test_errors=mean_absolute_error(np.hstack(testdct)[0],np.hstack(testdct)[1])*1e3"
   ]
  },
  {
   "cell_type": "code",
   "execution_count": null,
   "id": "57ad4b4c-12eb-44b5-98c1-65552232e231",
   "metadata": {},
   "outputs": [],
   "source": [
    "traindct=[np.vstack((y_train[np.array(recover_train)[np.array(recover_train)[:,1].astype(int)==i][:,2].astype(int)],y_pred_train[np.array(recover_train)[np.array(recover_train)[:,1].astype(int)==i][:,2].astype(int)])) for i in np.unique(np.array(recover_train)[:,1].astype(int))]\n",
    "\n",
    "train_errors=mean_absolute_error(np.hstack(traindct)[0],np.hstack(traindct)[1])*1e3"
   ]
  },
  {
   "cell_type": "code",
   "execution_count": null,
   "id": "b10a548a",
   "metadata": {},
   "outputs": [],
   "source": [
    "CASSCF=pd.concat([pd.read_csv(i,index_col=1).drop(columns=['Unnamed: 0']).rename(columns={'energy':i.split('_')[0]}) for i in glob('*/CASSCF.csv')],axis=1)\n",
    "CASPT2=pd.concat([pd.read_csv(i,index_col=1).drop(columns=['Unnamed: 0']).rename(columns={'energy':i.split('_')[0]}) for i in glob('*/CASPT2.csv')],axis=1)\n",
    "E2=pd.concat([pd.read_csv(i,index_col=1).drop(columns=['Unnamed: 0']).rename(columns={'energy':i.split('_')[0]}) for i in glob('*/E2.csv')],axis=1)    \n",
    "\n",
    "# CASSCF.index=[f'{int(i)}' for i in CASSCF.index]\n",
    "# CASPT2.index=[f'{int(i)}' for i in CASPT2.index]\n",
    "# E2.index=[f'{int(i)}' for i in E2.index]"
   ]
  },
  {
   "cell_type": "code",
   "execution_count": null,
   "id": "70caedfa",
   "metadata": {},
   "outputs": [],
   "source": []
  },
  {
   "cell_type": "code",
   "execution_count": null,
   "id": "a83a3e18",
   "metadata": {},
   "outputs": [],
   "source": []
  },
  {
   "cell_type": "code",
   "execution_count": null,
   "id": "718f81fb",
   "metadata": {},
   "outputs": [],
   "source": [
    "pairedcp=sns.color_palette('Paired')"
   ]
  },
  {
   "cell_type": "code",
   "execution_count": null,
   "id": "750e99e3",
   "metadata": {},
   "outputs": [],
   "source": [
    "test_E2={np.unique(np.array(recover_test)[:,0])[idx]:{'true':sum(u),'pred':sum(v)} for idx,(u,v) in enumerate(testdct)}\n",
    "train_E2={np.unique(np.array(recover_train)[:,0])[idx]:{'true':sum(u),'pred':sum(v)} for idx,(u,v) in enumerate(traindct)}"
   ]
  },
  {
   "cell_type": "code",
   "execution_count": null,
   "id": "64681f4b-e298-4ea5-b776-d83661893b51",
   "metadata": {},
   "outputs": [],
   "source": [
    "mean_absolute_error(CASSCF.values,CASPT2.values)"
   ]
  },
  {
   "cell_type": "code",
   "execution_count": null,
   "id": "9ebdc2f2-31bb-4328-a1df-01b16cfa6245",
   "metadata": {},
   "outputs": [],
   "source": [
    "melted_train=np.array([(k,CASSCF.loc[k].values+v['pred']) for k,v in train_E2.items()]).astype(float)\n",
    "melted_test=np.array([(k,CASSCF.loc[k].values+v['pred']) for k,v in test_E2.items()]).astype(float)"
   ]
  },
  {
   "cell_type": "code",
   "execution_count": null,
   "id": "e6e88373-be74-4898-b1f3-b7b5d6baa624",
   "metadata": {},
   "outputs": [],
   "source": [
    "\n",
    "\n",
    "mean_absolute_error(CASPT2.values,pd.DataFrame(np.vstack([melted_train,melted_test]),columns=['angle','CASPT2']).set_index('angle').sort_index().values)"
   ]
  },
  {
   "cell_type": "code",
   "execution_count": null,
   "id": "acf837c5-a4c7-417b-8f15-2cf42d427bf4",
   "metadata": {},
   "outputs": [],
   "source": [
    "CASPT2.mean()"
   ]
  },
  {
   "cell_type": "code",
   "execution_count": null,
   "id": "7510a558-bfcb-4493-b009-1bd1ce4bc790",
   "metadata": {},
   "outputs": [],
   "source": [
    "pal=sns.color_palette('Paired',2)\n",
    "plt.plot(CASPT2.index,CASPT2.values,'k')\n",
    "plt.scatter(melted_train[:,0],melted_train[:,1],color=pal[0],label='Train')\n",
    "plt.scatter(melted_test[:,0],melted_test[:,1],color=pal[1],label='Test')\n",
    "plt.legend()\n",
    "plt.show()"
   ]
  },
  {
   "cell_type": "code",
   "execution_count": null,
   "id": "6b9eac1f-ad92-4146-8693-d9bb6b7eca7c",
   "metadata": {},
   "outputs": [],
   "source": [
    "mean_absolute_percentage_error([v['true'] for k,v in train_E2.items()],[v['pred'] for k,v in train_E2.items()])"
   ]
  },
  {
   "cell_type": "code",
   "execution_count": null,
   "id": "130f637f-25f6-4e71-8c5c-8490c75a8ca8",
   "metadata": {},
   "outputs": [],
   "source": [
    "mean_absolute_percentage_error([v['true'] for k,v in test_E2.items()],[v['pred'] for k,v in test_E2.items()])"
   ]
  },
  {
   "cell_type": "code",
   "execution_count": null,
   "id": "32b80074-7703-48af-b323-a4a0d18a2664",
   "metadata": {},
   "outputs": [],
   "source": [
    "mean_absolute_error([v['true'] for k,v in test_E2.items()],[v['pred'] for k,v in test_E2.items()])"
   ]
  },
  {
   "cell_type": "code",
   "execution_count": null,
   "id": "68029ebe-8442-4211-bd53-e8635af0e9cc",
   "metadata": {},
   "outputs": [],
   "source": [
    "mean_absolute_error([v['true'] for k,v in train_E2.items()],[v['pred'] for k,v in train_E2.items()])"
   ]
  },
  {
   "cell_type": "code",
   "execution_count": null,
   "id": "4a7212e9",
   "metadata": {},
   "outputs": [],
   "source": [
    "sns.scatterplot(data=pd.DataFrame.from_dict(test_E2).T,x='true',y='pred')\n",
    "sns.scatterplot(data=pd.DataFrame.from_dict(train_E2).T,x='true',y='pred')"
   ]
  },
  {
   "cell_type": "code",
   "execution_count": null,
   "id": "dc200cee",
   "metadata": {},
   "outputs": [],
   "source": []
  },
  {
   "cell_type": "code",
   "execution_count": null,
   "id": "dacaaf69",
   "metadata": {},
   "outputs": [],
   "source": []
  }
 ],
 "metadata": {
  "kernelspec": {
   "display_name": "Python 3 (ipykernel)",
   "language": "python",
   "name": "python3"
  },
  "language_info": {
   "codemirror_mode": {
    "name": "ipython",
    "version": 3
   },
   "file_extension": ".py",
   "mimetype": "text/x-python",
   "name": "python",
   "nbconvert_exporter": "python",
   "pygments_lexer": "ipython3",
   "version": "3.10.4"
  }
 },
 "nbformat": 4,
 "nbformat_minor": 5
}
