{
 "cells": [
  {
   "cell_type": "code",
   "execution_count": 1,
   "id": "64186e21-f624-4588-8211-add44b1840a4",
   "metadata": {},
   "outputs": [],
   "source": [
    "from DDCASPT2 import DDCASPT2\n",
    "import pickle, os, shutil\n",
    "from glob import glob\n",
    "import numpy as np\n",
    "from joblib import Parallel, delayed\n",
    "import pandas as pd\n",
    "from math import sin, cos, pi\n",
    "from tqdm.notebook import tqdm\n",
    "# Geom manipulate\n",
    "from AaronTools.geometry import Geometry\n",
    "from tqdm import tqdm\n",
    "from time import perf_counter\n",
    "import seaborn as sns"
   ]
  },
  {
   "cell_type": "code",
   "execution_count": 2,
   "id": "de6e2767-eafb-4dd0-8c89-9f0df23906bf",
   "metadata": {},
   "outputs": [
    {
     "name": "stdout",
     "output_type": "stream",
     "text": [
      "331 330\n",
      "331 330\n"
     ]
    }
   ],
   "source": [
    "radius_range=np.linspace(1.4,8,661)\n",
    "\n",
    "\n",
    "\n",
    "train_ind,test_ind=radius_range[0::2],radius_range[1::2]\n",
    "# train_test_split(radius_range, test_size=0.3, random_state=0)\n",
    "print(len(train_ind),len(test_ind))\n",
    "with open('train_ind.pickle', 'wb') as handle:\n",
    "    pickle.dump(train_ind, handle, protocol=pickle.HIGHEST_PROTOCOL)\n",
    "\n",
    "with open('test_ind.pickle', 'wb') as handle:\n",
    "    pickle.dump(test_ind, handle, protocol=pickle.HIGHEST_PROTOCOL)\n",
    "\n",
    "with open('test_ind.pickle', 'rb') as handle:\n",
    "    test_ind = pickle.load(handle)\n",
    "\n",
    "with open('train_ind.pickle', 'rb') as handle:\n",
    "    train_ind = pickle.load(handle)\n",
    "    \n",
    "print(len(train_ind),len(test_ind))    "
   ]
  },
  {
   "cell_type": "code",
   "execution_count": 3,
   "id": "beb7a178-1e8a-4df6-911c-86e80ebbb148",
   "metadata": {
    "scrolled": true
   },
   "outputs": [],
   "source": [
    "\n",
    "topdir = os.getcwd()\n",
    "\n"
   ]
  },
  {
   "cell_type": "code",
   "execution_count": 4,
   "id": "381a3110-0b37-414d-b6e8-1963051277b6",
   "metadata": {},
   "outputs": [],
   "source": [
    "# t0 = perf_counter()\n",
    "# geom = Geometry('FeO.xyz')\n",
    "# oxo, iron = geom.atoms[0],geom.atoms[1]\n",
    "\n",
    "# for idxr, r in tqdm(enumerate(radius_range)):\n",
    "\n",
    "# # Create radius subdirectory\n",
    "#     radstr = f\"{r:.2f}\"\n",
    "#     rad_dir = os.path.join(os.getcwd(),radstr)\n",
    "#     if os.path.exists(rad_dir)==False:\n",
    "#         os.mkdir(rad_dir)\n",
    "    \n",
    "        \n",
    "#     # Write xyz\n",
    "#     geom.change_distance(iron,oxo,r)\n",
    "#     geom.write(os.path.join(rad_dir,radstr))\n",
    "#     if idxr==0:\n",
    "#         d = DDCASPT2(rad_dir,'ANO-RCC-VDZP',radstr,10,14,None,scf_previous=None,casscf_previous=None,symmetry=1,spin=4,UHF=True,charge=2,clean=False)(run=False)\n",
    "#     else:            \n",
    "#         scfprevious=os.path.join(topdir,f\"{radius_range[idxr-1]:.2f}\",f\"{radius_range[idxr-1]:.2f}.UhfOrb\")        \n",
    "#         print(scfprevious)\n",
    "#         previous=os.path.join(topdir,f\"{radius_range[idxr-1]:.2f}\",f\"{radius_range[idxr-1]:.2f}.RasOrb\")\n",
    "#         print(previous)\n",
    "#         d = DDCASPT2(rad_dir,'ANO-RCC-VDZP',radstr,10,14,None,scf_previous=scfprevious,casscf_previous=previous,symmetry=1,spin=4,UHF=True,charge=2,clean=False)(run=False)\n",
    "    \n",
    "#     gen_run(radstr,rad_dir)\n",
    "# print(perf_counter()-t0)"
   ]
  },
  {
   "cell_type": "code",
   "execution_count": 5,
   "id": "dad3d8f0-93e2-40ec-b387-f25ccc61439e",
   "metadata": {},
   "outputs": [
    {
     "data": {
      "text/plain": [
       "'/home/grierjones/DDCASPT2/1.40'"
      ]
     },
     "execution_count": 5,
     "metadata": {},
     "output_type": "execute_result"
    }
   ],
   "source": [
    "os.getcwd()"
   ]
  },
  {
   "cell_type": "code",
   "execution_count": 6,
   "id": "967297a4-39f5-40b6-9af9-9b6a9088bba4",
   "metadata": {},
   "outputs": [],
   "source": [
    "os.chdir(topdir)"
   ]
  },
  {
   "cell_type": "code",
   "execution_count": 7,
   "id": "8ba678bc-dcd9-48e2-9150-0311460ac100",
   "metadata": {
    "scrolled": true
   },
   "outputs": [
    {
     "name": "stderr",
     "output_type": "stream",
     "text": [
      "Root:   0%|                                                                                                                                                              | 0/3 [00:00<?, ?it/s]\n",
      "Pairs: 100%|█████████████████████████████████████████████████████████████████████████████████████████████████████████████████████████████████████████████████| 13/13 [00:00<00:00, 1599.66it/s]\u001b[A\n",
      "\n",
      "Features:   0%|                                                                                                                                                        | 0/262 [00:00<?, ?it/s]\u001b[A\n",
      "Root:   0%|                                                                                                                                                              | 0/3 [00:01<?, ?it/s]\n"
     ]
    },
    {
     "ename": "IndexError",
     "evalue": "index -1 is out of bounds for axis 0 with size 0",
     "output_type": "error",
     "traceback": [
      "\u001b[0;31m---------------------------------------------------------------------------\u001b[0m",
      "\u001b[0;31mIndexError\u001b[0m                                Traceback (most recent call last)",
      "Cell \u001b[0;32mIn[7], line 1\u001b[0m\n\u001b[0;32m----> 1\u001b[0m d \u001b[38;5;241m=\u001b[39m \u001b[43mDDCASPT2\u001b[49m\u001b[43m(\u001b[49m\u001b[38;5;124;43m'\u001b[39;49m\u001b[38;5;124;43m./\u001b[39;49m\u001b[38;5;124;43m'\u001b[39;49m\u001b[43m,\u001b[49m\u001b[38;5;124;43m'\u001b[39;49m\u001b[38;5;124;43mANO-RCC-VDZP\u001b[39;49m\u001b[38;5;124;43m'\u001b[39;49m\u001b[43m,\u001b[49m\u001b[38;5;124;43m'\u001b[39;49m\u001b[38;5;124;43m1.40\u001b[39;49m\u001b[38;5;124;43m'\u001b[39;49m\u001b[43m,\u001b[49m\u001b[38;5;241;43m10\u001b[39;49m\u001b[43m,\u001b[49m\u001b[38;5;241;43m14\u001b[39;49m\u001b[43m,\u001b[49m\u001b[38;5;28;43;01mNone\u001b[39;49;00m\u001b[43m,\u001b[49m\u001b[43mCIROOT\u001b[49m\u001b[38;5;241;43m=\u001b[39;49m\u001b[38;5;124;43m\"\u001b[39;49m\u001b[38;5;124;43m3 3 1\u001b[39;49m\u001b[38;5;124;43m\"\u001b[39;49m\u001b[43m,\u001b[49m\u001b[43msymmetry\u001b[49m\u001b[38;5;241;43m=\u001b[39;49m\u001b[38;5;241;43m1\u001b[39;49m\u001b[43m,\u001b[49m\u001b[43mspin\u001b[49m\u001b[38;5;241;43m=\u001b[39;49m\u001b[38;5;241;43m4\u001b[39;49m\u001b[43m,\u001b[49m\u001b[43mUHF\u001b[49m\u001b[38;5;241;43m=\u001b[39;49m\u001b[38;5;28;43;01mTrue\u001b[39;49;00m\u001b[43m,\u001b[49m\u001b[43mcharge\u001b[49m\u001b[38;5;241;43m=\u001b[39;49m\u001b[38;5;241;43m2\u001b[39;49m\u001b[43m,\u001b[49m\u001b[43mclean\u001b[49m\u001b[38;5;241;43m=\u001b[39;49m\u001b[38;5;28;43;01mFalse\u001b[39;49;00m\u001b[43m,\u001b[49m\u001b[43mMSroots\u001b[49m\u001b[38;5;241;43m=\u001b[39;49m\u001b[38;5;241;43m3\u001b[39;49m\u001b[43m,\u001b[49m\u001b[43mn_jobs\u001b[49m\u001b[38;5;241;43m=\u001b[39;49m\u001b[38;5;241;43m-\u001b[39;49m\u001b[38;5;241;43m1\u001b[39;49m\u001b[43m)\u001b[49m\u001b[43m(\u001b[49m\u001b[43minputwrite\u001b[49m\u001b[38;5;241;43m=\u001b[39;49m\u001b[38;5;28;43;01mFalse\u001b[39;49;00m\u001b[43m,\u001b[49m\u001b[43mrun\u001b[49m\u001b[38;5;241;43m=\u001b[39;49m\u001b[38;5;28;43;01mFalse\u001b[39;49;00m\u001b[43m,\u001b[49m\u001b[43mfeat\u001b[49m\u001b[38;5;241;43m=\u001b[39;49m\u001b[38;5;28;43;01mTrue\u001b[39;49;00m\u001b[43m)\u001b[49m\n",
      "File \u001b[0;32m~/DDCASPT2/1.40/DDCASPT2.py:820\u001b[0m, in \u001b[0;36mDDCASPT2.__call__\u001b[0;34m(self, inputwrite, run, feat)\u001b[0m\n\u001b[1;32m    818\u001b[0m \u001b[38;5;28;01mif\u001b[39;00m feat\u001b[38;5;241m==\u001b[39m\u001b[38;5;28;01mTrue\u001b[39;00m:\n\u001b[1;32m    819\u001b[0m     \u001b[38;5;28mself\u001b[39m\u001b[38;5;241m.\u001b[39mwrite_energies()\n\u001b[0;32m--> 820\u001b[0m     \u001b[38;5;28;43mself\u001b[39;49m\u001b[38;5;241;43m.\u001b[39;49m\u001b[43mgen_feats\u001b[49m\u001b[43m(\u001b[49m\u001b[43m)\u001b[49m\n\u001b[1;32m    822\u001b[0m \u001b[38;5;28;01mif\u001b[39;00m \u001b[38;5;28mself\u001b[39m\u001b[38;5;241m.\u001b[39mclean:\n\u001b[1;32m    823\u001b[0m     \u001b[38;5;28mself\u001b[39m\u001b[38;5;241m.\u001b[39mdel_useless()\n",
      "File \u001b[0;32m~/DDCASPT2/1.40/DDCASPT2.py:772\u001b[0m, in \u001b[0;36mDDCASPT2.gen_feats\u001b[0;34m(self)\u001b[0m\n\u001b[1;32m    770\u001b[0m out \u001b[38;5;241m=\u001b[39m []\n\u001b[1;32m    771\u001b[0m \u001b[38;5;28;01mfor\u001b[39;00m i \u001b[38;5;129;01min\u001b[39;00m tqdm(\u001b[38;5;28mself\u001b[39m\u001b[38;5;241m.\u001b[39muniquepairs,desc\u001b[38;5;241m=\u001b[39m\u001b[38;5;124m\"\u001b[39m\u001b[38;5;124mFeatures\u001b[39m\u001b[38;5;124m\"\u001b[39m):\n\u001b[0;32m--> 772\u001b[0m     \u001b[38;5;28;43mself\u001b[39;49m\u001b[38;5;241;43m.\u001b[39;49m\u001b[43mparallel_feat\u001b[49m\u001b[43m(\u001b[49m\u001b[43mi\u001b[49m\u001b[43m)\u001b[49m\n\u001b[1;32m    774\u001b[0m \u001b[38;5;66;03m# else:\u001b[39;00m\n\u001b[1;32m    775\u001b[0m \u001b[38;5;66;03m#     outpar=Parallel(n_jobs=self.n_jobs)(delayed(self.parallel_feat)(i) for i in tqdm(self.uniquepairs,desc=\"Features\"))\u001b[39;00m\n\u001b[1;32m    776\u001b[0m \u001b[38;5;66;03m#     for i in outpar:\u001b[39;00m\n\u001b[0;32m   (...)\u001b[0m\n\u001b[1;32m    789\u001b[0m \u001b[38;5;66;03m#     self.two_el_feats = sum(self.two_el_feats,[])\u001b[39;00m\n\u001b[1;32m    790\u001b[0m \u001b[38;5;66;03m#     self.pairenergylist = sum(self.pairenergylist,[])\u001b[39;00m\n\u001b[1;32m    796\u001b[0m \u001b[38;5;28mself\u001b[39m\u001b[38;5;241m.\u001b[39mgen_df(msr)\n",
      "File \u001b[0;32m~/DDCASPT2/1.40/DDCASPT2.py:590\u001b[0m, in \u001b[0;36mDDCASPT2.parallel_feat\u001b[0;34m(self, uniquepair)\u001b[0m\n\u001b[1;32m    588\u001b[0m v_item, v_idx \u001b[38;5;241m=\u001b[39m pqrsindex_dict[v]\n\u001b[1;32m    589\u001b[0m \u001b[38;5;28;01mif\u001b[39;00m u_idx\u001b[38;5;241m>\u001b[39m\u001b[38;5;241m=\u001b[39mv_idx:\n\u001b[0;32m--> 590\u001b[0m     \u001b[38;5;28mself\u001b[39m\u001b[38;5;241m.\u001b[39mh_features\u001b[38;5;241m.\u001b[39mappend((uniquepair,\u001b[38;5;124m\"\u001b[39m\u001b[38;5;124mh$_\u001b[39m\u001b[38;5;124m{\u001b[39m\u001b[38;5;124m\"\u001b[39m\u001b[38;5;241m+\u001b[39m\u001b[38;5;124mf\u001b[39m\u001b[38;5;124m\"\u001b[39m\u001b[38;5;132;01m{\u001b[39;00mu\u001b[38;5;132;01m}\u001b[39;00m\u001b[38;5;132;01m{\u001b[39;00mv\u001b[38;5;132;01m}\u001b[39;00m\u001b[38;5;124m\"\u001b[39m\u001b[38;5;241m+\u001b[39m\u001b[38;5;124m\"\u001b[39m\u001b[38;5;124m}^\u001b[39m\u001b[38;5;124m{\u001b[39m\u001b[38;5;124m\"\u001b[39m\u001b[38;5;241m+\u001b[39m\u001b[38;5;124mf\u001b[39m\u001b[38;5;124m\"\u001b[39m\u001b[38;5;132;01m{\u001b[39;00mb4idx\u001b[38;5;132;01m}\u001b[39;00m\u001b[38;5;124m\"\u001b[39m\u001b[38;5;241m+\u001b[39m\u001b[38;5;124m\"\u001b[39m\u001b[38;5;124m}$\u001b[39m\u001b[38;5;124m\"\u001b[39m,\u001b[38;5;28;43mself\u001b[39;49m\u001b[38;5;241;43m.\u001b[39;49m\u001b[43mh_stacked\u001b[49m\u001b[43m[\u001b[49m\u001b[43m(\u001b[49m\u001b[38;5;28;43mself\u001b[39;49m\u001b[38;5;241;43m.\u001b[39;49m\u001b[43moneelint_idx\u001b[49m\u001b[43m[\u001b[49m\u001b[43m:\u001b[49m\u001b[43m,\u001b[49m\u001b[38;5;241;43m0\u001b[39;49m\u001b[43m]\u001b[49m\u001b[38;5;241;43m==\u001b[39;49m\u001b[43mu_idx\u001b[49m\u001b[43m)\u001b[49m\u001b[38;5;241;43m&\u001b[39;49m\u001b[43m(\u001b[49m\u001b[38;5;28;43mself\u001b[39;49m\u001b[38;5;241;43m.\u001b[39;49m\u001b[43moneelint_idx\u001b[49m\u001b[43m[\u001b[49m\u001b[43m:\u001b[49m\u001b[43m,\u001b[49m\u001b[38;5;241;43m1\u001b[39;49m\u001b[43m]\u001b[49m\u001b[38;5;241;43m==\u001b[39;49m\u001b[43mv_idx\u001b[49m\u001b[43m)\u001b[49m\u001b[43m]\u001b[49m\u001b[38;5;241;43m.\u001b[39;49m\u001b[43mflatten\u001b[49m\u001b[43m(\u001b[49m\u001b[43m)\u001b[49m\u001b[43m[\u001b[49m\u001b[38;5;241;43m-\u001b[39;49m\u001b[38;5;241;43m1\u001b[39;49m\u001b[43m]\u001b[49m))     \n\u001b[1;32m    591\u001b[0m \u001b[38;5;28;01melse\u001b[39;00m:\n\u001b[1;32m    592\u001b[0m     \u001b[38;5;28mself\u001b[39m\u001b[38;5;241m.\u001b[39mh_features\u001b[38;5;241m.\u001b[39mappend((uniquepair,\u001b[38;5;124m\"\u001b[39m\u001b[38;5;124mh$_\u001b[39m\u001b[38;5;124m{\u001b[39m\u001b[38;5;124m\"\u001b[39m\u001b[38;5;241m+\u001b[39m\u001b[38;5;124mf\u001b[39m\u001b[38;5;124m\"\u001b[39m\u001b[38;5;132;01m{\u001b[39;00mu\u001b[38;5;132;01m}\u001b[39;00m\u001b[38;5;132;01m{\u001b[39;00mv\u001b[38;5;132;01m}\u001b[39;00m\u001b[38;5;124m\"\u001b[39m\u001b[38;5;241m+\u001b[39m\u001b[38;5;124m\"\u001b[39m\u001b[38;5;124m}^\u001b[39m\u001b[38;5;124m{\u001b[39m\u001b[38;5;124m\"\u001b[39m\u001b[38;5;241m+\u001b[39m\u001b[38;5;124mf\u001b[39m\u001b[38;5;124m\"\u001b[39m\u001b[38;5;132;01m{\u001b[39;00mb4idx\u001b[38;5;132;01m}\u001b[39;00m\u001b[38;5;124m\"\u001b[39m\u001b[38;5;241m+\u001b[39m\u001b[38;5;124m\"\u001b[39m\u001b[38;5;124m}$\u001b[39m\u001b[38;5;124m\"\u001b[39m,\u001b[38;5;28mself\u001b[39m\u001b[38;5;241m.\u001b[39mh_stacked[(\u001b[38;5;28mself\u001b[39m\u001b[38;5;241m.\u001b[39moneelint_idx[:,\u001b[38;5;241m0\u001b[39m]\u001b[38;5;241m==\u001b[39mv_idx)\u001b[38;5;241m&\u001b[39m(\u001b[38;5;28mself\u001b[39m\u001b[38;5;241m.\u001b[39moneelint_idx[:,\u001b[38;5;241m1\u001b[39m]\u001b[38;5;241m==\u001b[39mu_idx)]\u001b[38;5;241m.\u001b[39mflatten()[\u001b[38;5;241m-\u001b[39m\u001b[38;5;241m1\u001b[39m]))\n",
      "\u001b[0;31mIndexError\u001b[0m: index -1 is out of bounds for axis 0 with size 0"
     ]
    }
   ],
   "source": [
    "d = DDCASPT2('./','ANO-RCC-VDZP','1.40',10,14,None,CIROOT=\"3 3 1\",symmetry=1,spin=4,UHF=True,charge=2,clean=False,MSroots=3,n_jobs=-1)(inputwrite=False,run=False,feat=True)"
   ]
  },
  {
   "cell_type": "code",
   "execution_count": null,
   "id": "f5263624-268b-4998-aa4b-c22a87236a55",
   "metadata": {},
   "outputs": [],
   "source": []
  }
 ],
 "metadata": {
  "kernelspec": {
   "display_name": "Python 3 (ipykernel)",
   "language": "python",
   "name": "python3"
  },
  "language_info": {
   "codemirror_mode": {
    "name": "ipython",
    "version": 3
   },
   "file_extension": ".py",
   "mimetype": "text/x-python",
   "name": "python",
   "nbconvert_exporter": "python",
   "pygments_lexer": "ipython3",
   "version": "3.10.4"
  }
 },
 "nbformat": 4,
 "nbformat_minor": 5
}
