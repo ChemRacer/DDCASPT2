{
 "cells": [
  {
   "cell_type": "code",
   "execution_count": 2,
   "id": "f7c02e65-b821-44d5-a3a3-4736baf8bd74",
   "metadata": {},
   "outputs": [],
   "source": [
    "from glob import glob \n",
    "import pandas as pd\n",
    "import os"
   ]
  },
  {
   "cell_type": "markdown",
   "id": "b461d1bf-dda1-49f8-af33-21ab00fcfed2",
   "metadata": {},
   "source": [
    "# Print model parameters"
   ]
  },
  {
   "cell_type": "code",
   "execution_count": 26,
   "id": "2c198c4a-98cd-45a9-ba8e-a227dbad32e8",
   "metadata": {},
   "outputs": [
    {
     "name": "stdout",
     "output_type": "stream",
     "text": [
      "\\begin{tabular}{ll}\n",
      "\\toprule\n",
      " & H$_{2n}$ \\\\\n",
      "\\midrule\n",
      "objective & reg:squarederror \\\\\n",
      "enable_categorical & False \\\\\n",
      "max_depth & 10 \\\\\n",
      "n_estimators & 100 \\\\\n",
      "reg_alpha & 1.0000e-06 \\\\\n",
      "reg_lambda & 1.0000e-03 \\\\\n",
      "\\bottomrule\n",
      "\\end{tabular}\n",
      "\n"
     ]
    }
   ],
   "source": [
    "print(pd.read_excel('hydrogen_comps/H2n_params.xlsx',index_col=0).rename(columns={0:\"H$_{2n}$\"}).to_latex(float_format=\"%.4e\"))"
   ]
  },
  {
   "cell_type": "code",
   "execution_count": 27,
   "id": "80029c3a-23e6-469f-8c23-e8929a2ab60d",
   "metadata": {},
   "outputs": [
    {
     "name": "stdout",
     "output_type": "stream",
     "text": [
      "\\begin{tabular}{llll}\n",
      "\\toprule\n",
      " & O$_{3}$ (MB) & O$_{3}$ (VDZP) & O$_{3}$ (VTZP) \\\\\n",
      "\\midrule\n",
      "objective & reg:squarederror & reg:squarederror & reg:squarederror \\\\\n",
      "enable_categorical & False & False & False \\\\\n",
      "max_depth & 10 & 100 & 10 \\\\\n",
      "n_estimators & 100 & 100 & 100 \\\\\n",
      "reg_alpha & 1.0000e-03 & 1.0000e-01 & 1.0000e-03 \\\\\n",
      "reg_lambda & 1.0000e-01 & 1.0000e-03 & 1.0000e-03 \\\\\n",
      "\\bottomrule\n",
      "\\end{tabular}\n",
      "\n"
     ]
    }
   ],
   "source": [
    "print(pd.concat([pd.read_excel(i,index_col=0).rename(columns={0:\"O$_{3}$\"+f\" ({i.split('_')[1]})\"}) for i in glob(\"ozone/ozone_*_params.xlsx\") if 'original' not in i],axis=1).sort_index(axis=1).to_latex(float_format=\"%.4e\"))"
   ]
  },
  {
   "cell_type": "code",
   "execution_count": 28,
   "id": "02e09824-8bbd-43df-a271-36f449b176eb",
   "metadata": {},
   "outputs": [
    {
     "name": "stdout",
     "output_type": "stream",
     "text": [
      "\\begin{tabular}{ll}\n",
      "\\toprule\n",
      " & FeO$^{2+}$ \\\\\n",
      "\\midrule\n",
      "objective & reg:squarederror \\\\\n",
      "enable_categorical & False \\\\\n",
      "max_depth & 100 \\\\\n",
      "n_estimators & 100 \\\\\n",
      "reg_alpha & 1.0000e-03 \\\\\n",
      "reg_lambda & 1.0000e-01 \\\\\n",
      "\\bottomrule\n",
      "\\end{tabular}\n",
      "\n"
     ]
    }
   ],
   "source": [
    "print(pd.read_excel(\"iron_oxo_DDCASPT2/iron_VDZP_params.xlsx\",index_col=0).rename(columns={0:\"FeO$^{2+}$\"}).to_latex(float_format=\"%.4e\"))"
   ]
  },
  {
   "cell_type": "code",
   "execution_count": 30,
   "id": "a4a183b9-dfdc-4ca3-8fea-1afec4479126",
   "metadata": {},
   "outputs": [
    {
     "name": "stdout",
     "output_type": "stream",
     "text": [
      "\\begin{tabular}{ll}\n",
      "\\toprule\n",
      " & MS(3)-CASPT2 O$_{3}$ All \\\\\n",
      "\\midrule\n",
      "objective & reg:squarederror \\\\\n",
      "enable_categorical & False \\\\\n",
      "max_depth & 100 \\\\\n",
      "n_estimators & 100 \\\\\n",
      "reg_alpha & 1.0000e-03 \\\\\n",
      "reg_lambda & 1.0000e-03 \\\\\n",
      "\\bottomrule\n",
      "\\end{tabular}\n",
      "\n"
     ]
    }
   ],
   "source": [
    "print(pd.read_excel('ozone/multistate/ozone_VTZP_MS_ALL_90_10_split_params.xlsx',index_col=0).rename(columns={0:\"MS(3)-CASPT2 O$_{3}$ All\"}).to_latex(float_format=\"%.4e\"))"
   ]
  },
  {
   "cell_type": "code",
   "execution_count": 36,
   "id": "16dfe9de-9a14-4180-befb-81d0e203f7fe",
   "metadata": {},
   "outputs": [
    {
     "name": "stdout",
     "output_type": "stream",
     "text": [
      "\\begin{tabular}{llll}\n",
      "\\toprule\n",
      " & O$_{3}$ ($1^{1}A)$ & O$_{3}$ ($2^{1}A$) & O$_{3}$ ($3^{1}A$) \\\\\n",
      "\\midrule\n",
      "objective & reg:squarederror & reg:squarederror & reg:squarederror \\\\\n",
      "enable_categorical & False & False & False \\\\\n",
      "max_depth & 100 & 10 & 10 \\\\\n",
      "n_estimators & 100 & 100 & 100 \\\\\n",
      "reg_alpha & 1.0000e-03 & 1.0000e-06 & 1.0000e-06 \\\\\n",
      "reg_lambda & 1.0000e-03 & 1.0000e-01 & 1.0000e-01 \\\\\n",
      "\\bottomrule\n",
      "\\end{tabular}\n",
      "\n"
     ]
    }
   ],
   "source": [
    "print(pd.concat([pd.read_excel(\"ozone/multistate/ozone_VTZP_MS_1_90_10_split_params.xlsx\",index_col=0).rename(columns={0:\"O$_{3}$ ($1^{1}A)$\"}),pd.read_excel(\"ozone/multistate/ozone_VTZP_MS_2_70_30_params.xlsx\",index_col=0).rename(columns={0:\"O$_{3}$ ($2^{1}A$)\"}),pd.read_excel(\"ozone/multistate/ozone_VTZP_MS_3_70_30_params.xlsx\",index_col=0).rename(columns={0:\"O$_{3}$ ($3^{1}A$)\"})],axis=1).to_latex(float_format=\"%.4e\"))"
   ]
  },
  {
   "cell_type": "code",
   "execution_count": null,
   "id": "c05ea7e4-a1d2-4f5f-a27f-73071b1344e3",
   "metadata": {},
   "outputs": [],
   "source": []
  }
 ],
 "metadata": {
  "kernelspec": {
   "display_name": "Python 3 (ipykernel)",
   "language": "python",
   "name": "python3"
  },
  "language_info": {
   "codemirror_mode": {
    "name": "ipython",
    "version": 3
   },
   "file_extension": ".py",
   "mimetype": "text/x-python",
   "name": "python",
   "nbconvert_exporter": "python",
   "pygments_lexer": "ipython3",
   "version": "3.10.4"
  }
 },
 "nbformat": 4,
 "nbformat_minor": 5
}
