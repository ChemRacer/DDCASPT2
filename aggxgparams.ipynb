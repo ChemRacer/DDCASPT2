{
 "cells": [
  {
   "cell_type": "code",
   "execution_count": null,
   "id": "f7c02e65-b821-44d5-a3a3-4736baf8bd74",
   "metadata": {},
   "outputs": [],
   "source": [
    "from glob import glob \n",
    "import pandas as pd\n",
    "import os"
   ]
  },
  {
   "cell_type": "code",
   "execution_count": null,
   "id": "9ab20ec2-1897-4e68-a327-c15d59d2880e",
   "metadata": {},
   "outputs": [],
   "source": [
    "data = sorted([i for i in glob('*/*_params.xlsx') if 'joint' not in i and \"original\" not in i and 'H2n_VDZP' not in i])"
   ]
  },
  {
   "cell_type": "code",
   "execution_count": null,
   "id": "36bec8a8-1ddf-46f1-952b-094ad496e10f",
   "metadata": {},
   "outputs": [],
   "source": [
    "pd.concat([pd.read_excel(i,index_col=0).rename(columns={0:os.path.basename(i).replace('_params.xlsx','').replace('_',' ')}) for i in data],axis=1).to_csv('xgboost_params.csv')"
   ]
  },
  {
   "cell_type": "code",
   "execution_count": null,
   "id": "fe25dbe9-206b-4438-950b-40b7ab09c9a7",
   "metadata": {},
   "outputs": [],
   "source": [
    "pd.concat([pd.read_excel(i,index_col=0).rename(columns={0:os.path.basename(i).replace('_params.xlsx','').replace('_',' ')}) for i in data],axis=1).to_excel('xgboost_params.xlsx')"
   ]
  },
  {
   "cell_type": "code",
   "execution_count": null,
   "id": "ec7f91df-5539-428c-9e05-56aa84145266",
   "metadata": {},
   "outputs": [],
   "source": [
    "pd.read_excel('xgboost_params.xlsx',index_col=0)"
   ]
  },
  {
   "cell_type": "code",
   "execution_count": null,
   "id": "02e09824-8bbd-43df-a271-36f449b176eb",
   "metadata": {},
   "outputs": [],
   "source": []
  },
  {
   "cell_type": "code",
   "execution_count": null,
   "id": "01829402-50c4-4da2-85dd-92ea25b68af2",
   "metadata": {},
   "outputs": [],
   "source": []
  }
 ],
 "metadata": {
  "kernelspec": {
   "display_name": "Python 3 (ipykernel)",
   "language": "python",
   "name": "python3"
  },
  "language_info": {
   "codemirror_mode": {
    "name": "ipython",
    "version": 3
   },
   "file_extension": ".py",
   "mimetype": "text/x-python",
   "name": "python",
   "nbconvert_exporter": "python",
   "pygments_lexer": "ipython3",
   "version": "3.10.4"
  }
 },
 "nbformat": 4,
 "nbformat_minor": 5
}
