{
 "cells": [
  {
   "cell_type": "code",
   "execution_count": 1,
   "id": "f7c02e65-b821-44d5-a3a3-4736baf8bd74",
   "metadata": {},
   "outputs": [],
   "source": [
    "from glob import glob \n",
    "import pandas as pd\n",
    "import os"
   ]
  },
  {
   "cell_type": "code",
   "execution_count": 6,
   "id": "36bec8a8-1ddf-46f1-952b-094ad496e10f",
   "metadata": {},
   "outputs": [],
   "source": [
    "pd.concat([pd.read_excel(i,index_col=0).rename(columns={0:os.path.basename(i).replace('_params.xlsx','').replace('_',' ')}) for i in glob('*/*_params.xlsx')],axis=1).to_csv('xgboost_params.csv')"
   ]
  },
  {
   "cell_type": "code",
   "execution_count": 7,
   "id": "fe25dbe9-206b-4438-950b-40b7ab09c9a7",
   "metadata": {},
   "outputs": [],
   "source": [
    "pd.concat([pd.read_excel(i,index_col=0).rename(columns={0:os.path.basename(i).replace('_params.xlsx','').replace('_',' ')}) for i in glob('*/*_params.xlsx')],axis=1).to_excel('xgboost_params.xlsx')"
   ]
  },
  {
   "cell_type": "code",
   "execution_count": null,
   "id": "ec7f91df-5539-428c-9e05-56aa84145266",
   "metadata": {},
   "outputs": [],
   "source": []
  }
 ],
 "metadata": {
  "kernelspec": {
   "display_name": "Python 3 (ipykernel)",
   "language": "python",
   "name": "python3"
  },
  "language_info": {
   "codemirror_mode": {
    "name": "ipython",
    "version": 3
   },
   "file_extension": ".py",
   "mimetype": "text/x-python",
   "name": "python",
   "nbconvert_exporter": "python",
   "pygments_lexer": "ipython3",
   "version": "3.10.4"
  }
 },
 "nbformat": 4,
 "nbformat_minor": 5
}
