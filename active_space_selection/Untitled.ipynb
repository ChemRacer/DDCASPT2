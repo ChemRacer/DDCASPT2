{
 "cells": [
  {
   "cell_type": "code",
   "execution_count": null,
   "id": "951ecc8d-44ee-4aa4-ab15-7762f5360813",
   "metadata": {},
   "outputs": [],
   "source": [
    "import sys\n",
    "# !{sys.executable} -m pip install jupyter_jsmol\n",
    "# Suppress PySCF warning...\n",
    "import pyscf\n",
    "pyscf.__config__.B3LYP_WITH_VWN5 = False\n",
    "from pathlib import Path\n",
    "from pyscf.gto import Mole\n",
    "from pyscf.lib import logger\n",
    "# Wrapper functions to perform selection for variable and fixed active space sizes\n",
    "from asf.wrapper import find_from_mol, find_from_scf, sized_space_from_mol, sized_space_from_scf\n",
    "\n",
    "# Various utility functions...\n",
    "from asf.utility import compare_active_spaces, show_mos_grid, pictures_Jmol\n",
    "from pyscf import gto, mp, mcscf, mrpt, dmrgscf\n",
    "\n",
    "# Functionality for (state-averaged) CASSCF.\n",
    "from pyscf.mcscf import CASSCF, state_average_mix\n",
    "from pyscf.fci.direct_spin1 import FCISolver\n",
    "from pyscf.fci.addons import fix_spin\n"
   ]
  },
  {
   "cell_type": "code",
   "execution_count": null,
   "id": "aa1b55ba-98eb-4790-8bd7-803bcaca2a5f",
   "metadata": {},
   "outputs": [],
   "source": [
    "# ethene_geometry = \"\"\"\n",
    "#     C        0.6695      0.0000      0.0000\n",
    "#     C       -0.6695      0.0000      0.0000\n",
    "#     H        1.2320      0.0000     -0.9289\n",
    "#     H        1.2320      0.0000      0.9289\n",
    "#     H       -1.2320      0.0000      0.9289\n",
    "#     H       -1.2320      0.0000     -0.9289\n",
    "# \"\"\"\n",
    "\n",
    "iron_geometry = \"\"\"\n",
    "O      2.09945   -0.20712   -0.06955\n",
    "H      2.65808   -0.11922   -0.85974\n",
    "H      2.66428   -0.52573    0.65202\n",
    "O      0.04751    0.32344   -1.70791\n",
    "O     -2.09702    0.08054   -0.09941\n",
    "N      0.13864    2.10970    0.23028\n",
    "O     -0.16040   -2.04758   -0.25208\n",
    "O     -0.05207   -0.35287    1.90361\n",
    "H     -2.69555   -0.01745    0.65788\n",
    "H     -2.63984    0.28975   -0.87742\n",
    "H     -0.14720    2.62871   -0.60801\n",
    "H      1.10480    2.39390    0.42897\n",
    "H     -0.98651   -2.36883   -0.65341\n",
    "H      0.54518   -2.50373   -0.74261\n",
    "H     -0.11214   -1.27936    2.18843\n",
    "H      0.12164    0.17676    2.69663\n",
    "Fe     0.01013    0.06693   -0.14210\n",
    "H     -0.44640    2.44594    1.00267\n",
    "\n",
    "\"\"\"\n",
    "# mol = Mole(atom=iron_geometry, basis=\"anorcc\", charge=2, spin=2, verbose=logger.NOTE).build()\n",
    "mol = Mole(atom=iron_geometry, basis=\"anorcc\", charge=2, spin=2, verbose=logger.INFO).build()\n"
   ]
  },
  {
   "cell_type": "code",
   "execution_count": null,
   "id": "a3947669-620b-462c-88e1-cf05fe63a801",
   "metadata": {},
   "outputs": [],
   "source": [
    "logger.INFO"
   ]
  },
  {
   "cell_type": "code",
   "execution_count": null,
   "id": "3788cd0c-0643-4dc6-9f7c-11ba07c59e44",
   "metadata": {},
   "outputs": [],
   "source": [
    "# Determine an active space with four orbitals.\n",
    "active_space = sized_space_from_mol(mol, size=(18,12))\n",
    "# Find one active space.\n",
    "# active_space = find_from_mol(mol)"
   ]
  },
  {
   "cell_type": "code",
   "execution_count": null,
   "id": "8a346bfc-8ea9-4513-88ef-7ecbf76ac49b",
   "metadata": {},
   "outputs": [],
   "source": [
    "print(active_space)"
   ]
  },
  {
   "cell_type": "code",
   "execution_count": null,
   "id": "6f713ea1-9aab-4e10-bb09-494fb90dca96",
   "metadata": {},
   "outputs": [],
   "source": [
    "active_space.norb"
   ]
  },
  {
   "cell_type": "code",
   "execution_count": null,
   "id": "775c308a-c4e7-42d0-ad6f-8cd6ae591443",
   "metadata": {},
   "outputs": [],
   "source": [
    "# pictures_Jmol(\n",
    "#     mol=mol, mo_coeff=active_space.mo_coeff, mo_list=active_space.mo_list, mo_index_title=\" \"\n",
    "# )\n",
    "# mo_images = sorted(dd for dd in Path.cwd().glob(\"mo_*.png\"))\n",
    "# show_mos_grid(mo_images, mo_list=active_space.mo_list, columns=3, figsize=(10, 10))\n",
    "# # clean up files\n",
    "# for filename in mo_images:\n",
    "#     Path.unlink(filename)"
   ]
  },
  {
   "cell_type": "code",
   "execution_count": null,
   "id": "e1dde6b1-9913-4ddb-89a8-9ce427789c58",
   "metadata": {},
   "outputs": [],
   "source": [
    "mc = CASSCF(mol, ncas=active_space.norb, nelecas=active_space.nel)\n",
    "# Before carrying out the CASSCF calculation, the orbital coefficient matrix columns need to be\n",
    "# ordered as core - active - virtual from left to right.\n",
    "# Take care - by default, sort_mo assumes that the MO list starts indexing from one, not from zero.\n",
    "mo_guess = mc.sort_mo(active_space.mo_list, active_space.mo_coeff, base=0)\n",
    "_ = mc.kernel(mo_coeff=mo_guess)"
   ]
  },
  {
   "cell_type": "code",
   "execution_count": null,
   "id": "cccfa826-354b-4414-956d-d09a41862417",
   "metadata": {},
   "outputs": [],
   "source": [
    "compare_active_spaces(mc, active_space.mo_coeff, active_space.mo_list)"
   ]
  },
  {
   "cell_type": "code",
   "execution_count": null,
   "id": "b72e9e31-25cb-4978-9527-6be65f75cf5f",
   "metadata": {},
   "outputs": [],
   "source": []
  }
 ],
 "metadata": {
  "kernelspec": {
   "display_name": "Python 3 (ipykernel)",
   "language": "python",
   "name": "python3"
  },
  "language_info": {
   "codemirror_mode": {
    "name": "ipython",
    "version": 3
   },
   "file_extension": ".py",
   "mimetype": "text/x-python",
   "name": "python",
   "nbconvert_exporter": "python",
   "pygments_lexer": "ipython3",
   "version": "3.10.4"
  }
 },
 "nbformat": 4,
 "nbformat_minor": 5
}
