{
 "cells": [
  {
   "cell_type": "code",
   "execution_count": 1,
   "id": "951ecc8d-44ee-4aa4-ab15-7762f5360813",
   "metadata": {},
   "outputs": [],
   "source": [
    "import sys\n",
    "# !{sys.executable} -m pip install jupyter_jsmol\n",
    "# Suppress PySCF warning...\n",
    "import pyscf\n",
    "pyscf.__config__.B3LYP_WITH_VWN5 = False\n",
    "from pathlib import Path\n",
    "from pyscf.gto import Mole\n",
    "from pyscf.lib import logger\n",
    "# Wrapper functions to perform selection for variable and fixed active space sizes\n",
    "from asf.wrapper import find_from_mol, find_from_scf, sized_space_from_mol, sized_space_from_scf\n",
    "\n",
    "# Various utility functions...\n",
    "from asf.utility import compare_active_spaces, show_mos_grid, pictures_Jmol\n",
    "from pyscf import gto, mp, mcscf, mrpt, dmrgscf\n",
    "\n",
    "# Functionality for (state-averaged) CASSCF.\n",
    "from pyscf.mcscf import CASSCF, state_average_mix\n",
    "from pyscf.fci.direct_spin1 import FCISolver\n",
    "from pyscf.fci.addons import fix_spin\n"
   ]
  },
  {
   "cell_type": "code",
   "execution_count": 2,
   "id": "aa1b55ba-98eb-4790-8bd7-803bcaca2a5f",
   "metadata": {},
   "outputs": [
    {
     "name": "stdout",
     "output_type": "stream",
     "text": [
      "System: uname_result(system='Linux', node='debian', release='6.9.7-amd64', version='#1 SMP PREEMPT_DYNAMIC Debian 6.9.7-1 (2024-06-27)', machine='x86_64')  Threads 16\n",
      "Python 3.10.4 (main, Mar 31 2022, 08:41:55) [GCC 7.5.0]\n",
      "numpy 1.22.4  scipy 1.7.3  h5py 3.11.0\n",
      "Date: Thu Aug 15 12:58:18 2024\n",
      "PySCF version 2.6.2\n",
      "PySCF path  /home/grierjones/miniconda3/envs/DDGNN/lib/python3.10/site-packages/pyscf\n",
      "\n",
      "[CONFIG] conf_file None\n",
      "[INPUT] verbose = 4\n",
      "[INPUT] num. atoms = 18\n",
      "[INPUT] num. electrons = 82\n",
      "[INPUT] charge = 2\n",
      "[INPUT] spin (= nelec alpha-beta = 2S) = 2\n",
      "[INPUT] symmetry False subgroup None\n",
      "[INPUT] Mole.unit = angstrom\n",
      "[INPUT] Symbol           X                Y                Z      unit          X                Y                Z       unit  Magmom\n",
      "[INPUT]  1 O      2.099450000000  -0.207120000000  -0.069550000000 AA    3.967385512218  -0.391400074920  -0.131430451964 Bohr   0.0\n",
      "[INPUT]  2 H      2.658080000000  -0.119220000000  -0.859740000000 AA    5.023043217184  -0.225293148571  -1.624673138334 Bohr   0.0\n",
      "[INPUT]  3 H      2.664280000000  -0.525730000000   0.652020000000 AA    5.034759519156  -0.993485715468   1.232139227739 Bohr   0.0\n",
      "[INPUT]  4 O      0.047510000000   0.323440000000  -1.707910000000 AA    0.089780888178   0.611213017729  -3.227482145406 Bohr   0.0\n",
      "[INPUT]  5 O     -2.097020000000   0.080540000000  -0.099410000000 AA   -3.962793477735   0.152198542072  -0.187857674043 Bohr   0.0\n",
      "[INPUT]  6 N      0.138640000000   2.109700000000   0.230280000000 AA    0.261991629910   3.986755204995   0.435166131965 Bohr   0.0\n",
      "[INPUT]  7 O     -0.160400000000  -2.047580000000  -0.252080000000 AA   -0.303112070380  -3.869365418137  -0.476362161480 Bohr   0.0\n",
      "[INPUT]  8 O     -0.052070000000  -0.352870000000   1.903610000000 AA   -0.098398039306  -0.666827657575   3.597301547983 Bohr   0.0\n",
      "[INPUT]  9 H     -2.695550000000  -0.017450000000   0.657880000000 AA   -5.093851255071  -0.032975720874   1.243213022829 Bohr   0.0\n",
      "[INPUT] 10 H     -2.639840000000   0.289750000000  -0.877420000000 AA   -4.988574612672   0.547548144593  -1.658083496216 Bohr   0.0\n",
      "[INPUT] 11 H     -0.147200000000   2.628710000000  -0.608010000000 AA   -0.278167685536   4.967541960905  -1.148972380997 Bohr   0.0\n",
      "[INPUT] 12 H      1.104800000000   2.393900000000   0.428970000000 AA    2.087769422419   4.523815369596   0.810635815655 Bohr   0.0\n",
      "[INPUT] 13 H     -0.986510000000  -2.368830000000  -0.653410000000 AA   -1.864233719145  -4.476439935653  -1.234765947052 Bohr   0.0\n",
      "[INPUT] 14 H      0.545180000000  -2.503730000000  -0.742610000000 AA    1.030240888590  -4.731363989857  -1.403329517363 Bohr   0.0\n",
      "[INPUT] 15 H     -0.112140000000  -1.279360000000   2.188430000000 AA   -0.211913887609  -2.417640014724   4.135533342782 Bohr   0.0\n",
      "[INPUT] 16 H      0.121640000000   0.176760000000   2.696630000000 AA    0.229866285792   0.334027989778   5.095892159286 Bohr   0.0\n",
      "[INPUT] 17 Fe     0.010130000000   0.066930000000  -0.142100000000 AA    0.019142925642   0.126479369517  -0.268530082301 Bohr   0.0\n",
      "[INPUT] 18 H     -0.446400000000   2.445940000000   1.002670000000 AA   -0.843573742006   4.622156717119   1.894771693318 Bohr   0.0\n",
      "\n",
      "nuclear repulsion = 660.950982785404\n",
      "number of shells = 80\n",
      "number of NR pGTOs = 1278\n",
      "number of NR cGTOs = 1145\n",
      "basis = anorcc\n",
      "ecp = {}\n",
      "CPU time:         1.42\n"
     ]
    }
   ],
   "source": [
    "# ethene_geometry = \"\"\"\n",
    "#     C        0.6695      0.0000      0.0000\n",
    "#     C       -0.6695      0.0000      0.0000\n",
    "#     H        1.2320      0.0000     -0.9289\n",
    "#     H        1.2320      0.0000      0.9289\n",
    "#     H       -1.2320      0.0000      0.9289\n",
    "#     H       -1.2320      0.0000     -0.9289\n",
    "# \"\"\"\n",
    "\n",
    "iron_geometry = \"\"\"\n",
    "O      2.09945   -0.20712   -0.06955\n",
    "H      2.65808   -0.11922   -0.85974\n",
    "H      2.66428   -0.52573    0.65202\n",
    "O      0.04751    0.32344   -1.70791\n",
    "O     -2.09702    0.08054   -0.09941\n",
    "N      0.13864    2.10970    0.23028\n",
    "O     -0.16040   -2.04758   -0.25208\n",
    "O     -0.05207   -0.35287    1.90361\n",
    "H     -2.69555   -0.01745    0.65788\n",
    "H     -2.63984    0.28975   -0.87742\n",
    "H     -0.14720    2.62871   -0.60801\n",
    "H      1.10480    2.39390    0.42897\n",
    "H     -0.98651   -2.36883   -0.65341\n",
    "H      0.54518   -2.50373   -0.74261\n",
    "H     -0.11214   -1.27936    2.18843\n",
    "H      0.12164    0.17676    2.69663\n",
    "Fe     0.01013    0.06693   -0.14210\n",
    "H     -0.44640    2.44594    1.00267\n",
    "\n",
    "\"\"\"\n",
    "# mol = Mole(atom=iron_geometry, basis=\"anorcc\", charge=2, spin=2, verbose=logger.NOTE).build()\n",
    "mol = Mole(atom=iron_geometry, basis=\"anorcc\", charge=2, spin=2, verbose=logger.INFO).build()\n"
   ]
  },
  {
   "cell_type": "code",
   "execution_count": 3,
   "id": "a3947669-620b-462c-88e1-cf05fe63a801",
   "metadata": {},
   "outputs": [
    {
     "data": {
      "text/plain": [
       "4"
      ]
     },
     "execution_count": 3,
     "metadata": {},
     "output_type": "execute_result"
    }
   ],
   "source": [
    "logger.INFO"
   ]
  },
  {
   "cell_type": "code",
   "execution_count": null,
   "id": "3788cd0c-0643-4dc6-9f7c-11ba07c59e44",
   "metadata": {},
   "outputs": [
    {
     "name": "stdout",
     "output_type": "stream",
     "text": [
      "\n",
      "--------------------------------------------------------------------------------\n",
      "Calculating UHF orbitals\n",
      "--------------------------------------------------------------------------------\n",
      "\n",
      "-> Initiating a UHF calculation.\n",
      "\n",
      "\n",
      "******** <class 'pyscf.scf.uhf.UHF'> ********\n",
      "method = UHF\n",
      "initial guess = minao\n",
      "damping factor = 0\n",
      "level_shift factor = 0\n",
      "DIIS = <class 'pyscf.scf.diis.CDIIS'>\n",
      "diis_start_cycle = 1\n",
      "diis_space = 8\n",
      "diis_damp = 0\n",
      "SCF conv_tol = 1e-09\n",
      "SCF conv_tol_grad = None\n",
      "SCF max_cycles = 50\n",
      "direct_scf = True\n",
      "direct_scf_tol = 1e-13\n",
      "chkfile to save SCF result = /tmp/tmp93t4geh9\n",
      "max_memory 4000 MB (current use 148 MB)\n",
      "number electrons alpha = 42  beta = 40\n",
      "Set gradient conv threshold to 3.16228e-05\n"
     ]
    }
   ],
   "source": [
    "# Determine an active space with four orbitals.\n",
    "active_space = sized_space_from_mol(mol, size=(18,12))\n",
    "# Find one active space.\n",
    "# active_space = find_from_mol(mol)"
   ]
  },
  {
   "cell_type": "code",
   "execution_count": null,
   "id": "8a346bfc-8ea9-4513-88ef-7ecbf76ac49b",
   "metadata": {},
   "outputs": [],
   "source": [
    "print(active_space)"
   ]
  },
  {
   "cell_type": "code",
   "execution_count": null,
   "id": "6f713ea1-9aab-4e10-bb09-494fb90dca96",
   "metadata": {},
   "outputs": [],
   "source": [
    "active_space.norb"
   ]
  },
  {
   "cell_type": "code",
   "execution_count": null,
   "id": "775c308a-c4e7-42d0-ad6f-8cd6ae591443",
   "metadata": {},
   "outputs": [],
   "source": [
    "# pictures_Jmol(\n",
    "#     mol=mol, mo_coeff=active_space.mo_coeff, mo_list=active_space.mo_list, mo_index_title=\" \"\n",
    "# )\n",
    "# mo_images = sorted(dd for dd in Path.cwd().glob(\"mo_*.png\"))\n",
    "# show_mos_grid(mo_images, mo_list=active_space.mo_list, columns=3, figsize=(10, 10))\n",
    "# # clean up files\n",
    "# for filename in mo_images:\n",
    "#     Path.unlink(filename)"
   ]
  },
  {
   "cell_type": "code",
   "execution_count": null,
   "id": "e1dde6b1-9913-4ddb-89a8-9ce427789c58",
   "metadata": {},
   "outputs": [],
   "source": [
    "mc = CASSCF(mol, ncas=active_space.norb, nelecas=active_space.nel)\n",
    "# Before carrying out the CASSCF calculation, the orbital coefficient matrix columns need to be\n",
    "# ordered as core - active - virtual from left to right.\n",
    "# Take care - by default, sort_mo assumes that the MO list starts indexing from one, not from zero.\n",
    "mo_guess = mc.sort_mo(active_space.mo_list, active_space.mo_coeff, base=0)\n",
    "_ = mc.kernel(mo_coeff=mo_guess)"
   ]
  },
  {
   "cell_type": "code",
   "execution_count": null,
   "id": "cccfa826-354b-4414-956d-d09a41862417",
   "metadata": {},
   "outputs": [],
   "source": [
    "compare_active_spaces(mc, active_space.mo_coeff, active_space.mo_list)"
   ]
  },
  {
   "cell_type": "code",
   "execution_count": null,
   "id": "b72e9e31-25cb-4978-9527-6be65f75cf5f",
   "metadata": {},
   "outputs": [],
   "source": []
  }
 ],
 "metadata": {
  "kernelspec": {
   "display_name": "Python 3 (ipykernel)",
   "language": "python",
   "name": "python3"
  },
  "language_info": {
   "codemirror_mode": {
    "name": "ipython",
    "version": 3
   },
   "file_extension": ".py",
   "mimetype": "text/x-python",
   "name": "python",
   "nbconvert_exporter": "python",
   "pygments_lexer": "ipython3",
   "version": "3.10.4"
  }
 },
 "nbformat": 4,
 "nbformat_minor": 5
}
