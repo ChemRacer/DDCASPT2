{
 "cells": [
  {
   "cell_type": "code",
   "execution_count": 22,
   "id": "9be12d70-ab1a-473a-97bd-8d357d3f4fbb",
   "metadata": {},
   "outputs": [],
   "source": [
    "import sys\n",
    "# !{sys.executable} -m pip install AaronTools\n",
    "#######################################################\n",
    "#Import packages\n",
    "import numpy as np\n",
    "import os\n",
    "os.environ['MOLCAS']='/home/grierjones/Test/build'\n",
    "\n",
    "\n",
    "import re\n",
    "from math import sin, cos, pi\n",
    "from glob import glob\n",
    "import subprocess\n",
    "import pickle\n",
    "from subprocess import call, check_output\n",
    "import pandas as pd\n",
    "# import psi4\n",
    "from joblib import Parallel,effective_n_jobs,delayed\n",
    "from time import time\n",
    "import matplotlib.pyplot as plt\n",
    "from plumbum.cmd import grep, awk\n",
    "\n",
    "import shutil\n",
    "import random\n",
    "import sklearn\n",
    "from shutil import copy\n",
    "import csv\n",
    "import h5py as h5\n",
    "import seaborn as sns; sns.set(style=\"ticks\", color_codes=True)\n",
    "\n",
    "from sklearn.model_selection import train_test_split\n",
    "from time import perf_counter\n",
    "from AaronTools.geometry import Geometry"
   ]
  },
  {
   "cell_type": "code",
   "execution_count": 35,
   "id": "5214db5a-4a7d-4783-a3d8-4eab0fe329fa",
   "metadata": {},
   "outputs": [],
   "source": [
    "# xyz = np.genfromtxt(\"anie202206314-sup-0001-cycl_mecp.xyz\",skip_header=2,dtype=str)\n",
    "xyz = np.genfromtxt(\"anie202206314-sup-0001-cycl_mins0.xyz\",skip_header=2,dtype=str)"
   ]
  },
  {
   "cell_type": "code",
   "execution_count": 36,
   "id": "a4ace0d0-ac6d-4c04-9874-f15a36bbf65b",
   "metadata": {},
   "outputs": [
    {
     "name": "stdout",
     "output_type": "stream",
     "text": [
      "[-1.25587964  0.04720305 -2.50177824]\n",
      "[-0.14400243  0.04375058 -3.34076744]\n",
      "1.3929054988264986\n"
     ]
    }
   ],
   "source": [
    "for i in xyz:\n",
    "    if i[0]=='N':\n",
    "        N_xyz = np.array(i[1:]).astype(float)\n",
    "        print(N_xyz)\n",
    "    if i[0]=='O':\n",
    "        O_xyz = np.array(i[1:]).astype(float)\n",
    "        print(O_xyz)\n",
    "print(np.linalg.norm(N_xyz-O_xyz))"
   ]
  },
  {
   "cell_type": "code",
   "execution_count": 38,
   "id": "3c5e7e6a-3c5d-4de0-b8d2-995d2aaf7749",
   "metadata": {},
   "outputs": [],
   "source": [
    "xyz = Geometry(\"anie202206314-sup-0001-cycl_mecp.xyz\")"
   ]
  },
  {
   "cell_type": "code",
   "execution_count": 39,
   "id": "a47ca7b8-5223-4c5c-b998-8c1e42be44bc",
   "metadata": {},
   "outputs": [],
   "source": [
    "O,N = xyz.find('O'),xyz.find('N')"
   ]
  },
  {
   "cell_type": "code",
   "execution_count": 40,
   "id": "4127f490-d7e1-49b1-96ef-28d45d2f4cc9",
   "metadata": {},
   "outputs": [
    {
     "data": {
      "text/plain": [
       "2.167389624338013"
      ]
     },
     "execution_count": 40,
     "metadata": {},
     "output_type": "execute_result"
    }
   ],
   "source": [
    "np.linalg.norm(xyz.bond(O,N))"
   ]
  },
  {
   "cell_type": "code",
   "execution_count": 41,
   "id": "95acccd9-36b4-49cc-bf54-ab2173b8d13c",
   "metadata": {},
   "outputs": [
    {
     "data": {
      "text/plain": [
       "(2.17, 1.39)"
      ]
     },
     "execution_count": 41,
     "metadata": {},
     "output_type": "execute_result"
    }
   ],
   "source": [
    "2.17, 1.39"
   ]
  },
  {
   "cell_type": "code",
   "execution_count": 42,
   "id": "e0c3c3e7-6182-4d70-aec7-5a175ba4782d",
   "metadata": {},
   "outputs": [],
   "source": [
    "xyz.change_distance(O,N,1.39)"
   ]
  },
  {
   "cell_type": "code",
   "execution_count": 43,
   "id": "353af4d6-5ae6-48e5-8fa4-55f62e5adf24",
   "metadata": {},
   "outputs": [],
   "source": [
    "xyz.write('dummy')"
   ]
  },
  {
   "cell_type": "code",
   "execution_count": null,
   "id": "12fdad37-da7a-41d4-9ec4-8002545f9771",
   "metadata": {},
   "outputs": [],
   "source": []
  }
 ],
 "metadata": {
  "kernelspec": {
   "display_name": "Python 3 (ipykernel)",
   "language": "python",
   "name": "python3"
  },
  "language_info": {
   "codemirror_mode": {
    "name": "ipython",
    "version": 3
   },
   "file_extension": ".py",
   "mimetype": "text/x-python",
   "name": "python",
   "nbconvert_exporter": "python",
   "pygments_lexer": "ipython3",
   "version": "3.10.4"
  }
 },
 "nbformat": 4,
 "nbformat_minor": 5
}
