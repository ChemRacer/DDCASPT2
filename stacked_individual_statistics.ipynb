{
 "cells": [
  {
   "cell_type": "code",
   "execution_count": null,
   "id": "66fa94fb-9136-4213-9852-aa7b70444f43",
   "metadata": {},
   "outputs": [],
   "source": [
    "# For data generation\n",
    "import sys\n",
    "# !{sys.executable} -m pip install matplotlib --upgrade\n",
    "import shutil\n",
    "import os\n",
    "import numpy as np\n",
    "from glob import glob\n",
    "import re\n",
    "import pandas as pd\n",
    "import pickle\n",
    "#random\n",
    "from time import perf_counter\n",
    "\n",
    "# sklearn\n",
    "from sklearn.preprocessing import StandardScaler\n",
    "from sklearn.metrics import r2_score,root_mean_squared_error,mean_absolute_error,mean_absolute_percentage_error\n",
    "from sklearn.model_selection import train_test_split\n",
    "from sklearn.preprocessing import MinMaxScaler\n",
    "from sklearn.kernel_ridge import KernelRidge\n",
    "from sklearn.model_selection import GridSearchCV\n",
    "\n",
    "\n",
    "#Plotting\n",
    "import seaborn as sns\n",
    "sns.set_style()\n",
    "import matplotlib as mpl\n",
    "import matplotlib.pyplot as plt\n",
    "mpl.rcParams['figure.dpi'] = 200\n",
    "\n",
    "import warnings\n",
    "# warnings.filterwarnings(\"ignore\", category=np.DeprecationWarning) \n",
    "\n",
    "\n",
    "from tqdm.auto import tqdm\n",
    "# from tqdm.notebook import tqdm_notebook as tqdm"
   ]
  },
  {
   "cell_type": "code",
   "execution_count": null,
   "id": "c556066e-cf0c-468f-ba92-9cc3c3a6f40c",
   "metadata": {},
   "outputs": [],
   "source": [
    "irondata = pd.read_excel(\"iron_oxo_DDCASPT2/MAE_stacked.xlsx\").rename(columns={'Unnamed: 0':'variable'})\n",
    "ozonedata = pd.read_excel(\"ozone/MAE_stacked.xlsx\").rename(columns={'Unnamed: 0':'variable'})"
   ]
  },
  {
   "cell_type": "code",
   "execution_count": null,
   "id": "883192c9-3016-46dd-a5bd-318c969f0190",
   "metadata": {},
   "outputs": [],
   "source": [
    "irondata['index'] = len(irondata) * ['Fe(IV)O$^{2+}$']\n",
    "ozonedata['index'] = len(ozonedata) * ['O$_{3}$']"
   ]
  },
  {
   "cell_type": "code",
   "execution_count": null,
   "id": "d595e484-b378-4bad-aa25-864a5a70cbed",
   "metadata": {},
   "outputs": [],
   "source": [
    "ironcorr = irondata.drop(columns='Pair-Energies').rename(columns={'Correlation Energies':'value'})\n",
    "ozonecorr = ozonedata.drop(columns='Pair-Energies').rename(columns={'Correlation Energies':'value'})\n",
    "\n",
    "\n",
    "ironpair = irondata.drop(columns='Correlation Energies').rename(columns={'Pair-Energies':'value'})\n",
    "ozonepair = ozonedata.drop(columns='Correlation Energies').rename(columns={'Pair-Energies':'value'})"
   ]
  },
  {
   "cell_type": "code",
   "execution_count": null,
   "id": "845c7cd4-bf7b-4977-8806-39a9b810ff99",
   "metadata": {},
   "outputs": [],
   "source": [
    "hcorr = pd.read_excel('hydrogen_comps/meltcorrMAE.xlsx',index_col=0)\n",
    "hpair = pd.read_excel('hydrogen_comps/meltpairMAE.xlsx',index_col=0)"
   ]
  },
  {
   "cell_type": "code",
   "execution_count": null,
   "id": "e1217ea5-61d6-436c-a4f3-b987318e101d",
   "metadata": {},
   "outputs": [],
   "source": [
    "meltcorrerr = pd.concat([hcorr,ozonecorr,ironcorr])\n",
    "meltpairerr = pd.concat([hpair,ozonepair,ironpair])\n",
    "\n",
    "meltcorrerr.rename(columns={'value':'Individual'},inplace=True)\n",
    "meltpairerr.rename(columns={'value':'Individual'},inplace=True)\n",
    "\n",
    "pivotcorr = meltcorrerr.pivot(index=['index'],columns=['variable'],values='Individual')\n",
    "pivotpair = meltpairerr.pivot(index=['index'],columns=['variable'],values='Individual')"
   ]
  },
  {
   "cell_type": "code",
   "execution_count": null,
   "id": "024693fd-a7d2-4c4d-addf-15eb8fc99318",
   "metadata": {},
   "outputs": [],
   "source": [
    "\n",
    "pairedcp=sns.color_palette('Paired')\n",
    "fig,(ax1,ax2)=plt.subplots(1,2,figsize=(10,5),sharey=False)\n",
    "sns.barplot(data=meltpairerr,x='index',y='Individual',hue='variable',palette=pairedcp[2:4],ax=ax1)\n",
    "ax1.set_ylabel('Mean Absolute Error (mE$_{h}$)')\n",
    "ax1.set_xlabel('Structures')\n",
    "ax1.set_title('Pair-Energies')\n",
    "ax1.set_ylim(0,1)\n",
    "sns.barplot(data=meltcorrerr,x='index',y='Individual',hue='variable',palette=pairedcp[2:4],ax=ax2)\n",
    "# ax2.set_ylabel('Mean Absolute Error (mE$_{h}$)')\n",
    "ax2.set_ylabel('')\n",
    "ax2.set_xlabel('Structures')\n",
    "ax2.set_title('Correlation Energies')\n",
    "ax2.set_ylim(0,12)\n",
    "plt.tight_layout()\n",
    "plt.savefig('joint_VDZP/images/individual_MAE_bar.png',dpi=300,bbox_inches='tight')"
   ]
  },
  {
   "cell_type": "code",
   "execution_count": null,
   "id": "3eb63d5a-ab6e-4238-a9e3-20c4c9ba5bd3",
   "metadata": {},
   "outputs": [],
   "source": [
    "jointstats = pd.read_excel('joint_VDZP/stats.xlsx')\n",
    "\n",
    "jointmeltcorrerr = jointstats.drop(columns='Pair-Energies').rename(columns={'Correlation Energy':'Joint'})\n",
    "jointmeltpairerr = jointstats.drop(columns='Correlation Energy').rename(columns={'Pair-Energies':'Joint'})\n",
    "\n",
    "pivotjointcorr = jointmeltcorrerr.pivot(index=['index'],columns=['variable'],values='Joint')\n",
    "pivotjointpair = jointmeltpairerr.pivot(index=['index'],columns=['variable'],values='Joint')"
   ]
  },
  {
   "cell_type": "code",
   "execution_count": null,
   "id": "9037702a-7481-4215-8c27-02a075033c92",
   "metadata": {},
   "outputs": [],
   "source": [
    "devindpair, devindcorr = (pivotjointpair - pivotpair)[['Train','Test']], (pivotjointcorr - pivotcorr)[['Train','Test']]"
   ]
  },
  {
   "cell_type": "code",
   "execution_count": null,
   "id": "718e238d-e67e-4f17-9852-ed9334ef8c7a",
   "metadata": {},
   "outputs": [],
   "source": [
    "devindpair.mean().round(4)"
   ]
  },
  {
   "cell_type": "code",
   "execution_count": null,
   "id": "f255d04d-b54e-48c5-b0be-f254eae9ebc3",
   "metadata": {},
   "outputs": [],
   "source": [
    "devindcorr.mean().round(4)"
   ]
  },
  {
   "cell_type": "code",
   "execution_count": null,
   "id": "8c2e9927-84d5-400d-9a0c-7187119f31e4",
   "metadata": {},
   "outputs": [],
   "source": [
    "fig,(ax1,ax2)=plt.subplots(1,2,figsize=(10,5),sharey=False)\n",
    "sns.boxplot((pivotjointpair - pivotpair)[['Train','Test']],palette=pairedcp[2:4],ax=ax1)\n",
    "sns.boxplot((pivotjointcorr - pivotcorr)[['Train','Test']],palette=pairedcp[2:4],ax=ax2)\n",
    "ax1.set_ylabel('Joint Model MAEs - Individual Model MAEs (mE$_{h}$)')\n",
    "ax1.set_xlabel('Structures')\n",
    "ax1.set_title('Pair-Energies')\n",
    "ax1.set_ylim(0,0.4)\n",
    "ax2.set_ylabel('')\n",
    "ax2.set_xlabel('Structures')\n",
    "ax2.set_title('Correlation Energies')\n",
    "ax2.set_ylim(0,6)\n",
    "plt.tight_layout()\n",
    "plt.savefig('joint_VDZP/images/deviation_MAE_joint_vs_individual.png',dpi=300,bbox_inches='tight')"
   ]
  },
  {
   "cell_type": "code",
   "execution_count": null,
   "id": "9761b782-7ab4-4fd6-a6cd-e1d439e85fc5",
   "metadata": {},
   "outputs": [],
   "source": [
    "ltneg5jointstats = pd.read_excel('joint_VDZP/ltneg5stats.xlsx')\n",
    "\n",
    "ltneg5jointmeltcorrerr = ltneg5jointstats.drop(columns='Pair-Energies').rename(columns={'Correlation Energy':'Joint'})\n",
    "ltneg5jointmeltpairerr = ltneg5jointstats.drop(columns='Correlation Energy').rename(columns={'Pair-Energies':'Joint'})\n",
    "\n",
    "ltneg5pivotjointcorr = ltneg5jointmeltcorrerr.pivot(index=['index'],columns=['variable'],values='Joint')\n",
    "ltneg5pivotjointpair = ltneg5jointmeltpairerr.pivot(index=['index'],columns=['variable'],values='Joint')"
   ]
  },
  {
   "cell_type": "code",
   "execution_count": null,
   "id": "3c306094-3a62-43bf-8bba-79e6d9e607ba",
   "metadata": {},
   "outputs": [],
   "source": [
    "fig,(ax1,ax2)=plt.subplots(1,2,figsize=(10,5),sharey=False)\n",
    "sns.boxplot((pivotjointpair - ltneg5pivotjointpair)[['Train','Test']],palette=pairedcp[2:4],ax=ax1)\n",
    "sns.boxplot((pivotjointcorr - ltneg5pivotjointcorr)[['Train','Test']],palette=pairedcp[2:4],ax=ax2)\n",
    "ax1.set_ylabel('Full Feature Set MAE - 10$^{-5}$ Reduced Set MAE (mE$_{h}$)')\n",
    "ax1.set_xlabel('Structures')\n",
    "ax1.set_title('Pair-Energies')\n",
    "# ax1.set_ylim(0,0.4)\n",
    "ax2.set_ylabel('')\n",
    "ax2.set_xlabel('Structures')\n",
    "ax2.set_title('Correlation Energies')\n",
    "# ax2.set_ylim(0,6)\n",
    "plt.tight_layout()\n",
    "plt.savefig('joint_VDZP/images/deviation_MAE_jointall_vs_ltneg5.png',dpi=300,bbox_inches='tight')"
   ]
  },
  {
   "cell_type": "code",
   "execution_count": null,
   "id": "457e8ae7-a3f5-4423-b47d-40f2c488a8c1",
   "metadata": {},
   "outputs": [],
   "source": [
    "ltneg4jointstats = pd.read_excel('joint_VDZP/ltneg4stats.xlsx')\n",
    "\n",
    "ltneg4jointmeltcorrerr = ltneg4jointstats.drop(columns='Pair-Energies').rename(columns={'Correlation Energy':'Joint'})\n",
    "ltneg4jointmeltpairerr = ltneg4jointstats.drop(columns='Correlation Energy').rename(columns={'Pair-Energies':'Joint'})\n",
    "\n",
    "ltneg4pivotjointcorr = ltneg4jointmeltcorrerr.pivot(index=['index'],columns=['variable'],values='Joint')\n",
    "ltneg4pivotjointpair = ltneg4jointmeltpairerr.pivot(index=['index'],columns=['variable'],values='Joint')\n",
    "\n",
    "fig,(ax1,ax2)=plt.subplots(1,2,figsize=(10,5),sharey=False)\n",
    "sns.boxplot((pivotjointpair - ltneg4pivotjointpair)[['Train','Test']],palette=pairedcp[2:4],ax=ax1)\n",
    "sns.boxplot((pivotjointcorr - ltneg4pivotjointcorr)[['Train','Test']],palette=pairedcp[2:4],ax=ax2)\n",
    "ax1.set_ylabel('Full Feature Set MAE - 10$^{-5}$ Reduced Set MAE (mE$_{h}$)')\n",
    "ax1.set_xlabel('Structures')\n",
    "ax1.set_title('Pair-Energies')\n",
    "# ax1.set_ylim(0,0.4)\n",
    "ax2.set_ylabel('')\n",
    "ax2.set_xlabel('Structures')\n",
    "ax2.set_title('Correlation Energies')\n",
    "# ax2.set_ylim(0,6)\n",
    "plt.tight_layout()\n",
    "plt.savefig('joint_VDZP/images/deviation_MAE_jointall_vs_ltneg4.png',dpi=300,bbox_inches='tight')"
   ]
  },
  {
   "cell_type": "code",
   "execution_count": null,
   "id": "76e161df-9773-4906-8669-b82e8f43fadc",
   "metadata": {},
   "outputs": [],
   "source": [
    "devneg5pair, devneg5corr = (pivotjointpair - ltneg5pivotjointpair)[['Train','Test']],(pivotjointcorr - ltneg5pivotjointcorr)[['Train','Test']]"
   ]
  },
  {
   "cell_type": "code",
   "execution_count": null,
   "id": "dd102c32-03ea-46ae-b9ee-1ae0abd6ef99",
   "metadata": {},
   "outputs": [],
   "source": [
    "devneg5pair.mean().round(4)"
   ]
  },
  {
   "cell_type": "code",
   "execution_count": null,
   "id": "74dd2846-e59d-4492-9a1d-8ceb28fecb3d",
   "metadata": {},
   "outputs": [],
   "source": [
    "devneg5corr.mean().round(4)"
   ]
  },
  {
   "cell_type": "code",
   "execution_count": null,
   "id": "327d7707-6040-46bd-afda-51df0c0803dd",
   "metadata": {},
   "outputs": [],
   "source": [
    "devneg5pair[devneg5pair>=0].mean().round(4)"
   ]
  },
  {
   "cell_type": "code",
   "execution_count": null,
   "id": "dfd75181-4b72-4557-9679-018088a0d383",
   "metadata": {},
   "outputs": [],
   "source": [
    "devneg5pair[devneg5pair<=0].mean().round(4)"
   ]
  },
  {
   "cell_type": "code",
   "execution_count": null,
   "id": "93cc1476-1017-455a-b243-e4eaad1226f9",
   "metadata": {},
   "outputs": [],
   "source": [
    "devneg5corr[devneg5corr<=0].mean().round(4)"
   ]
  },
  {
   "cell_type": "code",
   "execution_count": null,
   "id": "56daaf36-8f2f-442d-a695-481f0e9f5325",
   "metadata": {},
   "outputs": [],
   "source": [
    "devneg5corr[devneg5corr>=0].mean().round(4)"
   ]
  },
  {
   "cell_type": "code",
   "execution_count": null,
   "id": "195abf7d-148c-47a6-a5af-8fe9df0045f4",
   "metadata": {},
   "outputs": [],
   "source": [
    "4/1000"
   ]
  },
  {
   "cell_type": "code",
   "execution_count": null,
   "id": "4680bc1c-6a03-4eaf-b498-4c629d051e59",
   "metadata": {},
   "outputs": [],
   "source": [
    "devneg4pair, devneg4corr =(pivotjointpair - ltneg4pivotjointpair)[['Train','Test']],(pivotjointcorr - ltneg4pivotjointcorr)[['Train','Test']]"
   ]
  },
  {
   "cell_type": "code",
   "execution_count": null,
   "id": "a1f039c7-d6f8-4e9f-b99b-3292ff3a18fd",
   "metadata": {},
   "outputs": [],
   "source": [
    "devneg4pair.mean().round(4),devneg4corr.mean().round(4)"
   ]
  },
  {
   "cell_type": "code",
   "execution_count": null,
   "id": "fa51b2bf-0030-4036-8ca8-a839b1641ae7",
   "metadata": {},
   "outputs": [],
   "source": []
  }
 ],
 "metadata": {
  "kernelspec": {
   "display_name": "Python 3 (ipykernel)",
   "language": "python",
   "name": "python3"
  },
  "language_info": {
   "codemirror_mode": {
    "name": "ipython",
    "version": 3
   },
   "file_extension": ".py",
   "mimetype": "text/x-python",
   "name": "python",
   "nbconvert_exporter": "python",
   "pygments_lexer": "ipython3",
   "version": "3.10.4"
  }
 },
 "nbformat": 4,
 "nbformat_minor": 5
}
