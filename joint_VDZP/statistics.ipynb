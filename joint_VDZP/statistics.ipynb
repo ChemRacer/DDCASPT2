{
 "cells": [
  {
   "cell_type": "code",
   "execution_count": null,
   "id": "a9204ee1-b554-45c8-90f0-d31b01277bca",
   "metadata": {},
   "outputs": [],
   "source": [
    "# For data generation\n",
    "import sys\n",
    "# !{sys.executable} -m pip install matplotlib --upgrade\n",
    "import shutil\n",
    "import os\n",
    "import numpy as np\n",
    "from glob import glob\n",
    "import re\n",
    "import pandas as pd\n",
    "import pickle\n",
    "#random\n",
    "from time import perf_counter\n",
    "\n",
    "# sklearn\n",
    "from sklearn.preprocessing import StandardScaler\n",
    "from sklearn.metrics import r2_score,root_mean_squared_error,mean_absolute_error,mean_absolute_percentage_error\n",
    "from sklearn.model_selection import train_test_split\n",
    "from sklearn.preprocessing import MinMaxScaler\n",
    "from sklearn.kernel_ridge import KernelRidge\n",
    "from sklearn.model_selection import GridSearchCV\n",
    "\n",
    "\n",
    "#Plotting\n",
    "import seaborn as sns\n",
    "sns.set_style()\n",
    "import matplotlib as mpl\n",
    "import matplotlib.pyplot as plt\n",
    "mpl.rcParams['figure.dpi'] = 200\n",
    "\n",
    "import warnings\n",
    "# warnings.filterwarnings(\"ignore\", category=np.DeprecationWarning) \n",
    "\n",
    "\n",
    "from tqdm.auto import tqdm\n",
    "# from tqdm.notebook import tqdm_notebook as tqdm"
   ]
  },
  {
   "cell_type": "code",
   "execution_count": null,
   "id": "36d0aba4-9503-49ff-bf32-0eaa85977eb1",
   "metadata": {},
   "outputs": [],
   "source": [
    "glob('*stats.xlsx')"
   ]
  },
  {
   "cell_type": "code",
   "execution_count": null,
   "id": "fa8a1e57-aeac-4c38-9c29-fd06e9c54a9c",
   "metadata": {},
   "outputs": [],
   "source": [
    "ltneg5df = pd.read_excel('ltneg5stats.xlsx',index_col=0)\n",
    "ltneg4df = pd.read_excel('ltneg4stats.xlsx',index_col=0)\n",
    "alldf = pd.read_excel('stats.xlsx',index_col=0)"
   ]
  },
  {
   "cell_type": "code",
   "execution_count": null,
   "id": "0689c20f-e534-4604-833f-7b5dd54bb94a",
   "metadata": {},
   "outputs": [],
   "source": [
    "help(pd.melt)"
   ]
  },
  {
   "cell_type": "code",
   "execution_count": null,
   "id": "1f40ab1b-f3e4-4260-802f-1dab321b7a91",
   "metadata": {},
   "outputs": [],
   "source": [
    "alldf['set']=len(alldf)*['all']\n",
    "ltneg4df['set']=len(ltneg4df)*['less than 10$^{-4}$']\n",
    "ltneg5df['set']=len(ltneg5df)*['less than 10$^{-5}$']"
   ]
  },
  {
   "cell_type": "code",
   "execution_count": null,
   "id": "6cdd4c6f-7d1c-4779-8eec-b6aaad62cdab",
   "metadata": {},
   "outputs": [],
   "source": [
    "ltneg5df.describe().loc[['min','mean','max']]"
   ]
  },
  {
   "cell_type": "code",
   "execution_count": null,
   "id": "30225390-c9cb-4758-8520-c7649f8b2bb8",
   "metadata": {},
   "outputs": [],
   "source": [
    "ltneg4df.describe().loc[['min','mean','max']]"
   ]
  },
  {
   "cell_type": "code",
   "execution_count": null,
   "id": "7b4f9296-862a-421b-9844-d15e80c9e5d4",
   "metadata": {},
   "outputs": [],
   "source": [
    "alldf.describe().loc[['min','mean','max']]"
   ]
  },
  {
   "cell_type": "code",
   "execution_count": null,
   "id": "96681852-5100-461b-8ef8-b41d9df65717",
   "metadata": {},
   "outputs": [],
   "source": [
    "meltalldf = alldf.rename(columns={'variable':'Data Set'}).melt(id_vars=['set','Data Set'],value_vars=['Correlation Energy','Pair-Energies'])\n",
    "meltltneg4df = ltneg4df.rename(columns={'variable':'Data Set'}).melt(id_vars=['set','Data Set'],value_vars=['Correlation Energy','Pair-Energies'])\n",
    "meltltneg5df = ltneg5df.rename(columns={'variable':'Data Set'}).melt(id_vars=['set','Data Set'],value_vars=['Correlation Energy','Pair-Energies'])"
   ]
  },
  {
   "cell_type": "code",
   "execution_count": null,
   "id": "d95103bb-64c6-482c-97c4-feef0e2576e0",
   "metadata": {},
   "outputs": [],
   "source": [
    "meltdf = pd.concat([meltalldf,meltltneg4df,meltltneg5df])"
   ]
  },
  {
   "cell_type": "code",
   "execution_count": null,
   "id": "c9a46458-ed03-434a-af30-00201b4fb50f",
   "metadata": {},
   "outputs": [],
   "source": [
    "SMALL_SIZE = 8\n",
    "MEDIUM_SIZE = 14\n",
    "BIGGER_SIZE = 12\n",
    "\n",
    "plt.rc('font', size=MEDIUM_SIZE)          # controls default text sizes\n",
    "plt.rc('axes', titlesize=MEDIUM_SIZE)     # fontsize of the axes title\n",
    "plt.rc('axes', labelsize=MEDIUM_SIZE)    # fontsize of the x and y labels\n",
    "plt.rc('xtick', labelsize=MEDIUM_SIZE)    # fontsize of the tick labels\n",
    "plt.rc('ytick', labelsize=MEDIUM_SIZE)    # fontsize of the tick labels\n",
    "plt.rc('legend', fontsize=MEDIUM_SIZE)    # legend fontsize\n",
    "plt.rc('figure', titlesize=MEDIUM_SIZE)  # fontsize of the figure title\n",
    "\n",
    "g = sns.catplot(meltdf[meltdf['variable']=='Correlation Energy'],row='variable',y='value',hue='set',kind='box',col='Data Set',palette=sns.color_palette('Paired',3))\n",
    "g.set_titles(\"{col_name}\")\n",
    "# g.set_axis_labels(\"\", \"R$^{2}$\")\n",
    "g.set_axis_labels(\"\", \"MAE (kcal/mol)\")\n",
    "g.fig.suptitle(f\"Correlation Energies\")\n",
    "g.tight_layout()\n",
    "plt.savefig(f\"images/correnergies_boxplots.png\",dpi=300,bbox_inches='tight')\n",
    "plt.show()"
   ]
  },
  {
   "cell_type": "code",
   "execution_count": null,
   "id": "a8f0d780-02e1-459d-b08c-ce3479977bf6",
   "metadata": {},
   "outputs": [],
   "source": [
    "SMALL_SIZE = 8\n",
    "MEDIUM_SIZE = 14\n",
    "BIGGER_SIZE = 12\n",
    "\n",
    "plt.rc('font', size=MEDIUM_SIZE)          # controls default text sizes\n",
    "plt.rc('axes', titlesize=MEDIUM_SIZE)     # fontsize of the axes title\n",
    "plt.rc('axes', labelsize=MEDIUM_SIZE)    # fontsize of the x and y labels\n",
    "plt.rc('xtick', labelsize=MEDIUM_SIZE)    # fontsize of the tick labels\n",
    "plt.rc('ytick', labelsize=MEDIUM_SIZE)    # fontsize of the tick labels\n",
    "plt.rc('legend', fontsize=MEDIUM_SIZE)    # legend fontsize\n",
    "plt.rc('figure', titlesize=MEDIUM_SIZE)  # fontsize of the figure title\n",
    "g = sns.catplot(meltdf[meltdf['variable']=='Pair-Energies'],row='variable',y='value',hue='set',kind='box',col='Data Set',palette=sns.color_palette('Paired',3))\n",
    "g.set_titles(\"{col_name}\")\n",
    "g.set_axis_labels(\"\", \"MAE (kcal/mol)\")\n",
    "g.fig.suptitle(f\"Pair-Energies\")\n",
    "g.tight_layout()\n",
    "plt.savefig(f\"images/pairenergies_boxplots.png\",dpi=300,bbox_inches='tight')\n",
    "plt.show()"
   ]
  },
  {
   "cell_type": "code",
   "execution_count": null,
   "id": "71fb8dff-232e-48a5-b62f-86d5250e5568",
   "metadata": {},
   "outputs": [],
   "source": [
    "meltdf[meltdf['variable']=='Correlation Energy']"
   ]
  },
  {
   "cell_type": "code",
   "execution_count": null,
   "id": "ce35f553-414a-4e1b-b92a-fe245a9d8f47",
   "metadata": {},
   "outputs": [],
   "source": []
  }
 ],
 "metadata": {
  "kernelspec": {
   "display_name": "Python 3 (ipykernel)",
   "language": "python",
   "name": "python3"
  },
  "language_info": {
   "codemirror_mode": {
    "name": "ipython",
    "version": 3
   },
   "file_extension": ".py",
   "mimetype": "text/x-python",
   "name": "python",
   "nbconvert_exporter": "python",
   "pygments_lexer": "ipython3",
   "version": "3.10.4"
  }
 },
 "nbformat": 4,
 "nbformat_minor": 5
}
