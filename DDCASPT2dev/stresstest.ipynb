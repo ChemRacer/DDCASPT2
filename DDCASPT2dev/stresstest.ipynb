{
 "cells": [
  {
   "cell_type": "code",
   "execution_count": null,
   "id": "0c16ecdf-8855-4b4c-ba45-41b396dca71a",
   "metadata": {},
   "outputs": [],
   "source": [
    "from glob import glob\n",
    "from DDCASPT2 import DDCASPT2\n",
    "import pandas as pd\n",
    "import os"
   ]
  },
  {
   "cell_type": "code",
   "execution_count": null,
   "id": "9749df32-ba9c-4e86-b14b-a5df157171b9",
   "metadata": {},
   "outputs": [],
   "source": [
    "\n",
    "for i in glob(\"GMJ*csv\")+glob(\"*GMJ*int*csv\")+glob('*h5'):\n",
    "    os.remove(i)\n",
    "\n",
    "path='./'\n",
    "basis_set='ANO-RCC-VDZP'\n",
    "name=\"H2\"\n",
    "electrons=2\n",
    "occupied=2\n",
    "inactive=None\n",
    "\n",
    "\n",
    "DDCASPT2(path,basis_set,name,electrons,occupied,inactive,scf_previous=None,casscf_previous=None,symmetry=1,spin=0,UHF=False,CIROOT=\"3 3 1\",frozen=0,pt2maxiter=50,MSroots=3,charge=0,clean=False,n_jobs=None)()\n",
    "\n",
    "energiesdf = pd.read_excel('H2_energies.xlsx',index_col=0)\n",
    "for i in range(1,4):\n",
    "    df = pd.read_csv(f'H2_{i}.csv',compression='zip',index_col=0)\n",
    "    print(energiesdf.loc[f'root_{i}','E2'],df['Pair_Energies'].sum())"
   ]
  },
  {
   "cell_type": "code",
   "execution_count": null,
   "id": "19c98c0d-ee41-4669-83bd-7d6560275f85",
   "metadata": {},
   "outputs": [],
   "source": [
    "\n",
    "for i in glob(\"GMJ*csv\")+glob(\"*GMJ*int*csv\")+glob('*h5'):\n",
    "    os.remove(i)\n",
    "\n",
    "path='./'\n",
    "basis_set='ANO-RCC-VDZP'\n",
    "name=\"LiH\"\n",
    "electrons=2\n",
    "occupied=2\n",
    "inactive=1\n",
    "frozen=0\n",
    "\n",
    "DDCASPT2(path,basis_set,name,electrons,occupied,inactive,scf_previous=None,casscf_previous=None,symmetry=1,spin=0,UHF=False,CIROOT=\"3 3 1\",frozen=frozen,pt2maxiter=50,MSroots=3,charge=0,clean=False,n_jobs=-1)()\n",
    "\n",
    "energiesdf = pd.read_excel(f'{name}_energies.xlsx',index_col=0)\n",
    "for i in range(1,4):\n",
    "    df = pd.read_csv(f'{name}_{i}.csv',compression='zip',index_col=0)\n",
    "    # print(df)\n",
    "    print(i,energiesdf.loc[f'root_{i}','E2'],df['Pair_Energies'].sum())"
   ]
  },
  {
   "cell_type": "code",
   "execution_count": null,
   "id": "965300c4-612c-4b84-aa93-a39fe446a680",
   "metadata": {},
   "outputs": [],
   "source": [
    "for i in glob(\"GMJ*csv\")+glob(\"*GMJ*int*csv\")+glob('*h5'):\n",
    "    os.remove(i)\n",
    "\n",
    "path='./'\n",
    "basis_set='ANO-RCC-VDZP'\n",
    "name=\"LiH\"\n",
    "electrons=2\n",
    "occupied=2\n",
    "inactive=1\n",
    "frozen=1\n",
    "\n",
    "DDCASPT2(path,basis_set,name,electrons,occupied,inactive,scf_previous=None,casscf_previous=None,symmetry=1,spin=0,UHF=False,CIROOT=\"3 3 1\",frozen=frozen,pt2maxiter=50,MSroots=3,charge=0,clean=False,n_jobs=-1)()\n",
    "\n",
    "energiesdf = pd.read_excel(f'{name}_energies.xlsx',index_col=0)\n",
    "for i in range(1,4):\n",
    "    df = pd.read_csv(f'{name}_{i}.csv',compression='zip',index_col=0)\n",
    "    # print(df)\n",
    "    print(energiesdf.loc[f'root_{i}','E2'],df['Pair_Energies'].sum())"
   ]
  },
  {
   "cell_type": "code",
   "execution_count": null,
   "id": "09745f3e-1135-46f8-91ff-6006dc50e8eb",
   "metadata": {},
   "outputs": [],
   "source": [
    "\n",
    "for i in glob(\"GMJ*csv\")+glob(\"*GMJ*int*csv\")+glob('*h5'):\n",
    "    os.remove(i)\n",
    "\n",
    "path='./'\n",
    "basis_set='ANO-RCC-VDZP'\n",
    "name=\"N2\"\n",
    "electrons=10\n",
    "occupied=8\n",
    "inactive=2\n",
    "frozen=0\n",
    "\n",
    "DDCASPT2(path,basis_set,name,electrons,occupied,inactive,scf_previous=None,casscf_previous=None,symmetry=1,spin=0,UHF=False,CIROOT=None,frozen=frozen,pt2maxiter=50,MSroots=None,charge=0,clean=False,n_jobs=-1)()\n",
    "\n",
    "energiesdf = pd.read_excel(f'{name}_energies.xlsx',index_col=0)\n",
    "for i in range(1,2):\n",
    "    df = pd.read_csv(f'{name}_{i}.csv',compression='zip',index_col=0)\n",
    "    print(i,energiesdf.loc['E2'].values,sum([df.loc[i,'Pair_Energies'] if i.split('_')[0]==i.split('_')[1] else df.loc[i,'Pair_Energies']*2 for i in df.index]))"
   ]
  },
  {
   "cell_type": "code",
   "execution_count": null,
   "id": "f3a90319-e155-4646-a8ac-ccc1f04a76b5",
   "metadata": {
    "scrolled": true
   },
   "outputs": [],
   "source": [
    "\n",
    "for i in glob(\"GMJ*csv\")+glob(\"*GMJ*int*csv\")+glob('*h5'):\n",
    "    os.remove(i)\n",
    "\n",
    "path='./'\n",
    "basis_set='ANO-RCC-VDZP'\n",
    "name=\"N2\"\n",
    "electrons=10\n",
    "occupied=8\n",
    "inactive=2\n",
    "frozen=0\n",
    "\n",
    "DDCASPT2(path,basis_set,name,electrons,occupied,inactive,scf_previous=None,casscf_previous=None,symmetry=1,spin=0,UHF=False,CIROOT=\"3 3 1\",frozen=frozen,pt2maxiter=50,MSroots=3,charge=0,clean=False,n_jobs=-1)()\n",
    "\n",
    "energiesdf = pd.read_excel(f'{name}_energies.xlsx',index_col=0)\n",
    "for i in range(1,4):\n",
    "    df = pd.read_csv(f'{name}_{i}.csv',compression='zip',index_col=0)\n",
    "    # print(df)\n",
    "    print(i,energiesdf.loc[f'root_{i}','E2'],df['Pair_Energies'].sum())"
   ]
  },
  {
   "cell_type": "code",
   "execution_count": null,
   "id": "a58d1220-bf20-4167-b79c-5b9104e8ade1",
   "metadata": {},
   "outputs": [],
   "source": [
    "DDCASPT2('../1.40/','ANO-RCC-VDZP','1.40',10,14,None,CIROOT=\"3 3 1\",symmetry=1,spin=4,UHF=True,charge=2,clean=False,MSroots=3,n_jobs=-1)(inputwrite=False,run=False,feat=True)"
   ]
  }
 ],
 "metadata": {
  "kernelspec": {
   "display_name": "Python 3 (ipykernel)",
   "language": "python",
   "name": "python3"
  },
  "language_info": {
   "codemirror_mode": {
    "name": "ipython",
    "version": 3
   },
   "file_extension": ".py",
   "mimetype": "text/x-python",
   "name": "python",
   "nbconvert_exporter": "python",
   "pygments_lexer": "ipython3",
   "version": "3.10.4"
  }
 },
 "nbformat": 4,
 "nbformat_minor": 5
}
