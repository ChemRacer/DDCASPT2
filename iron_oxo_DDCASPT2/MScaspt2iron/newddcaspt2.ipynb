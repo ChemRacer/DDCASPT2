{
 "cells": [
  {
   "cell_type": "code",
   "execution_count": 1,
   "id": "64186e21-f624-4588-8211-add44b1840a4",
   "metadata": {},
   "outputs": [],
   "source": [
    "from DDCASPT2 import DDCASPT2\n",
    "import pickle, os, shutil\n",
    "from glob import glob\n",
    "import numpy as np\n",
    "from joblib import Parallel, delayed\n",
    "import pandas as pd\n",
    "from math import sin, cos, pi\n",
    "from tqdm.notebook import tqdm\n",
    "# Geom manipulate\n",
    "from AaronTools.geometry import Geometry\n",
    "from tqdm import tqdm\n",
    "from time import perf_counter\n",
    "import seaborn as sns"
   ]
  },
  {
   "cell_type": "code",
   "execution_count": null,
   "id": "7ca7a15f-736f-4758-bbf8-cd6fd713e12a",
   "metadata": {},
   "outputs": [],
   "source": []
  },
  {
   "cell_type": "code",
   "execution_count": 2,
   "id": "f7af391b-d69a-4323-a441-eff4c5a63454",
   "metadata": {},
   "outputs": [],
   "source": [
    "done = set([i for i in sorted(os.listdir()) if os.path.exists(os.path.join(i,i+\".csv\"))])"
   ]
  },
  {
   "cell_type": "code",
   "execution_count": 3,
   "id": "94dd877d-5f8f-45fa-acea-fda24511a6f9",
   "metadata": {},
   "outputs": [
    {
     "name": "stdout",
     "output_type": "stream",
     "text": [
      "Nope .ipynb_checkpoints\n",
      "Nope DDCASPT2.py\n",
      "Nope FeO.xyz\n",
      "Nope __pycache__\n",
      "Nope energies.csv\n",
      "Nope newddcaspt2.ipynb\n",
      "Nope plot.py\n",
      "Nope plot_view.sh\n",
      "Nope resubmitall.sh\n",
      "Nope runall.sh\n",
      "Nope submitall.sh\n",
      "Nope test_ind.pickle\n",
      "Nope train_ind.pickle\n"
     ]
    }
   ],
   "source": [
    "dirs = []\n",
    "for i in sorted(os.listdir()):\n",
    "    try:\n",
    "        r = float(i)\n",
    "        dirs.append(i)\n",
    "    except:\n",
    "        print(\"Nope\",i)"
   ]
  },
  {
   "cell_type": "code",
   "execution_count": 4,
   "id": "75c26e8d-6710-49f6-898a-9c82d942c2d9",
   "metadata": {},
   "outputs": [],
   "source": [
    "# radius_range_dirs = []\n",
    "# for i in glob('*.*'):\n",
    "#     try:\n",
    "#         radstr = float(i)\n",
    "#         if radstr>=1.4:\n",
    "#             radius_range_dirs.append(i)\n",
    "#     except:\n",
    "#         continue\n",
    "\n",
    "# radius_range = sorted(radius_range_dirs)\n",
    "\n",
    "# train_ind,test_ind=radius_range[0::2],radius_range[1::2]\n",
    "\n",
    "# print(len(train_ind),len(test_ind))\n",
    "# with open('train_ind.pickle', 'wb') as handle:\n",
    "#     pickle.dump(train_ind, handle, protocol=pickle.HIGHEST_PROTOCOL)\n",
    "\n",
    "# with open('test_ind.pickle', 'wb') as handle:\n",
    "#     pickle.dump(test_ind, handle, protocol=pickle.HIGHEST_PROTOCOL)\n",
    "\n",
    "# with open('test_ind.pickle', 'rb') as handle:\n",
    "#     test_ind = pickle.load(handle)\n",
    "\n",
    "# with open('train_ind.pickle', 'rb') as handle:\n",
    "#     train_ind = pickle.load(handle)\n",
    "    \n",
    "# print(len(train_ind),len(test_ind))    "
   ]
  },
  {
   "cell_type": "code",
   "execution_count": 5,
   "id": "de6e2767-eafb-4dd0-8c89-9f0df23906bf",
   "metadata": {},
   "outputs": [],
   "source": [
    "radius_range=np.linspace(1.4,8,661)\n",
    "\n",
    "radius_range=radius_range[radius_range<3][0::2]\n",
    "\n",
    "# train_ind,test_ind=radius_range[0::2],radius_range[1::2]\n",
    "# train_test_split(radius_range, test_size=0.3, random_state=0)\n",
    "# print(len(train_ind),len(test_ind))\n",
    "# with open('train_ind.pickle', 'wb') as handle:\n",
    "#     pickle.dump(train_ind, handle, protocol=pickle.HIGHEST_PROTOCOL)\n",
    "\n",
    "# with open('test_ind.pickle', 'wb') as handle:\n",
    "#     pickle.dump(test_ind, handle, protocol=pickle.HIGHEST_PROTOCOL)\n",
    "\n",
    "# with open('test_ind.pickle', 'rb') as handle:\n",
    "#     test_ind = pickle.load(handle)\n",
    "\n",
    "# with open('train_ind.pickle', 'rb') as handle:\n",
    "#     train_ind = pickle.load(handle)\n",
    "    \n",
    "# print(len(train_ind),len(test_ind))    "
   ]
  },
  {
   "cell_type": "code",
   "execution_count": null,
   "id": "13f7c794-b831-4298-aaa5-501de859c130",
   "metadata": {},
   "outputs": [],
   "source": []
  },
  {
   "cell_type": "code",
   "execution_count": 6,
   "id": "5fe50cc5-b4e2-4205-b20f-9772332952db",
   "metadata": {},
   "outputs": [
    {
     "data": {
      "text/plain": [
       "80"
      ]
     },
     "execution_count": 6,
     "metadata": {},
     "output_type": "execute_result"
    }
   ],
   "source": [
    "len(radius_range)"
   ]
  },
  {
   "cell_type": "code",
   "execution_count": 7,
   "id": "cb8a3944-299e-4070-ad87-bdb34a4444ef",
   "metadata": {},
   "outputs": [],
   "source": [
    "def gen_run(r,path):\n",
    "    with open(os.path.join(path,f'run.sh'),'w') as g:\n",
    "        g.write(f\"\"\"#!/bin/bash\n",
    "#This file is a submission script to request the ISAAC resources from Slurm\n",
    "#SBATCH --account=ACF-UTK0011             # The project account to be charged\n",
    "#SBATCH --job-name=ironoxo_{r}\t\t       #The name of the job\n",
    "#SBATCH --nodes=1                     # Number of nodes\n",
    "#SBATCH --ntasks-per-node=4          # cpus per node\n",
    "#SBATCH --partition=campus            # If not specified then default is \"campus\"\n",
    "#SBATCH --qos=campus\n",
    "#SBATCH --time=0-04:00:00             # Wall time (days-hh:mm:ss)\n",
    "#SBATCH --error=job.e%J\t       # The file where run time errors will be dumped\n",
    "#SBATCH --output=job.o%J\t       # The file where the output of the terminal will be dumped\n",
    "\n",
    "\n",
    "\n",
    "# PATCH!\n",
    "# MOVE TO WORKING DIR\n",
    "echo $SLURM_SUBMIT_DIR\n",
    "cd $SLURM_SUBMIT_DIR\n",
    "pwd\n",
    "# DEFINE WorkDir\n",
    "mkdir $SLURM_SUBMIT_DIR/$SLURM_JOBID\n",
    "export WorkDir=$SLURM_SUBMIT_DIR/$SLURM_JOBID\n",
    "export MOLCAS_WORKDIR=\"/lustre/isaac/scratch/gjones39\"\n",
    "export MOLCAS=\"/lustre/isaac/proj/UTK0022/Grier2025/Test/build\"\n",
    "echo $WorkDir\n",
    "\n",
    "\n",
    "\n",
    "module purge\n",
    "module load intel-compilers/2021.2.0\n",
    "module load hdf5/1.10.8-intel\n",
    "module load cmake/3.23.2-intel\n",
    "\n",
    "# DEFINE WorkDir\n",
    "echo \"Starting at $(date)\"\n",
    "echo \"Running on hosts: $SLURM_NODELIST\"\n",
    "echo \"Running on $SLURM_NNODES nodes.\"\n",
    "echo \"Running $SLURM_NTASKS tasks.\"\n",
    "echo \"Current working directory is $(pwd)\"\n",
    "\n",
    "# THE COMMAND\n",
    "pymolcas --new --clean {r}.input -oe {r}.output\n",
    "# CLEAN-UP AND EXIT\n",
    "rm -r $SLURM_SUBMIT_DIR/$SLURM_JOBID\n",
    "echo \"Program finished with exit code $? at: $(date)\"\n",
    "\"\"\")    "
   ]
  },
  {
   "cell_type": "code",
   "execution_count": 8,
   "id": "beb7a178-1e8a-4df6-911c-86e80ebbb148",
   "metadata": {
    "scrolled": true
   },
   "outputs": [],
   "source": [
    "\n",
    "topdir = os.getcwd()\n",
    "\n"
   ]
  },
  {
   "cell_type": "code",
   "execution_count": 9,
   "id": "381a3110-0b37-414d-b6e8-1963051277b6",
   "metadata": {
    "scrolled": true
   },
   "outputs": [
    {
     "name": "stderr",
     "output_type": "stream",
     "text": [
      "0it [00:00, ?it/s]"
     ]
    },
    {
     "name": "stdout",
     "output_type": "stream",
     "text": [
      "/home/grierjones/DDCASPT2/iron_oxo_DDCASPT2/MScaspt2iron/1.84/GMJ_RHS_H_P_3_.csv Doesn't exist... running\n",
      "Running on None cores\n",
      "Found a valid MOLCAS installation at /home/grierjones/Test/build\n",
      "MOLCAS_WORKDIR is set to /tmp/\n"
     ]
    },
    {
     "name": "stderr",
     "output_type": "stream",
     "text": [
      "23it [02:41,  7.01s/it]"
     ]
    },
    {
     "name": "stdout",
     "output_type": "stream",
     "text": [
      "/home/grierjones/DDCASPT2/iron_oxo_DDCASPT2/MScaspt2iron/1.86/GMJ_RHS_H_P_3_.csv Doesn't exist... running\n",
      "Running on None cores\n",
      "Found a valid MOLCAS installation at /home/grierjones/Test/build\n",
      "MOLCAS_WORKDIR is set to /tmp/\n"
     ]
    },
    {
     "name": "stderr",
     "output_type": "stream",
     "text": [
      "24it [04:39, 13.49s/it]"
     ]
    },
    {
     "name": "stdout",
     "output_type": "stream",
     "text": [
      "/home/grierjones/DDCASPT2/iron_oxo_DDCASPT2/MScaspt2iron/1.88/GMJ_RHS_H_P_3_.csv Doesn't exist... running\n",
      "Running on None cores\n",
      "Found a valid MOLCAS installation at /home/grierjones/Test/build\n",
      "MOLCAS_WORKDIR is set to /tmp/\n"
     ]
    },
    {
     "name": "stderr",
     "output_type": "stream",
     "text": [
      "25it [04:44, 12.85s/it]"
     ]
    },
    {
     "name": "stdout",
     "output_type": "stream",
     "text": [
      "/home/grierjones/DDCASPT2/iron_oxo_DDCASPT2/MScaspt2iron/1.90/GMJ_RHS_H_P_3_.csv Doesn't exist... running\n",
      "Running on None cores\n",
      "Found a valid MOLCAS installation at /home/grierjones/Test/build\n",
      "MOLCAS_WORKDIR is set to /tmp/\n"
     ]
    },
    {
     "name": "stderr",
     "output_type": "stream",
     "text": [
      "26it [04:50, 12.18s/it]"
     ]
    },
    {
     "name": "stdout",
     "output_type": "stream",
     "text": [
      "/home/grierjones/DDCASPT2/iron_oxo_DDCASPT2/MScaspt2iron/1.92/GMJ_RHS_H_P_3_.csv Doesn't exist... running\n",
      "Running on None cores\n",
      "Found a valid MOLCAS installation at /home/grierjones/Test/build\n",
      "MOLCAS_WORKDIR is set to /tmp/\n"
     ]
    },
    {
     "name": "stderr",
     "output_type": "stream",
     "text": [
      "27it [04:55, 11.34s/it]"
     ]
    },
    {
     "name": "stdout",
     "output_type": "stream",
     "text": [
      "/home/grierjones/DDCASPT2/iron_oxo_DDCASPT2/MScaspt2iron/1.94/GMJ_RHS_H_P_3_.csv Doesn't exist... running\n",
      "Running on None cores\n",
      "Found a valid MOLCAS installation at /home/grierjones/Test/build\n",
      "MOLCAS_WORKDIR is set to /tmp/\n"
     ]
    },
    {
     "name": "stderr",
     "output_type": "stream",
     "text": [
      "28it [05:01, 10.44s/it]"
     ]
    },
    {
     "name": "stdout",
     "output_type": "stream",
     "text": [
      "/home/grierjones/DDCASPT2/iron_oxo_DDCASPT2/MScaspt2iron/1.96/GMJ_RHS_H_P_3_.csv Doesn't exist... running\n",
      "Running on None cores\n",
      "Found a valid MOLCAS installation at /home/grierjones/Test/build\n",
      "MOLCAS_WORKDIR is set to /tmp/\n"
     ]
    },
    {
     "name": "stderr",
     "output_type": "stream",
     "text": [
      "29it [05:06,  9.55s/it]"
     ]
    },
    {
     "name": "stdout",
     "output_type": "stream",
     "text": [
      "/home/grierjones/DDCASPT2/iron_oxo_DDCASPT2/MScaspt2iron/1.98/GMJ_RHS_H_P_3_.csv Doesn't exist... running\n",
      "Running on None cores\n",
      "Found a valid MOLCAS installation at /home/grierjones/Test/build\n",
      "MOLCAS_WORKDIR is set to /tmp/\n"
     ]
    },
    {
     "name": "stderr",
     "output_type": "stream",
     "text": [
      "30it [05:11,  8.70s/it]"
     ]
    },
    {
     "name": "stdout",
     "output_type": "stream",
     "text": [
      "/home/grierjones/DDCASPT2/iron_oxo_DDCASPT2/MScaspt2iron/2.00/GMJ_RHS_H_P_3_.csv Doesn't exist... running\n",
      "Running on None cores\n",
      "Found a valid MOLCAS installation at /home/grierjones/Test/build\n",
      "MOLCAS_WORKDIR is set to /tmp/\n"
     ]
    },
    {
     "name": "stderr",
     "output_type": "stream",
     "text": [
      "31it [05:17,  7.98s/it]"
     ]
    },
    {
     "name": "stdout",
     "output_type": "stream",
     "text": [
      "/home/grierjones/DDCASPT2/iron_oxo_DDCASPT2/MScaspt2iron/2.02/GMJ_RHS_H_P_3_.csv Doesn't exist... running\n",
      "Running on None cores\n",
      "Found a valid MOLCAS installation at /home/grierjones/Test/build\n",
      "MOLCAS_WORKDIR is set to /tmp/\n"
     ]
    },
    {
     "name": "stderr",
     "output_type": "stream",
     "text": [
      "32it [05:22,  7.36s/it]"
     ]
    },
    {
     "name": "stdout",
     "output_type": "stream",
     "text": [
      "/home/grierjones/DDCASPT2/iron_oxo_DDCASPT2/MScaspt2iron/2.04/GMJ_RHS_H_P_3_.csv Doesn't exist... running\n",
      "Running on None cores\n",
      "Found a valid MOLCAS installation at /home/grierjones/Test/build\n",
      "MOLCAS_WORKDIR is set to /tmp/\n"
     ]
    },
    {
     "name": "stderr",
     "output_type": "stream",
     "text": [
      "33it [05:28,  6.83s/it]"
     ]
    },
    {
     "name": "stdout",
     "output_type": "stream",
     "text": [
      "/home/grierjones/DDCASPT2/iron_oxo_DDCASPT2/MScaspt2iron/2.06/GMJ_RHS_H_P_3_.csv Doesn't exist... running\n",
      "Running on None cores\n",
      "Found a valid MOLCAS installation at /home/grierjones/Test/build\n",
      "MOLCAS_WORKDIR is set to /tmp/\n"
     ]
    },
    {
     "name": "stderr",
     "output_type": "stream",
     "text": [
      "34it [05:33,  6.39s/it]"
     ]
    },
    {
     "name": "stdout",
     "output_type": "stream",
     "text": [
      "/home/grierjones/DDCASPT2/iron_oxo_DDCASPT2/MScaspt2iron/2.08/GMJ_RHS_H_P_3_.csv Doesn't exist... running\n",
      "Running on None cores\n",
      "Found a valid MOLCAS installation at /home/grierjones/Test/build\n",
      "MOLCAS_WORKDIR is set to /tmp/\n"
     ]
    },
    {
     "name": "stderr",
     "output_type": "stream",
     "text": [
      "35it [05:38,  6.07s/it]"
     ]
    },
    {
     "name": "stdout",
     "output_type": "stream",
     "text": [
      "/home/grierjones/DDCASPT2/iron_oxo_DDCASPT2/MScaspt2iron/2.10/GMJ_RHS_H_P_3_.csv Doesn't exist... running\n",
      "Running on None cores\n",
      "Found a valid MOLCAS installation at /home/grierjones/Test/build\n",
      "MOLCAS_WORKDIR is set to /tmp/\n"
     ]
    },
    {
     "name": "stderr",
     "output_type": "stream",
     "text": [
      "36it [05:43,  5.89s/it]"
     ]
    },
    {
     "name": "stdout",
     "output_type": "stream",
     "text": [
      "/home/grierjones/DDCASPT2/iron_oxo_DDCASPT2/MScaspt2iron/2.12/GMJ_RHS_H_P_3_.csv Doesn't exist... running\n",
      "Running on None cores\n",
      "Found a valid MOLCAS installation at /home/grierjones/Test/build\n",
      "MOLCAS_WORKDIR is set to /tmp/\n"
     ]
    },
    {
     "name": "stderr",
     "output_type": "stream",
     "text": [
      "37it [05:49,  5.73s/it]"
     ]
    },
    {
     "name": "stdout",
     "output_type": "stream",
     "text": [
      "/home/grierjones/DDCASPT2/iron_oxo_DDCASPT2/MScaspt2iron/2.14/GMJ_RHS_H_P_3_.csv Doesn't exist... running\n",
      "Running on None cores\n",
      "Found a valid MOLCAS installation at /home/grierjones/Test/build\n",
      "MOLCAS_WORKDIR is set to /tmp/\n"
     ]
    },
    {
     "name": "stderr",
     "output_type": "stream",
     "text": [
      "38it [05:54,  5.60s/it]"
     ]
    },
    {
     "name": "stdout",
     "output_type": "stream",
     "text": [
      "/home/grierjones/DDCASPT2/iron_oxo_DDCASPT2/MScaspt2iron/2.16/GMJ_RHS_H_P_3_.csv Doesn't exist... running\n",
      "Running on None cores\n",
      "Found a valid MOLCAS installation at /home/grierjones/Test/build\n",
      "MOLCAS_WORKDIR is set to /tmp/\n"
     ]
    },
    {
     "name": "stderr",
     "output_type": "stream",
     "text": [
      "39it [05:59,  5.53s/it]"
     ]
    },
    {
     "name": "stdout",
     "output_type": "stream",
     "text": [
      "/home/grierjones/DDCASPT2/iron_oxo_DDCASPT2/MScaspt2iron/2.18/GMJ_RHS_H_P_3_.csv Doesn't exist... running\n",
      "Running on None cores\n",
      "Found a valid MOLCAS installation at /home/grierjones/Test/build\n",
      "MOLCAS_WORKDIR is set to /tmp/\n"
     ]
    },
    {
     "name": "stderr",
     "output_type": "stream",
     "text": [
      "40it [06:04,  5.39s/it]"
     ]
    },
    {
     "name": "stdout",
     "output_type": "stream",
     "text": [
      "/home/grierjones/DDCASPT2/iron_oxo_DDCASPT2/MScaspt2iron/2.20/GMJ_RHS_H_P_3_.csv Doesn't exist... running\n",
      "Running on None cores\n",
      "Found a valid MOLCAS installation at /home/grierjones/Test/build\n",
      "MOLCAS_WORKDIR is set to /tmp/\n"
     ]
    },
    {
     "name": "stderr",
     "output_type": "stream",
     "text": [
      "41it [06:10,  5.32s/it]"
     ]
    },
    {
     "name": "stdout",
     "output_type": "stream",
     "text": [
      "/home/grierjones/DDCASPT2/iron_oxo_DDCASPT2/MScaspt2iron/2.22/GMJ_RHS_H_P_3_.csv Doesn't exist... running\n",
      "Running on None cores\n",
      "Found a valid MOLCAS installation at /home/grierjones/Test/build\n",
      "MOLCAS_WORKDIR is set to /tmp/\n"
     ]
    },
    {
     "name": "stderr",
     "output_type": "stream",
     "text": [
      "42it [06:15,  5.37s/it]"
     ]
    },
    {
     "name": "stdout",
     "output_type": "stream",
     "text": [
      "/home/grierjones/DDCASPT2/iron_oxo_DDCASPT2/MScaspt2iron/2.24/GMJ_RHS_H_P_3_.csv Doesn't exist... running\n",
      "Running on None cores\n",
      "Found a valid MOLCAS installation at /home/grierjones/Test/build\n",
      "MOLCAS_WORKDIR is set to /tmp/\n"
     ]
    },
    {
     "name": "stderr",
     "output_type": "stream",
     "text": [
      "43it [06:21,  5.52s/it]"
     ]
    },
    {
     "name": "stdout",
     "output_type": "stream",
     "text": [
      "/home/grierjones/DDCASPT2/iron_oxo_DDCASPT2/MScaspt2iron/2.26/GMJ_RHS_H_P_3_.csv Doesn't exist... running\n",
      "Running on None cores\n",
      "Found a valid MOLCAS installation at /home/grierjones/Test/build\n",
      "MOLCAS_WORKDIR is set to /tmp/\n"
     ]
    },
    {
     "name": "stderr",
     "output_type": "stream",
     "text": [
      "44it [06:26,  5.40s/it]"
     ]
    },
    {
     "name": "stdout",
     "output_type": "stream",
     "text": [
      "/home/grierjones/DDCASPT2/iron_oxo_DDCASPT2/MScaspt2iron/2.28/GMJ_RHS_H_P_3_.csv Doesn't exist... running\n",
      "Running on None cores\n",
      "Found a valid MOLCAS installation at /home/grierjones/Test/build\n",
      "MOLCAS_WORKDIR is set to /tmp/\n"
     ]
    },
    {
     "name": "stderr",
     "output_type": "stream",
     "text": [
      "45it [06:31,  5.31s/it]"
     ]
    },
    {
     "name": "stdout",
     "output_type": "stream",
     "text": [
      "/home/grierjones/DDCASPT2/iron_oxo_DDCASPT2/MScaspt2iron/2.30/GMJ_RHS_H_P_3_.csv Doesn't exist... running\n",
      "Running on None cores\n",
      "Found a valid MOLCAS installation at /home/grierjones/Test/build\n",
      "MOLCAS_WORKDIR is set to /tmp/\n"
     ]
    },
    {
     "name": "stderr",
     "output_type": "stream",
     "text": [
      "46it [06:36,  5.28s/it]"
     ]
    },
    {
     "name": "stdout",
     "output_type": "stream",
     "text": [
      "/home/grierjones/DDCASPT2/iron_oxo_DDCASPT2/MScaspt2iron/2.32/GMJ_RHS_H_P_3_.csv Doesn't exist... running\n",
      "Running on None cores\n",
      "Found a valid MOLCAS installation at /home/grierjones/Test/build\n",
      "MOLCAS_WORKDIR is set to /tmp/\n"
     ]
    },
    {
     "name": "stderr",
     "output_type": "stream",
     "text": [
      "47it [06:42,  5.31s/it]"
     ]
    },
    {
     "name": "stdout",
     "output_type": "stream",
     "text": [
      "/home/grierjones/DDCASPT2/iron_oxo_DDCASPT2/MScaspt2iron/2.34/GMJ_RHS_H_P_3_.csv Doesn't exist... running\n",
      "Running on None cores\n",
      "Found a valid MOLCAS installation at /home/grierjones/Test/build\n",
      "MOLCAS_WORKDIR is set to /tmp/\n"
     ]
    },
    {
     "name": "stderr",
     "output_type": "stream",
     "text": [
      "48it [06:47,  5.30s/it]"
     ]
    },
    {
     "name": "stdout",
     "output_type": "stream",
     "text": [
      "/home/grierjones/DDCASPT2/iron_oxo_DDCASPT2/MScaspt2iron/2.36/GMJ_RHS_H_P_3_.csv Doesn't exist... running\n",
      "Running on None cores\n",
      "Found a valid MOLCAS installation at /home/grierjones/Test/build\n",
      "MOLCAS_WORKDIR is set to /tmp/\n"
     ]
    },
    {
     "name": "stderr",
     "output_type": "stream",
     "text": [
      "49it [06:52,  5.29s/it]"
     ]
    },
    {
     "name": "stdout",
     "output_type": "stream",
     "text": [
      "/home/grierjones/DDCASPT2/iron_oxo_DDCASPT2/MScaspt2iron/2.38/GMJ_RHS_H_P_3_.csv Doesn't exist... running\n",
      "Running on None cores\n",
      "Found a valid MOLCAS installation at /home/grierjones/Test/build\n",
      "MOLCAS_WORKDIR is set to /tmp/\n"
     ]
    },
    {
     "name": "stderr",
     "output_type": "stream",
     "text": [
      "50it [06:57,  5.22s/it]"
     ]
    },
    {
     "name": "stdout",
     "output_type": "stream",
     "text": [
      "/home/grierjones/DDCASPT2/iron_oxo_DDCASPT2/MScaspt2iron/2.40/GMJ_RHS_H_P_3_.csv Doesn't exist... running\n",
      "Running on None cores\n",
      "Found a valid MOLCAS installation at /home/grierjones/Test/build\n",
      "MOLCAS_WORKDIR is set to /tmp/\n"
     ]
    },
    {
     "name": "stderr",
     "output_type": "stream",
     "text": [
      "51it [07:03,  5.22s/it]"
     ]
    },
    {
     "name": "stdout",
     "output_type": "stream",
     "text": [
      "/home/grierjones/DDCASPT2/iron_oxo_DDCASPT2/MScaspt2iron/2.42/GMJ_RHS_H_P_3_.csv Doesn't exist... running\n",
      "Running on None cores\n",
      "Found a valid MOLCAS installation at /home/grierjones/Test/build\n",
      "MOLCAS_WORKDIR is set to /tmp/\n"
     ]
    },
    {
     "name": "stderr",
     "output_type": "stream",
     "text": [
      "52it [07:08,  5.20s/it]"
     ]
    },
    {
     "name": "stdout",
     "output_type": "stream",
     "text": [
      "/home/grierjones/DDCASPT2/iron_oxo_DDCASPT2/MScaspt2iron/2.44/GMJ_RHS_H_P_3_.csv Doesn't exist... running\n",
      "Running on None cores\n",
      "Found a valid MOLCAS installation at /home/grierjones/Test/build\n",
      "MOLCAS_WORKDIR is set to /tmp/\n"
     ]
    },
    {
     "name": "stderr",
     "output_type": "stream",
     "text": [
      "53it [07:13,  5.16s/it]"
     ]
    },
    {
     "name": "stdout",
     "output_type": "stream",
     "text": [
      "/home/grierjones/DDCASPT2/iron_oxo_DDCASPT2/MScaspt2iron/2.46/GMJ_RHS_H_P_3_.csv Doesn't exist... running\n",
      "Running on None cores\n",
      "Found a valid MOLCAS installation at /home/grierjones/Test/build\n",
      "MOLCAS_WORKDIR is set to /tmp/\n"
     ]
    },
    {
     "name": "stderr",
     "output_type": "stream",
     "text": [
      "54it [07:18,  5.21s/it]"
     ]
    },
    {
     "name": "stdout",
     "output_type": "stream",
     "text": [
      "/home/grierjones/DDCASPT2/iron_oxo_DDCASPT2/MScaspt2iron/2.48/GMJ_RHS_H_P_3_.csv Doesn't exist... running\n",
      "Running on None cores\n",
      "Found a valid MOLCAS installation at /home/grierjones/Test/build\n",
      "MOLCAS_WORKDIR is set to /tmp/\n"
     ]
    },
    {
     "name": "stderr",
     "output_type": "stream",
     "text": [
      "55it [07:23,  5.15s/it]"
     ]
    },
    {
     "name": "stdout",
     "output_type": "stream",
     "text": [
      "/home/grierjones/DDCASPT2/iron_oxo_DDCASPT2/MScaspt2iron/2.50/GMJ_RHS_H_P_3_.csv Doesn't exist... running\n",
      "Running on None cores\n",
      "Found a valid MOLCAS installation at /home/grierjones/Test/build\n",
      "MOLCAS_WORKDIR is set to /tmp/\n"
     ]
    },
    {
     "name": "stderr",
     "output_type": "stream",
     "text": [
      "56it [07:28,  5.07s/it]"
     ]
    },
    {
     "name": "stdout",
     "output_type": "stream",
     "text": [
      "/home/grierjones/DDCASPT2/iron_oxo_DDCASPT2/MScaspt2iron/2.52/GMJ_RHS_H_P_3_.csv Doesn't exist... running\n",
      "Running on None cores\n",
      "Found a valid MOLCAS installation at /home/grierjones/Test/build\n",
      "MOLCAS_WORKDIR is set to /tmp/\n"
     ]
    },
    {
     "name": "stderr",
     "output_type": "stream",
     "text": [
      "57it [07:33,  5.05s/it]"
     ]
    },
    {
     "name": "stdout",
     "output_type": "stream",
     "text": [
      "/home/grierjones/DDCASPT2/iron_oxo_DDCASPT2/MScaspt2iron/2.54/GMJ_RHS_H_P_3_.csv Doesn't exist... running\n",
      "Running on None cores\n",
      "Found a valid MOLCAS installation at /home/grierjones/Test/build\n",
      "MOLCAS_WORKDIR is set to /tmp/\n"
     ]
    },
    {
     "name": "stderr",
     "output_type": "stream",
     "text": [
      "58it [07:38,  5.04s/it]"
     ]
    },
    {
     "name": "stdout",
     "output_type": "stream",
     "text": [
      "/home/grierjones/DDCASPT2/iron_oxo_DDCASPT2/MScaspt2iron/2.56/GMJ_RHS_H_P_3_.csv Doesn't exist... running\n",
      "Running on None cores\n",
      "Found a valid MOLCAS installation at /home/grierjones/Test/build\n",
      "MOLCAS_WORKDIR is set to /tmp/\n"
     ]
    },
    {
     "name": "stderr",
     "output_type": "stream",
     "text": [
      "59it [07:43,  5.09s/it]"
     ]
    },
    {
     "name": "stdout",
     "output_type": "stream",
     "text": [
      "/home/grierjones/DDCASPT2/iron_oxo_DDCASPT2/MScaspt2iron/2.58/GMJ_RHS_H_P_3_.csv Doesn't exist... running\n",
      "Running on None cores\n",
      "Found a valid MOLCAS installation at /home/grierjones/Test/build\n",
      "MOLCAS_WORKDIR is set to /tmp/\n"
     ]
    },
    {
     "name": "stderr",
     "output_type": "stream",
     "text": [
      "60it [07:48,  5.10s/it]"
     ]
    },
    {
     "name": "stdout",
     "output_type": "stream",
     "text": [
      "/home/grierjones/DDCASPT2/iron_oxo_DDCASPT2/MScaspt2iron/2.60/GMJ_RHS_H_P_3_.csv Doesn't exist... running\n",
      "Running on None cores\n",
      "Found a valid MOLCAS installation at /home/grierjones/Test/build\n",
      "MOLCAS_WORKDIR is set to /tmp/\n"
     ]
    },
    {
     "name": "stderr",
     "output_type": "stream",
     "text": [
      "61it [07:54,  5.18s/it]"
     ]
    },
    {
     "name": "stdout",
     "output_type": "stream",
     "text": [
      "/home/grierjones/DDCASPT2/iron_oxo_DDCASPT2/MScaspt2iron/2.62/GMJ_RHS_H_P_3_.csv Doesn't exist... running\n",
      "Running on None cores\n",
      "Found a valid MOLCAS installation at /home/grierjones/Test/build\n",
      "MOLCAS_WORKDIR is set to /tmp/\n"
     ]
    },
    {
     "name": "stderr",
     "output_type": "stream",
     "text": [
      "62it [07:59,  5.21s/it]"
     ]
    },
    {
     "name": "stdout",
     "output_type": "stream",
     "text": [
      "/home/grierjones/DDCASPT2/iron_oxo_DDCASPT2/MScaspt2iron/2.64/GMJ_RHS_H_P_3_.csv Doesn't exist... running\n",
      "Running on None cores\n",
      "Found a valid MOLCAS installation at /home/grierjones/Test/build\n",
      "MOLCAS_WORKDIR is set to /tmp/\n"
     ]
    },
    {
     "name": "stderr",
     "output_type": "stream",
     "text": [
      "63it [08:04,  5.20s/it]"
     ]
    },
    {
     "name": "stdout",
     "output_type": "stream",
     "text": [
      "/home/grierjones/DDCASPT2/iron_oxo_DDCASPT2/MScaspt2iron/2.66/GMJ_RHS_H_P_3_.csv Doesn't exist... running\n",
      "Running on None cores\n",
      "Found a valid MOLCAS installation at /home/grierjones/Test/build\n",
      "MOLCAS_WORKDIR is set to /tmp/\n"
     ]
    },
    {
     "name": "stderr",
     "output_type": "stream",
     "text": [
      "64it [08:10,  5.29s/it]"
     ]
    },
    {
     "name": "stdout",
     "output_type": "stream",
     "text": [
      "/home/grierjones/DDCASPT2/iron_oxo_DDCASPT2/MScaspt2iron/2.68/GMJ_RHS_H_P_3_.csv Doesn't exist... running\n",
      "Running on None cores\n",
      "Found a valid MOLCAS installation at /home/grierjones/Test/build\n",
      "MOLCAS_WORKDIR is set to /tmp/\n"
     ]
    },
    {
     "name": "stderr",
     "output_type": "stream",
     "text": [
      "65it [08:15,  5.20s/it]"
     ]
    },
    {
     "name": "stdout",
     "output_type": "stream",
     "text": [
      "/home/grierjones/DDCASPT2/iron_oxo_DDCASPT2/MScaspt2iron/2.70/GMJ_RHS_H_P_3_.csv Doesn't exist... running\n",
      "Running on None cores\n",
      "Found a valid MOLCAS installation at /home/grierjones/Test/build\n",
      "MOLCAS_WORKDIR is set to /tmp/\n"
     ]
    },
    {
     "name": "stderr",
     "output_type": "stream",
     "text": [
      "66it [08:20,  5.12s/it]"
     ]
    },
    {
     "name": "stdout",
     "output_type": "stream",
     "text": [
      "/home/grierjones/DDCASPT2/iron_oxo_DDCASPT2/MScaspt2iron/2.72/GMJ_RHS_H_P_3_.csv Doesn't exist... running\n",
      "Running on None cores\n",
      "Found a valid MOLCAS installation at /home/grierjones/Test/build\n",
      "MOLCAS_WORKDIR is set to /tmp/\n"
     ]
    },
    {
     "name": "stderr",
     "output_type": "stream",
     "text": [
      "67it [08:25,  5.12s/it]"
     ]
    },
    {
     "name": "stdout",
     "output_type": "stream",
     "text": [
      "/home/grierjones/DDCASPT2/iron_oxo_DDCASPT2/MScaspt2iron/2.74/GMJ_RHS_H_P_3_.csv Doesn't exist... running\n",
      "Running on None cores\n",
      "Found a valid MOLCAS installation at /home/grierjones/Test/build\n",
      "MOLCAS_WORKDIR is set to /tmp/\n"
     ]
    },
    {
     "name": "stderr",
     "output_type": "stream",
     "text": [
      "68it [08:30,  5.26s/it]"
     ]
    },
    {
     "name": "stdout",
     "output_type": "stream",
     "text": [
      "/home/grierjones/DDCASPT2/iron_oxo_DDCASPT2/MScaspt2iron/2.76/GMJ_RHS_H_P_3_.csv Doesn't exist... running\n",
      "Running on None cores\n",
      "Found a valid MOLCAS installation at /home/grierjones/Test/build\n",
      "MOLCAS_WORKDIR is set to /tmp/\n"
     ]
    },
    {
     "name": "stderr",
     "output_type": "stream",
     "text": [
      "69it [08:35,  5.16s/it]"
     ]
    },
    {
     "name": "stdout",
     "output_type": "stream",
     "text": [
      "/home/grierjones/DDCASPT2/iron_oxo_DDCASPT2/MScaspt2iron/2.78/GMJ_RHS_H_P_3_.csv Doesn't exist... running\n",
      "Running on None cores\n",
      "Found a valid MOLCAS installation at /home/grierjones/Test/build\n",
      "MOLCAS_WORKDIR is set to /tmp/\n"
     ]
    },
    {
     "name": "stderr",
     "output_type": "stream",
     "text": [
      "70it [08:40,  5.09s/it]"
     ]
    },
    {
     "name": "stdout",
     "output_type": "stream",
     "text": [
      "/home/grierjones/DDCASPT2/iron_oxo_DDCASPT2/MScaspt2iron/2.80/GMJ_RHS_H_P_3_.csv Doesn't exist... running\n",
      "Running on None cores\n",
      "Found a valid MOLCAS installation at /home/grierjones/Test/build\n",
      "MOLCAS_WORKDIR is set to /tmp/\n"
     ]
    },
    {
     "name": "stderr",
     "output_type": "stream",
     "text": [
      "71it [08:45,  5.07s/it]"
     ]
    },
    {
     "name": "stdout",
     "output_type": "stream",
     "text": [
      "/home/grierjones/DDCASPT2/iron_oxo_DDCASPT2/MScaspt2iron/2.82/GMJ_RHS_H_P_3_.csv Doesn't exist... running\n",
      "Running on None cores\n",
      "Found a valid MOLCAS installation at /home/grierjones/Test/build\n",
      "MOLCAS_WORKDIR is set to /tmp/\n"
     ]
    },
    {
     "name": "stderr",
     "output_type": "stream",
     "text": [
      "72it [08:50,  5.02s/it]"
     ]
    },
    {
     "name": "stdout",
     "output_type": "stream",
     "text": [
      "/home/grierjones/DDCASPT2/iron_oxo_DDCASPT2/MScaspt2iron/2.84/GMJ_RHS_H_P_3_.csv Doesn't exist... running\n",
      "Running on None cores\n",
      "Found a valid MOLCAS installation at /home/grierjones/Test/build\n",
      "MOLCAS_WORKDIR is set to /tmp/\n"
     ]
    },
    {
     "name": "stderr",
     "output_type": "stream",
     "text": [
      "73it [08:55,  4.97s/it]"
     ]
    },
    {
     "name": "stdout",
     "output_type": "stream",
     "text": [
      "/home/grierjones/DDCASPT2/iron_oxo_DDCASPT2/MScaspt2iron/2.86/GMJ_RHS_H_P_3_.csv Doesn't exist... running\n",
      "Running on None cores\n",
      "Found a valid MOLCAS installation at /home/grierjones/Test/build\n",
      "MOLCAS_WORKDIR is set to /tmp/\n"
     ]
    },
    {
     "name": "stderr",
     "output_type": "stream",
     "text": [
      "74it [09:00,  4.95s/it]"
     ]
    },
    {
     "name": "stdout",
     "output_type": "stream",
     "text": [
      "/home/grierjones/DDCASPT2/iron_oxo_DDCASPT2/MScaspt2iron/2.88/GMJ_RHS_H_P_3_.csv Doesn't exist... running\n",
      "Running on None cores\n",
      "Found a valid MOLCAS installation at /home/grierjones/Test/build\n",
      "MOLCAS_WORKDIR is set to /tmp/\n"
     ]
    },
    {
     "name": "stderr",
     "output_type": "stream",
     "text": [
      "75it [09:05,  4.93s/it]"
     ]
    },
    {
     "name": "stdout",
     "output_type": "stream",
     "text": [
      "/home/grierjones/DDCASPT2/iron_oxo_DDCASPT2/MScaspt2iron/2.90/GMJ_RHS_H_P_3_.csv Doesn't exist... running\n",
      "Running on None cores\n",
      "Found a valid MOLCAS installation at /home/grierjones/Test/build\n",
      "MOLCAS_WORKDIR is set to /tmp/\n"
     ]
    },
    {
     "name": "stderr",
     "output_type": "stream",
     "text": [
      "76it [09:10,  4.94s/it]"
     ]
    },
    {
     "name": "stdout",
     "output_type": "stream",
     "text": [
      "/home/grierjones/DDCASPT2/iron_oxo_DDCASPT2/MScaspt2iron/2.92/GMJ_RHS_H_P_3_.csv Doesn't exist... running\n",
      "Running on None cores\n",
      "Found a valid MOLCAS installation at /home/grierjones/Test/build\n",
      "MOLCAS_WORKDIR is set to /tmp/\n"
     ]
    },
    {
     "name": "stderr",
     "output_type": "stream",
     "text": [
      "77it [09:16,  5.20s/it]"
     ]
    },
    {
     "name": "stdout",
     "output_type": "stream",
     "text": [
      "/home/grierjones/DDCASPT2/iron_oxo_DDCASPT2/MScaspt2iron/2.94/GMJ_RHS_H_P_3_.csv Doesn't exist... running\n",
      "Running on None cores\n",
      "Found a valid MOLCAS installation at /home/grierjones/Test/build\n",
      "MOLCAS_WORKDIR is set to /tmp/\n"
     ]
    },
    {
     "name": "stderr",
     "output_type": "stream",
     "text": [
      "78it [09:21,  5.13s/it]"
     ]
    },
    {
     "name": "stdout",
     "output_type": "stream",
     "text": [
      "/home/grierjones/DDCASPT2/iron_oxo_DDCASPT2/MScaspt2iron/2.96/GMJ_RHS_H_P_3_.csv Doesn't exist... running\n",
      "Running on None cores\n",
      "Found a valid MOLCAS installation at /home/grierjones/Test/build\n",
      "MOLCAS_WORKDIR is set to /tmp/\n"
     ]
    },
    {
     "name": "stderr",
     "output_type": "stream",
     "text": [
      "79it [09:25,  5.04s/it]"
     ]
    },
    {
     "name": "stdout",
     "output_type": "stream",
     "text": [
      "/home/grierjones/DDCASPT2/iron_oxo_DDCASPT2/MScaspt2iron/2.98/GMJ_RHS_H_P_3_.csv Doesn't exist... running\n",
      "Running on None cores\n",
      "Found a valid MOLCAS installation at /home/grierjones/Test/build\n",
      "MOLCAS_WORKDIR is set to /tmp/\n"
     ]
    },
    {
     "name": "stderr",
     "output_type": "stream",
     "text": [
      "80it [09:30,  7.14s/it]"
     ]
    },
    {
     "name": "stdout",
     "output_type": "stream",
     "text": [
      "570.8648840860697\n"
     ]
    },
    {
     "name": "stderr",
     "output_type": "stream",
     "text": [
      "\n"
     ]
    }
   ],
   "source": [
    "t0 = perf_counter()\n",
    "geom = Geometry('FeO.xyz')\n",
    "oxo, iron = geom.atoms[0],geom.atoms[1]\n",
    "\n",
    "for idxr, r in tqdm(enumerate(radius_range)):\n",
    "\n",
    "# Create radius subdirectory\n",
    "    radstr = f\"{r:.2f}\"\n",
    "    rad_dir = os.path.join(os.getcwd(),radstr)\n",
    "    if os.path.exists(rad_dir)==False:\n",
    "        os.mkdir(rad_dir)\n",
    "    \n",
    "        \n",
    "    # Write xyz\n",
    "    geom.change_distance(iron,oxo,r)\n",
    "    geom.write(os.path.join(rad_dir,radstr))\n",
    "    # if idxr==0:\n",
    "    #     scfprevious=None\n",
    "    #     d = DDCASPT2(rad_dir,'ANO-RCC-VTZP',radstr,10,14,None,scf_previous=scfprevious,casscf_previous=scfprevious,symmetry=1,spin=4,UHF=True,CIROOT=\"3 3 1\",frozen=0,pt2maxiter=50,MSroots=3,charge=2)(inputwrite=True,run=True,feat=False)\n",
    "    # else:  \n",
    "    if os.path.exists(os.path.join(topdir,radstr,\"GMJ_RHS_H_P_3_.csv\"))==False:\n",
    "        print(os.path.join(topdir,radstr,\"GMJ_RHS_H_P_3_.csv\"),\"Doesn't exist... running\")\n",
    "        scfprevious=os.path.join(topdir,f\"{radius_range[idxr-1]:.2f}\",f\"{radius_range[idxr-1]:.2f}.UhfOrb\")        \n",
    "        casscf_previous=os.path.join(topdir,f\"{radius_range[idxr-1]:.2f}\",f\"{radius_range[idxr-1]:.2f}.RasOrb\")\n",
    "        d = DDCASPT2(rad_dir,'ANO-RCC-VTZP',radstr,10,14,None,scf_previous=scfprevious,casscf_previous=casscf_previous,symmetry=1,spin=4,UHF=True,CIROOT=\"3 3 1\",frozen=0,pt2maxiter=50,MSroots=3,charge=2)(inputwrite=True,run=True,feat=False)\n",
    "    \n",
    "    gen_run(radstr,rad_dir)\n",
    "print(perf_counter()-t0)"
   ]
  },
  {
   "cell_type": "code",
   "execution_count": 10,
   "id": "f5263624-268b-4998-aa4b-c22a87236a55",
   "metadata": {},
   "outputs": [
    {
     "data": {
      "text/plain": [
       "'#1f78b4'"
      ]
     },
     "execution_count": 10,
     "metadata": {},
     "output_type": "execute_result"
    }
   ],
   "source": [
    "sns.color_palette('Paired').as_hex()[1]"
   ]
  },
  {
   "cell_type": "code",
   "execution_count": null,
   "id": "30567102-4fcd-4bb6-bd95-1793e8c46071",
   "metadata": {},
   "outputs": [],
   "source": [
    "\n"
   ]
  }
 ],
 "metadata": {
  "kernelspec": {
   "display_name": "Python 3 (ipykernel)",
   "language": "python",
   "name": "python3"
  },
  "language_info": {
   "codemirror_mode": {
    "name": "ipython",
    "version": 3
   },
   "file_extension": ".py",
   "mimetype": "text/x-python",
   "name": "python",
   "nbconvert_exporter": "python",
   "pygments_lexer": "ipython3",
   "version": "3.10.4"
  }
 },
 "nbformat": 4,
 "nbformat_minor": 5
}
