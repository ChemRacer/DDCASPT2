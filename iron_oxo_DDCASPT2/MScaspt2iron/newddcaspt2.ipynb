{
 "cells": [
  {
   "cell_type": "code",
   "execution_count": null,
   "id": "64186e21-f624-4588-8211-add44b1840a4",
   "metadata": {},
   "outputs": [],
   "source": [
    "from DDCASPT2 import DDCASPT2\n",
    "import pickle, os, shutil\n",
    "from glob import glob\n",
    "import numpy as np\n",
    "from joblib import Parallel, delayed\n",
    "import pandas as pd\n",
    "from math import sin, cos, pi\n",
    "from tqdm.notebook import tqdm\n",
    "# Geom manipulate\n",
    "from AaronTools.geometry import Geometry\n",
    "from tqdm import tqdm\n",
    "from time import perf_counter\n",
    "import seaborn as sns"
   ]
  },
  {
   "cell_type": "code",
   "execution_count": null,
   "id": "f7af391b-d69a-4323-a441-eff4c5a63454",
   "metadata": {},
   "outputs": [],
   "source": [
    "done = set([i for i in sorted(os.listdir()) if os.path.exists(os.path.join(i,i+\".csv\"))])"
   ]
  },
  {
   "cell_type": "code",
   "execution_count": null,
   "id": "94dd877d-5f8f-45fa-acea-fda24511a6f9",
   "metadata": {},
   "outputs": [],
   "source": [
    "dirs = []\n",
    "for i in sorted(os.listdir()):\n",
    "    try:\n",
    "        r = float(i)\n",
    "        dirs.append(i)\n",
    "    except:\n",
    "        print(\"Nope\",i)"
   ]
  },
  {
   "cell_type": "code",
   "execution_count": null,
   "id": "75c26e8d-6710-49f6-898a-9c82d942c2d9",
   "metadata": {},
   "outputs": [],
   "source": [
    "# radius_range_dirs = []\n",
    "# for i in glob('*.*'):\n",
    "#     try:\n",
    "#         radstr = float(i)\n",
    "#         if radstr>=1.4:\n",
    "#             radius_range_dirs.append(i)\n",
    "#     except:\n",
    "#         continue\n",
    "\n",
    "# radius_range = sorted(radius_range_dirs)\n",
    "\n",
    "# train_ind,test_ind=radius_range[0::2],radius_range[1::2]\n",
    "\n",
    "# print(len(train_ind),len(test_ind))\n",
    "# with open('train_ind.pickle', 'wb') as handle:\n",
    "#     pickle.dump(train_ind, handle, protocol=pickle.HIGHEST_PROTOCOL)\n",
    "\n",
    "# with open('test_ind.pickle', 'wb') as handle:\n",
    "#     pickle.dump(test_ind, handle, protocol=pickle.HIGHEST_PROTOCOL)\n",
    "\n",
    "# with open('test_ind.pickle', 'rb') as handle:\n",
    "#     test_ind = pickle.load(handle)\n",
    "\n",
    "# with open('train_ind.pickle', 'rb') as handle:\n",
    "#     train_ind = pickle.load(handle)\n",
    "    \n",
    "# print(len(train_ind),len(test_ind))    "
   ]
  },
  {
   "cell_type": "code",
   "execution_count": null,
   "id": "de6e2767-eafb-4dd0-8c89-9f0df23906bf",
   "metadata": {},
   "outputs": [],
   "source": [
    "radius_range=np.linspace(1.4,8,661)\n",
    "\n",
    "\n",
    "\n",
    "train_ind,test_ind=radius_range[0::2],radius_range[1::2]\n",
    "# train_test_split(radius_range, test_size=0.3, random_state=0)\n",
    "print(len(train_ind),len(test_ind))\n",
    "with open('train_ind.pickle', 'wb') as handle:\n",
    "    pickle.dump(train_ind, handle, protocol=pickle.HIGHEST_PROTOCOL)\n",
    "\n",
    "with open('test_ind.pickle', 'wb') as handle:\n",
    "    pickle.dump(test_ind, handle, protocol=pickle.HIGHEST_PROTOCOL)\n",
    "\n",
    "with open('test_ind.pickle', 'rb') as handle:\n",
    "    test_ind = pickle.load(handle)\n",
    "\n",
    "with open('train_ind.pickle', 'rb') as handle:\n",
    "    train_ind = pickle.load(handle)\n",
    "    \n",
    "print(len(train_ind),len(test_ind))    "
   ]
  },
  {
   "cell_type": "code",
   "execution_count": null,
   "id": "cb8a3944-299e-4070-ad87-bdb34a4444ef",
   "metadata": {},
   "outputs": [],
   "source": [
    "def gen_run(r,path):\n",
    "    with open(os.path.join(path,f'run.sh'),'w') as g:\n",
    "        g.write(f\"\"\"#!/bin/bash\n",
    "#This file is a submission script to request the ISAAC resources from Slurm\n",
    "#SBATCH --account=ACF-UTK0011             # The project account to be charged\n",
    "#SBATCH --job-name=ironoxo_{r}\t\t       #The name of the job\n",
    "#SBATCH --nodes=1                     # Number of nodes\n",
    "#SBATCH --ntasks-per-node=4          # cpus per node\n",
    "#SBATCH --partition=campus            # If not specified then default is \"campus\"\n",
    "#SBATCH --qos=campus\n",
    "#SBATCH --time=0-04:00:00             # Wall time (days-hh:mm:ss)\n",
    "#SBATCH --error=job.e%J\t       # The file where run time errors will be dumped\n",
    "#SBATCH --output=job.o%J\t       # The file where the output of the terminal will be dumped\n",
    "\n",
    "\n",
    "\n",
    "# PATCH!\n",
    "# MOVE TO WORKING DIR\n",
    "echo $SLURM_SUBMIT_DIR\n",
    "cd $SLURM_SUBMIT_DIR\n",
    "pwd\n",
    "# DEFINE WorkDir\n",
    "mkdir $SLURM_SUBMIT_DIR/$SLURM_JOBID\n",
    "export WorkDir=$SLURM_SUBMIT_DIR/$SLURM_JOBID\n",
    "export MOLCAS_WORKDIR=\"/lustre/isaac/scratch/gjones39\"\n",
    "export MOLCAS=\"/lustre/isaac/proj/UTK0022/Grier2025/Test/build\"\n",
    "echo $WorkDir\n",
    "\n",
    "\n",
    "\n",
    "module purge\n",
    "module load intel-compilers/2021.2.0\n",
    "module load hdf5/1.10.8-intel\n",
    "module load cmake/3.23.2-intel\n",
    "\n",
    "# DEFINE WorkDir\n",
    "echo \"Starting at $(date)\"\n",
    "echo \"Running on hosts: $SLURM_NODELIST\"\n",
    "echo \"Running on $SLURM_NNODES nodes.\"\n",
    "echo \"Running $SLURM_NTASKS tasks.\"\n",
    "echo \"Current working directory is $(pwd)\"\n",
    "\n",
    "# THE COMMAND\n",
    "pymolcas --new --clean {r}.input -oe {r}.output\n",
    "# CLEAN-UP AND EXIT\n",
    "rm -r $SLURM_SUBMIT_DIR/$SLURM_JOBID\n",
    "echo \"Program finished with exit code $? at: $(date)\"\n",
    "\"\"\")    "
   ]
  },
  {
   "cell_type": "code",
   "execution_count": null,
   "id": "beb7a178-1e8a-4df6-911c-86e80ebbb148",
   "metadata": {
    "scrolled": true
   },
   "outputs": [],
   "source": [
    "\n",
    "topdir = os.getcwd()\n",
    "\n"
   ]
  },
  {
   "cell_type": "code",
   "execution_count": null,
   "id": "381a3110-0b37-414d-b6e8-1963051277b6",
   "metadata": {},
   "outputs": [],
   "source": [
    "t0 = perf_counter()\n",
    "geom = Geometry('FeO.xyz')\n",
    "oxo, iron = geom.atoms[0],geom.atoms[1]\n",
    "\n",
    "for idxr, r in tqdm(enumerate(radius_range)):\n",
    "\n",
    "# Create radius subdirectory\n",
    "    radstr = f\"{r:.2f}\"\n",
    "    rad_dir = os.path.join(os.getcwd(),radstr)\n",
    "    if os.path.exists(rad_dir)==False:\n",
    "        os.mkdir(rad_dir)\n",
    "    \n",
    "        \n",
    "    # Write xyz\n",
    "    geom.change_distance(iron,oxo,r)\n",
    "    geom.write(os.path.join(rad_dir,radstr))\n",
    "    if idxr==0:\n",
    "        scfprevious=None\n",
    "        d = DDCASPT2(rad_dir,'ANO-RCC-VDZP',radstr,10,14,None,scf_previous=scfprevious,casscf_previous=scfprevious,symmetry=1,spin=4,UHF=True,CIROOT=\"3 3 1\",frozen=0,pt2maxiter=50,MSroots=3,charge=2)(inputwrite=True,run=False,feat=False)\n",
    "    else:            \n",
    "        # scfprevious=os.path.join(topdir,f\"{radius_range[idxr-1]:.2f}\",f\"{radius_range[idxr-1]:.2f}.UhfOrb\")        \n",
    "        scfprevious=None\n",
    "        # casscf_previous=os.path.join(topdir,f\"{radius_range[idxr-1]:.2f}\",f\"{radius_range[idxr-1]:.2f}.RasOrb\")\n",
    "        casscf_previous=None\n",
    "        d = DDCASPT2(rad_dir,'ANO-RCC-VDZP',radstr,10,14,None,scf_previous=scfprevious,casscf_previous=casscf_previous,symmetry=1,spin=4,UHF=True,CIROOT=\"3 3 1\",frozen=0,pt2maxiter=50,MSroots=3,charge=2)(inputwrite=True,run=False,feat=False)\n",
    "    \n",
    "    gen_run(radstr,rad_dir)\n",
    "print(perf_counter()-t0)"
   ]
  },
  {
   "cell_type": "code",
   "execution_count": null,
   "id": "f5263624-268b-4998-aa4b-c22a87236a55",
   "metadata": {},
   "outputs": [],
   "source": [
    "sns.color_palette('Paired').as_hex()[1]"
   ]
  },
  {
   "cell_type": "code",
   "execution_count": null,
   "id": "30567102-4fcd-4bb6-bd95-1793e8c46071",
   "metadata": {},
   "outputs": [],
   "source": [
    "\n"
   ]
  }
 ],
 "metadata": {
  "kernelspec": {
   "display_name": "Python 3 (ipykernel)",
   "language": "python",
   "name": "python3"
  },
  "language_info": {
   "codemirror_mode": {
    "name": "ipython",
    "version": 3
   },
   "file_extension": ".py",
   "mimetype": "text/x-python",
   "name": "python",
   "nbconvert_exporter": "python",
   "pygments_lexer": "ipython3",
   "version": "3.10.4"
  }
 },
 "nbformat": 4,
 "nbformat_minor": 5
}
