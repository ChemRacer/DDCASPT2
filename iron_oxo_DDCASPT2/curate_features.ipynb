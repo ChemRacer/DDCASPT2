{
 "cells": [
  {
   "cell_type": "code",
   "execution_count": null,
   "id": "86d99593-b81f-452a-9776-afccac4a559f",
   "metadata": {},
   "outputs": [],
   "source": [
    "#!/usr/bin/env python\n",
    "from DDCASPT2 import DDCASPT2\n",
    "import pickle, os, shutil\n",
    "from glob import glob\n",
    "import numpy as np\n",
    "from joblib import Parallel, delayed\n",
    "import pandas as pd\n",
    "from math import sin, cos, pi\n",
    "from tqdm.notebook import tqdm\n",
    "# Geom manipulate\n",
    "from AaronTools.geometry import Geometry\n",
    "from tqdm import tqdm\n",
    "from time import perf_counter\n",
    "\n",
    "\n"
   ]
  },
  {
   "cell_type": "code",
   "execution_count": null,
   "id": "dff9823c-3c45-43dc-aa0e-182562eb156e",
   "metadata": {
    "scrolled": true
   },
   "outputs": [],
   "source": [
    "for path in tqdm(sorted(glob('cluster/*'))):\n",
    "    rad = os.path.basename(path)\n",
    "    if os.path.exists(os.path.join(path,rad+'.csv'))==False:\n",
    "        print(path)\n",
    "        DDCASPT2(path,'ANO-RCC-VDZP',rad,10,14,None,previous=None,symmetry=1,spin=4,UHF=True,charge=2,clean=False,n_jobs=12)(run=False)"
   ]
  },
  {
   "cell_type": "code",
   "execution_count": null,
   "id": "8783316c-8e0f-40d5-af77-de1d3b5e702b",
   "metadata": {},
   "outputs": [],
   "source": []
  }
 ],
 "metadata": {
  "kernelspec": {
   "display_name": "Python 3 (ipykernel)",
   "language": "python",
   "name": "python3"
  },
  "language_info": {
   "codemirror_mode": {
    "name": "ipython",
    "version": 3
   },
   "file_extension": ".py",
   "mimetype": "text/x-python",
   "name": "python",
   "nbconvert_exporter": "python",
   "pygments_lexer": "ipython3",
   "version": "3.10.4"
  }
 },
 "nbformat": 4,
 "nbformat_minor": 5
}
