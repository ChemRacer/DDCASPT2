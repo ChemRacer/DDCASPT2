{
 "cells": [
  {
   "cell_type": "code",
   "execution_count": null,
   "id": "07f4ed39",
   "metadata": {},
   "outputs": [],
   "source": [
    "# For data generation\n",
    "import sys\n",
    "# !{sys.executable} -m pip install matplotlib --upgrade\n",
    "import shutil\n",
    "import os\n",
    "import numpy as np\n",
    "from glob import glob\n",
    "import re\n",
    "import pandas as pd\n",
    "import pickle\n",
    "#random\n",
    "from time import perf_counter\n",
    "\n",
    "# sklearn\n",
    "from sklearn.preprocessing import StandardScaler\n",
    "from sklearn.metrics import r2_score,root_mean_squared_error,mean_absolute_error,mean_absolute_percentage_error\n",
    "from sklearn.model_selection import train_test_split\n",
    "from sklearn.preprocessing import MinMaxScaler\n",
    "from sklearn.kernel_ridge import KernelRidge\n",
    "from sklearn.model_selection import GridSearchCV\n",
    "\n",
    "\n",
    "#Plotting\n",
    "import seaborn as sns\n",
    "sns.set_style()\n",
    "import matplotlib as mpl\n",
    "import matplotlib.pyplot as plt\n",
    "mpl.rcParams['figure.dpi'] = 200\n",
    "\n",
    "import warnings\n",
    "# warnings.filterwarnings(\"ignore\", category=np.DeprecationWarning) \n",
    "\n",
    "\n",
    "from tqdm.auto import tqdm\n",
    "# from tqdm.notebook import tqdm_notebook as tqdm"
   ]
  },
  {
   "cell_type": "code",
   "execution_count": null,
   "id": "390729a3-0664-4374-b662-b437fecd0eda",
   "metadata": {},
   "outputs": [],
   "source": []
  },
  {
   "cell_type": "code",
   "execution_count": null,
   "id": "ff2e8569-2d81-4deb-b91c-324e49b2d9fb",
   "metadata": {},
   "outputs": [],
   "source": [
    "with open(os.path.join(os.path.expanduser('~'),'DDCASPT2/drop.txt'),'r') as d:\n",
    "    dropfeat = [i.replace('\\n','') for i in d.readlines()]"
   ]
  },
  {
   "cell_type": "code",
   "execution_count": null,
   "id": "30fd72cf",
   "metadata": {},
   "outputs": [],
   "source": [
    "with open('test_ind.pickle', 'rb') as handle:\n",
    "    test_ind = pickle.load(handle)\n",
    "\n",
    "with open('train_ind.pickle', 'rb') as handle:\n",
    "    train_ind = pickle.load(handle)\n",
    "    \n",
    "print(len(train_ind),len(test_ind))    \n"
   ]
  },
  {
   "cell_type": "code",
   "execution_count": null,
   "id": "3a7a9d1f-0b4b-4036-b348-243346ff4163",
   "metadata": {},
   "outputs": [],
   "source": []
  },
  {
   "cell_type": "code",
   "execution_count": null,
   "id": "abe9a7f2-d48e-478f-816f-45f962b200c7",
   "metadata": {},
   "outputs": [],
   "source": [
    "train = []\n",
    "test = []\n",
    "\n",
    "\n",
    "\n",
    "recover_train = []\n",
    "recover_test = []\n",
    "\n",
    "traincnt = 0\n",
    "testcnt = 0\n",
    "\n",
    "\n",
    "for k in train_ind:\n",
    "    rad = f\"{k:.2f}\"\n",
    "    traindf = pd.read_csv(os.path.join('cluster',rad,f'{rad}.csv'),compression='zip',index_col=0)\n",
    "    train.append(traindf)\n",
    "    recover_train.append((rad,traincnt,len(traindf)))\n",
    "    traincnt+=1\n",
    "        \n",
    "for l in test_ind:\n",
    "    rad = f\"{l:.2f}\"\n",
    "    testdf = pd.read_csv(os.path.join('cluster',rad,f'{rad}.csv'),compression='zip',index_col=0)\n",
    "    test.append(testdf)                    \n",
    "    recover_test.append((rad,testcnt,len(testdf)))\n",
    "    testcnt+=1"
   ]
  },
  {
   "cell_type": "code",
   "execution_count": null,
   "id": "34b7c2d2-72fb-4e1e-b2d1-b99a8e65139a",
   "metadata": {},
   "outputs": [],
   "source": [
    "rename = {'h$_{qq}^{0}$':'h$_{q}$',\n",
    "'$(F_{q})_{0}$':'$F_{q}$',\n",
    "'$(F_{q}^{\\\\text{SCF}})_{0}$':'$F_{q}^{\\\\text{SCF}}$',\n",
    "'$(\\\\eta_{q})_{0}$':'$\\\\eta_{q}$',\n",
    "'$(\\\\omega_{q})_{0}$':'$\\\\omega_{q}$',\n",
    "'$(\\\\eta_{s})_{0}$':'$\\\\eta_{s}$',\n",
    "'h$_{ss}^{0}$':'h$_{s}$',\n",
    "'$(F_{s}^{\\\\text{SCF}})_{0}$':'$F_{s}^{\\\\text{SCF}}$',\n",
    "'$(F_{s})_{0}$':'$F_{s}$',\n",
    "'$(\\\\omega_{s})_{0}$':'$\\\\omega_{s}$',\n",
    "'$(\\\\langle ss \\\\vert ss \\\\rangle)_{0}$':\"$\\\\langle ss \\\\vert ss \\\\rangle$\",\n",
    "'$(\\\\langle qq \\\\vert qq \\\\rangle)_{0}$':\"$\\langle qq \\\\vert qq \\\\rangle$\",\n",
    "'h$_{pp}^{0}$': 'h$_{p}^{0}$',\n",
    "'h$_{pp}^{1}$': 'h$_{p}^{1}$',\n",
    "'h$_{pp}^{2}$': 'h$_{p}^{2}$',\n",
    "'h$_{pp}^{3}$': 'h$_{p}^{3}$',\n",
    "'h$_{rr}^{0}$': 'h$_{r}^{0}$',\n",
    "'h$_{rr}^{1}$': 'h$_{r}^{1}$',\n",
    "'h$_{rr}^{2}$': 'h$_{r}^{2}$',\n",
    "'h$_{rr}^{3}$': 'h$_{r}^{3}$'}"
   ]
  },
  {
   "cell_type": "code",
   "execution_count": null,
   "id": "6eff1d8e-7084-4c81-80b3-5532cd22a32a",
   "metadata": {},
   "outputs": [],
   "source": [
    "train_df = pd.concat(train).drop(columns=dropfeat).rename(columns=rename)\n",
    "test_df = pd.concat(test).drop(columns=dropfeat).rename(columns=rename)"
   ]
  },
  {
   "cell_type": "code",
   "execution_count": null,
   "id": "0496bf1c-0889-4d88-b6d2-1ac1c6374af7",
   "metadata": {},
   "outputs": [],
   "source": [
    "counttypes=pd.concat([train_df[i].value_counts() for i in train_df.columns if 'typ' in i],axis=1).T.sum(axis=0).sort_index()\n",
    "counttypes.index={1:\"A\", 2:\"B$_{+}$\", 3:\"B$_{-}$\", 4:\"C\", 5:\"D\", 6:\"E$_{+}$\", 7:\"E$_{-}$\", 8:\"F$_{+}$\", 9:\"F$_{-}$\", 10:\"G$_{+}$\", 11:\"G$_{-}$\", 12:\"H$_{+}$\", 13:\"H$_{-}$\"}.values()\n",
    "sns.barplot(data=counttypes.reset_index(),x='index',y=0,color=sns.color_palette('Paired')[1])\n",
    "plt.ylabel('Count')\n",
    "plt.xlabel('Excitation Class')\n",
    "plt.ylim(0,2.5e4)\n",
    "plt.title('Fe(IV)O$^{2+}$ Excitations')\n",
    "plt.tight_layout()\n",
    "plt.savefig('images/excitation_barplot.png',dpi=300,bbox_inches='tight')\n",
    "plt.show()"
   ]
  },
  {
   "cell_type": "code",
   "execution_count": null,
   "id": "0f8e5f1e-f6b3-4083-84b2-eb52bed90494",
   "metadata": {},
   "outputs": [],
   "source": [
    "X_train = train_df.drop(columns=['Pair_Energies']).values\n",
    "X_test = test_df.drop(columns=['Pair_Energies']).values\n",
    "\n",
    "y_train = train_df['Pair_Energies'].values\n",
    "y_test = test_df['Pair_Energies'].values"
   ]
  },
  {
   "cell_type": "code",
   "execution_count": null,
   "id": "5917faf5-a34a-48f3-bc7d-b431a56e228d",
   "metadata": {},
   "outputs": [],
   "source": [
    "X_train.shape"
   ]
  },
  {
   "cell_type": "code",
   "execution_count": null,
   "id": "26d1774c-f1d6-469e-af97-ed2eb16045fe",
   "metadata": {},
   "outputs": [],
   "source": [
    "scaler=MinMaxScaler()\n",
    "X_train=scaler.fit_transform(X_train)\n",
    "X_test=scaler.transform(X_test)"
   ]
  },
  {
   "cell_type": "code",
   "execution_count": null,
   "id": "db8c05d9-a027-4620-8433-25dff97a0ba2",
   "metadata": {},
   "outputs": [],
   "source": []
  },
  {
   "cell_type": "code",
   "execution_count": null,
   "id": "b33b6610-2a11-4ac4-9c8d-4c7df2e7510c",
   "metadata": {
    "tags": []
   },
   "outputs": [],
   "source": [
    "from xgboost import XGBRegressor\n",
    "\n",
    "kwargs = dict(pd.read_excel(\"iron_VDZP_params.xlsx\").values)\n",
    "model=XGBRegressor(**kwargs)\n",
    "model.fit(X_train,y_train)\n",
    "y_pred_train=model.predict(X_train)\n",
    "y_pred_test=model.predict(X_test)\n",
    "print(f\"R2: {r2_score(y_train,y_pred_train):.4f},{r2_score(y_test,y_pred_test):.4f}\")\n",
    "print(f\"RMSE (mEh): {root_mean_squared_error(y_train,y_pred_train)*1e3:.4f},{root_mean_squared_error(y_test,y_pred_test)*1e3:.4f}\")\n",
    "\n",
    "# params = {'max_depth': [1, 10, 100],\n",
    "#           'n_estimators': [100, 500, 1000],\n",
    "#           'reg_lambda': [1e-6, 1e-3,1e-1],\n",
    "#           'reg_alpha': [1e-6, 1e-3,1e-1]}\n",
    "\n",
    "# model = XGBRegressor()\n",
    "# grid = GridSearchCV(estimator=model, \n",
    "#                    param_grid=params,\n",
    "#                    scoring='r2', \n",
    "#                    verbose=1000,n_jobs=12).fit(X_train,y_train)\n",
    "\n",
    "\n",
    "# model=grid.best_estimator_\n",
    "# y_pred_train=model.predict(X_train)\n",
    "# y_pred_test=model.predict(X_test)\n",
    "# print(f\"R2: {r2_score(y_train,y_pred_train):.4f},{r2_score(y_test,y_pred_test):.4f}\")\n",
    "# print(f\"RMSE (mEh): {root_mean_squared_error(y_train,y_pred_train)*1e3:.4f},{root_mean_squared_error(y_test,y_pred_test)*1e3:.4f}\")\n",
    "\n",
    "# pd.DataFrame.from_dict(model.get_params(),orient='index').dropna().to_excel(\"iron_VDZP_params.xlsx\")\n"
   ]
  },
  {
   "cell_type": "code",
   "execution_count": null,
   "id": "0cda8bda-8466-40d3-ad5a-23a5ac6118f5",
   "metadata": {},
   "outputs": [],
   "source": [
    "try:\n",
    "    os.mkdir('images')\n",
    "except:\n",
    "    print('./images exist')"
   ]
  },
  {
   "cell_type": "code",
   "execution_count": null,
   "id": "d59bfbe7-26b3-4e59-9967-492a9267e947",
   "metadata": {
    "tags": []
   },
   "outputs": [],
   "source": [
    "pal = sns.color_palette(\"Paired\")\n",
    "font=12\n",
    "plt.rc('font', size=font)          # controls default text sizes\n",
    "plt.rc('axes', titlesize=font)     # fontsize of the axes title\n",
    "plt.rc('axes', labelsize=font)    # fontsize of the x and y labels\n",
    "plt.rc('xtick', labelsize=font)    # fontsize of the tick labels\n",
    "plt.rc('ytick', labelsize=font)    # fontsize of the tick labels\n",
    "plt.rc('legend', fontsize=font)    # legend fontsize\n",
    "plt.rc('figure', titlesize=font)  # fontsize of the figure title\n",
    "fig,(ax1,ax2)=plt.subplots(1,2,figsize=(13,6))\n",
    "scale=1e-1\n",
    "ax1.set_title('Train')\n",
    "ax1.scatter(1e3*y_train,1e3*y_pred_train,label=\"R$^{2}$=\"+f'{r2_score(y_train,y_pred_train):.4f}\\nMAE={1e3*mean_absolute_error(y_train,y_pred_train):.4f}'+\" mE$_{h}$\",color=pal[8],edgecolors='k')\n",
    "ax1.plot(1e3*y_train,1e3*y_train,'k-')\n",
    "ax1.set_xlim(1e3*min(y_train)-scale,1e3*max(y_train)+scale)\n",
    "ax1.set_ylim(1e3*min(y_train)-scale,1e3*max(y_train)+scale)\n",
    "ax1.set_xlabel('Calculated Pair-Energies (mE$_{h}$)')\n",
    "ax1.set_ylabel('Predicted Pair-Energies (mE$_{h}$)')\n",
    "ax1.legend()\n",
    "\n",
    "\n",
    "ax2.set_title('Test')\n",
    "ax2.scatter(1e3*y_test,1e3*y_pred_test,label=\"R$^{2}$=\"+f'{r2_score(y_test,y_pred_test):.4f}\\nMAE={1e3*mean_absolute_error(y_test,y_pred_test):.4f}'+\" mE$_{h}$\",color=pal[9],edgecolors='k')\n",
    "ax2.plot(1e3*y_test,1e3*y_test,'k-')\n",
    "ax2.set_xlim(1e3*min(y_test)-scale,1e3*max(y_test)+scale)\n",
    "ax2.set_ylim(1e3*min(y_test)-scale,1e3*max(y_test)+scale)\n",
    "ax2.set_xlabel('Calculated Pair-Energies (mE$_{h}$)')\n",
    "ax2.set_ylabel('Predicted Pair-Energies (mE$_{h}$)')\n",
    "ax2.legend()\n",
    "\n",
    "plt.tight_layout()\n",
    "plt.savefig('images/iron_VDZP_parity.png',dpi=300,bbox_inches='tight')\n",
    "plt.show()"
   ]
  },
  {
   "cell_type": "code",
   "execution_count": null,
   "id": "e1ce5ef9-9a21-47d1-9f6d-a8748046f438",
   "metadata": {
    "scrolled": true
   },
   "outputs": [],
   "source": [
    "testcntrcvr = 0\n",
    "recover_test_list = []\n",
    "recover_test_E2 = []\n",
    "for j,k,l in recover_test:\n",
    "    init_test = testcntrcvr\n",
    "    testcntrcvr+=l\n",
    "    recover_test_list.append((j,y_test[init_test:testcntrcvr],y_pred_test[init_test:testcntrcvr]))\n",
    "    recover_test_E2.append((j,np.sum(y_test[init_test:testcntrcvr]),np.sum(y_pred_test[init_test:testcntrcvr])))\n",
    "\n",
    "\n",
    "traincntrcvr = 0\n",
    "recover_train_list = []\n",
    "recover_train_E2 = []\n",
    "for j,k,l in recover_train:\n",
    "    init_train = traincntrcvr\n",
    "    traincntrcvr+=l\n",
    "    recover_train_list.append((j,y_train[init_train:traincntrcvr],y_pred_train[init_train:traincntrcvr]))\n",
    "    recover_train_E2.append((j,np.sum(y_train[init_train:traincntrcvr]),np.sum(y_pred_train[init_train:traincntrcvr])))"
   ]
  },
  {
   "cell_type": "code",
   "execution_count": null,
   "id": "0b352604-8315-4330-86ad-4e6d8d285f0a",
   "metadata": {},
   "outputs": [],
   "source": [
    "traincorrE2 = pd.DataFrame(recover_train_E2).rename(columns={0:'Radius ($\\AA$)',1:'E$_{2}^{\\text{Calculated}}$',2:'E$_{2}^{\\text{Predicted}}$'}).set_index('Radius ($\\AA$)')\n",
    "#.astype({\"basis set\":str,'Radius ($\\AA$)':float,'E$_{2}^{\\text{Calculated}}$':float,'E$_{2}^{\\text{Predicted}}$':float})\n",
    "testcorrE2 = pd.DataFrame(recover_test_E2).rename(columns={0:'Radius ($\\AA$)',1:'E$_{2}^{\\text{Calculated}}$',2:'E$_{2}^{\\text{Predicted}}$'}).set_index('Radius ($\\AA$)')\n",
    "#.astype({\"basis set\":str,'Radius ($\\AA$)':float,'E$_{2}^{\\text{Calculated}}$':float,'E$_{2}^{\\text{Predicted}}$':float})\n",
    "\n",
    "\n",
    "\n",
    "traincorrE2['CASPT2_E']=np.zeros(len(traincorrE2))\n",
    "traincorrE2['CASSCF_E']=np.zeros(len(traincorrE2))\n",
    "traincorrE2['E2']=np.zeros(len(traincorrE2))\n",
    "\n",
    "\n",
    "\n",
    "for i in traincorrE2.index:\n",
    "    energy_df = pd.read_excel(f\"cluster/{i}/{i}_energies.xlsx\",index_col=0)\n",
    "    traincorrE2.loc[i,'CASPT2_E']=energy_df.loc['CASPT2_E'].values\n",
    "    traincorrE2.loc[i,'CASSCF_E']=energy_df.loc['CASSCF_E'].values\n",
    "    # traincorrE2.loc[i,'E2']=energy_df.loc['E2'].values\n",
    "\n",
    "traincorrE2['E$_{\\text{CASPT2}}^{\\text{Predicted}}$'] = traincorrE2['CASSCF_E']+traincorrE2['E$_{2}^{\\text{Predicted}}$']\n",
    "\n",
    "traincorrE2.rename(columns = {'CASPT2_E':'E$_{\\text{CASPT2}}^{\\text{Calculated}}$','CASSCF_E':'E$_{\\text{CASSCF}}^{\\text{Calculated}}$'},inplace=True)\n",
    "\n",
    "\n",
    "testcorrE2['CASPT2_E']=np.zeros(len(testcorrE2))\n",
    "testcorrE2['CASSCF_E']=np.zeros(len(testcorrE2))\n",
    "testcorrE2['E2']=np.zeros(len(testcorrE2))\n",
    "\n",
    "\n",
    "\n",
    "for i in testcorrE2.index:\n",
    "    energy_df = pd.read_excel(f\"cluster/{i}/{i}_energies.xlsx\",index_col=0)\n",
    "    testcorrE2.loc[i,'CASPT2_E']=energy_df.loc['CASPT2_E'].values\n",
    "    testcorrE2.loc[i,'CASSCF_E']=energy_df.loc['CASSCF_E'].values\n",
    "    # testcorrE2.loc[i,'E2']=energy_df.loc['E2'].values\n",
    "\n",
    "testcorrE2['E$_{\\text{CASPT2}}^{\\text{Predicted}}$'] = testcorrE2['CASSCF_E']+testcorrE2['E$_{2}^{\\text{Predicted}}$']\n",
    "\n",
    "testcorrE2.rename(columns = {'CASPT2_E':'E$_{\\text{CASPT2}}^{\\text{Calculated}}$','CASSCF_E':'E$_{\\text{CASSCF}}^{\\text{Calculated}}$'},inplace=True)"
   ]
  },
  {
   "cell_type": "code",
   "execution_count": null,
   "id": "06745306-816e-4b0b-a6d0-ba96e0cd4636",
   "metadata": {},
   "outputs": [],
   "source": [
    "traincaspt2melt = traincorrE2.reset_index().melt(id_vars=['Radius ($\\AA$)'], value_vars=['E$_{\\text{CASPT2}}^{\\text{Calculated}}$','E$_{\\text{CASPT2}}^{\\text{Predicted}}$']).astype({'Radius ($\\AA$)':float,'value':float})\n",
    "testcaspt2melt = testcorrE2.reset_index().melt(id_vars=['Radius ($\\AA$)'], value_vars=['E$_{\\text{CASPT2}}^{\\text{Calculated}}$','E$_{\\text{CASPT2}}^{\\text{Predicted}}$']).astype({'Radius ($\\AA$)':float,'value':float})"
   ]
  },
  {
   "cell_type": "code",
   "execution_count": null,
   "id": "d2e0f9a3-19c9-455a-8b75-02213e0e85b4",
   "metadata": {},
   "outputs": [],
   "source": [
    "trueE2=pd.concat([traincorrE2.reset_index(),testcorrE2.reset_index()]).astype({'Radius ($\\AA$)':float,'E$_{\\text{CASPT2}}^{\\text{Calculated}}$':float})"
   ]
  },
  {
   "cell_type": "code",
   "execution_count": null,
   "id": "a310dd6a-3aff-4b3a-bd1b-2efa9c7f7383",
   "metadata": {},
   "outputs": [],
   "source": [
    "mean_absolute_error(testcorrE2['E$_{\\text{CASPT2}}^{\\text{Calculated}}$'],testcorrE2['E$_{\\text{CASPT2}}^{\\text{Predicted}}$'])*1e3"
   ]
  },
  {
   "cell_type": "code",
   "execution_count": null,
   "id": "b7c8a0b3-d4cb-4637-8f19-e7a8b8e5e7e8",
   "metadata": {},
   "outputs": [],
   "source": [
    "mean_absolute_error(traincorrE2['E$_{\\text{CASPT2}}^{\\text{Calculated}}$'],traincorrE2['E$_{\\text{CASPT2}}^{\\text{Predicted}}$'])*1e3"
   ]
  },
  {
   "cell_type": "code",
   "execution_count": null,
   "id": "718f81fb",
   "metadata": {},
   "outputs": [],
   "source": [
    "pairedcp=sns.color_palette('Paired')"
   ]
  },
  {
   "cell_type": "code",
   "execution_count": null,
   "id": "be78c734-d439-4ac6-96a0-08c4530fa9fe",
   "metadata": {},
   "outputs": [],
   "source": [
    "mean_absolute_error(traincorrE2['E$_{2}^{\\text{Calculated}}$'],traincorrE2['E$_{2}^{\\text{Predicted}}$'])*1e3"
   ]
  },
  {
   "cell_type": "code",
   "execution_count": null,
   "id": "664770e8-0b05-4e07-a248-0a247c56e1f4",
   "metadata": {},
   "outputs": [],
   "source": [
    "mean_absolute_error(testcorrE2['E$_{2}^{\\text{Calculated}}$'],testcorrE2['E$_{2}^{\\text{Predicted}}$'])*1e3"
   ]
  },
  {
   "cell_type": "code",
   "execution_count": null,
   "id": "c3eaf895-34d3-4f4e-b826-ba07f44ad9e9",
   "metadata": {},
   "outputs": [],
   "source": []
  },
  {
   "cell_type": "code",
   "execution_count": null,
   "id": "fbb25471-ac94-447c-b01e-ea5c27e2166c",
   "metadata": {},
   "outputs": [],
   "source": [
    "traincorrerr = {}\n",
    "\n",
    "fig,((ax1,ax2),(ax3,ax4))=plt.subplots(2,2,figsize=(10,10),sharey=True)\n",
    "traincorrE2 = traincorrE2.reset_index()\n",
    "testcorrE2 = testcorrE2.reset_index()\n",
    "pred_train,true_train = traincorrE2['E$_{\\text{CASPT2}}^{\\text{Predicted}}$'],traincorrE2['E$_{\\text{CASPT2}}^{\\text{Calculated}}$']\n",
    "pred_test,true_test = testcorrE2['E$_{\\text{CASPT2}}^{\\text{Predicted}}$'],testcorrE2['E$_{\\text{CASPT2}}^{\\text{Calculated}}$']\n",
    "testrad = testcorrE2['Radius ($\\AA$)']    \n",
    "train_r2_corr = r2_score(true_train,pred_train)\n",
    "test_r2_corr = r2_score(true_test,pred_test)\n",
    "test_mae_corr = 1e3*mean_absolute_error(true_test,pred_test)\n",
    "train_mae_corr = 1e3*mean_absolute_error(true_train,pred_train)\n",
    "\n",
    "traincorrerr = {\"r2_train\":train_r2_corr,\"r2_test\":test_r2_corr,\"mae_train\":train_mae_corr,\"mae_test\":test_mae_corr}\n",
    "trainrad = traincorrE2['Radius ($\\AA$)']\n",
    "\n",
    "\n",
    "ax1.scatter(true_train,pred_train,label='R$^{2}$='+f'{train_r2_corr:.4f}\\nMAE={train_mae_corr:.2e}'+\" mE$_{h}$\",color=pairedcp[8],edgecolors='k')\n",
    "ax1.plot(true_train,true_train,'k')\n",
    "ax1.set_xlabel('Calculated CASPT2 Energy (E$_{h}$)')\n",
    "ax1.set_ylabel('Predicted CASPT2 Energy (E$_{h}$)')\n",
    "ax1.set_title('Train')\n",
    "ax1.plot(np.arange(-1000,1000),np.arange(-1000,1000),'k')\n",
    "ax1.legend()\n",
    "\n",
    "\n",
    "ax2.scatter(true_test,pred_test,label='R$^{2}$='+f'{test_r2_corr:.4f}\\nMAE={test_mae_corr:.2e}'+\" mE$_{h}$\",color=pairedcp[9],edgecolors='k')\n",
    "ax2.plot(true_test,true_test,'k')\n",
    "ax2.plot(np.arange(-1000,1000),np.arange(-1000,1000),'k')\n",
    "ax2.set_xlabel('Calculated CASPT2 Energy (E$_{h}$)')\n",
    "ax2.set_ylabel('Predicted CASPT2 Energy (E$_{h}$)')\n",
    "ax2.set_title('Test')    \n",
    "ax2.legend()\n",
    "\n",
    "ax3.scatter(np.array(trainrad,dtype=float),pred_train,color=pairedcp[8],edgecolors='k')\n",
    "ax3.plot(trueE2.sort_values(by='Radius ($\\AA$)')['Radius ($\\AA$)'],trueE2.sort_values(by='Radius ($\\AA$)')['E$_{\\text{CASPT2}}^{\\text{Calculated}}$'],'k')\n",
    "ax3.set_xlabel('Radius ($\\AA$)')\n",
    "ax3.set_ylabel('CASPT2 Energy (E$_{h}$)')\n",
    "ax3.set_title('Train')\n",
    "\n",
    "ax4.scatter(np.array(testrad,dtype=float),pred_test,color=pairedcp[9],edgecolors='k')\n",
    "ax4.plot(trueE2.sort_values(by='Radius ($\\AA$)')['Radius ($\\AA$)'],trueE2.sort_values(by='Radius ($\\AA$)')['E$_{\\text{CASPT2}}^{\\text{Calculated}}$'],'k')\n",
    "ax4.set_xlabel('Radius ($\\AA$)')\n",
    "ax4.set_ylabel('CASPT2 Energy (E$_{h}$)')\n",
    "ax4.set_title('Test') \n",
    "\n",
    "\n",
    "minpt2, maxpt2= pd.concat([true_train,true_test]).min(), pd.concat([true_train,true_test]).max()\n",
    "pct=0.01\n",
    "bufferbot, buffertop = minpt2*pct, maxpt2*pct\n",
    "\n",
    "\n",
    "bottom, top = minpt2+-0.1, maxpt2+0.05\n",
    "\n",
    "ax1.set_xlim(bottom,top)\n",
    "ax1.set_xticks(np.linspace(bottom,top,4),[f\"{i:.2f}\" for i in np.linspace(bottom,top,4)])\n",
    "ax1.set_ylim(bottom,top)\n",
    "ax1.set_yticks(np.linspace(bottom,top,4),[f\"{i:.2f}\" for i in np.linspace(bottom,top,4)])    \n",
    "ax2.set_xlim(bottom,top)\n",
    "ax2.set_xticks(np.linspace(bottom,top,4),[f\"{i:.2f}\" for i in np.linspace(bottom,top,4)])    \n",
    "ax2.set_ylim(bottom,top)\n",
    "ax2.set_yticks(np.linspace(bottom,top,4),[f\"{i:.2f}\" for i in np.linspace(bottom,top,4)])    \n",
    "\n",
    "\n",
    "ax3.set_ylim(bottom,top)\n",
    "ax3.set_yticks(np.linspace(bottom,top,4),[f\"{i:.2f}\" for i in np.linspace(bottom,top,4)]) \n",
    "\n",
    "fig.suptitle(\"Fe(IV)O$^{2+}$ ANO-RCC-VDZP\")\n",
    "\n",
    "plt.subplots_adjust(wspace=0.05)\n",
    "plt.tight_layout()\n",
    "plt.savefig(f'images/iron_VDZPCASPT2.png',dpi=300,bbox_inches='tight')\n",
    "plt.show()    "
   ]
  },
  {
   "cell_type": "code",
   "execution_count": null,
   "id": "227676e3-3584-48ec-8957-afbb757d23ce",
   "metadata": {},
   "outputs": [],
   "source": [
    "trainpairdf = pd.DataFrame(recover_train_list)\n",
    "testpairdf = pd.DataFrame(recover_test_list)\n",
    "pairerr={}\n",
    "\n",
    "fig,(ax1,ax2)=plt.subplots(1,2,figsize=(10,5),sharey=True)\n",
    "\n",
    "truetrainpair, predtrainpair = np.hstack(trainpairdf[1]),np.hstack(trainpairdf[2])\n",
    "train_r2_pair = r2_score(truetrainpair, predtrainpair)\n",
    "train_mae_pair = 1e3*mean_absolute_error(truetrainpair, predtrainpair)\n",
    "ax1.scatter(truetrainpair, predtrainpair,label='R$^{2}$='+f'{train_r2_pair:.4f}\\nMAE={train_mae_pair:.2e}'+\" mE$_{h}$\",color=pairedcp[8],edgecolors='k')\n",
    "ax1.plot(np.arange(-1000,1000),np.arange(-1000,1000),'k')\n",
    "ax1.set_xlabel('Calculated E$_2$ Energy (E$_{h}$)')\n",
    "ax1.set_ylabel('Predicted E$_2$ Energy (E$_{h}$)')\n",
    "ax1.set_title('Train')    \n",
    "ax1.legend()  \n",
    "\n",
    "truetestpair, predtestpair = np.hstack(testpairdf[1]),np.hstack(testpairdf[2])\n",
    "test_r2_pair = r2_score(truetestpair, predtestpair)\n",
    "test_mae_pair = 1e3*mean_absolute_error(truetestpair, predtestpair)\n",
    "ax2.scatter(truetestpair, predtestpair,label='R$^{2}$='+f'{test_r2_pair:.4f}\\nMAE={test_mae_pair:.2e}'+\" mE$_{h}$\",color=pairedcp[9],edgecolors='k')\n",
    "ax2.plot(np.arange(-1000,1000),np.arange(-1000,1000),'k')\n",
    "ax2.set_xlabel('Calculated E$_2$ Energy (E$_{h}$)')\n",
    "ax2.set_ylabel('Predicted E$_2$ Energy (E$_{h}$)')\n",
    "ax2.set_title('Test')    \n",
    "ax2.legend()    \n",
    "\n",
    "mincorr, maxcorr= np.hstack([truetrainpair,truetestpair]).min(), np.hstack([truetrainpair,truetestpair]).max()\n",
    "pct=0.50\n",
    "bufferbot, buffertop = mincorr*pct, maxcorr*pct\n",
    "\n",
    "# if 'H' in n:\n",
    "bottom, top = mincorr-buffertop, maxcorr+buffertop\n",
    "\n",
    "# else:\n",
    "#     bottom, top = mincorr+-0.1, maxcorr+0.05\n",
    "\n",
    "ax1.set_xlim(bottom,top)\n",
    "ax1.set_xticks(np.linspace(bottom,top,4),[f\"{i:.2f}\" for i in np.linspace(bottom,top,4)])\n",
    "ax1.set_ylim(bottom,top)\n",
    "ax1.set_yticks(np.linspace(bottom,top,4),[f\"{i:.2f}\" for i in np.linspace(bottom,top,4)])    \n",
    "ax2.set_xlim(bottom,top)\n",
    "ax2.set_xticks(np.linspace(bottom,top,4),[f\"{i:.2f}\" for i in np.linspace(bottom,top,4)])    \n",
    "ax2.set_ylim(bottom,top)\n",
    "ax2.set_yticks(np.linspace(bottom,top,4),[f\"{i:.2f}\" for i in np.linspace(bottom,top,4)])    \n",
    "\n",
    "fig.suptitle(\"Fe(IV)O$^{2+}$ ANO-RCC-VDZP\")\n",
    "plt.tight_layout()\n",
    "plt.savefig(f'images/iron_VDZPE2.png',dpi=300,bbox_inches='tight')    \n",
    "plt.show()\n",
    "pairerr = {\"r2_train\":train_r2_pair,\"r2_test\":test_r2_pair,\"mae_train\":train_mae_pair,\"mae_test\":test_mae_pair}"
   ]
  },
  {
   "cell_type": "code",
   "execution_count": null,
   "id": "ee64171f-35c7-4fc0-a9ca-f977f7fcfbaf",
   "metadata": {},
   "outputs": [],
   "source": []
  },
  {
   "cell_type": "code",
   "execution_count": null,
   "id": "9ea4ae21-3a0d-4cb6-8b77-05c89208b6d3",
   "metadata": {},
   "outputs": [],
   "source": [
    "stackeddata ={'Pair-Energies':{'Train':mean_absolute_error(truetrainpair, predtrainpair)*1e3,'Test':mean_absolute_error(truetestpair, predtestpair)*1e3},\n",
    "\"Correlation Energies\":{'Train':mean_absolute_error(true_train,pred_train)*1e3,'Test':mean_absolute_error(pred_test,true_test)*1e3}}\n",
    "pd.DataFrame(stackeddata).to_excel(\"MAE_stacked.xlsx\")"
   ]
  },
  {
   "cell_type": "code",
   "execution_count": null,
   "id": "50b4937d-64cd-4048-ace5-4f68c4c52f3d",
   "metadata": {},
   "outputs": [],
   "source": []
  },
  {
   "cell_type": "code",
   "execution_count": null,
   "id": "a4d0e671-62b6-48be-a49a-f6255eb7a830",
   "metadata": {},
   "outputs": [],
   "source": [
    "# meltcorrerr = pd.DataFrame.from_dict(traincorrerr).loc[['mae_train','mae_test']].T.rename(columns={'mae_train':'Train','mae_test':'Test'}).reset_index().melt(id_vars=['index'], value_vars=['Train','Test'])\n",
    "# meltpairerr = pd.DataFrame.from_dict(pairerr).loc[['mae_train','mae_test']].T.rename(columns={'mae_train':'Train','mae_test':'Test'}).reset_index().melt(id_vars=['index'], value_vars=['Train','Test'])\n",
    "# fig,(ax1,ax2)=plt.subplots(1,2,figsize=(10,5),sharey=True)\n",
    "# sns.barplot(data=meltpairerr,x='index',y='value',hue='variable',palette=pairedcp[4:6],ax=ax1)\n",
    "# ax1.set_ylabel('Mean Absolute Error (mE$_{h}$)')\n",
    "# ax1.set_xlabel('Structures')\n",
    "# ax1.set_title('Pair-Energies')\n",
    "# ax1.set_ylim(0,2.5)\n",
    "# sns.barplot(data=meltcorrerr,x='index',y='value',hue='variable',palette=pairedcp[4:6],ax=ax2)\n",
    "# # ax2.set_ylabel('Mean Absolute Error (mE$_{h}$)')\n",
    "# ax2.set_ylabel('')\n",
    "# ax2.set_xlabel('Structures')\n",
    "# ax2.set_title('Correlation Energies')\n",
    "\n",
    "# plt.tight_layout()\n",
    "# plt.savefig('images/MAE_bar.png',dpi=300,bbox_inches='tight')\n",
    "# plt.show()"
   ]
  },
  {
   "cell_type": "code",
   "execution_count": null,
   "id": "97d2d269-7cce-499c-8d27-eae393ca97b9",
   "metadata": {},
   "outputs": [],
   "source": []
  },
  {
   "cell_type": "code",
   "execution_count": null,
   "id": "dc200cee",
   "metadata": {},
   "outputs": [],
   "source": [
    "import shap\n",
    "explainer = shap.Explainer(model.predict, X_test)\n",
    "shap_values = explainer(X_test)\n",
    "\n"
   ]
  },
  {
   "cell_type": "code",
   "execution_count": null,
   "id": "dc3fb10e-f7ec-4b4f-b7a1-d82a7b8253bb",
   "metadata": {},
   "outputs": [],
   "source": [
    "dffeat=pd.DataFrame(shap_values.abs.values.mean(axis=0),index=train_df.drop(columns=['Pair_Energies']).columns,columns=['shap']).rename(index={'1':'$\\mathbf{b}$'}).reset_index().rename(columns={'index':'feat'}).sort_index().sort_values(by=['shap','feat'],ascending=False)\n",
    "# dffeat['rename']=len(dffeat)*[1]\n"
   ]
  },
  {
   "cell_type": "code",
   "execution_count": null,
   "id": "f0735a62-5e21-4d70-8dd1-ece9e090bc5f",
   "metadata": {},
   "outputs": [],
   "source": []
  },
  {
   "cell_type": "code",
   "execution_count": null,
   "id": "a283628a-d8ee-40aa-8a2c-9d725dc25df6",
   "metadata": {},
   "outputs": [],
   "source": []
  },
  {
   "cell_type": "code",
   "execution_count": null,
   "id": "6863ef7d-e59d-420f-ba52-765ea099aaee",
   "metadata": {},
   "outputs": [],
   "source": [
    "[i for i in dffeat['feat'] if \"_{q\" in i ]"
   ]
  },
  {
   "cell_type": "code",
   "execution_count": null,
   "id": "63984cd5-95bf-41d9-a26b-773130a36837",
   "metadata": {},
   "outputs": [],
   "source": [
    "with open('iron_VDZP_feature_names.txt','w') as f:\n",
    "    for i in dffeat['feat'].values:\n",
    "        f.write(i+'\\n')\n",
    "\n",
    "# with open('feature_names.txt','w') as f:\n",
    "#     for i in dffeat['feat'].values:\n",
    "#         f.write(i+'\\n')"
   ]
  },
  {
   "cell_type": "code",
   "execution_count": null,
   "id": "ea3e7857-e596-4f7e-a6e0-6811d4555de0",
   "metadata": {},
   "outputs": [],
   "source": [
    "np.arange(0, dffeat['feat'].values.size, dffeat['feat'].values.size // 3),dffeat['feat'].values.size"
   ]
  },
  {
   "cell_type": "code",
   "execution_count": null,
   "id": "aabbe3a2-c9ed-4014-82b2-4d127189da49",
   "metadata": {},
   "outputs": [],
   "source": [
    "dffeat.to_excel('iron_VDZP_SHAP.xlsx')"
   ]
  },
  {
   "cell_type": "code",
   "execution_count": null,
   "id": "b9fe17e8-a268-46c2-a788-254a7678ec55",
   "metadata": {},
   "outputs": [],
   "source": [
    "color_map=sns.color_palette('rocket',6)\n",
    "fontsize = 12\n",
    "fig, ax = plt.subplots(1,3,figsize=(15,12))\n",
    "for idx, i in enumerate([[ 0,  35], [35,  70], [70, 105]]):\n",
    "    print(idx,i)\n",
    "    feat_1 = dffeat.iloc[i[0]:i[1]]\n",
    "    ax[idx]=feat_1.sort_values(by=['shap','feat']).plot.barh(x='feat',y='shap',legend=False,color=color_map[3],fontsize=fontsize,ax=ax[idx])\n",
    "    ax[idx].bar_label(ax[idx].containers[0], fmt='%.4e',fontsize=fontsize,padding=1)\n",
    "    ax[idx].set_xlim(0,5e-4)\n",
    "    ax[idx].set_xticks(np.linspace(0,5e-4,4),[f\"{i:.2e}\" for i in np.linspace(0,5e-4,4)])\n",
    "    ax[idx].set_ylabel('Features',fontsize=fontsize)\n",
    "    ax[idx].set_xlabel('mean(|SHAP value|)',fontsize=fontsize)\n",
    "\n",
    "fig.subplots_adjust(wspace=0, hspace=0)\n",
    "\n",
    "plt.tight_layout()\n",
    "plt.savefig('images/iron_VDZP_shap_bar.png',dpi=300, bbox_inches='tight')\n",
    "plt.show()"
   ]
  },
  {
   "cell_type": "code",
   "execution_count": null,
   "id": "666dbf66-8004-493c-b36f-207466708638",
   "metadata": {},
   "outputs": [],
   "source": [
    "# # plt.figure(figsize=(8,13))\n",
    "# color_map=sns.color_palette('rocket',6)\n",
    "# fontsize = 5\n",
    "\n",
    "# feat_2 = dffeat.sort_values(by=['shap','feat']).iloc[:63]\n",
    "# feat_1 = dffeat.sort_values(by=['shap','feat']).iloc[63:]\n",
    "\n",
    "\n",
    "# ax1=feat_1.sort_values(by=['shap','feat']).plot.barh(x='feat',y='shap',legend=False,color=color_map[3],fontsize=fontsize,ax=ax1)\n",
    "# ax1.bar_label(ax1.containers[0], fmt='%.4e',fontsize=fontsize,padding=1)\n",
    "# ax1.set_xlim(0,5e-4)\n",
    "# ax1.set_xticks(np.linspace(0,5e-4,4),[f\"{i:.4f}\" for i in np.linspace(0,5e-4,4)])\n",
    "# ax1.set_ylabel('Features',fontsize=fontsize)\n",
    "# ax1.set_xlabel('mean(|SHAP value|)',fontsize=fontsize)\n",
    "\n",
    "# ax2=feat_2.sort_values(by=['shap','feat']).plot.barh(x='feat',y='shap',legend=False,color=color_map[3],fontsize=fontsize,ax=ax2)\n",
    "# ax2.bar_label(ax2.containers[0], fmt='%.4e',fontsize=fontsize,padding=1)\n",
    "# ax2.set_xlim(0,5e-4)\n",
    "# ax2.set_xticks(np.linspace(0,5e-4,4),[f\"{i:.4f}\" for i in np.linspace(0,5e-4,4)])\n",
    "# ax2.set_ylabel('')\n",
    "# ax2.set_xlabel('mean(|SHAP value|)',fontsize=fontsize)\n",
    "\n",
    "# plt.tight_layout()\n",
    "# # os.mkdir('images')\n",
    "# plt.savefig('images/Hn_shap_bar.png',dpi=300, bbox_inches='tight')\n",
    "# plt.show()\n",
    "\n"
   ]
  },
  {
   "cell_type": "code",
   "execution_count": null,
   "id": "1be8fa86-c7f9-4d64-8a01-742acff8d03b",
   "metadata": {},
   "outputs": [],
   "source": [
    "r2_score(traincorrE2['E$_{\\text{CASPT2}}^{\\text{Calculated}}$'],traincorrE2['E$_{\\text{CASPT2}}^{\\text{Predicted}}$'])"
   ]
  },
  {
   "cell_type": "code",
   "execution_count": null,
   "id": "5bed8824-790f-4a85-90da-d3d235d576c8",
   "metadata": {},
   "outputs": [],
   "source": [
    "r2_score(testcorrE2['E$_{\\text{CASPT2}}^{\\text{Calculated}}$'],testcorrE2['E$_{\\text{CASPT2}}^{\\text{Predicted}}$'])"
   ]
  },
  {
   "cell_type": "code",
   "execution_count": null,
   "id": "2901113c-3a7e-446b-bcfa-a3db501c0660",
   "metadata": {},
   "outputs": [],
   "source": [
    "mean_absolute_error(traincorrE2['E$_{\\text{CASPT2}}^{\\text{Calculated}}$'],traincorrE2['E$_{\\text{CASPT2}}^{\\text{Predicted}}$'])*1e3"
   ]
  },
  {
   "cell_type": "code",
   "execution_count": null,
   "id": "9c8fbfb6-c1be-4712-97e7-47dea8b022f3",
   "metadata": {},
   "outputs": [],
   "source": [
    "mean_absolute_error(testcorrE2['E$_{\\text{CASPT2}}^{\\text{Calculated}}$'],testcorrE2['E$_{\\text{CASPT2}}^{\\text{Predicted}}$'])*1e3"
   ]
  },
  {
   "cell_type": "code",
   "execution_count": null,
   "id": "258540fa-554d-406a-9dc5-70350103ab51",
   "metadata": {},
   "outputs": [],
   "source": []
  },
  {
   "cell_type": "code",
   "execution_count": null,
   "id": "1f6963c9-657a-4c66-b49f-2e9e7d01a219",
   "metadata": {},
   "outputs": [],
   "source": []
  }
 ],
 "metadata": {
  "kernelspec": {
   "display_name": "Python 3 (ipykernel)",
   "language": "python",
   "name": "python3"
  },
  "language_info": {
   "codemirror_mode": {
    "name": "ipython",
    "version": 3
   },
   "file_extension": ".py",
   "mimetype": "text/x-python",
   "name": "python",
   "nbconvert_exporter": "python",
   "pygments_lexer": "ipython3",
   "version": "3.10.4"
  }
 },
 "nbformat": 4,
 "nbformat_minor": 5
}
