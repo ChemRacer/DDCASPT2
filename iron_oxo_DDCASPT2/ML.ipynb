{
 "cells": [
  {
   "cell_type": "code",
   "execution_count": null,
   "id": "07f4ed39",
   "metadata": {},
   "outputs": [],
   "source": [
    "# For data generation\n",
    "import sys\n",
    "# !{sys.executable} -m pip install matplotlib --upgrade\n",
    "import shutil\n",
    "import os\n",
    "import numpy as np\n",
    "from glob import glob\n",
    "import re\n",
    "import pandas as pd\n",
    "import pickle\n",
    "#random\n",
    "from time import perf_counter\n",
    "\n",
    "# sklearn\n",
    "from sklearn.preprocessing import StandardScaler\n",
    "from sklearn.metrics import r2_score,root_mean_squared_error,mean_absolute_error,mean_absolute_percentage_error\n",
    "from sklearn.model_selection import train_test_split\n",
    "from sklearn.preprocessing import MinMaxScaler\n",
    "from sklearn.kernel_ridge import KernelRidge\n",
    "from sklearn.model_selection import GridSearchCV\n",
    "from sklearn.model_selection import train_test_split\n",
    "\n",
    "#Plotting\n",
    "import seaborn as sns\n",
    "sns.set_style()\n",
    "import matplotlib as mpl\n",
    "import matplotlib.pyplot as plt\n",
    "mpl.rcParams['figure.dpi'] = 200\n",
    "\n",
    "import warnings\n",
    "# warnings.filterwarnings(\"ignore\", category=np.DeprecationWarning) \n",
    "\n",
    "\n",
    "from tqdm.auto import tqdm\n",
    "# from tqdm.notebook import tqdm_notebook as tqdm"
   ]
  },
  {
   "cell_type": "code",
   "execution_count": null,
   "id": "ff2e8569-2d81-4deb-b91c-324e49b2d9fb",
   "metadata": {},
   "outputs": [],
   "source": [
    "with open(os.path.join(os.path.expanduser('~'),'DDCASPT2/drop.txt'),'r') as d:\n",
    "    dropfeat = [i.replace('\\n','') for i in d.readlines()]"
   ]
  },
  {
   "cell_type": "code",
   "execution_count": null,
   "id": "30fd72cf",
   "metadata": {},
   "outputs": [],
   "source": [
    "# with open('test_ind.pickle', 'rb') as handle:\n",
    "#     test_ind = pickle.load(handle)\n",
    "\n",
    "# with open('train_ind.pickle', 'rb') as handle:\n",
    "#     train_ind = pickle.load(handle)\n",
    "    \n",
    "# print(len(train_ind),len(test_ind))    \n",
    "# train_ind,test_ind = train_test_split(train_ind+test_ind, test_size=0.3, random_state=42)\n",
    "\n",
    "radius_range_dirs = []\n",
    "for i in glob('cluster/*.*'):\n",
    "    try:\n",
    "        radstr = float(os.path.basename(i))\n",
    "        # if radstr>=1.4:\n",
    "        radius_range_dirs.append(os.path.basename(i))\n",
    "    except:\n",
    "        continue\n",
    "\n",
    "radius_range = sorted(radius_range_dirs)\n",
    "\n",
    "train_ind,test_ind=radius_range[0::2],radius_range[1::2]\n",
    "\n",
    "train_ind = list(map(float,train_ind))\n",
    "test_ind = list(map(float,test_ind))\n",
    "train_ind, test_ind = train_test_split(train_ind+test_ind, test_size=0.1, random_state=42)"
   ]
  },
  {
   "cell_type": "code",
   "execution_count": null,
   "id": "f2069ad6-33fb-453f-82bb-b2f314c24d0f",
   "metadata": {},
   "outputs": [],
   "source": [
    "print(len(train_ind),len(test_ind))    "
   ]
  },
  {
   "cell_type": "code",
   "execution_count": null,
   "id": "3a7a9d1f-0b4b-4036-b348-243346ff4163",
   "metadata": {},
   "outputs": [],
   "source": []
  },
  {
   "cell_type": "code",
   "execution_count": null,
   "id": "e8dd32ee-15b2-4d1d-83b3-9bd030354bf8",
   "metadata": {},
   "outputs": [],
   "source": []
  },
  {
   "cell_type": "code",
   "execution_count": null,
   "id": "21a1b053-f9a2-46f5-96df-ec4d1a1ed464",
   "metadata": {},
   "outputs": [],
   "source": []
  },
  {
   "cell_type": "code",
   "execution_count": null,
   "id": "abe9a7f2-d48e-478f-816f-45f962b200c7",
   "metadata": {},
   "outputs": [],
   "source": [
    "train = []\n",
    "test = []\n",
    "\n",
    "\n",
    "\n",
    "recover_train = []\n",
    "recover_test = []\n",
    "\n",
    "traincnt = 0\n",
    "testcnt = 0\n",
    "\n",
    "\n",
    "for k in train_ind:\n",
    "    rad = f\"{k:.2f}\"\n",
    "    traindf = pd.read_csv(os.path.join('cluster',rad,f'{rad}.csv'),compression='zip',index_col=0)\n",
    "    traindf = traindf[traindf['Pair_Energies'].abs()>=1e-12]\n",
    "    train.append(traindf)\n",
    "    recover_train.append((rad,traincnt,len(traindf)))\n",
    "    traincnt+=1\n",
    "        \n",
    "for l in test_ind:\n",
    "    rad = f\"{l:.2f}\"\n",
    "    testdf = pd.read_csv(os.path.join('cluster',rad,f'{rad}.csv'),compression='zip',index_col=0)\n",
    "    testdf = testdf[testdf['Pair_Energies'].abs()>=1e-12]\n",
    "    test.append(testdf)                    \n",
    "    recover_test.append((rad,testcnt,len(testdf)))\n",
    "    testcnt+=1"
   ]
  },
  {
   "cell_type": "code",
   "execution_count": null,
   "id": "34b7c2d2-72fb-4e1e-b2d1-b99a8e65139a",
   "metadata": {},
   "outputs": [],
   "source": [
    "rename = {'h$_{qq}^{0}$':'h$_{q}$',\n",
    "'$(F_{q})_{0}$':'$F_{q}$',\n",
    "'$(F_{q}^{\\\\text{SCF}})_{0}$':'$F_{q}^{\\\\text{SCF}}$',\n",
    "'$(\\\\eta_{q})_{0}$':'$\\\\eta_{q}$',\n",
    "'$(\\\\omega_{q})_{0}$':'$\\\\omega_{q}$',\n",
    "'$(\\\\eta_{s})_{0}$':'$\\\\eta_{s}$',\n",
    "'h$_{ss}^{0}$':'h$_{s}$',\n",
    "'$(F_{s}^{\\\\text{SCF}})_{0}$':'$F_{s}^{\\\\text{SCF}}$',\n",
    "'$(F_{s})_{0}$':'$F_{s}$',\n",
    "'$(\\\\omega_{s})_{0}$':'$\\\\omega_{s}$',\n",
    "'$(\\\\langle ss \\\\vert ss \\\\rangle)_{0}$':\"$\\\\langle ss \\\\vert ss \\\\rangle$\",\n",
    "'$(\\\\langle qq \\\\vert qq \\\\rangle)_{0}$':\"$\\langle qq \\\\vert qq \\\\rangle$\",\n",
    "'h$_{pp}^{0}$': '(h$_{p}$)$_{0}$',\n",
    "'h$_{pp}^{1}$': '(h$_{p}$)$_{1}$',\n",
    "'h$_{pp}^{2}$': '(h$_{p}$)$_{2}$',\n",
    "'h$_{pp}^{3}$': '(h$_{p}$)$_{3}$',\n",
    "'h$_{rr}^{0}$': '(h$_{r}$)$_{0}$',\n",
    "'h$_{rr}^{1}$': '(h$_{r}$)$_{1}$',\n",
    "'h$_{rr}^{2}$': '(h$_{r}$)$_{2}$',\n",
    "'h$_{rr}^{3}$': '(h$_{r}$)$_{3}$',\n",
    "'h$_{pq}^{0}$':'(h$_{pq}$)$_{0}$',\n",
    "'h$_{pq}^{1}$':'(h$_{pq}$)$_{1}$',\n",
    "'h$_{pq}^{2}$':'(h$_{pq}$)$_{2}$',\n",
    "'h$_{pq}^{3}$':'(h$_{pq}$)$_{3}$',\n",
    "'h$_{pr}^{0}$':'(h$_{pr}$)$_{0}$',\n",
    "'h$_{pr}^{1}$':'(h$_{pr}$)$_{1}$',\n",
    "'h$_{pr}^{2}$':'(h$_{pr}$)$_{2}$',\n",
    "'h$_{pr}^{3}$':'(h$_{pr}$)$_{3}$',\n",
    "'h$_{rs}^{0}$':'(h$_{rs}$)$_{0}$',\n",
    "'h$_{rs}^{1}$':'(h$_{rs}$)$_{1}$',\n",
    "'h$_{rs}^{2}$':'(h$_{rs}$)$_{2}$',\n",
    "'h$_{rs}^{3}$':'(h$_{rs}$)$_{3}$',\n",
    "'typ_0':'$type_0$',\n",
    "'typ_1':'$type_1$',\n",
    "'typ_2':'$type_2$',\n",
    "'typ_3':'$type_3$'}"
   ]
  },
  {
   "cell_type": "code",
   "execution_count": null,
   "id": "6eff1d8e-7084-4c81-80b3-5532cd22a32a",
   "metadata": {},
   "outputs": [],
   "source": [
    "train_df = pd.concat(train).drop(columns=dropfeat).rename(columns=rename)\n",
    "test_df = pd.concat(test).drop(columns=dropfeat).rename(columns=rename)"
   ]
  },
  {
   "cell_type": "code",
   "execution_count": null,
   "id": "552ff37c-4bcc-4362-a264-9b14539abf19",
   "metadata": {},
   "outputs": [],
   "source": [
    "train_df"
   ]
  },
  {
   "cell_type": "code",
   "execution_count": null,
   "id": "0496bf1c-0889-4d88-b6d2-1ac1c6374af7",
   "metadata": {},
   "outputs": [],
   "source": [
    "counttypes=pd.concat([pd.concat([train_df,test_df])[i].value_counts() for i in train_df.columns if 'typ' in i],axis=1).T.sum(axis=0).sort_index()\n",
    "counttypes.index=[{1:\"A\", 2:\"B$_{+}$\", 3:\"B$_{-}$\", 4:\"C\", 5:\"D\", 6:\"E$_{+}$\", 7:\"E$_{-}$\", 8:\"F$_{+}$\", 9:\"F$_{-}$\", 10:\"G$_{+}$\", 11:\"G$_{-}$\", 12:\"H$_{+}$\", 13:\"H$_{-}$\"}[t] for t in counttypes.index+1]\n",
    "sns.barplot(data=counttypes.reset_index(),x='index',y=0,color=sns.color_palette('Paired')[1])\n",
    "plt.ylabel('Count')\n",
    "plt.xlabel('Excitation Class')\n",
    "plt.ylim(0,np.round(counttypes.max(), -4))\n",
    "plt.title('Fe(IV)O$^{2+}$ Excitations')\n",
    "plt.tight_layout()\n",
    "plt.savefig('images/excitation_barplot.png',dpi=300,bbox_inches='tight')\n",
    "plt.show()"
   ]
  },
  {
   "cell_type": "code",
   "execution_count": null,
   "id": "0f8e5f1e-f6b3-4083-84b2-eb52bed90494",
   "metadata": {},
   "outputs": [],
   "source": [
    "X_train = train_df.drop(columns=['Pair_Energies']).values\n",
    "X_test = test_df.drop(columns=['Pair_Energies']).values\n",
    "\n",
    "y_train = train_df['Pair_Energies'].values\n",
    "y_test = test_df['Pair_Energies'].values"
   ]
  },
  {
   "cell_type": "code",
   "execution_count": null,
   "id": "5917faf5-a34a-48f3-bc7d-b431a56e228d",
   "metadata": {},
   "outputs": [],
   "source": [
    "X_train.shape"
   ]
  },
  {
   "cell_type": "code",
   "execution_count": null,
   "id": "26d1774c-f1d6-469e-af97-ed2eb16045fe",
   "metadata": {},
   "outputs": [],
   "source": [
    "scaler=MinMaxScaler()\n",
    "X_train=scaler.fit_transform(X_train)\n",
    "X_test=scaler.transform(X_test)"
   ]
  },
  {
   "cell_type": "code",
   "execution_count": null,
   "id": "a34feb6f-13ea-4ac6-a12c-2c42061ab0c6",
   "metadata": {},
   "outputs": [],
   "source": [
    "np.min(np.floor(np.log10(np.abs(np.concat([y_train,y_test])))))"
   ]
  },
  {
   "cell_type": "code",
   "execution_count": null,
   "id": "7aac8db1-6fd4-42ce-b2c2-1be75c18b529",
   "metadata": {},
   "outputs": [],
   "source": [
    "sns.histplot(np.floor(np.log10(np.abs(np.concat([y_train,y_test])))))\n",
    "plt.xlim(-15,0)\n",
    "# plt.ylim(0,10**5)\n",
    "plt.yscale('log')\n",
    "plt.xlabel(\"Magnitude of Pair-Energies\")\n",
    "plt.tight_layout()\n",
    "plt.savefig(\"images/pair_energy_magnitudes.png\",dpi=300,bbox_inches='tight')"
   ]
  },
  {
   "cell_type": "code",
   "execution_count": null,
   "id": "db8c05d9-a027-4620-8433-25dff97a0ba2",
   "metadata": {},
   "outputs": [],
   "source": []
  },
  {
   "cell_type": "code",
   "execution_count": null,
   "id": "b33b6610-2a11-4ac4-9c8d-4c7df2e7510c",
   "metadata": {
    "tags": []
   },
   "outputs": [],
   "source": [
    "from xgboost import XGBRegressor\n",
    "\n",
    "kwargs = dict(pd.read_excel(\"iron_VDZP_params.xlsx\").values)\n",
    "model=XGBRegressor(**kwargs)\n",
    "model.fit(X_train,y_train)\n",
    "y_pred_train=model.predict(X_train)\n",
    "y_pred_test=model.predict(X_test)\n",
    "print(f\"R2: {r2_score(y_train,y_pred_train):.4f},{r2_score(y_test,y_pred_test):.4f}\")\n",
    "print(f\"RMSE (mEh): {root_mean_squared_error(y_train,y_pred_train)*1e3:.4f},{root_mean_squared_error(y_test,y_pred_test)*1e3:.4f}\")\n",
    "\n",
    "# params = {'max_depth': [1, 10, 100],\n",
    "#           'n_estimators': [100, 500, 1000],\n",
    "#           'reg_lambda': [1e-6, 1e-3,1e-1],\n",
    "#           'reg_alpha': [1e-6, 1e-3,1e-1]}\n",
    "\n",
    "# model = XGBRegressor()\n",
    "# grid = GridSearchCV(estimator=model, \n",
    "#                    param_grid=params,\n",
    "#                    scoring='r2', \n",
    "#                    verbose=1000,n_jobs=12).fit(X_train,y_train)\n",
    "\n",
    "\n",
    "# model=grid.best_estimator_\n",
    "# y_pred_train=model.predict(X_train)\n",
    "# y_pred_test=model.predict(X_test)\n",
    "# print(f\"R2: {r2_score(y_train,y_pred_train):.4f},{r2_score(y_test,y_pred_test):.4f}\")\n",
    "# print(f\"RMSE (mEh): {root_mean_squared_error(y_train,y_pred_train)*1e3:.4f},{root_mean_squared_error(y_test,y_pred_test)*1e3:.4f}\")\n",
    "\n",
    "# pd.DataFrame.from_dict(model.get_params(),orient='index').dropna().to_excel(\"iron_VDZP_params.xlsx\")\n"
   ]
  },
  {
   "cell_type": "code",
   "execution_count": null,
   "id": "0cda8bda-8466-40d3-ad5a-23a5ac6118f5",
   "metadata": {},
   "outputs": [],
   "source": [
    "try:\n",
    "    os.mkdir('images')\n",
    "except:\n",
    "    print('./images exist')"
   ]
  },
  {
   "cell_type": "code",
   "execution_count": null,
   "id": "9ef9859d-ec75-46f8-ba0b-ce9e443f32b4",
   "metadata": {},
   "outputs": [],
   "source": [
    "sns.displot(np.hstack([y_train,y_test])*1e3)\n",
    "plt.yscale('log')\n",
    "plt.xlim(-20,10)\n",
    "plt.ylim(0,10**5)\n",
    "plt.ylabel(\"Count (log-scaled)\")\n",
    "plt.xlabel('Pair-Energies (mE$_{h}$)')\n",
    "plt.tight_layout()\n",
    "plt.savefig('images/Pair_energies_dist.png',dpi=300,bbox_inches='tight')"
   ]
  },
  {
   "cell_type": "code",
   "execution_count": null,
   "id": "3780131f-fc5d-4e70-a1b0-aec6cceeeaf3",
   "metadata": {},
   "outputs": [],
   "source": [
    "train_tss = np.sum((y_train-np.mean(y_train))**2)*1e3"
   ]
  },
  {
   "cell_type": "code",
   "execution_count": null,
   "id": "8ef6682a-22ce-4847-ae86-9fe357ebb9ef",
   "metadata": {},
   "outputs": [],
   "source": [
    "test_tss = np.sum((y_test-np.mean(y_test))**2)*1e3"
   ]
  },
  {
   "cell_type": "code",
   "execution_count": null,
   "id": "fd07ebb4-4040-46d7-be04-c8d6524d95ee",
   "metadata": {},
   "outputs": [],
   "source": [
    "example_train =np.array([(i, 1 - (i / train_tss)) for i in np.linspace(train_tss,0,100)])\n",
    "fig, (ax1,ax2) = plt.subplots(1,2,sharey=True,figsize=(10,5))\n",
    "ax1.plot(*example_train.T)\n",
    "ax1.scatter(np.sum((y_train-y_pred_train)**2)*1e3,r2_score(y_train,y_pred_train),color='red',label=f\"RSS={np.sum((y_train-y_pred_train)**2)*1e3:.4f}\"+\" mE$_{h}$\\n\"+f\"TSS={np.sum((y_train-np.mean(y_train))**2)*1e3:.4f}\"+\" mE$_{h}$\\n\"+\"R$^{2}$=\"+f\"{r2_score(y_train,y_pred_train):.4f}\")\n",
    "ax1.set_xlabel('Residual Sum of Squares (mE$_{h}$)')\n",
    "ax1.set_ylabel('R$^{2}$')\n",
    "ax1.set_ylim(0,1)\n",
    "ax1.set_xlim(0,train_tss)\n",
    "ax1.legend()\n",
    "\n",
    "example_test =np.array([(i, 1 - (i / test_tss)) for i in np.linspace(test_tss,0,100)])\n",
    "ax2.plot(*example_test.T)\n",
    "ax2.scatter(np.sum((y_test-y_pred_test)**2)*1e3,r2_score(y_test,y_pred_test),color='red',label=f\"RSS={np.sum((y_test-y_pred_test)**2)*1e3:.4f}\"+\" mE$_{h}$\\n\"+f\"TSS={np.sum((y_test-np.mean(y_test))**2)*1e3:.4f}\"+\" mE$_{h}$\\n\"+\"R$^{2}$=\"+f\"{r2_score(y_test,y_pred_test):.4f}\")\n",
    "ax2.set_xlabel('Residual Sum of Squares (mE$_{h}$)')\n",
    "ax2.set_ylabel('R$^{2}$')\n",
    "ax2.set_ylim(0,1)\n",
    "ax2.set_xlim(0,test_tss)\n",
    "ax2.legend()\n",
    "plt.tight_layout()\n",
    "plt.savefig('images/RSS_vs_R2_original.png',dpi=300,bbox_inches='tight')\n",
    "plt.show()"
   ]
  },
  {
   "cell_type": "code",
   "execution_count": null,
   "id": "d59bfbe7-26b3-4e59-9967-492a9267e947",
   "metadata": {
    "tags": []
   },
   "outputs": [],
   "source": [
    "pal = sns.color_palette(\"Paired\")\n",
    "font=12\n",
    "plt.rc('font', size=font)          # controls default text sizes\n",
    "plt.rc('axes', titlesize=font)     # fontsize of the axes title\n",
    "plt.rc('axes', labelsize=font)    # fontsize of the x and y labels\n",
    "plt.rc('xtick', labelsize=font)    # fontsize of the tick labels\n",
    "plt.rc('ytick', labelsize=font)    # fontsize of the tick labels\n",
    "plt.rc('legend', fontsize=font)    # legend fontsize\n",
    "plt.rc('figure', titlesize=font)  # fontsize of the figure title\n",
    "fig,(ax1,ax2)=plt.subplots(1,2,figsize=(13,6))\n",
    "scale=1e-1\n",
    "ax1.set_title('Train')\n",
    "ax1.scatter(1e3*y_train,1e3*y_pred_train,label=\"R$^{2}$=\"+f'{r2_score(y_train,y_pred_train):.4f}\\nMAE={1e3*mean_absolute_error(y_train,y_pred_train):.4f}'+\" mE$_{h}$\",color=pal[8],edgecolors='k')\n",
    "ax1.plot(np.arange(-1e3,1e3),np.arange(-1e3,1e3),'k-')\n",
    "LMIN,LMAX = -19, 10\n",
    "ax1.set_xlim(LMIN,LMAX)\n",
    "ax1.set_ylim(LMIN,LMAX)\n",
    "ax1.set_xlabel('Calculated Pair-Energies (mE$_{h}$)')\n",
    "ax1.set_ylabel('Predicted Pair-Energies (mE$_{h}$)')\n",
    "ax1.legend()\n",
    "\n",
    "\n",
    "ax2.set_title('Test')\n",
    "ax2.scatter(1e3*y_test,1e3*y_pred_test,label=\"R$^{2}$=\"+f'{r2_score(y_test,y_pred_test):.4f}\\nMAE={1e3*mean_absolute_error(y_test,y_pred_test):.4f}'+\" mE$_{h}$\",color=pal[9],edgecolors='k')\n",
    "ax2.plot(np.arange(-1e3,1e3),np.arange(-1e3,1e3),'k-')\n",
    "ax2.set_xlim(LMIN,LMAX)\n",
    "ax2.set_ylim(LMIN,LMAX)\n",
    "ax2.set_xlabel('Calculated Pair-Energies (mE$_{h}$)')\n",
    "ax2.set_ylabel('Predicted Pair-Energies (mE$_{h}$)')\n",
    "ax2.legend()\n",
    "\n",
    "plt.tight_layout()\n",
    "plt.savefig('images/iron_VDZP_parity.png',dpi=300,bbox_inches='tight')\n",
    "plt.show()"
   ]
  },
  {
   "cell_type": "code",
   "execution_count": null,
   "id": "e1ce5ef9-9a21-47d1-9f6d-a8748046f438",
   "metadata": {
    "scrolled": true
   },
   "outputs": [],
   "source": [
    "testcntrcvr = 0\n",
    "recover_test_list = []\n",
    "recover_test_E2 = []\n",
    "for j,k,l in recover_test:\n",
    "    init_test = testcntrcvr\n",
    "    testcntrcvr+=l\n",
    "    recover_test_list.append((j,y_test[init_test:testcntrcvr],y_pred_test[init_test:testcntrcvr]))\n",
    "    recover_test_E2.append((j,np.sum(y_test[init_test:testcntrcvr]),np.sum(y_pred_test[init_test:testcntrcvr])))\n",
    "\n",
    "\n",
    "traincntrcvr = 0\n",
    "recover_train_list = []\n",
    "recover_train_E2 = []\n",
    "for j,k,l in recover_train:\n",
    "    init_train = traincntrcvr\n",
    "    traincntrcvr+=l\n",
    "    recover_train_list.append((j,y_train[init_train:traincntrcvr],y_pred_train[init_train:traincntrcvr]))\n",
    "    recover_train_E2.append((j,np.sum(y_train[init_train:traincntrcvr]),np.sum(y_pred_train[init_train:traincntrcvr])))"
   ]
  },
  {
   "cell_type": "code",
   "execution_count": null,
   "id": "0b352604-8315-4330-86ad-4e6d8d285f0a",
   "metadata": {},
   "outputs": [],
   "source": [
    "traincorrE2 = pd.DataFrame(recover_train_E2).rename(columns={0:'Radius ($\\AA$)',1:'E$_{2}^{\\text{Calculated}}$',2:'E$_{2}^{\\text{Predicted}}$'}).set_index('Radius ($\\AA$)')\n",
    "#.astype({\"basis set\":str,'Radius ($\\AA$)':float,'E$_{2}^{\\text{Calculated}}$':float,'E$_{2}^{\\text{Predicted}}$':float})\n",
    "testcorrE2 = pd.DataFrame(recover_test_E2).rename(columns={0:'Radius ($\\AA$)',1:'E$_{2}^{\\text{Calculated}}$',2:'E$_{2}^{\\text{Predicted}}$'}).set_index('Radius ($\\AA$)')\n",
    "#.astype({\"basis set\":str,'Radius ($\\AA$)':float,'E$_{2}^{\\text{Calculated}}$':float,'E$_{2}^{\\text{Predicted}}$':float})\n",
    "\n",
    "\n",
    "\n",
    "traincorrE2['CASPT2_E']=np.zeros(len(traincorrE2))\n",
    "traincorrE2['CASSCF_E']=np.zeros(len(traincorrE2))\n",
    "traincorrE2['E2']=np.zeros(len(traincorrE2))\n",
    "\n",
    "\n",
    "\n",
    "for i in traincorrE2.index:\n",
    "    energy_df = pd.read_excel(f\"cluster/{i}/{i}_energies.xlsx\",index_col=0)\n",
    "    traincorrE2.loc[i,'CASPT2_E']=energy_df.loc['CASPT2_E'].values\n",
    "    traincorrE2.loc[i,'CASSCF_E']=energy_df.loc['CASSCF_E'].values\n",
    "    # traincorrE2.loc[i,'E2']=energy_df.loc['E2'].values\n",
    "\n",
    "traincorrE2['E$_{\\text{CASPT2}}^{\\text{Predicted}}$'] = traincorrE2['CASSCF_E']+traincorrE2['E$_{2}^{\\text{Predicted}}$']\n",
    "\n",
    "traincorrE2.rename(columns = {'CASPT2_E':'E$_{\\text{CASPT2}}^{\\text{Calculated}}$','CASSCF_E':'E$_{\\text{CASSCF}}^{\\text{Calculated}}$'},inplace=True)\n",
    "\n",
    "\n",
    "testcorrE2['CASPT2_E']=np.zeros(len(testcorrE2))\n",
    "testcorrE2['CASSCF_E']=np.zeros(len(testcorrE2))\n",
    "testcorrE2['E2']=np.zeros(len(testcorrE2))\n",
    "\n",
    "\n",
    "\n",
    "for i in testcorrE2.index:\n",
    "    energy_df = pd.read_excel(f\"cluster/{i}/{i}_energies.xlsx\",index_col=0)\n",
    "    testcorrE2.loc[i,'CASPT2_E']=energy_df.loc['CASPT2_E'].values\n",
    "    testcorrE2.loc[i,'CASSCF_E']=energy_df.loc['CASSCF_E'].values\n",
    "    # testcorrE2.loc[i,'E2']=energy_df.loc['E2'].values\n",
    "\n",
    "testcorrE2['E$_{\\text{CASPT2}}^{\\text{Predicted}}$'] = testcorrE2['CASSCF_E']+testcorrE2['E$_{2}^{\\text{Predicted}}$']\n",
    "\n",
    "testcorrE2.rename(columns = {'CASPT2_E':'E$_{\\text{CASPT2}}^{\\text{Calculated}}$','CASSCF_E':'E$_{\\text{CASSCF}}^{\\text{Calculated}}$'},inplace=True)\n",
    "\n",
    "testcorrE2.reset_index(inplace=True)\n",
    "traincorrE2.reset_index(inplace=True)"
   ]
  },
  {
   "cell_type": "code",
   "execution_count": null,
   "id": "06745306-816e-4b0b-a6d0-ba96e0cd4636",
   "metadata": {},
   "outputs": [],
   "source": [
    "traincaspt2melt = traincorrE2.reset_index().melt(id_vars=['Radius ($\\AA$)'], value_vars=['E$_{\\text{CASPT2}}^{\\text{Calculated}}$','E$_{\\text{CASPT2}}^{\\text{Predicted}}$']).astype({'Radius ($\\AA$)':float,'value':float})\n",
    "testcaspt2melt = testcorrE2.reset_index().melt(id_vars=['Radius ($\\AA$)'], value_vars=['E$_{\\text{CASPT2}}^{\\text{Calculated}}$','E$_{\\text{CASPT2}}^{\\text{Predicted}}$']).astype({'Radius ($\\AA$)':float,'value':float})"
   ]
  },
  {
   "cell_type": "code",
   "execution_count": null,
   "id": "d2e0f9a3-19c9-455a-8b75-02213e0e85b4",
   "metadata": {},
   "outputs": [],
   "source": [
    "trueE2=pd.concat([traincorrE2.reset_index(),testcorrE2.reset_index()]).astype({'Radius ($\\AA$)':float,'E$_{\\text{CASPT2}}^{\\text{Calculated}}$':float})"
   ]
  },
  {
   "cell_type": "code",
   "execution_count": null,
   "id": "ac1a8187-a49c-44b1-b092-895461e782ff",
   "metadata": {},
   "outputs": [],
   "source": [
    "testcorrE2['E$_{\\text{CASPT2}}^{\\text{Calculated}}$'].min()"
   ]
  },
  {
   "cell_type": "code",
   "execution_count": null,
   "id": "a310dd6a-3aff-4b3a-bd1b-2efa9c7f7383",
   "metadata": {},
   "outputs": [],
   "source": [
    "mean_absolute_error(testcorrE2['E$_{\\text{CASPT2}}^{\\text{Calculated}}$'],testcorrE2['E$_{\\text{CASPT2}}^{\\text{Predicted}}$'])*1e3"
   ]
  },
  {
   "cell_type": "code",
   "execution_count": null,
   "id": "b7c8a0b3-d4cb-4637-8f19-e7a8b8e5e7e8",
   "metadata": {},
   "outputs": [],
   "source": [
    "mean_absolute_error(traincorrE2['E$_{\\text{CASPT2}}^{\\text{Calculated}}$'],traincorrE2['E$_{\\text{CASPT2}}^{\\text{Predicted}}$'])*1e3"
   ]
  },
  {
   "cell_type": "code",
   "execution_count": null,
   "id": "718f81fb",
   "metadata": {},
   "outputs": [],
   "source": [
    "pairedcp=sns.color_palette('Paired')"
   ]
  },
  {
   "cell_type": "code",
   "execution_count": null,
   "id": "be78c734-d439-4ac6-96a0-08c4530fa9fe",
   "metadata": {},
   "outputs": [],
   "source": [
    "mean_absolute_error(traincorrE2['E$_{2}^{\\text{Calculated}}$'],traincorrE2['E$_{2}^{\\text{Predicted}}$'])*1e3"
   ]
  },
  {
   "cell_type": "code",
   "execution_count": null,
   "id": "664770e8-0b05-4e07-a248-0a247c56e1f4",
   "metadata": {},
   "outputs": [],
   "source": [
    "mean_absolute_error(testcorrE2['E$_{2}^{\\text{Calculated}}$'],testcorrE2['E$_{2}^{\\text{Predicted}}$'])*1e3"
   ]
  },
  {
   "cell_type": "code",
   "execution_count": null,
   "id": "c4c2180a-751e-4f7c-9cae-ce74a37663d2",
   "metadata": {},
   "outputs": [],
   "source": [
    "allcorr=pd.concat([traincorrE2,testcorrE2])"
   ]
  },
  {
   "cell_type": "code",
   "execution_count": null,
   "id": "fbb25471-ac94-447c-b01e-ea5c27e2166c",
   "metadata": {},
   "outputs": [],
   "source": [
    "traincorrerr = {}\n",
    "\n",
    "fig,((ax1,ax2),(ax3,ax4),(ax5,ax6))=plt.subplots(3,2,figsize=(10,15),sharey=False)\n",
    "\n",
    "\n",
    "scale=1e-1\n",
    "ax1.set_title('Train')\n",
    "ax1.scatter(1e3*y_train,1e3*y_pred_train,label=\"R$^{2}$=\"+f'{r2_score(y_train,y_pred_train):.4f}\\nMAE={1e3*mean_absolute_error(y_train,y_pred_train):.4f}'+\" mE$_{h}$\",color=pal[8],edgecolors='k')\n",
    "ax1.plot(np.arange(-1e3,1e3),np.arange(-1e3,1e3),'k-')\n",
    "LMIN,LMAX = -19, 10\n",
    "ax1.set_xlim(LMIN,LMAX)\n",
    "ax1.set_ylim(LMIN,LMAX)\n",
    "ax1.set_xlabel('Calculated Pair-Energies (mE$_{h}$)')\n",
    "ax1.set_ylabel('Predicted Pair-Energies (mE$_{h}$)')\n",
    "ax1.legend()\n",
    "\n",
    "\n",
    "ax2.set_title('Test')\n",
    "ax2.scatter(1e3*y_test,1e3*y_pred_test,label=\"R$^{2}$=\"+f'{r2_score(y_test,y_pred_test):.4f}\\nMAE={1e3*mean_absolute_error(y_test,y_pred_test):.4f}'+\" mE$_{h}$\",color=pal[9],edgecolors='k')\n",
    "ax2.plot(np.arange(-1e3,1e3),np.arange(-1e3,1e3),'k-')\n",
    "ax2.set_xlim(LMIN,LMAX)\n",
    "ax2.set_ylim(LMIN,LMAX)\n",
    "ax2.set_xlabel('Calculated Pair-Energies (mE$_{h}$)')\n",
    "ax2.set_ylabel('Predicted Pair-Energies (mE$_{h}$)')\n",
    "ax2.legend()\n",
    "\n",
    "\n",
    "pred_train,true_train = traincorrE2['E$_{2}^{\\text{Predicted}}$'],traincorrE2['E$_{2}^{\\text{Calculated}}$']\n",
    "pred_test,true_test = testcorrE2['E$_{2}^{\\text{Predicted}}$'],testcorrE2['E$_{2}^{\\text{Calculated}}$']\n",
    "testrad = testcorrE2['Radius ($\\AA$)']    \n",
    "train_r2_corr = r2_score(true_train,pred_train)\n",
    "test_r2_corr = r2_score(true_test,pred_test)\n",
    "test_mae_corr = 1e3*mean_absolute_error(true_test,pred_test)\n",
    "train_mae_corr = 1e3*mean_absolute_error(true_train,pred_train)\n",
    "print(pred_train.min(),true_train.min())\n",
    "print(pred_train.max(),true_train.max())\n",
    "traincorrerr = {\"r2_train\":train_r2_corr,\"r2_test\":test_r2_corr,\"mae_train\":train_mae_corr,\"mae_test\":test_mae_corr}\n",
    "trainrad = traincorrE2['Radius ($\\AA$)']\n",
    "ax3.scatter(true_train,pred_train,label='R$^{2}$='+f'{train_r2_corr:.4f}\\nMAE={train_mae_corr:.4f}'+\" mE$_{h}$\",color=pairedcp[8],edgecolors='k')\n",
    "\n",
    "ax3.set_xlabel('Calculated CASPT2 Correlation Energy (E$_{h}$)')\n",
    "ax3.set_ylabel('Predicted CASPT2 Correlation Energy (E$_{h}$)')\n",
    "ax3.set_title('Train')\n",
    "ax3.plot(np.arange(-1000,1000),np.arange(-1000,1000),'k')\n",
    "ax3.legend(loc=4)\n",
    "\n",
    "\n",
    "ax4.scatter(true_test,pred_test,label='R$^{2}$='+f'{test_r2_corr:.4f}\\nMAE={test_mae_corr:.4f}'+\" mE$_{h}$\",color=pairedcp[9],edgecolors='k')\n",
    "# ax2.plot(true_test,true_test,'k')\n",
    "ax4.plot(np.arange(-1000,1000),np.arange(-1000,1000),'k')\n",
    "ax4.set_xlabel('Calculated CASPT2 Correlation Energy (E$_{h}$)')\n",
    "ax4.set_ylabel('Predicted CASPT2 Correlation Energy (E$_{h}$)')\n",
    "ax4.set_title('Test')    \n",
    "ax4.legend(loc=4)\n",
    "\n",
    "bottom, top = -0.44, -0.36\n",
    "ax3.set_xlim(bottom, top)\n",
    "ax3.set_ylim(bottom, top)\n",
    "ax4.set_xlim(bottom, top)\n",
    "ax4.set_ylim(bottom, top)\n",
    "ax3.set_xticks(np.linspace(bottom,top,4),[f\"{i:.2f}\" for i in np.linspace(bottom,top,4)])\n",
    "ax3.set_yticks(np.linspace(bottom,top,4),[f\"{i:.2f}\" for i in np.linspace(bottom,top,4)])    \n",
    "ax4.set_xticks(np.linspace(bottom,top,4),[f\"{i:.2f}\" for i in np.linspace(bottom,top,4)])    \n",
    "ax4.set_yticks(np.linspace(bottom,top,4),[f\"{i:.2f}\" for i in np.linspace(bottom,top,4)])    \n",
    "\n",
    "pred_train,true_train = traincorrE2['E$_{\\text{CASPT2}}^{\\text{Predicted}}$'],traincorrE2['E$_{\\text{CASPT2}}^{\\text{Calculated}}$']\n",
    "pred_test,true_test = testcorrE2['E$_{\\text{CASPT2}}^{\\text{Predicted}}$'],testcorrE2['E$_{\\text{CASPT2}}^{\\text{Calculated}}$']\n",
    "testrad = testcorrE2['Radius ($\\AA$)']    \n",
    "\n",
    "print(pred_train.min(),true_train.min())\n",
    "print(pred_train.max(),true_train.max())\n",
    "traincorrerr = {\"r2_train\":train_r2_corr,\"r2_test\":test_r2_corr,\"mae_train\":train_mae_corr,\"mae_test\":test_mae_corr}\n",
    "trainrad = traincorrE2['Radius ($\\AA$)']\n",
    "ax5.scatter(np.array(trainrad,dtype=float),pred_train,color=pairedcp[8],edgecolors='k')\n",
    "ax5.plot(allcorr.sort_values(by='Radius ($\\AA$)')['Radius ($\\AA$)'].astype(float),allcorr.sort_values(by='Radius ($\\AA$)')['E$_{\\text{CASPT2}}^{\\text{Calculated}}$'].astype(float),'k')\n",
    "ax5.plot(allcorr.sort_values(by='Radius ($\\AA$)')['Radius ($\\AA$)'].astype(float),allcorr.sort_values(by='Radius ($\\AA$)')['E$_{\\text{CASSCF}}^{\\text{Calculated}}$'].astype(float),'k--',label='CASSCF')\n",
    "ax5.set_xlabel('Radius ($\\AA$)')\n",
    "ax5.set_ylabel('CASPT2 Energy (E$_{h}$)')\n",
    "ax5.set_title('Train')\n",
    "ax5.legend()\n",
    "\n",
    "ax6.scatter(np.array(testrad,dtype=float),pred_test,color=pairedcp[9],edgecolors='k')\n",
    "ax6.plot(trueE2.sort_values(by='Radius ($\\AA$)')['Radius ($\\AA$)'].astype(float),trueE2.sort_values(by='Radius ($\\AA$)')['E$_{\\text{CASPT2}}^{\\text{Calculated}}$'].astype(float),'k')\n",
    "ax6.plot(allcorr.sort_values(by='Radius ($\\AA$)')['Radius ($\\AA$)'].astype(float),allcorr.sort_values(by='Radius ($\\AA$)')['E$_{\\text{CASSCF}}^{\\text{Calculated}}$'].astype(float),'k--',label='CASSCF')\n",
    "ax6.set_xlabel('Radius ($\\AA$)')\n",
    "ax6.set_ylabel('CASPT2 Energy (E$_{h}$)')\n",
    "ax6.set_title('Test') \n",
    "ax6.legend()\n",
    "\n",
    "minpt2, maxpt2= pd.concat([true_train,true_test]).min(), pd.concat([true_train,true_test]).max()\n",
    "pct=0.1\n",
    "bufferbot, buffertop = minpt2*pct, maxpt2*pct\n",
    "\n",
    "\n",
    "\n",
    "\n",
    "bottom, top = -1345.9, -1345.39\n",
    "ax5.set_ylim(bottom,top)\n",
    "ax5.set_yticks(np.linspace(bottom,top,4),[f\"{i:.2f}\" for i in np.linspace(bottom,top,4)]) \n",
    "ax6.set_ylim(bottom,top)\n",
    "ax6.set_yticks(np.linspace(bottom,top,4),[f\"{i:.2f}\" for i in np.linspace(bottom,top,4)]) \n",
    "\n",
    "fig.suptitle(\"Fe(IV)O$^{2+}$ ANO-RCC-VDZP\")\n",
    "\n",
    "plt.subplots_adjust(wspace=0.05)\n",
    "plt.tight_layout()\n",
    "plt.savefig(f'images/iron_VDZPCASPT2.png',dpi=300,bbox_inches='tight')\n",
    "plt.show()    "
   ]
  },
  {
   "cell_type": "code",
   "execution_count": null,
   "id": "227676e3-3584-48ec-8957-afbb757d23ce",
   "metadata": {},
   "outputs": [],
   "source": [
    "trainpairdf = pd.DataFrame(recover_train_list)\n",
    "testpairdf = pd.DataFrame(recover_test_list)\n",
    "pairerr={}\n",
    "\n",
    "fig,(ax1,ax2)=plt.subplots(1,2,figsize=(10,5),sharey=True)\n",
    "\n",
    "truetrainpair, predtrainpair = np.hstack(trainpairdf[1]),np.hstack(trainpairdf[2])\n",
    "train_r2_pair = r2_score(truetrainpair, predtrainpair)\n",
    "train_mae_pair = 1e3*mean_absolute_error(truetrainpair, predtrainpair)\n",
    "ax1.scatter(truetrainpair, predtrainpair,label='R$^{2}$='+f'{train_r2_pair:.4f}\\nMAE={train_mae_pair:.4f}'+\" mE$_{h}$\",color=pairedcp[8],edgecolors='k')\n",
    "ax1.plot(np.arange(-1000,1000),np.arange(-1000,1000),'k')\n",
    "ax1.set_xlabel('Calculated E$_2$ Energy (E$_{h}$)')\n",
    "ax1.set_ylabel('Predicted E$_2$ Energy (E$_{h}$)')\n",
    "ax1.set_title('Train')    \n",
    "ax1.legend()  \n",
    "\n",
    "truetestpair, predtestpair = np.hstack(testpairdf[1]),np.hstack(testpairdf[2])\n",
    "test_r2_pair = r2_score(truetestpair, predtestpair)\n",
    "test_mae_pair = 1e3*mean_absolute_error(truetestpair, predtestpair)\n",
    "ax2.scatter(truetestpair, predtestpair,label='R$^{2}$='+f'{test_r2_pair:.4f}\\nMAE={test_mae_pair:.4f}'+\" mE$_{h}$\",color=pairedcp[9],edgecolors='k')\n",
    "ax2.plot(np.arange(-1000,1000),np.arange(-1000,1000),'k')\n",
    "ax2.set_xlabel('Calculated E$_2$ Energy (E$_{h}$)')\n",
    "ax2.set_ylabel('Predicted E$_2$ Energy (E$_{h}$)')\n",
    "ax2.set_title('Test')    \n",
    "ax2.legend()    \n",
    "\n",
    "mincorr, maxcorr= np.hstack([truetrainpair,truetestpair]).min(), np.hstack([truetrainpair,truetestpair]).max()\n",
    "pct=0.50\n",
    "bufferbot, buffertop = mincorr*pct, maxcorr*pct\n",
    "\n",
    "# if 'H' in n:\n",
    "bottom, top = mincorr-buffertop, maxcorr+buffertop\n",
    "\n",
    "# else:\n",
    "#     bottom, top = mincorr+-0.1, maxcorr+0.05\n",
    "\n",
    "ax1.set_xlim(bottom,top)\n",
    "ax1.set_xticks(np.linspace(bottom,top,4),[f\"{i:.2f}\" for i in np.linspace(bottom,top,4)])\n",
    "ax1.set_ylim(bottom,top)\n",
    "ax1.set_yticks(np.linspace(bottom,top,4),[f\"{i:.2f}\" for i in np.linspace(bottom,top,4)])    \n",
    "ax2.set_xlim(bottom,top)\n",
    "ax2.set_xticks(np.linspace(bottom,top,4),[f\"{i:.2f}\" for i in np.linspace(bottom,top,4)])    \n",
    "ax2.set_ylim(bottom,top)\n",
    "ax2.set_yticks(np.linspace(bottom,top,4),[f\"{i:.2f}\" for i in np.linspace(bottom,top,4)])    \n",
    "\n",
    "fig.suptitle(\"Fe(IV)O$^{2+}$ ANO-RCC-VDZP\")\n",
    "plt.tight_layout()\n",
    "plt.savefig(f'images/iron_VDZPE2.png',dpi=300,bbox_inches='tight')    \n",
    "plt.show()\n",
    "pairerr = {\"r2_train\":train_r2_pair,\"r2_test\":test_r2_pair,\"mae_train\":train_mae_pair,\"mae_test\":test_mae_pair}"
   ]
  },
  {
   "cell_type": "code",
   "execution_count": null,
   "id": "9ea4ae21-3a0d-4cb6-8b77-05c89208b6d3",
   "metadata": {},
   "outputs": [],
   "source": [
    "stackeddata ={'Pair-Energies':{'Train':mean_absolute_error(truetrainpair, predtrainpair)*1e3,'Test':mean_absolute_error(truetestpair, predtestpair)*1e3},\n",
    "\"Correlation Energies\":{'Train':mean_absolute_error(true_train,pred_train)*1e3,'Test':mean_absolute_error(pred_test,true_test)*1e3}}\n",
    "# pd.DataFrame(stackeddata).to_excel(\"MAE_stacked.xlsx\")"
   ]
  },
  {
   "cell_type": "code",
   "execution_count": null,
   "id": "50b4937d-64cd-4048-ace5-4f68c4c52f3d",
   "metadata": {},
   "outputs": [],
   "source": []
  },
  {
   "cell_type": "code",
   "execution_count": null,
   "id": "a4d0e671-62b6-48be-a49a-f6255eb7a830",
   "metadata": {},
   "outputs": [],
   "source": [
    "# meltcorrerr = pd.DataFrame.from_dict(traincorrerr).loc[['mae_train','mae_test']].T.rename(columns={'mae_train':'Train','mae_test':'Test'}).reset_index().melt(id_vars=['index'], value_vars=['Train','Test'])\n",
    "# meltpairerr = pd.DataFrame.from_dict(pairerr).loc[['mae_train','mae_test']].T.rename(columns={'mae_train':'Train','mae_test':'Test'}).reset_index().melt(id_vars=['index'], value_vars=['Train','Test'])\n",
    "# fig,(ax1,ax2)=plt.subplots(1,2,figsize=(10,5),sharey=True)\n",
    "# sns.barplot(data=meltpairerr,x='index',y='value',hue='variable',palette=pairedcp[4:6],ax=ax1)\n",
    "# ax1.set_ylabel('Mean Absolute Error (mE$_{h}$)')\n",
    "# ax1.set_xlabel('Structures')\n",
    "# ax1.set_title('Pair-Energies')\n",
    "# ax1.set_ylim(0,2.5)\n",
    "# sns.barplot(data=meltcorrerr,x='index',y='value',hue='variable',palette=pairedcp[4:6],ax=ax2)\n",
    "# # ax2.set_ylabel('Mean Absolute Error (mE$_{h}$)')\n",
    "# ax2.set_ylabel('')\n",
    "# ax2.set_xlabel('Structures')\n",
    "# ax2.set_title('Correlation Energies')\n",
    "\n",
    "# plt.tight_layout()\n",
    "# plt.savefig('images/MAE_bar.png',dpi=300,bbox_inches='tight')\n",
    "# plt.show()"
   ]
  },
  {
   "cell_type": "code",
   "execution_count": null,
   "id": "97d2d269-7cce-499c-8d27-eae393ca97b9",
   "metadata": {},
   "outputs": [],
   "source": []
  },
  {
   "cell_type": "code",
   "execution_count": null,
   "id": "dc200cee",
   "metadata": {},
   "outputs": [],
   "source": [
    "# import shap\n",
    "# explainer = shap.Explainer(model.predict, X_test)\n",
    "# shap_values = explainer(X_test)\n",
    "\n",
    "# dffeat=pd.DataFrame(shap_values.abs.values.mean(axis=0),index=train_df.drop(columns=['Pair_Energies']).columns,columns=['shap']).rename(index={'1':'$\\mathbf{b}$'}).reset_index().rename(columns={'index':'feat'}).sort_index().sort_values(by=['shap','feat'],ascending=False)\n",
    "# # dffeat['rename']=len(dffeat)*[1]\n",
    "\n",
    "\n",
    "# with open('iron_VDZP_feature_names.txt','w') as f:\n",
    "#     for i in dffeat['feat'].values:\n",
    "#         f.write(i+'\\n')\n",
    "\n",
    "# dffeat.to_excel('iron_VDZP_SHAP.xlsx')\n",
    "dffeat = pd.read_excel('iron_VDZP_SHAP.xlsx')"
   ]
  },
  {
   "cell_type": "code",
   "execution_count": null,
   "id": "dc3fb10e-f7ec-4b4f-b7a1-d82a7b8253bb",
   "metadata": {},
   "outputs": [],
   "source": []
  },
  {
   "cell_type": "code",
   "execution_count": null,
   "id": "63984cd5-95bf-41d9-a26b-773130a36837",
   "metadata": {},
   "outputs": [],
   "source": []
  },
  {
   "cell_type": "code",
   "execution_count": null,
   "id": "aabbe3a2-c9ed-4014-82b2-4d127189da49",
   "metadata": {},
   "outputs": [],
   "source": []
  },
  {
   "cell_type": "code",
   "execution_count": null,
   "id": "b9fe17e8-a268-46c2-a788-254a7678ec55",
   "metadata": {},
   "outputs": [],
   "source": [
    "color_map=sns.color_palette('rocket',6)\n",
    "fontsize = 12\n",
    "fig, ax = plt.subplots(1,3,figsize=(15,12))\n",
    "for idx, i in enumerate([[ 0,  35], [35,  70], [70, 105]]):\n",
    "    print(idx,i)\n",
    "    feat_1 = dffeat.iloc[i[0]:i[1]]\n",
    "    ax[idx]=feat_1.sort_values(by=['shap','feat']).plot.barh(x='feat',y='shap',legend=False,color=color_map[3],fontsize=fontsize,ax=ax[idx])\n",
    "    ax[idx].bar_label(ax[idx].containers[0], fmt='%.4e',fontsize=fontsize,padding=1)\n",
    "    ax[idx].set_xlim(0,6e-4)\n",
    "    ax[idx].set_xticks(np.linspace(0,5e-4,4),[f\"{i:.2e}\" for i in np.linspace(0,5e-4,4)])\n",
    "    ax[idx].set_ylabel('Features',fontsize=fontsize)\n",
    "    ax[idx].set_xlabel('mean(|SHAP value|)',fontsize=fontsize)\n",
    "\n",
    "fig.subplots_adjust(wspace=0, hspace=0)\n",
    "\n",
    "plt.tight_layout()\n",
    "plt.savefig('images/iron_VDZP_shap_bar.png',dpi=300, bbox_inches='tight')\n",
    "plt.show()"
   ]
  },
  {
   "cell_type": "code",
   "execution_count": null,
   "id": "795302c6-d8e1-445a-8803-ad5713ce608e",
   "metadata": {},
   "outputs": [],
   "source": [
    "dffeat.sort_values(by='shap').iloc[-10:]['feat'].to_list()"
   ]
  },
  {
   "cell_type": "code",
   "execution_count": null,
   "id": "59acbbf8-c77a-4647-927c-8d35a3c367af",
   "metadata": {},
   "outputs": [],
   "source": [
    "dffeat.sort_values(by='shap').iloc[0:10]['feat'].to_list()"
   ]
  },
  {
   "cell_type": "code",
   "execution_count": null,
   "id": "91394e5c-8a72-493f-98de-20bf26380ad1",
   "metadata": {},
   "outputs": [],
   "source": [
    "# fig, ax = plt.subplots(1,1,figsize=(10,12))\n",
    "# fontsize = 16\n",
    "# pd.concat([dffeat.sort_values(by='shap').iloc[0:10],dffeat.sort_values(by='shap').iloc[-10:]]).plot.barh(x='feat',y='shap',legend=False,color=color_map[3],fontsize=fontsize,ax=ax)\n",
    "# ax.bar_label(ax.containers[0], fmt='%.4e',fontsize=fontsize,padding=1)\n",
    "# top_max = 6e-4\n",
    "# ax.set_xlim(0,top_max)\n",
    "# ax.set_xticks(np.linspace(0,top_max,4),[f\"{i:.2e}\" for i in np.linspace(0,top_max,4)])\n",
    "# ax.set_ylabel('Features',fontsize=fontsize)\n",
    "# ax.set_xlabel('mean(|SHAP value|)',fontsize=fontsize)\n",
    "\n",
    "# fig.subplots_adjust(wspace=0, hspace=0)\n",
    "\n",
    "# plt.tight_layout()\n",
    "# plt.savefig('images/minmax_iron_VDZP_shap_bar.png',dpi=300, bbox_inches='tight')\n",
    "# plt.show()\n",
    "\n",
    "\n",
    "\n",
    "\n",
    "\n",
    "import matplotlib.gridspec as gridspec\n",
    "\n",
    "# Assuming you already have dffeat and color_map defined\n",
    "top10 = dffeat.sort_values(by='shap', ascending=True).iloc[-10:]\n",
    "bottom10 = dffeat.sort_values(by='shap', ascending=True).iloc[:10]\n",
    "\n",
    "fontsize = 16\n",
    "top_max = 6e-4\n",
    "\n",
    "# Create a figure with two subplots, sharing x-axis\n",
    "fig = plt.figure(figsize=(10, 10))\n",
    "gs = gridspec.GridSpec(2, 1, height_ratios=[1, 1], hspace=0.05)\n",
    "ax_top = fig.add_subplot(gs[0])\n",
    "ax_bot = fig.add_subplot(gs[1], sharex=ax_top)\n",
    "\n",
    "# Plot top 10\n",
    "top10.plot.barh(x='feat', y='shap', ax=ax_top, legend=False, color=color_map[3], fontsize=fontsize)\n",
    "ax_top.bar_label(ax_top.containers[0], fmt='%.4e', fontsize=fontsize, padding=1)\n",
    "\n",
    "# Plot bottom 10\n",
    "bottom10.plot.barh(x='feat', y='shap', ax=ax_bot, legend=False, color=color_map[3], fontsize=fontsize)\n",
    "ax_bot.bar_label(ax_bot.containers[0], fmt='%.4e', fontsize=fontsize, padding=1)\n",
    "\n",
    "# Hide x-axis labels on top plot\n",
    "plt.setp(ax_top.get_xticklabels(), visible=False)\n",
    "ax_top.set_xlabel(\"\")\n",
    "ax_bot.set_xlabel('mean(|SHAP value|)', fontsize=fontsize)\n",
    "\n",
    "# Y labels\n",
    "ax_top.set_ylabel('Top 10 Features', fontsize=fontsize)\n",
    "ax_bot.set_ylabel('Bottom 10 Features', fontsize=fontsize)\n",
    "\n",
    "# Shared limits and ticks\n",
    "ax_top.set_xlim(0, top_max)\n",
    "ax_bot.set_xlim(0, top_max)\n",
    "ax_bot.set_xticks(np.linspace(0, top_max, 4))\n",
    "ax_bot.set_xticklabels([f\"{i:.2e}\" for i in np.linspace(0, top_max, 4)], fontsize=fontsize)\n",
    "\n",
    "# Add axis break indicators (diagonal lines)\n",
    "d = .005  # size of diagonal lines in axes coordinates\n",
    "kwargs = dict(transform=ax_top.transAxes, color='k', clip_on=False)\n",
    "ax_top.plot((-d, +d), (-d, +d), **kwargs)        # top-left diagonal\n",
    "ax_top.plot((1 - d, 1 + d), (-d, +d), **kwargs)  # top-right diagonal\n",
    "\n",
    "kwargs.update(transform=ax_bot.transAxes)\n",
    "ax_bot.plot((-d, +d), (1 - d, 1 + d), **kwargs)  # bottom-left diagonal\n",
    "ax_bot.plot((1 - d, 1 + d), (1 - d, 1 + d), **kwargs)  # bottom-right diagonal\n",
    "\n",
    "plt.tight_layout()\n",
    "plt.savefig('images/minmax_iron_VDZP_shap_bar.png',dpi=300, bbox_inches='tight')\n",
    "plt.show()"
   ]
  },
  {
   "cell_type": "code",
   "execution_count": null,
   "id": "de13335b-d675-42d8-825f-94d41d97065d",
   "metadata": {},
   "outputs": [],
   "source": [
    "dffeat.sort_values(by='shap').iloc[0:10],dffeat.sort_values(by='shap').iloc[-10:]"
   ]
  },
  {
   "cell_type": "code",
   "execution_count": null,
   "id": "f031a108-e056-44ee-814f-3ec6e78c814e",
   "metadata": {},
   "outputs": [],
   "source": [
    "cntfr0=pd.concat([train_df,test_df])['$(F_{r})_{0}$'][pd.concat([train_df,test_df])[r'$type_0$']==4]"
   ]
  },
  {
   "cell_type": "code",
   "execution_count": null,
   "id": "4c74543d-ba67-457c-a7b2-4203d17c2d0e",
   "metadata": {},
   "outputs": [],
   "source": [
    "cntfr0[cntfr0>0]"
   ]
  },
  {
   "cell_type": "code",
   "execution_count": null,
   "id": "60734f03-7a37-444d-8cf2-c46320396ece",
   "metadata": {},
   "outputs": [],
   "source": [
    "cntfr0[cntfr0<0]"
   ]
  },
  {
   "cell_type": "code",
   "execution_count": null,
   "id": "7789e777-20f6-4ffa-8c6e-8b1be5fa6540",
   "metadata": {},
   "outputs": [],
   "source": [
    "cnttyp0=pd.concat([train_df,test_df])[r'$type_0$'].value_counts().to_frame().sort_index()\n",
    "cnttyp0.index=[{1:\"A\", 2:\"B$_{+}$\", 3:\"B$_{-}$\", 4:\"C\", 5:\"D\", 6:\"E$_{+}$\", 7:\"E$_{-}$\", 8:\"F$_{+}$\", 9:\"F$_{-}$\", 10:\"G$_{+}$\", 11:\"G$_{-}$\", 12:\"H$_{+}$\", 13:\"H$_{-}$\"}[t] for t in cnttyp0.index+1]\n",
    "sns.barplot(data=cnttyp0.reset_index(),x='index',y='count',color=sns.color_palette('Paired')[1])\n",
    "plt.ylabel('Count')\n",
    "plt.xlabel('Excitation Class')\n",
    "# plt.ylim(0,np.round(counttypes.max(), -4))\n",
    "plt.title('Fe(IV)O$^{2+}$ Excitations')\n",
    "plt.tight_layout()"
   ]
  },
  {
   "cell_type": "code",
   "execution_count": null,
   "id": "a809cfd4-7602-4013-b894-8b366747720d",
   "metadata": {},
   "outputs": [],
   "source": [
    "pd.concat([train_df,test_df])['$(F_{r})_{0}$']"
   ]
  },
  {
   "cell_type": "code",
   "execution_count": null,
   "id": "e5b84313-37fd-42f3-917a-03be367cf98d",
   "metadata": {},
   "outputs": [],
   "source": [
    "for f in dffeat.sort_values(by='shap').iloc[0:10]['feat']:\n",
    "    try:\n",
    "        # print(f,((pd.concat([train_df,test_df])[f]).value_counts()/len(pd.concat([train_df,test_df])[f])).round(2))\n",
    "        sns.histplot(pd.concat([train_df,test_df])[f])\n",
    "    except:\n",
    "        if f=='$\\mathbf{b}$':\n",
    "            sns.kdeplot(pd.concat([train_df,test_df])['1'])\n",
    "        else:\n",
    "            sns.kdeplot(pd.concat([train_df,test_df])[fr\"{f}\"],color='r')\n",
    "    plt.title(f)\n",
    "    plt.show()\n",
    "    # print()"
   ]
  },
  {
   "cell_type": "code",
   "execution_count": null,
   "id": "666dbf66-8004-493c-b36f-207466708638",
   "metadata": {},
   "outputs": [],
   "source": [
    "# # plt.figure(figsize=(8,13))\n",
    "# color_map=sns.color_palette('rocket',6)\n",
    "# fontsize = 5\n",
    "\n",
    "# feat_2 = dffeat.sort_values(by=['shap','feat']).iloc[:63]\n",
    "# feat_1 = dffeat.sort_values(by=['shap','feat']).iloc[63:]\n",
    "\n",
    "\n",
    "# ax1=feat_1.sort_values(by=['shap','feat']).plot.barh(x='feat',y='shap',legend=False,color=color_map[3],fontsize=fontsize,ax=ax1)\n",
    "# ax1.bar_label(ax1.containers[0], fmt='%.4e',fontsize=fontsize,padding=1)\n",
    "# ax1.set_xlim(0,5e-4)\n",
    "# ax1.set_xticks(np.linspace(0,5e-4,4),[f\"{i:.4f}\" for i in np.linspace(0,5e-4,4)])\n",
    "# ax1.set_ylabel('Features',fontsize=fontsize)\n",
    "# ax1.set_xlabel('mean(|SHAP value|)',fontsize=fontsize)\n",
    "\n",
    "# ax2=feat_2.sort_values(by=['shap','feat']).plot.barh(x='feat',y='shap',legend=False,color=color_map[3],fontsize=fontsize,ax=ax2)\n",
    "# ax2.bar_label(ax2.containers[0], fmt='%.4e',fontsize=fontsize,padding=1)\n",
    "# ax2.set_xlim(0,5e-4)\n",
    "# ax2.set_xticks(np.linspace(0,5e-4,4),[f\"{i:.4f}\" for i in np.linspace(0,5e-4,4)])\n",
    "# ax2.set_ylabel('')\n",
    "# ax2.set_xlabel('mean(|SHAP value|)',fontsize=fontsize)\n",
    "\n",
    "# plt.tight_layout()\n",
    "# # os.mkdir('images')\n",
    "# plt.savefig('images/Hn_shap_bar.png',dpi=300, bbox_inches='tight')\n",
    "# plt.show()\n",
    "\n"
   ]
  },
  {
   "cell_type": "code",
   "execution_count": null,
   "id": "1be8fa86-c7f9-4d64-8a01-742acff8d03b",
   "metadata": {},
   "outputs": [],
   "source": [
    "r2_score(traincorrE2['E$_{\\text{CASPT2}}^{\\text{Calculated}}$'],traincorrE2['E$_{\\text{CASPT2}}^{\\text{Predicted}}$'])"
   ]
  },
  {
   "cell_type": "code",
   "execution_count": null,
   "id": "5bed8824-790f-4a85-90da-d3d235d576c8",
   "metadata": {},
   "outputs": [],
   "source": [
    "r2_score(testcorrE2['E$_{\\text{CASPT2}}^{\\text{Calculated}}$'],testcorrE2['E$_{\\text{CASPT2}}^{\\text{Predicted}}$'])"
   ]
  },
  {
   "cell_type": "code",
   "execution_count": null,
   "id": "2901113c-3a7e-446b-bcfa-a3db501c0660",
   "metadata": {},
   "outputs": [],
   "source": [
    "mean_absolute_error(traincorrE2['E$_{\\text{CASPT2}}^{\\text{Calculated}}$'],traincorrE2['E$_{\\text{CASPT2}}^{\\text{Predicted}}$'])*1e3"
   ]
  },
  {
   "cell_type": "code",
   "execution_count": null,
   "id": "9c8fbfb6-c1be-4712-97e7-47dea8b022f3",
   "metadata": {},
   "outputs": [],
   "source": [
    "mean_absolute_error(testcorrE2['E$_{\\text{CASPT2}}^{\\text{Calculated}}$'],testcorrE2['E$_{\\text{CASPT2}}^{\\text{Predicted}}$'])*1e3"
   ]
  }
 ],
 "metadata": {
  "kernelspec": {
   "display_name": "Python 3 (ipykernel)",
   "language": "python",
   "name": "python3"
  },
  "language_info": {
   "codemirror_mode": {
    "name": "ipython",
    "version": 3
   },
   "file_extension": ".py",
   "mimetype": "text/x-python",
   "name": "python",
   "nbconvert_exporter": "python",
   "pygments_lexer": "ipython3",
   "version": "3.10.4"
  }
 },
 "nbformat": 4,
 "nbformat_minor": 5
}
