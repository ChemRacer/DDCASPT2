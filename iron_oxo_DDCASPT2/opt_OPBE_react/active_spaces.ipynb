{
 "cells": [
  {
   "cell_type": "code",
   "execution_count": null,
   "id": "03c06e25-ae9e-4c4b-a357-571686cc0e27",
   "metadata": {},
   "outputs": [],
   "source": [
    "# Suppress PySCF warning...\n",
    "import pyscf\n",
    "pyscf.__config__.B3LYP_WITH_VWN5 = False"
   ]
  },
  {
   "cell_type": "code",
   "execution_count": null,
   "id": "9491b785-2da7-4fad-8b97-18076744ae28",
   "metadata": {},
   "outputs": [],
   "source": [
    "from pathlib import Path\n",
    "\n",
    "# The Mole class is used to define molecular information in PySCF.\n",
    "from pyscf.gto import Mole\n",
    "\n",
    "# logger contains definitions of verbosity levels for PySCF.\n",
    "from pyscf.lib import logger\n",
    "\n",
    "# Functionality for (state-averaged) CASSCF.\n",
    "from pyscf.mcscf import CASSCF, state_average_mix\n",
    "from pyscf.fci.direct_spin1 import FCISolver\n",
    "from pyscf.fci.addons import fix_spin\n",
    "\n",
    "# Wrapper functions to perform selection for variable and fixed active space sizes\n",
    "from asf.wrapper import find_from_mol, find_from_scf, sized_space_from_mol, sized_space_from_scf\n",
    "\n",
    "# Various utility functions...\n",
    "from asf.utility import compare_active_spaces, show_mos_grid, pictures_Jmol\n",
    "\n",
    "from glob import glob\n",
    "import numpy as np\n",
    "import os, sys\n",
    "!{sys.executable} -m pip install tqdm\n",
    "from tqdm import tqdm"
   ]
  },
  {
   "cell_type": "code",
   "execution_count": null,
   "id": "146f29a1-12d7-486e-9078-65a34f93c0c9",
   "metadata": {},
   "outputs": [],
   "source": [
    "struc_size = {}\n",
    "for i in glob(\"*xyz\"):\n",
    "    with open(i,'r') as f:\n",
    "        size=f.readlines()[0]\n",
    "    struc_size[i]=int(size.strip())"
   ]
  },
  {
   "cell_type": "code",
   "execution_count": null,
   "id": "2062b7a3-f8cc-4de3-8b81-b19c74313f91",
   "metadata": {
    "scrolled": true
   },
   "outputs": [],
   "source": [
    "mol=Mole(atom='19.xyz', basis=\"def2-SVP\", charge=2, spin=2, verbose=logger.INFO).build()\n",
    "active_space = find_from_mol(mol)\n"
   ]
  },
  {
   "cell_type": "code",
   "execution_count": null,
   "id": "2871d1b3-a8ec-49cf-bd0e-822db3c36d95",
   "metadata": {},
   "outputs": [],
   "source": [
    "mol.nao"
   ]
  },
  {
   "cell_type": "code",
   "execution_count": null,
   "id": "f64b61df-1587-4521-b455-88ef19153381",
   "metadata": {},
   "outputs": [],
   "source": [
    "mol"
   ]
  },
  {
   "cell_type": "code",
   "execution_count": null,
   "id": "b8f5db5f-875e-4e19-88a1-dea6010d6b90",
   "metadata": {},
   "outputs": [],
   "source": [
    "dir(active_space)"
   ]
  },
  {
   "cell_type": "code",
   "execution_count": null,
   "id": "223498d6-de94-451f-8922-354cfc0cd425",
   "metadata": {},
   "outputs": [],
   "source": [
    "for k,v in sorted(struc_size.items(),key=lambda x: x[1]):\n",
    "    print(k)\n",
    "    # mol = Mole(atom=k, basis=\"def2-SVP\", charge=2, spin=2, verbose=logger.INFO).build()\n"
   ]
  },
  {
   "cell_type": "code",
   "execution_count": null,
   "id": "05b05e14-144c-45d5-875e-e0d6a9c7baaf",
   "metadata": {},
   "outputs": [],
   "source": []
  }
 ],
 "metadata": {
  "kernelspec": {
   "display_name": "Python 3 (ipykernel)",
   "language": "python",
   "name": "python3"
  },
  "language_info": {
   "codemirror_mode": {
    "name": "ipython",
    "version": 3
   },
   "file_extension": ".py",
   "mimetype": "text/x-python",
   "name": "python",
   "nbconvert_exporter": "python",
   "pygments_lexer": "ipython3",
   "version": "3.11.10"
  }
 },
 "nbformat": 4,
 "nbformat_minor": 5
}
