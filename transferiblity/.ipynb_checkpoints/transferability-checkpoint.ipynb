{
 "cells": [
  {
   "cell_type": "code",
   "execution_count": 2,
   "id": "f687a23f-96ba-4c36-9a86-3dbdf206b6da",
   "metadata": {
    "papermill": {
     "duration": 6.7925,
     "end_time": "2022-12-06T08:38:53.905684",
     "exception": false,
     "start_time": "2022-12-06T08:38:47.113184",
     "status": "completed"
    },
    "tags": []
   },
   "outputs": [
    {
     "name": "stdout",
     "output_type": "stream",
     "text": [
      "2.3.0+cu121\n"
     ]
    }
   ],
   "source": [
    "# Sys\n",
    "import sys\n",
    "# !{sys.executable} --version\n",
    "\n",
    "# !{sys.executable} -m pip uninstall -y torch torchvision torchaudio\n",
    "# !mamba uninstall --yes --prefix {sys.prefix} pytorch torchvision torchaudio cudatoolkit=11.3\n",
    "# !mamba uninstall --yes --prefix {sys.prefix} dgl dgl-cuda11.3\n",
    "\n",
    "\n",
    "# !mamba install --yes --prefix {sys.prefix} logzero\n",
    "# !conda uninstall --yes pytorch torchvision torchaudio\n",
    "# !mamba install --yes --prefix {sys.prefix} -c rapidsai-nightly -c nvidia -c numba -c conda-forge cudf cudatoolkit\n",
    "\n",
    "\n",
    "# !{sys.executable} -m pip install imag\n",
    "\n",
    "import seaborn as sns\n",
    "import numpy as np\n",
    "import pandas as pd\n",
    "from time import perf_counter\n",
    "import os\n",
    "from glob import glob\n",
    "import matplotlib.pyplot as plt\n",
    "import copy\n",
    "import scipy as sp\n",
    "\n",
    "# Torch\n",
    "import torch\n",
    "print(torch.__version__)\n",
    "import torch.nn as nn\n",
    "import torch.nn.functional as F\n",
    "from torch.utils.data import DataLoader\n",
    "\n",
    "# sklearn\n",
    "from sklearn.preprocessing import StandardScaler\n",
    "from sklearn.metrics import r2_score,mean_squared_error,mean_absolute_error\n",
    "from sklearn.model_selection import train_test_split\n",
    "from sklearn.preprocessing import MinMaxScaler\n",
    "# Loading bar\n",
    "from tqdm import trange\n",
    "\n",
    "# Logger\n",
    "from logzero import logger\n",
    "\n",
    "\n",
    "import warnings\n",
    "warnings.simplefilter(\"ignore\", UserWarning)\n",
    "\n",
    "\n",
    "from itertools import permutations, combinations,combinations_with_replacement\n"
   ]
  },
  {
   "cell_type": "code",
   "execution_count": null,
   "id": "bbea94d0",
   "metadata": {
    "papermill": {
     "duration": 0.240882,
     "end_time": "2022-12-06T08:38:54.184907",
     "exception": false,
     "start_time": "2022-12-06T08:38:53.944025",
     "status": "completed"
    },
    "tags": []
   },
   "outputs": [
    {
     "name": "stdout",
     "output_type": "stream",
     "text": [
      "Thu Oct 17 11:25:51 2024       \n",
      "+---------------------------------------------------------------------------------------+\n",
      "| NVIDIA-SMI 535.183.06             Driver Version: 535.183.06   CUDA Version: 12.2     |\n",
      "|-----------------------------------------+----------------------+----------------------+\n",
      "| GPU  Name                 Persistence-M | Bus-Id        Disp.A | Volatile Uncorr. ECC |\n",
      "| Fan  Temp   Perf          Pwr:Usage/Cap |         Memory-Usage | GPU-Util  Compute M. |\n",
      "|                                         |                      |               MIG M. |\n",
      "|=========================================+======================+======================|\n"
     ]
    }
   ],
   "source": [
    "!nvidia-smi"
   ]
  },
  {
   "cell_type": "code",
   "execution_count": 3,
   "id": "cb6c7927",
   "metadata": {},
   "outputs": [
    {
     "name": "stderr",
     "output_type": "stream",
     "text": [
      "[I 230529 18:16:52 2411642203:34] Loading Data Set\n"
     ]
    },
    {
     "name": "stdout",
     "output_type": "stream",
     "text": [
      "Tested on GDB05\n",
      "PairNet_rewired\n",
      "mixedGDB exists\n",
      "Number of graphs: 100 (Number unique: 100)\n"
     ]
    },
    {
     "name": "stderr",
     "output_type": "stream",
     "text": [
      "[Parallel(n_jobs=48)]: Using backend LokyBackend with 48 concurrent workers.\n",
      "[Parallel(n_jobs=48)]: Done 100 out of 100 | elapsed:   10.8s finished\n"
     ]
    },
    {
     "name": "stdout",
     "output_type": "stream",
     "text": [
      "cuda:0\n",
      "Tesla V100S-PCIE-32GB\n",
      "Memory Usage:\n",
      "Allocated: 0.0 GB\n",
      "Cached:    0.0 GB\n",
      "Trained on GDB05\n",
      "Trained on GDB06\n",
      "Trained on GDB07\n",
      "Trained on GDB08\n",
      "Trained on GDB09\n",
      "Trained on GDB10\n",
      "Trained on GDB11\n"
     ]
    },
    {
     "name": "stderr",
     "output_type": "stream",
     "text": [
      "[I 230529 18:17:26 2411642203:34] Loading Data Set\n"
     ]
    },
    {
     "name": "stdout",
     "output_type": "stream",
     "text": [
      "Tested on GDB06\n",
      "PairNet_rewired\n",
      "mixedGDB exists\n",
      "Number of graphs: 100 (Number unique: 100)\n"
     ]
    },
    {
     "name": "stderr",
     "output_type": "stream",
     "text": [
      "[Parallel(n_jobs=48)]: Using backend LokyBackend with 48 concurrent workers.\n",
      "[Parallel(n_jobs=48)]: Done 100 out of 100 | elapsed:    8.0s finished\n"
     ]
    },
    {
     "name": "stdout",
     "output_type": "stream",
     "text": [
      "cuda:0\n",
      "Tesla V100S-PCIE-32GB\n",
      "Memory Usage:\n",
      "Allocated: 0.0 GB\n",
      "Cached:    0.0 GB\n",
      "Trained on GDB05\n",
      "Trained on GDB06\n",
      "Trained on GDB07\n",
      "Trained on GDB08\n",
      "Trained on GDB09\n",
      "Trained on GDB10\n",
      "Trained on GDB11\n"
     ]
    },
    {
     "name": "stderr",
     "output_type": "stream",
     "text": [
      "[I 230529 18:17:40 2411642203:34] Loading Data Set\n"
     ]
    },
    {
     "name": "stdout",
     "output_type": "stream",
     "text": [
      "Tested on GDB07\n",
      "PairNet_rewired\n",
      "mixedGDB exists\n",
      "Number of graphs: 100 (Number unique: 100)\n"
     ]
    },
    {
     "name": "stderr",
     "output_type": "stream",
     "text": [
      "[Parallel(n_jobs=48)]: Using backend LokyBackend with 48 concurrent workers.\n",
      "[Parallel(n_jobs=48)]: Done 100 out of 100 | elapsed:   14.9s finished\n"
     ]
    },
    {
     "name": "stdout",
     "output_type": "stream",
     "text": [
      "cuda:0\n",
      "Tesla V100S-PCIE-32GB\n",
      "Memory Usage:\n",
      "Allocated: 0.0 GB\n",
      "Cached:    0.0 GB\n",
      "Trained on GDB05\n",
      "Trained on GDB06\n",
      "Trained on GDB07\n",
      "Trained on GDB08\n",
      "Trained on GDB09\n",
      "Trained on GDB10\n",
      "Trained on GDB11\n"
     ]
    },
    {
     "name": "stderr",
     "output_type": "stream",
     "text": [
      "[I 230529 18:18:02 2411642203:34] Loading Data Set\n"
     ]
    },
    {
     "name": "stdout",
     "output_type": "stream",
     "text": [
      "Tested on GDB08\n",
      "PairNet_rewired\n",
      "mixedGDB exists\n",
      "Number of graphs: 100 (Number unique: 100)\n"
     ]
    },
    {
     "name": "stderr",
     "output_type": "stream",
     "text": [
      "[Parallel(n_jobs=48)]: Using backend LokyBackend with 48 concurrent workers.\n",
      "[Parallel(n_jobs=48)]: Done 100 out of 100 | elapsed:   25.4s finished\n"
     ]
    },
    {
     "name": "stdout",
     "output_type": "stream",
     "text": [
      "cuda:0\n",
      "Tesla V100S-PCIE-32GB\n",
      "Memory Usage:\n",
      "Allocated: 0.0 GB\n",
      "Cached:    0.0 GB\n",
      "Trained on GDB05\n",
      "Trained on GDB06\n",
      "Trained on GDB07\n",
      "Trained on GDB08\n",
      "Trained on GDB09\n",
      "Trained on GDB10\n",
      "Trained on GDB11\n"
     ]
    },
    {
     "name": "stderr",
     "output_type": "stream",
     "text": [
      "[I 230529 18:18:36 2411642203:34] Loading Data Set\n"
     ]
    },
    {
     "name": "stdout",
     "output_type": "stream",
     "text": [
      "Tested on GDB09\n",
      "PairNet_rewired\n",
      "mixedGDB exists\n",
      "Number of graphs: 100 (Number unique: 100)\n"
     ]
    },
    {
     "name": "stderr",
     "output_type": "stream",
     "text": [
      "[Parallel(n_jobs=48)]: Using backend LokyBackend with 48 concurrent workers.\n",
      "[Parallel(n_jobs=48)]: Done 100 out of 100 | elapsed:   47.5s finished\n"
     ]
    },
    {
     "name": "stdout",
     "output_type": "stream",
     "text": [
      "cuda:0\n",
      "Tesla V100S-PCIE-32GB\n",
      "Memory Usage:\n",
      "Allocated: 0.0 GB\n",
      "Cached:    0.0 GB\n",
      "Trained on GDB05\n",
      "Trained on GDB06\n",
      "Trained on GDB07\n",
      "Trained on GDB08\n",
      "Trained on GDB09\n",
      "Trained on GDB10\n",
      "Trained on GDB11\n"
     ]
    },
    {
     "name": "stderr",
     "output_type": "stream",
     "text": [
      "[I 230529 18:19:35 2411642203:34] Loading Data Set\n"
     ]
    },
    {
     "name": "stdout",
     "output_type": "stream",
     "text": [
      "Tested on GDB10\n",
      "PairNet_rewired\n",
      "mixedGDB exists\n",
      "Number of graphs: 100 (Number unique: 100)\n"
     ]
    },
    {
     "name": "stderr",
     "output_type": "stream",
     "text": [
      "[Parallel(n_jobs=48)]: Using backend LokyBackend with 48 concurrent workers.\n",
      "[Parallel(n_jobs=48)]: Done 100 out of 100 | elapsed:  1.3min finished\n"
     ]
    },
    {
     "name": "stdout",
     "output_type": "stream",
     "text": [
      "cuda:0\n",
      "Tesla V100S-PCIE-32GB\n",
      "Memory Usage:\n",
      "Allocated: 0.0 GB\n",
      "Cached:    0.0 GB\n",
      "Trained on GDB05\n",
      "Trained on GDB06\n",
      "Trained on GDB07\n",
      "Trained on GDB08\n",
      "Trained on GDB09\n",
      "Trained on GDB10\n",
      "Trained on GDB11\n"
     ]
    },
    {
     "name": "stderr",
     "output_type": "stream",
     "text": [
      "[I 230529 18:21:10 2411642203:34] Loading Data Set\n"
     ]
    },
    {
     "name": "stdout",
     "output_type": "stream",
     "text": [
      "Tested on GDB11\n",
      "PairNet_rewired\n",
      "mixedGDB exists\n",
      "Number of graphs: 100 (Number unique: 100)\n"
     ]
    },
    {
     "name": "stderr",
     "output_type": "stream",
     "text": [
      "[Parallel(n_jobs=48)]: Using backend LokyBackend with 48 concurrent workers.\n",
      "[Parallel(n_jobs=48)]: Done 100 out of 100 | elapsed:  2.4min finished\n"
     ]
    },
    {
     "name": "stdout",
     "output_type": "stream",
     "text": [
      "cuda:0\n",
      "Tesla V100S-PCIE-32GB\n",
      "Memory Usage:\n",
      "Allocated: 0.0 GB\n",
      "Cached:    0.0 GB\n",
      "Trained on GDB05\n",
      "Trained on GDB06\n",
      "Trained on GDB07\n",
      "Trained on GDB08\n",
      "Trained on GDB09\n",
      "Trained on GDB10\n",
      "Trained on GDB11\n"
     ]
    }
   ],
   "source": [
    "tested_data=[]\n",
    "for i in range(5,12):\n",
    "    if len(str(i))==2:\n",
    "        GDBX1=str(i)\n",
    "        GDBX2=str(i)\n",
    "    else:\n",
    "        GDBX1=f'0{i}'\n",
    "        GDBX2=str(i)\n",
    "\n",
    "    project=f'GDB{GDBX1}'\n",
    "    print(f'Tested on {project}')\n",
    "    # project=f'GDBmix'\n",
    "    # Options FC, GC, rewired\n",
    "    graph_geometry='rewired'\n",
    "    experiment='PairNet'\n",
    "\n",
    "    if experiment=='PairNet':\n",
    "        experimental=DDGNN_PairNet\n",
    "    else:\n",
    "        experimental=DDGNN_GCN\n",
    "\n",
    "    experiment=f'{experiment}_{graph_geometry}'    \n",
    "    print(experiment)\n",
    "    path=f'/lustre/isaac/proj/UTK0022/CHH/CHH_DATA/localization_schemes/ccpvdz_mix/'\n",
    "\n",
    "\n",
    "    basis='cc-pdvz'\n",
    "    scheme = 'Boys'\n",
    "    data_age = 'old'\n",
    "    device='cpu'\n",
    "    number_molecules=100\n",
    "    # number_molecules=5\n",
    "\n",
    "    logger.info('Loading Data Set')\n",
    "    dataset = PairNetDataSet(graph_geometry,path,project,data_age,device,number_molecules)\n",
    "    graphs=dataset.graphdict\n",
    "\n",
    "    featdim=int([v['g'].ndata['feat'].shape for idx,(k,v) in enumerate(graphs.items()) if idx==0][0][1])\n",
    "\n",
    "    torch.manual_seed(42)\n",
    "\n",
    "    device = torch.device('cuda:0' if torch.cuda.is_available() else 'cpu')\n",
    "    print(device)\n",
    "\n",
    "\n",
    "\n",
    "    torch.cuda.empty_cache()\n",
    "    if device.type == 'cuda':\n",
    "        if torch.cuda.device_count() > 1:\n",
    "            for i in range(torch.cuda.device_count()):\n",
    "                print(f'Device {i}')\n",
    "                print(torch.cuda.get_device_name(i))\n",
    "                print('Memory Usage:')\n",
    "                print('Allocated:', round(torch.cuda.memory_allocated(i)/1024**3,1), 'GB')\n",
    "                print('Cached:   ', round(torch.cuda.memory_reserved(i)/1024**3,1), 'GB')\n",
    "        else:\n",
    "            print(torch.cuda.get_device_name(0))\n",
    "            print('Memory Usage:')\n",
    "            print('Allocated:', round(torch.cuda.memory_allocated(0)/1024**3,1), 'GB')\n",
    "            print('Cached:   ', round(torch.cuda.memory_reserved(0)/1024**3,1), 'GB')\n",
    "\n",
    "    torch.backends.cudnn.benchmark = True\n",
    "\n",
    "    run=[]\n",
    "    for i in range(5,12):\n",
    "        if len(str(i))==2:\n",
    "            GDB1=str(i)\n",
    "            GDB2=str(i)\n",
    "        else:\n",
    "            GDB1=f'0{i}'\n",
    "            GDB2=str(i)        \n",
    "    \n",
    "        projecttrain=f'GDB{GDB1}'\n",
    "        print(f'Trained on {projecttrain}')\n",
    "        train_set, test_set=dgl.data.split_dataset(dataset,frac_list=[0,1],shuffle=True,random_state=42)\n",
    "        test_loader = dgl.dataloading.GraphDataLoader(test_set, batch_size=1,collate_fn=collate)    \n",
    "\n",
    "\n",
    "\n",
    "        model =experimental(featdim)\n",
    "        model.load_state_dict(torch.load(os.path.join(os.getcwd(),f\"ccpvdz_playground/save_model/{projecttrain}.pth\")))\n",
    "        model.eval()\n",
    "        model = model.to(device)    \n",
    "\n",
    "        test=[]\n",
    "        with torch.no_grad(): \n",
    "            for idxx, (test_batched_graph,test_labels,k) in enumerate(test_loader):\n",
    "                test_batched_graph,test_labels = test_batched_graph.to(device),test_labels.to(device)\n",
    "                test.append([test_labels.detach().cpu(),model(test_batched_graph,k[0]).detach().cpu()])\n",
    "        test=torch.tensor(test).numpy()\n",
    "\n",
    "        y_true_test,y_pred_test=test[:,0],test[:,1]\n",
    "\n",
    "        df_test=pd.DataFrame({'Test':y_true_test,'Predict':y_pred_test})    \n",
    "\n",
    "        run.append((projecttrain,r2_score(y_true_test,y_pred_test),627.5*mean_squared_error(y_true_test,y_pred_test,squared=False),627.5*mean_absolute_error(y_true_test,y_pred_test)))\n",
    "    tested_data.append((project,run))"
   ]
  },
  {
   "cell_type": "code",
   "execution_count": null,
   "id": "73a73567",
   "metadata": {},
   "outputs": [],
   "source": []
  },
  {
   "cell_type": "code",
   "execution_count": 4,
   "id": "35fd72a1",
   "metadata": {
    "scrolled": true
   },
   "outputs": [],
   "source": [
    "fixed_maedf=pd.concat([pd.DataFrame(np.array(v)[:,[0,-1]],columns=['GDB',k]).set_index('GDB') for k,v in tested_data],axis=1).T\n",
    "mlpath='ccpvdz_playground'\n",
    "if mlpath=='ccpvdz_playground':\n",
    "    savemlfig='trained_ccpvdz'\n",
    "    \n",
    "if os.path.exists(f'{savemlfig}')==False:\n",
    "    os.mkdir(f'{savemlfig}')\n",
    "fixed_maedf.to_excel(f'{savemlfig}/{experiment}_trans_MAE_ccpvdz.xlsx')    "
   ]
  },
  {
   "cell_type": "code",
   "execution_count": 5,
   "id": "fc43e498",
   "metadata": {},
   "outputs": [
    {
     "data": {
      "image/png": "[encoded data removed]",
      "text/plain": [
       "<Figure size 720x648 with 2 Axes>"
      ]
     },
     "metadata": {
      "needs_background": "light"
     },
     "output_type": "display_data"
    }
   ],
   "source": [
    "plt.rcParams.update({'font.size': 14})\n",
    "plt.figure(figsize=(10,9))\n",
    "ccpvdz_MAE_df=pd.read_excel(glob(f'trained_ccpvdz/{experiment}*ccpvdz.xlsx')[0],index_col=0).T\n",
    "ccpvdz_MAE_df.columns=[int(i.strip('GDB')) for i in ccpvdz_MAE_df.columns]\n",
    "ccpvdz_MAE_df.index=[int(i.strip('GDB')) for i in ccpvdz_MAE_df.index]\n",
    "ax=sns.heatmap(data=ccpvdz_MAE_df,linewidths=.1,square=False,cmap = sns.cm.rocket_r, fmt='.2f', annot_kws={\"fontsize\":12},annot=True,cbar=True, cbar_kws={'label': 'MAE (kcal/mol)'},vmin=0,vmax=50)\n",
    "ax.invert_yaxis()\n",
    "plt.ylabel('Train')\n",
    "plt.xlabel('Test')\n",
    "if 'PairNet' in experiment:\n",
    "    plt.title(f'PairGraphNet {graph_geometry}')\n",
    "else:\n",
    "    plt.title(f'GCN {graph_geometry}')\n",
    "plt.tight_layout()\n",
    "plt.savefig(f'{experiment}_ccpvdz.png',dpi=300,bbox_inches='tight')\n",
    "plt.show()"
   ]
  }
 ],
 "metadata": {
  "celltoolbar": "Tags",
  "kernelspec": {
   "display_name": "DDGNN",
   "language": "python",
   "name": "ddgnn"
  },
  "language_info": {
   "codemirror_mode": {
    "name": "ipython",
    "version": 3
   },
   "file_extension": ".py",
   "mimetype": "text/x-python",
   "name": "python",
   "nbconvert_exporter": "python",
   "pygments_lexer": "ipython3",
   "version": "3.10.4"
  },
  "papermill": {
   "default_parameters": {},
   "duration": 22892.416332,
   "end_time": "2022-12-06T15:00:17.229050",
   "environment_variables": {},
   "exception": null,
   "input_path": "GCN_gridGDBdataloader.ipynb",
   "output_path": "GCN_gridGDBdataloader.ipynb",
   "parameters": {},
   "start_time": "2022-12-06T08:38:44.812718",
   "version": "2.3.4"
  }
 },
 "nbformat": 4,
 "nbformat_minor": 5
}
