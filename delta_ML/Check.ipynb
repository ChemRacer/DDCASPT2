{
 "cells": [
  {
   "cell_type": "code",
   "execution_count": null,
   "id": "c87af0b1-3e45-4b79-abdd-0bc2a883aadf",
   "metadata": {},
   "outputs": [],
   "source": [
    "import sys\n",
    "import os\n",
    "from glob import glob\n",
    "import pandas as pd\n",
    "import numpy as np\n",
    "import matplotlib.pyplot as plt\n",
    "import seaborn as sns\n",
    "\n",
    "# SHAP\n",
    "import shap\n",
    "\n",
    "# RDKit\n",
    "from rdkit.Chem.rdmolfiles import MolFromXYZFile, MolToXYZFile\n",
    "from rdkit import Chem\n",
    "from rdkit.Chem import rdDetermineBonds, MACCSkeys, AllChem\n",
    "\n",
    "# DScribe\n",
    "from dscribe.descriptors import ACSF, CoulombMatrix, MBTR, SOAP, CoulombMatrix\n",
    "from dscribe.kernels import REMatchKernel\n",
    "from ase.io import read\n",
    "from sklearn.preprocessing import normalize\n"
   ]
  },
  {
   "cell_type": "code",
   "execution_count": null,
   "id": "19b833b5-96fa-4420-9f24-7ac7bd2e6be9",
   "metadata": {},
   "outputs": [],
   "source": [
    "def xyz_to_cleanmol(path):\n",
    "    '''\n",
    "    Clean mol object from xyz \n",
    "\n",
    "    params\n",
    "    ------\n",
    "    path: str\n",
    "        Path to structure\n",
    "\n",
    "    fragment: str\n",
    "        Options: A, B, AB\n",
    "        \n",
    "    returns\n",
    "    -------\n",
    "    mol: rdkit.Chem.rdchem.Mol\n",
    "        Cleaned mol object\n",
    "    '''\n",
    "\n",
    "    mol=MolFromXYZFile(path)\n",
    "    rdDetermineBonds.DetermineConnectivity(mol)\n",
    "    Chem.SanitizeMol(mol)\n",
    "    Chem.AssignStereochemistry(mol,cleanIt=True)\n",
    "    Chem.Kekulize(mol)\n",
    "    \n",
    "    return mol"
   ]
  },
  {
   "cell_type": "code",
   "execution_count": null,
   "id": "16f470bd-25cb-406e-8eab-70c07ece7052",
   "metadata": {},
   "outputs": [],
   "source": [
    "data={}\n",
    "# Loop dirs and skip the .ipynb file\n",
    "for dirs in os.listdir():\n",
    "    if os.path.isdir(dirs) and '.ipynb' not in dirs:\n",
    "        data[dirs]={}\n",
    "        # Loop over radii\n",
    "        for file in glob(os.path.join(dirs,'*/*.output')):\n",
    "            molecule,radius=file.split('/')[0:2]\n",
    "            data[dirs][radius]={}\n",
    "            # Find energies!\n",
    "            with open(file,'r') as f:\n",
    "                for line in f.readlines():\n",
    "                    if '::    Total SCF' in line:\n",
    "                        scf=float(line.split()[-1])\n",
    "                        data[dirs][radius]['SCF']=scf\n",
    "                    if '::    Total MBPT2' in line:\n",
    "                        MP2=float(line.split()[-1])\n",
    "                        data[dirs][radius]['MP2']=MP2\n",
    "                    if '::    RASSCF' in line:\n",
    "                        CASSCF=float(line.split()[-1])\n",
    "                        data[dirs][radius]['CASSCF']=CASSCF\n",
    "                    if '::    CASPT2' in line:\n",
    "                        CASPT2=float(line.split()[-1])\n",
    "                        data[dirs][radius]['CASPT2']=CASPT2\n",
    "        # Loop over xyz\n",
    "        for file in glob(os.path.join(dirs,'*/*.xyz')):\n",
    "            molecule,radius=file.split('/')[0:2]\n",
    "            data[dirs][radius]['structures']={'ASE':read(file),'mol':xyz_to_cleanmol(file)}"
   ]
  },
  {
   "cell_type": "code",
   "execution_count": null,
   "id": "4f0b6edf-6088-425c-97de-2e4779321966",
   "metadata": {},
   "outputs": [],
   "source": [
    "with open(\"diatomics.txt\") as f:\n",
    "    diatomics=[i.strip('\\n').split('_') for i in f.readlines()]"
   ]
  },
  {
   "cell_type": "code",
   "execution_count": null,
   "id": "dfb28bf6-ce3e-4ed0-8c88-7ce803d8ef40",
   "metadata": {},
   "outputs": [],
   "source": [
    "all_species=set(sum(diatomics,[]))"
   ]
  },
  {
   "cell_type": "code",
   "execution_count": null,
   "id": "d848db2a-7910-4f4a-8734-baf9fc3bb2bd",
   "metadata": {
    "scrolled": true
   },
   "outputs": [],
   "source": [
    "Morgan={}\n",
    "RDKit={}\n",
    "MACCS={}\n",
    "\n",
    "fpgen = AllChem.GetRDKitFPGenerator()\n",
    "Morgangen = AllChem.GetMorganGenerator(radius=2)\n",
    "for k,v in data.items():\n",
    "    Morgan[k]={}\n",
    "    RDKit[k]={}\n",
    "    MACCS[k]={}\n",
    "    for k1,v1 in v.items():\n",
    "        mol=v1['structures']['mol']\n",
    "        \n",
    "        MACCS[k][k1]=list(MACCSkeys.GenMACCSKeys(mol))\n",
    "        RDKit[k][k1]=list(fpgen.GetFingerprint(mol))\n",
    "        Morgan[k][k1]=list(Morgangen.GetFingerprint(mol))"
   ]
  },
  {
   "cell_type": "code",
   "execution_count": null,
   "id": "7e0f7f2f-7244-42dc-82f9-94a81a61bc3c",
   "metadata": {},
   "outputs": [],
   "source": [
    "# Initialize dscribe feature parameters\n",
    "\n",
    "\n",
    "# Set up the SOAP descriptor with parameters:\n",
    "# species, rcut, nmax, and lmax\n",
    "soap = SOAP(species=all_species,r_cut=3,n_max=4,l_max=3,sigma=1.5,periodic=False)\n",
    "re = REMatchKernel(metric=\"rbf\", gamma=2, alpha=1.2, threshold=1e-8, normalize_kernel=False)\n",
    "\n",
    "# Setting up the CM descriptor\n",
    "cm = CoulombMatrix(n_atoms_max=2,permutation='eigenspectrum',seed=42)"
   ]
  },
  {
   "cell_type": "code",
   "execution_count": null,
   "id": "8034edf5-dd8f-4dc8-be27-88f05670266f",
   "metadata": {},
   "outputs": [],
   "source": []
  },
  {
   "cell_type": "code",
   "execution_count": null,
   "id": "383faa45-8914-4a4b-b268-9c508daff95f",
   "metadata": {},
   "outputs": [],
   "source": [
    "ordering=sum([[(k,k1) for k1,v1 in v.items()] for k,v in data.items()],[])\n",
    "flattened_ASE=sum([[v1['structures']['ASE'] for k1,v1 in v.items()]for k,v in data.items()],[])\n",
    "flattened_mol=sum([[v1['structures']['mol'] for k1,v1 in v.items()]for k,v in data.items()],[])"
   ]
  },
  {
   "cell_type": "code",
   "execution_count": null,
   "id": "19bbc26f-291c-4a5d-9d83-36fa4e8b05bb",
   "metadata": {},
   "outputs": [],
   "source": [
    "MACCS_mol=[list(MACCSkeys.GenMACCSKeys(mol)) for mol in flattened_mol]\n",
    "RDKit_mol=[list(fpgen.GetFingerprint(mol)) for mol in flattened_mol]\n",
    "Morgan_mol=[list(Morgangen.GetFingerprint(mol)) for mol in flattened_mol]\n",
    "cm_mol = cm.create(flattened_ASE)\n",
    "soap_mol = re.create([normalize(i) for i in soap.create(flattened_ASE)])"
   ]
  },
  {
   "cell_type": "code",
   "execution_count": null,
   "id": "441d17bc-03ed-447c-b0b8-9e8ee88efaf3",
   "metadata": {},
   "outputs": [],
   "source": [
    "MACCS_df=pd.DataFrame(MACCS_mol)\n",
    "MACCS_df[['molecule','radius']]=ordering\n",
    "MACCS_df=MACCS_df.set_index(['molecule','radius'])"
   ]
  },
  {
   "cell_type": "code",
   "execution_count": null,
   "id": "f696f733-c784-48ae-8a6c-8ce45f52dd58",
   "metadata": {},
   "outputs": [],
   "source": [
    "RDKit_df=pd.DataFrame(RDKit_mol)\n",
    "RDKit_df[['molecule','radius']]=ordering\n",
    "RDKit_df=RDKit_df.set_index(['molecule','radius'])\n"
   ]
  },
  {
   "cell_type": "code",
   "execution_count": null,
   "id": "f8e3d1de-08e2-49b0-b9b1-62fc2dbe2a24",
   "metadata": {},
   "outputs": [],
   "source": [
    "Morgan_df=pd.DataFrame(Morgan_mol)\n",
    "Morgan_df[['molecule','radius']]=ordering\n",
    "Morgan_df=Morgan_df.set_index(['molecule','radius'])\n"
   ]
  },
  {
   "cell_type": "code",
   "execution_count": null,
   "id": "a57961fb-2050-49e4-989e-b6b80c01b6ad",
   "metadata": {},
   "outputs": [],
   "source": [
    "soap_df=pd.DataFrame(soap_mol)\n",
    "soap_df[['molecule','radius']]=ordering\n",
    "soap_df=soap_df.set_index(['molecule','radius'])"
   ]
  },
  {
   "cell_type": "code",
   "execution_count": null,
   "id": "65ebff27-567d-4d39-bfb6-d67a8f71230f",
   "metadata": {},
   "outputs": [],
   "source": [
    "cm_df=pd.DataFrame(cm_mol)\n",
    "cm_df[['molecule','radius']]=ordering\n",
    "cm_df=cm_df.set_index(['molecule','radius'])\n"
   ]
  },
  {
   "cell_type": "code",
   "execution_count": null,
   "id": "fb5b15a3-5a05-405f-8028-2faef33fac99",
   "metadata": {},
   "outputs": [],
   "source": []
  },
  {
   "cell_type": "code",
   "execution_count": null,
   "id": "a9283421-57e9-4d49-86db-275fa30370ab",
   "metadata": {},
   "outputs": [],
   "source": [
    "ydata=[]\n",
    "for k,v in data.items():\n",
    "    df=pd.DataFrame.from_dict({k1:{k2:v2 for k2,v2 in v1.items() if k2!='structures'} for k1,v1 in v.items()}).T.reset_index()\n",
    "    df['mol']=len(df)*[k]\n",
    "    df=df.set_index(['mol','index'])\n",
    "    ydata.append(df)\n",
    "df_y=pd.concat(ydata)"
   ]
  },
  {
   "cell_type": "code",
   "execution_count": null,
   "id": "3e6fb909-ce97-4433-b023-7fa54639ff1c",
   "metadata": {},
   "outputs": [],
   "source": [
    "df_y.loc['HLi'].sort_index().idxmin()"
   ]
  },
  {
   "cell_type": "code",
   "execution_count": null,
   "id": "6731b957-b50d-46f0-97c3-bc3da1d6574f",
   "metadata": {},
   "outputs": [],
   "source": [
    "sns.lineplot(data=df_y.loc['HN'].sort_index())\n",
    "# plt.ylim(-39.25,-39)"
   ]
  },
  {
   "cell_type": "code",
   "execution_count": null,
   "id": "17d50f14-3829-470f-a09b-7de16f8a4057",
   "metadata": {},
   "outputs": [],
   "source": [
    "sns.lineplot(data=df_y.reset_index().sort_values(by='index'),x='index',hue='mol',y='CASPT2')"
   ]
  },
  {
   "cell_type": "code",
   "execution_count": null,
   "id": "b0744978-7b1b-4a8d-b33e-b39bad09127f",
   "metadata": {},
   "outputs": [],
   "source": []
  }
 ],
 "metadata": {
  "kernelspec": {
   "display_name": "qml",
   "language": "python",
   "name": "qml"
  },
  "language_info": {
   "codemirror_mode": {
    "name": "ipython",
    "version": 3
   },
   "file_extension": ".py",
   "mimetype": "text/x-python",
   "name": "python",
   "nbconvert_exporter": "python",
   "pygments_lexer": "ipython3",
   "version": "3.8.19"
  }
 },
 "nbformat": 4,
 "nbformat_minor": 5
}
