{
 "cells": [
  {
   "cell_type": "code",
   "execution_count": 1,
   "id": "359c0edd-4019-4d26-809c-d93fda8a1e1d",
   "metadata": {},
   "outputs": [],
   "source": [
    "import sys\n",
    "# !{sys.executable} -m pip install mendeleev\n",
    "#######################################################\n",
    "#Import packages\n",
    "import numpy as np\n",
    "import os\n",
    "import re\n",
    "from math import sin, cos, pi\n",
    "from glob import glob\n",
    "import subprocess\n",
    "import pickle\n",
    "from subprocess import call, check_output\n",
    "import pandas as pd\n",
    "# import psi4\n",
    "from joblib import Parallel,effective_n_jobs,delayed\n",
    "from time import time\n",
    "import matplotlib.pyplot as plt\n",
    "from plumbum.cmd import grep, awk\n",
    "\n",
    "import shutil\n",
    "import random\n",
    "import sklearn\n",
    "from shutil import copy\n",
    "import csv\n",
    "import h5py as h5\n",
    "import seaborn as sns; sns.set(style=\"ticks\", color_codes=True)\n",
    "\n",
    "from sklearn.model_selection import train_test_split\n",
    "import mendeleev\n",
    "from tqdm import tqdm"
   ]
  },
  {
   "cell_type": "code",
   "execution_count": 2,
   "id": "1037c27d-a0b8-4060-8b78-4082f10a4f07",
   "metadata": {},
   "outputs": [],
   "source": [
    "radius_range=np.arange(0.6,2.9,0.1)"
   ]
  },
  {
   "cell_type": "code",
   "execution_count": 3,
   "id": "3b025997-7319-4e76-924b-95fee7ea7191",
   "metadata": {},
   "outputs": [],
   "source": [
    "def writexyz(atom_A,atom_B,radius,filename):\n",
    "    \"\"\"\n",
    "    Write a xyz coordinate to file\n",
    "\n",
    "    parameters\n",
    "    ----------\n",
    "    atom_A: str\n",
    "        First atom\n",
    "        \n",
    "    atom_B: str\n",
    "        Second atom\n",
    "    \n",
    "    radius: float\n",
    "        Radius of A and B\n",
    "        \n",
    "    filename: str\n",
    "        Name of xyz file\n",
    "    \n",
    "    \"\"\"\n",
    "    coords=f\"\"\"2\n",
    "    \n",
    "{atom_A} {0:>8.4f} {0:>8.4f} {0:>8.4f}\n",
    "{atom_B} {0:>8.4f} {0:>8.4f} {radius:>8.4f}\n",
    "\"\"\"\n",
    "    with open(filename,'w') as f:\n",
    "        f.write(coords)"
   ]
  },
  {
   "cell_type": "code",
   "execution_count": null,
   "id": "fada1907-1542-42fe-acd4-4ea8ace23c44",
   "metadata": {},
   "outputs": [],
   "source": []
  },
  {
   "cell_type": "code",
   "execution_count": 4,
   "id": "f6bd1525-b490-4afe-83ce-1eb42e344145",
   "metadata": {},
   "outputs": [],
   "source": [
    "# Delete excessive extra files\n",
    "def del_useless():\n",
    "    '''\n",
    "    Delete the extra files\n",
    "    '''\n",
    "    for root, dirs, files in os.walk(os.getcwd()):\n",
    "        for file in files:\n",
    "            for j in ['status','GssOrb','LprOrb','LoProp','guessorb','xmldump','RasOrb','SpdOrb']:\n",
    "                if j in file:\n",
    "    #                 print(root,dirs,file)\n",
    "                    os.remove(os.path.join(root,file))"
   ]
  },
  {
   "cell_type": "code",
   "execution_count": 5,
   "id": "77f56a80-09f4-4516-8bb9-19b288fc3640",
   "metadata": {},
   "outputs": [],
   "source": [
    "def gen_gateway(name,basis_set):\n",
    "    string=f'''&GATEWAY \n",
    "coord={f'{name}.xyz'}\n",
    "Basis = {basis_set}\n",
    "Group = nosymm\n",
    "End of Input\n",
    "'''\n",
    "    return string\n",
    "\n",
    "def gen_seward():\n",
    "    string=f'''&SEWARD\n",
    "End of Input\n",
    "'''\n",
    "    return string\n",
    "\n",
    "def gen_motra():\n",
    "    string=f'''&MOTRA\n",
    "'''\n",
    "    return string\n",
    "\n",
    "def gen_MP2():\n",
    "    string=\"\"\"&MBPT2 &END\\n\"\"\"\n",
    "    return string\n",
    "\n",
    "\n",
    "def gen_scf():\n",
    "    string=f\"\"\"&SCF &END\n",
    "UHF\n",
    "\"\"\"\n",
    "    return string    \n",
    "\n",
    "\n",
    "def gen_rasscf(e,o,i,spin,previous=None):\n",
    "    start_string=\"\"\"&RASSCF &END\n",
    "Title= RASSCF\n",
    "\"\"\"\n",
    "    if previous!=None:\n",
    "        fileorb=f\"\"\"FileOrb\n",
    "{previous}\n",
    "\"\"\"\n",
    "    else:\n",
    "        fileorb=''\n",
    "\n",
    "    end_string=f\"\"\"\n",
    "NACTEL\n",
    "{e} 0 0\n",
    "Inactive\n",
    "{i}\n",
    "RAS2\n",
    "{o}\n",
    "Symmetry\n",
    "1\n",
    "Spin\n",
    "{spin}\n",
    "orblisting\n",
    "all\n",
    "ITERation\n",
    "200 100\n",
    "CIMX\n",
    "200\n",
    "SDAV\n",
    "500\n",
    "\"\"\"\n",
    "    return start_string+fileorb+end_string \n",
    "\n",
    "def gen_caspt2():\n",
    "    string=\"\"\"&CASPT2 &END\n",
    "Imaginary Shift\n",
    "0.0\n",
    "\n",
    "\"\"\"\n",
    "    return string    \n",
    "\n",
    "\n",
    "\n"
   ]
  },
  {
   "cell_type": "code",
   "execution_count": null,
   "id": "a74e3726-6c6e-463e-9715-99aa8be61fc4",
   "metadata": {},
   "outputs": [],
   "source": []
  },
  {
   "cell_type": "code",
   "execution_count": 6,
   "id": "bdedc269-7b7b-43e7-9b82-4b1537c67514",
   "metadata": {},
   "outputs": [],
   "source": [
    "with open(\"diatomics.txt\") as f:\n",
    "    diatomics=[i.strip('\\n').split('_') for i in f.readlines()]"
   ]
  },
  {
   "cell_type": "code",
   "execution_count": 7,
   "id": "e39956f2-6079-472b-87b8-1af60122a8de",
   "metadata": {},
   "outputs": [
    {
     "data": {
      "text/plain": [
       "[['B', 'B'],\n",
       " ['B', 'Be'],\n",
       " ['B', 'C'],\n",
       " ['B', 'F'],\n",
       " ['B', 'H'],\n",
       " ['B', 'Li'],\n",
       " ['B', 'N'],\n",
       " ['B', 'O'],\n",
       " ['Be', 'Be'],\n",
       " ['Be', 'C'],\n",
       " ['Be', 'F'],\n",
       " ['Be', 'H'],\n",
       " ['Be', 'Li'],\n",
       " ['Be', 'N'],\n",
       " ['Be', 'O'],\n",
       " ['C', 'C'],\n",
       " ['C', 'F'],\n",
       " ['C', 'H'],\n",
       " ['C', 'Li'],\n",
       " ['C', 'N'],\n",
       " ['C', 'O'],\n",
       " ['F', 'F'],\n",
       " ['F', 'H'],\n",
       " ['F', 'Li'],\n",
       " ['F', 'N'],\n",
       " ['F', 'O'],\n",
       " ['H', 'H'],\n",
       " ['H', 'Li'],\n",
       " ['H', 'N'],\n",
       " ['H', 'O'],\n",
       " ['Li', 'Li'],\n",
       " ['Li', 'N'],\n",
       " ['Li', 'O'],\n",
       " ['N', 'N'],\n",
       " ['N', 'O'],\n",
       " ['O', 'O']]"
      ]
     },
     "execution_count": 7,
     "metadata": {},
     "output_type": "execute_result"
    }
   ],
   "source": [
    "diatomics"
   ]
  },
  {
   "cell_type": "code",
   "execution_count": 8,
   "id": "804649f5-3e47-474c-813d-9c3c61129ab9",
   "metadata": {},
   "outputs": [],
   "source": [
    "def write_input(dirname,basis_set,radius,idxr,e,o,i,spin):\n",
    "    \"\"\"\n",
    "    Create OpenMolcas Input\n",
    "\n",
    "    parameters:\n",
    "    -----------\n",
    "    dirname: str\n",
    "        Name of directory\n",
    "    \n",
    "    basis_set: str\n",
    "        Basis set of choice\n",
    "    \n",
    "    radius: float\n",
    "        Radius \n",
    "        \n",
    "    idxr: int\n",
    "        Index of radius\n",
    "\n",
    "    e: int\n",
    "        Active electrons\n",
    "        \n",
    "    o: int\n",
    "        Active orbitals\n",
    "        \n",
    "    i: int\n",
    "        Inactive orbitals\n",
    "\n",
    "    spin: int\n",
    "        Spin multiplicity\n",
    "    \"\"\"\n",
    "    with open(os.path.join(dirname,f'{radius:.2f}',f'{radius:.2f}.input'),'wb') as g:\n",
    "        g.write(gen_gateway(f\"{radius:.2f}\",basis_set).encode())\n",
    "        g.write(gen_seward().encode())\n",
    "        g.write(gen_scf().encode())   \n",
    "        g.write(gen_MP2().encode())   \n",
    "        # Choose active space and inactive orbitals\n",
    "        #g.write(gen_rasscf(name,2,2,int((i/2)-1)).encode())\n",
    "        if idxr==0:\n",
    "            g.write(gen_rasscf(e,o,i,spin,previous=None).encode()) \n",
    "        else:\n",
    "    \n",
    "            previous=os.path.join(dirname,f'{radius_range[idxr-1]:.2f}',f\"{radius_range[idxr-1]:.2f}.RasOrb\")\n",
    "            g.write(gen_rasscf(e,o,i,spin,previous=previous).encode()) # int((i/2)-1)\n",
    "        g.write(gen_caspt2().encode())    "
   ]
  },
  {
   "cell_type": "code",
   "execution_count": 9,
   "id": "98212416-7d0e-47c0-9eb3-47335829ebfc",
   "metadata": {
    "scrolled": true
   },
   "outputs": [
    {
     "name": "stderr",
     "output_type": "stream",
     "text": [
      "  0%|                                                                                                                                                                                       | 0/36 [00:00<?, ?it/s]\n",
      "0it [00:00, ?it/s]\u001b[A<string>:392: SyntaxWarning: invalid escape sequence '\\.'\n",
      "<string>:401: SyntaxWarning: invalid escape sequence '\\.'\n",
      "<string>:412: SyntaxWarning: invalid escape sequence '\\d'\n",
      "<string>:707: SyntaxWarning: invalid escape sequence '\\s'\n"
     ]
    },
    {
     "name": "stdout",
     "output_type": "stream",
     "text": [
      "raddir /home/grierjones/DDCASPT2/delta_ML/BB/0.60\n",
      "/home/grierjones/DDCASPT2/delta_ML/BB/0.60\n"
     ]
    },
    {
     "name": "stderr",
     "output_type": "stream",
     "text": [
      "\n",
      "1it [00:01,  1.23s/it]\u001b[A"
     ]
    },
    {
     "name": "stdout",
     "output_type": "stream",
     "text": [
      "/home/grierjones/DDCASPT2/delta_ML/BB\n",
      "raddir /home/grierjones/DDCASPT2/delta_ML/BB/0.70\n",
      "/home/grierjones/DDCASPT2/delta_ML/BB/0.70\n"
     ]
    },
    {
     "name": "stderr",
     "output_type": "stream",
     "text": [
      "<string>:392: SyntaxWarning: invalid escape sequence '\\.'\n",
      "<string>:401: SyntaxWarning: invalid escape sequence '\\.'\n",
      "<string>:412: SyntaxWarning: invalid escape sequence '\\d'\n",
      "<string>:707: SyntaxWarning: invalid escape sequence '\\s'\n",
      "\n",
      "2it [00:02,  1.24s/it]\u001b[A"
     ]
    },
    {
     "name": "stdout",
     "output_type": "stream",
     "text": [
      "/home/grierjones/DDCASPT2/delta_ML/BB\n",
      "raddir /home/grierjones/DDCASPT2/delta_ML/BB/0.80\n",
      "/home/grierjones/DDCASPT2/delta_ML/BB/0.80\n"
     ]
    },
    {
     "name": "stderr",
     "output_type": "stream",
     "text": [
      "<string>:392: SyntaxWarning: invalid escape sequence '\\.'\n",
      "<string>:401: SyntaxWarning: invalid escape sequence '\\.'\n",
      "<string>:412: SyntaxWarning: invalid escape sequence '\\d'\n",
      "<string>:707: SyntaxWarning: invalid escape sequence '\\s'\n",
      "\n",
      "3it [00:03,  1.24s/it]\u001b[A"
     ]
    },
    {
     "name": "stdout",
     "output_type": "stream",
     "text": [
      "/home/grierjones/DDCASPT2/delta_ML/BB\n",
      "raddir /home/grierjones/DDCASPT2/delta_ML/BB/0.90\n",
      "/home/grierjones/DDCASPT2/delta_ML/BB/0.90\n"
     ]
    },
    {
     "name": "stderr",
     "output_type": "stream",
     "text": [
      "<string>:392: SyntaxWarning: invalid escape sequence '\\.'\n",
      "<string>:401: SyntaxWarning: invalid escape sequence '\\.'\n",
      "<string>:412: SyntaxWarning: invalid escape sequence '\\d'\n",
      "<string>:707: SyntaxWarning: invalid escape sequence '\\s'\n",
      "\n",
      "4it [00:04,  1.23s/it]\u001b[A"
     ]
    },
    {
     "name": "stdout",
     "output_type": "stream",
     "text": [
      "/home/grierjones/DDCASPT2/delta_ML/BB\n",
      "raddir /home/grierjones/DDCASPT2/delta_ML/BB/1.00\n",
      "/home/grierjones/DDCASPT2/delta_ML/BB/1.00\n"
     ]
    },
    {
     "name": "stderr",
     "output_type": "stream",
     "text": [
      "<string>:392: SyntaxWarning: invalid escape sequence '\\.'\n",
      "<string>:401: SyntaxWarning: invalid escape sequence '\\.'\n",
      "<string>:412: SyntaxWarning: invalid escape sequence '\\d'\n",
      "<string>:707: SyntaxWarning: invalid escape sequence '\\s'\n",
      "\n",
      "5it [00:06,  1.23s/it]\u001b[A"
     ]
    },
    {
     "name": "stdout",
     "output_type": "stream",
     "text": [
      "/home/grierjones/DDCASPT2/delta_ML/BB\n",
      "raddir /home/grierjones/DDCASPT2/delta_ML/BB/1.10\n",
      "/home/grierjones/DDCASPT2/delta_ML/BB/1.10\n"
     ]
    },
    {
     "name": "stderr",
     "output_type": "stream",
     "text": [
      "<string>:392: SyntaxWarning: invalid escape sequence '\\.'\n",
      "<string>:401: SyntaxWarning: invalid escape sequence '\\.'\n",
      "<string>:412: SyntaxWarning: invalid escape sequence '\\d'\n",
      "<string>:707: SyntaxWarning: invalid escape sequence '\\s'\n",
      "\n",
      "6it [00:07,  1.23s/it]\u001b[A"
     ]
    },
    {
     "name": "stdout",
     "output_type": "stream",
     "text": [
      "/home/grierjones/DDCASPT2/delta_ML/BB\n",
      "raddir /home/grierjones/DDCASPT2/delta_ML/BB/1.20\n",
      "/home/grierjones/DDCASPT2/delta_ML/BB/1.20\n"
     ]
    },
    {
     "name": "stderr",
     "output_type": "stream",
     "text": [
      "<string>:392: SyntaxWarning: invalid escape sequence '\\.'\n",
      "<string>:401: SyntaxWarning: invalid escape sequence '\\.'\n",
      "<string>:412: SyntaxWarning: invalid escape sequence '\\d'\n",
      "<string>:707: SyntaxWarning: invalid escape sequence '\\s'\n",
      "\n",
      "7it [00:08,  1.23s/it]\u001b[A"
     ]
    },
    {
     "name": "stdout",
     "output_type": "stream",
     "text": [
      "/home/grierjones/DDCASPT2/delta_ML/BB\n",
      "raddir /home/grierjones/DDCASPT2/delta_ML/BB/1.30\n",
      "/home/grierjones/DDCASPT2/delta_ML/BB/1.30\n"
     ]
    },
    {
     "name": "stderr",
     "output_type": "stream",
     "text": [
      "<string>:392: SyntaxWarning: invalid escape sequence '\\.'\n",
      "<string>:401: SyntaxWarning: invalid escape sequence '\\.'\n",
      "<string>:412: SyntaxWarning: invalid escape sequence '\\d'\n",
      "<string>:707: SyntaxWarning: invalid escape sequence '\\s'\n",
      "\n",
      "8it [00:09,  1.24s/it]\u001b[A"
     ]
    },
    {
     "name": "stdout",
     "output_type": "stream",
     "text": [
      "/home/grierjones/DDCASPT2/delta_ML/BB\n",
      "raddir /home/grierjones/DDCASPT2/delta_ML/BB/1.40\n",
      "/home/grierjones/DDCASPT2/delta_ML/BB/1.40\n"
     ]
    },
    {
     "name": "stderr",
     "output_type": "stream",
     "text": [
      "<string>:392: SyntaxWarning: invalid escape sequence '\\.'\n",
      "<string>:401: SyntaxWarning: invalid escape sequence '\\.'\n",
      "<string>:412: SyntaxWarning: invalid escape sequence '\\d'\n",
      "<string>:707: SyntaxWarning: invalid escape sequence '\\s'\n",
      "\n",
      "9it [00:11,  1.24s/it]\u001b[A"
     ]
    },
    {
     "name": "stdout",
     "output_type": "stream",
     "text": [
      "/home/grierjones/DDCASPT2/delta_ML/BB\n",
      "raddir /home/grierjones/DDCASPT2/delta_ML/BB/1.50\n",
      "/home/grierjones/DDCASPT2/delta_ML/BB/1.50\n"
     ]
    },
    {
     "name": "stderr",
     "output_type": "stream",
     "text": [
      "<string>:392: SyntaxWarning: invalid escape sequence '\\.'\n",
      "<string>:401: SyntaxWarning: invalid escape sequence '\\.'\n",
      "<string>:412: SyntaxWarning: invalid escape sequence '\\d'\n",
      "<string>:707: SyntaxWarning: invalid escape sequence '\\s'\n",
      "\n",
      "10it [00:12,  1.24s/it]\u001b[A"
     ]
    },
    {
     "name": "stdout",
     "output_type": "stream",
     "text": [
      "/home/grierjones/DDCASPT2/delta_ML/BB\n",
      "raddir /home/grierjones/DDCASPT2/delta_ML/BB/1.60\n",
      "/home/grierjones/DDCASPT2/delta_ML/BB/1.60\n"
     ]
    },
    {
     "name": "stderr",
     "output_type": "stream",
     "text": [
      "<string>:392: SyntaxWarning: invalid escape sequence '\\.'\n",
      "<string>:401: SyntaxWarning: invalid escape sequence '\\.'\n",
      "<string>:412: SyntaxWarning: invalid escape sequence '\\d'\n",
      "<string>:707: SyntaxWarning: invalid escape sequence '\\s'\n",
      "\n",
      "11it [00:13,  1.25s/it]\u001b[A"
     ]
    },
    {
     "name": "stdout",
     "output_type": "stream",
     "text": [
      "/home/grierjones/DDCASPT2/delta_ML/BB\n",
      "raddir /home/grierjones/DDCASPT2/delta_ML/BB/1.70\n",
      "/home/grierjones/DDCASPT2/delta_ML/BB/1.70\n"
     ]
    },
    {
     "name": "stderr",
     "output_type": "stream",
     "text": [
      "<string>:392: SyntaxWarning: invalid escape sequence '\\.'\n",
      "<string>:401: SyntaxWarning: invalid escape sequence '\\.'\n",
      "<string>:412: SyntaxWarning: invalid escape sequence '\\d'\n",
      "<string>:707: SyntaxWarning: invalid escape sequence '\\s'\n",
      "\n",
      "12it [00:14,  1.25s/it]\u001b[A"
     ]
    },
    {
     "name": "stdout",
     "output_type": "stream",
     "text": [
      "/home/grierjones/DDCASPT2/delta_ML/BB\n",
      "raddir /home/grierjones/DDCASPT2/delta_ML/BB/1.80\n",
      "/home/grierjones/DDCASPT2/delta_ML/BB/1.80\n"
     ]
    },
    {
     "name": "stderr",
     "output_type": "stream",
     "text": [
      "<string>:392: SyntaxWarning: invalid escape sequence '\\.'\n",
      "<string>:401: SyntaxWarning: invalid escape sequence '\\.'\n",
      "<string>:412: SyntaxWarning: invalid escape sequence '\\d'\n",
      "<string>:707: SyntaxWarning: invalid escape sequence '\\s'\n",
      "\n",
      "13it [00:16,  1.25s/it]\u001b[A"
     ]
    },
    {
     "name": "stdout",
     "output_type": "stream",
     "text": [
      "/home/grierjones/DDCASPT2/delta_ML/BB\n",
      "raddir /home/grierjones/DDCASPT2/delta_ML/BB/1.90\n",
      "/home/grierjones/DDCASPT2/delta_ML/BB/1.90\n"
     ]
    },
    {
     "name": "stderr",
     "output_type": "stream",
     "text": [
      "<string>:392: SyntaxWarning: invalid escape sequence '\\.'\n",
      "<string>:401: SyntaxWarning: invalid escape sequence '\\.'\n",
      "<string>:412: SyntaxWarning: invalid escape sequence '\\d'\n",
      "<string>:707: SyntaxWarning: invalid escape sequence '\\s'\n",
      "\n",
      "14it [00:17,  1.24s/it]\u001b[A"
     ]
    },
    {
     "name": "stdout",
     "output_type": "stream",
     "text": [
      "/home/grierjones/DDCASPT2/delta_ML/BB\n",
      "raddir /home/grierjones/DDCASPT2/delta_ML/BB/2.00\n",
      "/home/grierjones/DDCASPT2/delta_ML/BB/2.00\n"
     ]
    },
    {
     "name": "stderr",
     "output_type": "stream",
     "text": [
      "<string>:392: SyntaxWarning: invalid escape sequence '\\.'\n",
      "<string>:401: SyntaxWarning: invalid escape sequence '\\.'\n",
      "<string>:412: SyntaxWarning: invalid escape sequence '\\d'\n",
      "<string>:707: SyntaxWarning: invalid escape sequence '\\s'\n",
      "\n",
      "15it [00:18,  1.25s/it]\u001b[A"
     ]
    },
    {
     "name": "stdout",
     "output_type": "stream",
     "text": [
      "/home/grierjones/DDCASPT2/delta_ML/BB\n",
      "raddir /home/grierjones/DDCASPT2/delta_ML/BB/2.10\n",
      "/home/grierjones/DDCASPT2/delta_ML/BB/2.10\n"
     ]
    },
    {
     "name": "stderr",
     "output_type": "stream",
     "text": [
      "<string>:392: SyntaxWarning: invalid escape sequence '\\.'\n",
      "<string>:401: SyntaxWarning: invalid escape sequence '\\.'\n",
      "<string>:412: SyntaxWarning: invalid escape sequence '\\d'\n",
      "<string>:707: SyntaxWarning: invalid escape sequence '\\s'\n",
      "\n",
      "16it [00:19,  1.25s/it]\u001b[A"
     ]
    },
    {
     "name": "stdout",
     "output_type": "stream",
     "text": [
      "/home/grierjones/DDCASPT2/delta_ML/BB\n",
      "raddir /home/grierjones/DDCASPT2/delta_ML/BB/2.20\n",
      "/home/grierjones/DDCASPT2/delta_ML/BB/2.20\n"
     ]
    },
    {
     "name": "stderr",
     "output_type": "stream",
     "text": [
      "<string>:392: SyntaxWarning: invalid escape sequence '\\.'\n",
      "<string>:401: SyntaxWarning: invalid escape sequence '\\.'\n",
      "<string>:412: SyntaxWarning: invalid escape sequence '\\d'\n",
      "<string>:707: SyntaxWarning: invalid escape sequence '\\s'\n",
      "\n",
      "17it [00:21,  1.25s/it]\u001b[A"
     ]
    },
    {
     "name": "stdout",
     "output_type": "stream",
     "text": [
      "/home/grierjones/DDCASPT2/delta_ML/BB\n",
      "raddir /home/grierjones/DDCASPT2/delta_ML/BB/2.30\n",
      "/home/grierjones/DDCASPT2/delta_ML/BB/2.30\n"
     ]
    },
    {
     "name": "stderr",
     "output_type": "stream",
     "text": [
      "<string>:392: SyntaxWarning: invalid escape sequence '\\.'\n",
      "<string>:401: SyntaxWarning: invalid escape sequence '\\.'\n",
      "<string>:412: SyntaxWarning: invalid escape sequence '\\d'\n",
      "<string>:707: SyntaxWarning: invalid escape sequence '\\s'\n",
      "\n",
      "18it [00:22,  1.25s/it]\u001b[A"
     ]
    },
    {
     "name": "stdout",
     "output_type": "stream",
     "text": [
      "/home/grierjones/DDCASPT2/delta_ML/BB\n",
      "raddir /home/grierjones/DDCASPT2/delta_ML/BB/2.40\n",
      "/home/grierjones/DDCASPT2/delta_ML/BB/2.40\n"
     ]
    },
    {
     "name": "stderr",
     "output_type": "stream",
     "text": [
      "<string>:392: SyntaxWarning: invalid escape sequence '\\.'\n",
      "<string>:401: SyntaxWarning: invalid escape sequence '\\.'\n",
      "<string>:412: SyntaxWarning: invalid escape sequence '\\d'\n",
      "<string>:707: SyntaxWarning: invalid escape sequence '\\s'\n",
      "\n",
      "19it [00:23,  1.25s/it]\u001b[A"
     ]
    },
    {
     "name": "stdout",
     "output_type": "stream",
     "text": [
      "/home/grierjones/DDCASPT2/delta_ML/BB\n",
      "raddir /home/grierjones/DDCASPT2/delta_ML/BB/2.50\n",
      "/home/grierjones/DDCASPT2/delta_ML/BB/2.50\n"
     ]
    },
    {
     "name": "stderr",
     "output_type": "stream",
     "text": [
      "<string>:392: SyntaxWarning: invalid escape sequence '\\.'\n",
      "<string>:401: SyntaxWarning: invalid escape sequence '\\.'\n",
      "<string>:412: SyntaxWarning: invalid escape sequence '\\d'\n",
      "<string>:707: SyntaxWarning: invalid escape sequence '\\s'\n",
      "\n",
      "20it [00:24,  1.25s/it]\u001b[A"
     ]
    },
    {
     "name": "stdout",
     "output_type": "stream",
     "text": [
      "/home/grierjones/DDCASPT2/delta_ML/BB\n",
      "raddir /home/grierjones/DDCASPT2/delta_ML/BB/2.60\n",
      "/home/grierjones/DDCASPT2/delta_ML/BB/2.60\n"
     ]
    },
    {
     "name": "stderr",
     "output_type": "stream",
     "text": [
      "<string>:392: SyntaxWarning: invalid escape sequence '\\.'\n",
      "<string>:401: SyntaxWarning: invalid escape sequence '\\.'\n",
      "<string>:412: SyntaxWarning: invalid escape sequence '\\d'\n",
      "<string>:707: SyntaxWarning: invalid escape sequence '\\s'\n",
      "\n",
      "21it [00:26,  1.24s/it]\u001b[A"
     ]
    },
    {
     "name": "stdout",
     "output_type": "stream",
     "text": [
      "/home/grierjones/DDCASPT2/delta_ML/BB\n",
      "raddir /home/grierjones/DDCASPT2/delta_ML/BB/2.70\n",
      "/home/grierjones/DDCASPT2/delta_ML/BB/2.70\n"
     ]
    },
    {
     "name": "stderr",
     "output_type": "stream",
     "text": [
      "<string>:392: SyntaxWarning: invalid escape sequence '\\.'\n",
      "<string>:401: SyntaxWarning: invalid escape sequence '\\.'\n",
      "<string>:412: SyntaxWarning: invalid escape sequence '\\d'\n",
      "<string>:707: SyntaxWarning: invalid escape sequence '\\s'\n",
      "\n",
      "22it [00:27,  1.24s/it]\u001b[A"
     ]
    },
    {
     "name": "stdout",
     "output_type": "stream",
     "text": [
      "/home/grierjones/DDCASPT2/delta_ML/BB\n",
      "raddir /home/grierjones/DDCASPT2/delta_ML/BB/2.80\n",
      "/home/grierjones/DDCASPT2/delta_ML/BB/2.80\n"
     ]
    },
    {
     "name": "stderr",
     "output_type": "stream",
     "text": [
      "<string>:392: SyntaxWarning: invalid escape sequence '\\.'\n",
      "<string>:401: SyntaxWarning: invalid escape sequence '\\.'\n",
      "<string>:412: SyntaxWarning: invalid escape sequence '\\d'\n",
      "<string>:707: SyntaxWarning: invalid escape sequence '\\s'\n",
      "\n",
      "23it [00:28,  1.24s/it]\u001b[A\n",
      "  3%|████▊                                                                                                                                                                          | 1/36 [00:28<16:39, 28.57s/it]"
     ]
    },
    {
     "name": "stdout",
     "output_type": "stream",
     "text": [
      "/home/grierjones/DDCASPT2/delta_ML/BB\n",
      "/home/grierjones/DDCASPT2/delta_ML/BB\n"
     ]
    },
    {
     "name": "stderr",
     "output_type": "stream",
     "text": [
      "\n",
      "0it [00:00, ?it/s]\u001b[A"
     ]
    },
    {
     "name": "stdout",
     "output_type": "stream",
     "text": [
      "raddir /home/grierjones/DDCASPT2/delta_ML/BBe/0.60\n",
      "/home/grierjones/DDCASPT2/delta_ML/BBe/0.60\n"
     ]
    },
    {
     "name": "stderr",
     "output_type": "stream",
     "text": [
      "<string>:392: SyntaxWarning: invalid escape sequence '\\.'\n",
      "<string>:401: SyntaxWarning: invalid escape sequence '\\.'\n",
      "<string>:412: SyntaxWarning: invalid escape sequence '\\d'\n",
      "<string>:707: SyntaxWarning: invalid escape sequence '\\s'\n",
      "\n",
      "1it [00:01,  1.33s/it]\u001b[A"
     ]
    },
    {
     "name": "stdout",
     "output_type": "stream",
     "text": [
      "/home/grierjones/DDCASPT2/delta_ML/BBe\n",
      "raddir /home/grierjones/DDCASPT2/delta_ML/BBe/0.70\n",
      "/home/grierjones/DDCASPT2/delta_ML/BBe/0.70\n"
     ]
    },
    {
     "name": "stderr",
     "output_type": "stream",
     "text": [
      "<string>:392: SyntaxWarning: invalid escape sequence '\\.'\n",
      "<string>:401: SyntaxWarning: invalid escape sequence '\\.'\n",
      "<string>:412: SyntaxWarning: invalid escape sequence '\\d'\n",
      "<string>:707: SyntaxWarning: invalid escape sequence '\\s'\n",
      "\n",
      "2it [00:02,  1.33s/it]\u001b[A"
     ]
    },
    {
     "name": "stdout",
     "output_type": "stream",
     "text": [
      "/home/grierjones/DDCASPT2/delta_ML/BBe\n",
      "raddir /home/grierjones/DDCASPT2/delta_ML/BBe/0.80\n",
      "/home/grierjones/DDCASPT2/delta_ML/BBe/0.80\n"
     ]
    },
    {
     "name": "stderr",
     "output_type": "stream",
     "text": [
      "<string>:392: SyntaxWarning: invalid escape sequence '\\.'\n",
      "<string>:401: SyntaxWarning: invalid escape sequence '\\.'\n",
      "<string>:412: SyntaxWarning: invalid escape sequence '\\d'\n",
      "<string>:707: SyntaxWarning: invalid escape sequence '\\s'\n",
      "\n",
      "3it [00:04,  1.34s/it]\u001b[A"
     ]
    },
    {
     "name": "stdout",
     "output_type": "stream",
     "text": [
      "/home/grierjones/DDCASPT2/delta_ML/BBe\n",
      "raddir /home/grierjones/DDCASPT2/delta_ML/BBe/0.90\n",
      "/home/grierjones/DDCASPT2/delta_ML/BBe/0.90\n"
     ]
    },
    {
     "name": "stderr",
     "output_type": "stream",
     "text": [
      "<string>:392: SyntaxWarning: invalid escape sequence '\\.'\n",
      "<string>:401: SyntaxWarning: invalid escape sequence '\\.'\n",
      "<string>:412: SyntaxWarning: invalid escape sequence '\\d'\n",
      "<string>:707: SyntaxWarning: invalid escape sequence '\\s'\n",
      "\n",
      "4it [00:05,  1.36s/it]\u001b[A"
     ]
    },
    {
     "name": "stdout",
     "output_type": "stream",
     "text": [
      "/home/grierjones/DDCASPT2/delta_ML/BBe\n",
      "raddir /home/grierjones/DDCASPT2/delta_ML/BBe/1.00\n",
      "/home/grierjones/DDCASPT2/delta_ML/BBe/1.00\n"
     ]
    },
    {
     "name": "stderr",
     "output_type": "stream",
     "text": [
      "<string>:392: SyntaxWarning: invalid escape sequence '\\.'\n",
      "<string>:401: SyntaxWarning: invalid escape sequence '\\.'\n",
      "<string>:412: SyntaxWarning: invalid escape sequence '\\d'\n",
      "<string>:707: SyntaxWarning: invalid escape sequence '\\s'\n",
      "\n",
      "5it [00:06,  1.39s/it]\u001b[A"
     ]
    },
    {
     "name": "stdout",
     "output_type": "stream",
     "text": [
      "/home/grierjones/DDCASPT2/delta_ML/BBe\n",
      "raddir /home/grierjones/DDCASPT2/delta_ML/BBe/1.10\n",
      "/home/grierjones/DDCASPT2/delta_ML/BBe/1.10\n"
     ]
    },
    {
     "name": "stderr",
     "output_type": "stream",
     "text": [
      "<string>:392: SyntaxWarning: invalid escape sequence '\\.'\n",
      "<string>:401: SyntaxWarning: invalid escape sequence '\\.'\n",
      "<string>:412: SyntaxWarning: invalid escape sequence '\\d'\n",
      "<string>:707: SyntaxWarning: invalid escape sequence '\\s'\n",
      "\n",
      "6it [00:08,  1.39s/it]\u001b[A"
     ]
    },
    {
     "name": "stdout",
     "output_type": "stream",
     "text": [
      "/home/grierjones/DDCASPT2/delta_ML/BBe\n",
      "raddir /home/grierjones/DDCASPT2/delta_ML/BBe/1.20\n",
      "/home/grierjones/DDCASPT2/delta_ML/BBe/1.20\n"
     ]
    },
    {
     "name": "stderr",
     "output_type": "stream",
     "text": [
      "<string>:392: SyntaxWarning: invalid escape sequence '\\.'\n",
      "<string>:401: SyntaxWarning: invalid escape sequence '\\.'\n",
      "<string>:412: SyntaxWarning: invalid escape sequence '\\d'\n",
      "<string>:707: SyntaxWarning: invalid escape sequence '\\s'\n",
      "\n",
      "7it [00:09,  1.39s/it]\u001b[A"
     ]
    },
    {
     "name": "stdout",
     "output_type": "stream",
     "text": [
      "/home/grierjones/DDCASPT2/delta_ML/BBe\n",
      "raddir /home/grierjones/DDCASPT2/delta_ML/BBe/1.30\n",
      "/home/grierjones/DDCASPT2/delta_ML/BBe/1.30\n"
     ]
    },
    {
     "name": "stderr",
     "output_type": "stream",
     "text": [
      "<string>:392: SyntaxWarning: invalid escape sequence '\\.'\n",
      "<string>:401: SyntaxWarning: invalid escape sequence '\\.'\n",
      "<string>:412: SyntaxWarning: invalid escape sequence '\\d'\n",
      "<string>:707: SyntaxWarning: invalid escape sequence '\\s'\n",
      "\n",
      "8it [00:11,  1.39s/it]\u001b[A"
     ]
    },
    {
     "name": "stdout",
     "output_type": "stream",
     "text": [
      "/home/grierjones/DDCASPT2/delta_ML/BBe\n",
      "raddir /home/grierjones/DDCASPT2/delta_ML/BBe/1.40\n",
      "/home/grierjones/DDCASPT2/delta_ML/BBe/1.40\n"
     ]
    },
    {
     "name": "stderr",
     "output_type": "stream",
     "text": [
      "<string>:392: SyntaxWarning: invalid escape sequence '\\.'\n",
      "<string>:401: SyntaxWarning: invalid escape sequence '\\.'\n",
      "<string>:412: SyntaxWarning: invalid escape sequence '\\d'\n",
      "<string>:707: SyntaxWarning: invalid escape sequence '\\s'\n",
      "\n",
      "9it [00:12,  1.39s/it]\u001b[A"
     ]
    },
    {
     "name": "stdout",
     "output_type": "stream",
     "text": [
      "/home/grierjones/DDCASPT2/delta_ML/BBe\n",
      "raddir /home/grierjones/DDCASPT2/delta_ML/BBe/1.50\n",
      "/home/grierjones/DDCASPT2/delta_ML/BBe/1.50\n"
     ]
    },
    {
     "name": "stderr",
     "output_type": "stream",
     "text": [
      "<string>:392: SyntaxWarning: invalid escape sequence '\\.'\n",
      "<string>:401: SyntaxWarning: invalid escape sequence '\\.'\n",
      "<string>:412: SyntaxWarning: invalid escape sequence '\\d'\n",
      "<string>:707: SyntaxWarning: invalid escape sequence '\\s'\n",
      "\n",
      "10it [00:13,  1.40s/it]\u001b[A"
     ]
    },
    {
     "name": "stdout",
     "output_type": "stream",
     "text": [
      "/home/grierjones/DDCASPT2/delta_ML/BBe\n",
      "raddir /home/grierjones/DDCASPT2/delta_ML/BBe/1.60\n",
      "/home/grierjones/DDCASPT2/delta_ML/BBe/1.60\n"
     ]
    },
    {
     "name": "stderr",
     "output_type": "stream",
     "text": [
      "<string>:392: SyntaxWarning: invalid escape sequence '\\.'\n",
      "<string>:401: SyntaxWarning: invalid escape sequence '\\.'\n",
      "<string>:412: SyntaxWarning: invalid escape sequence '\\d'\n",
      "<string>:707: SyntaxWarning: invalid escape sequence '\\s'\n",
      "\n",
      "11it [00:15,  1.41s/it]\u001b[A"
     ]
    },
    {
     "name": "stdout",
     "output_type": "stream",
     "text": [
      "/home/grierjones/DDCASPT2/delta_ML/BBe\n",
      "raddir /home/grierjones/DDCASPT2/delta_ML/BBe/1.70\n",
      "/home/grierjones/DDCASPT2/delta_ML/BBe/1.70\n"
     ]
    },
    {
     "name": "stderr",
     "output_type": "stream",
     "text": [
      "<string>:392: SyntaxWarning: invalid escape sequence '\\.'\n",
      "<string>:401: SyntaxWarning: invalid escape sequence '\\.'\n",
      "<string>:412: SyntaxWarning: invalid escape sequence '\\d'\n",
      "<string>:707: SyntaxWarning: invalid escape sequence '\\s'\n",
      "\n",
      "12it [00:16,  1.42s/it]\u001b[A"
     ]
    },
    {
     "name": "stdout",
     "output_type": "stream",
     "text": [
      "/home/grierjones/DDCASPT2/delta_ML/BBe\n",
      "raddir /home/grierjones/DDCASPT2/delta_ML/BBe/1.80\n",
      "/home/grierjones/DDCASPT2/delta_ML/BBe/1.80\n"
     ]
    },
    {
     "name": "stderr",
     "output_type": "stream",
     "text": [
      "<string>:392: SyntaxWarning: invalid escape sequence '\\.'\n",
      "<string>:401: SyntaxWarning: invalid escape sequence '\\.'\n",
      "<string>:412: SyntaxWarning: invalid escape sequence '\\d'\n",
      "<string>:707: SyntaxWarning: invalid escape sequence '\\s'\n",
      "\n",
      "13it [00:18,  1.43s/it]\u001b[A"
     ]
    },
    {
     "name": "stdout",
     "output_type": "stream",
     "text": [
      "/home/grierjones/DDCASPT2/delta_ML/BBe\n",
      "raddir /home/grierjones/DDCASPT2/delta_ML/BBe/1.90\n",
      "/home/grierjones/DDCASPT2/delta_ML/BBe/1.90\n"
     ]
    },
    {
     "name": "stderr",
     "output_type": "stream",
     "text": [
      "<string>:392: SyntaxWarning: invalid escape sequence '\\.'\n",
      "<string>:401: SyntaxWarning: invalid escape sequence '\\.'\n",
      "<string>:412: SyntaxWarning: invalid escape sequence '\\d'\n",
      "<string>:707: SyntaxWarning: invalid escape sequence '\\s'\n",
      "\n",
      "14it [00:19,  1.43s/it]\u001b[A"
     ]
    },
    {
     "name": "stdout",
     "output_type": "stream",
     "text": [
      "/home/grierjones/DDCASPT2/delta_ML/BBe\n",
      "raddir /home/grierjones/DDCASPT2/delta_ML/BBe/2.00\n",
      "/home/grierjones/DDCASPT2/delta_ML/BBe/2.00\n"
     ]
    },
    {
     "name": "stderr",
     "output_type": "stream",
     "text": [
      "<string>:392: SyntaxWarning: invalid escape sequence '\\.'\n",
      "<string>:401: SyntaxWarning: invalid escape sequence '\\.'\n",
      "<string>:412: SyntaxWarning: invalid escape sequence '\\d'\n",
      "<string>:707: SyntaxWarning: invalid escape sequence '\\s'\n",
      "\n",
      "15it [00:21,  1.44s/it]\u001b[A"
     ]
    },
    {
     "name": "stdout",
     "output_type": "stream",
     "text": [
      "/home/grierjones/DDCASPT2/delta_ML/BBe\n",
      "raddir /home/grierjones/DDCASPT2/delta_ML/BBe/2.10\n",
      "/home/grierjones/DDCASPT2/delta_ML/BBe/2.10\n"
     ]
    },
    {
     "name": "stderr",
     "output_type": "stream",
     "text": [
      "<string>:392: SyntaxWarning: invalid escape sequence '\\.'\n",
      "<string>:401: SyntaxWarning: invalid escape sequence '\\.'\n",
      "<string>:412: SyntaxWarning: invalid escape sequence '\\d'\n",
      "<string>:707: SyntaxWarning: invalid escape sequence '\\s'\n",
      "\n",
      "16it [00:22,  1.44s/it]\u001b[A"
     ]
    },
    {
     "name": "stdout",
     "output_type": "stream",
     "text": [
      "/home/grierjones/DDCASPT2/delta_ML/BBe\n",
      "raddir /home/grierjones/DDCASPT2/delta_ML/BBe/2.20\n",
      "/home/grierjones/DDCASPT2/delta_ML/BBe/2.20\n"
     ]
    },
    {
     "name": "stderr",
     "output_type": "stream",
     "text": [
      "<string>:392: SyntaxWarning: invalid escape sequence '\\.'\n",
      "<string>:401: SyntaxWarning: invalid escape sequence '\\.'\n",
      "<string>:412: SyntaxWarning: invalid escape sequence '\\d'\n",
      "<string>:707: SyntaxWarning: invalid escape sequence '\\s'\n",
      "\n",
      "17it [00:23,  1.44s/it]\u001b[A"
     ]
    },
    {
     "name": "stdout",
     "output_type": "stream",
     "text": [
      "/home/grierjones/DDCASPT2/delta_ML/BBe\n",
      "raddir /home/grierjones/DDCASPT2/delta_ML/BBe/2.30\n",
      "/home/grierjones/DDCASPT2/delta_ML/BBe/2.30\n"
     ]
    },
    {
     "name": "stderr",
     "output_type": "stream",
     "text": [
      "<string>:392: SyntaxWarning: invalid escape sequence '\\.'\n",
      "<string>:401: SyntaxWarning: invalid escape sequence '\\.'\n",
      "<string>:412: SyntaxWarning: invalid escape sequence '\\d'\n",
      "<string>:707: SyntaxWarning: invalid escape sequence '\\s'\n",
      "\n",
      "18it [00:25,  1.45s/it]\u001b[A"
     ]
    },
    {
     "name": "stdout",
     "output_type": "stream",
     "text": [
      "/home/grierjones/DDCASPT2/delta_ML/BBe\n",
      "raddir /home/grierjones/DDCASPT2/delta_ML/BBe/2.40\n",
      "/home/grierjones/DDCASPT2/delta_ML/BBe/2.40\n"
     ]
    },
    {
     "name": "stderr",
     "output_type": "stream",
     "text": [
      "<string>:392: SyntaxWarning: invalid escape sequence '\\.'\n",
      "<string>:401: SyntaxWarning: invalid escape sequence '\\.'\n",
      "<string>:412: SyntaxWarning: invalid escape sequence '\\d'\n",
      "<string>:707: SyntaxWarning: invalid escape sequence '\\s'\n",
      "\n",
      "19it [00:26,  1.46s/it]\u001b[A"
     ]
    },
    {
     "name": "stdout",
     "output_type": "stream",
     "text": [
      "/home/grierjones/DDCASPT2/delta_ML/BBe\n",
      "raddir /home/grierjones/DDCASPT2/delta_ML/BBe/2.50\n",
      "/home/grierjones/DDCASPT2/delta_ML/BBe/2.50\n"
     ]
    },
    {
     "name": "stderr",
     "output_type": "stream",
     "text": [
      "<string>:392: SyntaxWarning: invalid escape sequence '\\.'\n",
      "<string>:401: SyntaxWarning: invalid escape sequence '\\.'\n",
      "<string>:412: SyntaxWarning: invalid escape sequence '\\d'\n",
      "<string>:707: SyntaxWarning: invalid escape sequence '\\s'\n",
      "\n",
      "20it [00:28,  1.48s/it]\u001b[A"
     ]
    },
    {
     "name": "stdout",
     "output_type": "stream",
     "text": [
      "/home/grierjones/DDCASPT2/delta_ML/BBe\n",
      "raddir /home/grierjones/DDCASPT2/delta_ML/BBe/2.60\n",
      "/home/grierjones/DDCASPT2/delta_ML/BBe/2.60\n"
     ]
    },
    {
     "name": "stderr",
     "output_type": "stream",
     "text": [
      "<string>:392: SyntaxWarning: invalid escape sequence '\\.'\n",
      "<string>:401: SyntaxWarning: invalid escape sequence '\\.'\n",
      "<string>:412: SyntaxWarning: invalid escape sequence '\\d'\n",
      "<string>:707: SyntaxWarning: invalid escape sequence '\\s'\n",
      "\n",
      "21it [00:29,  1.49s/it]\u001b[A"
     ]
    },
    {
     "name": "stdout",
     "output_type": "stream",
     "text": [
      "/home/grierjones/DDCASPT2/delta_ML/BBe\n",
      "raddir /home/grierjones/DDCASPT2/delta_ML/BBe/2.70\n",
      "/home/grierjones/DDCASPT2/delta_ML/BBe/2.70\n"
     ]
    },
    {
     "name": "stderr",
     "output_type": "stream",
     "text": [
      "<string>:392: SyntaxWarning: invalid escape sequence '\\.'\n",
      "<string>:401: SyntaxWarning: invalid escape sequence '\\.'\n",
      "<string>:412: SyntaxWarning: invalid escape sequence '\\d'\n",
      "<string>:707: SyntaxWarning: invalid escape sequence '\\s'\n",
      "\n",
      "22it [00:31,  1.50s/it]\u001b[A"
     ]
    },
    {
     "name": "stdout",
     "output_type": "stream",
     "text": [
      "/home/grierjones/DDCASPT2/delta_ML/BBe\n",
      "raddir /home/grierjones/DDCASPT2/delta_ML/BBe/2.80\n",
      "/home/grierjones/DDCASPT2/delta_ML/BBe/2.80\n"
     ]
    },
    {
     "name": "stderr",
     "output_type": "stream",
     "text": [
      "<string>:392: SyntaxWarning: invalid escape sequence '\\.'\n",
      "<string>:401: SyntaxWarning: invalid escape sequence '\\.'\n",
      "<string>:412: SyntaxWarning: invalid escape sequence '\\d'\n",
      "<string>:707: SyntaxWarning: invalid escape sequence '\\s'\n",
      "\n",
      "23it [00:33,  1.44s/it]\u001b[A\n",
      "  6%|█████████▋                                                                                                                                                                     | 2/36 [01:01<17:40, 31.20s/it]"
     ]
    },
    {
     "name": "stdout",
     "output_type": "stream",
     "text": [
      "/home/grierjones/DDCASPT2/delta_ML/BBe\n",
      "/home/grierjones/DDCASPT2/delta_ML/BBe\n"
     ]
    },
    {
     "name": "stderr",
     "output_type": "stream",
     "text": [
      "\n",
      "0it [00:00, ?it/s]\u001b[A"
     ]
    },
    {
     "name": "stdout",
     "output_type": "stream",
     "text": [
      "raddir /home/grierjones/DDCASPT2/delta_ML/BC/0.60\n",
      "/home/grierjones/DDCASPT2/delta_ML/BC/0.60\n"
     ]
    },
    {
     "name": "stderr",
     "output_type": "stream",
     "text": [
      "<string>:392: SyntaxWarning: invalid escape sequence '\\.'\n",
      "<string>:401: SyntaxWarning: invalid escape sequence '\\.'\n",
      "<string>:412: SyntaxWarning: invalid escape sequence '\\d'\n",
      "<string>:707: SyntaxWarning: invalid escape sequence '\\s'\n",
      "\n",
      "1it [00:01,  1.35s/it]\u001b[A"
     ]
    },
    {
     "name": "stdout",
     "output_type": "stream",
     "text": [
      "/home/grierjones/DDCASPT2/delta_ML/BC\n",
      "raddir /home/grierjones/DDCASPT2/delta_ML/BC/0.70\n",
      "/home/grierjones/DDCASPT2/delta_ML/BC/0.70\n"
     ]
    },
    {
     "name": "stderr",
     "output_type": "stream",
     "text": [
      "<string>:392: SyntaxWarning: invalid escape sequence '\\.'\n",
      "<string>:401: SyntaxWarning: invalid escape sequence '\\.'\n",
      "<string>:412: SyntaxWarning: invalid escape sequence '\\d'\n",
      "<string>:707: SyntaxWarning: invalid escape sequence '\\s'\n",
      "\n",
      "2it [00:02,  1.38s/it]\u001b[A"
     ]
    },
    {
     "name": "stdout",
     "output_type": "stream",
     "text": [
      "/home/grierjones/DDCASPT2/delta_ML/BC\n",
      "raddir /home/grierjones/DDCASPT2/delta_ML/BC/0.80\n",
      "/home/grierjones/DDCASPT2/delta_ML/BC/0.80\n"
     ]
    },
    {
     "name": "stderr",
     "output_type": "stream",
     "text": [
      "<string>:392: SyntaxWarning: invalid escape sequence '\\.'\n",
      "<string>:401: SyntaxWarning: invalid escape sequence '\\.'\n",
      "<string>:412: SyntaxWarning: invalid escape sequence '\\d'\n",
      "<string>:707: SyntaxWarning: invalid escape sequence '\\s'\n",
      "\n",
      "3it [00:04,  1.42s/it]\u001b[A"
     ]
    },
    {
     "name": "stdout",
     "output_type": "stream",
     "text": [
      "/home/grierjones/DDCASPT2/delta_ML/BC\n",
      "raddir /home/grierjones/DDCASPT2/delta_ML/BC/0.90\n",
      "/home/grierjones/DDCASPT2/delta_ML/BC/0.90\n"
     ]
    },
    {
     "name": "stderr",
     "output_type": "stream",
     "text": [
      "<string>:392: SyntaxWarning: invalid escape sequence '\\.'\n",
      "<string>:401: SyntaxWarning: invalid escape sequence '\\.'\n",
      "<string>:412: SyntaxWarning: invalid escape sequence '\\d'\n",
      "<string>:707: SyntaxWarning: invalid escape sequence '\\s'\n",
      "\n",
      "4it [00:05,  1.42s/it]\u001b[A"
     ]
    },
    {
     "name": "stdout",
     "output_type": "stream",
     "text": [
      "/home/grierjones/DDCASPT2/delta_ML/BC\n",
      "raddir /home/grierjones/DDCASPT2/delta_ML/BC/1.00\n",
      "/home/grierjones/DDCASPT2/delta_ML/BC/1.00\n"
     ]
    },
    {
     "name": "stderr",
     "output_type": "stream",
     "text": [
      "<string>:392: SyntaxWarning: invalid escape sequence '\\.'\n",
      "<string>:401: SyntaxWarning: invalid escape sequence '\\.'\n",
      "<string>:412: SyntaxWarning: invalid escape sequence '\\d'\n",
      "<string>:707: SyntaxWarning: invalid escape sequence '\\s'\n",
      "\n",
      "5it [00:07,  1.41s/it]\u001b[A"
     ]
    },
    {
     "name": "stdout",
     "output_type": "stream",
     "text": [
      "/home/grierjones/DDCASPT2/delta_ML/BC\n",
      "raddir /home/grierjones/DDCASPT2/delta_ML/BC/1.10\n",
      "/home/grierjones/DDCASPT2/delta_ML/BC/1.10\n"
     ]
    },
    {
     "name": "stderr",
     "output_type": "stream",
     "text": [
      "<string>:392: SyntaxWarning: invalid escape sequence '\\.'\n",
      "<string>:401: SyntaxWarning: invalid escape sequence '\\.'\n",
      "<string>:412: SyntaxWarning: invalid escape sequence '\\d'\n",
      "<string>:707: SyntaxWarning: invalid escape sequence '\\s'\n",
      "\n",
      "6it [00:08,  1.42s/it]\u001b[A"
     ]
    },
    {
     "name": "stdout",
     "output_type": "stream",
     "text": [
      "/home/grierjones/DDCASPT2/delta_ML/BC\n",
      "raddir /home/grierjones/DDCASPT2/delta_ML/BC/1.20\n",
      "/home/grierjones/DDCASPT2/delta_ML/BC/1.20\n"
     ]
    },
    {
     "name": "stderr",
     "output_type": "stream",
     "text": [
      "<string>:392: SyntaxWarning: invalid escape sequence '\\.'\n",
      "<string>:401: SyntaxWarning: invalid escape sequence '\\.'\n",
      "<string>:412: SyntaxWarning: invalid escape sequence '\\d'\n",
      "<string>:707: SyntaxWarning: invalid escape sequence '\\s'\n",
      "\n",
      "7it [00:09,  1.42s/it]\u001b[A"
     ]
    },
    {
     "name": "stdout",
     "output_type": "stream",
     "text": [
      "/home/grierjones/DDCASPT2/delta_ML/BC\n",
      "raddir /home/grierjones/DDCASPT2/delta_ML/BC/1.30\n",
      "/home/grierjones/DDCASPT2/delta_ML/BC/1.30\n"
     ]
    },
    {
     "name": "stderr",
     "output_type": "stream",
     "text": [
      "<string>:392: SyntaxWarning: invalid escape sequence '\\.'\n",
      "<string>:401: SyntaxWarning: invalid escape sequence '\\.'\n",
      "<string>:412: SyntaxWarning: invalid escape sequence '\\d'\n",
      "<string>:707: SyntaxWarning: invalid escape sequence '\\s'\n",
      "\n",
      "8it [00:11,  1.43s/it]\u001b[A"
     ]
    },
    {
     "name": "stdout",
     "output_type": "stream",
     "text": [
      "/home/grierjones/DDCASPT2/delta_ML/BC\n",
      "raddir /home/grierjones/DDCASPT2/delta_ML/BC/1.40\n",
      "/home/grierjones/DDCASPT2/delta_ML/BC/1.40\n"
     ]
    },
    {
     "name": "stderr",
     "output_type": "stream",
     "text": [
      "<string>:392: SyntaxWarning: invalid escape sequence '\\.'\n",
      "<string>:401: SyntaxWarning: invalid escape sequence '\\.'\n",
      "<string>:412: SyntaxWarning: invalid escape sequence '\\d'\n",
      "<string>:707: SyntaxWarning: invalid escape sequence '\\s'\n",
      "\n",
      "9it [00:12,  1.44s/it]\u001b[A"
     ]
    },
    {
     "name": "stdout",
     "output_type": "stream",
     "text": [
      "/home/grierjones/DDCASPT2/delta_ML/BC\n",
      "raddir /home/grierjones/DDCASPT2/delta_ML/BC/1.50\n",
      "/home/grierjones/DDCASPT2/delta_ML/BC/1.50\n"
     ]
    },
    {
     "name": "stderr",
     "output_type": "stream",
     "text": [
      "<string>:392: SyntaxWarning: invalid escape sequence '\\.'\n",
      "<string>:401: SyntaxWarning: invalid escape sequence '\\.'\n",
      "<string>:412: SyntaxWarning: invalid escape sequence '\\d'\n",
      "<string>:707: SyntaxWarning: invalid escape sequence '\\s'\n",
      "\n",
      "10it [00:14,  1.51s/it]\u001b[A"
     ]
    },
    {
     "name": "stdout",
     "output_type": "stream",
     "text": [
      "/home/grierjones/DDCASPT2/delta_ML/BC\n",
      "raddir /home/grierjones/DDCASPT2/delta_ML/BC/1.60\n",
      "/home/grierjones/DDCASPT2/delta_ML/BC/1.60\n"
     ]
    },
    {
     "name": "stderr",
     "output_type": "stream",
     "text": [
      "<string>:392: SyntaxWarning: invalid escape sequence '\\.'\n",
      "<string>:401: SyntaxWarning: invalid escape sequence '\\.'\n",
      "<string>:412: SyntaxWarning: invalid escape sequence '\\d'\n",
      "<string>:707: SyntaxWarning: invalid escape sequence '\\s'\n",
      "\n",
      "11it [00:16,  1.55s/it]\u001b[A"
     ]
    },
    {
     "name": "stdout",
     "output_type": "stream",
     "text": [
      "/home/grierjones/DDCASPT2/delta_ML/BC\n",
      "raddir /home/grierjones/DDCASPT2/delta_ML/BC/1.70\n",
      "/home/grierjones/DDCASPT2/delta_ML/BC/1.70\n"
     ]
    },
    {
     "name": "stderr",
     "output_type": "stream",
     "text": [
      "<string>:392: SyntaxWarning: invalid escape sequence '\\.'\n",
      "<string>:401: SyntaxWarning: invalid escape sequence '\\.'\n",
      "<string>:412: SyntaxWarning: invalid escape sequence '\\d'\n",
      "<string>:707: SyntaxWarning: invalid escape sequence '\\s'\n",
      "\n",
      "12it [00:17,  1.55s/it]\u001b[A"
     ]
    },
    {
     "name": "stdout",
     "output_type": "stream",
     "text": [
      "/home/grierjones/DDCASPT2/delta_ML/BC\n",
      "raddir /home/grierjones/DDCASPT2/delta_ML/BC/1.80\n",
      "/home/grierjones/DDCASPT2/delta_ML/BC/1.80\n"
     ]
    },
    {
     "name": "stderr",
     "output_type": "stream",
     "text": [
      "<string>:392: SyntaxWarning: invalid escape sequence '\\.'\n",
      "<string>:401: SyntaxWarning: invalid escape sequence '\\.'\n",
      "<string>:412: SyntaxWarning: invalid escape sequence '\\d'\n",
      "<string>:707: SyntaxWarning: invalid escape sequence '\\s'\n",
      "\n",
      "13it [00:19,  1.62s/it]\u001b[A"
     ]
    },
    {
     "name": "stdout",
     "output_type": "stream",
     "text": [
      "/home/grierjones/DDCASPT2/delta_ML/BC\n",
      "raddir /home/grierjones/DDCASPT2/delta_ML/BC/1.90\n",
      "/home/grierjones/DDCASPT2/delta_ML/BC/1.90\n"
     ]
    },
    {
     "name": "stderr",
     "output_type": "stream",
     "text": [
      "<string>:392: SyntaxWarning: invalid escape sequence '\\.'\n",
      "<string>:401: SyntaxWarning: invalid escape sequence '\\.'\n",
      "<string>:412: SyntaxWarning: invalid escape sequence '\\d'\n",
      "<string>:707: SyntaxWarning: invalid escape sequence '\\s'\n",
      "\n",
      "14it [00:21,  1.64s/it]\u001b[A"
     ]
    },
    {
     "name": "stdout",
     "output_type": "stream",
     "text": [
      "/home/grierjones/DDCASPT2/delta_ML/BC\n",
      "raddir /home/grierjones/DDCASPT2/delta_ML/BC/2.00\n",
      "/home/grierjones/DDCASPT2/delta_ML/BC/2.00\n"
     ]
    },
    {
     "name": "stderr",
     "output_type": "stream",
     "text": [
      "<string>:392: SyntaxWarning: invalid escape sequence '\\.'\n",
      "<string>:401: SyntaxWarning: invalid escape sequence '\\.'\n",
      "<string>:412: SyntaxWarning: invalid escape sequence '\\d'\n",
      "<string>:707: SyntaxWarning: invalid escape sequence '\\s'\n",
      "\n",
      "15it [00:22,  1.58s/it]\u001b[A"
     ]
    },
    {
     "name": "stdout",
     "output_type": "stream",
     "text": [
      "/home/grierjones/DDCASPT2/delta_ML/BC\n",
      "raddir /home/grierjones/DDCASPT2/delta_ML/BC/2.10\n",
      "/home/grierjones/DDCASPT2/delta_ML/BC/2.10\n"
     ]
    },
    {
     "name": "stderr",
     "output_type": "stream",
     "text": [
      "<string>:392: SyntaxWarning: invalid escape sequence '\\.'\n",
      "<string>:401: SyntaxWarning: invalid escape sequence '\\.'\n",
      "<string>:412: SyntaxWarning: invalid escape sequence '\\d'\n",
      "<string>:707: SyntaxWarning: invalid escape sequence '\\s'\n",
      "\n",
      "16it [00:24,  1.55s/it]\u001b[A"
     ]
    },
    {
     "name": "stdout",
     "output_type": "stream",
     "text": [
      "/home/grierjones/DDCASPT2/delta_ML/BC\n",
      "raddir /home/grierjones/DDCASPT2/delta_ML/BC/2.20\n",
      "/home/grierjones/DDCASPT2/delta_ML/BC/2.20\n"
     ]
    },
    {
     "name": "stderr",
     "output_type": "stream",
     "text": [
      "<string>:392: SyntaxWarning: invalid escape sequence '\\.'\n",
      "<string>:401: SyntaxWarning: invalid escape sequence '\\.'\n",
      "<string>:412: SyntaxWarning: invalid escape sequence '\\d'\n",
      "<string>:707: SyntaxWarning: invalid escape sequence '\\s'\n",
      "\n",
      "17it [00:25,  1.53s/it]\u001b[A"
     ]
    },
    {
     "name": "stdout",
     "output_type": "stream",
     "text": [
      "/home/grierjones/DDCASPT2/delta_ML/BC\n",
      "raddir /home/grierjones/DDCASPT2/delta_ML/BC/2.30\n",
      "/home/grierjones/DDCASPT2/delta_ML/BC/2.30\n"
     ]
    },
    {
     "name": "stderr",
     "output_type": "stream",
     "text": [
      "<string>:392: SyntaxWarning: invalid escape sequence '\\.'\n",
      "<string>:401: SyntaxWarning: invalid escape sequence '\\.'\n",
      "<string>:412: SyntaxWarning: invalid escape sequence '\\d'\n",
      "<string>:707: SyntaxWarning: invalid escape sequence '\\s'\n",
      "\n",
      "18it [00:26,  1.50s/it]\u001b[A"
     ]
    },
    {
     "name": "stdout",
     "output_type": "stream",
     "text": [
      "/home/grierjones/DDCASPT2/delta_ML/BC\n",
      "raddir /home/grierjones/DDCASPT2/delta_ML/BC/2.40\n",
      "/home/grierjones/DDCASPT2/delta_ML/BC/2.40\n"
     ]
    },
    {
     "name": "stderr",
     "output_type": "stream",
     "text": [
      "<string>:392: SyntaxWarning: invalid escape sequence '\\.'\n",
      "<string>:401: SyntaxWarning: invalid escape sequence '\\.'\n",
      "<string>:412: SyntaxWarning: invalid escape sequence '\\d'\n",
      "<string>:707: SyntaxWarning: invalid escape sequence '\\s'\n",
      "\n",
      "19it [00:28,  1.48s/it]\u001b[A"
     ]
    },
    {
     "name": "stdout",
     "output_type": "stream",
     "text": [
      "/home/grierjones/DDCASPT2/delta_ML/BC\n",
      "raddir /home/grierjones/DDCASPT2/delta_ML/BC/2.50\n",
      "/home/grierjones/DDCASPT2/delta_ML/BC/2.50\n"
     ]
    },
    {
     "name": "stderr",
     "output_type": "stream",
     "text": [
      "<string>:392: SyntaxWarning: invalid escape sequence '\\.'\n",
      "<string>:401: SyntaxWarning: invalid escape sequence '\\.'\n",
      "<string>:412: SyntaxWarning: invalid escape sequence '\\d'\n",
      "<string>:707: SyntaxWarning: invalid escape sequence '\\s'\n",
      "\n",
      "20it [00:29,  1.45s/it]\u001b[A"
     ]
    },
    {
     "name": "stdout",
     "output_type": "stream",
     "text": [
      "/home/grierjones/DDCASPT2/delta_ML/BC\n",
      "raddir /home/grierjones/DDCASPT2/delta_ML/BC/2.60\n",
      "/home/grierjones/DDCASPT2/delta_ML/BC/2.60\n"
     ]
    },
    {
     "name": "stderr",
     "output_type": "stream",
     "text": [
      "<string>:392: SyntaxWarning: invalid escape sequence '\\.'\n",
      "<string>:401: SyntaxWarning: invalid escape sequence '\\.'\n",
      "<string>:412: SyntaxWarning: invalid escape sequence '\\d'\n",
      "<string>:707: SyntaxWarning: invalid escape sequence '\\s'\n",
      "\n",
      "21it [00:31,  1.43s/it]\u001b[A"
     ]
    },
    {
     "name": "stdout",
     "output_type": "stream",
     "text": [
      "/home/grierjones/DDCASPT2/delta_ML/BC\n",
      "raddir /home/grierjones/DDCASPT2/delta_ML/BC/2.70\n",
      "/home/grierjones/DDCASPT2/delta_ML/BC/2.70\n"
     ]
    },
    {
     "name": "stderr",
     "output_type": "stream",
     "text": [
      "<string>:392: SyntaxWarning: invalid escape sequence '\\.'\n",
      "<string>:401: SyntaxWarning: invalid escape sequence '\\.'\n",
      "<string>:412: SyntaxWarning: invalid escape sequence '\\d'\n",
      "<string>:707: SyntaxWarning: invalid escape sequence '\\s'\n",
      "\n",
      "22it [00:32,  1.41s/it]\u001b[A"
     ]
    },
    {
     "name": "stdout",
     "output_type": "stream",
     "text": [
      "/home/grierjones/DDCASPT2/delta_ML/BC\n",
      "raddir /home/grierjones/DDCASPT2/delta_ML/BC/2.80\n",
      "/home/grierjones/DDCASPT2/delta_ML/BC/2.80\n"
     ]
    },
    {
     "name": "stderr",
     "output_type": "stream",
     "text": [
      "<string>:392: SyntaxWarning: invalid escape sequence '\\.'\n",
      "<string>:401: SyntaxWarning: invalid escape sequence '\\.'\n",
      "<string>:412: SyntaxWarning: invalid escape sequence '\\d'\n",
      "<string>:707: SyntaxWarning: invalid escape sequence '\\s'\n",
      "\n",
      "23it [00:33,  1.47s/it]\u001b[A\n",
      "  8%|██████████████▌                                                                                                                                                                | 3/36 [01:35<17:49, 32.42s/it]"
     ]
    },
    {
     "name": "stdout",
     "output_type": "stream",
     "text": [
      "/home/grierjones/DDCASPT2/delta_ML/BC\n",
      "/home/grierjones/DDCASPT2/delta_ML/BC\n"
     ]
    },
    {
     "name": "stderr",
     "output_type": "stream",
     "text": [
      "\n",
      "0it [00:00, ?it/s]\u001b[A"
     ]
    },
    {
     "name": "stdout",
     "output_type": "stream",
     "text": [
      "raddir /home/grierjones/DDCASPT2/delta_ML/BF/0.60\n",
      "/home/grierjones/DDCASPT2/delta_ML/BF/0.60\n"
     ]
    },
    {
     "name": "stderr",
     "output_type": "stream",
     "text": [
      "<string>:392: SyntaxWarning: invalid escape sequence '\\.'\n",
      "<string>:401: SyntaxWarning: invalid escape sequence '\\.'\n",
      "<string>:412: SyntaxWarning: invalid escape sequence '\\d'\n",
      "<string>:707: SyntaxWarning: invalid escape sequence '\\s'\n",
      "\n",
      "1it [00:01,  1.34s/it]\u001b[A"
     ]
    },
    {
     "name": "stdout",
     "output_type": "stream",
     "text": [
      "/home/grierjones/DDCASPT2/delta_ML/BF\n",
      "raddir /home/grierjones/DDCASPT2/delta_ML/BF/0.70\n",
      "/home/grierjones/DDCASPT2/delta_ML/BF/0.70\n"
     ]
    },
    {
     "name": "stderr",
     "output_type": "stream",
     "text": [
      "<string>:392: SyntaxWarning: invalid escape sequence '\\.'\n",
      "<string>:401: SyntaxWarning: invalid escape sequence '\\.'\n",
      "<string>:412: SyntaxWarning: invalid escape sequence '\\d'\n",
      "<string>:707: SyntaxWarning: invalid escape sequence '\\s'\n",
      "\n",
      "2it [00:02,  1.29s/it]\u001b[A"
     ]
    },
    {
     "name": "stdout",
     "output_type": "stream",
     "text": [
      "/home/grierjones/DDCASPT2/delta_ML/BF\n",
      "raddir /home/grierjones/DDCASPT2/delta_ML/BF/0.80\n",
      "/home/grierjones/DDCASPT2/delta_ML/BF/0.80\n"
     ]
    },
    {
     "name": "stderr",
     "output_type": "stream",
     "text": [
      "<string>:392: SyntaxWarning: invalid escape sequence '\\.'\n",
      "<string>:401: SyntaxWarning: invalid escape sequence '\\.'\n",
      "<string>:412: SyntaxWarning: invalid escape sequence '\\d'\n",
      "<string>:707: SyntaxWarning: invalid escape sequence '\\s'\n",
      "\n",
      "3it [00:03,  1.28s/it]\u001b[A"
     ]
    },
    {
     "name": "stdout",
     "output_type": "stream",
     "text": [
      "/home/grierjones/DDCASPT2/delta_ML/BF\n",
      "raddir /home/grierjones/DDCASPT2/delta_ML/BF/0.90\n",
      "/home/grierjones/DDCASPT2/delta_ML/BF/0.90\n"
     ]
    },
    {
     "name": "stderr",
     "output_type": "stream",
     "text": [
      "<string>:392: SyntaxWarning: invalid escape sequence '\\.'\n",
      "<string>:401: SyntaxWarning: invalid escape sequence '\\.'\n",
      "<string>:412: SyntaxWarning: invalid escape sequence '\\d'\n",
      "<string>:707: SyntaxWarning: invalid escape sequence '\\s'\n",
      "\n",
      "4it [00:05,  1.27s/it]\u001b[A"
     ]
    },
    {
     "name": "stdout",
     "output_type": "stream",
     "text": [
      "/home/grierjones/DDCASPT2/delta_ML/BF\n",
      "raddir /home/grierjones/DDCASPT2/delta_ML/BF/1.00\n",
      "/home/grierjones/DDCASPT2/delta_ML/BF/1.00\n"
     ]
    },
    {
     "name": "stderr",
     "output_type": "stream",
     "text": [
      "<string>:392: SyntaxWarning: invalid escape sequence '\\.'\n",
      "<string>:401: SyntaxWarning: invalid escape sequence '\\.'\n",
      "<string>:412: SyntaxWarning: invalid escape sequence '\\d'\n",
      "<string>:707: SyntaxWarning: invalid escape sequence '\\s'\n",
      "\n",
      "5it [00:06,  1.33s/it]\u001b[A"
     ]
    },
    {
     "name": "stdout",
     "output_type": "stream",
     "text": [
      "/home/grierjones/DDCASPT2/delta_ML/BF\n",
      "raddir /home/grierjones/DDCASPT2/delta_ML/BF/1.10\n",
      "/home/grierjones/DDCASPT2/delta_ML/BF/1.10\n"
     ]
    },
    {
     "name": "stderr",
     "output_type": "stream",
     "text": [
      "<string>:392: SyntaxWarning: invalid escape sequence '\\.'\n",
      "<string>:401: SyntaxWarning: invalid escape sequence '\\.'\n",
      "<string>:412: SyntaxWarning: invalid escape sequence '\\d'\n",
      "<string>:707: SyntaxWarning: invalid escape sequence '\\s'\n",
      "\n",
      "6it [00:08,  1.38s/it]\u001b[A"
     ]
    },
    {
     "name": "stdout",
     "output_type": "stream",
     "text": [
      "/home/grierjones/DDCASPT2/delta_ML/BF\n",
      "raddir /home/grierjones/DDCASPT2/delta_ML/BF/1.20\n",
      "/home/grierjones/DDCASPT2/delta_ML/BF/1.20\n"
     ]
    },
    {
     "name": "stderr",
     "output_type": "stream",
     "text": [
      "<string>:392: SyntaxWarning: invalid escape sequence '\\.'\n",
      "<string>:401: SyntaxWarning: invalid escape sequence '\\.'\n",
      "<string>:412: SyntaxWarning: invalid escape sequence '\\d'\n",
      "<string>:707: SyntaxWarning: invalid escape sequence '\\s'\n",
      "\n",
      "7it [00:11,  1.91s/it]\u001b[A"
     ]
    },
    {
     "name": "stdout",
     "output_type": "stream",
     "text": [
      "/home/grierjones/DDCASPT2/delta_ML/BF\n",
      "raddir /home/grierjones/DDCASPT2/delta_ML/BF/1.30\n",
      "/home/grierjones/DDCASPT2/delta_ML/BF/1.30\n"
     ]
    },
    {
     "name": "stderr",
     "output_type": "stream",
     "text": [
      "<string>:392: SyntaxWarning: invalid escape sequence '\\.'\n",
      "<string>:401: SyntaxWarning: invalid escape sequence '\\.'\n",
      "<string>:412: SyntaxWarning: invalid escape sequence '\\d'\n",
      "<string>:707: SyntaxWarning: invalid escape sequence '\\s'\n",
      "\n",
      "8it [00:12,  1.75s/it]\u001b[A"
     ]
    },
    {
     "name": "stdout",
     "output_type": "stream",
     "text": [
      "/home/grierjones/DDCASPT2/delta_ML/BF\n",
      "raddir /home/grierjones/DDCASPT2/delta_ML/BF/1.40\n",
      "/home/grierjones/DDCASPT2/delta_ML/BF/1.40\n"
     ]
    },
    {
     "name": "stderr",
     "output_type": "stream",
     "text": [
      "<string>:392: SyntaxWarning: invalid escape sequence '\\.'\n",
      "<string>:401: SyntaxWarning: invalid escape sequence '\\.'\n",
      "<string>:412: SyntaxWarning: invalid escape sequence '\\d'\n",
      "<string>:707: SyntaxWarning: invalid escape sequence '\\s'\n",
      "\n",
      "9it [00:13,  1.64s/it]\u001b[A"
     ]
    },
    {
     "name": "stdout",
     "output_type": "stream",
     "text": [
      "/home/grierjones/DDCASPT2/delta_ML/BF\n",
      "raddir /home/grierjones/DDCASPT2/delta_ML/BF/1.50\n",
      "/home/grierjones/DDCASPT2/delta_ML/BF/1.50\n"
     ]
    },
    {
     "name": "stderr",
     "output_type": "stream",
     "text": [
      "<string>:392: SyntaxWarning: invalid escape sequence '\\.'\n",
      "<string>:401: SyntaxWarning: invalid escape sequence '\\.'\n",
      "<string>:412: SyntaxWarning: invalid escape sequence '\\d'\n",
      "<string>:707: SyntaxWarning: invalid escape sequence '\\s'\n",
      "\n",
      "10it [00:15,  1.55s/it]\u001b[A"
     ]
    },
    {
     "name": "stdout",
     "output_type": "stream",
     "text": [
      "/home/grierjones/DDCASPT2/delta_ML/BF\n",
      "raddir /home/grierjones/DDCASPT2/delta_ML/BF/1.60\n",
      "/home/grierjones/DDCASPT2/delta_ML/BF/1.60\n"
     ]
    },
    {
     "name": "stderr",
     "output_type": "stream",
     "text": [
      "<string>:392: SyntaxWarning: invalid escape sequence '\\.'\n",
      "<string>:401: SyntaxWarning: invalid escape sequence '\\.'\n",
      "<string>:412: SyntaxWarning: invalid escape sequence '\\d'\n",
      "<string>:707: SyntaxWarning: invalid escape sequence '\\s'\n",
      "\n",
      "11it [00:16,  1.48s/it]\u001b[A"
     ]
    },
    {
     "name": "stdout",
     "output_type": "stream",
     "text": [
      "/home/grierjones/DDCASPT2/delta_ML/BF\n",
      "raddir /home/grierjones/DDCASPT2/delta_ML/BF/1.70\n",
      "/home/grierjones/DDCASPT2/delta_ML/BF/1.70\n"
     ]
    },
    {
     "name": "stderr",
     "output_type": "stream",
     "text": [
      "<string>:392: SyntaxWarning: invalid escape sequence '\\.'\n",
      "<string>:401: SyntaxWarning: invalid escape sequence '\\.'\n",
      "<string>:412: SyntaxWarning: invalid escape sequence '\\d'\n",
      "<string>:707: SyntaxWarning: invalid escape sequence '\\s'\n",
      "\n",
      "12it [00:17,  1.42s/it]\u001b[A"
     ]
    },
    {
     "name": "stdout",
     "output_type": "stream",
     "text": [
      "/home/grierjones/DDCASPT2/delta_ML/BF\n",
      "raddir /home/grierjones/DDCASPT2/delta_ML/BF/1.80\n",
      "/home/grierjones/DDCASPT2/delta_ML/BF/1.80\n"
     ]
    },
    {
     "name": "stderr",
     "output_type": "stream",
     "text": [
      "<string>:392: SyntaxWarning: invalid escape sequence '\\.'\n",
      "<string>:401: SyntaxWarning: invalid escape sequence '\\.'\n",
      "<string>:412: SyntaxWarning: invalid escape sequence '\\d'\n",
      "<string>:707: SyntaxWarning: invalid escape sequence '\\s'\n",
      "\n",
      "13it [00:19,  1.37s/it]\u001b[A"
     ]
    },
    {
     "name": "stdout",
     "output_type": "stream",
     "text": [
      "/home/grierjones/DDCASPT2/delta_ML/BF\n",
      "raddir /home/grierjones/DDCASPT2/delta_ML/BF/1.90\n",
      "/home/grierjones/DDCASPT2/delta_ML/BF/1.90\n"
     ]
    },
    {
     "name": "stderr",
     "output_type": "stream",
     "text": [
      "<string>:392: SyntaxWarning: invalid escape sequence '\\.'\n",
      "<string>:401: SyntaxWarning: invalid escape sequence '\\.'\n",
      "<string>:412: SyntaxWarning: invalid escape sequence '\\d'\n",
      "<string>:707: SyntaxWarning: invalid escape sequence '\\s'\n",
      "\n",
      "14it [00:20,  1.35s/it]\u001b[A"
     ]
    },
    {
     "name": "stdout",
     "output_type": "stream",
     "text": [
      "/home/grierjones/DDCASPT2/delta_ML/BF\n",
      "raddir /home/grierjones/DDCASPT2/delta_ML/BF/2.00\n",
      "/home/grierjones/DDCASPT2/delta_ML/BF/2.00\n"
     ]
    },
    {
     "name": "stderr",
     "output_type": "stream",
     "text": [
      "<string>:392: SyntaxWarning: invalid escape sequence '\\.'\n",
      "<string>:401: SyntaxWarning: invalid escape sequence '\\.'\n",
      "<string>:412: SyntaxWarning: invalid escape sequence '\\d'\n",
      "<string>:707: SyntaxWarning: invalid escape sequence '\\s'\n",
      "\n",
      "15it [00:21,  1.33s/it]\u001b[A"
     ]
    },
    {
     "name": "stdout",
     "output_type": "stream",
     "text": [
      "/home/grierjones/DDCASPT2/delta_ML/BF\n",
      "raddir /home/grierjones/DDCASPT2/delta_ML/BF/2.10\n",
      "/home/grierjones/DDCASPT2/delta_ML/BF/2.10\n"
     ]
    },
    {
     "name": "stderr",
     "output_type": "stream",
     "text": [
      "<string>:392: SyntaxWarning: invalid escape sequence '\\.'\n",
      "<string>:401: SyntaxWarning: invalid escape sequence '\\.'\n",
      "<string>:412: SyntaxWarning: invalid escape sequence '\\d'\n",
      "<string>:707: SyntaxWarning: invalid escape sequence '\\s'\n",
      "\n",
      "16it [00:22,  1.32s/it]\u001b[A"
     ]
    },
    {
     "name": "stdout",
     "output_type": "stream",
     "text": [
      "/home/grierjones/DDCASPT2/delta_ML/BF\n",
      "raddir /home/grierjones/DDCASPT2/delta_ML/BF/2.20\n",
      "/home/grierjones/DDCASPT2/delta_ML/BF/2.20\n"
     ]
    },
    {
     "name": "stderr",
     "output_type": "stream",
     "text": [
      "<string>:392: SyntaxWarning: invalid escape sequence '\\.'\n",
      "<string>:401: SyntaxWarning: invalid escape sequence '\\.'\n",
      "<string>:412: SyntaxWarning: invalid escape sequence '\\d'\n",
      "<string>:707: SyntaxWarning: invalid escape sequence '\\s'\n",
      "\n",
      "17it [00:24,  1.32s/it]\u001b[A"
     ]
    },
    {
     "name": "stdout",
     "output_type": "stream",
     "text": [
      "/home/grierjones/DDCASPT2/delta_ML/BF\n",
      "raddir /home/grierjones/DDCASPT2/delta_ML/BF/2.30\n",
      "/home/grierjones/DDCASPT2/delta_ML/BF/2.30\n"
     ]
    },
    {
     "name": "stderr",
     "output_type": "stream",
     "text": [
      "<string>:392: SyntaxWarning: invalid escape sequence '\\.'\n",
      "<string>:401: SyntaxWarning: invalid escape sequence '\\.'\n",
      "<string>:412: SyntaxWarning: invalid escape sequence '\\d'\n",
      "<string>:707: SyntaxWarning: invalid escape sequence '\\s'\n",
      "\n",
      "18it [00:25,  1.31s/it]\u001b[A"
     ]
    },
    {
     "name": "stdout",
     "output_type": "stream",
     "text": [
      "/home/grierjones/DDCASPT2/delta_ML/BF\n",
      "raddir /home/grierjones/DDCASPT2/delta_ML/BF/2.40\n",
      "/home/grierjones/DDCASPT2/delta_ML/BF/2.40\n"
     ]
    },
    {
     "name": "stderr",
     "output_type": "stream",
     "text": [
      "<string>:392: SyntaxWarning: invalid escape sequence '\\.'\n",
      "<string>:401: SyntaxWarning: invalid escape sequence '\\.'\n",
      "<string>:412: SyntaxWarning: invalid escape sequence '\\d'\n",
      "<string>:707: SyntaxWarning: invalid escape sequence '\\s'\n",
      "\n",
      "19it [00:26,  1.30s/it]\u001b[A"
     ]
    },
    {
     "name": "stdout",
     "output_type": "stream",
     "text": [
      "/home/grierjones/DDCASPT2/delta_ML/BF\n",
      "raddir /home/grierjones/DDCASPT2/delta_ML/BF/2.50\n",
      "/home/grierjones/DDCASPT2/delta_ML/BF/2.50\n"
     ]
    },
    {
     "name": "stderr",
     "output_type": "stream",
     "text": [
      "<string>:392: SyntaxWarning: invalid escape sequence '\\.'\n",
      "<string>:401: SyntaxWarning: invalid escape sequence '\\.'\n",
      "<string>:412: SyntaxWarning: invalid escape sequence '\\d'\n",
      "<string>:707: SyntaxWarning: invalid escape sequence '\\s'\n",
      "\n",
      "20it [00:28,  1.30s/it]\u001b[A"
     ]
    },
    {
     "name": "stdout",
     "output_type": "stream",
     "text": [
      "/home/grierjones/DDCASPT2/delta_ML/BF\n",
      "raddir /home/grierjones/DDCASPT2/delta_ML/BF/2.60\n",
      "/home/grierjones/DDCASPT2/delta_ML/BF/2.60\n"
     ]
    },
    {
     "name": "stderr",
     "output_type": "stream",
     "text": [
      "<string>:392: SyntaxWarning: invalid escape sequence '\\.'\n",
      "<string>:401: SyntaxWarning: invalid escape sequence '\\.'\n",
      "<string>:412: SyntaxWarning: invalid escape sequence '\\d'\n",
      "<string>:707: SyntaxWarning: invalid escape sequence '\\s'\n",
      "\n",
      "21it [00:29,  1.38s/it]\u001b[A"
     ]
    },
    {
     "name": "stdout",
     "output_type": "stream",
     "text": [
      "/home/grierjones/DDCASPT2/delta_ML/BF\n",
      "raddir /home/grierjones/DDCASPT2/delta_ML/BF/2.70\n",
      "/home/grierjones/DDCASPT2/delta_ML/BF/2.70\n"
     ]
    },
    {
     "name": "stderr",
     "output_type": "stream",
     "text": [
      "<string>:392: SyntaxWarning: invalid escape sequence '\\.'\n",
      "<string>:401: SyntaxWarning: invalid escape sequence '\\.'\n",
      "<string>:412: SyntaxWarning: invalid escape sequence '\\d'\n",
      "<string>:707: SyntaxWarning: invalid escape sequence '\\s'\n",
      "\n",
      "22it [00:30,  1.35s/it]\u001b[A"
     ]
    },
    {
     "name": "stdout",
     "output_type": "stream",
     "text": [
      "/home/grierjones/DDCASPT2/delta_ML/BF\n",
      "raddir /home/grierjones/DDCASPT2/delta_ML/BF/2.80\n",
      "/home/grierjones/DDCASPT2/delta_ML/BF/2.80\n"
     ]
    },
    {
     "name": "stderr",
     "output_type": "stream",
     "text": [
      "<string>:392: SyntaxWarning: invalid escape sequence '\\.'\n",
      "<string>:401: SyntaxWarning: invalid escape sequence '\\.'\n",
      "<string>:412: SyntaxWarning: invalid escape sequence '\\d'\n",
      "<string>:707: SyntaxWarning: invalid escape sequence '\\s'\n",
      "\n",
      "23it [00:32,  1.40s/it]\u001b[A\n",
      " 11%|███████████████████▍                                                                                                                                                           | 4/36 [02:07<17:15, 32.36s/it]"
     ]
    },
    {
     "name": "stdout",
     "output_type": "stream",
     "text": [
      "/home/grierjones/DDCASPT2/delta_ML/BF\n",
      "/home/grierjones/DDCASPT2/delta_ML/BF\n"
     ]
    },
    {
     "name": "stderr",
     "output_type": "stream",
     "text": [
      "\n",
      "0it [00:00, ?it/s]\u001b[A"
     ]
    },
    {
     "name": "stdout",
     "output_type": "stream",
     "text": [
      "raddir /home/grierjones/DDCASPT2/delta_ML/BH/0.60\n",
      "/home/grierjones/DDCASPT2/delta_ML/BH/0.60\n"
     ]
    },
    {
     "name": "stderr",
     "output_type": "stream",
     "text": [
      "<string>:392: SyntaxWarning: invalid escape sequence '\\.'\n",
      "<string>:401: SyntaxWarning: invalid escape sequence '\\.'\n",
      "<string>:412: SyntaxWarning: invalid escape sequence '\\d'\n",
      "<string>:707: SyntaxWarning: invalid escape sequence '\\s'\n",
      "\n",
      "1it [00:01,  1.23s/it]\u001b[A"
     ]
    },
    {
     "name": "stdout",
     "output_type": "stream",
     "text": [
      "/home/grierjones/DDCASPT2/delta_ML/BH\n",
      "raddir /home/grierjones/DDCASPT2/delta_ML/BH/0.70\n",
      "/home/grierjones/DDCASPT2/delta_ML/BH/0.70\n"
     ]
    },
    {
     "name": "stderr",
     "output_type": "stream",
     "text": [
      "<string>:392: SyntaxWarning: invalid escape sequence '\\.'\n",
      "<string>:401: SyntaxWarning: invalid escape sequence '\\.'\n",
      "<string>:412: SyntaxWarning: invalid escape sequence '\\d'\n",
      "<string>:707: SyntaxWarning: invalid escape sequence '\\s'\n",
      "\n",
      "2it [00:02,  1.23s/it]\u001b[A"
     ]
    },
    {
     "name": "stdout",
     "output_type": "stream",
     "text": [
      "/home/grierjones/DDCASPT2/delta_ML/BH\n",
      "raddir /home/grierjones/DDCASPT2/delta_ML/BH/0.80\n",
      "/home/grierjones/DDCASPT2/delta_ML/BH/0.80\n"
     ]
    },
    {
     "name": "stderr",
     "output_type": "stream",
     "text": [
      "<string>:392: SyntaxWarning: invalid escape sequence '\\.'\n",
      "<string>:401: SyntaxWarning: invalid escape sequence '\\.'\n",
      "<string>:412: SyntaxWarning: invalid escape sequence '\\d'\n",
      "<string>:707: SyntaxWarning: invalid escape sequence '\\s'\n",
      "\n",
      "3it [00:03,  1.23s/it]\u001b[A"
     ]
    },
    {
     "name": "stdout",
     "output_type": "stream",
     "text": [
      "/home/grierjones/DDCASPT2/delta_ML/BH\n",
      "raddir /home/grierjones/DDCASPT2/delta_ML/BH/0.90\n",
      "/home/grierjones/DDCASPT2/delta_ML/BH/0.90\n"
     ]
    },
    {
     "name": "stderr",
     "output_type": "stream",
     "text": [
      "<string>:392: SyntaxWarning: invalid escape sequence '\\.'\n",
      "<string>:401: SyntaxWarning: invalid escape sequence '\\.'\n",
      "<string>:412: SyntaxWarning: invalid escape sequence '\\d'\n",
      "<string>:707: SyntaxWarning: invalid escape sequence '\\s'\n",
      "\n",
      "4it [00:04,  1.22s/it]\u001b[A"
     ]
    },
    {
     "name": "stdout",
     "output_type": "stream",
     "text": [
      "/home/grierjones/DDCASPT2/delta_ML/BH\n",
      "raddir /home/grierjones/DDCASPT2/delta_ML/BH/1.00\n",
      "/home/grierjones/DDCASPT2/delta_ML/BH/1.00\n"
     ]
    },
    {
     "name": "stderr",
     "output_type": "stream",
     "text": [
      "<string>:392: SyntaxWarning: invalid escape sequence '\\.'\n",
      "<string>:401: SyntaxWarning: invalid escape sequence '\\.'\n",
      "<string>:412: SyntaxWarning: invalid escape sequence '\\d'\n",
      "<string>:707: SyntaxWarning: invalid escape sequence '\\s'\n",
      "\n",
      "5it [00:06,  1.22s/it]\u001b[A"
     ]
    },
    {
     "name": "stdout",
     "output_type": "stream",
     "text": [
      "/home/grierjones/DDCASPT2/delta_ML/BH\n",
      "raddir /home/grierjones/DDCASPT2/delta_ML/BH/1.10\n",
      "/home/grierjones/DDCASPT2/delta_ML/BH/1.10\n"
     ]
    },
    {
     "name": "stderr",
     "output_type": "stream",
     "text": [
      "<string>:392: SyntaxWarning: invalid escape sequence '\\.'\n",
      "<string>:401: SyntaxWarning: invalid escape sequence '\\.'\n",
      "<string>:412: SyntaxWarning: invalid escape sequence '\\d'\n",
      "<string>:707: SyntaxWarning: invalid escape sequence '\\s'\n",
      "\n",
      "6it [00:07,  1.22s/it]\u001b[A"
     ]
    },
    {
     "name": "stdout",
     "output_type": "stream",
     "text": [
      "/home/grierjones/DDCASPT2/delta_ML/BH\n",
      "raddir /home/grierjones/DDCASPT2/delta_ML/BH/1.20\n",
      "/home/grierjones/DDCASPT2/delta_ML/BH/1.20\n"
     ]
    },
    {
     "name": "stderr",
     "output_type": "stream",
     "text": [
      "<string>:392: SyntaxWarning: invalid escape sequence '\\.'\n",
      "<string>:401: SyntaxWarning: invalid escape sequence '\\.'\n",
      "<string>:412: SyntaxWarning: invalid escape sequence '\\d'\n",
      "<string>:707: SyntaxWarning: invalid escape sequence '\\s'\n",
      "\n",
      "7it [00:08,  1.22s/it]\u001b[A"
     ]
    },
    {
     "name": "stdout",
     "output_type": "stream",
     "text": [
      "/home/grierjones/DDCASPT2/delta_ML/BH\n",
      "raddir /home/grierjones/DDCASPT2/delta_ML/BH/1.30\n",
      "/home/grierjones/DDCASPT2/delta_ML/BH/1.30\n"
     ]
    },
    {
     "name": "stderr",
     "output_type": "stream",
     "text": [
      "<string>:392: SyntaxWarning: invalid escape sequence '\\.'\n",
      "<string>:401: SyntaxWarning: invalid escape sequence '\\.'\n",
      "<string>:412: SyntaxWarning: invalid escape sequence '\\d'\n",
      "<string>:707: SyntaxWarning: invalid escape sequence '\\s'\n",
      "\n",
      "8it [00:09,  1.22s/it]\u001b[A"
     ]
    },
    {
     "name": "stdout",
     "output_type": "stream",
     "text": [
      "/home/grierjones/DDCASPT2/delta_ML/BH\n",
      "raddir /home/grierjones/DDCASPT2/delta_ML/BH/1.40\n",
      "/home/grierjones/DDCASPT2/delta_ML/BH/1.40\n"
     ]
    },
    {
     "name": "stderr",
     "output_type": "stream",
     "text": [
      "<string>:392: SyntaxWarning: invalid escape sequence '\\.'\n",
      "<string>:401: SyntaxWarning: invalid escape sequence '\\.'\n",
      "<string>:412: SyntaxWarning: invalid escape sequence '\\d'\n",
      "<string>:707: SyntaxWarning: invalid escape sequence '\\s'\n",
      "\n",
      "9it [00:11,  1.22s/it]\u001b[A"
     ]
    },
    {
     "name": "stdout",
     "output_type": "stream",
     "text": [
      "/home/grierjones/DDCASPT2/delta_ML/BH\n",
      "raddir /home/grierjones/DDCASPT2/delta_ML/BH/1.50\n",
      "/home/grierjones/DDCASPT2/delta_ML/BH/1.50\n"
     ]
    },
    {
     "name": "stderr",
     "output_type": "stream",
     "text": [
      "<string>:392: SyntaxWarning: invalid escape sequence '\\.'\n",
      "<string>:401: SyntaxWarning: invalid escape sequence '\\.'\n",
      "<string>:412: SyntaxWarning: invalid escape sequence '\\d'\n",
      "<string>:707: SyntaxWarning: invalid escape sequence '\\s'\n",
      "\n",
      "10it [00:12,  1.22s/it]\u001b[A"
     ]
    },
    {
     "name": "stdout",
     "output_type": "stream",
     "text": [
      "/home/grierjones/DDCASPT2/delta_ML/BH\n",
      "raddir /home/grierjones/DDCASPT2/delta_ML/BH/1.60\n",
      "/home/grierjones/DDCASPT2/delta_ML/BH/1.60\n"
     ]
    },
    {
     "name": "stderr",
     "output_type": "stream",
     "text": [
      "<string>:392: SyntaxWarning: invalid escape sequence '\\.'\n",
      "<string>:401: SyntaxWarning: invalid escape sequence '\\.'\n",
      "<string>:412: SyntaxWarning: invalid escape sequence '\\d'\n",
      "<string>:707: SyntaxWarning: invalid escape sequence '\\s'\n",
      "\n",
      "11it [00:13,  1.22s/it]\u001b[A"
     ]
    },
    {
     "name": "stdout",
     "output_type": "stream",
     "text": [
      "/home/grierjones/DDCASPT2/delta_ML/BH\n",
      "raddir /home/grierjones/DDCASPT2/delta_ML/BH/1.70\n",
      "/home/grierjones/DDCASPT2/delta_ML/BH/1.70\n"
     ]
    },
    {
     "name": "stderr",
     "output_type": "stream",
     "text": [
      "<string>:392: SyntaxWarning: invalid escape sequence '\\.'\n",
      "<string>:401: SyntaxWarning: invalid escape sequence '\\.'\n",
      "<string>:412: SyntaxWarning: invalid escape sequence '\\d'\n",
      "<string>:707: SyntaxWarning: invalid escape sequence '\\s'\n",
      "\n",
      "12it [00:14,  1.22s/it]\u001b[A"
     ]
    },
    {
     "name": "stdout",
     "output_type": "stream",
     "text": [
      "/home/grierjones/DDCASPT2/delta_ML/BH\n",
      "raddir /home/grierjones/DDCASPT2/delta_ML/BH/1.80\n",
      "/home/grierjones/DDCASPT2/delta_ML/BH/1.80\n"
     ]
    },
    {
     "name": "stderr",
     "output_type": "stream",
     "text": [
      "<string>:392: SyntaxWarning: invalid escape sequence '\\.'\n",
      "<string>:401: SyntaxWarning: invalid escape sequence '\\.'\n",
      "<string>:412: SyntaxWarning: invalid escape sequence '\\d'\n",
      "<string>:707: SyntaxWarning: invalid escape sequence '\\s'\n",
      "\n",
      "13it [00:15,  1.22s/it]\u001b[A"
     ]
    },
    {
     "name": "stdout",
     "output_type": "stream",
     "text": [
      "/home/grierjones/DDCASPT2/delta_ML/BH\n",
      "raddir /home/grierjones/DDCASPT2/delta_ML/BH/1.90\n",
      "/home/grierjones/DDCASPT2/delta_ML/BH/1.90\n"
     ]
    },
    {
     "name": "stderr",
     "output_type": "stream",
     "text": [
      "<string>:392: SyntaxWarning: invalid escape sequence '\\.'\n",
      "<string>:401: SyntaxWarning: invalid escape sequence '\\.'\n",
      "<string>:412: SyntaxWarning: invalid escape sequence '\\d'\n",
      "<string>:707: SyntaxWarning: invalid escape sequence '\\s'\n",
      "\n",
      "14it [00:17,  1.22s/it]\u001b[A"
     ]
    },
    {
     "name": "stdout",
     "output_type": "stream",
     "text": [
      "/home/grierjones/DDCASPT2/delta_ML/BH\n",
      "raddir /home/grierjones/DDCASPT2/delta_ML/BH/2.00\n",
      "/home/grierjones/DDCASPT2/delta_ML/BH/2.00\n"
     ]
    },
    {
     "name": "stderr",
     "output_type": "stream",
     "text": [
      "<string>:392: SyntaxWarning: invalid escape sequence '\\.'\n",
      "<string>:401: SyntaxWarning: invalid escape sequence '\\.'\n",
      "<string>:412: SyntaxWarning: invalid escape sequence '\\d'\n",
      "<string>:707: SyntaxWarning: invalid escape sequence '\\s'\n",
      "\n",
      "15it [00:18,  1.22s/it]\u001b[A"
     ]
    },
    {
     "name": "stdout",
     "output_type": "stream",
     "text": [
      "/home/grierjones/DDCASPT2/delta_ML/BH\n",
      "raddir /home/grierjones/DDCASPT2/delta_ML/BH/2.10\n",
      "/home/grierjones/DDCASPT2/delta_ML/BH/2.10\n"
     ]
    },
    {
     "name": "stderr",
     "output_type": "stream",
     "text": [
      "<string>:392: SyntaxWarning: invalid escape sequence '\\.'\n",
      "<string>:401: SyntaxWarning: invalid escape sequence '\\.'\n",
      "<string>:412: SyntaxWarning: invalid escape sequence '\\d'\n",
      "<string>:707: SyntaxWarning: invalid escape sequence '\\s'\n",
      "\n",
      "16it [00:19,  1.22s/it]\u001b[A"
     ]
    },
    {
     "name": "stdout",
     "output_type": "stream",
     "text": [
      "/home/grierjones/DDCASPT2/delta_ML/BH\n",
      "raddir /home/grierjones/DDCASPT2/delta_ML/BH/2.20\n",
      "/home/grierjones/DDCASPT2/delta_ML/BH/2.20\n"
     ]
    },
    {
     "name": "stderr",
     "output_type": "stream",
     "text": [
      "<string>:392: SyntaxWarning: invalid escape sequence '\\.'\n",
      "<string>:401: SyntaxWarning: invalid escape sequence '\\.'\n",
      "<string>:412: SyntaxWarning: invalid escape sequence '\\d'\n",
      "<string>:707: SyntaxWarning: invalid escape sequence '\\s'\n",
      "\n",
      "17it [00:20,  1.22s/it]\u001b[A"
     ]
    },
    {
     "name": "stdout",
     "output_type": "stream",
     "text": [
      "/home/grierjones/DDCASPT2/delta_ML/BH\n",
      "raddir /home/grierjones/DDCASPT2/delta_ML/BH/2.30\n",
      "/home/grierjones/DDCASPT2/delta_ML/BH/2.30\n"
     ]
    },
    {
     "name": "stderr",
     "output_type": "stream",
     "text": [
      "<string>:392: SyntaxWarning: invalid escape sequence '\\.'\n",
      "<string>:401: SyntaxWarning: invalid escape sequence '\\.'\n",
      "<string>:412: SyntaxWarning: invalid escape sequence '\\d'\n",
      "<string>:707: SyntaxWarning: invalid escape sequence '\\s'\n",
      "\n",
      "18it [00:22,  1.23s/it]\u001b[A"
     ]
    },
    {
     "name": "stdout",
     "output_type": "stream",
     "text": [
      "/home/grierjones/DDCASPT2/delta_ML/BH\n",
      "raddir /home/grierjones/DDCASPT2/delta_ML/BH/2.40\n",
      "/home/grierjones/DDCASPT2/delta_ML/BH/2.40\n"
     ]
    },
    {
     "name": "stderr",
     "output_type": "stream",
     "text": [
      "<string>:392: SyntaxWarning: invalid escape sequence '\\.'\n",
      "<string>:401: SyntaxWarning: invalid escape sequence '\\.'\n",
      "<string>:412: SyntaxWarning: invalid escape sequence '\\d'\n",
      "<string>:707: SyntaxWarning: invalid escape sequence '\\s'\n",
      "\n",
      "19it [00:23,  1.23s/it]\u001b[A"
     ]
    },
    {
     "name": "stdout",
     "output_type": "stream",
     "text": [
      "/home/grierjones/DDCASPT2/delta_ML/BH\n",
      "raddir /home/grierjones/DDCASPT2/delta_ML/BH/2.50\n",
      "/home/grierjones/DDCASPT2/delta_ML/BH/2.50\n"
     ]
    },
    {
     "name": "stderr",
     "output_type": "stream",
     "text": [
      "<string>:392: SyntaxWarning: invalid escape sequence '\\.'\n",
      "<string>:401: SyntaxWarning: invalid escape sequence '\\.'\n",
      "<string>:412: SyntaxWarning: invalid escape sequence '\\d'\n",
      "<string>:707: SyntaxWarning: invalid escape sequence '\\s'\n",
      "\n",
      "20it [00:24,  1.23s/it]\u001b[A"
     ]
    },
    {
     "name": "stdout",
     "output_type": "stream",
     "text": [
      "/home/grierjones/DDCASPT2/delta_ML/BH\n",
      "raddir /home/grierjones/DDCASPT2/delta_ML/BH/2.60\n",
      "/home/grierjones/DDCASPT2/delta_ML/BH/2.60\n"
     ]
    },
    {
     "name": "stderr",
     "output_type": "stream",
     "text": [
      "<string>:392: SyntaxWarning: invalid escape sequence '\\.'\n",
      "<string>:401: SyntaxWarning: invalid escape sequence '\\.'\n",
      "<string>:412: SyntaxWarning: invalid escape sequence '\\d'\n",
      "<string>:707: SyntaxWarning: invalid escape sequence '\\s'\n",
      "\n",
      "21it [00:25,  1.24s/it]\u001b[A"
     ]
    },
    {
     "name": "stdout",
     "output_type": "stream",
     "text": [
      "/home/grierjones/DDCASPT2/delta_ML/BH\n",
      "raddir /home/grierjones/DDCASPT2/delta_ML/BH/2.70\n",
      "/home/grierjones/DDCASPT2/delta_ML/BH/2.70\n"
     ]
    },
    {
     "name": "stderr",
     "output_type": "stream",
     "text": [
      "<string>:392: SyntaxWarning: invalid escape sequence '\\.'\n",
      "<string>:401: SyntaxWarning: invalid escape sequence '\\.'\n",
      "<string>:412: SyntaxWarning: invalid escape sequence '\\d'\n",
      "<string>:707: SyntaxWarning: invalid escape sequence '\\s'\n",
      "\n",
      "22it [00:27,  1.25s/it]\u001b[A"
     ]
    },
    {
     "name": "stdout",
     "output_type": "stream",
     "text": [
      "/home/grierjones/DDCASPT2/delta_ML/BH\n",
      "raddir /home/grierjones/DDCASPT2/delta_ML/BH/2.80\n",
      "/home/grierjones/DDCASPT2/delta_ML/BH/2.80\n"
     ]
    },
    {
     "name": "stderr",
     "output_type": "stream",
     "text": [
      "<string>:392: SyntaxWarning: invalid escape sequence '\\.'\n",
      "<string>:401: SyntaxWarning: invalid escape sequence '\\.'\n",
      "<string>:412: SyntaxWarning: invalid escape sequence '\\d'\n",
      "<string>:707: SyntaxWarning: invalid escape sequence '\\s'\n",
      "\n",
      "23it [00:28,  1.23s/it]\u001b[A\n",
      " 14%|████████████████████████▎                                                                                                                                                      | 5/36 [02:36<15:57, 30.88s/it]"
     ]
    },
    {
     "name": "stdout",
     "output_type": "stream",
     "text": [
      "/home/grierjones/DDCASPT2/delta_ML/BH\n",
      "/home/grierjones/DDCASPT2/delta_ML/BH\n"
     ]
    },
    {
     "name": "stderr",
     "output_type": "stream",
     "text": [
      "\n",
      "0it [00:00, ?it/s]\u001b[A"
     ]
    },
    {
     "name": "stdout",
     "output_type": "stream",
     "text": [
      "raddir /home/grierjones/DDCASPT2/delta_ML/BLi/0.60\n",
      "/home/grierjones/DDCASPT2/delta_ML/BLi/0.60\n"
     ]
    },
    {
     "name": "stderr",
     "output_type": "stream",
     "text": [
      "<string>:392: SyntaxWarning: invalid escape sequence '\\.'\n",
      "<string>:401: SyntaxWarning: invalid escape sequence '\\.'\n",
      "<string>:412: SyntaxWarning: invalid escape sequence '\\d'\n",
      "<string>:707: SyntaxWarning: invalid escape sequence '\\s'\n",
      "\n",
      "1it [00:01,  1.24s/it]\u001b[A"
     ]
    },
    {
     "name": "stdout",
     "output_type": "stream",
     "text": [
      "/home/grierjones/DDCASPT2/delta_ML/BLi\n",
      "raddir /home/grierjones/DDCASPT2/delta_ML/BLi/0.70\n",
      "/home/grierjones/DDCASPT2/delta_ML/BLi/0.70\n"
     ]
    },
    {
     "name": "stderr",
     "output_type": "stream",
     "text": [
      "<string>:392: SyntaxWarning: invalid escape sequence '\\.'\n",
      "<string>:401: SyntaxWarning: invalid escape sequence '\\.'\n",
      "<string>:412: SyntaxWarning: invalid escape sequence '\\d'\n",
      "<string>:707: SyntaxWarning: invalid escape sequence '\\s'\n",
      "\n",
      "2it [00:02,  1.24s/it]\u001b[A"
     ]
    },
    {
     "name": "stdout",
     "output_type": "stream",
     "text": [
      "/home/grierjones/DDCASPT2/delta_ML/BLi\n",
      "raddir /home/grierjones/DDCASPT2/delta_ML/BLi/0.80\n",
      "/home/grierjones/DDCASPT2/delta_ML/BLi/0.80\n"
     ]
    },
    {
     "name": "stderr",
     "output_type": "stream",
     "text": [
      "<string>:392: SyntaxWarning: invalid escape sequence '\\.'\n",
      "<string>:401: SyntaxWarning: invalid escape sequence '\\.'\n",
      "<string>:412: SyntaxWarning: invalid escape sequence '\\d'\n",
      "<string>:707: SyntaxWarning: invalid escape sequence '\\s'\n",
      "\n",
      "3it [00:03,  1.24s/it]\u001b[A"
     ]
    },
    {
     "name": "stdout",
     "output_type": "stream",
     "text": [
      "/home/grierjones/DDCASPT2/delta_ML/BLi\n",
      "raddir /home/grierjones/DDCASPT2/delta_ML/BLi/0.90\n",
      "/home/grierjones/DDCASPT2/delta_ML/BLi/0.90\n"
     ]
    },
    {
     "name": "stderr",
     "output_type": "stream",
     "text": [
      "<string>:392: SyntaxWarning: invalid escape sequence '\\.'\n",
      "<string>:401: SyntaxWarning: invalid escape sequence '\\.'\n",
      "<string>:412: SyntaxWarning: invalid escape sequence '\\d'\n",
      "<string>:707: SyntaxWarning: invalid escape sequence '\\s'\n",
      "\n",
      "4it [00:04,  1.24s/it]\u001b[A"
     ]
    },
    {
     "name": "stdout",
     "output_type": "stream",
     "text": [
      "/home/grierjones/DDCASPT2/delta_ML/BLi\n",
      "raddir /home/grierjones/DDCASPT2/delta_ML/BLi/1.00\n",
      "/home/grierjones/DDCASPT2/delta_ML/BLi/1.00\n"
     ]
    },
    {
     "name": "stderr",
     "output_type": "stream",
     "text": [
      "<string>:392: SyntaxWarning: invalid escape sequence '\\.'\n",
      "<string>:401: SyntaxWarning: invalid escape sequence '\\.'\n",
      "<string>:412: SyntaxWarning: invalid escape sequence '\\d'\n",
      "<string>:707: SyntaxWarning: invalid escape sequence '\\s'\n",
      "\n",
      "5it [00:06,  1.25s/it]\u001b[A"
     ]
    },
    {
     "name": "stdout",
     "output_type": "stream",
     "text": [
      "/home/grierjones/DDCASPT2/delta_ML/BLi\n",
      "raddir /home/grierjones/DDCASPT2/delta_ML/BLi/1.10\n",
      "/home/grierjones/DDCASPT2/delta_ML/BLi/1.10\n"
     ]
    },
    {
     "name": "stderr",
     "output_type": "stream",
     "text": [
      "<string>:392: SyntaxWarning: invalid escape sequence '\\.'\n",
      "<string>:401: SyntaxWarning: invalid escape sequence '\\.'\n",
      "<string>:412: SyntaxWarning: invalid escape sequence '\\d'\n",
      "<string>:707: SyntaxWarning: invalid escape sequence '\\s'\n",
      "\n",
      "6it [00:07,  1.25s/it]\u001b[A"
     ]
    },
    {
     "name": "stdout",
     "output_type": "stream",
     "text": [
      "/home/grierjones/DDCASPT2/delta_ML/BLi\n",
      "raddir /home/grierjones/DDCASPT2/delta_ML/BLi/1.20\n",
      "/home/grierjones/DDCASPT2/delta_ML/BLi/1.20\n"
     ]
    },
    {
     "name": "stderr",
     "output_type": "stream",
     "text": [
      "<string>:392: SyntaxWarning: invalid escape sequence '\\.'\n",
      "<string>:401: SyntaxWarning: invalid escape sequence '\\.'\n",
      "<string>:412: SyntaxWarning: invalid escape sequence '\\d'\n",
      "<string>:707: SyntaxWarning: invalid escape sequence '\\s'\n",
      "\n",
      "7it [00:08,  1.25s/it]\u001b[A"
     ]
    },
    {
     "name": "stdout",
     "output_type": "stream",
     "text": [
      "/home/grierjones/DDCASPT2/delta_ML/BLi\n",
      "raddir /home/grierjones/DDCASPT2/delta_ML/BLi/1.30\n",
      "/home/grierjones/DDCASPT2/delta_ML/BLi/1.30\n"
     ]
    },
    {
     "name": "stderr",
     "output_type": "stream",
     "text": [
      "<string>:392: SyntaxWarning: invalid escape sequence '\\.'\n",
      "<string>:401: SyntaxWarning: invalid escape sequence '\\.'\n",
      "<string>:412: SyntaxWarning: invalid escape sequence '\\d'\n",
      "<string>:707: SyntaxWarning: invalid escape sequence '\\s'\n",
      "\n",
      "8it [00:10,  1.26s/it]\u001b[A"
     ]
    },
    {
     "name": "stdout",
     "output_type": "stream",
     "text": [
      "/home/grierjones/DDCASPT2/delta_ML/BLi\n",
      "raddir /home/grierjones/DDCASPT2/delta_ML/BLi/1.40\n",
      "/home/grierjones/DDCASPT2/delta_ML/BLi/1.40\n"
     ]
    },
    {
     "name": "stderr",
     "output_type": "stream",
     "text": [
      "<string>:392: SyntaxWarning: invalid escape sequence '\\.'\n",
      "<string>:401: SyntaxWarning: invalid escape sequence '\\.'\n",
      "<string>:412: SyntaxWarning: invalid escape sequence '\\d'\n",
      "<string>:707: SyntaxWarning: invalid escape sequence '\\s'\n",
      "\n",
      "9it [00:11,  1.26s/it]\u001b[A"
     ]
    },
    {
     "name": "stdout",
     "output_type": "stream",
     "text": [
      "/home/grierjones/DDCASPT2/delta_ML/BLi\n",
      "raddir /home/grierjones/DDCASPT2/delta_ML/BLi/1.50\n",
      "/home/grierjones/DDCASPT2/delta_ML/BLi/1.50\n"
     ]
    },
    {
     "name": "stderr",
     "output_type": "stream",
     "text": [
      "<string>:392: SyntaxWarning: invalid escape sequence '\\.'\n",
      "<string>:401: SyntaxWarning: invalid escape sequence '\\.'\n",
      "<string>:412: SyntaxWarning: invalid escape sequence '\\d'\n",
      "<string>:707: SyntaxWarning: invalid escape sequence '\\s'\n",
      "\n",
      "10it [00:12,  1.26s/it]\u001b[A"
     ]
    },
    {
     "name": "stdout",
     "output_type": "stream",
     "text": [
      "/home/grierjones/DDCASPT2/delta_ML/BLi\n",
      "raddir /home/grierjones/DDCASPT2/delta_ML/BLi/1.60\n",
      "/home/grierjones/DDCASPT2/delta_ML/BLi/1.60\n"
     ]
    },
    {
     "name": "stderr",
     "output_type": "stream",
     "text": [
      "<string>:392: SyntaxWarning: invalid escape sequence '\\.'\n",
      "<string>:401: SyntaxWarning: invalid escape sequence '\\.'\n",
      "<string>:412: SyntaxWarning: invalid escape sequence '\\d'\n",
      "<string>:707: SyntaxWarning: invalid escape sequence '\\s'\n",
      "\n",
      "11it [00:13,  1.26s/it]\u001b[A"
     ]
    },
    {
     "name": "stdout",
     "output_type": "stream",
     "text": [
      "/home/grierjones/DDCASPT2/delta_ML/BLi\n",
      "raddir /home/grierjones/DDCASPT2/delta_ML/BLi/1.70\n",
      "/home/grierjones/DDCASPT2/delta_ML/BLi/1.70\n"
     ]
    },
    {
     "name": "stderr",
     "output_type": "stream",
     "text": [
      "<string>:392: SyntaxWarning: invalid escape sequence '\\.'\n",
      "<string>:401: SyntaxWarning: invalid escape sequence '\\.'\n",
      "<string>:412: SyntaxWarning: invalid escape sequence '\\d'\n",
      "<string>:707: SyntaxWarning: invalid escape sequence '\\s'\n",
      "\n",
      "12it [00:15,  1.26s/it]\u001b[A"
     ]
    },
    {
     "name": "stdout",
     "output_type": "stream",
     "text": [
      "/home/grierjones/DDCASPT2/delta_ML/BLi\n",
      "raddir /home/grierjones/DDCASPT2/delta_ML/BLi/1.80\n",
      "/home/grierjones/DDCASPT2/delta_ML/BLi/1.80\n"
     ]
    },
    {
     "name": "stderr",
     "output_type": "stream",
     "text": [
      "<string>:392: SyntaxWarning: invalid escape sequence '\\.'\n",
      "<string>:401: SyntaxWarning: invalid escape sequence '\\.'\n",
      "<string>:412: SyntaxWarning: invalid escape sequence '\\d'\n",
      "<string>:707: SyntaxWarning: invalid escape sequence '\\s'\n",
      "\n",
      "13it [00:16,  1.26s/it]\u001b[A"
     ]
    },
    {
     "name": "stdout",
     "output_type": "stream",
     "text": [
      "/home/grierjones/DDCASPT2/delta_ML/BLi\n",
      "raddir /home/grierjones/DDCASPT2/delta_ML/BLi/1.90\n",
      "/home/grierjones/DDCASPT2/delta_ML/BLi/1.90\n"
     ]
    },
    {
     "name": "stderr",
     "output_type": "stream",
     "text": [
      "<string>:392: SyntaxWarning: invalid escape sequence '\\.'\n",
      "<string>:401: SyntaxWarning: invalid escape sequence '\\.'\n",
      "<string>:412: SyntaxWarning: invalid escape sequence '\\d'\n",
      "<string>:707: SyntaxWarning: invalid escape sequence '\\s'\n",
      "\n",
      "14it [00:17,  1.25s/it]\u001b[A"
     ]
    },
    {
     "name": "stdout",
     "output_type": "stream",
     "text": [
      "/home/grierjones/DDCASPT2/delta_ML/BLi\n",
      "raddir /home/grierjones/DDCASPT2/delta_ML/BLi/2.00\n",
      "/home/grierjones/DDCASPT2/delta_ML/BLi/2.00\n"
     ]
    },
    {
     "name": "stderr",
     "output_type": "stream",
     "text": [
      "<string>:392: SyntaxWarning: invalid escape sequence '\\.'\n",
      "<string>:401: SyntaxWarning: invalid escape sequence '\\.'\n",
      "<string>:412: SyntaxWarning: invalid escape sequence '\\d'\n",
      "<string>:707: SyntaxWarning: invalid escape sequence '\\s'\n",
      "\n",
      "15it [00:18,  1.25s/it]\u001b[A"
     ]
    },
    {
     "name": "stdout",
     "output_type": "stream",
     "text": [
      "/home/grierjones/DDCASPT2/delta_ML/BLi\n",
      "raddir /home/grierjones/DDCASPT2/delta_ML/BLi/2.10\n",
      "/home/grierjones/DDCASPT2/delta_ML/BLi/2.10\n"
     ]
    },
    {
     "name": "stderr",
     "output_type": "stream",
     "text": [
      "<string>:392: SyntaxWarning: invalid escape sequence '\\.'\n",
      "<string>:401: SyntaxWarning: invalid escape sequence '\\.'\n",
      "<string>:412: SyntaxWarning: invalid escape sequence '\\d'\n",
      "<string>:707: SyntaxWarning: invalid escape sequence '\\s'\n",
      "\n",
      "16it [00:20,  1.24s/it]\u001b[A"
     ]
    },
    {
     "name": "stdout",
     "output_type": "stream",
     "text": [
      "/home/grierjones/DDCASPT2/delta_ML/BLi\n",
      "raddir /home/grierjones/DDCASPT2/delta_ML/BLi/2.20\n",
      "/home/grierjones/DDCASPT2/delta_ML/BLi/2.20\n"
     ]
    },
    {
     "name": "stderr",
     "output_type": "stream",
     "text": [
      "<string>:392: SyntaxWarning: invalid escape sequence '\\.'\n",
      "<string>:401: SyntaxWarning: invalid escape sequence '\\.'\n",
      "<string>:412: SyntaxWarning: invalid escape sequence '\\d'\n",
      "<string>:707: SyntaxWarning: invalid escape sequence '\\s'\n",
      "\n",
      "17it [00:21,  1.24s/it]\u001b[A"
     ]
    },
    {
     "name": "stdout",
     "output_type": "stream",
     "text": [
      "/home/grierjones/DDCASPT2/delta_ML/BLi\n",
      "raddir /home/grierjones/DDCASPT2/delta_ML/BLi/2.30\n",
      "/home/grierjones/DDCASPT2/delta_ML/BLi/2.30\n"
     ]
    },
    {
     "name": "stderr",
     "output_type": "stream",
     "text": [
      "<string>:392: SyntaxWarning: invalid escape sequence '\\.'\n",
      "<string>:401: SyntaxWarning: invalid escape sequence '\\.'\n",
      "<string>:412: SyntaxWarning: invalid escape sequence '\\d'\n",
      "<string>:707: SyntaxWarning: invalid escape sequence '\\s'\n",
      "\n",
      "18it [00:22,  1.24s/it]\u001b[A"
     ]
    },
    {
     "name": "stdout",
     "output_type": "stream",
     "text": [
      "/home/grierjones/DDCASPT2/delta_ML/BLi\n",
      "raddir /home/grierjones/DDCASPT2/delta_ML/BLi/2.40\n",
      "/home/grierjones/DDCASPT2/delta_ML/BLi/2.40\n"
     ]
    },
    {
     "name": "stderr",
     "output_type": "stream",
     "text": [
      "<string>:392: SyntaxWarning: invalid escape sequence '\\.'\n",
      "<string>:401: SyntaxWarning: invalid escape sequence '\\.'\n",
      "<string>:412: SyntaxWarning: invalid escape sequence '\\d'\n",
      "<string>:707: SyntaxWarning: invalid escape sequence '\\s'\n",
      "\n",
      "19it [00:23,  1.25s/it]\u001b[A"
     ]
    },
    {
     "name": "stdout",
     "output_type": "stream",
     "text": [
      "/home/grierjones/DDCASPT2/delta_ML/BLi\n",
      "raddir /home/grierjones/DDCASPT2/delta_ML/BLi/2.50\n",
      "/home/grierjones/DDCASPT2/delta_ML/BLi/2.50\n"
     ]
    },
    {
     "name": "stderr",
     "output_type": "stream",
     "text": [
      "<string>:392: SyntaxWarning: invalid escape sequence '\\.'\n",
      "<string>:401: SyntaxWarning: invalid escape sequence '\\.'\n",
      "<string>:412: SyntaxWarning: invalid escape sequence '\\d'\n",
      "<string>:707: SyntaxWarning: invalid escape sequence '\\s'\n",
      "\n",
      "20it [00:24,  1.25s/it]\u001b[A"
     ]
    },
    {
     "name": "stdout",
     "output_type": "stream",
     "text": [
      "/home/grierjones/DDCASPT2/delta_ML/BLi\n",
      "raddir /home/grierjones/DDCASPT2/delta_ML/BLi/2.60\n",
      "/home/grierjones/DDCASPT2/delta_ML/BLi/2.60\n"
     ]
    },
    {
     "name": "stderr",
     "output_type": "stream",
     "text": [
      "<string>:392: SyntaxWarning: invalid escape sequence '\\.'\n",
      "<string>:401: SyntaxWarning: invalid escape sequence '\\.'\n",
      "<string>:412: SyntaxWarning: invalid escape sequence '\\d'\n",
      "<string>:707: SyntaxWarning: invalid escape sequence '\\s'\n",
      "\n",
      "21it [00:26,  1.24s/it]\u001b[A"
     ]
    },
    {
     "name": "stdout",
     "output_type": "stream",
     "text": [
      "/home/grierjones/DDCASPT2/delta_ML/BLi\n",
      "raddir /home/grierjones/DDCASPT2/delta_ML/BLi/2.70\n",
      "/home/grierjones/DDCASPT2/delta_ML/BLi/2.70\n"
     ]
    },
    {
     "name": "stderr",
     "output_type": "stream",
     "text": [
      "<string>:392: SyntaxWarning: invalid escape sequence '\\.'\n",
      "<string>:401: SyntaxWarning: invalid escape sequence '\\.'\n",
      "<string>:412: SyntaxWarning: invalid escape sequence '\\d'\n",
      "<string>:707: SyntaxWarning: invalid escape sequence '\\s'\n",
      "\n",
      "22it [00:27,  1.24s/it]\u001b[A"
     ]
    },
    {
     "name": "stdout",
     "output_type": "stream",
     "text": [
      "/home/grierjones/DDCASPT2/delta_ML/BLi\n",
      "raddir /home/grierjones/DDCASPT2/delta_ML/BLi/2.80\n",
      "/home/grierjones/DDCASPT2/delta_ML/BLi/2.80\n"
     ]
    },
    {
     "name": "stderr",
     "output_type": "stream",
     "text": [
      "<string>:392: SyntaxWarning: invalid escape sequence '\\.'\n",
      "<string>:401: SyntaxWarning: invalid escape sequence '\\.'\n",
      "<string>:412: SyntaxWarning: invalid escape sequence '\\d'\n",
      "<string>:707: SyntaxWarning: invalid escape sequence '\\s'\n",
      "\n",
      "23it [00:28,  1.25s/it]\u001b[A\n",
      " 17%|█████████████████████████████▏                                                                                                                                                 | 6/36 [03:04<15:03, 30.13s/it]"
     ]
    },
    {
     "name": "stdout",
     "output_type": "stream",
     "text": [
      "/home/grierjones/DDCASPT2/delta_ML/BLi\n",
      "/home/grierjones/DDCASPT2/delta_ML/BLi\n"
     ]
    },
    {
     "name": "stderr",
     "output_type": "stream",
     "text": [
      "\n",
      "0it [00:00, ?it/s]\u001b[A"
     ]
    },
    {
     "name": "stdout",
     "output_type": "stream",
     "text": [
      "raddir /home/grierjones/DDCASPT2/delta_ML/BN/0.60\n",
      "/home/grierjones/DDCASPT2/delta_ML/BN/0.60\n"
     ]
    },
    {
     "name": "stderr",
     "output_type": "stream",
     "text": [
      "<string>:392: SyntaxWarning: invalid escape sequence '\\.'\n",
      "<string>:401: SyntaxWarning: invalid escape sequence '\\.'\n",
      "<string>:412: SyntaxWarning: invalid escape sequence '\\d'\n",
      "<string>:707: SyntaxWarning: invalid escape sequence '\\s'\n",
      "\n",
      "1it [00:01,  1.31s/it]\u001b[A"
     ]
    },
    {
     "name": "stdout",
     "output_type": "stream",
     "text": [
      "/home/grierjones/DDCASPT2/delta_ML/BN\n",
      "raddir /home/grierjones/DDCASPT2/delta_ML/BN/0.70\n",
      "/home/grierjones/DDCASPT2/delta_ML/BN/0.70\n"
     ]
    },
    {
     "name": "stderr",
     "output_type": "stream",
     "text": [
      "<string>:392: SyntaxWarning: invalid escape sequence '\\.'\n",
      "<string>:401: SyntaxWarning: invalid escape sequence '\\.'\n",
      "<string>:412: SyntaxWarning: invalid escape sequence '\\d'\n",
      "<string>:707: SyntaxWarning: invalid escape sequence '\\s'\n",
      "\n",
      "2it [00:02,  1.31s/it]\u001b[A"
     ]
    },
    {
     "name": "stdout",
     "output_type": "stream",
     "text": [
      "/home/grierjones/DDCASPT2/delta_ML/BN\n",
      "raddir /home/grierjones/DDCASPT2/delta_ML/BN/0.80\n",
      "/home/grierjones/DDCASPT2/delta_ML/BN/0.80\n"
     ]
    },
    {
     "name": "stderr",
     "output_type": "stream",
     "text": [
      "<string>:392: SyntaxWarning: invalid escape sequence '\\.'\n",
      "<string>:401: SyntaxWarning: invalid escape sequence '\\.'\n",
      "<string>:412: SyntaxWarning: invalid escape sequence '\\d'\n",
      "<string>:707: SyntaxWarning: invalid escape sequence '\\s'\n",
      "\n",
      "3it [00:03,  1.31s/it]\u001b[A"
     ]
    },
    {
     "name": "stdout",
     "output_type": "stream",
     "text": [
      "/home/grierjones/DDCASPT2/delta_ML/BN\n",
      "raddir /home/grierjones/DDCASPT2/delta_ML/BN/0.90\n",
      "/home/grierjones/DDCASPT2/delta_ML/BN/0.90\n"
     ]
    },
    {
     "name": "stderr",
     "output_type": "stream",
     "text": [
      "<string>:392: SyntaxWarning: invalid escape sequence '\\.'\n",
      "<string>:401: SyntaxWarning: invalid escape sequence '\\.'\n",
      "<string>:412: SyntaxWarning: invalid escape sequence '\\d'\n",
      "<string>:707: SyntaxWarning: invalid escape sequence '\\s'\n",
      "\n",
      "4it [00:05,  1.32s/it]\u001b[A"
     ]
    },
    {
     "name": "stdout",
     "output_type": "stream",
     "text": [
      "/home/grierjones/DDCASPT2/delta_ML/BN\n",
      "raddir /home/grierjones/DDCASPT2/delta_ML/BN/1.00\n",
      "/home/grierjones/DDCASPT2/delta_ML/BN/1.00\n"
     ]
    },
    {
     "name": "stderr",
     "output_type": "stream",
     "text": [
      "<string>:392: SyntaxWarning: invalid escape sequence '\\.'\n",
      "<string>:401: SyntaxWarning: invalid escape sequence '\\.'\n",
      "<string>:412: SyntaxWarning: invalid escape sequence '\\d'\n",
      "<string>:707: SyntaxWarning: invalid escape sequence '\\s'\n",
      "\n",
      "5it [00:06,  1.34s/it]\u001b[A"
     ]
    },
    {
     "name": "stdout",
     "output_type": "stream",
     "text": [
      "/home/grierjones/DDCASPT2/delta_ML/BN\n",
      "raddir /home/grierjones/DDCASPT2/delta_ML/BN/1.10\n",
      "/home/grierjones/DDCASPT2/delta_ML/BN/1.10\n"
     ]
    },
    {
     "name": "stderr",
     "output_type": "stream",
     "text": [
      "<string>:392: SyntaxWarning: invalid escape sequence '\\.'\n",
      "<string>:401: SyntaxWarning: invalid escape sequence '\\.'\n",
      "<string>:412: SyntaxWarning: invalid escape sequence '\\d'\n",
      "<string>:707: SyntaxWarning: invalid escape sequence '\\s'\n",
      "\n",
      "6it [00:07,  1.34s/it]\u001b[A"
     ]
    },
    {
     "name": "stdout",
     "output_type": "stream",
     "text": [
      "/home/grierjones/DDCASPT2/delta_ML/BN\n",
      "raddir /home/grierjones/DDCASPT2/delta_ML/BN/1.20\n",
      "/home/grierjones/DDCASPT2/delta_ML/BN/1.20\n"
     ]
    },
    {
     "name": "stderr",
     "output_type": "stream",
     "text": [
      "<string>:392: SyntaxWarning: invalid escape sequence '\\.'\n",
      "<string>:401: SyntaxWarning: invalid escape sequence '\\.'\n",
      "<string>:412: SyntaxWarning: invalid escape sequence '\\d'\n",
      "<string>:707: SyntaxWarning: invalid escape sequence '\\s'\n",
      "\n",
      "7it [00:09,  1.33s/it]\u001b[A"
     ]
    },
    {
     "name": "stdout",
     "output_type": "stream",
     "text": [
      "/home/grierjones/DDCASPT2/delta_ML/BN\n",
      "raddir /home/grierjones/DDCASPT2/delta_ML/BN/1.30\n",
      "/home/grierjones/DDCASPT2/delta_ML/BN/1.30\n"
     ]
    },
    {
     "name": "stderr",
     "output_type": "stream",
     "text": [
      "<string>:392: SyntaxWarning: invalid escape sequence '\\.'\n",
      "<string>:401: SyntaxWarning: invalid escape sequence '\\.'\n",
      "<string>:412: SyntaxWarning: invalid escape sequence '\\d'\n",
      "<string>:707: SyntaxWarning: invalid escape sequence '\\s'\n",
      "\n",
      "8it [00:10,  1.41s/it]\u001b[A"
     ]
    },
    {
     "name": "stdout",
     "output_type": "stream",
     "text": [
      "/home/grierjones/DDCASPT2/delta_ML/BN\n",
      "raddir /home/grierjones/DDCASPT2/delta_ML/BN/1.40\n",
      "/home/grierjones/DDCASPT2/delta_ML/BN/1.40\n"
     ]
    },
    {
     "name": "stderr",
     "output_type": "stream",
     "text": [
      "<string>:392: SyntaxWarning: invalid escape sequence '\\.'\n",
      "<string>:401: SyntaxWarning: invalid escape sequence '\\.'\n",
      "<string>:412: SyntaxWarning: invalid escape sequence '\\d'\n",
      "<string>:707: SyntaxWarning: invalid escape sequence '\\s'\n",
      "\n",
      "9it [00:12,  1.40s/it]\u001b[A"
     ]
    },
    {
     "name": "stdout",
     "output_type": "stream",
     "text": [
      "/home/grierjones/DDCASPT2/delta_ML/BN\n",
      "raddir /home/grierjones/DDCASPT2/delta_ML/BN/1.50\n",
      "/home/grierjones/DDCASPT2/delta_ML/BN/1.50\n"
     ]
    },
    {
     "name": "stderr",
     "output_type": "stream",
     "text": [
      "<string>:392: SyntaxWarning: invalid escape sequence '\\.'\n",
      "<string>:401: SyntaxWarning: invalid escape sequence '\\.'\n",
      "<string>:412: SyntaxWarning: invalid escape sequence '\\d'\n",
      "<string>:707: SyntaxWarning: invalid escape sequence '\\s'\n",
      "\n",
      "10it [00:13,  1.38s/it]\u001b[A"
     ]
    },
    {
     "name": "stdout",
     "output_type": "stream",
     "text": [
      "/home/grierjones/DDCASPT2/delta_ML/BN\n",
      "raddir /home/grierjones/DDCASPT2/delta_ML/BN/1.60\n",
      "/home/grierjones/DDCASPT2/delta_ML/BN/1.60\n"
     ]
    },
    {
     "name": "stderr",
     "output_type": "stream",
     "text": [
      "<string>:392: SyntaxWarning: invalid escape sequence '\\.'\n",
      "<string>:401: SyntaxWarning: invalid escape sequence '\\.'\n",
      "<string>:412: SyntaxWarning: invalid escape sequence '\\d'\n",
      "<string>:707: SyntaxWarning: invalid escape sequence '\\s'\n",
      "\n",
      "11it [00:14,  1.38s/it]\u001b[A"
     ]
    },
    {
     "name": "stdout",
     "output_type": "stream",
     "text": [
      "/home/grierjones/DDCASPT2/delta_ML/BN\n",
      "raddir /home/grierjones/DDCASPT2/delta_ML/BN/1.70\n",
      "/home/grierjones/DDCASPT2/delta_ML/BN/1.70\n"
     ]
    },
    {
     "name": "stderr",
     "output_type": "stream",
     "text": [
      "<string>:392: SyntaxWarning: invalid escape sequence '\\.'\n",
      "<string>:401: SyntaxWarning: invalid escape sequence '\\.'\n",
      "<string>:412: SyntaxWarning: invalid escape sequence '\\d'\n",
      "<string>:707: SyntaxWarning: invalid escape sequence '\\s'\n",
      "\n",
      "12it [00:16,  1.36s/it]\u001b[A"
     ]
    },
    {
     "name": "stdout",
     "output_type": "stream",
     "text": [
      "/home/grierjones/DDCASPT2/delta_ML/BN\n",
      "raddir /home/grierjones/DDCASPT2/delta_ML/BN/1.80\n",
      "/home/grierjones/DDCASPT2/delta_ML/BN/1.80\n"
     ]
    },
    {
     "name": "stderr",
     "output_type": "stream",
     "text": [
      "<string>:392: SyntaxWarning: invalid escape sequence '\\.'\n",
      "<string>:401: SyntaxWarning: invalid escape sequence '\\.'\n",
      "<string>:412: SyntaxWarning: invalid escape sequence '\\d'\n",
      "<string>:707: SyntaxWarning: invalid escape sequence '\\s'\n",
      "\n",
      "13it [00:17,  1.35s/it]\u001b[A"
     ]
    },
    {
     "name": "stdout",
     "output_type": "stream",
     "text": [
      "/home/grierjones/DDCASPT2/delta_ML/BN\n",
      "raddir /home/grierjones/DDCASPT2/delta_ML/BN/1.90\n",
      "/home/grierjones/DDCASPT2/delta_ML/BN/1.90\n"
     ]
    },
    {
     "name": "stderr",
     "output_type": "stream",
     "text": [
      "<string>:392: SyntaxWarning: invalid escape sequence '\\.'\n",
      "<string>:401: SyntaxWarning: invalid escape sequence '\\.'\n",
      "<string>:412: SyntaxWarning: invalid escape sequence '\\d'\n",
      "<string>:707: SyntaxWarning: invalid escape sequence '\\s'\n",
      "\n",
      "14it [00:18,  1.34s/it]\u001b[A"
     ]
    },
    {
     "name": "stdout",
     "output_type": "stream",
     "text": [
      "/home/grierjones/DDCASPT2/delta_ML/BN\n",
      "raddir /home/grierjones/DDCASPT2/delta_ML/BN/2.00\n",
      "/home/grierjones/DDCASPT2/delta_ML/BN/2.00\n"
     ]
    },
    {
     "name": "stderr",
     "output_type": "stream",
     "text": [
      "<string>:392: SyntaxWarning: invalid escape sequence '\\.'\n",
      "<string>:401: SyntaxWarning: invalid escape sequence '\\.'\n",
      "<string>:412: SyntaxWarning: invalid escape sequence '\\d'\n",
      "<string>:707: SyntaxWarning: invalid escape sequence '\\s'\n",
      "\n",
      "15it [00:20,  1.33s/it]\u001b[A"
     ]
    },
    {
     "name": "stdout",
     "output_type": "stream",
     "text": [
      "/home/grierjones/DDCASPT2/delta_ML/BN\n",
      "raddir /home/grierjones/DDCASPT2/delta_ML/BN/2.10\n",
      "/home/grierjones/DDCASPT2/delta_ML/BN/2.10\n"
     ]
    },
    {
     "name": "stderr",
     "output_type": "stream",
     "text": [
      "<string>:392: SyntaxWarning: invalid escape sequence '\\.'\n",
      "<string>:401: SyntaxWarning: invalid escape sequence '\\.'\n",
      "<string>:412: SyntaxWarning: invalid escape sequence '\\d'\n",
      "<string>:707: SyntaxWarning: invalid escape sequence '\\s'\n",
      "\n",
      "16it [00:21,  1.32s/it]\u001b[A"
     ]
    },
    {
     "name": "stdout",
     "output_type": "stream",
     "text": [
      "/home/grierjones/DDCASPT2/delta_ML/BN\n",
      "raddir /home/grierjones/DDCASPT2/delta_ML/BN/2.20\n",
      "/home/grierjones/DDCASPT2/delta_ML/BN/2.20\n"
     ]
    },
    {
     "name": "stderr",
     "output_type": "stream",
     "text": [
      "<string>:392: SyntaxWarning: invalid escape sequence '\\.'\n",
      "<string>:401: SyntaxWarning: invalid escape sequence '\\.'\n",
      "<string>:412: SyntaxWarning: invalid escape sequence '\\d'\n",
      "<string>:707: SyntaxWarning: invalid escape sequence '\\s'\n",
      "\n",
      "17it [00:22,  1.31s/it]\u001b[A"
     ]
    },
    {
     "name": "stdout",
     "output_type": "stream",
     "text": [
      "/home/grierjones/DDCASPT2/delta_ML/BN\n",
      "raddir /home/grierjones/DDCASPT2/delta_ML/BN/2.30\n",
      "/home/grierjones/DDCASPT2/delta_ML/BN/2.30\n"
     ]
    },
    {
     "name": "stderr",
     "output_type": "stream",
     "text": [
      "<string>:392: SyntaxWarning: invalid escape sequence '\\.'\n",
      "<string>:401: SyntaxWarning: invalid escape sequence '\\.'\n",
      "<string>:412: SyntaxWarning: invalid escape sequence '\\d'\n",
      "<string>:707: SyntaxWarning: invalid escape sequence '\\s'\n",
      "\n",
      "18it [00:24,  1.30s/it]\u001b[A"
     ]
    },
    {
     "name": "stdout",
     "output_type": "stream",
     "text": [
      "/home/grierjones/DDCASPT2/delta_ML/BN\n",
      "raddir /home/grierjones/DDCASPT2/delta_ML/BN/2.40\n",
      "/home/grierjones/DDCASPT2/delta_ML/BN/2.40\n"
     ]
    },
    {
     "name": "stderr",
     "output_type": "stream",
     "text": [
      "<string>:392: SyntaxWarning: invalid escape sequence '\\.'\n",
      "<string>:401: SyntaxWarning: invalid escape sequence '\\.'\n",
      "<string>:412: SyntaxWarning: invalid escape sequence '\\d'\n",
      "<string>:707: SyntaxWarning: invalid escape sequence '\\s'\n",
      "\n",
      "19it [00:25,  1.30s/it]\u001b[A"
     ]
    },
    {
     "name": "stdout",
     "output_type": "stream",
     "text": [
      "/home/grierjones/DDCASPT2/delta_ML/BN\n",
      "raddir /home/grierjones/DDCASPT2/delta_ML/BN/2.50\n",
      "/home/grierjones/DDCASPT2/delta_ML/BN/2.50\n"
     ]
    },
    {
     "name": "stderr",
     "output_type": "stream",
     "text": [
      "<string>:392: SyntaxWarning: invalid escape sequence '\\.'\n",
      "<string>:401: SyntaxWarning: invalid escape sequence '\\.'\n",
      "<string>:412: SyntaxWarning: invalid escape sequence '\\d'\n",
      "<string>:707: SyntaxWarning: invalid escape sequence '\\s'\n",
      "\n",
      "20it [00:26,  1.30s/it]\u001b[A"
     ]
    },
    {
     "name": "stdout",
     "output_type": "stream",
     "text": [
      "/home/grierjones/DDCASPT2/delta_ML/BN\n",
      "raddir /home/grierjones/DDCASPT2/delta_ML/BN/2.60\n",
      "/home/grierjones/DDCASPT2/delta_ML/BN/2.60\n"
     ]
    },
    {
     "name": "stderr",
     "output_type": "stream",
     "text": [
      "<string>:392: SyntaxWarning: invalid escape sequence '\\.'\n",
      "<string>:401: SyntaxWarning: invalid escape sequence '\\.'\n",
      "<string>:412: SyntaxWarning: invalid escape sequence '\\d'\n",
      "<string>:707: SyntaxWarning: invalid escape sequence '\\s'\n",
      "\n",
      "21it [00:27,  1.29s/it]\u001b[A"
     ]
    },
    {
     "name": "stdout",
     "output_type": "stream",
     "text": [
      "/home/grierjones/DDCASPT2/delta_ML/BN\n",
      "raddir /home/grierjones/DDCASPT2/delta_ML/BN/2.70\n",
      "/home/grierjones/DDCASPT2/delta_ML/BN/2.70\n"
     ]
    },
    {
     "name": "stderr",
     "output_type": "stream",
     "text": [
      "<string>:392: SyntaxWarning: invalid escape sequence '\\.'\n",
      "<string>:401: SyntaxWarning: invalid escape sequence '\\.'\n",
      "<string>:412: SyntaxWarning: invalid escape sequence '\\d'\n",
      "<string>:707: SyntaxWarning: invalid escape sequence '\\s'\n",
      "\n",
      "22it [00:29,  1.29s/it]\u001b[A"
     ]
    },
    {
     "name": "stdout",
     "output_type": "stream",
     "text": [
      "/home/grierjones/DDCASPT2/delta_ML/BN\n",
      "raddir /home/grierjones/DDCASPT2/delta_ML/BN/2.80\n",
      "/home/grierjones/DDCASPT2/delta_ML/BN/2.80\n"
     ]
    },
    {
     "name": "stderr",
     "output_type": "stream",
     "text": [
      "<string>:392: SyntaxWarning: invalid escape sequence '\\.'\n",
      "<string>:401: SyntaxWarning: invalid escape sequence '\\.'\n",
      "<string>:412: SyntaxWarning: invalid escape sequence '\\d'\n",
      "<string>:707: SyntaxWarning: invalid escape sequence '\\s'\n",
      "\n",
      "23it [00:30,  1.33s/it]\u001b[A\n",
      " 19%|██████████████████████████████████                                                                                                                                             | 7/36 [03:35<14:37, 30.27s/it]"
     ]
    },
    {
     "name": "stdout",
     "output_type": "stream",
     "text": [
      "/home/grierjones/DDCASPT2/delta_ML/BN\n",
      "/home/grierjones/DDCASPT2/delta_ML/BN\n"
     ]
    },
    {
     "name": "stderr",
     "output_type": "stream",
     "text": [
      "\n",
      "0it [00:00, ?it/s]\u001b[A"
     ]
    },
    {
     "name": "stdout",
     "output_type": "stream",
     "text": [
      "raddir /home/grierjones/DDCASPT2/delta_ML/BO/0.60\n",
      "/home/grierjones/DDCASPT2/delta_ML/BO/0.60\n"
     ]
    },
    {
     "name": "stderr",
     "output_type": "stream",
     "text": [
      "<string>:392: SyntaxWarning: invalid escape sequence '\\.'\n",
      "<string>:401: SyntaxWarning: invalid escape sequence '\\.'\n",
      "<string>:412: SyntaxWarning: invalid escape sequence '\\d'\n",
      "<string>:707: SyntaxWarning: invalid escape sequence '\\s'\n",
      "\n",
      "1it [00:01,  1.32s/it]\u001b[A"
     ]
    },
    {
     "name": "stdout",
     "output_type": "stream",
     "text": [
      "/home/grierjones/DDCASPT2/delta_ML/BO\n",
      "raddir /home/grierjones/DDCASPT2/delta_ML/BO/0.70\n",
      "/home/grierjones/DDCASPT2/delta_ML/BO/0.70\n"
     ]
    },
    {
     "name": "stderr",
     "output_type": "stream",
     "text": [
      "<string>:392: SyntaxWarning: invalid escape sequence '\\.'\n",
      "<string>:401: SyntaxWarning: invalid escape sequence '\\.'\n",
      "<string>:412: SyntaxWarning: invalid escape sequence '\\d'\n",
      "<string>:707: SyntaxWarning: invalid escape sequence '\\s'\n",
      "\n",
      "2it [00:02,  1.32s/it]\u001b[A"
     ]
    },
    {
     "name": "stdout",
     "output_type": "stream",
     "text": [
      "/home/grierjones/DDCASPT2/delta_ML/BO\n",
      "raddir /home/grierjones/DDCASPT2/delta_ML/BO/0.80\n",
      "/home/grierjones/DDCASPT2/delta_ML/BO/0.80\n"
     ]
    },
    {
     "name": "stderr",
     "output_type": "stream",
     "text": [
      "<string>:392: SyntaxWarning: invalid escape sequence '\\.'\n",
      "<string>:401: SyntaxWarning: invalid escape sequence '\\.'\n",
      "<string>:412: SyntaxWarning: invalid escape sequence '\\d'\n",
      "<string>:707: SyntaxWarning: invalid escape sequence '\\s'\n",
      "\n",
      "3it [00:03,  1.31s/it]\u001b[A"
     ]
    },
    {
     "name": "stdout",
     "output_type": "stream",
     "text": [
      "/home/grierjones/DDCASPT2/delta_ML/BO\n",
      "raddir /home/grierjones/DDCASPT2/delta_ML/BO/0.90\n",
      "/home/grierjones/DDCASPT2/delta_ML/BO/0.90\n"
     ]
    },
    {
     "name": "stderr",
     "output_type": "stream",
     "text": [
      "<string>:392: SyntaxWarning: invalid escape sequence '\\.'\n",
      "<string>:401: SyntaxWarning: invalid escape sequence '\\.'\n",
      "<string>:412: SyntaxWarning: invalid escape sequence '\\d'\n",
      "<string>:707: SyntaxWarning: invalid escape sequence '\\s'\n",
      "\n",
      "4it [00:05,  1.31s/it]\u001b[A"
     ]
    },
    {
     "name": "stdout",
     "output_type": "stream",
     "text": [
      "/home/grierjones/DDCASPT2/delta_ML/BO\n",
      "raddir /home/grierjones/DDCASPT2/delta_ML/BO/1.00\n",
      "/home/grierjones/DDCASPT2/delta_ML/BO/1.00\n"
     ]
    },
    {
     "name": "stderr",
     "output_type": "stream",
     "text": [
      "<string>:392: SyntaxWarning: invalid escape sequence '\\.'\n",
      "<string>:401: SyntaxWarning: invalid escape sequence '\\.'\n",
      "<string>:412: SyntaxWarning: invalid escape sequence '\\d'\n",
      "<string>:707: SyntaxWarning: invalid escape sequence '\\s'\n",
      "\n",
      "5it [00:06,  1.32s/it]\u001b[A"
     ]
    },
    {
     "name": "stdout",
     "output_type": "stream",
     "text": [
      "/home/grierjones/DDCASPT2/delta_ML/BO\n",
      "raddir /home/grierjones/DDCASPT2/delta_ML/BO/1.10\n",
      "/home/grierjones/DDCASPT2/delta_ML/BO/1.10\n"
     ]
    },
    {
     "name": "stderr",
     "output_type": "stream",
     "text": [
      "<string>:392: SyntaxWarning: invalid escape sequence '\\.'\n",
      "<string>:401: SyntaxWarning: invalid escape sequence '\\.'\n",
      "<string>:412: SyntaxWarning: invalid escape sequence '\\d'\n",
      "<string>:707: SyntaxWarning: invalid escape sequence '\\s'\n",
      "\n",
      "6it [00:07,  1.32s/it]\u001b[A"
     ]
    },
    {
     "name": "stdout",
     "output_type": "stream",
     "text": [
      "/home/grierjones/DDCASPT2/delta_ML/BO\n",
      "raddir /home/grierjones/DDCASPT2/delta_ML/BO/1.20\n",
      "/home/grierjones/DDCASPT2/delta_ML/BO/1.20\n"
     ]
    },
    {
     "name": "stderr",
     "output_type": "stream",
     "text": [
      "<string>:392: SyntaxWarning: invalid escape sequence '\\.'\n",
      "<string>:401: SyntaxWarning: invalid escape sequence '\\.'\n",
      "<string>:412: SyntaxWarning: invalid escape sequence '\\d'\n",
      "<string>:707: SyntaxWarning: invalid escape sequence '\\s'\n",
      "\n",
      "7it [00:09,  1.34s/it]\u001b[A"
     ]
    },
    {
     "name": "stdout",
     "output_type": "stream",
     "text": [
      "/home/grierjones/DDCASPT2/delta_ML/BO\n",
      "raddir /home/grierjones/DDCASPT2/delta_ML/BO/1.30\n",
      "/home/grierjones/DDCASPT2/delta_ML/BO/1.30\n"
     ]
    },
    {
     "name": "stderr",
     "output_type": "stream",
     "text": [
      "<string>:392: SyntaxWarning: invalid escape sequence '\\.'\n",
      "<string>:401: SyntaxWarning: invalid escape sequence '\\.'\n",
      "<string>:412: SyntaxWarning: invalid escape sequence '\\d'\n",
      "<string>:707: SyntaxWarning: invalid escape sequence '\\s'\n",
      "\n",
      "8it [00:10,  1.37s/it]\u001b[A"
     ]
    },
    {
     "name": "stdout",
     "output_type": "stream",
     "text": [
      "/home/grierjones/DDCASPT2/delta_ML/BO\n",
      "raddir /home/grierjones/DDCASPT2/delta_ML/BO/1.40\n",
      "/home/grierjones/DDCASPT2/delta_ML/BO/1.40\n"
     ]
    },
    {
     "name": "stderr",
     "output_type": "stream",
     "text": [
      "<string>:392: SyntaxWarning: invalid escape sequence '\\.'\n",
      "<string>:401: SyntaxWarning: invalid escape sequence '\\.'\n",
      "<string>:412: SyntaxWarning: invalid escape sequence '\\d'\n",
      "<string>:707: SyntaxWarning: invalid escape sequence '\\s'\n",
      "\n",
      "9it [00:12,  1.41s/it]\u001b[A"
     ]
    },
    {
     "name": "stdout",
     "output_type": "stream",
     "text": [
      "/home/grierjones/DDCASPT2/delta_ML/BO\n",
      "raddir /home/grierjones/DDCASPT2/delta_ML/BO/1.50\n",
      "/home/grierjones/DDCASPT2/delta_ML/BO/1.50\n"
     ]
    },
    {
     "name": "stderr",
     "output_type": "stream",
     "text": [
      "<string>:392: SyntaxWarning: invalid escape sequence '\\.'\n",
      "<string>:401: SyntaxWarning: invalid escape sequence '\\.'\n",
      "<string>:412: SyntaxWarning: invalid escape sequence '\\d'\n",
      "<string>:707: SyntaxWarning: invalid escape sequence '\\s'\n",
      "\n",
      "10it [00:13,  1.48s/it]\u001b[A"
     ]
    },
    {
     "name": "stdout",
     "output_type": "stream",
     "text": [
      "/home/grierjones/DDCASPT2/delta_ML/BO\n",
      "raddir /home/grierjones/DDCASPT2/delta_ML/BO/1.60\n",
      "/home/grierjones/DDCASPT2/delta_ML/BO/1.60\n"
     ]
    },
    {
     "name": "stderr",
     "output_type": "stream",
     "text": [
      "<string>:392: SyntaxWarning: invalid escape sequence '\\.'\n",
      "<string>:401: SyntaxWarning: invalid escape sequence '\\.'\n",
      "<string>:412: SyntaxWarning: invalid escape sequence '\\d'\n",
      "<string>:707: SyntaxWarning: invalid escape sequence '\\s'\n",
      "\n",
      "11it [00:15,  1.60s/it]\u001b[A"
     ]
    },
    {
     "name": "stdout",
     "output_type": "stream",
     "text": [
      "/home/grierjones/DDCASPT2/delta_ML/BO\n",
      "raddir /home/grierjones/DDCASPT2/delta_ML/BO/1.70\n",
      "/home/grierjones/DDCASPT2/delta_ML/BO/1.70\n"
     ]
    },
    {
     "name": "stderr",
     "output_type": "stream",
     "text": [
      "<string>:392: SyntaxWarning: invalid escape sequence '\\.'\n",
      "<string>:401: SyntaxWarning: invalid escape sequence '\\.'\n",
      "<string>:412: SyntaxWarning: invalid escape sequence '\\d'\n",
      "<string>:707: SyntaxWarning: invalid escape sequence '\\s'\n",
      "\n",
      "12it [00:17,  1.59s/it]\u001b[A"
     ]
    },
    {
     "name": "stdout",
     "output_type": "stream",
     "text": [
      "/home/grierjones/DDCASPT2/delta_ML/BO\n",
      "raddir /home/grierjones/DDCASPT2/delta_ML/BO/1.80\n",
      "/home/grierjones/DDCASPT2/delta_ML/BO/1.80\n"
     ]
    },
    {
     "name": "stderr",
     "output_type": "stream",
     "text": [
      "<string>:392: SyntaxWarning: invalid escape sequence '\\.'\n",
      "<string>:401: SyntaxWarning: invalid escape sequence '\\.'\n",
      "<string>:412: SyntaxWarning: invalid escape sequence '\\d'\n",
      "<string>:707: SyntaxWarning: invalid escape sequence '\\s'\n",
      "\n",
      "13it [00:18,  1.55s/it]\u001b[A"
     ]
    },
    {
     "name": "stdout",
     "output_type": "stream",
     "text": [
      "/home/grierjones/DDCASPT2/delta_ML/BO\n",
      "raddir /home/grierjones/DDCASPT2/delta_ML/BO/1.90\n",
      "/home/grierjones/DDCASPT2/delta_ML/BO/1.90\n"
     ]
    },
    {
     "name": "stderr",
     "output_type": "stream",
     "text": [
      "<string>:392: SyntaxWarning: invalid escape sequence '\\.'\n",
      "<string>:401: SyntaxWarning: invalid escape sequence '\\.'\n",
      "<string>:412: SyntaxWarning: invalid escape sequence '\\d'\n",
      "<string>:707: SyntaxWarning: invalid escape sequence '\\s'\n",
      "\n",
      "14it [00:20,  1.51s/it]\u001b[A"
     ]
    },
    {
     "name": "stdout",
     "output_type": "stream",
     "text": [
      "/home/grierjones/DDCASPT2/delta_ML/BO\n",
      "raddir /home/grierjones/DDCASPT2/delta_ML/BO/2.00\n",
      "/home/grierjones/DDCASPT2/delta_ML/BO/2.00\n"
     ]
    },
    {
     "name": "stderr",
     "output_type": "stream",
     "text": [
      "<string>:392: SyntaxWarning: invalid escape sequence '\\.'\n",
      "<string>:401: SyntaxWarning: invalid escape sequence '\\.'\n",
      "<string>:412: SyntaxWarning: invalid escape sequence '\\d'\n",
      "<string>:707: SyntaxWarning: invalid escape sequence '\\s'\n",
      "\n",
      "15it [00:21,  1.49s/it]\u001b[A"
     ]
    },
    {
     "name": "stdout",
     "output_type": "stream",
     "text": [
      "/home/grierjones/DDCASPT2/delta_ML/BO\n",
      "raddir /home/grierjones/DDCASPT2/delta_ML/BO/2.10\n",
      "/home/grierjones/DDCASPT2/delta_ML/BO/2.10\n"
     ]
    },
    {
     "name": "stderr",
     "output_type": "stream",
     "text": [
      "<string>:392: SyntaxWarning: invalid escape sequence '\\.'\n",
      "<string>:401: SyntaxWarning: invalid escape sequence '\\.'\n",
      "<string>:412: SyntaxWarning: invalid escape sequence '\\d'\n",
      "<string>:707: SyntaxWarning: invalid escape sequence '\\s'\n",
      "\n",
      "16it [00:23,  1.56s/it]\u001b[A"
     ]
    },
    {
     "name": "stdout",
     "output_type": "stream",
     "text": [
      "/home/grierjones/DDCASPT2/delta_ML/BO\n",
      "raddir /home/grierjones/DDCASPT2/delta_ML/BO/2.20\n",
      "/home/grierjones/DDCASPT2/delta_ML/BO/2.20\n"
     ]
    },
    {
     "name": "stderr",
     "output_type": "stream",
     "text": [
      "<string>:392: SyntaxWarning: invalid escape sequence '\\.'\n",
      "<string>:401: SyntaxWarning: invalid escape sequence '\\.'\n",
      "<string>:412: SyntaxWarning: invalid escape sequence '\\d'\n",
      "<string>:707: SyntaxWarning: invalid escape sequence '\\s'\n",
      "\n",
      "17it [00:24,  1.52s/it]\u001b[A"
     ]
    },
    {
     "name": "stdout",
     "output_type": "stream",
     "text": [
      "/home/grierjones/DDCASPT2/delta_ML/BO\n",
      "raddir /home/grierjones/DDCASPT2/delta_ML/BO/2.30\n",
      "/home/grierjones/DDCASPT2/delta_ML/BO/2.30\n"
     ]
    },
    {
     "name": "stderr",
     "output_type": "stream",
     "text": [
      "<string>:392: SyntaxWarning: invalid escape sequence '\\.'\n",
      "<string>:401: SyntaxWarning: invalid escape sequence '\\.'\n",
      "<string>:412: SyntaxWarning: invalid escape sequence '\\d'\n",
      "<string>:707: SyntaxWarning: invalid escape sequence '\\s'\n",
      "\n",
      "18it [00:26,  1.57s/it]\u001b[A"
     ]
    },
    {
     "name": "stdout",
     "output_type": "stream",
     "text": [
      "/home/grierjones/DDCASPT2/delta_ML/BO\n",
      "raddir /home/grierjones/DDCASPT2/delta_ML/BO/2.40\n",
      "/home/grierjones/DDCASPT2/delta_ML/BO/2.40\n"
     ]
    },
    {
     "name": "stderr",
     "output_type": "stream",
     "text": [
      "<string>:392: SyntaxWarning: invalid escape sequence '\\.'\n",
      "<string>:401: SyntaxWarning: invalid escape sequence '\\.'\n",
      "<string>:412: SyntaxWarning: invalid escape sequence '\\d'\n",
      "<string>:707: SyntaxWarning: invalid escape sequence '\\s'\n",
      "\n",
      "19it [00:27,  1.54s/it]\u001b[A"
     ]
    },
    {
     "name": "stdout",
     "output_type": "stream",
     "text": [
      "/home/grierjones/DDCASPT2/delta_ML/BO\n",
      "raddir /home/grierjones/DDCASPT2/delta_ML/BO/2.50\n",
      "/home/grierjones/DDCASPT2/delta_ML/BO/2.50\n"
     ]
    },
    {
     "name": "stderr",
     "output_type": "stream",
     "text": [
      "<string>:392: SyntaxWarning: invalid escape sequence '\\.'\n",
      "<string>:401: SyntaxWarning: invalid escape sequence '\\.'\n",
      "<string>:412: SyntaxWarning: invalid escape sequence '\\d'\n",
      "<string>:707: SyntaxWarning: invalid escape sequence '\\s'\n",
      "\n",
      "20it [00:29,  1.57s/it]\u001b[A"
     ]
    },
    {
     "name": "stdout",
     "output_type": "stream",
     "text": [
      "/home/grierjones/DDCASPT2/delta_ML/BO\n",
      "raddir /home/grierjones/DDCASPT2/delta_ML/BO/2.60\n",
      "/home/grierjones/DDCASPT2/delta_ML/BO/2.60\n"
     ]
    },
    {
     "name": "stderr",
     "output_type": "stream",
     "text": [
      "<string>:392: SyntaxWarning: invalid escape sequence '\\.'\n",
      "<string>:401: SyntaxWarning: invalid escape sequence '\\.'\n",
      "<string>:412: SyntaxWarning: invalid escape sequence '\\d'\n",
      "<string>:707: SyntaxWarning: invalid escape sequence '\\s'\n",
      "\n",
      "21it [00:31,  1.54s/it]\u001b[A"
     ]
    },
    {
     "name": "stdout",
     "output_type": "stream",
     "text": [
      "/home/grierjones/DDCASPT2/delta_ML/BO\n",
      "raddir /home/grierjones/DDCASPT2/delta_ML/BO/2.70\n",
      "/home/grierjones/DDCASPT2/delta_ML/BO/2.70\n"
     ]
    },
    {
     "name": "stderr",
     "output_type": "stream",
     "text": [
      "<string>:392: SyntaxWarning: invalid escape sequence '\\.'\n",
      "<string>:401: SyntaxWarning: invalid escape sequence '\\.'\n",
      "<string>:412: SyntaxWarning: invalid escape sequence '\\d'\n",
      "<string>:707: SyntaxWarning: invalid escape sequence '\\s'\n",
      "\n",
      "22it [00:32,  1.52s/it]\u001b[A"
     ]
    },
    {
     "name": "stdout",
     "output_type": "stream",
     "text": [
      "/home/grierjones/DDCASPT2/delta_ML/BO\n",
      "raddir /home/grierjones/DDCASPT2/delta_ML/BO/2.80\n",
      "/home/grierjones/DDCASPT2/delta_ML/BO/2.80\n"
     ]
    },
    {
     "name": "stderr",
     "output_type": "stream",
     "text": [
      "<string>:392: SyntaxWarning: invalid escape sequence '\\.'\n",
      "<string>:401: SyntaxWarning: invalid escape sequence '\\.'\n",
      "<string>:412: SyntaxWarning: invalid escape sequence '\\d'\n",
      "<string>:707: SyntaxWarning: invalid escape sequence '\\s'\n",
      "\n",
      "23it [00:33,  1.48s/it]\u001b[A\n",
      " 22%|██████████████████████████████████████▉                                                                                                                                        | 8/36 [04:09<14:40, 31.44s/it]"
     ]
    },
    {
     "name": "stdout",
     "output_type": "stream",
     "text": [
      "/home/grierjones/DDCASPT2/delta_ML/BO\n",
      "/home/grierjones/DDCASPT2/delta_ML/BO\n"
     ]
    },
    {
     "name": "stderr",
     "output_type": "stream",
     "text": [
      "\n",
      "0it [00:00, ?it/s]\u001b[A"
     ]
    },
    {
     "name": "stdout",
     "output_type": "stream",
     "text": [
      "raddir /home/grierjones/DDCASPT2/delta_ML/BeBe/0.60\n",
      "/home/grierjones/DDCASPT2/delta_ML/BeBe/0.60\n"
     ]
    },
    {
     "name": "stderr",
     "output_type": "stream",
     "text": [
      "<string>:392: SyntaxWarning: invalid escape sequence '\\.'\n",
      "<string>:401: SyntaxWarning: invalid escape sequence '\\.'\n",
      "<string>:412: SyntaxWarning: invalid escape sequence '\\d'\n",
      "<string>:707: SyntaxWarning: invalid escape sequence '\\s'\n",
      "\n",
      "1it [00:01,  1.23s/it]\u001b[A"
     ]
    },
    {
     "name": "stdout",
     "output_type": "stream",
     "text": [
      "/home/grierjones/DDCASPT2/delta_ML/BeBe\n",
      "raddir /home/grierjones/DDCASPT2/delta_ML/BeBe/0.70\n",
      "/home/grierjones/DDCASPT2/delta_ML/BeBe/0.70\n"
     ]
    },
    {
     "name": "stderr",
     "output_type": "stream",
     "text": [
      "<string>:392: SyntaxWarning: invalid escape sequence '\\.'\n",
      "<string>:401: SyntaxWarning: invalid escape sequence '\\.'\n",
      "<string>:412: SyntaxWarning: invalid escape sequence '\\d'\n",
      "<string>:707: SyntaxWarning: invalid escape sequence '\\s'\n",
      "\n",
      "2it [00:02,  1.23s/it]\u001b[A"
     ]
    },
    {
     "name": "stdout",
     "output_type": "stream",
     "text": [
      "/home/grierjones/DDCASPT2/delta_ML/BeBe\n",
      "raddir /home/grierjones/DDCASPT2/delta_ML/BeBe/0.80\n",
      "/home/grierjones/DDCASPT2/delta_ML/BeBe/0.80\n"
     ]
    },
    {
     "name": "stderr",
     "output_type": "stream",
     "text": [
      "<string>:392: SyntaxWarning: invalid escape sequence '\\.'\n",
      "<string>:401: SyntaxWarning: invalid escape sequence '\\.'\n",
      "<string>:412: SyntaxWarning: invalid escape sequence '\\d'\n",
      "<string>:707: SyntaxWarning: invalid escape sequence '\\s'\n",
      "\n",
      "3it [00:03,  1.23s/it]\u001b[A"
     ]
    },
    {
     "name": "stdout",
     "output_type": "stream",
     "text": [
      "/home/grierjones/DDCASPT2/delta_ML/BeBe\n",
      "raddir /home/grierjones/DDCASPT2/delta_ML/BeBe/0.90\n",
      "/home/grierjones/DDCASPT2/delta_ML/BeBe/0.90\n"
     ]
    },
    {
     "name": "stderr",
     "output_type": "stream",
     "text": [
      "<string>:392: SyntaxWarning: invalid escape sequence '\\.'\n",
      "<string>:401: SyntaxWarning: invalid escape sequence '\\.'\n",
      "<string>:412: SyntaxWarning: invalid escape sequence '\\d'\n",
      "<string>:707: SyntaxWarning: invalid escape sequence '\\s'\n",
      "\n",
      "4it [00:04,  1.23s/it]\u001b[A"
     ]
    },
    {
     "name": "stdout",
     "output_type": "stream",
     "text": [
      "/home/grierjones/DDCASPT2/delta_ML/BeBe\n",
      "raddir /home/grierjones/DDCASPT2/delta_ML/BeBe/1.00\n",
      "/home/grierjones/DDCASPT2/delta_ML/BeBe/1.00\n"
     ]
    },
    {
     "name": "stderr",
     "output_type": "stream",
     "text": [
      "<string>:392: SyntaxWarning: invalid escape sequence '\\.'\n",
      "<string>:401: SyntaxWarning: invalid escape sequence '\\.'\n",
      "<string>:412: SyntaxWarning: invalid escape sequence '\\d'\n",
      "<string>:707: SyntaxWarning: invalid escape sequence '\\s'\n",
      "\n",
      "5it [00:06,  1.23s/it]\u001b[A"
     ]
    },
    {
     "name": "stdout",
     "output_type": "stream",
     "text": [
      "/home/grierjones/DDCASPT2/delta_ML/BeBe\n",
      "raddir /home/grierjones/DDCASPT2/delta_ML/BeBe/1.10\n",
      "/home/grierjones/DDCASPT2/delta_ML/BeBe/1.10\n"
     ]
    },
    {
     "name": "stderr",
     "output_type": "stream",
     "text": [
      "<string>:392: SyntaxWarning: invalid escape sequence '\\.'\n",
      "<string>:401: SyntaxWarning: invalid escape sequence '\\.'\n",
      "<string>:412: SyntaxWarning: invalid escape sequence '\\d'\n",
      "<string>:707: SyntaxWarning: invalid escape sequence '\\s'\n",
      "\n",
      "6it [00:07,  1.33s/it]\u001b[A"
     ]
    },
    {
     "name": "stdout",
     "output_type": "stream",
     "text": [
      "/home/grierjones/DDCASPT2/delta_ML/BeBe\n",
      "raddir /home/grierjones/DDCASPT2/delta_ML/BeBe/1.20\n",
      "/home/grierjones/DDCASPT2/delta_ML/BeBe/1.20\n"
     ]
    },
    {
     "name": "stderr",
     "output_type": "stream",
     "text": [
      "<string>:392: SyntaxWarning: invalid escape sequence '\\.'\n",
      "<string>:401: SyntaxWarning: invalid escape sequence '\\.'\n",
      "<string>:412: SyntaxWarning: invalid escape sequence '\\d'\n",
      "<string>:707: SyntaxWarning: invalid escape sequence '\\s'\n",
      "\n",
      "7it [00:08,  1.30s/it]\u001b[A"
     ]
    },
    {
     "name": "stdout",
     "output_type": "stream",
     "text": [
      "/home/grierjones/DDCASPT2/delta_ML/BeBe\n",
      "raddir /home/grierjones/DDCASPT2/delta_ML/BeBe/1.30\n",
      "/home/grierjones/DDCASPT2/delta_ML/BeBe/1.30\n"
     ]
    },
    {
     "name": "stderr",
     "output_type": "stream",
     "text": [
      "<string>:392: SyntaxWarning: invalid escape sequence '\\.'\n",
      "<string>:401: SyntaxWarning: invalid escape sequence '\\.'\n",
      "<string>:412: SyntaxWarning: invalid escape sequence '\\d'\n",
      "<string>:707: SyntaxWarning: invalid escape sequence '\\s'\n",
      "\n",
      "8it [00:10,  1.28s/it]\u001b[A"
     ]
    },
    {
     "name": "stdout",
     "output_type": "stream",
     "text": [
      "/home/grierjones/DDCASPT2/delta_ML/BeBe\n",
      "raddir /home/grierjones/DDCASPT2/delta_ML/BeBe/1.40\n",
      "/home/grierjones/DDCASPT2/delta_ML/BeBe/1.40\n"
     ]
    },
    {
     "name": "stderr",
     "output_type": "stream",
     "text": [
      "<string>:392: SyntaxWarning: invalid escape sequence '\\.'\n",
      "<string>:401: SyntaxWarning: invalid escape sequence '\\.'\n",
      "<string>:412: SyntaxWarning: invalid escape sequence '\\d'\n",
      "<string>:707: SyntaxWarning: invalid escape sequence '\\s'\n",
      "\n",
      "9it [00:11,  1.27s/it]\u001b[A"
     ]
    },
    {
     "name": "stdout",
     "output_type": "stream",
     "text": [
      "/home/grierjones/DDCASPT2/delta_ML/BeBe\n",
      "raddir /home/grierjones/DDCASPT2/delta_ML/BeBe/1.50\n",
      "/home/grierjones/DDCASPT2/delta_ML/BeBe/1.50\n"
     ]
    },
    {
     "name": "stderr",
     "output_type": "stream",
     "text": [
      "<string>:392: SyntaxWarning: invalid escape sequence '\\.'\n",
      "<string>:401: SyntaxWarning: invalid escape sequence '\\.'\n",
      "<string>:412: SyntaxWarning: invalid escape sequence '\\d'\n",
      "<string>:707: SyntaxWarning: invalid escape sequence '\\s'\n",
      "\n",
      "10it [00:12,  1.26s/it]\u001b[A"
     ]
    },
    {
     "name": "stdout",
     "output_type": "stream",
     "text": [
      "/home/grierjones/DDCASPT2/delta_ML/BeBe\n",
      "raddir /home/grierjones/DDCASPT2/delta_ML/BeBe/1.60\n",
      "/home/grierjones/DDCASPT2/delta_ML/BeBe/1.60\n"
     ]
    },
    {
     "name": "stderr",
     "output_type": "stream",
     "text": [
      "<string>:392: SyntaxWarning: invalid escape sequence '\\.'\n",
      "<string>:401: SyntaxWarning: invalid escape sequence '\\.'\n",
      "<string>:412: SyntaxWarning: invalid escape sequence '\\d'\n",
      "<string>:707: SyntaxWarning: invalid escape sequence '\\s'\n",
      "\n",
      "11it [00:13,  1.26s/it]\u001b[A"
     ]
    },
    {
     "name": "stdout",
     "output_type": "stream",
     "text": [
      "/home/grierjones/DDCASPT2/delta_ML/BeBe\n",
      "raddir /home/grierjones/DDCASPT2/delta_ML/BeBe/1.70\n",
      "/home/grierjones/DDCASPT2/delta_ML/BeBe/1.70\n"
     ]
    },
    {
     "name": "stderr",
     "output_type": "stream",
     "text": [
      "<string>:392: SyntaxWarning: invalid escape sequence '\\.'\n",
      "<string>:401: SyntaxWarning: invalid escape sequence '\\.'\n",
      "<string>:412: SyntaxWarning: invalid escape sequence '\\d'\n",
      "<string>:707: SyntaxWarning: invalid escape sequence '\\s'\n",
      "\n",
      "12it [00:15,  1.25s/it]\u001b[A"
     ]
    },
    {
     "name": "stdout",
     "output_type": "stream",
     "text": [
      "/home/grierjones/DDCASPT2/delta_ML/BeBe\n",
      "raddir /home/grierjones/DDCASPT2/delta_ML/BeBe/1.80\n",
      "/home/grierjones/DDCASPT2/delta_ML/BeBe/1.80\n"
     ]
    },
    {
     "name": "stderr",
     "output_type": "stream",
     "text": [
      "<string>:392: SyntaxWarning: invalid escape sequence '\\.'\n",
      "<string>:401: SyntaxWarning: invalid escape sequence '\\.'\n",
      "<string>:412: SyntaxWarning: invalid escape sequence '\\d'\n",
      "<string>:707: SyntaxWarning: invalid escape sequence '\\s'\n",
      "\n",
      "13it [00:16,  1.25s/it]\u001b[A"
     ]
    },
    {
     "name": "stdout",
     "output_type": "stream",
     "text": [
      "/home/grierjones/DDCASPT2/delta_ML/BeBe\n",
      "raddir /home/grierjones/DDCASPT2/delta_ML/BeBe/1.90\n",
      "/home/grierjones/DDCASPT2/delta_ML/BeBe/1.90\n"
     ]
    },
    {
     "name": "stderr",
     "output_type": "stream",
     "text": [
      "<string>:392: SyntaxWarning: invalid escape sequence '\\.'\n",
      "<string>:401: SyntaxWarning: invalid escape sequence '\\.'\n",
      "<string>:412: SyntaxWarning: invalid escape sequence '\\d'\n",
      "<string>:707: SyntaxWarning: invalid escape sequence '\\s'\n",
      "\n",
      "14it [00:17,  1.25s/it]\u001b[A"
     ]
    },
    {
     "name": "stdout",
     "output_type": "stream",
     "text": [
      "/home/grierjones/DDCASPT2/delta_ML/BeBe\n",
      "raddir /home/grierjones/DDCASPT2/delta_ML/BeBe/2.00\n",
      "/home/grierjones/DDCASPT2/delta_ML/BeBe/2.00\n"
     ]
    },
    {
     "name": "stderr",
     "output_type": "stream",
     "text": [
      "<string>:392: SyntaxWarning: invalid escape sequence '\\.'\n",
      "<string>:401: SyntaxWarning: invalid escape sequence '\\.'\n",
      "<string>:412: SyntaxWarning: invalid escape sequence '\\d'\n",
      "<string>:707: SyntaxWarning: invalid escape sequence '\\s'\n",
      "\n",
      "15it [00:18,  1.24s/it]\u001b[A"
     ]
    },
    {
     "name": "stdout",
     "output_type": "stream",
     "text": [
      "/home/grierjones/DDCASPT2/delta_ML/BeBe\n",
      "raddir /home/grierjones/DDCASPT2/delta_ML/BeBe/2.10\n",
      "/home/grierjones/DDCASPT2/delta_ML/BeBe/2.10\n"
     ]
    },
    {
     "name": "stderr",
     "output_type": "stream",
     "text": [
      "<string>:392: SyntaxWarning: invalid escape sequence '\\.'\n",
      "<string>:401: SyntaxWarning: invalid escape sequence '\\.'\n",
      "<string>:412: SyntaxWarning: invalid escape sequence '\\d'\n",
      "<string>:707: SyntaxWarning: invalid escape sequence '\\s'\n",
      "\n",
      "16it [00:20,  1.25s/it]\u001b[A"
     ]
    },
    {
     "name": "stdout",
     "output_type": "stream",
     "text": [
      "/home/grierjones/DDCASPT2/delta_ML/BeBe\n",
      "raddir /home/grierjones/DDCASPT2/delta_ML/BeBe/2.20\n",
      "/home/grierjones/DDCASPT2/delta_ML/BeBe/2.20\n"
     ]
    },
    {
     "name": "stderr",
     "output_type": "stream",
     "text": [
      "<string>:392: SyntaxWarning: invalid escape sequence '\\.'\n",
      "<string>:401: SyntaxWarning: invalid escape sequence '\\.'\n",
      "<string>:412: SyntaxWarning: invalid escape sequence '\\d'\n",
      "<string>:707: SyntaxWarning: invalid escape sequence '\\s'\n",
      "\n",
      "17it [00:21,  1.24s/it]\u001b[A"
     ]
    },
    {
     "name": "stdout",
     "output_type": "stream",
     "text": [
      "/home/grierjones/DDCASPT2/delta_ML/BeBe\n",
      "raddir /home/grierjones/DDCASPT2/delta_ML/BeBe/2.30\n",
      "/home/grierjones/DDCASPT2/delta_ML/BeBe/2.30\n"
     ]
    },
    {
     "name": "stderr",
     "output_type": "stream",
     "text": [
      "<string>:392: SyntaxWarning: invalid escape sequence '\\.'\n",
      "<string>:401: SyntaxWarning: invalid escape sequence '\\.'\n",
      "<string>:412: SyntaxWarning: invalid escape sequence '\\d'\n",
      "<string>:707: SyntaxWarning: invalid escape sequence '\\s'\n",
      "\n",
      "18it [00:22,  1.24s/it]\u001b[A"
     ]
    },
    {
     "name": "stdout",
     "output_type": "stream",
     "text": [
      "/home/grierjones/DDCASPT2/delta_ML/BeBe\n",
      "raddir /home/grierjones/DDCASPT2/delta_ML/BeBe/2.40\n",
      "/home/grierjones/DDCASPT2/delta_ML/BeBe/2.40\n"
     ]
    },
    {
     "name": "stderr",
     "output_type": "stream",
     "text": [
      "<string>:392: SyntaxWarning: invalid escape sequence '\\.'\n",
      "<string>:401: SyntaxWarning: invalid escape sequence '\\.'\n",
      "<string>:412: SyntaxWarning: invalid escape sequence '\\d'\n",
      "<string>:707: SyntaxWarning: invalid escape sequence '\\s'\n",
      "\n",
      "19it [00:23,  1.24s/it]\u001b[A"
     ]
    },
    {
     "name": "stdout",
     "output_type": "stream",
     "text": [
      "/home/grierjones/DDCASPT2/delta_ML/BeBe\n",
      "raddir /home/grierjones/DDCASPT2/delta_ML/BeBe/2.50\n",
      "/home/grierjones/DDCASPT2/delta_ML/BeBe/2.50\n"
     ]
    },
    {
     "name": "stderr",
     "output_type": "stream",
     "text": [
      "<string>:392: SyntaxWarning: invalid escape sequence '\\.'\n",
      "<string>:401: SyntaxWarning: invalid escape sequence '\\.'\n",
      "<string>:412: SyntaxWarning: invalid escape sequence '\\d'\n",
      "<string>:707: SyntaxWarning: invalid escape sequence '\\s'\n",
      "\n",
      "20it [00:25,  1.24s/it]\u001b[A"
     ]
    },
    {
     "name": "stdout",
     "output_type": "stream",
     "text": [
      "/home/grierjones/DDCASPT2/delta_ML/BeBe\n",
      "raddir /home/grierjones/DDCASPT2/delta_ML/BeBe/2.60\n",
      "/home/grierjones/DDCASPT2/delta_ML/BeBe/2.60\n"
     ]
    },
    {
     "name": "stderr",
     "output_type": "stream",
     "text": [
      "<string>:392: SyntaxWarning: invalid escape sequence '\\.'\n",
      "<string>:401: SyntaxWarning: invalid escape sequence '\\.'\n",
      "<string>:412: SyntaxWarning: invalid escape sequence '\\d'\n",
      "<string>:707: SyntaxWarning: invalid escape sequence '\\s'\n",
      "\n",
      "21it [00:26,  1.24s/it]\u001b[A"
     ]
    },
    {
     "name": "stdout",
     "output_type": "stream",
     "text": [
      "/home/grierjones/DDCASPT2/delta_ML/BeBe\n",
      "raddir /home/grierjones/DDCASPT2/delta_ML/BeBe/2.70\n",
      "/home/grierjones/DDCASPT2/delta_ML/BeBe/2.70\n"
     ]
    },
    {
     "name": "stderr",
     "output_type": "stream",
     "text": [
      "<string>:392: SyntaxWarning: invalid escape sequence '\\.'\n",
      "<string>:401: SyntaxWarning: invalid escape sequence '\\.'\n",
      "<string>:412: SyntaxWarning: invalid escape sequence '\\d'\n",
      "<string>:707: SyntaxWarning: invalid escape sequence '\\s'\n",
      "\n",
      "22it [00:27,  1.23s/it]\u001b[A"
     ]
    },
    {
     "name": "stdout",
     "output_type": "stream",
     "text": [
      "/home/grierjones/DDCASPT2/delta_ML/BeBe\n",
      "raddir /home/grierjones/DDCASPT2/delta_ML/BeBe/2.80\n",
      "/home/grierjones/DDCASPT2/delta_ML/BeBe/2.80\n"
     ]
    },
    {
     "name": "stderr",
     "output_type": "stream",
     "text": [
      "<string>:392: SyntaxWarning: invalid escape sequence '\\.'\n",
      "<string>:401: SyntaxWarning: invalid escape sequence '\\.'\n",
      "<string>:412: SyntaxWarning: invalid escape sequence '\\d'\n",
      "<string>:707: SyntaxWarning: invalid escape sequence '\\s'\n",
      "\n",
      "23it [00:28,  1.25s/it]\u001b[A\n",
      " 25%|███████████████████████████████████████████▊                                                                                                                                   | 9/36 [04:37<13:46, 30.60s/it]"
     ]
    },
    {
     "name": "stdout",
     "output_type": "stream",
     "text": [
      "/home/grierjones/DDCASPT2/delta_ML/BeBe\n",
      "/home/grierjones/DDCASPT2/delta_ML/BeBe\n"
     ]
    },
    {
     "name": "stderr",
     "output_type": "stream",
     "text": [
      "\n",
      "0it [00:00, ?it/s]\u001b[A"
     ]
    },
    {
     "name": "stdout",
     "output_type": "stream",
     "text": [
      "raddir /home/grierjones/DDCASPT2/delta_ML/BeC/0.60\n",
      "/home/grierjones/DDCASPT2/delta_ML/BeC/0.60\n"
     ]
    },
    {
     "name": "stderr",
     "output_type": "stream",
     "text": [
      "<string>:392: SyntaxWarning: invalid escape sequence '\\.'\n",
      "<string>:401: SyntaxWarning: invalid escape sequence '\\.'\n",
      "<string>:412: SyntaxWarning: invalid escape sequence '\\d'\n",
      "<string>:707: SyntaxWarning: invalid escape sequence '\\s'\n",
      "\n",
      "1it [00:01,  1.27s/it]\u001b[A"
     ]
    },
    {
     "name": "stdout",
     "output_type": "stream",
     "text": [
      "/home/grierjones/DDCASPT2/delta_ML/BeC\n",
      "raddir /home/grierjones/DDCASPT2/delta_ML/BeC/0.70\n",
      "/home/grierjones/DDCASPT2/delta_ML/BeC/0.70\n"
     ]
    },
    {
     "name": "stderr",
     "output_type": "stream",
     "text": [
      "<string>:392: SyntaxWarning: invalid escape sequence '\\.'\n",
      "<string>:401: SyntaxWarning: invalid escape sequence '\\.'\n",
      "<string>:412: SyntaxWarning: invalid escape sequence '\\d'\n",
      "<string>:707: SyntaxWarning: invalid escape sequence '\\s'\n",
      "\n",
      "2it [00:02,  1.27s/it]\u001b[A"
     ]
    },
    {
     "name": "stdout",
     "output_type": "stream",
     "text": [
      "/home/grierjones/DDCASPT2/delta_ML/BeC\n",
      "raddir /home/grierjones/DDCASPT2/delta_ML/BeC/0.80\n",
      "/home/grierjones/DDCASPT2/delta_ML/BeC/0.80\n"
     ]
    },
    {
     "name": "stderr",
     "output_type": "stream",
     "text": [
      "<string>:392: SyntaxWarning: invalid escape sequence '\\.'\n",
      "<string>:401: SyntaxWarning: invalid escape sequence '\\.'\n",
      "<string>:412: SyntaxWarning: invalid escape sequence '\\d'\n",
      "<string>:707: SyntaxWarning: invalid escape sequence '\\s'\n",
      "\n",
      "3it [00:03,  1.27s/it]\u001b[A"
     ]
    },
    {
     "name": "stdout",
     "output_type": "stream",
     "text": [
      "/home/grierjones/DDCASPT2/delta_ML/BeC\n",
      "raddir /home/grierjones/DDCASPT2/delta_ML/BeC/0.90\n",
      "/home/grierjones/DDCASPT2/delta_ML/BeC/0.90\n"
     ]
    },
    {
     "name": "stderr",
     "output_type": "stream",
     "text": [
      "<string>:392: SyntaxWarning: invalid escape sequence '\\.'\n",
      "<string>:401: SyntaxWarning: invalid escape sequence '\\.'\n",
      "<string>:412: SyntaxWarning: invalid escape sequence '\\d'\n",
      "<string>:707: SyntaxWarning: invalid escape sequence '\\s'\n",
      "\n",
      "4it [00:05,  1.26s/it]\u001b[A"
     ]
    },
    {
     "name": "stdout",
     "output_type": "stream",
     "text": [
      "/home/grierjones/DDCASPT2/delta_ML/BeC\n",
      "raddir /home/grierjones/DDCASPT2/delta_ML/BeC/1.00\n",
      "/home/grierjones/DDCASPT2/delta_ML/BeC/1.00\n"
     ]
    },
    {
     "name": "stderr",
     "output_type": "stream",
     "text": [
      "<string>:392: SyntaxWarning: invalid escape sequence '\\.'\n",
      "<string>:401: SyntaxWarning: invalid escape sequence '\\.'\n",
      "<string>:412: SyntaxWarning: invalid escape sequence '\\d'\n",
      "<string>:707: SyntaxWarning: invalid escape sequence '\\s'\n",
      "\n",
      "5it [00:06,  1.27s/it]\u001b[A"
     ]
    },
    {
     "name": "stdout",
     "output_type": "stream",
     "text": [
      "/home/grierjones/DDCASPT2/delta_ML/BeC\n",
      "raddir /home/grierjones/DDCASPT2/delta_ML/BeC/1.10\n",
      "/home/grierjones/DDCASPT2/delta_ML/BeC/1.10\n"
     ]
    },
    {
     "name": "stderr",
     "output_type": "stream",
     "text": [
      "<string>:392: SyntaxWarning: invalid escape sequence '\\.'\n",
      "<string>:401: SyntaxWarning: invalid escape sequence '\\.'\n",
      "<string>:412: SyntaxWarning: invalid escape sequence '\\d'\n",
      "<string>:707: SyntaxWarning: invalid escape sequence '\\s'\n",
      "\n",
      "6it [00:07,  1.28s/it]\u001b[A"
     ]
    },
    {
     "name": "stdout",
     "output_type": "stream",
     "text": [
      "/home/grierjones/DDCASPT2/delta_ML/BeC\n",
      "raddir /home/grierjones/DDCASPT2/delta_ML/BeC/1.20\n",
      "/home/grierjones/DDCASPT2/delta_ML/BeC/1.20\n"
     ]
    },
    {
     "name": "stderr",
     "output_type": "stream",
     "text": [
      "<string>:392: SyntaxWarning: invalid escape sequence '\\.'\n",
      "<string>:401: SyntaxWarning: invalid escape sequence '\\.'\n",
      "<string>:412: SyntaxWarning: invalid escape sequence '\\d'\n",
      "<string>:707: SyntaxWarning: invalid escape sequence '\\s'\n",
      "\n",
      "7it [00:08,  1.29s/it]\u001b[A"
     ]
    },
    {
     "name": "stdout",
     "output_type": "stream",
     "text": [
      "/home/grierjones/DDCASPT2/delta_ML/BeC\n",
      "raddir /home/grierjones/DDCASPT2/delta_ML/BeC/1.30\n",
      "/home/grierjones/DDCASPT2/delta_ML/BeC/1.30\n"
     ]
    },
    {
     "name": "stderr",
     "output_type": "stream",
     "text": [
      "<string>:392: SyntaxWarning: invalid escape sequence '\\.'\n",
      "<string>:401: SyntaxWarning: invalid escape sequence '\\.'\n",
      "<string>:412: SyntaxWarning: invalid escape sequence '\\d'\n",
      "<string>:707: SyntaxWarning: invalid escape sequence '\\s'\n",
      "\n",
      "8it [00:10,  1.29s/it]\u001b[A"
     ]
    },
    {
     "name": "stdout",
     "output_type": "stream",
     "text": [
      "/home/grierjones/DDCASPT2/delta_ML/BeC\n",
      "raddir /home/grierjones/DDCASPT2/delta_ML/BeC/1.40\n",
      "/home/grierjones/DDCASPT2/delta_ML/BeC/1.40\n"
     ]
    },
    {
     "name": "stderr",
     "output_type": "stream",
     "text": [
      "<string>:392: SyntaxWarning: invalid escape sequence '\\.'\n",
      "<string>:401: SyntaxWarning: invalid escape sequence '\\.'\n",
      "<string>:412: SyntaxWarning: invalid escape sequence '\\d'\n",
      "<string>:707: SyntaxWarning: invalid escape sequence '\\s'\n",
      "\n",
      "9it [00:11,  1.29s/it]\u001b[A"
     ]
    },
    {
     "name": "stdout",
     "output_type": "stream",
     "text": [
      "/home/grierjones/DDCASPT2/delta_ML/BeC\n",
      "raddir /home/grierjones/DDCASPT2/delta_ML/BeC/1.50\n",
      "/home/grierjones/DDCASPT2/delta_ML/BeC/1.50\n"
     ]
    },
    {
     "name": "stderr",
     "output_type": "stream",
     "text": [
      "<string>:392: SyntaxWarning: invalid escape sequence '\\.'\n",
      "<string>:401: SyntaxWarning: invalid escape sequence '\\.'\n",
      "<string>:412: SyntaxWarning: invalid escape sequence '\\d'\n",
      "<string>:707: SyntaxWarning: invalid escape sequence '\\s'\n",
      "\n",
      "10it [00:12,  1.30s/it]\u001b[A"
     ]
    },
    {
     "name": "stdout",
     "output_type": "stream",
     "text": [
      "/home/grierjones/DDCASPT2/delta_ML/BeC\n",
      "raddir /home/grierjones/DDCASPT2/delta_ML/BeC/1.60\n",
      "/home/grierjones/DDCASPT2/delta_ML/BeC/1.60\n"
     ]
    },
    {
     "name": "stderr",
     "output_type": "stream",
     "text": [
      "<string>:392: SyntaxWarning: invalid escape sequence '\\.'\n",
      "<string>:401: SyntaxWarning: invalid escape sequence '\\.'\n",
      "<string>:412: SyntaxWarning: invalid escape sequence '\\d'\n",
      "<string>:707: SyntaxWarning: invalid escape sequence '\\s'\n",
      "\n",
      "11it [00:14,  1.29s/it]\u001b[A"
     ]
    },
    {
     "name": "stdout",
     "output_type": "stream",
     "text": [
      "/home/grierjones/DDCASPT2/delta_ML/BeC\n",
      "raddir /home/grierjones/DDCASPT2/delta_ML/BeC/1.70\n",
      "/home/grierjones/DDCASPT2/delta_ML/BeC/1.70\n"
     ]
    },
    {
     "name": "stderr",
     "output_type": "stream",
     "text": [
      "<string>:392: SyntaxWarning: invalid escape sequence '\\.'\n",
      "<string>:401: SyntaxWarning: invalid escape sequence '\\.'\n",
      "<string>:412: SyntaxWarning: invalid escape sequence '\\d'\n",
      "<string>:707: SyntaxWarning: invalid escape sequence '\\s'\n",
      "\n",
      "12it [00:15,  1.30s/it]\u001b[A"
     ]
    },
    {
     "name": "stdout",
     "output_type": "stream",
     "text": [
      "/home/grierjones/DDCASPT2/delta_ML/BeC\n",
      "raddir /home/grierjones/DDCASPT2/delta_ML/BeC/1.80\n",
      "/home/grierjones/DDCASPT2/delta_ML/BeC/1.80\n"
     ]
    },
    {
     "name": "stderr",
     "output_type": "stream",
     "text": [
      "<string>:392: SyntaxWarning: invalid escape sequence '\\.'\n",
      "<string>:401: SyntaxWarning: invalid escape sequence '\\.'\n",
      "<string>:412: SyntaxWarning: invalid escape sequence '\\d'\n",
      "<string>:707: SyntaxWarning: invalid escape sequence '\\s'\n",
      "\n",
      "13it [00:16,  1.30s/it]\u001b[A"
     ]
    },
    {
     "name": "stdout",
     "output_type": "stream",
     "text": [
      "/home/grierjones/DDCASPT2/delta_ML/BeC\n",
      "raddir /home/grierjones/DDCASPT2/delta_ML/BeC/1.90\n",
      "/home/grierjones/DDCASPT2/delta_ML/BeC/1.90\n"
     ]
    },
    {
     "name": "stderr",
     "output_type": "stream",
     "text": [
      "<string>:392: SyntaxWarning: invalid escape sequence '\\.'\n",
      "<string>:401: SyntaxWarning: invalid escape sequence '\\.'\n",
      "<string>:412: SyntaxWarning: invalid escape sequence '\\d'\n",
      "<string>:707: SyntaxWarning: invalid escape sequence '\\s'\n",
      "\n",
      "14it [00:18,  1.30s/it]\u001b[A"
     ]
    },
    {
     "name": "stdout",
     "output_type": "stream",
     "text": [
      "/home/grierjones/DDCASPT2/delta_ML/BeC\n",
      "raddir /home/grierjones/DDCASPT2/delta_ML/BeC/2.00\n",
      "/home/grierjones/DDCASPT2/delta_ML/BeC/2.00\n"
     ]
    },
    {
     "name": "stderr",
     "output_type": "stream",
     "text": [
      "<string>:392: SyntaxWarning: invalid escape sequence '\\.'\n",
      "<string>:401: SyntaxWarning: invalid escape sequence '\\.'\n",
      "<string>:412: SyntaxWarning: invalid escape sequence '\\d'\n",
      "<string>:707: SyntaxWarning: invalid escape sequence '\\s'\n",
      "\n",
      "15it [00:19,  1.30s/it]\u001b[A"
     ]
    },
    {
     "name": "stdout",
     "output_type": "stream",
     "text": [
      "/home/grierjones/DDCASPT2/delta_ML/BeC\n",
      "raddir /home/grierjones/DDCASPT2/delta_ML/BeC/2.10\n",
      "/home/grierjones/DDCASPT2/delta_ML/BeC/2.10\n"
     ]
    },
    {
     "name": "stderr",
     "output_type": "stream",
     "text": [
      "<string>:392: SyntaxWarning: invalid escape sequence '\\.'\n",
      "<string>:401: SyntaxWarning: invalid escape sequence '\\.'\n",
      "<string>:412: SyntaxWarning: invalid escape sequence '\\d'\n",
      "<string>:707: SyntaxWarning: invalid escape sequence '\\s'\n",
      "\n",
      "16it [00:20,  1.30s/it]\u001b[A"
     ]
    },
    {
     "name": "stdout",
     "output_type": "stream",
     "text": [
      "/home/grierjones/DDCASPT2/delta_ML/BeC\n",
      "raddir /home/grierjones/DDCASPT2/delta_ML/BeC/2.20\n",
      "/home/grierjones/DDCASPT2/delta_ML/BeC/2.20\n"
     ]
    },
    {
     "name": "stderr",
     "output_type": "stream",
     "text": [
      "<string>:392: SyntaxWarning: invalid escape sequence '\\.'\n",
      "<string>:401: SyntaxWarning: invalid escape sequence '\\.'\n",
      "<string>:412: SyntaxWarning: invalid escape sequence '\\d'\n",
      "<string>:707: SyntaxWarning: invalid escape sequence '\\s'\n",
      "\n",
      "17it [00:21,  1.30s/it]\u001b[A"
     ]
    },
    {
     "name": "stdout",
     "output_type": "stream",
     "text": [
      "/home/grierjones/DDCASPT2/delta_ML/BeC\n",
      "raddir /home/grierjones/DDCASPT2/delta_ML/BeC/2.30\n",
      "/home/grierjones/DDCASPT2/delta_ML/BeC/2.30\n"
     ]
    },
    {
     "name": "stderr",
     "output_type": "stream",
     "text": [
      "<string>:392: SyntaxWarning: invalid escape sequence '\\.'\n",
      "<string>:401: SyntaxWarning: invalid escape sequence '\\.'\n",
      "<string>:412: SyntaxWarning: invalid escape sequence '\\d'\n",
      "<string>:707: SyntaxWarning: invalid escape sequence '\\s'\n",
      "\n",
      "18it [00:23,  1.31s/it]\u001b[A"
     ]
    },
    {
     "name": "stdout",
     "output_type": "stream",
     "text": [
      "/home/grierjones/DDCASPT2/delta_ML/BeC\n",
      "raddir /home/grierjones/DDCASPT2/delta_ML/BeC/2.40\n",
      "/home/grierjones/DDCASPT2/delta_ML/BeC/2.40\n"
     ]
    },
    {
     "name": "stderr",
     "output_type": "stream",
     "text": [
      "<string>:392: SyntaxWarning: invalid escape sequence '\\.'\n",
      "<string>:401: SyntaxWarning: invalid escape sequence '\\.'\n",
      "<string>:412: SyntaxWarning: invalid escape sequence '\\d'\n",
      "<string>:707: SyntaxWarning: invalid escape sequence '\\s'\n",
      "\n",
      "19it [00:24,  1.32s/it]\u001b[A"
     ]
    },
    {
     "name": "stdout",
     "output_type": "stream",
     "text": [
      "/home/grierjones/DDCASPT2/delta_ML/BeC\n",
      "raddir /home/grierjones/DDCASPT2/delta_ML/BeC/2.50\n",
      "/home/grierjones/DDCASPT2/delta_ML/BeC/2.50\n"
     ]
    },
    {
     "name": "stderr",
     "output_type": "stream",
     "text": [
      "<string>:392: SyntaxWarning: invalid escape sequence '\\.'\n",
      "<string>:401: SyntaxWarning: invalid escape sequence '\\.'\n",
      "<string>:412: SyntaxWarning: invalid escape sequence '\\d'\n",
      "<string>:707: SyntaxWarning: invalid escape sequence '\\s'\n",
      "\n",
      "20it [00:25,  1.32s/it]\u001b[A"
     ]
    },
    {
     "name": "stdout",
     "output_type": "stream",
     "text": [
      "/home/grierjones/DDCASPT2/delta_ML/BeC\n",
      "raddir /home/grierjones/DDCASPT2/delta_ML/BeC/2.60\n",
      "/home/grierjones/DDCASPT2/delta_ML/BeC/2.60\n"
     ]
    },
    {
     "name": "stderr",
     "output_type": "stream",
     "text": [
      "<string>:392: SyntaxWarning: invalid escape sequence '\\.'\n",
      "<string>:401: SyntaxWarning: invalid escape sequence '\\.'\n",
      "<string>:412: SyntaxWarning: invalid escape sequence '\\d'\n",
      "<string>:707: SyntaxWarning: invalid escape sequence '\\s'\n",
      "\n",
      "21it [00:27,  1.31s/it]\u001b[A"
     ]
    },
    {
     "name": "stdout",
     "output_type": "stream",
     "text": [
      "/home/grierjones/DDCASPT2/delta_ML/BeC\n",
      "raddir /home/grierjones/DDCASPT2/delta_ML/BeC/2.70\n",
      "/home/grierjones/DDCASPT2/delta_ML/BeC/2.70\n"
     ]
    },
    {
     "name": "stderr",
     "output_type": "stream",
     "text": [
      "<string>:392: SyntaxWarning: invalid escape sequence '\\.'\n",
      "<string>:401: SyntaxWarning: invalid escape sequence '\\.'\n",
      "<string>:412: SyntaxWarning: invalid escape sequence '\\d'\n",
      "<string>:707: SyntaxWarning: invalid escape sequence '\\s'\n",
      "\n",
      "22it [00:28,  1.31s/it]\u001b[A"
     ]
    },
    {
     "name": "stdout",
     "output_type": "stream",
     "text": [
      "/home/grierjones/DDCASPT2/delta_ML/BeC\n",
      "raddir /home/grierjones/DDCASPT2/delta_ML/BeC/2.80\n",
      "/home/grierjones/DDCASPT2/delta_ML/BeC/2.80\n"
     ]
    },
    {
     "name": "stderr",
     "output_type": "stream",
     "text": [
      "<string>:392: SyntaxWarning: invalid escape sequence '\\.'\n",
      "<string>:401: SyntaxWarning: invalid escape sequence '\\.'\n",
      "<string>:412: SyntaxWarning: invalid escape sequence '\\d'\n",
      "<string>:707: SyntaxWarning: invalid escape sequence '\\s'\n",
      "\n",
      "23it [00:29,  1.30s/it]\u001b[A\n",
      " 28%|████████████████████████████████████████████████▎                                                                                                                             | 10/36 [05:07<13:09, 30.38s/it]"
     ]
    },
    {
     "name": "stdout",
     "output_type": "stream",
     "text": [
      "/home/grierjones/DDCASPT2/delta_ML/BeC\n",
      "/home/grierjones/DDCASPT2/delta_ML/BeC\n"
     ]
    },
    {
     "name": "stderr",
     "output_type": "stream",
     "text": [
      "\n",
      "0it [00:00, ?it/s]\u001b[A"
     ]
    },
    {
     "name": "stdout",
     "output_type": "stream",
     "text": [
      "raddir /home/grierjones/DDCASPT2/delta_ML/BeF/0.60\n",
      "/home/grierjones/DDCASPT2/delta_ML/BeF/0.60\n"
     ]
    },
    {
     "name": "stderr",
     "output_type": "stream",
     "text": [
      "<string>:392: SyntaxWarning: invalid escape sequence '\\.'\n",
      "<string>:401: SyntaxWarning: invalid escape sequence '\\.'\n",
      "<string>:412: SyntaxWarning: invalid escape sequence '\\d'\n",
      "<string>:707: SyntaxWarning: invalid escape sequence '\\s'\n",
      "\n",
      "1it [00:01,  1.40s/it]\u001b[A"
     ]
    },
    {
     "name": "stdout",
     "output_type": "stream",
     "text": [
      "/home/grierjones/DDCASPT2/delta_ML/BeF\n",
      "raddir /home/grierjones/DDCASPT2/delta_ML/BeF/0.70\n",
      "/home/grierjones/DDCASPT2/delta_ML/BeF/0.70\n"
     ]
    },
    {
     "name": "stderr",
     "output_type": "stream",
     "text": [
      "<string>:392: SyntaxWarning: invalid escape sequence '\\.'\n",
      "<string>:401: SyntaxWarning: invalid escape sequence '\\.'\n",
      "<string>:412: SyntaxWarning: invalid escape sequence '\\d'\n",
      "<string>:707: SyntaxWarning: invalid escape sequence '\\s'\n",
      "\n",
      "2it [00:02,  1.35s/it]\u001b[A"
     ]
    },
    {
     "name": "stdout",
     "output_type": "stream",
     "text": [
      "/home/grierjones/DDCASPT2/delta_ML/BeF\n",
      "raddir /home/grierjones/DDCASPT2/delta_ML/BeF/0.80\n",
      "/home/grierjones/DDCASPT2/delta_ML/BeF/0.80\n"
     ]
    },
    {
     "name": "stderr",
     "output_type": "stream",
     "text": [
      "<string>:392: SyntaxWarning: invalid escape sequence '\\.'\n",
      "<string>:401: SyntaxWarning: invalid escape sequence '\\.'\n",
      "<string>:412: SyntaxWarning: invalid escape sequence '\\d'\n",
      "<string>:707: SyntaxWarning: invalid escape sequence '\\s'\n",
      "\n",
      "3it [00:04,  1.33s/it]\u001b[A"
     ]
    },
    {
     "name": "stdout",
     "output_type": "stream",
     "text": [
      "/home/grierjones/DDCASPT2/delta_ML/BeF\n",
      "raddir /home/grierjones/DDCASPT2/delta_ML/BeF/0.90\n",
      "/home/grierjones/DDCASPT2/delta_ML/BeF/0.90\n"
     ]
    },
    {
     "name": "stderr",
     "output_type": "stream",
     "text": [
      "<string>:392: SyntaxWarning: invalid escape sequence '\\.'\n",
      "<string>:401: SyntaxWarning: invalid escape sequence '\\.'\n",
      "<string>:412: SyntaxWarning: invalid escape sequence '\\d'\n",
      "<string>:707: SyntaxWarning: invalid escape sequence '\\s'\n",
      "\n",
      "4it [00:05,  1.32s/it]\u001b[A"
     ]
    },
    {
     "name": "stdout",
     "output_type": "stream",
     "text": [
      "/home/grierjones/DDCASPT2/delta_ML/BeF\n",
      "raddir /home/grierjones/DDCASPT2/delta_ML/BeF/1.00\n",
      "/home/grierjones/DDCASPT2/delta_ML/BeF/1.00\n"
     ]
    },
    {
     "name": "stderr",
     "output_type": "stream",
     "text": [
      "<string>:392: SyntaxWarning: invalid escape sequence '\\.'\n",
      "<string>:401: SyntaxWarning: invalid escape sequence '\\.'\n",
      "<string>:412: SyntaxWarning: invalid escape sequence '\\d'\n",
      "<string>:707: SyntaxWarning: invalid escape sequence '\\s'\n",
      "\n",
      "5it [00:06,  1.31s/it]\u001b[A"
     ]
    },
    {
     "name": "stdout",
     "output_type": "stream",
     "text": [
      "/home/grierjones/DDCASPT2/delta_ML/BeF\n",
      "raddir /home/grierjones/DDCASPT2/delta_ML/BeF/1.10\n",
      "/home/grierjones/DDCASPT2/delta_ML/BeF/1.10\n"
     ]
    },
    {
     "name": "stderr",
     "output_type": "stream",
     "text": [
      "<string>:392: SyntaxWarning: invalid escape sequence '\\.'\n",
      "<string>:401: SyntaxWarning: invalid escape sequence '\\.'\n",
      "<string>:412: SyntaxWarning: invalid escape sequence '\\d'\n",
      "<string>:707: SyntaxWarning: invalid escape sequence '\\s'\n",
      "\n",
      "6it [00:07,  1.30s/it]\u001b[A"
     ]
    },
    {
     "name": "stdout",
     "output_type": "stream",
     "text": [
      "/home/grierjones/DDCASPT2/delta_ML/BeF\n",
      "raddir /home/grierjones/DDCASPT2/delta_ML/BeF/1.20\n",
      "/home/grierjones/DDCASPT2/delta_ML/BeF/1.20\n"
     ]
    },
    {
     "name": "stderr",
     "output_type": "stream",
     "text": [
      "<string>:392: SyntaxWarning: invalid escape sequence '\\.'\n",
      "<string>:401: SyntaxWarning: invalid escape sequence '\\.'\n",
      "<string>:412: SyntaxWarning: invalid escape sequence '\\d'\n",
      "<string>:707: SyntaxWarning: invalid escape sequence '\\s'\n",
      "\n",
      "7it [00:09,  1.31s/it]\u001b[A"
     ]
    },
    {
     "name": "stdout",
     "output_type": "stream",
     "text": [
      "/home/grierjones/DDCASPT2/delta_ML/BeF\n",
      "raddir /home/grierjones/DDCASPT2/delta_ML/BeF/1.30\n",
      "/home/grierjones/DDCASPT2/delta_ML/BeF/1.30\n"
     ]
    },
    {
     "name": "stderr",
     "output_type": "stream",
     "text": [
      "<string>:392: SyntaxWarning: invalid escape sequence '\\.'\n",
      "<string>:401: SyntaxWarning: invalid escape sequence '\\.'\n",
      "<string>:412: SyntaxWarning: invalid escape sequence '\\d'\n",
      "<string>:707: SyntaxWarning: invalid escape sequence '\\s'\n",
      "\n",
      "8it [00:10,  1.31s/it]\u001b[A"
     ]
    },
    {
     "name": "stdout",
     "output_type": "stream",
     "text": [
      "/home/grierjones/DDCASPT2/delta_ML/BeF\n",
      "raddir /home/grierjones/DDCASPT2/delta_ML/BeF/1.40\n",
      "/home/grierjones/DDCASPT2/delta_ML/BeF/1.40\n"
     ]
    },
    {
     "name": "stderr",
     "output_type": "stream",
     "text": [
      "<string>:392: SyntaxWarning: invalid escape sequence '\\.'\n",
      "<string>:401: SyntaxWarning: invalid escape sequence '\\.'\n",
      "<string>:412: SyntaxWarning: invalid escape sequence '\\d'\n",
      "<string>:707: SyntaxWarning: invalid escape sequence '\\s'\n",
      "\n",
      "9it [00:11,  1.32s/it]\u001b[A"
     ]
    },
    {
     "name": "stdout",
     "output_type": "stream",
     "text": [
      "/home/grierjones/DDCASPT2/delta_ML/BeF\n",
      "raddir /home/grierjones/DDCASPT2/delta_ML/BeF/1.50\n",
      "/home/grierjones/DDCASPT2/delta_ML/BeF/1.50\n"
     ]
    },
    {
     "name": "stderr",
     "output_type": "stream",
     "text": [
      "<string>:392: SyntaxWarning: invalid escape sequence '\\.'\n",
      "<string>:401: SyntaxWarning: invalid escape sequence '\\.'\n",
      "<string>:412: SyntaxWarning: invalid escape sequence '\\d'\n",
      "<string>:707: SyntaxWarning: invalid escape sequence '\\s'\n",
      "\n",
      "10it [00:13,  1.34s/it]\u001b[A"
     ]
    },
    {
     "name": "stdout",
     "output_type": "stream",
     "text": [
      "/home/grierjones/DDCASPT2/delta_ML/BeF\n",
      "raddir /home/grierjones/DDCASPT2/delta_ML/BeF/1.60\n",
      "/home/grierjones/DDCASPT2/delta_ML/BeF/1.60\n"
     ]
    },
    {
     "name": "stderr",
     "output_type": "stream",
     "text": [
      "<string>:392: SyntaxWarning: invalid escape sequence '\\.'\n",
      "<string>:401: SyntaxWarning: invalid escape sequence '\\.'\n",
      "<string>:412: SyntaxWarning: invalid escape sequence '\\d'\n",
      "<string>:707: SyntaxWarning: invalid escape sequence '\\s'\n",
      "\n",
      "11it [00:14,  1.33s/it]\u001b[A"
     ]
    },
    {
     "name": "stdout",
     "output_type": "stream",
     "text": [
      "/home/grierjones/DDCASPT2/delta_ML/BeF\n",
      "raddir /home/grierjones/DDCASPT2/delta_ML/BeF/1.70\n",
      "/home/grierjones/DDCASPT2/delta_ML/BeF/1.70\n"
     ]
    },
    {
     "name": "stderr",
     "output_type": "stream",
     "text": [
      "<string>:392: SyntaxWarning: invalid escape sequence '\\.'\n",
      "<string>:401: SyntaxWarning: invalid escape sequence '\\.'\n",
      "<string>:412: SyntaxWarning: invalid escape sequence '\\d'\n",
      "<string>:707: SyntaxWarning: invalid escape sequence '\\s'\n",
      "\n",
      "12it [00:15,  1.33s/it]\u001b[A"
     ]
    },
    {
     "name": "stdout",
     "output_type": "stream",
     "text": [
      "/home/grierjones/DDCASPT2/delta_ML/BeF\n",
      "raddir /home/grierjones/DDCASPT2/delta_ML/BeF/1.80\n",
      "/home/grierjones/DDCASPT2/delta_ML/BeF/1.80\n"
     ]
    },
    {
     "name": "stderr",
     "output_type": "stream",
     "text": [
      "<string>:392: SyntaxWarning: invalid escape sequence '\\.'\n",
      "<string>:401: SyntaxWarning: invalid escape sequence '\\.'\n",
      "<string>:412: SyntaxWarning: invalid escape sequence '\\d'\n",
      "<string>:707: SyntaxWarning: invalid escape sequence '\\s'\n",
      "\n",
      "13it [00:17,  1.33s/it]\u001b[A"
     ]
    },
    {
     "name": "stdout",
     "output_type": "stream",
     "text": [
      "/home/grierjones/DDCASPT2/delta_ML/BeF\n",
      "raddir /home/grierjones/DDCASPT2/delta_ML/BeF/1.90\n",
      "/home/grierjones/DDCASPT2/delta_ML/BeF/1.90\n"
     ]
    },
    {
     "name": "stderr",
     "output_type": "stream",
     "text": [
      "<string>:392: SyntaxWarning: invalid escape sequence '\\.'\n",
      "<string>:401: SyntaxWarning: invalid escape sequence '\\.'\n",
      "<string>:412: SyntaxWarning: invalid escape sequence '\\d'\n",
      "<string>:707: SyntaxWarning: invalid escape sequence '\\s'\n",
      "\n",
      "14it [00:18,  1.33s/it]\u001b[A"
     ]
    },
    {
     "name": "stdout",
     "output_type": "stream",
     "text": [
      "/home/grierjones/DDCASPT2/delta_ML/BeF\n",
      "raddir /home/grierjones/DDCASPT2/delta_ML/BeF/2.00\n",
      "/home/grierjones/DDCASPT2/delta_ML/BeF/2.00\n"
     ]
    },
    {
     "name": "stderr",
     "output_type": "stream",
     "text": [
      "<string>:392: SyntaxWarning: invalid escape sequence '\\.'\n",
      "<string>:401: SyntaxWarning: invalid escape sequence '\\.'\n",
      "<string>:412: SyntaxWarning: invalid escape sequence '\\d'\n",
      "<string>:707: SyntaxWarning: invalid escape sequence '\\s'\n",
      "\n",
      "15it [00:19,  1.34s/it]\u001b[A"
     ]
    },
    {
     "name": "stdout",
     "output_type": "stream",
     "text": [
      "/home/grierjones/DDCASPT2/delta_ML/BeF\n",
      "raddir /home/grierjones/DDCASPT2/delta_ML/BeF/2.10\n",
      "/home/grierjones/DDCASPT2/delta_ML/BeF/2.10\n"
     ]
    },
    {
     "name": "stderr",
     "output_type": "stream",
     "text": [
      "<string>:392: SyntaxWarning: invalid escape sequence '\\.'\n",
      "<string>:401: SyntaxWarning: invalid escape sequence '\\.'\n",
      "<string>:412: SyntaxWarning: invalid escape sequence '\\d'\n",
      "<string>:707: SyntaxWarning: invalid escape sequence '\\s'\n",
      "\n",
      "16it [00:21,  1.35s/it]\u001b[A"
     ]
    },
    {
     "name": "stdout",
     "output_type": "stream",
     "text": [
      "/home/grierjones/DDCASPT2/delta_ML/BeF\n",
      "raddir /home/grierjones/DDCASPT2/delta_ML/BeF/2.20\n",
      "/home/grierjones/DDCASPT2/delta_ML/BeF/2.20\n"
     ]
    },
    {
     "name": "stderr",
     "output_type": "stream",
     "text": [
      "<string>:392: SyntaxWarning: invalid escape sequence '\\.'\n",
      "<string>:401: SyntaxWarning: invalid escape sequence '\\.'\n",
      "<string>:412: SyntaxWarning: invalid escape sequence '\\d'\n",
      "<string>:707: SyntaxWarning: invalid escape sequence '\\s'\n",
      "\n",
      "17it [00:22,  1.36s/it]\u001b[A"
     ]
    },
    {
     "name": "stdout",
     "output_type": "stream",
     "text": [
      "/home/grierjones/DDCASPT2/delta_ML/BeF\n",
      "raddir /home/grierjones/DDCASPT2/delta_ML/BeF/2.30\n",
      "/home/grierjones/DDCASPT2/delta_ML/BeF/2.30\n"
     ]
    },
    {
     "name": "stderr",
     "output_type": "stream",
     "text": [
      "<string>:392: SyntaxWarning: invalid escape sequence '\\.'\n",
      "<string>:401: SyntaxWarning: invalid escape sequence '\\.'\n",
      "<string>:412: SyntaxWarning: invalid escape sequence '\\d'\n",
      "<string>:707: SyntaxWarning: invalid escape sequence '\\s'\n",
      "\n",
      "18it [00:24,  1.38s/it]\u001b[A"
     ]
    },
    {
     "name": "stdout",
     "output_type": "stream",
     "text": [
      "/home/grierjones/DDCASPT2/delta_ML/BeF\n",
      "raddir /home/grierjones/DDCASPT2/delta_ML/BeF/2.40\n",
      "/home/grierjones/DDCASPT2/delta_ML/BeF/2.40\n"
     ]
    },
    {
     "name": "stderr",
     "output_type": "stream",
     "text": [
      "<string>:392: SyntaxWarning: invalid escape sequence '\\.'\n",
      "<string>:401: SyntaxWarning: invalid escape sequence '\\.'\n",
      "<string>:412: SyntaxWarning: invalid escape sequence '\\d'\n",
      "<string>:707: SyntaxWarning: invalid escape sequence '\\s'\n",
      "\n",
      "19it [00:25,  1.39s/it]\u001b[A"
     ]
    },
    {
     "name": "stdout",
     "output_type": "stream",
     "text": [
      "/home/grierjones/DDCASPT2/delta_ML/BeF\n",
      "raddir /home/grierjones/DDCASPT2/delta_ML/BeF/2.50\n",
      "/home/grierjones/DDCASPT2/delta_ML/BeF/2.50\n"
     ]
    },
    {
     "name": "stderr",
     "output_type": "stream",
     "text": [
      "<string>:392: SyntaxWarning: invalid escape sequence '\\.'\n",
      "<string>:401: SyntaxWarning: invalid escape sequence '\\.'\n",
      "<string>:412: SyntaxWarning: invalid escape sequence '\\d'\n",
      "<string>:707: SyntaxWarning: invalid escape sequence '\\s'\n",
      "\n",
      "20it [00:26,  1.41s/it]\u001b[A"
     ]
    },
    {
     "name": "stdout",
     "output_type": "stream",
     "text": [
      "/home/grierjones/DDCASPT2/delta_ML/BeF\n",
      "raddir /home/grierjones/DDCASPT2/delta_ML/BeF/2.60\n",
      "/home/grierjones/DDCASPT2/delta_ML/BeF/2.60\n"
     ]
    },
    {
     "name": "stderr",
     "output_type": "stream",
     "text": [
      "<string>:392: SyntaxWarning: invalid escape sequence '\\.'\n",
      "<string>:401: SyntaxWarning: invalid escape sequence '\\.'\n",
      "<string>:412: SyntaxWarning: invalid escape sequence '\\d'\n",
      "<string>:707: SyntaxWarning: invalid escape sequence '\\s'\n",
      "\n",
      "21it [00:28,  1.42s/it]\u001b[A"
     ]
    },
    {
     "name": "stdout",
     "output_type": "stream",
     "text": [
      "/home/grierjones/DDCASPT2/delta_ML/BeF\n",
      "raddir /home/grierjones/DDCASPT2/delta_ML/BeF/2.70\n",
      "/home/grierjones/DDCASPT2/delta_ML/BeF/2.70\n"
     ]
    },
    {
     "name": "stderr",
     "output_type": "stream",
     "text": [
      "<string>:392: SyntaxWarning: invalid escape sequence '\\.'\n",
      "<string>:401: SyntaxWarning: invalid escape sequence '\\.'\n",
      "<string>:412: SyntaxWarning: invalid escape sequence '\\d'\n",
      "<string>:707: SyntaxWarning: invalid escape sequence '\\s'\n",
      "\n",
      "22it [00:29,  1.39s/it]\u001b[A"
     ]
    },
    {
     "name": "stdout",
     "output_type": "stream",
     "text": [
      "/home/grierjones/DDCASPT2/delta_ML/BeF\n",
      "raddir /home/grierjones/DDCASPT2/delta_ML/BeF/2.80\n",
      "/home/grierjones/DDCASPT2/delta_ML/BeF/2.80\n"
     ]
    },
    {
     "name": "stderr",
     "output_type": "stream",
     "text": [
      "<string>:392: SyntaxWarning: invalid escape sequence '\\.'\n",
      "<string>:401: SyntaxWarning: invalid escape sequence '\\.'\n",
      "<string>:412: SyntaxWarning: invalid escape sequence '\\d'\n",
      "<string>:707: SyntaxWarning: invalid escape sequence '\\s'\n",
      "\n",
      "23it [00:31,  1.35s/it]\u001b[A\n",
      " 31%|█████████████████████████████████████████████████████▏                                                                                                                        | 11/36 [05:38<12:44, 30.59s/it]"
     ]
    },
    {
     "name": "stdout",
     "output_type": "stream",
     "text": [
      "/home/grierjones/DDCASPT2/delta_ML/BeF\n",
      "/home/grierjones/DDCASPT2/delta_ML/BeF\n"
     ]
    },
    {
     "name": "stderr",
     "output_type": "stream",
     "text": [
      "\n",
      "0it [00:00, ?it/s]\u001b[A"
     ]
    },
    {
     "name": "stdout",
     "output_type": "stream",
     "text": [
      "raddir /home/grierjones/DDCASPT2/delta_ML/BeH/0.60\n",
      "/home/grierjones/DDCASPT2/delta_ML/BeH/0.60\n"
     ]
    },
    {
     "name": "stderr",
     "output_type": "stream",
     "text": [
      "<string>:392: SyntaxWarning: invalid escape sequence '\\.'\n",
      "<string>:401: SyntaxWarning: invalid escape sequence '\\.'\n",
      "<string>:412: SyntaxWarning: invalid escape sequence '\\d'\n",
      "<string>:707: SyntaxWarning: invalid escape sequence '\\s'\n",
      "\n",
      "1it [00:01,  1.26s/it]\u001b[A"
     ]
    },
    {
     "name": "stdout",
     "output_type": "stream",
     "text": [
      "/home/grierjones/DDCASPT2/delta_ML/BeH\n",
      "raddir /home/grierjones/DDCASPT2/delta_ML/BeH/0.70\n",
      "/home/grierjones/DDCASPT2/delta_ML/BeH/0.70\n"
     ]
    },
    {
     "name": "stderr",
     "output_type": "stream",
     "text": [
      "<string>:392: SyntaxWarning: invalid escape sequence '\\.'\n",
      "<string>:401: SyntaxWarning: invalid escape sequence '\\.'\n",
      "<string>:412: SyntaxWarning: invalid escape sequence '\\d'\n",
      "<string>:707: SyntaxWarning: invalid escape sequence '\\s'\n",
      "\n",
      "2it [00:02,  1.26s/it]\u001b[A"
     ]
    },
    {
     "name": "stdout",
     "output_type": "stream",
     "text": [
      "/home/grierjones/DDCASPT2/delta_ML/BeH\n",
      "raddir /home/grierjones/DDCASPT2/delta_ML/BeH/0.80\n",
      "/home/grierjones/DDCASPT2/delta_ML/BeH/0.80\n"
     ]
    },
    {
     "name": "stderr",
     "output_type": "stream",
     "text": [
      "<string>:392: SyntaxWarning: invalid escape sequence '\\.'\n",
      "<string>:401: SyntaxWarning: invalid escape sequence '\\.'\n",
      "<string>:412: SyntaxWarning: invalid escape sequence '\\d'\n",
      "<string>:707: SyntaxWarning: invalid escape sequence '\\s'\n",
      "\n",
      "3it [00:03,  1.26s/it]\u001b[A"
     ]
    },
    {
     "name": "stdout",
     "output_type": "stream",
     "text": [
      "/home/grierjones/DDCASPT2/delta_ML/BeH\n",
      "raddir /home/grierjones/DDCASPT2/delta_ML/BeH/0.90\n",
      "/home/grierjones/DDCASPT2/delta_ML/BeH/0.90\n"
     ]
    },
    {
     "name": "stderr",
     "output_type": "stream",
     "text": [
      "<string>:392: SyntaxWarning: invalid escape sequence '\\.'\n",
      "<string>:401: SyntaxWarning: invalid escape sequence '\\.'\n",
      "<string>:412: SyntaxWarning: invalid escape sequence '\\d'\n",
      "<string>:707: SyntaxWarning: invalid escape sequence '\\s'\n",
      "\n",
      "4it [00:05,  1.26s/it]\u001b[A"
     ]
    },
    {
     "name": "stdout",
     "output_type": "stream",
     "text": [
      "/home/grierjones/DDCASPT2/delta_ML/BeH\n",
      "raddir /home/grierjones/DDCASPT2/delta_ML/BeH/1.00\n",
      "/home/grierjones/DDCASPT2/delta_ML/BeH/1.00\n"
     ]
    },
    {
     "name": "stderr",
     "output_type": "stream",
     "text": [
      "<string>:392: SyntaxWarning: invalid escape sequence '\\.'\n",
      "<string>:401: SyntaxWarning: invalid escape sequence '\\.'\n",
      "<string>:412: SyntaxWarning: invalid escape sequence '\\d'\n",
      "<string>:707: SyntaxWarning: invalid escape sequence '\\s'\n",
      "\n",
      "5it [00:06,  1.27s/it]\u001b[A"
     ]
    },
    {
     "name": "stdout",
     "output_type": "stream",
     "text": [
      "/home/grierjones/DDCASPT2/delta_ML/BeH\n",
      "raddir /home/grierjones/DDCASPT2/delta_ML/BeH/1.10\n",
      "/home/grierjones/DDCASPT2/delta_ML/BeH/1.10\n"
     ]
    },
    {
     "name": "stderr",
     "output_type": "stream",
     "text": [
      "<string>:392: SyntaxWarning: invalid escape sequence '\\.'\n",
      "<string>:401: SyntaxWarning: invalid escape sequence '\\.'\n",
      "<string>:412: SyntaxWarning: invalid escape sequence '\\d'\n",
      "<string>:707: SyntaxWarning: invalid escape sequence '\\s'\n",
      "\n",
      "6it [00:07,  1.27s/it]\u001b[A"
     ]
    },
    {
     "name": "stdout",
     "output_type": "stream",
     "text": [
      "/home/grierjones/DDCASPT2/delta_ML/BeH\n",
      "raddir /home/grierjones/DDCASPT2/delta_ML/BeH/1.20\n",
      "/home/grierjones/DDCASPT2/delta_ML/BeH/1.20\n"
     ]
    },
    {
     "name": "stderr",
     "output_type": "stream",
     "text": [
      "<string>:392: SyntaxWarning: invalid escape sequence '\\.'\n",
      "<string>:401: SyntaxWarning: invalid escape sequence '\\.'\n",
      "<string>:412: SyntaxWarning: invalid escape sequence '\\d'\n",
      "<string>:707: SyntaxWarning: invalid escape sequence '\\s'\n",
      "\n",
      "7it [00:08,  1.27s/it]\u001b[A"
     ]
    },
    {
     "name": "stdout",
     "output_type": "stream",
     "text": [
      "/home/grierjones/DDCASPT2/delta_ML/BeH\n",
      "raddir /home/grierjones/DDCASPT2/delta_ML/BeH/1.30\n",
      "/home/grierjones/DDCASPT2/delta_ML/BeH/1.30\n"
     ]
    },
    {
     "name": "stderr",
     "output_type": "stream",
     "text": [
      "<string>:392: SyntaxWarning: invalid escape sequence '\\.'\n",
      "<string>:401: SyntaxWarning: invalid escape sequence '\\.'\n",
      "<string>:412: SyntaxWarning: invalid escape sequence '\\d'\n",
      "<string>:707: SyntaxWarning: invalid escape sequence '\\s'\n",
      "\n",
      "8it [00:10,  1.27s/it]\u001b[A"
     ]
    },
    {
     "name": "stdout",
     "output_type": "stream",
     "text": [
      "/home/grierjones/DDCASPT2/delta_ML/BeH\n",
      "raddir /home/grierjones/DDCASPT2/delta_ML/BeH/1.40\n",
      "/home/grierjones/DDCASPT2/delta_ML/BeH/1.40\n"
     ]
    },
    {
     "name": "stderr",
     "output_type": "stream",
     "text": [
      "<string>:392: SyntaxWarning: invalid escape sequence '\\.'\n",
      "<string>:401: SyntaxWarning: invalid escape sequence '\\.'\n",
      "<string>:412: SyntaxWarning: invalid escape sequence '\\d'\n",
      "<string>:707: SyntaxWarning: invalid escape sequence '\\s'\n",
      "\n",
      "9it [00:11,  1.27s/it]\u001b[A"
     ]
    },
    {
     "name": "stdout",
     "output_type": "stream",
     "text": [
      "/home/grierjones/DDCASPT2/delta_ML/BeH\n",
      "raddir /home/grierjones/DDCASPT2/delta_ML/BeH/1.50\n",
      "/home/grierjones/DDCASPT2/delta_ML/BeH/1.50\n"
     ]
    },
    {
     "name": "stderr",
     "output_type": "stream",
     "text": [
      "<string>:392: SyntaxWarning: invalid escape sequence '\\.'\n",
      "<string>:401: SyntaxWarning: invalid escape sequence '\\.'\n",
      "<string>:412: SyntaxWarning: invalid escape sequence '\\d'\n",
      "<string>:707: SyntaxWarning: invalid escape sequence '\\s'\n",
      "\n",
      "10it [00:12,  1.27s/it]\u001b[A"
     ]
    },
    {
     "name": "stdout",
     "output_type": "stream",
     "text": [
      "/home/grierjones/DDCASPT2/delta_ML/BeH\n",
      "raddir /home/grierjones/DDCASPT2/delta_ML/BeH/1.60\n",
      "/home/grierjones/DDCASPT2/delta_ML/BeH/1.60\n"
     ]
    },
    {
     "name": "stderr",
     "output_type": "stream",
     "text": [
      "<string>:392: SyntaxWarning: invalid escape sequence '\\.'\n",
      "<string>:401: SyntaxWarning: invalid escape sequence '\\.'\n",
      "<string>:412: SyntaxWarning: invalid escape sequence '\\d'\n",
      "<string>:707: SyntaxWarning: invalid escape sequence '\\s'\n",
      "\n",
      "11it [00:13,  1.28s/it]\u001b[A"
     ]
    },
    {
     "name": "stdout",
     "output_type": "stream",
     "text": [
      "/home/grierjones/DDCASPT2/delta_ML/BeH\n",
      "raddir /home/grierjones/DDCASPT2/delta_ML/BeH/1.70\n",
      "/home/grierjones/DDCASPT2/delta_ML/BeH/1.70\n"
     ]
    },
    {
     "name": "stderr",
     "output_type": "stream",
     "text": [
      "<string>:392: SyntaxWarning: invalid escape sequence '\\.'\n",
      "<string>:401: SyntaxWarning: invalid escape sequence '\\.'\n",
      "<string>:412: SyntaxWarning: invalid escape sequence '\\d'\n",
      "<string>:707: SyntaxWarning: invalid escape sequence '\\s'\n",
      "\n",
      "12it [00:15,  1.28s/it]\u001b[A"
     ]
    },
    {
     "name": "stdout",
     "output_type": "stream",
     "text": [
      "/home/grierjones/DDCASPT2/delta_ML/BeH\n",
      "raddir /home/grierjones/DDCASPT2/delta_ML/BeH/1.80\n",
      "/home/grierjones/DDCASPT2/delta_ML/BeH/1.80\n"
     ]
    },
    {
     "name": "stderr",
     "output_type": "stream",
     "text": [
      "<string>:392: SyntaxWarning: invalid escape sequence '\\.'\n",
      "<string>:401: SyntaxWarning: invalid escape sequence '\\.'\n",
      "<string>:412: SyntaxWarning: invalid escape sequence '\\d'\n",
      "<string>:707: SyntaxWarning: invalid escape sequence '\\s'\n",
      "\n",
      "13it [00:16,  1.28s/it]\u001b[A"
     ]
    },
    {
     "name": "stdout",
     "output_type": "stream",
     "text": [
      "/home/grierjones/DDCASPT2/delta_ML/BeH\n",
      "raddir /home/grierjones/DDCASPT2/delta_ML/BeH/1.90\n",
      "/home/grierjones/DDCASPT2/delta_ML/BeH/1.90\n"
     ]
    },
    {
     "name": "stderr",
     "output_type": "stream",
     "text": [
      "<string>:392: SyntaxWarning: invalid escape sequence '\\.'\n",
      "<string>:401: SyntaxWarning: invalid escape sequence '\\.'\n",
      "<string>:412: SyntaxWarning: invalid escape sequence '\\d'\n",
      "<string>:707: SyntaxWarning: invalid escape sequence '\\s'\n",
      "\n",
      "14it [00:17,  1.27s/it]\u001b[A"
     ]
    },
    {
     "name": "stdout",
     "output_type": "stream",
     "text": [
      "/home/grierjones/DDCASPT2/delta_ML/BeH\n",
      "raddir /home/grierjones/DDCASPT2/delta_ML/BeH/2.00\n",
      "/home/grierjones/DDCASPT2/delta_ML/BeH/2.00\n"
     ]
    },
    {
     "name": "stderr",
     "output_type": "stream",
     "text": [
      "<string>:392: SyntaxWarning: invalid escape sequence '\\.'\n",
      "<string>:401: SyntaxWarning: invalid escape sequence '\\.'\n",
      "<string>:412: SyntaxWarning: invalid escape sequence '\\d'\n",
      "<string>:707: SyntaxWarning: invalid escape sequence '\\s'\n",
      "\n",
      "15it [00:19,  1.27s/it]\u001b[A"
     ]
    },
    {
     "name": "stdout",
     "output_type": "stream",
     "text": [
      "/home/grierjones/DDCASPT2/delta_ML/BeH\n",
      "raddir /home/grierjones/DDCASPT2/delta_ML/BeH/2.10\n",
      "/home/grierjones/DDCASPT2/delta_ML/BeH/2.10\n"
     ]
    },
    {
     "name": "stderr",
     "output_type": "stream",
     "text": [
      "<string>:392: SyntaxWarning: invalid escape sequence '\\.'\n",
      "<string>:401: SyntaxWarning: invalid escape sequence '\\.'\n",
      "<string>:412: SyntaxWarning: invalid escape sequence '\\d'\n",
      "<string>:707: SyntaxWarning: invalid escape sequence '\\s'\n",
      "\n",
      "16it [00:20,  1.27s/it]\u001b[A"
     ]
    },
    {
     "name": "stdout",
     "output_type": "stream",
     "text": [
      "/home/grierjones/DDCASPT2/delta_ML/BeH\n",
      "raddir /home/grierjones/DDCASPT2/delta_ML/BeH/2.20\n",
      "/home/grierjones/DDCASPT2/delta_ML/BeH/2.20\n"
     ]
    },
    {
     "name": "stderr",
     "output_type": "stream",
     "text": [
      "<string>:392: SyntaxWarning: invalid escape sequence '\\.'\n",
      "<string>:401: SyntaxWarning: invalid escape sequence '\\.'\n",
      "<string>:412: SyntaxWarning: invalid escape sequence '\\d'\n",
      "<string>:707: SyntaxWarning: invalid escape sequence '\\s'\n",
      "\n",
      "17it [00:21,  1.28s/it]\u001b[A"
     ]
    },
    {
     "name": "stdout",
     "output_type": "stream",
     "text": [
      "/home/grierjones/DDCASPT2/delta_ML/BeH\n",
      "raddir /home/grierjones/DDCASPT2/delta_ML/BeH/2.30\n",
      "/home/grierjones/DDCASPT2/delta_ML/BeH/2.30\n"
     ]
    },
    {
     "name": "stderr",
     "output_type": "stream",
     "text": [
      "<string>:392: SyntaxWarning: invalid escape sequence '\\.'\n",
      "<string>:401: SyntaxWarning: invalid escape sequence '\\.'\n",
      "<string>:412: SyntaxWarning: invalid escape sequence '\\d'\n",
      "<string>:707: SyntaxWarning: invalid escape sequence '\\s'\n",
      "\n",
      "18it [00:22,  1.29s/it]\u001b[A"
     ]
    },
    {
     "name": "stdout",
     "output_type": "stream",
     "text": [
      "/home/grierjones/DDCASPT2/delta_ML/BeH\n",
      "raddir /home/grierjones/DDCASPT2/delta_ML/BeH/2.40\n",
      "/home/grierjones/DDCASPT2/delta_ML/BeH/2.40\n"
     ]
    },
    {
     "name": "stderr",
     "output_type": "stream",
     "text": [
      "<string>:392: SyntaxWarning: invalid escape sequence '\\.'\n",
      "<string>:401: SyntaxWarning: invalid escape sequence '\\.'\n",
      "<string>:412: SyntaxWarning: invalid escape sequence '\\d'\n",
      "<string>:707: SyntaxWarning: invalid escape sequence '\\s'\n",
      "\n",
      "19it [00:24,  1.32s/it]\u001b[A"
     ]
    },
    {
     "name": "stdout",
     "output_type": "stream",
     "text": [
      "/home/grierjones/DDCASPT2/delta_ML/BeH\n",
      "raddir /home/grierjones/DDCASPT2/delta_ML/BeH/2.50\n",
      "/home/grierjones/DDCASPT2/delta_ML/BeH/2.50\n"
     ]
    },
    {
     "name": "stderr",
     "output_type": "stream",
     "text": [
      "<string>:392: SyntaxWarning: invalid escape sequence '\\.'\n",
      "<string>:401: SyntaxWarning: invalid escape sequence '\\.'\n",
      "<string>:412: SyntaxWarning: invalid escape sequence '\\d'\n",
      "<string>:707: SyntaxWarning: invalid escape sequence '\\s'\n",
      "\n",
      "20it [00:25,  1.32s/it]\u001b[A"
     ]
    },
    {
     "name": "stdout",
     "output_type": "stream",
     "text": [
      "/home/grierjones/DDCASPT2/delta_ML/BeH\n",
      "raddir /home/grierjones/DDCASPT2/delta_ML/BeH/2.60\n",
      "/home/grierjones/DDCASPT2/delta_ML/BeH/2.60\n"
     ]
    },
    {
     "name": "stderr",
     "output_type": "stream",
     "text": [
      "<string>:392: SyntaxWarning: invalid escape sequence '\\.'\n",
      "<string>:401: SyntaxWarning: invalid escape sequence '\\.'\n",
      "<string>:412: SyntaxWarning: invalid escape sequence '\\d'\n",
      "<string>:707: SyntaxWarning: invalid escape sequence '\\s'\n",
      "\n",
      "21it [00:26,  1.31s/it]\u001b[A"
     ]
    },
    {
     "name": "stdout",
     "output_type": "stream",
     "text": [
      "/home/grierjones/DDCASPT2/delta_ML/BeH\n",
      "raddir /home/grierjones/DDCASPT2/delta_ML/BeH/2.70\n",
      "/home/grierjones/DDCASPT2/delta_ML/BeH/2.70\n"
     ]
    },
    {
     "name": "stderr",
     "output_type": "stream",
     "text": [
      "<string>:392: SyntaxWarning: invalid escape sequence '\\.'\n",
      "<string>:401: SyntaxWarning: invalid escape sequence '\\.'\n",
      "<string>:412: SyntaxWarning: invalid escape sequence '\\d'\n",
      "<string>:707: SyntaxWarning: invalid escape sequence '\\s'\n",
      "\n",
      "22it [00:28,  1.31s/it]\u001b[A"
     ]
    },
    {
     "name": "stdout",
     "output_type": "stream",
     "text": [
      "/home/grierjones/DDCASPT2/delta_ML/BeH\n",
      "raddir /home/grierjones/DDCASPT2/delta_ML/BeH/2.80\n",
      "/home/grierjones/DDCASPT2/delta_ML/BeH/2.80\n"
     ]
    },
    {
     "name": "stderr",
     "output_type": "stream",
     "text": [
      "<string>:392: SyntaxWarning: invalid escape sequence '\\.'\n",
      "<string>:401: SyntaxWarning: invalid escape sequence '\\.'\n",
      "<string>:412: SyntaxWarning: invalid escape sequence '\\d'\n",
      "<string>:707: SyntaxWarning: invalid escape sequence '\\s'\n",
      "\n",
      "23it [00:29,  1.29s/it]\u001b[A\n",
      " 33%|██████████████████████████████████████████████████████████                                                                                                                    | 12/36 [06:08<12:06, 30.29s/it]"
     ]
    },
    {
     "name": "stdout",
     "output_type": "stream",
     "text": [
      "/home/grierjones/DDCASPT2/delta_ML/BeH\n",
      "/home/grierjones/DDCASPT2/delta_ML/BeH\n"
     ]
    },
    {
     "name": "stderr",
     "output_type": "stream",
     "text": [
      "\n",
      "0it [00:00, ?it/s]\u001b[A"
     ]
    },
    {
     "name": "stdout",
     "output_type": "stream",
     "text": [
      "raddir /home/grierjones/DDCASPT2/delta_ML/BeLi/0.60\n",
      "/home/grierjones/DDCASPT2/delta_ML/BeLi/0.60\n"
     ]
    },
    {
     "name": "stderr",
     "output_type": "stream",
     "text": [
      "<string>:392: SyntaxWarning: invalid escape sequence '\\.'\n",
      "<string>:401: SyntaxWarning: invalid escape sequence '\\.'\n",
      "<string>:412: SyntaxWarning: invalid escape sequence '\\d'\n",
      "<string>:707: SyntaxWarning: invalid escape sequence '\\s'\n",
      "\n",
      "1it [00:01,  1.33s/it]\u001b[A"
     ]
    },
    {
     "name": "stdout",
     "output_type": "stream",
     "text": [
      "/home/grierjones/DDCASPT2/delta_ML/BeLi\n",
      "raddir /home/grierjones/DDCASPT2/delta_ML/BeLi/0.70\n",
      "/home/grierjones/DDCASPT2/delta_ML/BeLi/0.70\n"
     ]
    },
    {
     "name": "stderr",
     "output_type": "stream",
     "text": [
      "<string>:392: SyntaxWarning: invalid escape sequence '\\.'\n",
      "<string>:401: SyntaxWarning: invalid escape sequence '\\.'\n",
      "<string>:412: SyntaxWarning: invalid escape sequence '\\d'\n",
      "<string>:707: SyntaxWarning: invalid escape sequence '\\s'\n",
      "\n",
      "2it [00:02,  1.33s/it]\u001b[A"
     ]
    },
    {
     "name": "stdout",
     "output_type": "stream",
     "text": [
      "/home/grierjones/DDCASPT2/delta_ML/BeLi\n",
      "raddir /home/grierjones/DDCASPT2/delta_ML/BeLi/0.80\n",
      "/home/grierjones/DDCASPT2/delta_ML/BeLi/0.80\n"
     ]
    },
    {
     "name": "stderr",
     "output_type": "stream",
     "text": [
      "<string>:392: SyntaxWarning: invalid escape sequence '\\.'\n",
      "<string>:401: SyntaxWarning: invalid escape sequence '\\.'\n",
      "<string>:412: SyntaxWarning: invalid escape sequence '\\d'\n",
      "<string>:707: SyntaxWarning: invalid escape sequence '\\s'\n",
      "\n",
      "3it [00:03,  1.33s/it]\u001b[A"
     ]
    },
    {
     "name": "stdout",
     "output_type": "stream",
     "text": [
      "/home/grierjones/DDCASPT2/delta_ML/BeLi\n",
      "raddir /home/grierjones/DDCASPT2/delta_ML/BeLi/0.90\n",
      "/home/grierjones/DDCASPT2/delta_ML/BeLi/0.90\n"
     ]
    },
    {
     "name": "stderr",
     "output_type": "stream",
     "text": [
      "<string>:392: SyntaxWarning: invalid escape sequence '\\.'\n",
      "<string>:401: SyntaxWarning: invalid escape sequence '\\.'\n",
      "<string>:412: SyntaxWarning: invalid escape sequence '\\d'\n",
      "<string>:707: SyntaxWarning: invalid escape sequence '\\s'\n",
      "\n",
      "4it [00:05,  1.35s/it]\u001b[A"
     ]
    },
    {
     "name": "stdout",
     "output_type": "stream",
     "text": [
      "/home/grierjones/DDCASPT2/delta_ML/BeLi\n",
      "raddir /home/grierjones/DDCASPT2/delta_ML/BeLi/1.00\n",
      "/home/grierjones/DDCASPT2/delta_ML/BeLi/1.00\n"
     ]
    },
    {
     "name": "stderr",
     "output_type": "stream",
     "text": [
      "<string>:392: SyntaxWarning: invalid escape sequence '\\.'\n",
      "<string>:401: SyntaxWarning: invalid escape sequence '\\.'\n",
      "<string>:412: SyntaxWarning: invalid escape sequence '\\d'\n",
      "<string>:707: SyntaxWarning: invalid escape sequence '\\s'\n",
      "\n",
      "5it [00:06,  1.34s/it]\u001b[A"
     ]
    },
    {
     "name": "stdout",
     "output_type": "stream",
     "text": [
      "/home/grierjones/DDCASPT2/delta_ML/BeLi\n",
      "raddir /home/grierjones/DDCASPT2/delta_ML/BeLi/1.10\n",
      "/home/grierjones/DDCASPT2/delta_ML/BeLi/1.10\n"
     ]
    },
    {
     "name": "stderr",
     "output_type": "stream",
     "text": [
      "<string>:392: SyntaxWarning: invalid escape sequence '\\.'\n",
      "<string>:401: SyntaxWarning: invalid escape sequence '\\.'\n",
      "<string>:412: SyntaxWarning: invalid escape sequence '\\d'\n",
      "<string>:707: SyntaxWarning: invalid escape sequence '\\s'\n",
      "\n",
      "6it [00:08,  1.35s/it]\u001b[A"
     ]
    },
    {
     "name": "stdout",
     "output_type": "stream",
     "text": [
      "/home/grierjones/DDCASPT2/delta_ML/BeLi\n",
      "raddir /home/grierjones/DDCASPT2/delta_ML/BeLi/1.20\n",
      "/home/grierjones/DDCASPT2/delta_ML/BeLi/1.20\n"
     ]
    },
    {
     "name": "stderr",
     "output_type": "stream",
     "text": [
      "<string>:392: SyntaxWarning: invalid escape sequence '\\.'\n",
      "<string>:401: SyntaxWarning: invalid escape sequence '\\.'\n",
      "<string>:412: SyntaxWarning: invalid escape sequence '\\d'\n",
      "<string>:707: SyntaxWarning: invalid escape sequence '\\s'\n",
      "\n",
      "7it [00:09,  1.35s/it]\u001b[A"
     ]
    },
    {
     "name": "stdout",
     "output_type": "stream",
     "text": [
      "/home/grierjones/DDCASPT2/delta_ML/BeLi\n",
      "raddir /home/grierjones/DDCASPT2/delta_ML/BeLi/1.30\n",
      "/home/grierjones/DDCASPT2/delta_ML/BeLi/1.30\n"
     ]
    },
    {
     "name": "stderr",
     "output_type": "stream",
     "text": [
      "<string>:392: SyntaxWarning: invalid escape sequence '\\.'\n",
      "<string>:401: SyntaxWarning: invalid escape sequence '\\.'\n",
      "<string>:412: SyntaxWarning: invalid escape sequence '\\d'\n",
      "<string>:707: SyntaxWarning: invalid escape sequence '\\s'\n",
      "\n",
      "8it [00:10,  1.41s/it]\u001b[A"
     ]
    },
    {
     "name": "stdout",
     "output_type": "stream",
     "text": [
      "/home/grierjones/DDCASPT2/delta_ML/BeLi\n",
      "raddir /home/grierjones/DDCASPT2/delta_ML/BeLi/1.40\n",
      "/home/grierjones/DDCASPT2/delta_ML/BeLi/1.40\n"
     ]
    },
    {
     "name": "stderr",
     "output_type": "stream",
     "text": [
      "<string>:392: SyntaxWarning: invalid escape sequence '\\.'\n",
      "<string>:401: SyntaxWarning: invalid escape sequence '\\.'\n",
      "<string>:412: SyntaxWarning: invalid escape sequence '\\d'\n",
      "<string>:707: SyntaxWarning: invalid escape sequence '\\s'\n",
      "\n",
      "9it [00:12,  1.40s/it]\u001b[A"
     ]
    },
    {
     "name": "stdout",
     "output_type": "stream",
     "text": [
      "/home/grierjones/DDCASPT2/delta_ML/BeLi\n",
      "raddir /home/grierjones/DDCASPT2/delta_ML/BeLi/1.50\n",
      "/home/grierjones/DDCASPT2/delta_ML/BeLi/1.50\n"
     ]
    },
    {
     "name": "stderr",
     "output_type": "stream",
     "text": [
      "<string>:392: SyntaxWarning: invalid escape sequence '\\.'\n",
      "<string>:401: SyntaxWarning: invalid escape sequence '\\.'\n",
      "<string>:412: SyntaxWarning: invalid escape sequence '\\d'\n",
      "<string>:707: SyntaxWarning: invalid escape sequence '\\s'\n",
      "\n",
      "10it [00:13,  1.39s/it]\u001b[A"
     ]
    },
    {
     "name": "stdout",
     "output_type": "stream",
     "text": [
      "/home/grierjones/DDCASPT2/delta_ML/BeLi\n",
      "raddir /home/grierjones/DDCASPT2/delta_ML/BeLi/1.60\n",
      "/home/grierjones/DDCASPT2/delta_ML/BeLi/1.60\n"
     ]
    },
    {
     "name": "stderr",
     "output_type": "stream",
     "text": [
      "<string>:392: SyntaxWarning: invalid escape sequence '\\.'\n",
      "<string>:401: SyntaxWarning: invalid escape sequence '\\.'\n",
      "<string>:412: SyntaxWarning: invalid escape sequence '\\d'\n",
      "<string>:707: SyntaxWarning: invalid escape sequence '\\s'\n",
      "\n",
      "11it [00:15,  1.39s/it]\u001b[A"
     ]
    },
    {
     "name": "stdout",
     "output_type": "stream",
     "text": [
      "/home/grierjones/DDCASPT2/delta_ML/BeLi\n",
      "raddir /home/grierjones/DDCASPT2/delta_ML/BeLi/1.70\n",
      "/home/grierjones/DDCASPT2/delta_ML/BeLi/1.70\n"
     ]
    },
    {
     "name": "stderr",
     "output_type": "stream",
     "text": [
      "<string>:392: SyntaxWarning: invalid escape sequence '\\.'\n",
      "<string>:401: SyntaxWarning: invalid escape sequence '\\.'\n",
      "<string>:412: SyntaxWarning: invalid escape sequence '\\d'\n",
      "<string>:707: SyntaxWarning: invalid escape sequence '\\s'\n",
      "\n",
      "12it [00:16,  1.39s/it]\u001b[A"
     ]
    },
    {
     "name": "stdout",
     "output_type": "stream",
     "text": [
      "/home/grierjones/DDCASPT2/delta_ML/BeLi\n",
      "raddir /home/grierjones/DDCASPT2/delta_ML/BeLi/1.80\n",
      "/home/grierjones/DDCASPT2/delta_ML/BeLi/1.80\n"
     ]
    },
    {
     "name": "stderr",
     "output_type": "stream",
     "text": [
      "<string>:392: SyntaxWarning: invalid escape sequence '\\.'\n",
      "<string>:401: SyntaxWarning: invalid escape sequence '\\.'\n",
      "<string>:412: SyntaxWarning: invalid escape sequence '\\d'\n",
      "<string>:707: SyntaxWarning: invalid escape sequence '\\s'\n",
      "\n",
      "13it [00:17,  1.39s/it]\u001b[A"
     ]
    },
    {
     "name": "stdout",
     "output_type": "stream",
     "text": [
      "/home/grierjones/DDCASPT2/delta_ML/BeLi\n",
      "raddir /home/grierjones/DDCASPT2/delta_ML/BeLi/1.90\n",
      "/home/grierjones/DDCASPT2/delta_ML/BeLi/1.90\n"
     ]
    },
    {
     "name": "stderr",
     "output_type": "stream",
     "text": [
      "<string>:392: SyntaxWarning: invalid escape sequence '\\.'\n",
      "<string>:401: SyntaxWarning: invalid escape sequence '\\.'\n",
      "<string>:412: SyntaxWarning: invalid escape sequence '\\d'\n",
      "<string>:707: SyntaxWarning: invalid escape sequence '\\s'\n",
      "\n",
      "14it [00:19,  1.39s/it]\u001b[A"
     ]
    },
    {
     "name": "stdout",
     "output_type": "stream",
     "text": [
      "/home/grierjones/DDCASPT2/delta_ML/BeLi\n",
      "raddir /home/grierjones/DDCASPT2/delta_ML/BeLi/2.00\n",
      "/home/grierjones/DDCASPT2/delta_ML/BeLi/2.00\n"
     ]
    },
    {
     "name": "stderr",
     "output_type": "stream",
     "text": [
      "<string>:392: SyntaxWarning: invalid escape sequence '\\.'\n",
      "<string>:401: SyntaxWarning: invalid escape sequence '\\.'\n",
      "<string>:412: SyntaxWarning: invalid escape sequence '\\d'\n",
      "<string>:707: SyntaxWarning: invalid escape sequence '\\s'\n",
      "\n",
      "15it [00:20,  1.39s/it]\u001b[A"
     ]
    },
    {
     "name": "stdout",
     "output_type": "stream",
     "text": [
      "/home/grierjones/DDCASPT2/delta_ML/BeLi\n",
      "raddir /home/grierjones/DDCASPT2/delta_ML/BeLi/2.10\n",
      "/home/grierjones/DDCASPT2/delta_ML/BeLi/2.10\n"
     ]
    },
    {
     "name": "stderr",
     "output_type": "stream",
     "text": [
      "<string>:392: SyntaxWarning: invalid escape sequence '\\.'\n",
      "<string>:401: SyntaxWarning: invalid escape sequence '\\.'\n",
      "<string>:412: SyntaxWarning: invalid escape sequence '\\d'\n",
      "<string>:707: SyntaxWarning: invalid escape sequence '\\s'\n",
      "\n",
      "16it [00:22,  1.40s/it]\u001b[A"
     ]
    },
    {
     "name": "stdout",
     "output_type": "stream",
     "text": [
      "/home/grierjones/DDCASPT2/delta_ML/BeLi\n",
      "raddir /home/grierjones/DDCASPT2/delta_ML/BeLi/2.20\n",
      "/home/grierjones/DDCASPT2/delta_ML/BeLi/2.20\n"
     ]
    },
    {
     "name": "stderr",
     "output_type": "stream",
     "text": [
      "<string>:392: SyntaxWarning: invalid escape sequence '\\.'\n",
      "<string>:401: SyntaxWarning: invalid escape sequence '\\.'\n",
      "<string>:412: SyntaxWarning: invalid escape sequence '\\d'\n",
      "<string>:707: SyntaxWarning: invalid escape sequence '\\s'\n",
      "\n",
      "17it [00:23,  1.40s/it]\u001b[A"
     ]
    },
    {
     "name": "stdout",
     "output_type": "stream",
     "text": [
      "/home/grierjones/DDCASPT2/delta_ML/BeLi\n",
      "raddir /home/grierjones/DDCASPT2/delta_ML/BeLi/2.30\n",
      "/home/grierjones/DDCASPT2/delta_ML/BeLi/2.30\n"
     ]
    },
    {
     "name": "stderr",
     "output_type": "stream",
     "text": [
      "<string>:392: SyntaxWarning: invalid escape sequence '\\.'\n",
      "<string>:401: SyntaxWarning: invalid escape sequence '\\.'\n",
      "<string>:412: SyntaxWarning: invalid escape sequence '\\d'\n",
      "<string>:707: SyntaxWarning: invalid escape sequence '\\s'\n",
      "\n",
      "18it [00:24,  1.40s/it]\u001b[A"
     ]
    },
    {
     "name": "stdout",
     "output_type": "stream",
     "text": [
      "/home/grierjones/DDCASPT2/delta_ML/BeLi\n",
      "raddir /home/grierjones/DDCASPT2/delta_ML/BeLi/2.40\n",
      "/home/grierjones/DDCASPT2/delta_ML/BeLi/2.40\n"
     ]
    },
    {
     "name": "stderr",
     "output_type": "stream",
     "text": [
      "<string>:392: SyntaxWarning: invalid escape sequence '\\.'\n",
      "<string>:401: SyntaxWarning: invalid escape sequence '\\.'\n",
      "<string>:412: SyntaxWarning: invalid escape sequence '\\d'\n",
      "<string>:707: SyntaxWarning: invalid escape sequence '\\s'\n",
      "\n",
      "19it [00:26,  1.40s/it]\u001b[A"
     ]
    },
    {
     "name": "stdout",
     "output_type": "stream",
     "text": [
      "/home/grierjones/DDCASPT2/delta_ML/BeLi\n",
      "raddir /home/grierjones/DDCASPT2/delta_ML/BeLi/2.50\n",
      "/home/grierjones/DDCASPT2/delta_ML/BeLi/2.50\n"
     ]
    },
    {
     "name": "stderr",
     "output_type": "stream",
     "text": [
      "<string>:392: SyntaxWarning: invalid escape sequence '\\.'\n",
      "<string>:401: SyntaxWarning: invalid escape sequence '\\.'\n",
      "<string>:412: SyntaxWarning: invalid escape sequence '\\d'\n",
      "<string>:707: SyntaxWarning: invalid escape sequence '\\s'\n",
      "\n",
      "20it [00:27,  1.40s/it]\u001b[A"
     ]
    },
    {
     "name": "stdout",
     "output_type": "stream",
     "text": [
      "/home/grierjones/DDCASPT2/delta_ML/BeLi\n",
      "raddir /home/grierjones/DDCASPT2/delta_ML/BeLi/2.60\n",
      "/home/grierjones/DDCASPT2/delta_ML/BeLi/2.60\n"
     ]
    },
    {
     "name": "stderr",
     "output_type": "stream",
     "text": [
      "<string>:392: SyntaxWarning: invalid escape sequence '\\.'\n",
      "<string>:401: SyntaxWarning: invalid escape sequence '\\.'\n",
      "<string>:412: SyntaxWarning: invalid escape sequence '\\d'\n",
      "<string>:707: SyntaxWarning: invalid escape sequence '\\s'\n",
      "\n",
      "21it [00:29,  1.41s/it]\u001b[A"
     ]
    },
    {
     "name": "stdout",
     "output_type": "stream",
     "text": [
      "/home/grierjones/DDCASPT2/delta_ML/BeLi\n",
      "raddir /home/grierjones/DDCASPT2/delta_ML/BeLi/2.70\n",
      "/home/grierjones/DDCASPT2/delta_ML/BeLi/2.70\n"
     ]
    },
    {
     "name": "stderr",
     "output_type": "stream",
     "text": [
      "<string>:392: SyntaxWarning: invalid escape sequence '\\.'\n",
      "<string>:401: SyntaxWarning: invalid escape sequence '\\.'\n",
      "<string>:412: SyntaxWarning: invalid escape sequence '\\d'\n",
      "<string>:707: SyntaxWarning: invalid escape sequence '\\s'\n",
      "\n",
      "22it [00:30,  1.41s/it]\u001b[A"
     ]
    },
    {
     "name": "stdout",
     "output_type": "stream",
     "text": [
      "/home/grierjones/DDCASPT2/delta_ML/BeLi\n",
      "raddir /home/grierjones/DDCASPT2/delta_ML/BeLi/2.80\n",
      "/home/grierjones/DDCASPT2/delta_ML/BeLi/2.80\n"
     ]
    },
    {
     "name": "stderr",
     "output_type": "stream",
     "text": [
      "<string>:392: SyntaxWarning: invalid escape sequence '\\.'\n",
      "<string>:401: SyntaxWarning: invalid escape sequence '\\.'\n",
      "<string>:412: SyntaxWarning: invalid escape sequence '\\d'\n",
      "<string>:707: SyntaxWarning: invalid escape sequence '\\s'\n",
      "\n",
      "23it [00:31,  1.39s/it]\u001b[A\n",
      " 36%|██████████████████████████████████████████████████████████████▊                                                                                                               | 13/36 [06:40<11:47, 30.76s/it]"
     ]
    },
    {
     "name": "stdout",
     "output_type": "stream",
     "text": [
      "/home/grierjones/DDCASPT2/delta_ML/BeLi\n",
      "/home/grierjones/DDCASPT2/delta_ML/BeLi\n"
     ]
    },
    {
     "name": "stderr",
     "output_type": "stream",
     "text": [
      "\n",
      "0it [00:00, ?it/s]\u001b[A"
     ]
    },
    {
     "name": "stdout",
     "output_type": "stream",
     "text": [
      "raddir /home/grierjones/DDCASPT2/delta_ML/BeN/0.60\n",
      "/home/grierjones/DDCASPT2/delta_ML/BeN/0.60\n"
     ]
    },
    {
     "name": "stderr",
     "output_type": "stream",
     "text": [
      "<string>:392: SyntaxWarning: invalid escape sequence '\\.'\n",
      "<string>:401: SyntaxWarning: invalid escape sequence '\\.'\n",
      "<string>:412: SyntaxWarning: invalid escape sequence '\\d'\n",
      "<string>:707: SyntaxWarning: invalid escape sequence '\\s'\n",
      "\n",
      "1it [00:01,  1.33s/it]\u001b[A"
     ]
    },
    {
     "name": "stdout",
     "output_type": "stream",
     "text": [
      "/home/grierjones/DDCASPT2/delta_ML/BeN\n",
      "raddir /home/grierjones/DDCASPT2/delta_ML/BeN/0.70\n",
      "/home/grierjones/DDCASPT2/delta_ML/BeN/0.70\n"
     ]
    },
    {
     "name": "stderr",
     "output_type": "stream",
     "text": [
      "<string>:392: SyntaxWarning: invalid escape sequence '\\.'\n",
      "<string>:401: SyntaxWarning: invalid escape sequence '\\.'\n",
      "<string>:412: SyntaxWarning: invalid escape sequence '\\d'\n",
      "<string>:707: SyntaxWarning: invalid escape sequence '\\s'\n",
      "\n",
      "2it [00:02,  1.36s/it]\u001b[A"
     ]
    },
    {
     "name": "stdout",
     "output_type": "stream",
     "text": [
      "/home/grierjones/DDCASPT2/delta_ML/BeN\n",
      "raddir /home/grierjones/DDCASPT2/delta_ML/BeN/0.80\n",
      "/home/grierjones/DDCASPT2/delta_ML/BeN/0.80\n"
     ]
    },
    {
     "name": "stderr",
     "output_type": "stream",
     "text": [
      "<string>:392: SyntaxWarning: invalid escape sequence '\\.'\n",
      "<string>:401: SyntaxWarning: invalid escape sequence '\\.'\n",
      "<string>:412: SyntaxWarning: invalid escape sequence '\\d'\n",
      "<string>:707: SyntaxWarning: invalid escape sequence '\\s'\n",
      "\n",
      "3it [00:04,  1.39s/it]\u001b[A"
     ]
    },
    {
     "name": "stdout",
     "output_type": "stream",
     "text": [
      "/home/grierjones/DDCASPT2/delta_ML/BeN\n",
      "raddir /home/grierjones/DDCASPT2/delta_ML/BeN/0.90\n",
      "/home/grierjones/DDCASPT2/delta_ML/BeN/0.90\n"
     ]
    },
    {
     "name": "stderr",
     "output_type": "stream",
     "text": [
      "<string>:392: SyntaxWarning: invalid escape sequence '\\.'\n",
      "<string>:401: SyntaxWarning: invalid escape sequence '\\.'\n",
      "<string>:412: SyntaxWarning: invalid escape sequence '\\d'\n",
      "<string>:707: SyntaxWarning: invalid escape sequence '\\s'\n",
      "\n",
      "4it [00:05,  1.39s/it]\u001b[A"
     ]
    },
    {
     "name": "stdout",
     "output_type": "stream",
     "text": [
      "/home/grierjones/DDCASPT2/delta_ML/BeN\n",
      "raddir /home/grierjones/DDCASPT2/delta_ML/BeN/1.00\n",
      "/home/grierjones/DDCASPT2/delta_ML/BeN/1.00\n"
     ]
    },
    {
     "name": "stderr",
     "output_type": "stream",
     "text": [
      "<string>:392: SyntaxWarning: invalid escape sequence '\\.'\n",
      "<string>:401: SyntaxWarning: invalid escape sequence '\\.'\n",
      "<string>:412: SyntaxWarning: invalid escape sequence '\\d'\n",
      "<string>:707: SyntaxWarning: invalid escape sequence '\\s'\n",
      "\n",
      "5it [00:07,  1.52s/it]\u001b[A"
     ]
    },
    {
     "name": "stdout",
     "output_type": "stream",
     "text": [
      "/home/grierjones/DDCASPT2/delta_ML/BeN\n",
      "raddir /home/grierjones/DDCASPT2/delta_ML/BeN/1.10\n",
      "/home/grierjones/DDCASPT2/delta_ML/BeN/1.10\n"
     ]
    },
    {
     "name": "stderr",
     "output_type": "stream",
     "text": [
      "<string>:392: SyntaxWarning: invalid escape sequence '\\.'\n",
      "<string>:401: SyntaxWarning: invalid escape sequence '\\.'\n",
      "<string>:412: SyntaxWarning: invalid escape sequence '\\d'\n",
      "<string>:707: SyntaxWarning: invalid escape sequence '\\s'\n",
      "\n",
      "6it [00:08,  1.47s/it]\u001b[A"
     ]
    },
    {
     "name": "stdout",
     "output_type": "stream",
     "text": [
      "/home/grierjones/DDCASPT2/delta_ML/BeN\n",
      "raddir /home/grierjones/DDCASPT2/delta_ML/BeN/1.20\n",
      "/home/grierjones/DDCASPT2/delta_ML/BeN/1.20\n"
     ]
    },
    {
     "name": "stderr",
     "output_type": "stream",
     "text": [
      "<string>:392: SyntaxWarning: invalid escape sequence '\\.'\n",
      "<string>:401: SyntaxWarning: invalid escape sequence '\\.'\n",
      "<string>:412: SyntaxWarning: invalid escape sequence '\\d'\n",
      "<string>:707: SyntaxWarning: invalid escape sequence '\\s'\n",
      "\n",
      "7it [00:10,  1.52s/it]\u001b[A"
     ]
    },
    {
     "name": "stdout",
     "output_type": "stream",
     "text": [
      "/home/grierjones/DDCASPT2/delta_ML/BeN\n",
      "raddir /home/grierjones/DDCASPT2/delta_ML/BeN/1.30\n",
      "/home/grierjones/DDCASPT2/delta_ML/BeN/1.30\n"
     ]
    },
    {
     "name": "stderr",
     "output_type": "stream",
     "text": [
      "<string>:392: SyntaxWarning: invalid escape sequence '\\.'\n",
      "<string>:401: SyntaxWarning: invalid escape sequence '\\.'\n",
      "<string>:412: SyntaxWarning: invalid escape sequence '\\d'\n",
      "<string>:707: SyntaxWarning: invalid escape sequence '\\s'\n",
      "\n",
      "8it [00:11,  1.58s/it]\u001b[A"
     ]
    },
    {
     "name": "stdout",
     "output_type": "stream",
     "text": [
      "/home/grierjones/DDCASPT2/delta_ML/BeN\n",
      "raddir /home/grierjones/DDCASPT2/delta_ML/BeN/1.40\n",
      "/home/grierjones/DDCASPT2/delta_ML/BeN/1.40\n"
     ]
    },
    {
     "name": "stderr",
     "output_type": "stream",
     "text": [
      "<string>:392: SyntaxWarning: invalid escape sequence '\\.'\n",
      "<string>:401: SyntaxWarning: invalid escape sequence '\\.'\n",
      "<string>:412: SyntaxWarning: invalid escape sequence '\\d'\n",
      "<string>:707: SyntaxWarning: invalid escape sequence '\\s'\n",
      "\n",
      "9it [00:13,  1.53s/it]\u001b[A"
     ]
    },
    {
     "name": "stdout",
     "output_type": "stream",
     "text": [
      "/home/grierjones/DDCASPT2/delta_ML/BeN\n",
      "raddir /home/grierjones/DDCASPT2/delta_ML/BeN/1.50\n",
      "/home/grierjones/DDCASPT2/delta_ML/BeN/1.50\n"
     ]
    },
    {
     "name": "stderr",
     "output_type": "stream",
     "text": [
      "<string>:392: SyntaxWarning: invalid escape sequence '\\.'\n",
      "<string>:401: SyntaxWarning: invalid escape sequence '\\.'\n",
      "<string>:412: SyntaxWarning: invalid escape sequence '\\d'\n",
      "<string>:707: SyntaxWarning: invalid escape sequence '\\s'\n",
      "\n",
      "10it [00:15,  1.59s/it]\u001b[A"
     ]
    },
    {
     "name": "stdout",
     "output_type": "stream",
     "text": [
      "/home/grierjones/DDCASPT2/delta_ML/BeN\n",
      "raddir /home/grierjones/DDCASPT2/delta_ML/BeN/1.60\n",
      "/home/grierjones/DDCASPT2/delta_ML/BeN/1.60\n"
     ]
    },
    {
     "name": "stderr",
     "output_type": "stream",
     "text": [
      "<string>:392: SyntaxWarning: invalid escape sequence '\\.'\n",
      "<string>:401: SyntaxWarning: invalid escape sequence '\\.'\n",
      "<string>:412: SyntaxWarning: invalid escape sequence '\\d'\n",
      "<string>:707: SyntaxWarning: invalid escape sequence '\\s'\n",
      "\n",
      "11it [00:16,  1.58s/it]\u001b[A"
     ]
    },
    {
     "name": "stdout",
     "output_type": "stream",
     "text": [
      "/home/grierjones/DDCASPT2/delta_ML/BeN\n",
      "raddir /home/grierjones/DDCASPT2/delta_ML/BeN/1.70\n",
      "/home/grierjones/DDCASPT2/delta_ML/BeN/1.70\n"
     ]
    },
    {
     "name": "stderr",
     "output_type": "stream",
     "text": [
      "<string>:392: SyntaxWarning: invalid escape sequence '\\.'\n",
      "<string>:401: SyntaxWarning: invalid escape sequence '\\.'\n",
      "<string>:412: SyntaxWarning: invalid escape sequence '\\d'\n",
      "<string>:707: SyntaxWarning: invalid escape sequence '\\s'\n",
      "\n",
      "12it [00:18,  1.55s/it]\u001b[A"
     ]
    },
    {
     "name": "stdout",
     "output_type": "stream",
     "text": [
      "/home/grierjones/DDCASPT2/delta_ML/BeN\n",
      "raddir /home/grierjones/DDCASPT2/delta_ML/BeN/1.80\n",
      "/home/grierjones/DDCASPT2/delta_ML/BeN/1.80\n"
     ]
    },
    {
     "name": "stderr",
     "output_type": "stream",
     "text": [
      "<string>:392: SyntaxWarning: invalid escape sequence '\\.'\n",
      "<string>:401: SyntaxWarning: invalid escape sequence '\\.'\n",
      "<string>:412: SyntaxWarning: invalid escape sequence '\\d'\n",
      "<string>:707: SyntaxWarning: invalid escape sequence '\\s'\n",
      "\n",
      "13it [00:19,  1.53s/it]\u001b[A"
     ]
    },
    {
     "name": "stdout",
     "output_type": "stream",
     "text": [
      "/home/grierjones/DDCASPT2/delta_ML/BeN\n",
      "raddir /home/grierjones/DDCASPT2/delta_ML/BeN/1.90\n",
      "/home/grierjones/DDCASPT2/delta_ML/BeN/1.90\n"
     ]
    },
    {
     "name": "stderr",
     "output_type": "stream",
     "text": [
      "<string>:392: SyntaxWarning: invalid escape sequence '\\.'\n",
      "<string>:401: SyntaxWarning: invalid escape sequence '\\.'\n",
      "<string>:412: SyntaxWarning: invalid escape sequence '\\d'\n",
      "<string>:707: SyntaxWarning: invalid escape sequence '\\s'\n",
      "\n",
      "14it [00:21,  1.51s/it]\u001b[A"
     ]
    },
    {
     "name": "stdout",
     "output_type": "stream",
     "text": [
      "/home/grierjones/DDCASPT2/delta_ML/BeN\n",
      "raddir /home/grierjones/DDCASPT2/delta_ML/BeN/2.00\n",
      "/home/grierjones/DDCASPT2/delta_ML/BeN/2.00\n"
     ]
    },
    {
     "name": "stderr",
     "output_type": "stream",
     "text": [
      "<string>:392: SyntaxWarning: invalid escape sequence '\\.'\n",
      "<string>:401: SyntaxWarning: invalid escape sequence '\\.'\n",
      "<string>:412: SyntaxWarning: invalid escape sequence '\\d'\n",
      "<string>:707: SyntaxWarning: invalid escape sequence '\\s'\n",
      "\n",
      "15it [00:22,  1.56s/it]\u001b[A"
     ]
    },
    {
     "name": "stdout",
     "output_type": "stream",
     "text": [
      "/home/grierjones/DDCASPT2/delta_ML/BeN\n",
      "raddir /home/grierjones/DDCASPT2/delta_ML/BeN/2.10\n",
      "/home/grierjones/DDCASPT2/delta_ML/BeN/2.10\n"
     ]
    },
    {
     "name": "stderr",
     "output_type": "stream",
     "text": [
      "<string>:392: SyntaxWarning: invalid escape sequence '\\.'\n",
      "<string>:401: SyntaxWarning: invalid escape sequence '\\.'\n",
      "<string>:412: SyntaxWarning: invalid escape sequence '\\d'\n",
      "<string>:707: SyntaxWarning: invalid escape sequence '\\s'\n",
      "\n",
      "16it [00:24,  1.61s/it]\u001b[A"
     ]
    },
    {
     "name": "stdout",
     "output_type": "stream",
     "text": [
      "/home/grierjones/DDCASPT2/delta_ML/BeN\n",
      "raddir /home/grierjones/DDCASPT2/delta_ML/BeN/2.20\n",
      "/home/grierjones/DDCASPT2/delta_ML/BeN/2.20\n"
     ]
    },
    {
     "name": "stderr",
     "output_type": "stream",
     "text": [
      "<string>:392: SyntaxWarning: invalid escape sequence '\\.'\n",
      "<string>:401: SyntaxWarning: invalid escape sequence '\\.'\n",
      "<string>:412: SyntaxWarning: invalid escape sequence '\\d'\n",
      "<string>:707: SyntaxWarning: invalid escape sequence '\\s'\n",
      "\n",
      "17it [00:26,  1.59s/it]\u001b[A"
     ]
    },
    {
     "name": "stdout",
     "output_type": "stream",
     "text": [
      "/home/grierjones/DDCASPT2/delta_ML/BeN\n",
      "raddir /home/grierjones/DDCASPT2/delta_ML/BeN/2.30\n",
      "/home/grierjones/DDCASPT2/delta_ML/BeN/2.30\n"
     ]
    },
    {
     "name": "stderr",
     "output_type": "stream",
     "text": [
      "<string>:392: SyntaxWarning: invalid escape sequence '\\.'\n",
      "<string>:401: SyntaxWarning: invalid escape sequence '\\.'\n",
      "<string>:412: SyntaxWarning: invalid escape sequence '\\d'\n",
      "<string>:707: SyntaxWarning: invalid escape sequence '\\s'\n",
      "\n",
      "18it [00:27,  1.54s/it]\u001b[A"
     ]
    },
    {
     "name": "stdout",
     "output_type": "stream",
     "text": [
      "/home/grierjones/DDCASPT2/delta_ML/BeN\n",
      "raddir /home/grierjones/DDCASPT2/delta_ML/BeN/2.40\n",
      "/home/grierjones/DDCASPT2/delta_ML/BeN/2.40\n"
     ]
    },
    {
     "name": "stderr",
     "output_type": "stream",
     "text": [
      "<string>:392: SyntaxWarning: invalid escape sequence '\\.'\n",
      "<string>:401: SyntaxWarning: invalid escape sequence '\\.'\n",
      "<string>:412: SyntaxWarning: invalid escape sequence '\\d'\n",
      "<string>:707: SyntaxWarning: invalid escape sequence '\\s'\n",
      "\n",
      "19it [00:28,  1.50s/it]\u001b[A"
     ]
    },
    {
     "name": "stdout",
     "output_type": "stream",
     "text": [
      "/home/grierjones/DDCASPT2/delta_ML/BeN\n",
      "raddir /home/grierjones/DDCASPT2/delta_ML/BeN/2.50\n",
      "/home/grierjones/DDCASPT2/delta_ML/BeN/2.50\n"
     ]
    },
    {
     "name": "stderr",
     "output_type": "stream",
     "text": [
      "<string>:392: SyntaxWarning: invalid escape sequence '\\.'\n",
      "<string>:401: SyntaxWarning: invalid escape sequence '\\.'\n",
      "<string>:412: SyntaxWarning: invalid escape sequence '\\d'\n",
      "<string>:707: SyntaxWarning: invalid escape sequence '\\s'\n",
      "\n",
      "20it [00:30,  1.47s/it]\u001b[A"
     ]
    },
    {
     "name": "stdout",
     "output_type": "stream",
     "text": [
      "/home/grierjones/DDCASPT2/delta_ML/BeN\n",
      "raddir /home/grierjones/DDCASPT2/delta_ML/BeN/2.60\n",
      "/home/grierjones/DDCASPT2/delta_ML/BeN/2.60\n"
     ]
    },
    {
     "name": "stderr",
     "output_type": "stream",
     "text": [
      "<string>:392: SyntaxWarning: invalid escape sequence '\\.'\n",
      "<string>:401: SyntaxWarning: invalid escape sequence '\\.'\n",
      "<string>:412: SyntaxWarning: invalid escape sequence '\\d'\n",
      "<string>:707: SyntaxWarning: invalid escape sequence '\\s'\n",
      "\n",
      "21it [00:31,  1.44s/it]\u001b[A"
     ]
    },
    {
     "name": "stdout",
     "output_type": "stream",
     "text": [
      "/home/grierjones/DDCASPT2/delta_ML/BeN\n",
      "raddir /home/grierjones/DDCASPT2/delta_ML/BeN/2.70\n",
      "/home/grierjones/DDCASPT2/delta_ML/BeN/2.70\n"
     ]
    },
    {
     "name": "stderr",
     "output_type": "stream",
     "text": [
      "<string>:392: SyntaxWarning: invalid escape sequence '\\.'\n",
      "<string>:401: SyntaxWarning: invalid escape sequence '\\.'\n",
      "<string>:412: SyntaxWarning: invalid escape sequence '\\d'\n",
      "<string>:707: SyntaxWarning: invalid escape sequence '\\s'\n",
      "\n",
      "22it [00:33,  1.42s/it]\u001b[A"
     ]
    },
    {
     "name": "stdout",
     "output_type": "stream",
     "text": [
      "/home/grierjones/DDCASPT2/delta_ML/BeN\n",
      "raddir /home/grierjones/DDCASPT2/delta_ML/BeN/2.80\n",
      "/home/grierjones/DDCASPT2/delta_ML/BeN/2.80\n"
     ]
    },
    {
     "name": "stderr",
     "output_type": "stream",
     "text": [
      "<string>:392: SyntaxWarning: invalid escape sequence '\\.'\n",
      "<string>:401: SyntaxWarning: invalid escape sequence '\\.'\n",
      "<string>:412: SyntaxWarning: invalid escape sequence '\\d'\n",
      "<string>:707: SyntaxWarning: invalid escape sequence '\\s'\n",
      "\n",
      "23it [00:34,  1.50s/it]\u001b[A\n",
      " 39%|███████████████████████████████████████████████████████████████████▋                                                                                                          | 14/36 [07:14<11:40, 31.86s/it]"
     ]
    },
    {
     "name": "stdout",
     "output_type": "stream",
     "text": [
      "/home/grierjones/DDCASPT2/delta_ML/BeN\n",
      "/home/grierjones/DDCASPT2/delta_ML/BeN\n"
     ]
    },
    {
     "name": "stderr",
     "output_type": "stream",
     "text": [
      "\n",
      "0it [00:00, ?it/s]\u001b[A"
     ]
    },
    {
     "name": "stdout",
     "output_type": "stream",
     "text": [
      "raddir /home/grierjones/DDCASPT2/delta_ML/BeO/0.60\n",
      "/home/grierjones/DDCASPT2/delta_ML/BeO/0.60\n"
     ]
    },
    {
     "name": "stderr",
     "output_type": "stream",
     "text": [
      "<string>:392: SyntaxWarning: invalid escape sequence '\\.'\n",
      "<string>:401: SyntaxWarning: invalid escape sequence '\\.'\n",
      "<string>:412: SyntaxWarning: invalid escape sequence '\\d'\n",
      "<string>:707: SyntaxWarning: invalid escape sequence '\\s'\n",
      "\n",
      "1it [00:01,  1.30s/it]\u001b[A"
     ]
    },
    {
     "name": "stdout",
     "output_type": "stream",
     "text": [
      "/home/grierjones/DDCASPT2/delta_ML/BeO\n",
      "raddir /home/grierjones/DDCASPT2/delta_ML/BeO/0.70\n",
      "/home/grierjones/DDCASPT2/delta_ML/BeO/0.70\n"
     ]
    },
    {
     "name": "stderr",
     "output_type": "stream",
     "text": [
      "<string>:392: SyntaxWarning: invalid escape sequence '\\.'\n",
      "<string>:401: SyntaxWarning: invalid escape sequence '\\.'\n",
      "<string>:412: SyntaxWarning: invalid escape sequence '\\d'\n",
      "<string>:707: SyntaxWarning: invalid escape sequence '\\s'\n",
      "\n",
      "2it [00:02,  1.29s/it]\u001b[A"
     ]
    },
    {
     "name": "stdout",
     "output_type": "stream",
     "text": [
      "/home/grierjones/DDCASPT2/delta_ML/BeO\n",
      "raddir /home/grierjones/DDCASPT2/delta_ML/BeO/0.80\n",
      "/home/grierjones/DDCASPT2/delta_ML/BeO/0.80\n"
     ]
    },
    {
     "name": "stderr",
     "output_type": "stream",
     "text": [
      "<string>:392: SyntaxWarning: invalid escape sequence '\\.'\n",
      "<string>:401: SyntaxWarning: invalid escape sequence '\\.'\n",
      "<string>:412: SyntaxWarning: invalid escape sequence '\\d'\n",
      "<string>:707: SyntaxWarning: invalid escape sequence '\\s'\n",
      "\n",
      "3it [00:03,  1.31s/it]\u001b[A"
     ]
    },
    {
     "name": "stdout",
     "output_type": "stream",
     "text": [
      "/home/grierjones/DDCASPT2/delta_ML/BeO\n",
      "raddir /home/grierjones/DDCASPT2/delta_ML/BeO/0.90\n",
      "/home/grierjones/DDCASPT2/delta_ML/BeO/0.90\n"
     ]
    },
    {
     "name": "stderr",
     "output_type": "stream",
     "text": [
      "<string>:392: SyntaxWarning: invalid escape sequence '\\.'\n",
      "<string>:401: SyntaxWarning: invalid escape sequence '\\.'\n",
      "<string>:412: SyntaxWarning: invalid escape sequence '\\d'\n",
      "<string>:707: SyntaxWarning: invalid escape sequence '\\s'\n",
      "\n",
      "4it [00:05,  1.30s/it]\u001b[A"
     ]
    },
    {
     "name": "stdout",
     "output_type": "stream",
     "text": [
      "/home/grierjones/DDCASPT2/delta_ML/BeO\n",
      "raddir /home/grierjones/DDCASPT2/delta_ML/BeO/1.00\n",
      "/home/grierjones/DDCASPT2/delta_ML/BeO/1.00\n"
     ]
    },
    {
     "name": "stderr",
     "output_type": "stream",
     "text": [
      "<string>:392: SyntaxWarning: invalid escape sequence '\\.'\n",
      "<string>:401: SyntaxWarning: invalid escape sequence '\\.'\n",
      "<string>:412: SyntaxWarning: invalid escape sequence '\\d'\n",
      "<string>:707: SyntaxWarning: invalid escape sequence '\\s'\n",
      "\n",
      "5it [00:06,  1.30s/it]\u001b[A"
     ]
    },
    {
     "name": "stdout",
     "output_type": "stream",
     "text": [
      "/home/grierjones/DDCASPT2/delta_ML/BeO\n",
      "raddir /home/grierjones/DDCASPT2/delta_ML/BeO/1.10\n",
      "/home/grierjones/DDCASPT2/delta_ML/BeO/1.10\n"
     ]
    },
    {
     "name": "stderr",
     "output_type": "stream",
     "text": [
      "<string>:392: SyntaxWarning: invalid escape sequence '\\.'\n",
      "<string>:401: SyntaxWarning: invalid escape sequence '\\.'\n",
      "<string>:412: SyntaxWarning: invalid escape sequence '\\d'\n",
      "<string>:707: SyntaxWarning: invalid escape sequence '\\s'\n",
      "\n",
      "6it [00:07,  1.31s/it]\u001b[A"
     ]
    },
    {
     "name": "stdout",
     "output_type": "stream",
     "text": [
      "/home/grierjones/DDCASPT2/delta_ML/BeO\n",
      "raddir /home/grierjones/DDCASPT2/delta_ML/BeO/1.20\n",
      "/home/grierjones/DDCASPT2/delta_ML/BeO/1.20\n"
     ]
    },
    {
     "name": "stderr",
     "output_type": "stream",
     "text": [
      "<string>:392: SyntaxWarning: invalid escape sequence '\\.'\n",
      "<string>:401: SyntaxWarning: invalid escape sequence '\\.'\n",
      "<string>:412: SyntaxWarning: invalid escape sequence '\\d'\n",
      "<string>:707: SyntaxWarning: invalid escape sequence '\\s'\n",
      "\n",
      "7it [00:09,  1.31s/it]\u001b[A"
     ]
    },
    {
     "name": "stdout",
     "output_type": "stream",
     "text": [
      "/home/grierjones/DDCASPT2/delta_ML/BeO\n",
      "raddir /home/grierjones/DDCASPT2/delta_ML/BeO/1.30\n",
      "/home/grierjones/DDCASPT2/delta_ML/BeO/1.30\n"
     ]
    },
    {
     "name": "stderr",
     "output_type": "stream",
     "text": [
      "<string>:392: SyntaxWarning: invalid escape sequence '\\.'\n",
      "<string>:401: SyntaxWarning: invalid escape sequence '\\.'\n",
      "<string>:412: SyntaxWarning: invalid escape sequence '\\d'\n",
      "<string>:707: SyntaxWarning: invalid escape sequence '\\s'\n",
      "\n",
      "8it [00:10,  1.31s/it]\u001b[A"
     ]
    },
    {
     "name": "stdout",
     "output_type": "stream",
     "text": [
      "/home/grierjones/DDCASPT2/delta_ML/BeO\n",
      "raddir /home/grierjones/DDCASPT2/delta_ML/BeO/1.40\n",
      "/home/grierjones/DDCASPT2/delta_ML/BeO/1.40\n"
     ]
    },
    {
     "name": "stderr",
     "output_type": "stream",
     "text": [
      "<string>:392: SyntaxWarning: invalid escape sequence '\\.'\n",
      "<string>:401: SyntaxWarning: invalid escape sequence '\\.'\n",
      "<string>:412: SyntaxWarning: invalid escape sequence '\\d'\n",
      "<string>:707: SyntaxWarning: invalid escape sequence '\\s'\n",
      "\n",
      "9it [00:11,  1.31s/it]\u001b[A"
     ]
    },
    {
     "name": "stdout",
     "output_type": "stream",
     "text": [
      "/home/grierjones/DDCASPT2/delta_ML/BeO\n",
      "raddir /home/grierjones/DDCASPT2/delta_ML/BeO/1.50\n",
      "/home/grierjones/DDCASPT2/delta_ML/BeO/1.50\n"
     ]
    },
    {
     "name": "stderr",
     "output_type": "stream",
     "text": [
      "<string>:392: SyntaxWarning: invalid escape sequence '\\.'\n",
      "<string>:401: SyntaxWarning: invalid escape sequence '\\.'\n",
      "<string>:412: SyntaxWarning: invalid escape sequence '\\d'\n",
      "<string>:707: SyntaxWarning: invalid escape sequence '\\s'\n",
      "\n",
      "10it [00:13,  1.31s/it]\u001b[A"
     ]
    },
    {
     "name": "stdout",
     "output_type": "stream",
     "text": [
      "/home/grierjones/DDCASPT2/delta_ML/BeO\n",
      "raddir /home/grierjones/DDCASPT2/delta_ML/BeO/1.60\n",
      "/home/grierjones/DDCASPT2/delta_ML/BeO/1.60\n"
     ]
    },
    {
     "name": "stderr",
     "output_type": "stream",
     "text": [
      "<string>:392: SyntaxWarning: invalid escape sequence '\\.'\n",
      "<string>:401: SyntaxWarning: invalid escape sequence '\\.'\n",
      "<string>:412: SyntaxWarning: invalid escape sequence '\\d'\n",
      "<string>:707: SyntaxWarning: invalid escape sequence '\\s'\n",
      "\n",
      "11it [00:14,  1.31s/it]\u001b[A"
     ]
    },
    {
     "name": "stdout",
     "output_type": "stream",
     "text": [
      "/home/grierjones/DDCASPT2/delta_ML/BeO\n",
      "raddir /home/grierjones/DDCASPT2/delta_ML/BeO/1.70\n",
      "/home/grierjones/DDCASPT2/delta_ML/BeO/1.70\n"
     ]
    },
    {
     "name": "stderr",
     "output_type": "stream",
     "text": [
      "<string>:392: SyntaxWarning: invalid escape sequence '\\.'\n",
      "<string>:401: SyntaxWarning: invalid escape sequence '\\.'\n",
      "<string>:412: SyntaxWarning: invalid escape sequence '\\d'\n",
      "<string>:707: SyntaxWarning: invalid escape sequence '\\s'\n",
      "\n",
      "12it [00:15,  1.31s/it]\u001b[A"
     ]
    },
    {
     "name": "stdout",
     "output_type": "stream",
     "text": [
      "/home/grierjones/DDCASPT2/delta_ML/BeO\n",
      "raddir /home/grierjones/DDCASPT2/delta_ML/BeO/1.80\n",
      "/home/grierjones/DDCASPT2/delta_ML/BeO/1.80\n"
     ]
    },
    {
     "name": "stderr",
     "output_type": "stream",
     "text": [
      "<string>:392: SyntaxWarning: invalid escape sequence '\\.'\n",
      "<string>:401: SyntaxWarning: invalid escape sequence '\\.'\n",
      "<string>:412: SyntaxWarning: invalid escape sequence '\\d'\n",
      "<string>:707: SyntaxWarning: invalid escape sequence '\\s'\n",
      "\n",
      "13it [00:17,  1.31s/it]\u001b[A"
     ]
    },
    {
     "name": "stdout",
     "output_type": "stream",
     "text": [
      "/home/grierjones/DDCASPT2/delta_ML/BeO\n",
      "raddir /home/grierjones/DDCASPT2/delta_ML/BeO/1.90\n",
      "/home/grierjones/DDCASPT2/delta_ML/BeO/1.90\n"
     ]
    },
    {
     "name": "stderr",
     "output_type": "stream",
     "text": [
      "<string>:392: SyntaxWarning: invalid escape sequence '\\.'\n",
      "<string>:401: SyntaxWarning: invalid escape sequence '\\.'\n",
      "<string>:412: SyntaxWarning: invalid escape sequence '\\d'\n",
      "<string>:707: SyntaxWarning: invalid escape sequence '\\s'\n",
      "\n",
      "14it [00:18,  1.31s/it]\u001b[A"
     ]
    },
    {
     "name": "stdout",
     "output_type": "stream",
     "text": [
      "/home/grierjones/DDCASPT2/delta_ML/BeO\n",
      "raddir /home/grierjones/DDCASPT2/delta_ML/BeO/2.00\n",
      "/home/grierjones/DDCASPT2/delta_ML/BeO/2.00\n"
     ]
    },
    {
     "name": "stderr",
     "output_type": "stream",
     "text": [
      "<string>:392: SyntaxWarning: invalid escape sequence '\\.'\n",
      "<string>:401: SyntaxWarning: invalid escape sequence '\\.'\n",
      "<string>:412: SyntaxWarning: invalid escape sequence '\\d'\n",
      "<string>:707: SyntaxWarning: invalid escape sequence '\\s'\n",
      "\n",
      "15it [00:19,  1.31s/it]\u001b[A"
     ]
    },
    {
     "name": "stdout",
     "output_type": "stream",
     "text": [
      "/home/grierjones/DDCASPT2/delta_ML/BeO\n",
      "raddir /home/grierjones/DDCASPT2/delta_ML/BeO/2.10\n",
      "/home/grierjones/DDCASPT2/delta_ML/BeO/2.10\n"
     ]
    },
    {
     "name": "stderr",
     "output_type": "stream",
     "text": [
      "<string>:392: SyntaxWarning: invalid escape sequence '\\.'\n",
      "<string>:401: SyntaxWarning: invalid escape sequence '\\.'\n",
      "<string>:412: SyntaxWarning: invalid escape sequence '\\d'\n",
      "<string>:707: SyntaxWarning: invalid escape sequence '\\s'\n",
      "\n",
      "16it [00:20,  1.31s/it]\u001b[A"
     ]
    },
    {
     "name": "stdout",
     "output_type": "stream",
     "text": [
      "/home/grierjones/DDCASPT2/delta_ML/BeO\n",
      "raddir /home/grierjones/DDCASPT2/delta_ML/BeO/2.20\n",
      "/home/grierjones/DDCASPT2/delta_ML/BeO/2.20\n"
     ]
    },
    {
     "name": "stderr",
     "output_type": "stream",
     "text": [
      "<string>:392: SyntaxWarning: invalid escape sequence '\\.'\n",
      "<string>:401: SyntaxWarning: invalid escape sequence '\\.'\n",
      "<string>:412: SyntaxWarning: invalid escape sequence '\\d'\n",
      "<string>:707: SyntaxWarning: invalid escape sequence '\\s'\n",
      "\n",
      "17it [00:22,  1.30s/it]\u001b[A"
     ]
    },
    {
     "name": "stdout",
     "output_type": "stream",
     "text": [
      "/home/grierjones/DDCASPT2/delta_ML/BeO\n",
      "raddir /home/grierjones/DDCASPT2/delta_ML/BeO/2.30\n",
      "/home/grierjones/DDCASPT2/delta_ML/BeO/2.30\n"
     ]
    },
    {
     "name": "stderr",
     "output_type": "stream",
     "text": [
      "<string>:392: SyntaxWarning: invalid escape sequence '\\.'\n",
      "<string>:401: SyntaxWarning: invalid escape sequence '\\.'\n",
      "<string>:412: SyntaxWarning: invalid escape sequence '\\d'\n",
      "<string>:707: SyntaxWarning: invalid escape sequence '\\s'\n",
      "\n",
      "18it [00:23,  1.30s/it]\u001b[A"
     ]
    },
    {
     "name": "stdout",
     "output_type": "stream",
     "text": [
      "/home/grierjones/DDCASPT2/delta_ML/BeO\n",
      "raddir /home/grierjones/DDCASPT2/delta_ML/BeO/2.40\n",
      "/home/grierjones/DDCASPT2/delta_ML/BeO/2.40\n"
     ]
    },
    {
     "name": "stderr",
     "output_type": "stream",
     "text": [
      "<string>:392: SyntaxWarning: invalid escape sequence '\\.'\n",
      "<string>:401: SyntaxWarning: invalid escape sequence '\\.'\n",
      "<string>:412: SyntaxWarning: invalid escape sequence '\\d'\n",
      "<string>:707: SyntaxWarning: invalid escape sequence '\\s'\n",
      "\n",
      "19it [00:24,  1.30s/it]\u001b[A"
     ]
    },
    {
     "name": "stdout",
     "output_type": "stream",
     "text": [
      "/home/grierjones/DDCASPT2/delta_ML/BeO\n",
      "raddir /home/grierjones/DDCASPT2/delta_ML/BeO/2.50\n",
      "/home/grierjones/DDCASPT2/delta_ML/BeO/2.50\n"
     ]
    },
    {
     "name": "stderr",
     "output_type": "stream",
     "text": [
      "<string>:392: SyntaxWarning: invalid escape sequence '\\.'\n",
      "<string>:401: SyntaxWarning: invalid escape sequence '\\.'\n",
      "<string>:412: SyntaxWarning: invalid escape sequence '\\d'\n",
      "<string>:707: SyntaxWarning: invalid escape sequence '\\s'\n",
      "\n",
      "20it [00:26,  1.29s/it]\u001b[A"
     ]
    },
    {
     "name": "stdout",
     "output_type": "stream",
     "text": [
      "/home/grierjones/DDCASPT2/delta_ML/BeO\n",
      "raddir /home/grierjones/DDCASPT2/delta_ML/BeO/2.60\n",
      "/home/grierjones/DDCASPT2/delta_ML/BeO/2.60\n"
     ]
    },
    {
     "name": "stderr",
     "output_type": "stream",
     "text": [
      "<string>:392: SyntaxWarning: invalid escape sequence '\\.'\n",
      "<string>:401: SyntaxWarning: invalid escape sequence '\\.'\n",
      "<string>:412: SyntaxWarning: invalid escape sequence '\\d'\n",
      "<string>:707: SyntaxWarning: invalid escape sequence '\\s'\n",
      "\n",
      "21it [00:27,  1.29s/it]\u001b[A"
     ]
    },
    {
     "name": "stdout",
     "output_type": "stream",
     "text": [
      "/home/grierjones/DDCASPT2/delta_ML/BeO\n",
      "raddir /home/grierjones/DDCASPT2/delta_ML/BeO/2.70\n",
      "/home/grierjones/DDCASPT2/delta_ML/BeO/2.70\n"
     ]
    },
    {
     "name": "stderr",
     "output_type": "stream",
     "text": [
      "<string>:392: SyntaxWarning: invalid escape sequence '\\.'\n",
      "<string>:401: SyntaxWarning: invalid escape sequence '\\.'\n",
      "<string>:412: SyntaxWarning: invalid escape sequence '\\d'\n",
      "<string>:707: SyntaxWarning: invalid escape sequence '\\s'\n",
      "\n",
      "22it [00:28,  1.28s/it]\u001b[A"
     ]
    },
    {
     "name": "stdout",
     "output_type": "stream",
     "text": [
      "/home/grierjones/DDCASPT2/delta_ML/BeO\n",
      "raddir /home/grierjones/DDCASPT2/delta_ML/BeO/2.80\n",
      "/home/grierjones/DDCASPT2/delta_ML/BeO/2.80\n"
     ]
    },
    {
     "name": "stderr",
     "output_type": "stream",
     "text": [
      "<string>:392: SyntaxWarning: invalid escape sequence '\\.'\n",
      "<string>:401: SyntaxWarning: invalid escape sequence '\\.'\n",
      "<string>:412: SyntaxWarning: invalid escape sequence '\\d'\n",
      "<string>:707: SyntaxWarning: invalid escape sequence '\\s'\n",
      "\n",
      "23it [00:29,  1.30s/it]\u001b[A\n",
      " 42%|████████████████████████████████████████████████████████████████████████▌                                                                                                     | 15/36 [07:44<10:56, 31.27s/it]"
     ]
    },
    {
     "name": "stdout",
     "output_type": "stream",
     "text": [
      "/home/grierjones/DDCASPT2/delta_ML/BeO\n",
      "/home/grierjones/DDCASPT2/delta_ML/BeO\n"
     ]
    },
    {
     "name": "stderr",
     "output_type": "stream",
     "text": [
      "\n",
      "0it [00:00, ?it/s]\u001b[A"
     ]
    },
    {
     "name": "stdout",
     "output_type": "stream",
     "text": [
      "raddir /home/grierjones/DDCASPT2/delta_ML/CC/0.60\n",
      "/home/grierjones/DDCASPT2/delta_ML/CC/0.60\n"
     ]
    },
    {
     "name": "stderr",
     "output_type": "stream",
     "text": [
      "<string>:392: SyntaxWarning: invalid escape sequence '\\.'\n",
      "<string>:401: SyntaxWarning: invalid escape sequence '\\.'\n",
      "<string>:412: SyntaxWarning: invalid escape sequence '\\d'\n",
      "<string>:707: SyntaxWarning: invalid escape sequence '\\s'\n",
      "\n",
      "1it [00:01,  1.24s/it]\u001b[A"
     ]
    },
    {
     "name": "stdout",
     "output_type": "stream",
     "text": [
      "/home/grierjones/DDCASPT2/delta_ML/CC\n",
      "raddir /home/grierjones/DDCASPT2/delta_ML/CC/0.70\n",
      "/home/grierjones/DDCASPT2/delta_ML/CC/0.70\n"
     ]
    },
    {
     "name": "stderr",
     "output_type": "stream",
     "text": [
      "<string>:392: SyntaxWarning: invalid escape sequence '\\.'\n",
      "<string>:401: SyntaxWarning: invalid escape sequence '\\.'\n",
      "<string>:412: SyntaxWarning: invalid escape sequence '\\d'\n",
      "<string>:707: SyntaxWarning: invalid escape sequence '\\s'\n",
      "\n",
      "2it [00:02,  1.25s/it]\u001b[A"
     ]
    },
    {
     "name": "stdout",
     "output_type": "stream",
     "text": [
      "/home/grierjones/DDCASPT2/delta_ML/CC\n",
      "raddir /home/grierjones/DDCASPT2/delta_ML/CC/0.80\n",
      "/home/grierjones/DDCASPT2/delta_ML/CC/0.80\n"
     ]
    },
    {
     "name": "stderr",
     "output_type": "stream",
     "text": [
      "<string>:392: SyntaxWarning: invalid escape sequence '\\.'\n",
      "<string>:401: SyntaxWarning: invalid escape sequence '\\.'\n",
      "<string>:412: SyntaxWarning: invalid escape sequence '\\d'\n",
      "<string>:707: SyntaxWarning: invalid escape sequence '\\s'\n",
      "\n",
      "3it [00:03,  1.25s/it]\u001b[A"
     ]
    },
    {
     "name": "stdout",
     "output_type": "stream",
     "text": [
      "/home/grierjones/DDCASPT2/delta_ML/CC\n",
      "raddir /home/grierjones/DDCASPT2/delta_ML/CC/0.90\n",
      "/home/grierjones/DDCASPT2/delta_ML/CC/0.90\n"
     ]
    },
    {
     "name": "stderr",
     "output_type": "stream",
     "text": [
      "<string>:392: SyntaxWarning: invalid escape sequence '\\.'\n",
      "<string>:401: SyntaxWarning: invalid escape sequence '\\.'\n",
      "<string>:412: SyntaxWarning: invalid escape sequence '\\d'\n",
      "<string>:707: SyntaxWarning: invalid escape sequence '\\s'\n",
      "\n",
      "4it [00:05,  1.25s/it]\u001b[A"
     ]
    },
    {
     "name": "stdout",
     "output_type": "stream",
     "text": [
      "/home/grierjones/DDCASPT2/delta_ML/CC\n",
      "raddir /home/grierjones/DDCASPT2/delta_ML/CC/1.00\n",
      "/home/grierjones/DDCASPT2/delta_ML/CC/1.00\n"
     ]
    },
    {
     "name": "stderr",
     "output_type": "stream",
     "text": [
      "<string>:392: SyntaxWarning: invalid escape sequence '\\.'\n",
      "<string>:401: SyntaxWarning: invalid escape sequence '\\.'\n",
      "<string>:412: SyntaxWarning: invalid escape sequence '\\d'\n",
      "<string>:707: SyntaxWarning: invalid escape sequence '\\s'\n",
      "\n",
      "5it [00:06,  1.25s/it]\u001b[A"
     ]
    },
    {
     "name": "stdout",
     "output_type": "stream",
     "text": [
      "/home/grierjones/DDCASPT2/delta_ML/CC\n",
      "raddir /home/grierjones/DDCASPT2/delta_ML/CC/1.10\n",
      "/home/grierjones/DDCASPT2/delta_ML/CC/1.10\n"
     ]
    },
    {
     "name": "stderr",
     "output_type": "stream",
     "text": [
      "<string>:392: SyntaxWarning: invalid escape sequence '\\.'\n",
      "<string>:401: SyntaxWarning: invalid escape sequence '\\.'\n",
      "<string>:412: SyntaxWarning: invalid escape sequence '\\d'\n",
      "<string>:707: SyntaxWarning: invalid escape sequence '\\s'\n",
      "\n",
      "6it [00:07,  1.26s/it]\u001b[A"
     ]
    },
    {
     "name": "stdout",
     "output_type": "stream",
     "text": [
      "/home/grierjones/DDCASPT2/delta_ML/CC\n",
      "raddir /home/grierjones/DDCASPT2/delta_ML/CC/1.20\n",
      "/home/grierjones/DDCASPT2/delta_ML/CC/1.20\n"
     ]
    },
    {
     "name": "stderr",
     "output_type": "stream",
     "text": [
      "<string>:392: SyntaxWarning: invalid escape sequence '\\.'\n",
      "<string>:401: SyntaxWarning: invalid escape sequence '\\.'\n",
      "<string>:412: SyntaxWarning: invalid escape sequence '\\d'\n",
      "<string>:707: SyntaxWarning: invalid escape sequence '\\s'\n",
      "\n",
      "7it [00:08,  1.26s/it]\u001b[A"
     ]
    },
    {
     "name": "stdout",
     "output_type": "stream",
     "text": [
      "/home/grierjones/DDCASPT2/delta_ML/CC\n",
      "raddir /home/grierjones/DDCASPT2/delta_ML/CC/1.30\n",
      "/home/grierjones/DDCASPT2/delta_ML/CC/1.30\n"
     ]
    },
    {
     "name": "stderr",
     "output_type": "stream",
     "text": [
      "<string>:392: SyntaxWarning: invalid escape sequence '\\.'\n",
      "<string>:401: SyntaxWarning: invalid escape sequence '\\.'\n",
      "<string>:412: SyntaxWarning: invalid escape sequence '\\d'\n",
      "<string>:707: SyntaxWarning: invalid escape sequence '\\s'\n",
      "\n",
      "8it [00:10,  1.25s/it]\u001b[A"
     ]
    },
    {
     "name": "stdout",
     "output_type": "stream",
     "text": [
      "/home/grierjones/DDCASPT2/delta_ML/CC\n",
      "raddir /home/grierjones/DDCASPT2/delta_ML/CC/1.40\n",
      "/home/grierjones/DDCASPT2/delta_ML/CC/1.40\n"
     ]
    },
    {
     "name": "stderr",
     "output_type": "stream",
     "text": [
      "<string>:392: SyntaxWarning: invalid escape sequence '\\.'\n",
      "<string>:401: SyntaxWarning: invalid escape sequence '\\.'\n",
      "<string>:412: SyntaxWarning: invalid escape sequence '\\d'\n",
      "<string>:707: SyntaxWarning: invalid escape sequence '\\s'\n",
      "\n",
      "9it [00:11,  1.25s/it]\u001b[A"
     ]
    },
    {
     "name": "stdout",
     "output_type": "stream",
     "text": [
      "/home/grierjones/DDCASPT2/delta_ML/CC\n",
      "raddir /home/grierjones/DDCASPT2/delta_ML/CC/1.50\n",
      "/home/grierjones/DDCASPT2/delta_ML/CC/1.50\n"
     ]
    },
    {
     "name": "stderr",
     "output_type": "stream",
     "text": [
      "<string>:392: SyntaxWarning: invalid escape sequence '\\.'\n",
      "<string>:401: SyntaxWarning: invalid escape sequence '\\.'\n",
      "<string>:412: SyntaxWarning: invalid escape sequence '\\d'\n",
      "<string>:707: SyntaxWarning: invalid escape sequence '\\s'\n",
      "\n",
      "10it [00:12,  1.25s/it]\u001b[A"
     ]
    },
    {
     "name": "stdout",
     "output_type": "stream",
     "text": [
      "/home/grierjones/DDCASPT2/delta_ML/CC\n",
      "raddir /home/grierjones/DDCASPT2/delta_ML/CC/1.60\n",
      "/home/grierjones/DDCASPT2/delta_ML/CC/1.60\n"
     ]
    },
    {
     "name": "stderr",
     "output_type": "stream",
     "text": [
      "<string>:392: SyntaxWarning: invalid escape sequence '\\.'\n",
      "<string>:401: SyntaxWarning: invalid escape sequence '\\.'\n",
      "<string>:412: SyntaxWarning: invalid escape sequence '\\d'\n",
      "<string>:707: SyntaxWarning: invalid escape sequence '\\s'\n",
      "\n",
      "11it [00:13,  1.24s/it]\u001b[A"
     ]
    },
    {
     "name": "stdout",
     "output_type": "stream",
     "text": [
      "/home/grierjones/DDCASPT2/delta_ML/CC\n",
      "raddir /home/grierjones/DDCASPT2/delta_ML/CC/1.70\n",
      "/home/grierjones/DDCASPT2/delta_ML/CC/1.70\n"
     ]
    },
    {
     "name": "stderr",
     "output_type": "stream",
     "text": [
      "<string>:392: SyntaxWarning: invalid escape sequence '\\.'\n",
      "<string>:401: SyntaxWarning: invalid escape sequence '\\.'\n",
      "<string>:412: SyntaxWarning: invalid escape sequence '\\d'\n",
      "<string>:707: SyntaxWarning: invalid escape sequence '\\s'\n",
      "\n",
      "12it [00:14,  1.24s/it]\u001b[A"
     ]
    },
    {
     "name": "stdout",
     "output_type": "stream",
     "text": [
      "/home/grierjones/DDCASPT2/delta_ML/CC\n",
      "raddir /home/grierjones/DDCASPT2/delta_ML/CC/1.80\n",
      "/home/grierjones/DDCASPT2/delta_ML/CC/1.80\n"
     ]
    },
    {
     "name": "stderr",
     "output_type": "stream",
     "text": [
      "<string>:392: SyntaxWarning: invalid escape sequence '\\.'\n",
      "<string>:401: SyntaxWarning: invalid escape sequence '\\.'\n",
      "<string>:412: SyntaxWarning: invalid escape sequence '\\d'\n",
      "<string>:707: SyntaxWarning: invalid escape sequence '\\s'\n",
      "\n",
      "13it [00:16,  1.24s/it]\u001b[A"
     ]
    },
    {
     "name": "stdout",
     "output_type": "stream",
     "text": [
      "/home/grierjones/DDCASPT2/delta_ML/CC\n",
      "raddir /home/grierjones/DDCASPT2/delta_ML/CC/1.90\n",
      "/home/grierjones/DDCASPT2/delta_ML/CC/1.90\n"
     ]
    },
    {
     "name": "stderr",
     "output_type": "stream",
     "text": [
      "<string>:392: SyntaxWarning: invalid escape sequence '\\.'\n",
      "<string>:401: SyntaxWarning: invalid escape sequence '\\.'\n",
      "<string>:412: SyntaxWarning: invalid escape sequence '\\d'\n",
      "<string>:707: SyntaxWarning: invalid escape sequence '\\s'\n",
      "\n",
      "14it [00:17,  1.29s/it]\u001b[A"
     ]
    },
    {
     "name": "stdout",
     "output_type": "stream",
     "text": [
      "/home/grierjones/DDCASPT2/delta_ML/CC\n",
      "raddir /home/grierjones/DDCASPT2/delta_ML/CC/2.00\n",
      "/home/grierjones/DDCASPT2/delta_ML/CC/2.00\n"
     ]
    },
    {
     "name": "stderr",
     "output_type": "stream",
     "text": [
      "<string>:392: SyntaxWarning: invalid escape sequence '\\.'\n",
      "<string>:401: SyntaxWarning: invalid escape sequence '\\.'\n",
      "<string>:412: SyntaxWarning: invalid escape sequence '\\d'\n",
      "<string>:707: SyntaxWarning: invalid escape sequence '\\s'\n",
      "\n",
      "15it [00:18,  1.29s/it]\u001b[A"
     ]
    },
    {
     "name": "stdout",
     "output_type": "stream",
     "text": [
      "/home/grierjones/DDCASPT2/delta_ML/CC\n",
      "raddir /home/grierjones/DDCASPT2/delta_ML/CC/2.10\n",
      "/home/grierjones/DDCASPT2/delta_ML/CC/2.10\n"
     ]
    },
    {
     "name": "stderr",
     "output_type": "stream",
     "text": [
      "<string>:392: SyntaxWarning: invalid escape sequence '\\.'\n",
      "<string>:401: SyntaxWarning: invalid escape sequence '\\.'\n",
      "<string>:412: SyntaxWarning: invalid escape sequence '\\d'\n",
      "<string>:707: SyntaxWarning: invalid escape sequence '\\s'\n",
      "\n",
      "16it [00:20,  1.28s/it]\u001b[A"
     ]
    },
    {
     "name": "stdout",
     "output_type": "stream",
     "text": [
      "/home/grierjones/DDCASPT2/delta_ML/CC\n",
      "raddir /home/grierjones/DDCASPT2/delta_ML/CC/2.20\n",
      "/home/grierjones/DDCASPT2/delta_ML/CC/2.20\n"
     ]
    },
    {
     "name": "stderr",
     "output_type": "stream",
     "text": [
      "<string>:392: SyntaxWarning: invalid escape sequence '\\.'\n",
      "<string>:401: SyntaxWarning: invalid escape sequence '\\.'\n",
      "<string>:412: SyntaxWarning: invalid escape sequence '\\d'\n",
      "<string>:707: SyntaxWarning: invalid escape sequence '\\s'\n",
      "\n",
      "17it [00:21,  1.27s/it]\u001b[A"
     ]
    },
    {
     "name": "stdout",
     "output_type": "stream",
     "text": [
      "/home/grierjones/DDCASPT2/delta_ML/CC\n",
      "raddir /home/grierjones/DDCASPT2/delta_ML/CC/2.30\n",
      "/home/grierjones/DDCASPT2/delta_ML/CC/2.30\n"
     ]
    },
    {
     "name": "stderr",
     "output_type": "stream",
     "text": [
      "<string>:392: SyntaxWarning: invalid escape sequence '\\.'\n",
      "<string>:401: SyntaxWarning: invalid escape sequence '\\.'\n",
      "<string>:412: SyntaxWarning: invalid escape sequence '\\d'\n",
      "<string>:707: SyntaxWarning: invalid escape sequence '\\s'\n",
      "\n",
      "18it [00:22,  1.27s/it]\u001b[A"
     ]
    },
    {
     "name": "stdout",
     "output_type": "stream",
     "text": [
      "/home/grierjones/DDCASPT2/delta_ML/CC\n",
      "raddir /home/grierjones/DDCASPT2/delta_ML/CC/2.40\n",
      "/home/grierjones/DDCASPT2/delta_ML/CC/2.40\n"
     ]
    },
    {
     "name": "stderr",
     "output_type": "stream",
     "text": [
      "<string>:392: SyntaxWarning: invalid escape sequence '\\.'\n",
      "<string>:401: SyntaxWarning: invalid escape sequence '\\.'\n",
      "<string>:412: SyntaxWarning: invalid escape sequence '\\d'\n",
      "<string>:707: SyntaxWarning: invalid escape sequence '\\s'\n",
      "\n",
      "19it [00:23,  1.26s/it]\u001b[A"
     ]
    },
    {
     "name": "stdout",
     "output_type": "stream",
     "text": [
      "/home/grierjones/DDCASPT2/delta_ML/CC\n",
      "raddir /home/grierjones/DDCASPT2/delta_ML/CC/2.50\n",
      "/home/grierjones/DDCASPT2/delta_ML/CC/2.50\n"
     ]
    },
    {
     "name": "stderr",
     "output_type": "stream",
     "text": [
      "<string>:392: SyntaxWarning: invalid escape sequence '\\.'\n",
      "<string>:401: SyntaxWarning: invalid escape sequence '\\.'\n",
      "<string>:412: SyntaxWarning: invalid escape sequence '\\d'\n",
      "<string>:707: SyntaxWarning: invalid escape sequence '\\s'\n",
      "\n",
      "20it [00:25,  1.25s/it]\u001b[A"
     ]
    },
    {
     "name": "stdout",
     "output_type": "stream",
     "text": [
      "/home/grierjones/DDCASPT2/delta_ML/CC\n",
      "raddir /home/grierjones/DDCASPT2/delta_ML/CC/2.60\n",
      "/home/grierjones/DDCASPT2/delta_ML/CC/2.60\n"
     ]
    },
    {
     "name": "stderr",
     "output_type": "stream",
     "text": [
      "<string>:392: SyntaxWarning: invalid escape sequence '\\.'\n",
      "<string>:401: SyntaxWarning: invalid escape sequence '\\.'\n",
      "<string>:412: SyntaxWarning: invalid escape sequence '\\d'\n",
      "<string>:707: SyntaxWarning: invalid escape sequence '\\s'\n",
      "\n",
      "21it [00:26,  1.24s/it]\u001b[A"
     ]
    },
    {
     "name": "stdout",
     "output_type": "stream",
     "text": [
      "/home/grierjones/DDCASPT2/delta_ML/CC\n",
      "raddir /home/grierjones/DDCASPT2/delta_ML/CC/2.70\n",
      "/home/grierjones/DDCASPT2/delta_ML/CC/2.70\n"
     ]
    },
    {
     "name": "stderr",
     "output_type": "stream",
     "text": [
      "<string>:392: SyntaxWarning: invalid escape sequence '\\.'\n",
      "<string>:401: SyntaxWarning: invalid escape sequence '\\.'\n",
      "<string>:412: SyntaxWarning: invalid escape sequence '\\d'\n",
      "<string>:707: SyntaxWarning: invalid escape sequence '\\s'\n",
      "\n",
      "22it [00:27,  1.24s/it]\u001b[A"
     ]
    },
    {
     "name": "stdout",
     "output_type": "stream",
     "text": [
      "/home/grierjones/DDCASPT2/delta_ML/CC\n",
      "raddir /home/grierjones/DDCASPT2/delta_ML/CC/2.80\n",
      "/home/grierjones/DDCASPT2/delta_ML/CC/2.80\n"
     ]
    },
    {
     "name": "stderr",
     "output_type": "stream",
     "text": [
      "<string>:392: SyntaxWarning: invalid escape sequence '\\.'\n",
      "<string>:401: SyntaxWarning: invalid escape sequence '\\.'\n",
      "<string>:412: SyntaxWarning: invalid escape sequence '\\d'\n",
      "<string>:707: SyntaxWarning: invalid escape sequence '\\s'\n",
      "\n",
      "23it [00:28,  1.25s/it]\u001b[A\n",
      " 44%|█████████████████████████████████████████████████████████████████████████████▎                                                                                                | 16/36 [08:13<10:10, 30.54s/it]"
     ]
    },
    {
     "name": "stdout",
     "output_type": "stream",
     "text": [
      "/home/grierjones/DDCASPT2/delta_ML/CC\n",
      "/home/grierjones/DDCASPT2/delta_ML/CC\n"
     ]
    },
    {
     "name": "stderr",
     "output_type": "stream",
     "text": [
      "\n",
      "0it [00:00, ?it/s]\u001b[A"
     ]
    },
    {
     "name": "stdout",
     "output_type": "stream",
     "text": [
      "raddir /home/grierjones/DDCASPT2/delta_ML/CF/0.60\n",
      "/home/grierjones/DDCASPT2/delta_ML/CF/0.60\n"
     ]
    },
    {
     "name": "stderr",
     "output_type": "stream",
     "text": [
      "<string>:392: SyntaxWarning: invalid escape sequence '\\.'\n",
      "<string>:401: SyntaxWarning: invalid escape sequence '\\.'\n",
      "<string>:412: SyntaxWarning: invalid escape sequence '\\d'\n",
      "<string>:707: SyntaxWarning: invalid escape sequence '\\s'\n",
      "\n",
      "1it [00:01,  1.29s/it]\u001b[A"
     ]
    },
    {
     "name": "stdout",
     "output_type": "stream",
     "text": [
      "/home/grierjones/DDCASPT2/delta_ML/CF\n",
      "raddir /home/grierjones/DDCASPT2/delta_ML/CF/0.70\n",
      "/home/grierjones/DDCASPT2/delta_ML/CF/0.70\n"
     ]
    },
    {
     "name": "stderr",
     "output_type": "stream",
     "text": [
      "<string>:392: SyntaxWarning: invalid escape sequence '\\.'\n",
      "<string>:401: SyntaxWarning: invalid escape sequence '\\.'\n",
      "<string>:412: SyntaxWarning: invalid escape sequence '\\d'\n",
      "<string>:707: SyntaxWarning: invalid escape sequence '\\s'\n",
      "\n",
      "2it [00:02,  1.28s/it]\u001b[A"
     ]
    },
    {
     "name": "stdout",
     "output_type": "stream",
     "text": [
      "/home/grierjones/DDCASPT2/delta_ML/CF\n",
      "raddir /home/grierjones/DDCASPT2/delta_ML/CF/0.80\n",
      "/home/grierjones/DDCASPT2/delta_ML/CF/0.80\n"
     ]
    },
    {
     "name": "stderr",
     "output_type": "stream",
     "text": [
      "<string>:392: SyntaxWarning: invalid escape sequence '\\.'\n",
      "<string>:401: SyntaxWarning: invalid escape sequence '\\.'\n",
      "<string>:412: SyntaxWarning: invalid escape sequence '\\d'\n",
      "<string>:707: SyntaxWarning: invalid escape sequence '\\s'\n",
      "\n",
      "3it [00:03,  1.29s/it]\u001b[A"
     ]
    },
    {
     "name": "stdout",
     "output_type": "stream",
     "text": [
      "/home/grierjones/DDCASPT2/delta_ML/CF\n",
      "raddir /home/grierjones/DDCASPT2/delta_ML/CF/0.90\n",
      "/home/grierjones/DDCASPT2/delta_ML/CF/0.90\n"
     ]
    },
    {
     "name": "stderr",
     "output_type": "stream",
     "text": [
      "<string>:392: SyntaxWarning: invalid escape sequence '\\.'\n",
      "<string>:401: SyntaxWarning: invalid escape sequence '\\.'\n",
      "<string>:412: SyntaxWarning: invalid escape sequence '\\d'\n",
      "<string>:707: SyntaxWarning: invalid escape sequence '\\s'\n",
      "\n",
      "4it [00:05,  1.30s/it]\u001b[A"
     ]
    },
    {
     "name": "stdout",
     "output_type": "stream",
     "text": [
      "/home/grierjones/DDCASPT2/delta_ML/CF\n",
      "raddir /home/grierjones/DDCASPT2/delta_ML/CF/1.00\n",
      "/home/grierjones/DDCASPT2/delta_ML/CF/1.00\n"
     ]
    },
    {
     "name": "stderr",
     "output_type": "stream",
     "text": [
      "<string>:392: SyntaxWarning: invalid escape sequence '\\.'\n",
      "<string>:401: SyntaxWarning: invalid escape sequence '\\.'\n",
      "<string>:412: SyntaxWarning: invalid escape sequence '\\d'\n",
      "<string>:707: SyntaxWarning: invalid escape sequence '\\s'\n",
      "\n",
      "5it [00:06,  1.31s/it]\u001b[A"
     ]
    },
    {
     "name": "stdout",
     "output_type": "stream",
     "text": [
      "/home/grierjones/DDCASPT2/delta_ML/CF\n",
      "raddir /home/grierjones/DDCASPT2/delta_ML/CF/1.10\n",
      "/home/grierjones/DDCASPT2/delta_ML/CF/1.10\n"
     ]
    },
    {
     "name": "stderr",
     "output_type": "stream",
     "text": [
      "<string>:392: SyntaxWarning: invalid escape sequence '\\.'\n",
      "<string>:401: SyntaxWarning: invalid escape sequence '\\.'\n",
      "<string>:412: SyntaxWarning: invalid escape sequence '\\d'\n",
      "<string>:707: SyntaxWarning: invalid escape sequence '\\s'\n",
      "\n",
      "6it [00:07,  1.31s/it]\u001b[A"
     ]
    },
    {
     "name": "stdout",
     "output_type": "stream",
     "text": [
      "/home/grierjones/DDCASPT2/delta_ML/CF\n",
      "raddir /home/grierjones/DDCASPT2/delta_ML/CF/1.20\n",
      "/home/grierjones/DDCASPT2/delta_ML/CF/1.20\n"
     ]
    },
    {
     "name": "stderr",
     "output_type": "stream",
     "text": [
      "<string>:392: SyntaxWarning: invalid escape sequence '\\.'\n",
      "<string>:401: SyntaxWarning: invalid escape sequence '\\.'\n",
      "<string>:412: SyntaxWarning: invalid escape sequence '\\d'\n",
      "<string>:707: SyntaxWarning: invalid escape sequence '\\s'\n",
      "\n",
      "7it [00:09,  1.31s/it]\u001b[A"
     ]
    },
    {
     "name": "stdout",
     "output_type": "stream",
     "text": [
      "/home/grierjones/DDCASPT2/delta_ML/CF\n",
      "raddir /home/grierjones/DDCASPT2/delta_ML/CF/1.30\n",
      "/home/grierjones/DDCASPT2/delta_ML/CF/1.30\n"
     ]
    },
    {
     "name": "stderr",
     "output_type": "stream",
     "text": [
      "<string>:392: SyntaxWarning: invalid escape sequence '\\.'\n",
      "<string>:401: SyntaxWarning: invalid escape sequence '\\.'\n",
      "<string>:412: SyntaxWarning: invalid escape sequence '\\d'\n",
      "<string>:707: SyntaxWarning: invalid escape sequence '\\s'\n",
      "\n",
      "8it [00:10,  1.32s/it]\u001b[A"
     ]
    },
    {
     "name": "stdout",
     "output_type": "stream",
     "text": [
      "/home/grierjones/DDCASPT2/delta_ML/CF\n",
      "raddir /home/grierjones/DDCASPT2/delta_ML/CF/1.40\n",
      "/home/grierjones/DDCASPT2/delta_ML/CF/1.40\n"
     ]
    },
    {
     "name": "stderr",
     "output_type": "stream",
     "text": [
      "<string>:392: SyntaxWarning: invalid escape sequence '\\.'\n",
      "<string>:401: SyntaxWarning: invalid escape sequence '\\.'\n",
      "<string>:412: SyntaxWarning: invalid escape sequence '\\d'\n",
      "<string>:707: SyntaxWarning: invalid escape sequence '\\s'\n",
      "\n",
      "9it [00:11,  1.32s/it]\u001b[A"
     ]
    },
    {
     "name": "stdout",
     "output_type": "stream",
     "text": [
      "/home/grierjones/DDCASPT2/delta_ML/CF\n",
      "raddir /home/grierjones/DDCASPT2/delta_ML/CF/1.50\n",
      "/home/grierjones/DDCASPT2/delta_ML/CF/1.50\n"
     ]
    },
    {
     "name": "stderr",
     "output_type": "stream",
     "text": [
      "<string>:392: SyntaxWarning: invalid escape sequence '\\.'\n",
      "<string>:401: SyntaxWarning: invalid escape sequence '\\.'\n",
      "<string>:412: SyntaxWarning: invalid escape sequence '\\d'\n",
      "<string>:707: SyntaxWarning: invalid escape sequence '\\s'\n",
      "\n",
      "10it [00:13,  1.32s/it]\u001b[A"
     ]
    },
    {
     "name": "stdout",
     "output_type": "stream",
     "text": [
      "/home/grierjones/DDCASPT2/delta_ML/CF\n",
      "raddir /home/grierjones/DDCASPT2/delta_ML/CF/1.60\n",
      "/home/grierjones/DDCASPT2/delta_ML/CF/1.60\n"
     ]
    },
    {
     "name": "stderr",
     "output_type": "stream",
     "text": [
      "<string>:392: SyntaxWarning: invalid escape sequence '\\.'\n",
      "<string>:401: SyntaxWarning: invalid escape sequence '\\.'\n",
      "<string>:412: SyntaxWarning: invalid escape sequence '\\d'\n",
      "<string>:707: SyntaxWarning: invalid escape sequence '\\s'\n",
      "\n",
      "11it [00:14,  1.33s/it]\u001b[A"
     ]
    },
    {
     "name": "stdout",
     "output_type": "stream",
     "text": [
      "/home/grierjones/DDCASPT2/delta_ML/CF\n",
      "raddir /home/grierjones/DDCASPT2/delta_ML/CF/1.70\n",
      "/home/grierjones/DDCASPT2/delta_ML/CF/1.70\n"
     ]
    },
    {
     "name": "stderr",
     "output_type": "stream",
     "text": [
      "<string>:392: SyntaxWarning: invalid escape sequence '\\.'\n",
      "<string>:401: SyntaxWarning: invalid escape sequence '\\.'\n",
      "<string>:412: SyntaxWarning: invalid escape sequence '\\d'\n",
      "<string>:707: SyntaxWarning: invalid escape sequence '\\s'\n",
      "\n",
      "12it [00:15,  1.37s/it]\u001b[A"
     ]
    },
    {
     "name": "stdout",
     "output_type": "stream",
     "text": [
      "/home/grierjones/DDCASPT2/delta_ML/CF\n",
      "raddir /home/grierjones/DDCASPT2/delta_ML/CF/1.80\n",
      "/home/grierjones/DDCASPT2/delta_ML/CF/1.80\n"
     ]
    },
    {
     "name": "stderr",
     "output_type": "stream",
     "text": [
      "<string>:392: SyntaxWarning: invalid escape sequence '\\.'\n",
      "<string>:401: SyntaxWarning: invalid escape sequence '\\.'\n",
      "<string>:412: SyntaxWarning: invalid escape sequence '\\d'\n",
      "<string>:707: SyntaxWarning: invalid escape sequence '\\s'\n",
      "\n",
      "13it [00:17,  1.43s/it]\u001b[A"
     ]
    },
    {
     "name": "stdout",
     "output_type": "stream",
     "text": [
      "/home/grierjones/DDCASPT2/delta_ML/CF\n",
      "raddir /home/grierjones/DDCASPT2/delta_ML/CF/1.90\n",
      "/home/grierjones/DDCASPT2/delta_ML/CF/1.90\n"
     ]
    },
    {
     "name": "stderr",
     "output_type": "stream",
     "text": [
      "<string>:392: SyntaxWarning: invalid escape sequence '\\.'\n",
      "<string>:401: SyntaxWarning: invalid escape sequence '\\.'\n",
      "<string>:412: SyntaxWarning: invalid escape sequence '\\d'\n",
      "<string>:707: SyntaxWarning: invalid escape sequence '\\s'\n",
      "\n",
      "14it [00:18,  1.43s/it]\u001b[A"
     ]
    },
    {
     "name": "stdout",
     "output_type": "stream",
     "text": [
      "/home/grierjones/DDCASPT2/delta_ML/CF\n",
      "raddir /home/grierjones/DDCASPT2/delta_ML/CF/2.00\n",
      "/home/grierjones/DDCASPT2/delta_ML/CF/2.00\n"
     ]
    },
    {
     "name": "stderr",
     "output_type": "stream",
     "text": [
      "<string>:392: SyntaxWarning: invalid escape sequence '\\.'\n",
      "<string>:401: SyntaxWarning: invalid escape sequence '\\.'\n",
      "<string>:412: SyntaxWarning: invalid escape sequence '\\d'\n",
      "<string>:707: SyntaxWarning: invalid escape sequence '\\s'\n",
      "\n",
      "15it [00:20,  1.42s/it]\u001b[A"
     ]
    },
    {
     "name": "stdout",
     "output_type": "stream",
     "text": [
      "/home/grierjones/DDCASPT2/delta_ML/CF\n",
      "raddir /home/grierjones/DDCASPT2/delta_ML/CF/2.10\n",
      "/home/grierjones/DDCASPT2/delta_ML/CF/2.10\n"
     ]
    },
    {
     "name": "stderr",
     "output_type": "stream",
     "text": [
      "<string>:392: SyntaxWarning: invalid escape sequence '\\.'\n",
      "<string>:401: SyntaxWarning: invalid escape sequence '\\.'\n",
      "<string>:412: SyntaxWarning: invalid escape sequence '\\d'\n",
      "<string>:707: SyntaxWarning: invalid escape sequence '\\s'\n",
      "\n",
      "16it [00:21,  1.42s/it]\u001b[A"
     ]
    },
    {
     "name": "stdout",
     "output_type": "stream",
     "text": [
      "/home/grierjones/DDCASPT2/delta_ML/CF\n",
      "raddir /home/grierjones/DDCASPT2/delta_ML/CF/2.20\n",
      "/home/grierjones/DDCASPT2/delta_ML/CF/2.20\n"
     ]
    },
    {
     "name": "stderr",
     "output_type": "stream",
     "text": [
      "<string>:392: SyntaxWarning: invalid escape sequence '\\.'\n",
      "<string>:401: SyntaxWarning: invalid escape sequence '\\.'\n",
      "<string>:412: SyntaxWarning: invalid escape sequence '\\d'\n",
      "<string>:707: SyntaxWarning: invalid escape sequence '\\s'\n",
      "\n",
      "17it [00:23,  1.41s/it]\u001b[A"
     ]
    },
    {
     "name": "stdout",
     "output_type": "stream",
     "text": [
      "/home/grierjones/DDCASPT2/delta_ML/CF\n",
      "raddir /home/grierjones/DDCASPT2/delta_ML/CF/2.30\n",
      "/home/grierjones/DDCASPT2/delta_ML/CF/2.30\n"
     ]
    },
    {
     "name": "stderr",
     "output_type": "stream",
     "text": [
      "<string>:392: SyntaxWarning: invalid escape sequence '\\.'\n",
      "<string>:401: SyntaxWarning: invalid escape sequence '\\.'\n",
      "<string>:412: SyntaxWarning: invalid escape sequence '\\d'\n",
      "<string>:707: SyntaxWarning: invalid escape sequence '\\s'\n",
      "\n",
      "18it [00:24,  1.41s/it]\u001b[A"
     ]
    },
    {
     "name": "stdout",
     "output_type": "stream",
     "text": [
      "/home/grierjones/DDCASPT2/delta_ML/CF\n",
      "raddir /home/grierjones/DDCASPT2/delta_ML/CF/2.40\n",
      "/home/grierjones/DDCASPT2/delta_ML/CF/2.40\n"
     ]
    },
    {
     "name": "stderr",
     "output_type": "stream",
     "text": [
      "<string>:392: SyntaxWarning: invalid escape sequence '\\.'\n",
      "<string>:401: SyntaxWarning: invalid escape sequence '\\.'\n",
      "<string>:412: SyntaxWarning: invalid escape sequence '\\d'\n",
      "<string>:707: SyntaxWarning: invalid escape sequence '\\s'\n",
      "\n",
      "19it [00:25,  1.43s/it]\u001b[A"
     ]
    },
    {
     "name": "stdout",
     "output_type": "stream",
     "text": [
      "/home/grierjones/DDCASPT2/delta_ML/CF\n",
      "raddir /home/grierjones/DDCASPT2/delta_ML/CF/2.50\n",
      "/home/grierjones/DDCASPT2/delta_ML/CF/2.50\n"
     ]
    },
    {
     "name": "stderr",
     "output_type": "stream",
     "text": [
      "<string>:392: SyntaxWarning: invalid escape sequence '\\.'\n",
      "<string>:401: SyntaxWarning: invalid escape sequence '\\.'\n",
      "<string>:412: SyntaxWarning: invalid escape sequence '\\d'\n",
      "<string>:707: SyntaxWarning: invalid escape sequence '\\s'\n",
      "\n",
      "20it [00:27,  1.41s/it]\u001b[A"
     ]
    },
    {
     "name": "stdout",
     "output_type": "stream",
     "text": [
      "/home/grierjones/DDCASPT2/delta_ML/CF\n",
      "raddir /home/grierjones/DDCASPT2/delta_ML/CF/2.60\n",
      "/home/grierjones/DDCASPT2/delta_ML/CF/2.60\n"
     ]
    },
    {
     "name": "stderr",
     "output_type": "stream",
     "text": [
      "<string>:392: SyntaxWarning: invalid escape sequence '\\.'\n",
      "<string>:401: SyntaxWarning: invalid escape sequence '\\.'\n",
      "<string>:412: SyntaxWarning: invalid escape sequence '\\d'\n",
      "<string>:707: SyntaxWarning: invalid escape sequence '\\s'\n",
      "\n",
      "21it [00:28,  1.40s/it]\u001b[A"
     ]
    },
    {
     "name": "stdout",
     "output_type": "stream",
     "text": [
      "/home/grierjones/DDCASPT2/delta_ML/CF\n",
      "raddir /home/grierjones/DDCASPT2/delta_ML/CF/2.70\n",
      "/home/grierjones/DDCASPT2/delta_ML/CF/2.70\n"
     ]
    },
    {
     "name": "stderr",
     "output_type": "stream",
     "text": [
      "<string>:392: SyntaxWarning: invalid escape sequence '\\.'\n",
      "<string>:401: SyntaxWarning: invalid escape sequence '\\.'\n",
      "<string>:412: SyntaxWarning: invalid escape sequence '\\d'\n",
      "<string>:707: SyntaxWarning: invalid escape sequence '\\s'\n",
      "\n",
      "22it [00:30,  1.38s/it]\u001b[A"
     ]
    },
    {
     "name": "stdout",
     "output_type": "stream",
     "text": [
      "/home/grierjones/DDCASPT2/delta_ML/CF\n",
      "raddir /home/grierjones/DDCASPT2/delta_ML/CF/2.80\n",
      "/home/grierjones/DDCASPT2/delta_ML/CF/2.80\n"
     ]
    },
    {
     "name": "stderr",
     "output_type": "stream",
     "text": [
      "<string>:392: SyntaxWarning: invalid escape sequence '\\.'\n",
      "<string>:401: SyntaxWarning: invalid escape sequence '\\.'\n",
      "<string>:412: SyntaxWarning: invalid escape sequence '\\d'\n",
      "<string>:707: SyntaxWarning: invalid escape sequence '\\s'\n",
      "\n",
      "23it [00:31,  1.37s/it]\u001b[A\n",
      " 47%|██████████████████████████████████████████████████████████████████████████████████▏                                                                                           | 17/36 [08:44<09:45, 30.81s/it]"
     ]
    },
    {
     "name": "stdout",
     "output_type": "stream",
     "text": [
      "/home/grierjones/DDCASPT2/delta_ML/CF\n",
      "/home/grierjones/DDCASPT2/delta_ML/CF\n"
     ]
    },
    {
     "name": "stderr",
     "output_type": "stream",
     "text": [
      "\n",
      "0it [00:00, ?it/s]\u001b[A"
     ]
    },
    {
     "name": "stdout",
     "output_type": "stream",
     "text": [
      "raddir /home/grierjones/DDCASPT2/delta_ML/CH/0.60\n",
      "/home/grierjones/DDCASPT2/delta_ML/CH/0.60\n"
     ]
    },
    {
     "name": "stderr",
     "output_type": "stream",
     "text": [
      "<string>:392: SyntaxWarning: invalid escape sequence '\\.'\n",
      "<string>:401: SyntaxWarning: invalid escape sequence '\\.'\n",
      "<string>:412: SyntaxWarning: invalid escape sequence '\\d'\n",
      "<string>:707: SyntaxWarning: invalid escape sequence '\\s'\n",
      "\n",
      "1it [00:01,  1.26s/it]\u001b[A"
     ]
    },
    {
     "name": "stdout",
     "output_type": "stream",
     "text": [
      "/home/grierjones/DDCASPT2/delta_ML/CH\n",
      "raddir /home/grierjones/DDCASPT2/delta_ML/CH/0.70\n",
      "/home/grierjones/DDCASPT2/delta_ML/CH/0.70\n"
     ]
    },
    {
     "name": "stderr",
     "output_type": "stream",
     "text": [
      "<string>:392: SyntaxWarning: invalid escape sequence '\\.'\n",
      "<string>:401: SyntaxWarning: invalid escape sequence '\\.'\n",
      "<string>:412: SyntaxWarning: invalid escape sequence '\\d'\n",
      "<string>:707: SyntaxWarning: invalid escape sequence '\\s'\n",
      "\n",
      "2it [00:02,  1.25s/it]\u001b[A"
     ]
    },
    {
     "name": "stdout",
     "output_type": "stream",
     "text": [
      "/home/grierjones/DDCASPT2/delta_ML/CH\n",
      "raddir /home/grierjones/DDCASPT2/delta_ML/CH/0.80\n",
      "/home/grierjones/DDCASPT2/delta_ML/CH/0.80\n"
     ]
    },
    {
     "name": "stderr",
     "output_type": "stream",
     "text": [
      "<string>:392: SyntaxWarning: invalid escape sequence '\\.'\n",
      "<string>:401: SyntaxWarning: invalid escape sequence '\\.'\n",
      "<string>:412: SyntaxWarning: invalid escape sequence '\\d'\n",
      "<string>:707: SyntaxWarning: invalid escape sequence '\\s'\n",
      "\n",
      "3it [00:03,  1.25s/it]\u001b[A"
     ]
    },
    {
     "name": "stdout",
     "output_type": "stream",
     "text": [
      "/home/grierjones/DDCASPT2/delta_ML/CH\n",
      "raddir /home/grierjones/DDCASPT2/delta_ML/CH/0.90\n",
      "/home/grierjones/DDCASPT2/delta_ML/CH/0.90\n"
     ]
    },
    {
     "name": "stderr",
     "output_type": "stream",
     "text": [
      "<string>:392: SyntaxWarning: invalid escape sequence '\\.'\n",
      "<string>:401: SyntaxWarning: invalid escape sequence '\\.'\n",
      "<string>:412: SyntaxWarning: invalid escape sequence '\\d'\n",
      "<string>:707: SyntaxWarning: invalid escape sequence '\\s'\n",
      "\n",
      "4it [00:05,  1.26s/it]\u001b[A"
     ]
    },
    {
     "name": "stdout",
     "output_type": "stream",
     "text": [
      "/home/grierjones/DDCASPT2/delta_ML/CH\n",
      "raddir /home/grierjones/DDCASPT2/delta_ML/CH/1.00\n",
      "/home/grierjones/DDCASPT2/delta_ML/CH/1.00\n"
     ]
    },
    {
     "name": "stderr",
     "output_type": "stream",
     "text": [
      "<string>:392: SyntaxWarning: invalid escape sequence '\\.'\n",
      "<string>:401: SyntaxWarning: invalid escape sequence '\\.'\n",
      "<string>:412: SyntaxWarning: invalid escape sequence '\\d'\n",
      "<string>:707: SyntaxWarning: invalid escape sequence '\\s'\n",
      "\n",
      "5it [00:06,  1.26s/it]\u001b[A"
     ]
    },
    {
     "name": "stdout",
     "output_type": "stream",
     "text": [
      "/home/grierjones/DDCASPT2/delta_ML/CH\n",
      "raddir /home/grierjones/DDCASPT2/delta_ML/CH/1.10\n",
      "/home/grierjones/DDCASPT2/delta_ML/CH/1.10\n"
     ]
    },
    {
     "name": "stderr",
     "output_type": "stream",
     "text": [
      "<string>:392: SyntaxWarning: invalid escape sequence '\\.'\n",
      "<string>:401: SyntaxWarning: invalid escape sequence '\\.'\n",
      "<string>:412: SyntaxWarning: invalid escape sequence '\\d'\n",
      "<string>:707: SyntaxWarning: invalid escape sequence '\\s'\n",
      "\n",
      "6it [00:07,  1.26s/it]\u001b[A"
     ]
    },
    {
     "name": "stdout",
     "output_type": "stream",
     "text": [
      "/home/grierjones/DDCASPT2/delta_ML/CH\n",
      "raddir /home/grierjones/DDCASPT2/delta_ML/CH/1.20\n",
      "/home/grierjones/DDCASPT2/delta_ML/CH/1.20\n"
     ]
    },
    {
     "name": "stderr",
     "output_type": "stream",
     "text": [
      "<string>:392: SyntaxWarning: invalid escape sequence '\\.'\n",
      "<string>:401: SyntaxWarning: invalid escape sequence '\\.'\n",
      "<string>:412: SyntaxWarning: invalid escape sequence '\\d'\n",
      "<string>:707: SyntaxWarning: invalid escape sequence '\\s'\n",
      "\n",
      "7it [00:08,  1.26s/it]\u001b[A"
     ]
    },
    {
     "name": "stdout",
     "output_type": "stream",
     "text": [
      "/home/grierjones/DDCASPT2/delta_ML/CH\n",
      "raddir /home/grierjones/DDCASPT2/delta_ML/CH/1.30\n",
      "/home/grierjones/DDCASPT2/delta_ML/CH/1.30\n"
     ]
    },
    {
     "name": "stderr",
     "output_type": "stream",
     "text": [
      "<string>:392: SyntaxWarning: invalid escape sequence '\\.'\n",
      "<string>:401: SyntaxWarning: invalid escape sequence '\\.'\n",
      "<string>:412: SyntaxWarning: invalid escape sequence '\\d'\n",
      "<string>:707: SyntaxWarning: invalid escape sequence '\\s'\n",
      "\n",
      "8it [00:10,  1.27s/it]\u001b[A"
     ]
    },
    {
     "name": "stdout",
     "output_type": "stream",
     "text": [
      "/home/grierjones/DDCASPT2/delta_ML/CH\n",
      "raddir /home/grierjones/DDCASPT2/delta_ML/CH/1.40\n",
      "/home/grierjones/DDCASPT2/delta_ML/CH/1.40\n"
     ]
    },
    {
     "name": "stderr",
     "output_type": "stream",
     "text": [
      "<string>:392: SyntaxWarning: invalid escape sequence '\\.'\n",
      "<string>:401: SyntaxWarning: invalid escape sequence '\\.'\n",
      "<string>:412: SyntaxWarning: invalid escape sequence '\\d'\n",
      "<string>:707: SyntaxWarning: invalid escape sequence '\\s'\n",
      "\n",
      "9it [00:11,  1.27s/it]\u001b[A"
     ]
    },
    {
     "name": "stdout",
     "output_type": "stream",
     "text": [
      "/home/grierjones/DDCASPT2/delta_ML/CH\n",
      "raddir /home/grierjones/DDCASPT2/delta_ML/CH/1.50\n",
      "/home/grierjones/DDCASPT2/delta_ML/CH/1.50\n"
     ]
    },
    {
     "name": "stderr",
     "output_type": "stream",
     "text": [
      "<string>:392: SyntaxWarning: invalid escape sequence '\\.'\n",
      "<string>:401: SyntaxWarning: invalid escape sequence '\\.'\n",
      "<string>:412: SyntaxWarning: invalid escape sequence '\\d'\n",
      "<string>:707: SyntaxWarning: invalid escape sequence '\\s'\n",
      "\n",
      "10it [00:12,  1.28s/it]\u001b[A"
     ]
    },
    {
     "name": "stdout",
     "output_type": "stream",
     "text": [
      "/home/grierjones/DDCASPT2/delta_ML/CH\n",
      "raddir /home/grierjones/DDCASPT2/delta_ML/CH/1.60\n",
      "/home/grierjones/DDCASPT2/delta_ML/CH/1.60\n"
     ]
    },
    {
     "name": "stderr",
     "output_type": "stream",
     "text": [
      "<string>:392: SyntaxWarning: invalid escape sequence '\\.'\n",
      "<string>:401: SyntaxWarning: invalid escape sequence '\\.'\n",
      "<string>:412: SyntaxWarning: invalid escape sequence '\\d'\n",
      "<string>:707: SyntaxWarning: invalid escape sequence '\\s'\n",
      "\n",
      "11it [00:14,  1.34s/it]\u001b[A"
     ]
    },
    {
     "name": "stdout",
     "output_type": "stream",
     "text": [
      "/home/grierjones/DDCASPT2/delta_ML/CH\n",
      "raddir /home/grierjones/DDCASPT2/delta_ML/CH/1.70\n",
      "/home/grierjones/DDCASPT2/delta_ML/CH/1.70\n"
     ]
    },
    {
     "name": "stderr",
     "output_type": "stream",
     "text": [
      "<string>:392: SyntaxWarning: invalid escape sequence '\\.'\n",
      "<string>:401: SyntaxWarning: invalid escape sequence '\\.'\n",
      "<string>:412: SyntaxWarning: invalid escape sequence '\\d'\n",
      "<string>:707: SyntaxWarning: invalid escape sequence '\\s'\n",
      "\n",
      "12it [00:15,  1.35s/it]\u001b[A"
     ]
    },
    {
     "name": "stdout",
     "output_type": "stream",
     "text": [
      "/home/grierjones/DDCASPT2/delta_ML/CH\n",
      "raddir /home/grierjones/DDCASPT2/delta_ML/CH/1.80\n",
      "/home/grierjones/DDCASPT2/delta_ML/CH/1.80\n"
     ]
    },
    {
     "name": "stderr",
     "output_type": "stream",
     "text": [
      "<string>:392: SyntaxWarning: invalid escape sequence '\\.'\n",
      "<string>:401: SyntaxWarning: invalid escape sequence '\\.'\n",
      "<string>:412: SyntaxWarning: invalid escape sequence '\\d'\n",
      "<string>:707: SyntaxWarning: invalid escape sequence '\\s'\n",
      "\n",
      "13it [00:16,  1.36s/it]\u001b[A"
     ]
    },
    {
     "name": "stdout",
     "output_type": "stream",
     "text": [
      "/home/grierjones/DDCASPT2/delta_ML/CH\n",
      "raddir /home/grierjones/DDCASPT2/delta_ML/CH/1.90\n",
      "/home/grierjones/DDCASPT2/delta_ML/CH/1.90\n"
     ]
    },
    {
     "name": "stderr",
     "output_type": "stream",
     "text": [
      "<string>:392: SyntaxWarning: invalid escape sequence '\\.'\n",
      "<string>:401: SyntaxWarning: invalid escape sequence '\\.'\n",
      "<string>:412: SyntaxWarning: invalid escape sequence '\\d'\n",
      "<string>:707: SyntaxWarning: invalid escape sequence '\\s'\n",
      "\n",
      "14it [00:18,  1.36s/it]\u001b[A"
     ]
    },
    {
     "name": "stdout",
     "output_type": "stream",
     "text": [
      "/home/grierjones/DDCASPT2/delta_ML/CH\n",
      "raddir /home/grierjones/DDCASPT2/delta_ML/CH/2.00\n",
      "/home/grierjones/DDCASPT2/delta_ML/CH/2.00\n"
     ]
    },
    {
     "name": "stderr",
     "output_type": "stream",
     "text": [
      "<string>:392: SyntaxWarning: invalid escape sequence '\\.'\n",
      "<string>:401: SyntaxWarning: invalid escape sequence '\\.'\n",
      "<string>:412: SyntaxWarning: invalid escape sequence '\\d'\n",
      "<string>:707: SyntaxWarning: invalid escape sequence '\\s'\n",
      "\n",
      "15it [00:19,  1.38s/it]\u001b[A"
     ]
    },
    {
     "name": "stdout",
     "output_type": "stream",
     "text": [
      "/home/grierjones/DDCASPT2/delta_ML/CH\n",
      "raddir /home/grierjones/DDCASPT2/delta_ML/CH/2.10\n",
      "/home/grierjones/DDCASPT2/delta_ML/CH/2.10\n"
     ]
    },
    {
     "name": "stderr",
     "output_type": "stream",
     "text": [
      "<string>:392: SyntaxWarning: invalid escape sequence '\\.'\n",
      "<string>:401: SyntaxWarning: invalid escape sequence '\\.'\n",
      "<string>:412: SyntaxWarning: invalid escape sequence '\\d'\n",
      "<string>:707: SyntaxWarning: invalid escape sequence '\\s'\n",
      "\n",
      "16it [00:21,  1.38s/it]\u001b[A"
     ]
    },
    {
     "name": "stdout",
     "output_type": "stream",
     "text": [
      "/home/grierjones/DDCASPT2/delta_ML/CH\n",
      "raddir /home/grierjones/DDCASPT2/delta_ML/CH/2.20\n",
      "/home/grierjones/DDCASPT2/delta_ML/CH/2.20\n"
     ]
    },
    {
     "name": "stderr",
     "output_type": "stream",
     "text": [
      "<string>:392: SyntaxWarning: invalid escape sequence '\\.'\n",
      "<string>:401: SyntaxWarning: invalid escape sequence '\\.'\n",
      "<string>:412: SyntaxWarning: invalid escape sequence '\\d'\n",
      "<string>:707: SyntaxWarning: invalid escape sequence '\\s'\n",
      "\n",
      "17it [00:22,  1.37s/it]\u001b[A"
     ]
    },
    {
     "name": "stdout",
     "output_type": "stream",
     "text": [
      "/home/grierjones/DDCASPT2/delta_ML/CH\n",
      "raddir /home/grierjones/DDCASPT2/delta_ML/CH/2.30\n",
      "/home/grierjones/DDCASPT2/delta_ML/CH/2.30\n"
     ]
    },
    {
     "name": "stderr",
     "output_type": "stream",
     "text": [
      "<string>:392: SyntaxWarning: invalid escape sequence '\\.'\n",
      "<string>:401: SyntaxWarning: invalid escape sequence '\\.'\n",
      "<string>:412: SyntaxWarning: invalid escape sequence '\\d'\n",
      "<string>:707: SyntaxWarning: invalid escape sequence '\\s'\n",
      "\n",
      "18it [00:23,  1.36s/it]\u001b[A"
     ]
    },
    {
     "name": "stdout",
     "output_type": "stream",
     "text": [
      "/home/grierjones/DDCASPT2/delta_ML/CH\n",
      "raddir /home/grierjones/DDCASPT2/delta_ML/CH/2.40\n",
      "/home/grierjones/DDCASPT2/delta_ML/CH/2.40\n"
     ]
    },
    {
     "name": "stderr",
     "output_type": "stream",
     "text": [
      "<string>:392: SyntaxWarning: invalid escape sequence '\\.'\n",
      "<string>:401: SyntaxWarning: invalid escape sequence '\\.'\n",
      "<string>:412: SyntaxWarning: invalid escape sequence '\\d'\n",
      "<string>:707: SyntaxWarning: invalid escape sequence '\\s'\n",
      "\n",
      "19it [00:25,  1.35s/it]\u001b[A"
     ]
    },
    {
     "name": "stdout",
     "output_type": "stream",
     "text": [
      "/home/grierjones/DDCASPT2/delta_ML/CH\n",
      "raddir /home/grierjones/DDCASPT2/delta_ML/CH/2.50\n",
      "/home/grierjones/DDCASPT2/delta_ML/CH/2.50\n"
     ]
    },
    {
     "name": "stderr",
     "output_type": "stream",
     "text": [
      "<string>:392: SyntaxWarning: invalid escape sequence '\\.'\n",
      "<string>:401: SyntaxWarning: invalid escape sequence '\\.'\n",
      "<string>:412: SyntaxWarning: invalid escape sequence '\\d'\n",
      "<string>:707: SyntaxWarning: invalid escape sequence '\\s'\n",
      "\n",
      "20it [00:26,  1.33s/it]\u001b[A"
     ]
    },
    {
     "name": "stdout",
     "output_type": "stream",
     "text": [
      "/home/grierjones/DDCASPT2/delta_ML/CH\n",
      "raddir /home/grierjones/DDCASPT2/delta_ML/CH/2.60\n",
      "/home/grierjones/DDCASPT2/delta_ML/CH/2.60\n"
     ]
    },
    {
     "name": "stderr",
     "output_type": "stream",
     "text": [
      "<string>:392: SyntaxWarning: invalid escape sequence '\\.'\n",
      "<string>:401: SyntaxWarning: invalid escape sequence '\\.'\n",
      "<string>:412: SyntaxWarning: invalid escape sequence '\\d'\n",
      "<string>:707: SyntaxWarning: invalid escape sequence '\\s'\n",
      "\n",
      "21it [00:27,  1.32s/it]\u001b[A"
     ]
    },
    {
     "name": "stdout",
     "output_type": "stream",
     "text": [
      "/home/grierjones/DDCASPT2/delta_ML/CH\n",
      "raddir /home/grierjones/DDCASPT2/delta_ML/CH/2.70\n",
      "/home/grierjones/DDCASPT2/delta_ML/CH/2.70\n"
     ]
    },
    {
     "name": "stderr",
     "output_type": "stream",
     "text": [
      "<string>:392: SyntaxWarning: invalid escape sequence '\\.'\n",
      "<string>:401: SyntaxWarning: invalid escape sequence '\\.'\n",
      "<string>:412: SyntaxWarning: invalid escape sequence '\\d'\n",
      "<string>:707: SyntaxWarning: invalid escape sequence '\\s'\n",
      "\n",
      "22it [00:28,  1.32s/it]\u001b[A"
     ]
    },
    {
     "name": "stdout",
     "output_type": "stream",
     "text": [
      "/home/grierjones/DDCASPT2/delta_ML/CH\n",
      "raddir /home/grierjones/DDCASPT2/delta_ML/CH/2.80\n",
      "/home/grierjones/DDCASPT2/delta_ML/CH/2.80\n"
     ]
    },
    {
     "name": "stderr",
     "output_type": "stream",
     "text": [
      "<string>:392: SyntaxWarning: invalid escape sequence '\\.'\n",
      "<string>:401: SyntaxWarning: invalid escape sequence '\\.'\n",
      "<string>:412: SyntaxWarning: invalid escape sequence '\\d'\n",
      "<string>:707: SyntaxWarning: invalid escape sequence '\\s'\n",
      "\n",
      "23it [00:30,  1.32s/it]\u001b[A\n",
      " 50%|███████████████████████████████████████████████████████████████████████████████████████                                                                                       | 18/36 [09:15<09:11, 30.66s/it]"
     ]
    },
    {
     "name": "stdout",
     "output_type": "stream",
     "text": [
      "/home/grierjones/DDCASPT2/delta_ML/CH\n",
      "/home/grierjones/DDCASPT2/delta_ML/CH\n"
     ]
    },
    {
     "name": "stderr",
     "output_type": "stream",
     "text": [
      "\n",
      "0it [00:00, ?it/s]\u001b[A"
     ]
    },
    {
     "name": "stdout",
     "output_type": "stream",
     "text": [
      "raddir /home/grierjones/DDCASPT2/delta_ML/CLi/0.60\n",
      "/home/grierjones/DDCASPT2/delta_ML/CLi/0.60\n"
     ]
    },
    {
     "name": "stderr",
     "output_type": "stream",
     "text": [
      "<string>:392: SyntaxWarning: invalid escape sequence '\\.'\n",
      "<string>:401: SyntaxWarning: invalid escape sequence '\\.'\n",
      "<string>:412: SyntaxWarning: invalid escape sequence '\\d'\n",
      "<string>:707: SyntaxWarning: invalid escape sequence '\\s'\n",
      "\n",
      "1it [00:01,  1.32s/it]\u001b[A"
     ]
    },
    {
     "name": "stdout",
     "output_type": "stream",
     "text": [
      "/home/grierjones/DDCASPT2/delta_ML/CLi\n",
      "raddir /home/grierjones/DDCASPT2/delta_ML/CLi/0.70\n",
      "/home/grierjones/DDCASPT2/delta_ML/CLi/0.70\n"
     ]
    },
    {
     "name": "stderr",
     "output_type": "stream",
     "text": [
      "<string>:392: SyntaxWarning: invalid escape sequence '\\.'\n",
      "<string>:401: SyntaxWarning: invalid escape sequence '\\.'\n",
      "<string>:412: SyntaxWarning: invalid escape sequence '\\d'\n",
      "<string>:707: SyntaxWarning: invalid escape sequence '\\s'\n",
      "\n",
      "2it [00:02,  1.33s/it]\u001b[A"
     ]
    },
    {
     "name": "stdout",
     "output_type": "stream",
     "text": [
      "/home/grierjones/DDCASPT2/delta_ML/CLi\n",
      "raddir /home/grierjones/DDCASPT2/delta_ML/CLi/0.80\n",
      "/home/grierjones/DDCASPT2/delta_ML/CLi/0.80\n"
     ]
    },
    {
     "name": "stderr",
     "output_type": "stream",
     "text": [
      "<string>:392: SyntaxWarning: invalid escape sequence '\\.'\n",
      "<string>:401: SyntaxWarning: invalid escape sequence '\\.'\n",
      "<string>:412: SyntaxWarning: invalid escape sequence '\\d'\n",
      "<string>:707: SyntaxWarning: invalid escape sequence '\\s'\n",
      "\n",
      "3it [00:04,  1.34s/it]\u001b[A"
     ]
    },
    {
     "name": "stdout",
     "output_type": "stream",
     "text": [
      "/home/grierjones/DDCASPT2/delta_ML/CLi\n",
      "raddir /home/grierjones/DDCASPT2/delta_ML/CLi/0.90\n",
      "/home/grierjones/DDCASPT2/delta_ML/CLi/0.90\n"
     ]
    },
    {
     "name": "stderr",
     "output_type": "stream",
     "text": [
      "<string>:392: SyntaxWarning: invalid escape sequence '\\.'\n",
      "<string>:401: SyntaxWarning: invalid escape sequence '\\.'\n",
      "<string>:412: SyntaxWarning: invalid escape sequence '\\d'\n",
      "<string>:707: SyntaxWarning: invalid escape sequence '\\s'\n",
      "\n",
      "4it [00:05,  1.36s/it]\u001b[A"
     ]
    },
    {
     "name": "stdout",
     "output_type": "stream",
     "text": [
      "/home/grierjones/DDCASPT2/delta_ML/CLi\n",
      "raddir /home/grierjones/DDCASPT2/delta_ML/CLi/1.00\n",
      "/home/grierjones/DDCASPT2/delta_ML/CLi/1.00\n"
     ]
    },
    {
     "name": "stderr",
     "output_type": "stream",
     "text": [
      "<string>:392: SyntaxWarning: invalid escape sequence '\\.'\n",
      "<string>:401: SyntaxWarning: invalid escape sequence '\\.'\n",
      "<string>:412: SyntaxWarning: invalid escape sequence '\\d'\n",
      "<string>:707: SyntaxWarning: invalid escape sequence '\\s'\n",
      "\n",
      "5it [00:06,  1.36s/it]\u001b[A"
     ]
    },
    {
     "name": "stdout",
     "output_type": "stream",
     "text": [
      "/home/grierjones/DDCASPT2/delta_ML/CLi\n",
      "raddir /home/grierjones/DDCASPT2/delta_ML/CLi/1.10\n",
      "/home/grierjones/DDCASPT2/delta_ML/CLi/1.10\n"
     ]
    },
    {
     "name": "stderr",
     "output_type": "stream",
     "text": [
      "<string>:392: SyntaxWarning: invalid escape sequence '\\.'\n",
      "<string>:401: SyntaxWarning: invalid escape sequence '\\.'\n",
      "<string>:412: SyntaxWarning: invalid escape sequence '\\d'\n",
      "<string>:707: SyntaxWarning: invalid escape sequence '\\s'\n",
      "\n",
      "6it [00:08,  1.36s/it]\u001b[A"
     ]
    },
    {
     "name": "stdout",
     "output_type": "stream",
     "text": [
      "/home/grierjones/DDCASPT2/delta_ML/CLi\n",
      "raddir /home/grierjones/DDCASPT2/delta_ML/CLi/1.20\n",
      "/home/grierjones/DDCASPT2/delta_ML/CLi/1.20\n"
     ]
    },
    {
     "name": "stderr",
     "output_type": "stream",
     "text": [
      "<string>:392: SyntaxWarning: invalid escape sequence '\\.'\n",
      "<string>:401: SyntaxWarning: invalid escape sequence '\\.'\n",
      "<string>:412: SyntaxWarning: invalid escape sequence '\\d'\n",
      "<string>:707: SyntaxWarning: invalid escape sequence '\\s'\n",
      "\n",
      "7it [00:09,  1.36s/it]\u001b[A"
     ]
    },
    {
     "name": "stdout",
     "output_type": "stream",
     "text": [
      "/home/grierjones/DDCASPT2/delta_ML/CLi\n",
      "raddir /home/grierjones/DDCASPT2/delta_ML/CLi/1.30\n",
      "/home/grierjones/DDCASPT2/delta_ML/CLi/1.30\n"
     ]
    },
    {
     "name": "stderr",
     "output_type": "stream",
     "text": [
      "<string>:392: SyntaxWarning: invalid escape sequence '\\.'\n",
      "<string>:401: SyntaxWarning: invalid escape sequence '\\.'\n",
      "<string>:412: SyntaxWarning: invalid escape sequence '\\d'\n",
      "<string>:707: SyntaxWarning: invalid escape sequence '\\s'\n",
      "\n",
      "8it [00:10,  1.36s/it]\u001b[A"
     ]
    },
    {
     "name": "stdout",
     "output_type": "stream",
     "text": [
      "/home/grierjones/DDCASPT2/delta_ML/CLi\n",
      "raddir /home/grierjones/DDCASPT2/delta_ML/CLi/1.40\n",
      "/home/grierjones/DDCASPT2/delta_ML/CLi/1.40\n"
     ]
    },
    {
     "name": "stderr",
     "output_type": "stream",
     "text": [
      "<string>:392: SyntaxWarning: invalid escape sequence '\\.'\n",
      "<string>:401: SyntaxWarning: invalid escape sequence '\\.'\n",
      "<string>:412: SyntaxWarning: invalid escape sequence '\\d'\n",
      "<string>:707: SyntaxWarning: invalid escape sequence '\\s'\n",
      "\n",
      "9it [00:12,  1.37s/it]\u001b[A"
     ]
    },
    {
     "name": "stdout",
     "output_type": "stream",
     "text": [
      "/home/grierjones/DDCASPT2/delta_ML/CLi\n",
      "raddir /home/grierjones/DDCASPT2/delta_ML/CLi/1.50\n",
      "/home/grierjones/DDCASPT2/delta_ML/CLi/1.50\n"
     ]
    },
    {
     "name": "stderr",
     "output_type": "stream",
     "text": [
      "<string>:392: SyntaxWarning: invalid escape sequence '\\.'\n",
      "<string>:401: SyntaxWarning: invalid escape sequence '\\.'\n",
      "<string>:412: SyntaxWarning: invalid escape sequence '\\d'\n",
      "<string>:707: SyntaxWarning: invalid escape sequence '\\s'\n",
      "\n",
      "10it [00:13,  1.36s/it]\u001b[A"
     ]
    },
    {
     "name": "stdout",
     "output_type": "stream",
     "text": [
      "/home/grierjones/DDCASPT2/delta_ML/CLi\n",
      "raddir /home/grierjones/DDCASPT2/delta_ML/CLi/1.60\n",
      "/home/grierjones/DDCASPT2/delta_ML/CLi/1.60\n"
     ]
    },
    {
     "name": "stderr",
     "output_type": "stream",
     "text": [
      "<string>:392: SyntaxWarning: invalid escape sequence '\\.'\n",
      "<string>:401: SyntaxWarning: invalid escape sequence '\\.'\n",
      "<string>:412: SyntaxWarning: invalid escape sequence '\\d'\n",
      "<string>:707: SyntaxWarning: invalid escape sequence '\\s'\n",
      "\n",
      "11it [00:14,  1.37s/it]\u001b[A"
     ]
    },
    {
     "name": "stdout",
     "output_type": "stream",
     "text": [
      "/home/grierjones/DDCASPT2/delta_ML/CLi\n",
      "raddir /home/grierjones/DDCASPT2/delta_ML/CLi/1.70\n",
      "/home/grierjones/DDCASPT2/delta_ML/CLi/1.70\n"
     ]
    },
    {
     "name": "stderr",
     "output_type": "stream",
     "text": [
      "<string>:392: SyntaxWarning: invalid escape sequence '\\.'\n",
      "<string>:401: SyntaxWarning: invalid escape sequence '\\.'\n",
      "<string>:412: SyntaxWarning: invalid escape sequence '\\d'\n",
      "<string>:707: SyntaxWarning: invalid escape sequence '\\s'\n",
      "\n",
      "12it [00:16,  1.37s/it]\u001b[A"
     ]
    },
    {
     "name": "stdout",
     "output_type": "stream",
     "text": [
      "/home/grierjones/DDCASPT2/delta_ML/CLi\n",
      "raddir /home/grierjones/DDCASPT2/delta_ML/CLi/1.80\n",
      "/home/grierjones/DDCASPT2/delta_ML/CLi/1.80\n"
     ]
    },
    {
     "name": "stderr",
     "output_type": "stream",
     "text": [
      "<string>:392: SyntaxWarning: invalid escape sequence '\\.'\n",
      "<string>:401: SyntaxWarning: invalid escape sequence '\\.'\n",
      "<string>:412: SyntaxWarning: invalid escape sequence '\\d'\n",
      "<string>:707: SyntaxWarning: invalid escape sequence '\\s'\n",
      "\n",
      "13it [00:17,  1.41s/it]\u001b[A"
     ]
    },
    {
     "name": "stdout",
     "output_type": "stream",
     "text": [
      "/home/grierjones/DDCASPT2/delta_ML/CLi\n",
      "raddir /home/grierjones/DDCASPT2/delta_ML/CLi/1.90\n",
      "/home/grierjones/DDCASPT2/delta_ML/CLi/1.90\n"
     ]
    },
    {
     "name": "stderr",
     "output_type": "stream",
     "text": [
      "<string>:392: SyntaxWarning: invalid escape sequence '\\.'\n",
      "<string>:401: SyntaxWarning: invalid escape sequence '\\.'\n",
      "<string>:412: SyntaxWarning: invalid escape sequence '\\d'\n",
      "<string>:707: SyntaxWarning: invalid escape sequence '\\s'\n",
      "\n",
      "14it [00:19,  1.41s/it]\u001b[A"
     ]
    },
    {
     "name": "stdout",
     "output_type": "stream",
     "text": [
      "/home/grierjones/DDCASPT2/delta_ML/CLi\n",
      "raddir /home/grierjones/DDCASPT2/delta_ML/CLi/2.00\n",
      "/home/grierjones/DDCASPT2/delta_ML/CLi/2.00\n"
     ]
    },
    {
     "name": "stderr",
     "output_type": "stream",
     "text": [
      "<string>:392: SyntaxWarning: invalid escape sequence '\\.'\n",
      "<string>:401: SyntaxWarning: invalid escape sequence '\\.'\n",
      "<string>:412: SyntaxWarning: invalid escape sequence '\\d'\n",
      "<string>:707: SyntaxWarning: invalid escape sequence '\\s'\n",
      "\n",
      "15it [00:20,  1.42s/it]\u001b[A"
     ]
    },
    {
     "name": "stdout",
     "output_type": "stream",
     "text": [
      "/home/grierjones/DDCASPT2/delta_ML/CLi\n",
      "raddir /home/grierjones/DDCASPT2/delta_ML/CLi/2.10\n",
      "/home/grierjones/DDCASPT2/delta_ML/CLi/2.10\n"
     ]
    },
    {
     "name": "stderr",
     "output_type": "stream",
     "text": [
      "<string>:392: SyntaxWarning: invalid escape sequence '\\.'\n",
      "<string>:401: SyntaxWarning: invalid escape sequence '\\.'\n",
      "<string>:412: SyntaxWarning: invalid escape sequence '\\d'\n",
      "<string>:707: SyntaxWarning: invalid escape sequence '\\s'\n",
      "\n",
      "16it [00:22,  1.44s/it]\u001b[A"
     ]
    },
    {
     "name": "stdout",
     "output_type": "stream",
     "text": [
      "/home/grierjones/DDCASPT2/delta_ML/CLi\n",
      "raddir /home/grierjones/DDCASPT2/delta_ML/CLi/2.20\n",
      "/home/grierjones/DDCASPT2/delta_ML/CLi/2.20\n"
     ]
    },
    {
     "name": "stderr",
     "output_type": "stream",
     "text": [
      "<string>:392: SyntaxWarning: invalid escape sequence '\\.'\n",
      "<string>:401: SyntaxWarning: invalid escape sequence '\\.'\n",
      "<string>:412: SyntaxWarning: invalid escape sequence '\\d'\n",
      "<string>:707: SyntaxWarning: invalid escape sequence '\\s'\n",
      "\n",
      "17it [00:23,  1.43s/it]\u001b[A"
     ]
    },
    {
     "name": "stdout",
     "output_type": "stream",
     "text": [
      "/home/grierjones/DDCASPT2/delta_ML/CLi\n",
      "raddir /home/grierjones/DDCASPT2/delta_ML/CLi/2.30\n",
      "/home/grierjones/DDCASPT2/delta_ML/CLi/2.30\n"
     ]
    },
    {
     "name": "stderr",
     "output_type": "stream",
     "text": [
      "<string>:392: SyntaxWarning: invalid escape sequence '\\.'\n",
      "<string>:401: SyntaxWarning: invalid escape sequence '\\.'\n",
      "<string>:412: SyntaxWarning: invalid escape sequence '\\d'\n",
      "<string>:707: SyntaxWarning: invalid escape sequence '\\s'\n",
      "\n",
      "18it [00:24,  1.42s/it]\u001b[A"
     ]
    },
    {
     "name": "stdout",
     "output_type": "stream",
     "text": [
      "/home/grierjones/DDCASPT2/delta_ML/CLi\n",
      "raddir /home/grierjones/DDCASPT2/delta_ML/CLi/2.40\n",
      "/home/grierjones/DDCASPT2/delta_ML/CLi/2.40\n"
     ]
    },
    {
     "name": "stderr",
     "output_type": "stream",
     "text": [
      "<string>:392: SyntaxWarning: invalid escape sequence '\\.'\n",
      "<string>:401: SyntaxWarning: invalid escape sequence '\\.'\n",
      "<string>:412: SyntaxWarning: invalid escape sequence '\\d'\n",
      "<string>:707: SyntaxWarning: invalid escape sequence '\\s'\n",
      "\n",
      "19it [00:26,  1.42s/it]\u001b[A"
     ]
    },
    {
     "name": "stdout",
     "output_type": "stream",
     "text": [
      "/home/grierjones/DDCASPT2/delta_ML/CLi\n",
      "raddir /home/grierjones/DDCASPT2/delta_ML/CLi/2.50\n",
      "/home/grierjones/DDCASPT2/delta_ML/CLi/2.50\n"
     ]
    },
    {
     "name": "stderr",
     "output_type": "stream",
     "text": [
      "<string>:392: SyntaxWarning: invalid escape sequence '\\.'\n",
      "<string>:401: SyntaxWarning: invalid escape sequence '\\.'\n",
      "<string>:412: SyntaxWarning: invalid escape sequence '\\d'\n",
      "<string>:707: SyntaxWarning: invalid escape sequence '\\s'\n",
      "\n",
      "20it [00:27,  1.41s/it]\u001b[A"
     ]
    },
    {
     "name": "stdout",
     "output_type": "stream",
     "text": [
      "/home/grierjones/DDCASPT2/delta_ML/CLi\n",
      "raddir /home/grierjones/DDCASPT2/delta_ML/CLi/2.60\n",
      "/home/grierjones/DDCASPT2/delta_ML/CLi/2.60\n"
     ]
    },
    {
     "name": "stderr",
     "output_type": "stream",
     "text": [
      "<string>:392: SyntaxWarning: invalid escape sequence '\\.'\n",
      "<string>:401: SyntaxWarning: invalid escape sequence '\\.'\n",
      "<string>:412: SyntaxWarning: invalid escape sequence '\\d'\n",
      "<string>:707: SyntaxWarning: invalid escape sequence '\\s'\n",
      "\n",
      "21it [00:29,  1.41s/it]\u001b[A"
     ]
    },
    {
     "name": "stdout",
     "output_type": "stream",
     "text": [
      "/home/grierjones/DDCASPT2/delta_ML/CLi\n",
      "raddir /home/grierjones/DDCASPT2/delta_ML/CLi/2.70\n",
      "/home/grierjones/DDCASPT2/delta_ML/CLi/2.70\n"
     ]
    },
    {
     "name": "stderr",
     "output_type": "stream",
     "text": [
      "<string>:392: SyntaxWarning: invalid escape sequence '\\.'\n",
      "<string>:401: SyntaxWarning: invalid escape sequence '\\.'\n",
      "<string>:412: SyntaxWarning: invalid escape sequence '\\d'\n",
      "<string>:707: SyntaxWarning: invalid escape sequence '\\s'\n",
      "\n",
      "22it [00:30,  1.40s/it]\u001b[A"
     ]
    },
    {
     "name": "stdout",
     "output_type": "stream",
     "text": [
      "/home/grierjones/DDCASPT2/delta_ML/CLi\n",
      "raddir /home/grierjones/DDCASPT2/delta_ML/CLi/2.80\n",
      "/home/grierjones/DDCASPT2/delta_ML/CLi/2.80\n"
     ]
    },
    {
     "name": "stderr",
     "output_type": "stream",
     "text": [
      "<string>:392: SyntaxWarning: invalid escape sequence '\\.'\n",
      "<string>:401: SyntaxWarning: invalid escape sequence '\\.'\n",
      "<string>:412: SyntaxWarning: invalid escape sequence '\\d'\n",
      "<string>:707: SyntaxWarning: invalid escape sequence '\\s'\n",
      "\n",
      "23it [00:31,  1.39s/it]\u001b[A\n",
      " 53%|███████████████████████████████████████████████████████████████████████████████████████████▊                                                                                  | 19/36 [09:47<08:47, 31.05s/it]"
     ]
    },
    {
     "name": "stdout",
     "output_type": "stream",
     "text": [
      "/home/grierjones/DDCASPT2/delta_ML/CLi\n",
      "/home/grierjones/DDCASPT2/delta_ML/CLi\n"
     ]
    },
    {
     "name": "stderr",
     "output_type": "stream",
     "text": [
      "\n",
      "0it [00:00, ?it/s]\u001b[A"
     ]
    },
    {
     "name": "stdout",
     "output_type": "stream",
     "text": [
      "raddir /home/grierjones/DDCASPT2/delta_ML/CN/0.60\n",
      "/home/grierjones/DDCASPT2/delta_ML/CN/0.60\n"
     ]
    },
    {
     "name": "stderr",
     "output_type": "stream",
     "text": [
      "<string>:392: SyntaxWarning: invalid escape sequence '\\.'\n",
      "<string>:401: SyntaxWarning: invalid escape sequence '\\.'\n",
      "<string>:412: SyntaxWarning: invalid escape sequence '\\d'\n",
      "<string>:707: SyntaxWarning: invalid escape sequence '\\s'\n",
      "\n",
      "1it [00:01,  1.34s/it]\u001b[A"
     ]
    },
    {
     "name": "stdout",
     "output_type": "stream",
     "text": [
      "/home/grierjones/DDCASPT2/delta_ML/CN\n",
      "raddir /home/grierjones/DDCASPT2/delta_ML/CN/0.70\n",
      "/home/grierjones/DDCASPT2/delta_ML/CN/0.70\n"
     ]
    },
    {
     "name": "stderr",
     "output_type": "stream",
     "text": [
      "<string>:392: SyntaxWarning: invalid escape sequence '\\.'\n",
      "<string>:401: SyntaxWarning: invalid escape sequence '\\.'\n",
      "<string>:412: SyntaxWarning: invalid escape sequence '\\d'\n",
      "<string>:707: SyntaxWarning: invalid escape sequence '\\s'\n",
      "\n",
      "2it [00:02,  1.33s/it]\u001b[A"
     ]
    },
    {
     "name": "stdout",
     "output_type": "stream",
     "text": [
      "/home/grierjones/DDCASPT2/delta_ML/CN\n",
      "raddir /home/grierjones/DDCASPT2/delta_ML/CN/0.80\n",
      "/home/grierjones/DDCASPT2/delta_ML/CN/0.80\n"
     ]
    },
    {
     "name": "stderr",
     "output_type": "stream",
     "text": [
      "<string>:392: SyntaxWarning: invalid escape sequence '\\.'\n",
      "<string>:401: SyntaxWarning: invalid escape sequence '\\.'\n",
      "<string>:412: SyntaxWarning: invalid escape sequence '\\d'\n",
      "<string>:707: SyntaxWarning: invalid escape sequence '\\s'\n",
      "\n",
      "3it [00:04,  1.33s/it]\u001b[A"
     ]
    },
    {
     "name": "stdout",
     "output_type": "stream",
     "text": [
      "/home/grierjones/DDCASPT2/delta_ML/CN\n",
      "raddir /home/grierjones/DDCASPT2/delta_ML/CN/0.90\n",
      "/home/grierjones/DDCASPT2/delta_ML/CN/0.90\n"
     ]
    },
    {
     "name": "stderr",
     "output_type": "stream",
     "text": [
      "<string>:392: SyntaxWarning: invalid escape sequence '\\.'\n",
      "<string>:401: SyntaxWarning: invalid escape sequence '\\.'\n",
      "<string>:412: SyntaxWarning: invalid escape sequence '\\d'\n",
      "<string>:707: SyntaxWarning: invalid escape sequence '\\s'\n",
      "\n",
      "4it [00:05,  1.34s/it]\u001b[A"
     ]
    },
    {
     "name": "stdout",
     "output_type": "stream",
     "text": [
      "/home/grierjones/DDCASPT2/delta_ML/CN\n",
      "raddir /home/grierjones/DDCASPT2/delta_ML/CN/1.00\n",
      "/home/grierjones/DDCASPT2/delta_ML/CN/1.00\n"
     ]
    },
    {
     "name": "stderr",
     "output_type": "stream",
     "text": [
      "<string>:392: SyntaxWarning: invalid escape sequence '\\.'\n",
      "<string>:401: SyntaxWarning: invalid escape sequence '\\.'\n",
      "<string>:412: SyntaxWarning: invalid escape sequence '\\d'\n",
      "<string>:707: SyntaxWarning: invalid escape sequence '\\s'\n",
      "\n",
      "5it [00:06,  1.34s/it]\u001b[A"
     ]
    },
    {
     "name": "stdout",
     "output_type": "stream",
     "text": [
      "/home/grierjones/DDCASPT2/delta_ML/CN\n",
      "raddir /home/grierjones/DDCASPT2/delta_ML/CN/1.10\n",
      "/home/grierjones/DDCASPT2/delta_ML/CN/1.10\n"
     ]
    },
    {
     "name": "stderr",
     "output_type": "stream",
     "text": [
      "<string>:392: SyntaxWarning: invalid escape sequence '\\.'\n",
      "<string>:401: SyntaxWarning: invalid escape sequence '\\.'\n",
      "<string>:412: SyntaxWarning: invalid escape sequence '\\d'\n",
      "<string>:707: SyntaxWarning: invalid escape sequence '\\s'\n",
      "\n",
      "6it [00:08,  1.39s/it]\u001b[A"
     ]
    },
    {
     "name": "stdout",
     "output_type": "stream",
     "text": [
      "/home/grierjones/DDCASPT2/delta_ML/CN\n",
      "raddir /home/grierjones/DDCASPT2/delta_ML/CN/1.20\n",
      "/home/grierjones/DDCASPT2/delta_ML/CN/1.20\n"
     ]
    },
    {
     "name": "stderr",
     "output_type": "stream",
     "text": [
      "<string>:392: SyntaxWarning: invalid escape sequence '\\.'\n",
      "<string>:401: SyntaxWarning: invalid escape sequence '\\.'\n",
      "<string>:412: SyntaxWarning: invalid escape sequence '\\d'\n",
      "<string>:707: SyntaxWarning: invalid escape sequence '\\s'\n",
      "\n",
      "7it [00:09,  1.44s/it]\u001b[A"
     ]
    },
    {
     "name": "stdout",
     "output_type": "stream",
     "text": [
      "/home/grierjones/DDCASPT2/delta_ML/CN\n",
      "raddir /home/grierjones/DDCASPT2/delta_ML/CN/1.30\n",
      "/home/grierjones/DDCASPT2/delta_ML/CN/1.30\n"
     ]
    },
    {
     "name": "stderr",
     "output_type": "stream",
     "text": [
      "<string>:392: SyntaxWarning: invalid escape sequence '\\.'\n",
      "<string>:401: SyntaxWarning: invalid escape sequence '\\.'\n",
      "<string>:412: SyntaxWarning: invalid escape sequence '\\d'\n",
      "<string>:707: SyntaxWarning: invalid escape sequence '\\s'\n",
      "\n",
      "8it [00:11,  1.47s/it]\u001b[A"
     ]
    },
    {
     "name": "stdout",
     "output_type": "stream",
     "text": [
      "/home/grierjones/DDCASPT2/delta_ML/CN\n",
      "raddir /home/grierjones/DDCASPT2/delta_ML/CN/1.40\n",
      "/home/grierjones/DDCASPT2/delta_ML/CN/1.40\n"
     ]
    },
    {
     "name": "stderr",
     "output_type": "stream",
     "text": [
      "<string>:392: SyntaxWarning: invalid escape sequence '\\.'\n",
      "<string>:401: SyntaxWarning: invalid escape sequence '\\.'\n",
      "<string>:412: SyntaxWarning: invalid escape sequence '\\d'\n",
      "<string>:707: SyntaxWarning: invalid escape sequence '\\s'\n",
      "\n",
      "9it [00:12,  1.53s/it]\u001b[A"
     ]
    },
    {
     "name": "stdout",
     "output_type": "stream",
     "text": [
      "/home/grierjones/DDCASPT2/delta_ML/CN\n",
      "raddir /home/grierjones/DDCASPT2/delta_ML/CN/1.50\n",
      "/home/grierjones/DDCASPT2/delta_ML/CN/1.50\n"
     ]
    },
    {
     "name": "stderr",
     "output_type": "stream",
     "text": [
      "<string>:392: SyntaxWarning: invalid escape sequence '\\.'\n",
      "<string>:401: SyntaxWarning: invalid escape sequence '\\.'\n",
      "<string>:412: SyntaxWarning: invalid escape sequence '\\d'\n",
      "<string>:707: SyntaxWarning: invalid escape sequence '\\s'\n",
      "\n",
      "10it [00:14,  1.59s/it]\u001b[A"
     ]
    },
    {
     "name": "stdout",
     "output_type": "stream",
     "text": [
      "/home/grierjones/DDCASPT2/delta_ML/CN\n",
      "raddir /home/grierjones/DDCASPT2/delta_ML/CN/1.60\n",
      "/home/grierjones/DDCASPT2/delta_ML/CN/1.60\n"
     ]
    },
    {
     "name": "stderr",
     "output_type": "stream",
     "text": [
      "<string>:392: SyntaxWarning: invalid escape sequence '\\.'\n",
      "<string>:401: SyntaxWarning: invalid escape sequence '\\.'\n",
      "<string>:412: SyntaxWarning: invalid escape sequence '\\d'\n",
      "<string>:707: SyntaxWarning: invalid escape sequence '\\s'\n",
      "\n",
      "11it [00:16,  1.58s/it]\u001b[A"
     ]
    },
    {
     "name": "stdout",
     "output_type": "stream",
     "text": [
      "/home/grierjones/DDCASPT2/delta_ML/CN\n",
      "raddir /home/grierjones/DDCASPT2/delta_ML/CN/1.70\n",
      "/home/grierjones/DDCASPT2/delta_ML/CN/1.70\n"
     ]
    },
    {
     "name": "stderr",
     "output_type": "stream",
     "text": [
      "<string>:392: SyntaxWarning: invalid escape sequence '\\.'\n",
      "<string>:401: SyntaxWarning: invalid escape sequence '\\.'\n",
      "<string>:412: SyntaxWarning: invalid escape sequence '\\d'\n",
      "<string>:707: SyntaxWarning: invalid escape sequence '\\s'\n",
      "\n",
      "12it [00:18,  1.70s/it]\u001b[A"
     ]
    },
    {
     "name": "stdout",
     "output_type": "stream",
     "text": [
      "/home/grierjones/DDCASPT2/delta_ML/CN\n",
      "raddir /home/grierjones/DDCASPT2/delta_ML/CN/1.80\n",
      "/home/grierjones/DDCASPT2/delta_ML/CN/1.80\n"
     ]
    },
    {
     "name": "stderr",
     "output_type": "stream",
     "text": [
      "<string>:392: SyntaxWarning: invalid escape sequence '\\.'\n",
      "<string>:401: SyntaxWarning: invalid escape sequence '\\.'\n",
      "<string>:412: SyntaxWarning: invalid escape sequence '\\d'\n",
      "<string>:707: SyntaxWarning: invalid escape sequence '\\s'\n",
      "\n",
      "13it [00:19,  1.65s/it]\u001b[A"
     ]
    },
    {
     "name": "stdout",
     "output_type": "stream",
     "text": [
      "/home/grierjones/DDCASPT2/delta_ML/CN\n",
      "raddir /home/grierjones/DDCASPT2/delta_ML/CN/1.90\n",
      "/home/grierjones/DDCASPT2/delta_ML/CN/1.90\n"
     ]
    },
    {
     "name": "stderr",
     "output_type": "stream",
     "text": [
      "<string>:392: SyntaxWarning: invalid escape sequence '\\.'\n",
      "<string>:401: SyntaxWarning: invalid escape sequence '\\.'\n",
      "<string>:412: SyntaxWarning: invalid escape sequence '\\d'\n",
      "<string>:707: SyntaxWarning: invalid escape sequence '\\s'\n",
      "\n",
      "14it [00:21,  1.63s/it]\u001b[A"
     ]
    },
    {
     "name": "stdout",
     "output_type": "stream",
     "text": [
      "/home/grierjones/DDCASPT2/delta_ML/CN\n",
      "raddir /home/grierjones/DDCASPT2/delta_ML/CN/2.00\n",
      "/home/grierjones/DDCASPT2/delta_ML/CN/2.00\n"
     ]
    },
    {
     "name": "stderr",
     "output_type": "stream",
     "text": [
      "<string>:392: SyntaxWarning: invalid escape sequence '\\.'\n",
      "<string>:401: SyntaxWarning: invalid escape sequence '\\.'\n",
      "<string>:412: SyntaxWarning: invalid escape sequence '\\d'\n",
      "<string>:707: SyntaxWarning: invalid escape sequence '\\s'\n",
      "\n",
      "15it [00:22,  1.59s/it]\u001b[A"
     ]
    },
    {
     "name": "stdout",
     "output_type": "stream",
     "text": [
      "/home/grierjones/DDCASPT2/delta_ML/CN\n",
      "raddir /home/grierjones/DDCASPT2/delta_ML/CN/2.10\n",
      "/home/grierjones/DDCASPT2/delta_ML/CN/2.10\n"
     ]
    },
    {
     "name": "stderr",
     "output_type": "stream",
     "text": [
      "<string>:392: SyntaxWarning: invalid escape sequence '\\.'\n",
      "<string>:401: SyntaxWarning: invalid escape sequence '\\.'\n",
      "<string>:412: SyntaxWarning: invalid escape sequence '\\d'\n",
      "<string>:707: SyntaxWarning: invalid escape sequence '\\s'\n",
      "\n",
      "16it [00:24,  1.56s/it]\u001b[A"
     ]
    },
    {
     "name": "stdout",
     "output_type": "stream",
     "text": [
      "/home/grierjones/DDCASPT2/delta_ML/CN\n",
      "raddir /home/grierjones/DDCASPT2/delta_ML/CN/2.20\n",
      "/home/grierjones/DDCASPT2/delta_ML/CN/2.20\n"
     ]
    },
    {
     "name": "stderr",
     "output_type": "stream",
     "text": [
      "<string>:392: SyntaxWarning: invalid escape sequence '\\.'\n",
      "<string>:401: SyntaxWarning: invalid escape sequence '\\.'\n",
      "<string>:412: SyntaxWarning: invalid escape sequence '\\d'\n",
      "<string>:707: SyntaxWarning: invalid escape sequence '\\s'\n",
      "\n",
      "17it [00:25,  1.54s/it]\u001b[A"
     ]
    },
    {
     "name": "stdout",
     "output_type": "stream",
     "text": [
      "/home/grierjones/DDCASPT2/delta_ML/CN\n",
      "raddir /home/grierjones/DDCASPT2/delta_ML/CN/2.30\n",
      "/home/grierjones/DDCASPT2/delta_ML/CN/2.30\n"
     ]
    },
    {
     "name": "stderr",
     "output_type": "stream",
     "text": [
      "<string>:392: SyntaxWarning: invalid escape sequence '\\.'\n",
      "<string>:401: SyntaxWarning: invalid escape sequence '\\.'\n",
      "<string>:412: SyntaxWarning: invalid escape sequence '\\d'\n",
      "<string>:707: SyntaxWarning: invalid escape sequence '\\s'\n",
      "\n",
      "18it [00:27,  1.51s/it]\u001b[A"
     ]
    },
    {
     "name": "stdout",
     "output_type": "stream",
     "text": [
      "/home/grierjones/DDCASPT2/delta_ML/CN\n",
      "raddir /home/grierjones/DDCASPT2/delta_ML/CN/2.40\n",
      "/home/grierjones/DDCASPT2/delta_ML/CN/2.40\n"
     ]
    },
    {
     "name": "stderr",
     "output_type": "stream",
     "text": [
      "<string>:392: SyntaxWarning: invalid escape sequence '\\.'\n",
      "<string>:401: SyntaxWarning: invalid escape sequence '\\.'\n",
      "<string>:412: SyntaxWarning: invalid escape sequence '\\d'\n",
      "<string>:707: SyntaxWarning: invalid escape sequence '\\s'\n",
      "\n",
      "19it [00:28,  1.47s/it]\u001b[A"
     ]
    },
    {
     "name": "stdout",
     "output_type": "stream",
     "text": [
      "/home/grierjones/DDCASPT2/delta_ML/CN\n",
      "raddir /home/grierjones/DDCASPT2/delta_ML/CN/2.50\n",
      "/home/grierjones/DDCASPT2/delta_ML/CN/2.50\n"
     ]
    },
    {
     "name": "stderr",
     "output_type": "stream",
     "text": [
      "<string>:392: SyntaxWarning: invalid escape sequence '\\.'\n",
      "<string>:401: SyntaxWarning: invalid escape sequence '\\.'\n",
      "<string>:412: SyntaxWarning: invalid escape sequence '\\d'\n",
      "<string>:707: SyntaxWarning: invalid escape sequence '\\s'\n",
      "\n",
      "20it [00:29,  1.45s/it]\u001b[A"
     ]
    },
    {
     "name": "stdout",
     "output_type": "stream",
     "text": [
      "/home/grierjones/DDCASPT2/delta_ML/CN\n",
      "raddir /home/grierjones/DDCASPT2/delta_ML/CN/2.60\n",
      "/home/grierjones/DDCASPT2/delta_ML/CN/2.60\n"
     ]
    },
    {
     "name": "stderr",
     "output_type": "stream",
     "text": [
      "<string>:392: SyntaxWarning: invalid escape sequence '\\.'\n",
      "<string>:401: SyntaxWarning: invalid escape sequence '\\.'\n",
      "<string>:412: SyntaxWarning: invalid escape sequence '\\d'\n",
      "<string>:707: SyntaxWarning: invalid escape sequence '\\s'\n",
      "\n",
      "21it [00:31,  1.42s/it]\u001b[A"
     ]
    },
    {
     "name": "stdout",
     "output_type": "stream",
     "text": [
      "/home/grierjones/DDCASPT2/delta_ML/CN\n",
      "raddir /home/grierjones/DDCASPT2/delta_ML/CN/2.70\n",
      "/home/grierjones/DDCASPT2/delta_ML/CN/2.70\n"
     ]
    },
    {
     "name": "stderr",
     "output_type": "stream",
     "text": [
      "<string>:392: SyntaxWarning: invalid escape sequence '\\.'\n",
      "<string>:401: SyntaxWarning: invalid escape sequence '\\.'\n",
      "<string>:412: SyntaxWarning: invalid escape sequence '\\d'\n",
      "<string>:707: SyntaxWarning: invalid escape sequence '\\s'\n",
      "\n",
      "22it [00:32,  1.41s/it]\u001b[A"
     ]
    },
    {
     "name": "stdout",
     "output_type": "stream",
     "text": [
      "/home/grierjones/DDCASPT2/delta_ML/CN\n",
      "raddir /home/grierjones/DDCASPT2/delta_ML/CN/2.80\n",
      "/home/grierjones/DDCASPT2/delta_ML/CN/2.80\n"
     ]
    },
    {
     "name": "stderr",
     "output_type": "stream",
     "text": [
      "<string>:392: SyntaxWarning: invalid escape sequence '\\.'\n",
      "<string>:401: SyntaxWarning: invalid escape sequence '\\.'\n",
      "<string>:412: SyntaxWarning: invalid escape sequence '\\d'\n",
      "<string>:707: SyntaxWarning: invalid escape sequence '\\s'\n",
      "\n",
      "23it [00:34,  1.48s/it]\u001b[A\n",
      " 56%|████████████████████████████████████████████████████████████████████████████████████████████████▋                                                                             | 20/36 [10:21<08:31, 31.96s/it]"
     ]
    },
    {
     "name": "stdout",
     "output_type": "stream",
     "text": [
      "/home/grierjones/DDCASPT2/delta_ML/CN\n",
      "/home/grierjones/DDCASPT2/delta_ML/CN\n"
     ]
    },
    {
     "name": "stderr",
     "output_type": "stream",
     "text": [
      "\n",
      "0it [00:00, ?it/s]\u001b[A"
     ]
    },
    {
     "name": "stdout",
     "output_type": "stream",
     "text": [
      "raddir /home/grierjones/DDCASPT2/delta_ML/CO/0.60\n",
      "/home/grierjones/DDCASPT2/delta_ML/CO/0.60\n"
     ]
    },
    {
     "name": "stderr",
     "output_type": "stream",
     "text": [
      "<string>:392: SyntaxWarning: invalid escape sequence '\\.'\n",
      "<string>:401: SyntaxWarning: invalid escape sequence '\\.'\n",
      "<string>:412: SyntaxWarning: invalid escape sequence '\\d'\n",
      "<string>:707: SyntaxWarning: invalid escape sequence '\\s'\n",
      "\n",
      "1it [00:01,  1.40s/it]\u001b[A"
     ]
    },
    {
     "name": "stdout",
     "output_type": "stream",
     "text": [
      "/home/grierjones/DDCASPT2/delta_ML/CO\n",
      "raddir /home/grierjones/DDCASPT2/delta_ML/CO/0.70\n",
      "/home/grierjones/DDCASPT2/delta_ML/CO/0.70\n"
     ]
    },
    {
     "name": "stderr",
     "output_type": "stream",
     "text": [
      "<string>:392: SyntaxWarning: invalid escape sequence '\\.'\n",
      "<string>:401: SyntaxWarning: invalid escape sequence '\\.'\n",
      "<string>:412: SyntaxWarning: invalid escape sequence '\\d'\n",
      "<string>:707: SyntaxWarning: invalid escape sequence '\\s'\n",
      "\n",
      "2it [00:02,  1.31s/it]\u001b[A"
     ]
    },
    {
     "name": "stdout",
     "output_type": "stream",
     "text": [
      "/home/grierjones/DDCASPT2/delta_ML/CO\n",
      "raddir /home/grierjones/DDCASPT2/delta_ML/CO/0.80\n",
      "/home/grierjones/DDCASPT2/delta_ML/CO/0.80\n"
     ]
    },
    {
     "name": "stderr",
     "output_type": "stream",
     "text": [
      "<string>:392: SyntaxWarning: invalid escape sequence '\\.'\n",
      "<string>:401: SyntaxWarning: invalid escape sequence '\\.'\n",
      "<string>:412: SyntaxWarning: invalid escape sequence '\\d'\n",
      "<string>:707: SyntaxWarning: invalid escape sequence '\\s'\n",
      "\n",
      "3it [00:03,  1.28s/it]\u001b[A"
     ]
    },
    {
     "name": "stdout",
     "output_type": "stream",
     "text": [
      "/home/grierjones/DDCASPT2/delta_ML/CO\n",
      "raddir /home/grierjones/DDCASPT2/delta_ML/CO/0.90\n",
      "/home/grierjones/DDCASPT2/delta_ML/CO/0.90\n"
     ]
    },
    {
     "name": "stderr",
     "output_type": "stream",
     "text": [
      "<string>:392: SyntaxWarning: invalid escape sequence '\\.'\n",
      "<string>:401: SyntaxWarning: invalid escape sequence '\\.'\n",
      "<string>:412: SyntaxWarning: invalid escape sequence '\\d'\n",
      "<string>:707: SyntaxWarning: invalid escape sequence '\\s'\n",
      "\n",
      "4it [00:05,  1.27s/it]\u001b[A"
     ]
    },
    {
     "name": "stdout",
     "output_type": "stream",
     "text": [
      "/home/grierjones/DDCASPT2/delta_ML/CO\n",
      "raddir /home/grierjones/DDCASPT2/delta_ML/CO/1.00\n",
      "/home/grierjones/DDCASPT2/delta_ML/CO/1.00\n"
     ]
    },
    {
     "name": "stderr",
     "output_type": "stream",
     "text": [
      "<string>:392: SyntaxWarning: invalid escape sequence '\\.'\n",
      "<string>:401: SyntaxWarning: invalid escape sequence '\\.'\n",
      "<string>:412: SyntaxWarning: invalid escape sequence '\\d'\n",
      "<string>:707: SyntaxWarning: invalid escape sequence '\\s'\n",
      "\n",
      "5it [00:06,  1.29s/it]\u001b[A"
     ]
    },
    {
     "name": "stdout",
     "output_type": "stream",
     "text": [
      "/home/grierjones/DDCASPT2/delta_ML/CO\n",
      "raddir /home/grierjones/DDCASPT2/delta_ML/CO/1.10\n",
      "/home/grierjones/DDCASPT2/delta_ML/CO/1.10\n"
     ]
    },
    {
     "name": "stderr",
     "output_type": "stream",
     "text": [
      "<string>:392: SyntaxWarning: invalid escape sequence '\\.'\n",
      "<string>:401: SyntaxWarning: invalid escape sequence '\\.'\n",
      "<string>:412: SyntaxWarning: invalid escape sequence '\\d'\n",
      "<string>:707: SyntaxWarning: invalid escape sequence '\\s'\n",
      "\n",
      "6it [00:07,  1.30s/it]\u001b[A"
     ]
    },
    {
     "name": "stdout",
     "output_type": "stream",
     "text": [
      "/home/grierjones/DDCASPT2/delta_ML/CO\n",
      "raddir /home/grierjones/DDCASPT2/delta_ML/CO/1.20\n",
      "/home/grierjones/DDCASPT2/delta_ML/CO/1.20\n"
     ]
    },
    {
     "name": "stderr",
     "output_type": "stream",
     "text": [
      "<string>:392: SyntaxWarning: invalid escape sequence '\\.'\n",
      "<string>:401: SyntaxWarning: invalid escape sequence '\\.'\n",
      "<string>:412: SyntaxWarning: invalid escape sequence '\\d'\n",
      "<string>:707: SyntaxWarning: invalid escape sequence '\\s'\n",
      "\n",
      "7it [00:09,  1.32s/it]\u001b[A"
     ]
    },
    {
     "name": "stdout",
     "output_type": "stream",
     "text": [
      "/home/grierjones/DDCASPT2/delta_ML/CO\n",
      "raddir /home/grierjones/DDCASPT2/delta_ML/CO/1.30\n",
      "/home/grierjones/DDCASPT2/delta_ML/CO/1.30\n"
     ]
    },
    {
     "name": "stderr",
     "output_type": "stream",
     "text": [
      "<string>:392: SyntaxWarning: invalid escape sequence '\\.'\n",
      "<string>:401: SyntaxWarning: invalid escape sequence '\\.'\n",
      "<string>:412: SyntaxWarning: invalid escape sequence '\\d'\n",
      "<string>:707: SyntaxWarning: invalid escape sequence '\\s'\n",
      "\n",
      "8it [00:10,  1.32s/it]\u001b[A"
     ]
    },
    {
     "name": "stdout",
     "output_type": "stream",
     "text": [
      "/home/grierjones/DDCASPT2/delta_ML/CO\n",
      "raddir /home/grierjones/DDCASPT2/delta_ML/CO/1.40\n",
      "/home/grierjones/DDCASPT2/delta_ML/CO/1.40\n"
     ]
    },
    {
     "name": "stderr",
     "output_type": "stream",
     "text": [
      "<string>:392: SyntaxWarning: invalid escape sequence '\\.'\n",
      "<string>:401: SyntaxWarning: invalid escape sequence '\\.'\n",
      "<string>:412: SyntaxWarning: invalid escape sequence '\\d'\n",
      "<string>:707: SyntaxWarning: invalid escape sequence '\\s'\n",
      "\n",
      "9it [00:11,  1.34s/it]\u001b[A"
     ]
    },
    {
     "name": "stdout",
     "output_type": "stream",
     "text": [
      "/home/grierjones/DDCASPT2/delta_ML/CO\n",
      "raddir /home/grierjones/DDCASPT2/delta_ML/CO/1.50\n",
      "/home/grierjones/DDCASPT2/delta_ML/CO/1.50\n"
     ]
    },
    {
     "name": "stderr",
     "output_type": "stream",
     "text": [
      "<string>:392: SyntaxWarning: invalid escape sequence '\\.'\n",
      "<string>:401: SyntaxWarning: invalid escape sequence '\\.'\n",
      "<string>:412: SyntaxWarning: invalid escape sequence '\\d'\n",
      "<string>:707: SyntaxWarning: invalid escape sequence '\\s'\n",
      "\n",
      "10it [00:13,  1.34s/it]\u001b[A"
     ]
    },
    {
     "name": "stdout",
     "output_type": "stream",
     "text": [
      "/home/grierjones/DDCASPT2/delta_ML/CO\n",
      "raddir /home/grierjones/DDCASPT2/delta_ML/CO/1.60\n",
      "/home/grierjones/DDCASPT2/delta_ML/CO/1.60\n"
     ]
    },
    {
     "name": "stderr",
     "output_type": "stream",
     "text": [
      "<string>:392: SyntaxWarning: invalid escape sequence '\\.'\n",
      "<string>:401: SyntaxWarning: invalid escape sequence '\\.'\n",
      "<string>:412: SyntaxWarning: invalid escape sequence '\\d'\n",
      "<string>:707: SyntaxWarning: invalid escape sequence '\\s'\n",
      "\n",
      "11it [00:14,  1.34s/it]\u001b[A"
     ]
    },
    {
     "name": "stdout",
     "output_type": "stream",
     "text": [
      "/home/grierjones/DDCASPT2/delta_ML/CO\n",
      "raddir /home/grierjones/DDCASPT2/delta_ML/CO/1.70\n",
      "/home/grierjones/DDCASPT2/delta_ML/CO/1.70\n"
     ]
    },
    {
     "name": "stderr",
     "output_type": "stream",
     "text": [
      "<string>:392: SyntaxWarning: invalid escape sequence '\\.'\n",
      "<string>:401: SyntaxWarning: invalid escape sequence '\\.'\n",
      "<string>:412: SyntaxWarning: invalid escape sequence '\\d'\n",
      "<string>:707: SyntaxWarning: invalid escape sequence '\\s'\n",
      "\n",
      "12it [00:15,  1.33s/it]\u001b[A"
     ]
    },
    {
     "name": "stdout",
     "output_type": "stream",
     "text": [
      "/home/grierjones/DDCASPT2/delta_ML/CO\n",
      "raddir /home/grierjones/DDCASPT2/delta_ML/CO/1.80\n",
      "/home/grierjones/DDCASPT2/delta_ML/CO/1.80\n"
     ]
    },
    {
     "name": "stderr",
     "output_type": "stream",
     "text": [
      "<string>:392: SyntaxWarning: invalid escape sequence '\\.'\n",
      "<string>:401: SyntaxWarning: invalid escape sequence '\\.'\n",
      "<string>:412: SyntaxWarning: invalid escape sequence '\\d'\n",
      "<string>:707: SyntaxWarning: invalid escape sequence '\\s'\n",
      "\n",
      "13it [00:17,  1.33s/it]\u001b[A"
     ]
    },
    {
     "name": "stdout",
     "output_type": "stream",
     "text": [
      "/home/grierjones/DDCASPT2/delta_ML/CO\n",
      "raddir /home/grierjones/DDCASPT2/delta_ML/CO/1.90\n",
      "/home/grierjones/DDCASPT2/delta_ML/CO/1.90\n"
     ]
    },
    {
     "name": "stderr",
     "output_type": "stream",
     "text": [
      "<string>:392: SyntaxWarning: invalid escape sequence '\\.'\n",
      "<string>:401: SyntaxWarning: invalid escape sequence '\\.'\n",
      "<string>:412: SyntaxWarning: invalid escape sequence '\\d'\n",
      "<string>:707: SyntaxWarning: invalid escape sequence '\\s'\n",
      "\n",
      "14it [00:18,  1.31s/it]\u001b[A"
     ]
    },
    {
     "name": "stdout",
     "output_type": "stream",
     "text": [
      "/home/grierjones/DDCASPT2/delta_ML/CO\n",
      "raddir /home/grierjones/DDCASPT2/delta_ML/CO/2.00\n",
      "/home/grierjones/DDCASPT2/delta_ML/CO/2.00\n"
     ]
    },
    {
     "name": "stderr",
     "output_type": "stream",
     "text": [
      "<string>:392: SyntaxWarning: invalid escape sequence '\\.'\n",
      "<string>:401: SyntaxWarning: invalid escape sequence '\\.'\n",
      "<string>:412: SyntaxWarning: invalid escape sequence '\\d'\n",
      "<string>:707: SyntaxWarning: invalid escape sequence '\\s'\n",
      "\n",
      "15it [00:19,  1.32s/it]\u001b[A"
     ]
    },
    {
     "name": "stdout",
     "output_type": "stream",
     "text": [
      "/home/grierjones/DDCASPT2/delta_ML/CO\n",
      "raddir /home/grierjones/DDCASPT2/delta_ML/CO/2.10\n",
      "/home/grierjones/DDCASPT2/delta_ML/CO/2.10\n"
     ]
    },
    {
     "name": "stderr",
     "output_type": "stream",
     "text": [
      "<string>:392: SyntaxWarning: invalid escape sequence '\\.'\n",
      "<string>:401: SyntaxWarning: invalid escape sequence '\\.'\n",
      "<string>:412: SyntaxWarning: invalid escape sequence '\\d'\n",
      "<string>:707: SyntaxWarning: invalid escape sequence '\\s'\n",
      "\n",
      "16it [00:21,  1.31s/it]\u001b[A"
     ]
    },
    {
     "name": "stdout",
     "output_type": "stream",
     "text": [
      "/home/grierjones/DDCASPT2/delta_ML/CO\n",
      "raddir /home/grierjones/DDCASPT2/delta_ML/CO/2.20\n",
      "/home/grierjones/DDCASPT2/delta_ML/CO/2.20\n"
     ]
    },
    {
     "name": "stderr",
     "output_type": "stream",
     "text": [
      "<string>:392: SyntaxWarning: invalid escape sequence '\\.'\n",
      "<string>:401: SyntaxWarning: invalid escape sequence '\\.'\n",
      "<string>:412: SyntaxWarning: invalid escape sequence '\\d'\n",
      "<string>:707: SyntaxWarning: invalid escape sequence '\\s'\n",
      "\n",
      "17it [00:22,  1.31s/it]\u001b[A"
     ]
    },
    {
     "name": "stdout",
     "output_type": "stream",
     "text": [
      "/home/grierjones/DDCASPT2/delta_ML/CO\n",
      "raddir /home/grierjones/DDCASPT2/delta_ML/CO/2.30\n",
      "/home/grierjones/DDCASPT2/delta_ML/CO/2.30\n"
     ]
    },
    {
     "name": "stderr",
     "output_type": "stream",
     "text": [
      "<string>:392: SyntaxWarning: invalid escape sequence '\\.'\n",
      "<string>:401: SyntaxWarning: invalid escape sequence '\\.'\n",
      "<string>:412: SyntaxWarning: invalid escape sequence '\\d'\n",
      "<string>:707: SyntaxWarning: invalid escape sequence '\\s'\n",
      "\n",
      "18it [00:23,  1.31s/it]\u001b[A"
     ]
    },
    {
     "name": "stdout",
     "output_type": "stream",
     "text": [
      "/home/grierjones/DDCASPT2/delta_ML/CO\n",
      "raddir /home/grierjones/DDCASPT2/delta_ML/CO/2.40\n",
      "/home/grierjones/DDCASPT2/delta_ML/CO/2.40\n"
     ]
    },
    {
     "name": "stderr",
     "output_type": "stream",
     "text": [
      "<string>:392: SyntaxWarning: invalid escape sequence '\\.'\n",
      "<string>:401: SyntaxWarning: invalid escape sequence '\\.'\n",
      "<string>:412: SyntaxWarning: invalid escape sequence '\\d'\n",
      "<string>:707: SyntaxWarning: invalid escape sequence '\\s'\n",
      "\n",
      "19it [00:25,  1.31s/it]\u001b[A"
     ]
    },
    {
     "name": "stdout",
     "output_type": "stream",
     "text": [
      "/home/grierjones/DDCASPT2/delta_ML/CO\n",
      "raddir /home/grierjones/DDCASPT2/delta_ML/CO/2.50\n",
      "/home/grierjones/DDCASPT2/delta_ML/CO/2.50\n"
     ]
    },
    {
     "name": "stderr",
     "output_type": "stream",
     "text": [
      "<string>:392: SyntaxWarning: invalid escape sequence '\\.'\n",
      "<string>:401: SyntaxWarning: invalid escape sequence '\\.'\n",
      "<string>:412: SyntaxWarning: invalid escape sequence '\\d'\n",
      "<string>:707: SyntaxWarning: invalid escape sequence '\\s'\n",
      "\n",
      "20it [00:26,  1.30s/it]\u001b[A"
     ]
    },
    {
     "name": "stdout",
     "output_type": "stream",
     "text": [
      "/home/grierjones/DDCASPT2/delta_ML/CO\n",
      "raddir /home/grierjones/DDCASPT2/delta_ML/CO/2.60\n",
      "/home/grierjones/DDCASPT2/delta_ML/CO/2.60\n"
     ]
    },
    {
     "name": "stderr",
     "output_type": "stream",
     "text": [
      "<string>:392: SyntaxWarning: invalid escape sequence '\\.'\n",
      "<string>:401: SyntaxWarning: invalid escape sequence '\\.'\n",
      "<string>:412: SyntaxWarning: invalid escape sequence '\\d'\n",
      "<string>:707: SyntaxWarning: invalid escape sequence '\\s'\n",
      "\n",
      "21it [00:27,  1.30s/it]\u001b[A"
     ]
    },
    {
     "name": "stdout",
     "output_type": "stream",
     "text": [
      "/home/grierjones/DDCASPT2/delta_ML/CO\n",
      "raddir /home/grierjones/DDCASPT2/delta_ML/CO/2.70\n",
      "/home/grierjones/DDCASPT2/delta_ML/CO/2.70\n"
     ]
    },
    {
     "name": "stderr",
     "output_type": "stream",
     "text": [
      "<string>:392: SyntaxWarning: invalid escape sequence '\\.'\n",
      "<string>:401: SyntaxWarning: invalid escape sequence '\\.'\n",
      "<string>:412: SyntaxWarning: invalid escape sequence '\\d'\n",
      "<string>:707: SyntaxWarning: invalid escape sequence '\\s'\n",
      "\n",
      "22it [00:28,  1.30s/it]\u001b[A"
     ]
    },
    {
     "name": "stdout",
     "output_type": "stream",
     "text": [
      "/home/grierjones/DDCASPT2/delta_ML/CO\n",
      "raddir /home/grierjones/DDCASPT2/delta_ML/CO/2.80\n",
      "/home/grierjones/DDCASPT2/delta_ML/CO/2.80\n"
     ]
    },
    {
     "name": "stderr",
     "output_type": "stream",
     "text": [
      "<string>:392: SyntaxWarning: invalid escape sequence '\\.'\n",
      "<string>:401: SyntaxWarning: invalid escape sequence '\\.'\n",
      "<string>:412: SyntaxWarning: invalid escape sequence '\\d'\n",
      "<string>:707: SyntaxWarning: invalid escape sequence '\\s'\n",
      "\n",
      "23it [00:30,  1.31s/it]\u001b[A\n",
      " 58%|█████████████████████████████████████████████████████████████████████████████████████████████████████▌                                                                        | 21/36 [10:51<07:51, 31.44s/it]"
     ]
    },
    {
     "name": "stdout",
     "output_type": "stream",
     "text": [
      "/home/grierjones/DDCASPT2/delta_ML/CO\n",
      "/home/grierjones/DDCASPT2/delta_ML/CO\n"
     ]
    },
    {
     "name": "stderr",
     "output_type": "stream",
     "text": [
      "\n",
      "0it [00:00, ?it/s]\u001b[A"
     ]
    },
    {
     "name": "stdout",
     "output_type": "stream",
     "text": [
      "raddir /home/grierjones/DDCASPT2/delta_ML/FF/0.60\n",
      "/home/grierjones/DDCASPT2/delta_ML/FF/0.60\n"
     ]
    },
    {
     "name": "stderr",
     "output_type": "stream",
     "text": [
      "<string>:392: SyntaxWarning: invalid escape sequence '\\.'\n",
      "<string>:401: SyntaxWarning: invalid escape sequence '\\.'\n",
      "<string>:412: SyntaxWarning: invalid escape sequence '\\d'\n",
      "<string>:707: SyntaxWarning: invalid escape sequence '\\s'\n",
      "\n",
      "1it [00:01,  1.21s/it]\u001b[A"
     ]
    },
    {
     "name": "stdout",
     "output_type": "stream",
     "text": [
      "/home/grierjones/DDCASPT2/delta_ML/FF\n",
      "raddir /home/grierjones/DDCASPT2/delta_ML/FF/0.70\n",
      "/home/grierjones/DDCASPT2/delta_ML/FF/0.70\n"
     ]
    },
    {
     "name": "stderr",
     "output_type": "stream",
     "text": [
      "<string>:392: SyntaxWarning: invalid escape sequence '\\.'\n",
      "<string>:401: SyntaxWarning: invalid escape sequence '\\.'\n",
      "<string>:412: SyntaxWarning: invalid escape sequence '\\d'\n",
      "<string>:707: SyntaxWarning: invalid escape sequence '\\s'\n",
      "\n",
      "2it [00:02,  1.22s/it]\u001b[A"
     ]
    },
    {
     "name": "stdout",
     "output_type": "stream",
     "text": [
      "/home/grierjones/DDCASPT2/delta_ML/FF\n",
      "raddir /home/grierjones/DDCASPT2/delta_ML/FF/0.80\n",
      "/home/grierjones/DDCASPT2/delta_ML/FF/0.80\n"
     ]
    },
    {
     "name": "stderr",
     "output_type": "stream",
     "text": [
      "<string>:392: SyntaxWarning: invalid escape sequence '\\.'\n",
      "<string>:401: SyntaxWarning: invalid escape sequence '\\.'\n",
      "<string>:412: SyntaxWarning: invalid escape sequence '\\d'\n",
      "<string>:707: SyntaxWarning: invalid escape sequence '\\s'\n",
      "\n",
      "3it [00:03,  1.22s/it]\u001b[A"
     ]
    },
    {
     "name": "stdout",
     "output_type": "stream",
     "text": [
      "/home/grierjones/DDCASPT2/delta_ML/FF\n",
      "raddir /home/grierjones/DDCASPT2/delta_ML/FF/0.90\n",
      "/home/grierjones/DDCASPT2/delta_ML/FF/0.90\n"
     ]
    },
    {
     "name": "stderr",
     "output_type": "stream",
     "text": [
      "<string>:392: SyntaxWarning: invalid escape sequence '\\.'\n",
      "<string>:401: SyntaxWarning: invalid escape sequence '\\.'\n",
      "<string>:412: SyntaxWarning: invalid escape sequence '\\d'\n",
      "<string>:707: SyntaxWarning: invalid escape sequence '\\s'\n",
      "\n",
      "4it [00:04,  1.22s/it]\u001b[A"
     ]
    },
    {
     "name": "stdout",
     "output_type": "stream",
     "text": [
      "/home/grierjones/DDCASPT2/delta_ML/FF\n",
      "raddir /home/grierjones/DDCASPT2/delta_ML/FF/1.00\n",
      "/home/grierjones/DDCASPT2/delta_ML/FF/1.00\n"
     ]
    },
    {
     "name": "stderr",
     "output_type": "stream",
     "text": [
      "<string>:392: SyntaxWarning: invalid escape sequence '\\.'\n",
      "<string>:401: SyntaxWarning: invalid escape sequence '\\.'\n",
      "<string>:412: SyntaxWarning: invalid escape sequence '\\d'\n",
      "<string>:707: SyntaxWarning: invalid escape sequence '\\s'\n",
      "\n",
      "5it [00:06,  1.22s/it]\u001b[A"
     ]
    },
    {
     "name": "stdout",
     "output_type": "stream",
     "text": [
      "/home/grierjones/DDCASPT2/delta_ML/FF\n",
      "raddir /home/grierjones/DDCASPT2/delta_ML/FF/1.10\n",
      "/home/grierjones/DDCASPT2/delta_ML/FF/1.10\n"
     ]
    },
    {
     "name": "stderr",
     "output_type": "stream",
     "text": [
      "<string>:392: SyntaxWarning: invalid escape sequence '\\.'\n",
      "<string>:401: SyntaxWarning: invalid escape sequence '\\.'\n",
      "<string>:412: SyntaxWarning: invalid escape sequence '\\d'\n",
      "<string>:707: SyntaxWarning: invalid escape sequence '\\s'\n",
      "\n",
      "6it [00:07,  1.23s/it]\u001b[A"
     ]
    },
    {
     "name": "stdout",
     "output_type": "stream",
     "text": [
      "/home/grierjones/DDCASPT2/delta_ML/FF\n",
      "raddir /home/grierjones/DDCASPT2/delta_ML/FF/1.20\n",
      "/home/grierjones/DDCASPT2/delta_ML/FF/1.20\n"
     ]
    },
    {
     "name": "stderr",
     "output_type": "stream",
     "text": [
      "<string>:392: SyntaxWarning: invalid escape sequence '\\.'\n",
      "<string>:401: SyntaxWarning: invalid escape sequence '\\.'\n",
      "<string>:412: SyntaxWarning: invalid escape sequence '\\d'\n",
      "<string>:707: SyntaxWarning: invalid escape sequence '\\s'\n",
      "\n",
      "7it [00:08,  1.23s/it]\u001b[A"
     ]
    },
    {
     "name": "stdout",
     "output_type": "stream",
     "text": [
      "/home/grierjones/DDCASPT2/delta_ML/FF\n",
      "raddir /home/grierjones/DDCASPT2/delta_ML/FF/1.30\n",
      "/home/grierjones/DDCASPT2/delta_ML/FF/1.30\n"
     ]
    },
    {
     "name": "stderr",
     "output_type": "stream",
     "text": [
      "<string>:392: SyntaxWarning: invalid escape sequence '\\.'\n",
      "<string>:401: SyntaxWarning: invalid escape sequence '\\.'\n",
      "<string>:412: SyntaxWarning: invalid escape sequence '\\d'\n",
      "<string>:707: SyntaxWarning: invalid escape sequence '\\s'\n",
      "\n",
      "8it [00:09,  1.23s/it]\u001b[A"
     ]
    },
    {
     "name": "stdout",
     "output_type": "stream",
     "text": [
      "/home/grierjones/DDCASPT2/delta_ML/FF\n",
      "raddir /home/grierjones/DDCASPT2/delta_ML/FF/1.40\n",
      "/home/grierjones/DDCASPT2/delta_ML/FF/1.40\n"
     ]
    },
    {
     "name": "stderr",
     "output_type": "stream",
     "text": [
      "<string>:392: SyntaxWarning: invalid escape sequence '\\.'\n",
      "<string>:401: SyntaxWarning: invalid escape sequence '\\.'\n",
      "<string>:412: SyntaxWarning: invalid escape sequence '\\d'\n",
      "<string>:707: SyntaxWarning: invalid escape sequence '\\s'\n",
      "\n",
      "9it [00:11,  1.23s/it]\u001b[A"
     ]
    },
    {
     "name": "stdout",
     "output_type": "stream",
     "text": [
      "/home/grierjones/DDCASPT2/delta_ML/FF\n",
      "raddir /home/grierjones/DDCASPT2/delta_ML/FF/1.50\n",
      "/home/grierjones/DDCASPT2/delta_ML/FF/1.50\n"
     ]
    },
    {
     "name": "stderr",
     "output_type": "stream",
     "text": [
      "<string>:392: SyntaxWarning: invalid escape sequence '\\.'\n",
      "<string>:401: SyntaxWarning: invalid escape sequence '\\.'\n",
      "<string>:412: SyntaxWarning: invalid escape sequence '\\d'\n",
      "<string>:707: SyntaxWarning: invalid escape sequence '\\s'\n",
      "\n",
      "10it [00:12,  1.23s/it]\u001b[A"
     ]
    },
    {
     "name": "stdout",
     "output_type": "stream",
     "text": [
      "/home/grierjones/DDCASPT2/delta_ML/FF\n",
      "raddir /home/grierjones/DDCASPT2/delta_ML/FF/1.60\n",
      "/home/grierjones/DDCASPT2/delta_ML/FF/1.60\n"
     ]
    },
    {
     "name": "stderr",
     "output_type": "stream",
     "text": [
      "<string>:392: SyntaxWarning: invalid escape sequence '\\.'\n",
      "<string>:401: SyntaxWarning: invalid escape sequence '\\.'\n",
      "<string>:412: SyntaxWarning: invalid escape sequence '\\d'\n",
      "<string>:707: SyntaxWarning: invalid escape sequence '\\s'\n",
      "\n",
      "11it [00:13,  1.23s/it]\u001b[A"
     ]
    },
    {
     "name": "stdout",
     "output_type": "stream",
     "text": [
      "/home/grierjones/DDCASPT2/delta_ML/FF\n",
      "raddir /home/grierjones/DDCASPT2/delta_ML/FF/1.70\n",
      "/home/grierjones/DDCASPT2/delta_ML/FF/1.70\n"
     ]
    },
    {
     "name": "stderr",
     "output_type": "stream",
     "text": [
      "<string>:392: SyntaxWarning: invalid escape sequence '\\.'\n",
      "<string>:401: SyntaxWarning: invalid escape sequence '\\.'\n",
      "<string>:412: SyntaxWarning: invalid escape sequence '\\d'\n",
      "<string>:707: SyntaxWarning: invalid escape sequence '\\s'\n",
      "\n",
      "12it [00:14,  1.23s/it]\u001b[A"
     ]
    },
    {
     "name": "stdout",
     "output_type": "stream",
     "text": [
      "/home/grierjones/DDCASPT2/delta_ML/FF\n",
      "raddir /home/grierjones/DDCASPT2/delta_ML/FF/1.80\n",
      "/home/grierjones/DDCASPT2/delta_ML/FF/1.80\n"
     ]
    },
    {
     "name": "stderr",
     "output_type": "stream",
     "text": [
      "<string>:392: SyntaxWarning: invalid escape sequence '\\.'\n",
      "<string>:401: SyntaxWarning: invalid escape sequence '\\.'\n",
      "<string>:412: SyntaxWarning: invalid escape sequence '\\d'\n",
      "<string>:707: SyntaxWarning: invalid escape sequence '\\s'\n",
      "\n",
      "13it [00:15,  1.23s/it]\u001b[A"
     ]
    },
    {
     "name": "stdout",
     "output_type": "stream",
     "text": [
      "/home/grierjones/DDCASPT2/delta_ML/FF\n",
      "raddir /home/grierjones/DDCASPT2/delta_ML/FF/1.90\n",
      "/home/grierjones/DDCASPT2/delta_ML/FF/1.90\n"
     ]
    },
    {
     "name": "stderr",
     "output_type": "stream",
     "text": [
      "<string>:392: SyntaxWarning: invalid escape sequence '\\.'\n",
      "<string>:401: SyntaxWarning: invalid escape sequence '\\.'\n",
      "<string>:412: SyntaxWarning: invalid escape sequence '\\d'\n",
      "<string>:707: SyntaxWarning: invalid escape sequence '\\s'\n",
      "\n",
      "14it [00:17,  1.22s/it]\u001b[A"
     ]
    },
    {
     "name": "stdout",
     "output_type": "stream",
     "text": [
      "/home/grierjones/DDCASPT2/delta_ML/FF\n",
      "raddir /home/grierjones/DDCASPT2/delta_ML/FF/2.00\n",
      "/home/grierjones/DDCASPT2/delta_ML/FF/2.00\n"
     ]
    },
    {
     "name": "stderr",
     "output_type": "stream",
     "text": [
      "<string>:392: SyntaxWarning: invalid escape sequence '\\.'\n",
      "<string>:401: SyntaxWarning: invalid escape sequence '\\.'\n",
      "<string>:412: SyntaxWarning: invalid escape sequence '\\d'\n",
      "<string>:707: SyntaxWarning: invalid escape sequence '\\s'\n",
      "\n",
      "15it [00:18,  1.22s/it]\u001b[A"
     ]
    },
    {
     "name": "stdout",
     "output_type": "stream",
     "text": [
      "/home/grierjones/DDCASPT2/delta_ML/FF\n",
      "raddir /home/grierjones/DDCASPT2/delta_ML/FF/2.10\n",
      "/home/grierjones/DDCASPT2/delta_ML/FF/2.10\n"
     ]
    },
    {
     "name": "stderr",
     "output_type": "stream",
     "text": [
      "<string>:392: SyntaxWarning: invalid escape sequence '\\.'\n",
      "<string>:401: SyntaxWarning: invalid escape sequence '\\.'\n",
      "<string>:412: SyntaxWarning: invalid escape sequence '\\d'\n",
      "<string>:707: SyntaxWarning: invalid escape sequence '\\s'\n",
      "\n",
      "16it [00:19,  1.21s/it]\u001b[A"
     ]
    },
    {
     "name": "stdout",
     "output_type": "stream",
     "text": [
      "/home/grierjones/DDCASPT2/delta_ML/FF\n",
      "raddir /home/grierjones/DDCASPT2/delta_ML/FF/2.20\n",
      "/home/grierjones/DDCASPT2/delta_ML/FF/2.20\n"
     ]
    },
    {
     "name": "stderr",
     "output_type": "stream",
     "text": [
      "<string>:392: SyntaxWarning: invalid escape sequence '\\.'\n",
      "<string>:401: SyntaxWarning: invalid escape sequence '\\.'\n",
      "<string>:412: SyntaxWarning: invalid escape sequence '\\d'\n",
      "<string>:707: SyntaxWarning: invalid escape sequence '\\s'\n",
      "\n",
      "17it [00:21,  1.31s/it]\u001b[A"
     ]
    },
    {
     "name": "stdout",
     "output_type": "stream",
     "text": [
      "/home/grierjones/DDCASPT2/delta_ML/FF\n",
      "raddir /home/grierjones/DDCASPT2/delta_ML/FF/2.30\n",
      "/home/grierjones/DDCASPT2/delta_ML/FF/2.30\n"
     ]
    },
    {
     "name": "stderr",
     "output_type": "stream",
     "text": [
      "<string>:392: SyntaxWarning: invalid escape sequence '\\.'\n",
      "<string>:401: SyntaxWarning: invalid escape sequence '\\.'\n",
      "<string>:412: SyntaxWarning: invalid escape sequence '\\d'\n",
      "<string>:707: SyntaxWarning: invalid escape sequence '\\s'\n",
      "\n",
      "18it [00:22,  1.29s/it]\u001b[A"
     ]
    },
    {
     "name": "stdout",
     "output_type": "stream",
     "text": [
      "/home/grierjones/DDCASPT2/delta_ML/FF\n",
      "raddir /home/grierjones/DDCASPT2/delta_ML/FF/2.40\n",
      "/home/grierjones/DDCASPT2/delta_ML/FF/2.40\n"
     ]
    },
    {
     "name": "stderr",
     "output_type": "stream",
     "text": [
      "<string>:392: SyntaxWarning: invalid escape sequence '\\.'\n",
      "<string>:401: SyntaxWarning: invalid escape sequence '\\.'\n",
      "<string>:412: SyntaxWarning: invalid escape sequence '\\d'\n",
      "<string>:707: SyntaxWarning: invalid escape sequence '\\s'\n",
      "\n",
      "19it [00:23,  1.27s/it]\u001b[A"
     ]
    },
    {
     "name": "stdout",
     "output_type": "stream",
     "text": [
      "/home/grierjones/DDCASPT2/delta_ML/FF\n",
      "raddir /home/grierjones/DDCASPT2/delta_ML/FF/2.50\n",
      "/home/grierjones/DDCASPT2/delta_ML/FF/2.50\n"
     ]
    },
    {
     "name": "stderr",
     "output_type": "stream",
     "text": [
      "<string>:392: SyntaxWarning: invalid escape sequence '\\.'\n",
      "<string>:401: SyntaxWarning: invalid escape sequence '\\.'\n",
      "<string>:412: SyntaxWarning: invalid escape sequence '\\d'\n",
      "<string>:707: SyntaxWarning: invalid escape sequence '\\s'\n",
      "\n",
      "20it [00:24,  1.25s/it]\u001b[A"
     ]
    },
    {
     "name": "stdout",
     "output_type": "stream",
     "text": [
      "/home/grierjones/DDCASPT2/delta_ML/FF\n",
      "raddir /home/grierjones/DDCASPT2/delta_ML/FF/2.60\n",
      "/home/grierjones/DDCASPT2/delta_ML/FF/2.60\n"
     ]
    },
    {
     "name": "stderr",
     "output_type": "stream",
     "text": [
      "<string>:392: SyntaxWarning: invalid escape sequence '\\.'\n",
      "<string>:401: SyntaxWarning: invalid escape sequence '\\.'\n",
      "<string>:412: SyntaxWarning: invalid escape sequence '\\d'\n",
      "<string>:707: SyntaxWarning: invalid escape sequence '\\s'\n",
      "\n",
      "21it [00:25,  1.24s/it]\u001b[A"
     ]
    },
    {
     "name": "stdout",
     "output_type": "stream",
     "text": [
      "/home/grierjones/DDCASPT2/delta_ML/FF\n",
      "raddir /home/grierjones/DDCASPT2/delta_ML/FF/2.70\n",
      "/home/grierjones/DDCASPT2/delta_ML/FF/2.70\n"
     ]
    },
    {
     "name": "stderr",
     "output_type": "stream",
     "text": [
      "<string>:392: SyntaxWarning: invalid escape sequence '\\.'\n",
      "<string>:401: SyntaxWarning: invalid escape sequence '\\.'\n",
      "<string>:412: SyntaxWarning: invalid escape sequence '\\d'\n",
      "<string>:707: SyntaxWarning: invalid escape sequence '\\s'\n",
      "\n",
      "22it [00:27,  1.24s/it]\u001b[A"
     ]
    },
    {
     "name": "stdout",
     "output_type": "stream",
     "text": [
      "/home/grierjones/DDCASPT2/delta_ML/FF\n",
      "raddir /home/grierjones/DDCASPT2/delta_ML/FF/2.80\n",
      "/home/grierjones/DDCASPT2/delta_ML/FF/2.80\n"
     ]
    },
    {
     "name": "stderr",
     "output_type": "stream",
     "text": [
      "<string>:392: SyntaxWarning: invalid escape sequence '\\.'\n",
      "<string>:401: SyntaxWarning: invalid escape sequence '\\.'\n",
      "<string>:412: SyntaxWarning: invalid escape sequence '\\d'\n",
      "<string>:707: SyntaxWarning: invalid escape sequence '\\s'\n",
      "\n",
      "23it [00:28,  1.24s/it]\u001b[A\n",
      " 61%|██████████████████████████████████████████████████████████████████████████████████████████████████████████▎                                                                   | 22/36 [11:19<07:07, 30.53s/it]"
     ]
    },
    {
     "name": "stdout",
     "output_type": "stream",
     "text": [
      "/home/grierjones/DDCASPT2/delta_ML/FF\n",
      "/home/grierjones/DDCASPT2/delta_ML/FF\n"
     ]
    },
    {
     "name": "stderr",
     "output_type": "stream",
     "text": [
      "\n",
      "0it [00:00, ?it/s]\u001b[A"
     ]
    },
    {
     "name": "stdout",
     "output_type": "stream",
     "text": [
      "raddir /home/grierjones/DDCASPT2/delta_ML/FH/0.60\n",
      "/home/grierjones/DDCASPT2/delta_ML/FH/0.60\n"
     ]
    },
    {
     "name": "stderr",
     "output_type": "stream",
     "text": [
      "<string>:392: SyntaxWarning: invalid escape sequence '\\.'\n",
      "<string>:401: SyntaxWarning: invalid escape sequence '\\.'\n",
      "<string>:412: SyntaxWarning: invalid escape sequence '\\d'\n",
      "<string>:707: SyntaxWarning: invalid escape sequence '\\s'\n",
      "\n",
      "1it [00:01,  1.22s/it]\u001b[A"
     ]
    },
    {
     "name": "stdout",
     "output_type": "stream",
     "text": [
      "/home/grierjones/DDCASPT2/delta_ML/FH\n",
      "raddir /home/grierjones/DDCASPT2/delta_ML/FH/0.70\n",
      "/home/grierjones/DDCASPT2/delta_ML/FH/0.70\n"
     ]
    },
    {
     "name": "stderr",
     "output_type": "stream",
     "text": [
      "<string>:392: SyntaxWarning: invalid escape sequence '\\.'\n",
      "<string>:401: SyntaxWarning: invalid escape sequence '\\.'\n",
      "<string>:412: SyntaxWarning: invalid escape sequence '\\d'\n",
      "<string>:707: SyntaxWarning: invalid escape sequence '\\s'\n",
      "\n",
      "2it [00:02,  1.21s/it]\u001b[A"
     ]
    },
    {
     "name": "stdout",
     "output_type": "stream",
     "text": [
      "/home/grierjones/DDCASPT2/delta_ML/FH\n",
      "raddir /home/grierjones/DDCASPT2/delta_ML/FH/0.80\n",
      "/home/grierjones/DDCASPT2/delta_ML/FH/0.80\n"
     ]
    },
    {
     "name": "stderr",
     "output_type": "stream",
     "text": [
      "<string>:392: SyntaxWarning: invalid escape sequence '\\.'\n",
      "<string>:401: SyntaxWarning: invalid escape sequence '\\.'\n",
      "<string>:412: SyntaxWarning: invalid escape sequence '\\d'\n",
      "<string>:707: SyntaxWarning: invalid escape sequence '\\s'\n",
      "\n",
      "3it [00:03,  1.21s/it]\u001b[A"
     ]
    },
    {
     "name": "stdout",
     "output_type": "stream",
     "text": [
      "/home/grierjones/DDCASPT2/delta_ML/FH\n",
      "raddir /home/grierjones/DDCASPT2/delta_ML/FH/0.90\n",
      "/home/grierjones/DDCASPT2/delta_ML/FH/0.90\n"
     ]
    },
    {
     "name": "stderr",
     "output_type": "stream",
     "text": [
      "<string>:392: SyntaxWarning: invalid escape sequence '\\.'\n",
      "<string>:401: SyntaxWarning: invalid escape sequence '\\.'\n",
      "<string>:412: SyntaxWarning: invalid escape sequence '\\d'\n",
      "<string>:707: SyntaxWarning: invalid escape sequence '\\s'\n",
      "\n",
      "4it [00:04,  1.20s/it]\u001b[A"
     ]
    },
    {
     "name": "stdout",
     "output_type": "stream",
     "text": [
      "/home/grierjones/DDCASPT2/delta_ML/FH\n",
      "raddir /home/grierjones/DDCASPT2/delta_ML/FH/1.00\n",
      "/home/grierjones/DDCASPT2/delta_ML/FH/1.00\n"
     ]
    },
    {
     "name": "stderr",
     "output_type": "stream",
     "text": [
      "<string>:392: SyntaxWarning: invalid escape sequence '\\.'\n",
      "<string>:401: SyntaxWarning: invalid escape sequence '\\.'\n",
      "<string>:412: SyntaxWarning: invalid escape sequence '\\d'\n",
      "<string>:707: SyntaxWarning: invalid escape sequence '\\s'\n",
      "\n",
      "5it [00:06,  1.20s/it]\u001b[A"
     ]
    },
    {
     "name": "stdout",
     "output_type": "stream",
     "text": [
      "/home/grierjones/DDCASPT2/delta_ML/FH\n",
      "raddir /home/grierjones/DDCASPT2/delta_ML/FH/1.10\n",
      "/home/grierjones/DDCASPT2/delta_ML/FH/1.10\n"
     ]
    },
    {
     "name": "stderr",
     "output_type": "stream",
     "text": [
      "<string>:392: SyntaxWarning: invalid escape sequence '\\.'\n",
      "<string>:401: SyntaxWarning: invalid escape sequence '\\.'\n",
      "<string>:412: SyntaxWarning: invalid escape sequence '\\d'\n",
      "<string>:707: SyntaxWarning: invalid escape sequence '\\s'\n",
      "\n",
      "6it [00:07,  1.20s/it]\u001b[A"
     ]
    },
    {
     "name": "stdout",
     "output_type": "stream",
     "text": [
      "/home/grierjones/DDCASPT2/delta_ML/FH\n",
      "raddir /home/grierjones/DDCASPT2/delta_ML/FH/1.20\n",
      "/home/grierjones/DDCASPT2/delta_ML/FH/1.20\n"
     ]
    },
    {
     "name": "stderr",
     "output_type": "stream",
     "text": [
      "<string>:392: SyntaxWarning: invalid escape sequence '\\.'\n",
      "<string>:401: SyntaxWarning: invalid escape sequence '\\.'\n",
      "<string>:412: SyntaxWarning: invalid escape sequence '\\d'\n",
      "<string>:707: SyntaxWarning: invalid escape sequence '\\s'\n",
      "\n",
      "7it [00:08,  1.20s/it]\u001b[A"
     ]
    },
    {
     "name": "stdout",
     "output_type": "stream",
     "text": [
      "/home/grierjones/DDCASPT2/delta_ML/FH\n",
      "raddir /home/grierjones/DDCASPT2/delta_ML/FH/1.30\n",
      "/home/grierjones/DDCASPT2/delta_ML/FH/1.30\n"
     ]
    },
    {
     "name": "stderr",
     "output_type": "stream",
     "text": [
      "<string>:392: SyntaxWarning: invalid escape sequence '\\.'\n",
      "<string>:401: SyntaxWarning: invalid escape sequence '\\.'\n",
      "<string>:412: SyntaxWarning: invalid escape sequence '\\d'\n",
      "<string>:707: SyntaxWarning: invalid escape sequence '\\s'\n",
      "\n",
      "8it [00:09,  1.20s/it]\u001b[A"
     ]
    },
    {
     "name": "stdout",
     "output_type": "stream",
     "text": [
      "/home/grierjones/DDCASPT2/delta_ML/FH\n",
      "raddir /home/grierjones/DDCASPT2/delta_ML/FH/1.40\n",
      "/home/grierjones/DDCASPT2/delta_ML/FH/1.40\n"
     ]
    },
    {
     "name": "stderr",
     "output_type": "stream",
     "text": [
      "<string>:392: SyntaxWarning: invalid escape sequence '\\.'\n",
      "<string>:401: SyntaxWarning: invalid escape sequence '\\.'\n",
      "<string>:412: SyntaxWarning: invalid escape sequence '\\d'\n",
      "<string>:707: SyntaxWarning: invalid escape sequence '\\s'\n",
      "\n",
      "9it [00:10,  1.20s/it]\u001b[A"
     ]
    },
    {
     "name": "stdout",
     "output_type": "stream",
     "text": [
      "/home/grierjones/DDCASPT2/delta_ML/FH\n",
      "raddir /home/grierjones/DDCASPT2/delta_ML/FH/1.50\n",
      "/home/grierjones/DDCASPT2/delta_ML/FH/1.50\n"
     ]
    },
    {
     "name": "stderr",
     "output_type": "stream",
     "text": [
      "<string>:392: SyntaxWarning: invalid escape sequence '\\.'\n",
      "<string>:401: SyntaxWarning: invalid escape sequence '\\.'\n",
      "<string>:412: SyntaxWarning: invalid escape sequence '\\d'\n",
      "<string>:707: SyntaxWarning: invalid escape sequence '\\s'\n",
      "\n",
      "10it [00:12,  1.20s/it]\u001b[A"
     ]
    },
    {
     "name": "stdout",
     "output_type": "stream",
     "text": [
      "/home/grierjones/DDCASPT2/delta_ML/FH\n",
      "raddir /home/grierjones/DDCASPT2/delta_ML/FH/1.60\n",
      "/home/grierjones/DDCASPT2/delta_ML/FH/1.60\n"
     ]
    },
    {
     "name": "stderr",
     "output_type": "stream",
     "text": [
      "<string>:392: SyntaxWarning: invalid escape sequence '\\.'\n",
      "<string>:401: SyntaxWarning: invalid escape sequence '\\.'\n",
      "<string>:412: SyntaxWarning: invalid escape sequence '\\d'\n",
      "<string>:707: SyntaxWarning: invalid escape sequence '\\s'\n",
      "\n",
      "11it [00:13,  1.21s/it]\u001b[A"
     ]
    },
    {
     "name": "stdout",
     "output_type": "stream",
     "text": [
      "/home/grierjones/DDCASPT2/delta_ML/FH\n",
      "raddir /home/grierjones/DDCASPT2/delta_ML/FH/1.70\n",
      "/home/grierjones/DDCASPT2/delta_ML/FH/1.70\n"
     ]
    },
    {
     "name": "stderr",
     "output_type": "stream",
     "text": [
      "<string>:392: SyntaxWarning: invalid escape sequence '\\.'\n",
      "<string>:401: SyntaxWarning: invalid escape sequence '\\.'\n",
      "<string>:412: SyntaxWarning: invalid escape sequence '\\d'\n",
      "<string>:707: SyntaxWarning: invalid escape sequence '\\s'\n",
      "\n",
      "12it [00:14,  1.21s/it]\u001b[A"
     ]
    },
    {
     "name": "stdout",
     "output_type": "stream",
     "text": [
      "/home/grierjones/DDCASPT2/delta_ML/FH\n",
      "raddir /home/grierjones/DDCASPT2/delta_ML/FH/1.80\n",
      "/home/grierjones/DDCASPT2/delta_ML/FH/1.80\n"
     ]
    },
    {
     "name": "stderr",
     "output_type": "stream",
     "text": [
      "<string>:392: SyntaxWarning: invalid escape sequence '\\.'\n",
      "<string>:401: SyntaxWarning: invalid escape sequence '\\.'\n",
      "<string>:412: SyntaxWarning: invalid escape sequence '\\d'\n",
      "<string>:707: SyntaxWarning: invalid escape sequence '\\s'\n",
      "\n",
      "13it [00:15,  1.21s/it]\u001b[A"
     ]
    },
    {
     "name": "stdout",
     "output_type": "stream",
     "text": [
      "/home/grierjones/DDCASPT2/delta_ML/FH\n",
      "raddir /home/grierjones/DDCASPT2/delta_ML/FH/1.90\n",
      "/home/grierjones/DDCASPT2/delta_ML/FH/1.90\n"
     ]
    },
    {
     "name": "stderr",
     "output_type": "stream",
     "text": [
      "<string>:392: SyntaxWarning: invalid escape sequence '\\.'\n",
      "<string>:401: SyntaxWarning: invalid escape sequence '\\.'\n",
      "<string>:412: SyntaxWarning: invalid escape sequence '\\d'\n",
      "<string>:707: SyntaxWarning: invalid escape sequence '\\s'\n",
      "\n",
      "14it [00:16,  1.21s/it]\u001b[A"
     ]
    },
    {
     "name": "stdout",
     "output_type": "stream",
     "text": [
      "/home/grierjones/DDCASPT2/delta_ML/FH\n",
      "raddir /home/grierjones/DDCASPT2/delta_ML/FH/2.00\n",
      "/home/grierjones/DDCASPT2/delta_ML/FH/2.00\n"
     ]
    },
    {
     "name": "stderr",
     "output_type": "stream",
     "text": [
      "<string>:392: SyntaxWarning: invalid escape sequence '\\.'\n",
      "<string>:401: SyntaxWarning: invalid escape sequence '\\.'\n",
      "<string>:412: SyntaxWarning: invalid escape sequence '\\d'\n",
      "<string>:707: SyntaxWarning: invalid escape sequence '\\s'\n",
      "\n",
      "15it [00:18,  1.21s/it]\u001b[A"
     ]
    },
    {
     "name": "stdout",
     "output_type": "stream",
     "text": [
      "/home/grierjones/DDCASPT2/delta_ML/FH\n",
      "raddir /home/grierjones/DDCASPT2/delta_ML/FH/2.10\n",
      "/home/grierjones/DDCASPT2/delta_ML/FH/2.10\n"
     ]
    },
    {
     "name": "stderr",
     "output_type": "stream",
     "text": [
      "<string>:392: SyntaxWarning: invalid escape sequence '\\.'\n",
      "<string>:401: SyntaxWarning: invalid escape sequence '\\.'\n",
      "<string>:412: SyntaxWarning: invalid escape sequence '\\d'\n",
      "<string>:707: SyntaxWarning: invalid escape sequence '\\s'\n",
      "\n",
      "16it [00:19,  1.21s/it]\u001b[A"
     ]
    },
    {
     "name": "stdout",
     "output_type": "stream",
     "text": [
      "/home/grierjones/DDCASPT2/delta_ML/FH\n",
      "raddir /home/grierjones/DDCASPT2/delta_ML/FH/2.20\n",
      "/home/grierjones/DDCASPT2/delta_ML/FH/2.20\n"
     ]
    },
    {
     "name": "stderr",
     "output_type": "stream",
     "text": [
      "<string>:392: SyntaxWarning: invalid escape sequence '\\.'\n",
      "<string>:401: SyntaxWarning: invalid escape sequence '\\.'\n",
      "<string>:412: SyntaxWarning: invalid escape sequence '\\d'\n",
      "<string>:707: SyntaxWarning: invalid escape sequence '\\s'\n",
      "\n",
      "17it [00:20,  1.20s/it]\u001b[A"
     ]
    },
    {
     "name": "stdout",
     "output_type": "stream",
     "text": [
      "/home/grierjones/DDCASPT2/delta_ML/FH\n",
      "raddir /home/grierjones/DDCASPT2/delta_ML/FH/2.30\n",
      "/home/grierjones/DDCASPT2/delta_ML/FH/2.30\n"
     ]
    },
    {
     "name": "stderr",
     "output_type": "stream",
     "text": [
      "<string>:392: SyntaxWarning: invalid escape sequence '\\.'\n",
      "<string>:401: SyntaxWarning: invalid escape sequence '\\.'\n",
      "<string>:412: SyntaxWarning: invalid escape sequence '\\d'\n",
      "<string>:707: SyntaxWarning: invalid escape sequence '\\s'\n",
      "\n",
      "18it [00:21,  1.20s/it]\u001b[A"
     ]
    },
    {
     "name": "stdout",
     "output_type": "stream",
     "text": [
      "/home/grierjones/DDCASPT2/delta_ML/FH\n",
      "raddir /home/grierjones/DDCASPT2/delta_ML/FH/2.40\n",
      "/home/grierjones/DDCASPT2/delta_ML/FH/2.40\n"
     ]
    },
    {
     "name": "stderr",
     "output_type": "stream",
     "text": [
      "<string>:392: SyntaxWarning: invalid escape sequence '\\.'\n",
      "<string>:401: SyntaxWarning: invalid escape sequence '\\.'\n",
      "<string>:412: SyntaxWarning: invalid escape sequence '\\d'\n",
      "<string>:707: SyntaxWarning: invalid escape sequence '\\s'\n",
      "\n",
      "19it [00:22,  1.20s/it]\u001b[A"
     ]
    },
    {
     "name": "stdout",
     "output_type": "stream",
     "text": [
      "/home/grierjones/DDCASPT2/delta_ML/FH\n",
      "raddir /home/grierjones/DDCASPT2/delta_ML/FH/2.50\n",
      "/home/grierjones/DDCASPT2/delta_ML/FH/2.50\n"
     ]
    },
    {
     "name": "stderr",
     "output_type": "stream",
     "text": [
      "<string>:392: SyntaxWarning: invalid escape sequence '\\.'\n",
      "<string>:401: SyntaxWarning: invalid escape sequence '\\.'\n",
      "<string>:412: SyntaxWarning: invalid escape sequence '\\d'\n",
      "<string>:707: SyntaxWarning: invalid escape sequence '\\s'\n",
      "\n",
      "20it [00:24,  1.21s/it]\u001b[A"
     ]
    },
    {
     "name": "stdout",
     "output_type": "stream",
     "text": [
      "/home/grierjones/DDCASPT2/delta_ML/FH\n",
      "raddir /home/grierjones/DDCASPT2/delta_ML/FH/2.60\n",
      "/home/grierjones/DDCASPT2/delta_ML/FH/2.60\n"
     ]
    },
    {
     "name": "stderr",
     "output_type": "stream",
     "text": [
      "<string>:392: SyntaxWarning: invalid escape sequence '\\.'\n",
      "<string>:401: SyntaxWarning: invalid escape sequence '\\.'\n",
      "<string>:412: SyntaxWarning: invalid escape sequence '\\d'\n",
      "<string>:707: SyntaxWarning: invalid escape sequence '\\s'\n",
      "\n",
      "21it [00:25,  1.21s/it]\u001b[A"
     ]
    },
    {
     "name": "stdout",
     "output_type": "stream",
     "text": [
      "/home/grierjones/DDCASPT2/delta_ML/FH\n",
      "raddir /home/grierjones/DDCASPT2/delta_ML/FH/2.70\n",
      "/home/grierjones/DDCASPT2/delta_ML/FH/2.70\n"
     ]
    },
    {
     "name": "stderr",
     "output_type": "stream",
     "text": [
      "<string>:392: SyntaxWarning: invalid escape sequence '\\.'\n",
      "<string>:401: SyntaxWarning: invalid escape sequence '\\.'\n",
      "<string>:412: SyntaxWarning: invalid escape sequence '\\d'\n",
      "<string>:707: SyntaxWarning: invalid escape sequence '\\s'\n",
      "\n",
      "22it [00:26,  1.21s/it]\u001b[A"
     ]
    },
    {
     "name": "stdout",
     "output_type": "stream",
     "text": [
      "/home/grierjones/DDCASPT2/delta_ML/FH\n",
      "raddir /home/grierjones/DDCASPT2/delta_ML/FH/2.80\n",
      "/home/grierjones/DDCASPT2/delta_ML/FH/2.80\n"
     ]
    },
    {
     "name": "stderr",
     "output_type": "stream",
     "text": [
      "<string>:392: SyntaxWarning: invalid escape sequence '\\.'\n",
      "<string>:401: SyntaxWarning: invalid escape sequence '\\.'\n",
      "<string>:412: SyntaxWarning: invalid escape sequence '\\d'\n",
      "<string>:707: SyntaxWarning: invalid escape sequence '\\s'\n",
      "\n",
      "23it [00:27,  1.21s/it]\u001b[A\n",
      " 64%|███████████████████████████████████████████████████████████████████████████████████████████████████████████████▏                                                              | 23/36 [11:47<06:25, 29.69s/it]"
     ]
    },
    {
     "name": "stdout",
     "output_type": "stream",
     "text": [
      "/home/grierjones/DDCASPT2/delta_ML/FH\n",
      "/home/grierjones/DDCASPT2/delta_ML/FH\n"
     ]
    },
    {
     "name": "stderr",
     "output_type": "stream",
     "text": [
      "\n",
      "0it [00:00, ?it/s]\u001b[A"
     ]
    },
    {
     "name": "stdout",
     "output_type": "stream",
     "text": [
      "raddir /home/grierjones/DDCASPT2/delta_ML/FLi/0.60\n",
      "/home/grierjones/DDCASPT2/delta_ML/FLi/0.60\n"
     ]
    },
    {
     "name": "stderr",
     "output_type": "stream",
     "text": [
      "<string>:392: SyntaxWarning: invalid escape sequence '\\.'\n",
      "<string>:401: SyntaxWarning: invalid escape sequence '\\.'\n",
      "<string>:412: SyntaxWarning: invalid escape sequence '\\d'\n",
      "<string>:707: SyntaxWarning: invalid escape sequence '\\s'\n",
      "\n",
      "1it [00:01,  1.30s/it]\u001b[A"
     ]
    },
    {
     "name": "stdout",
     "output_type": "stream",
     "text": [
      "/home/grierjones/DDCASPT2/delta_ML/FLi\n",
      "raddir /home/grierjones/DDCASPT2/delta_ML/FLi/0.70\n",
      "/home/grierjones/DDCASPT2/delta_ML/FLi/0.70\n"
     ]
    },
    {
     "name": "stderr",
     "output_type": "stream",
     "text": [
      "<string>:392: SyntaxWarning: invalid escape sequence '\\.'\n",
      "<string>:401: SyntaxWarning: invalid escape sequence '\\.'\n",
      "<string>:412: SyntaxWarning: invalid escape sequence '\\d'\n",
      "<string>:707: SyntaxWarning: invalid escape sequence '\\s'\n",
      "\n",
      "2it [00:02,  1.29s/it]\u001b[A"
     ]
    },
    {
     "name": "stdout",
     "output_type": "stream",
     "text": [
      "/home/grierjones/DDCASPT2/delta_ML/FLi\n",
      "raddir /home/grierjones/DDCASPT2/delta_ML/FLi/0.80\n",
      "/home/grierjones/DDCASPT2/delta_ML/FLi/0.80\n"
     ]
    },
    {
     "name": "stderr",
     "output_type": "stream",
     "text": [
      "<string>:392: SyntaxWarning: invalid escape sequence '\\.'\n",
      "<string>:401: SyntaxWarning: invalid escape sequence '\\.'\n",
      "<string>:412: SyntaxWarning: invalid escape sequence '\\d'\n",
      "<string>:707: SyntaxWarning: invalid escape sequence '\\s'\n",
      "\n",
      "3it [00:03,  1.28s/it]\u001b[A"
     ]
    },
    {
     "name": "stdout",
     "output_type": "stream",
     "text": [
      "/home/grierjones/DDCASPT2/delta_ML/FLi\n",
      "raddir /home/grierjones/DDCASPT2/delta_ML/FLi/0.90\n",
      "/home/grierjones/DDCASPT2/delta_ML/FLi/0.90\n"
     ]
    },
    {
     "name": "stderr",
     "output_type": "stream",
     "text": [
      "<string>:392: SyntaxWarning: invalid escape sequence '\\.'\n",
      "<string>:401: SyntaxWarning: invalid escape sequence '\\.'\n",
      "<string>:412: SyntaxWarning: invalid escape sequence '\\d'\n",
      "<string>:707: SyntaxWarning: invalid escape sequence '\\s'\n",
      "\n",
      "4it [00:05,  1.27s/it]\u001b[A"
     ]
    },
    {
     "name": "stdout",
     "output_type": "stream",
     "text": [
      "/home/grierjones/DDCASPT2/delta_ML/FLi\n",
      "raddir /home/grierjones/DDCASPT2/delta_ML/FLi/1.00\n",
      "/home/grierjones/DDCASPT2/delta_ML/FLi/1.00\n"
     ]
    },
    {
     "name": "stderr",
     "output_type": "stream",
     "text": [
      "<string>:392: SyntaxWarning: invalid escape sequence '\\.'\n",
      "<string>:401: SyntaxWarning: invalid escape sequence '\\.'\n",
      "<string>:412: SyntaxWarning: invalid escape sequence '\\d'\n",
      "<string>:707: SyntaxWarning: invalid escape sequence '\\s'\n",
      "\n",
      "5it [00:06,  1.26s/it]\u001b[A"
     ]
    },
    {
     "name": "stdout",
     "output_type": "stream",
     "text": [
      "/home/grierjones/DDCASPT2/delta_ML/FLi\n",
      "raddir /home/grierjones/DDCASPT2/delta_ML/FLi/1.10\n",
      "/home/grierjones/DDCASPT2/delta_ML/FLi/1.10\n"
     ]
    },
    {
     "name": "stderr",
     "output_type": "stream",
     "text": [
      "<string>:392: SyntaxWarning: invalid escape sequence '\\.'\n",
      "<string>:401: SyntaxWarning: invalid escape sequence '\\.'\n",
      "<string>:412: SyntaxWarning: invalid escape sequence '\\d'\n",
      "<string>:707: SyntaxWarning: invalid escape sequence '\\s'\n",
      "\n",
      "6it [00:07,  1.26s/it]\u001b[A"
     ]
    },
    {
     "name": "stdout",
     "output_type": "stream",
     "text": [
      "/home/grierjones/DDCASPT2/delta_ML/FLi\n",
      "raddir /home/grierjones/DDCASPT2/delta_ML/FLi/1.20\n",
      "/home/grierjones/DDCASPT2/delta_ML/FLi/1.20\n"
     ]
    },
    {
     "name": "stderr",
     "output_type": "stream",
     "text": [
      "<string>:392: SyntaxWarning: invalid escape sequence '\\.'\n",
      "<string>:401: SyntaxWarning: invalid escape sequence '\\.'\n",
      "<string>:412: SyntaxWarning: invalid escape sequence '\\d'\n",
      "<string>:707: SyntaxWarning: invalid escape sequence '\\s'\n",
      "\n",
      "7it [00:08,  1.25s/it]\u001b[A"
     ]
    },
    {
     "name": "stdout",
     "output_type": "stream",
     "text": [
      "/home/grierjones/DDCASPT2/delta_ML/FLi\n",
      "raddir /home/grierjones/DDCASPT2/delta_ML/FLi/1.30\n",
      "/home/grierjones/DDCASPT2/delta_ML/FLi/1.30\n"
     ]
    },
    {
     "name": "stderr",
     "output_type": "stream",
     "text": [
      "<string>:392: SyntaxWarning: invalid escape sequence '\\.'\n",
      "<string>:401: SyntaxWarning: invalid escape sequence '\\.'\n",
      "<string>:412: SyntaxWarning: invalid escape sequence '\\d'\n",
      "<string>:707: SyntaxWarning: invalid escape sequence '\\s'\n",
      "\n",
      "8it [00:10,  1.24s/it]\u001b[A"
     ]
    },
    {
     "name": "stdout",
     "output_type": "stream",
     "text": [
      "/home/grierjones/DDCASPT2/delta_ML/FLi\n",
      "raddir /home/grierjones/DDCASPT2/delta_ML/FLi/1.40\n",
      "/home/grierjones/DDCASPT2/delta_ML/FLi/1.40\n"
     ]
    },
    {
     "name": "stderr",
     "output_type": "stream",
     "text": [
      "<string>:392: SyntaxWarning: invalid escape sequence '\\.'\n",
      "<string>:401: SyntaxWarning: invalid escape sequence '\\.'\n",
      "<string>:412: SyntaxWarning: invalid escape sequence '\\d'\n",
      "<string>:707: SyntaxWarning: invalid escape sequence '\\s'\n",
      "\n",
      "9it [00:11,  1.24s/it]\u001b[A"
     ]
    },
    {
     "name": "stdout",
     "output_type": "stream",
     "text": [
      "/home/grierjones/DDCASPT2/delta_ML/FLi\n",
      "raddir /home/grierjones/DDCASPT2/delta_ML/FLi/1.50\n",
      "/home/grierjones/DDCASPT2/delta_ML/FLi/1.50\n"
     ]
    },
    {
     "name": "stderr",
     "output_type": "stream",
     "text": [
      "<string>:392: SyntaxWarning: invalid escape sequence '\\.'\n",
      "<string>:401: SyntaxWarning: invalid escape sequence '\\.'\n",
      "<string>:412: SyntaxWarning: invalid escape sequence '\\d'\n",
      "<string>:707: SyntaxWarning: invalid escape sequence '\\s'\n",
      "\n",
      "10it [00:12,  1.24s/it]\u001b[A"
     ]
    },
    {
     "name": "stdout",
     "output_type": "stream",
     "text": [
      "/home/grierjones/DDCASPT2/delta_ML/FLi\n",
      "raddir /home/grierjones/DDCASPT2/delta_ML/FLi/1.60\n",
      "/home/grierjones/DDCASPT2/delta_ML/FLi/1.60\n"
     ]
    },
    {
     "name": "stderr",
     "output_type": "stream",
     "text": [
      "<string>:392: SyntaxWarning: invalid escape sequence '\\.'\n",
      "<string>:401: SyntaxWarning: invalid escape sequence '\\.'\n",
      "<string>:412: SyntaxWarning: invalid escape sequence '\\d'\n",
      "<string>:707: SyntaxWarning: invalid escape sequence '\\s'\n",
      "\n",
      "11it [00:13,  1.24s/it]\u001b[A"
     ]
    },
    {
     "name": "stdout",
     "output_type": "stream",
     "text": [
      "/home/grierjones/DDCASPT2/delta_ML/FLi\n",
      "raddir /home/grierjones/DDCASPT2/delta_ML/FLi/1.70\n",
      "/home/grierjones/DDCASPT2/delta_ML/FLi/1.70\n"
     ]
    },
    {
     "name": "stderr",
     "output_type": "stream",
     "text": [
      "<string>:392: SyntaxWarning: invalid escape sequence '\\.'\n",
      "<string>:401: SyntaxWarning: invalid escape sequence '\\.'\n",
      "<string>:412: SyntaxWarning: invalid escape sequence '\\d'\n",
      "<string>:707: SyntaxWarning: invalid escape sequence '\\s'\n",
      "\n",
      "12it [00:15,  1.25s/it]\u001b[A"
     ]
    },
    {
     "name": "stdout",
     "output_type": "stream",
     "text": [
      "/home/grierjones/DDCASPT2/delta_ML/FLi\n",
      "raddir /home/grierjones/DDCASPT2/delta_ML/FLi/1.80\n",
      "/home/grierjones/DDCASPT2/delta_ML/FLi/1.80\n"
     ]
    },
    {
     "name": "stderr",
     "output_type": "stream",
     "text": [
      "<string>:392: SyntaxWarning: invalid escape sequence '\\.'\n",
      "<string>:401: SyntaxWarning: invalid escape sequence '\\.'\n",
      "<string>:412: SyntaxWarning: invalid escape sequence '\\d'\n",
      "<string>:707: SyntaxWarning: invalid escape sequence '\\s'\n",
      "\n",
      "13it [00:16,  1.24s/it]\u001b[A"
     ]
    },
    {
     "name": "stdout",
     "output_type": "stream",
     "text": [
      "/home/grierjones/DDCASPT2/delta_ML/FLi\n",
      "raddir /home/grierjones/DDCASPT2/delta_ML/FLi/1.90\n",
      "/home/grierjones/DDCASPT2/delta_ML/FLi/1.90\n"
     ]
    },
    {
     "name": "stderr",
     "output_type": "stream",
     "text": [
      "<string>:392: SyntaxWarning: invalid escape sequence '\\.'\n",
      "<string>:401: SyntaxWarning: invalid escape sequence '\\.'\n",
      "<string>:412: SyntaxWarning: invalid escape sequence '\\d'\n",
      "<string>:707: SyntaxWarning: invalid escape sequence '\\s'\n",
      "\n",
      "14it [00:17,  1.24s/it]\u001b[A"
     ]
    },
    {
     "name": "stdout",
     "output_type": "stream",
     "text": [
      "/home/grierjones/DDCASPT2/delta_ML/FLi\n",
      "raddir /home/grierjones/DDCASPT2/delta_ML/FLi/2.00\n",
      "/home/grierjones/DDCASPT2/delta_ML/FLi/2.00\n"
     ]
    },
    {
     "name": "stderr",
     "output_type": "stream",
     "text": [
      "<string>:392: SyntaxWarning: invalid escape sequence '\\.'\n",
      "<string>:401: SyntaxWarning: invalid escape sequence '\\.'\n",
      "<string>:412: SyntaxWarning: invalid escape sequence '\\d'\n",
      "<string>:707: SyntaxWarning: invalid escape sequence '\\s'\n",
      "\n",
      "15it [00:18,  1.24s/it]\u001b[A"
     ]
    },
    {
     "name": "stdout",
     "output_type": "stream",
     "text": [
      "/home/grierjones/DDCASPT2/delta_ML/FLi\n",
      "raddir /home/grierjones/DDCASPT2/delta_ML/FLi/2.10\n",
      "/home/grierjones/DDCASPT2/delta_ML/FLi/2.10\n"
     ]
    },
    {
     "name": "stderr",
     "output_type": "stream",
     "text": [
      "<string>:392: SyntaxWarning: invalid escape sequence '\\.'\n",
      "<string>:401: SyntaxWarning: invalid escape sequence '\\.'\n",
      "<string>:412: SyntaxWarning: invalid escape sequence '\\d'\n",
      "<string>:707: SyntaxWarning: invalid escape sequence '\\s'\n",
      "\n",
      "16it [00:20,  1.24s/it]\u001b[A"
     ]
    },
    {
     "name": "stdout",
     "output_type": "stream",
     "text": [
      "/home/grierjones/DDCASPT2/delta_ML/FLi\n",
      "raddir /home/grierjones/DDCASPT2/delta_ML/FLi/2.20\n",
      "/home/grierjones/DDCASPT2/delta_ML/FLi/2.20\n"
     ]
    },
    {
     "name": "stderr",
     "output_type": "stream",
     "text": [
      "<string>:392: SyntaxWarning: invalid escape sequence '\\.'\n",
      "<string>:401: SyntaxWarning: invalid escape sequence '\\.'\n",
      "<string>:412: SyntaxWarning: invalid escape sequence '\\d'\n",
      "<string>:707: SyntaxWarning: invalid escape sequence '\\s'\n",
      "\n",
      "17it [00:21,  1.24s/it]\u001b[A"
     ]
    },
    {
     "name": "stdout",
     "output_type": "stream",
     "text": [
      "/home/grierjones/DDCASPT2/delta_ML/FLi\n",
      "raddir /home/grierjones/DDCASPT2/delta_ML/FLi/2.30\n",
      "/home/grierjones/DDCASPT2/delta_ML/FLi/2.30\n"
     ]
    },
    {
     "name": "stderr",
     "output_type": "stream",
     "text": [
      "<string>:392: SyntaxWarning: invalid escape sequence '\\.'\n",
      "<string>:401: SyntaxWarning: invalid escape sequence '\\.'\n",
      "<string>:412: SyntaxWarning: invalid escape sequence '\\d'\n",
      "<string>:707: SyntaxWarning: invalid escape sequence '\\s'\n",
      "\n",
      "18it [00:22,  1.24s/it]\u001b[A"
     ]
    },
    {
     "name": "stdout",
     "output_type": "stream",
     "text": [
      "/home/grierjones/DDCASPT2/delta_ML/FLi\n",
      "raddir /home/grierjones/DDCASPT2/delta_ML/FLi/2.40\n",
      "/home/grierjones/DDCASPT2/delta_ML/FLi/2.40\n"
     ]
    },
    {
     "name": "stderr",
     "output_type": "stream",
     "text": [
      "<string>:392: SyntaxWarning: invalid escape sequence '\\.'\n",
      "<string>:401: SyntaxWarning: invalid escape sequence '\\.'\n",
      "<string>:412: SyntaxWarning: invalid escape sequence '\\d'\n",
      "<string>:707: SyntaxWarning: invalid escape sequence '\\s'\n",
      "\n",
      "19it [00:23,  1.24s/it]\u001b[A"
     ]
    },
    {
     "name": "stdout",
     "output_type": "stream",
     "text": [
      "/home/grierjones/DDCASPT2/delta_ML/FLi\n",
      "raddir /home/grierjones/DDCASPT2/delta_ML/FLi/2.50\n",
      "/home/grierjones/DDCASPT2/delta_ML/FLi/2.50\n"
     ]
    },
    {
     "name": "stderr",
     "output_type": "stream",
     "text": [
      "<string>:392: SyntaxWarning: invalid escape sequence '\\.'\n",
      "<string>:401: SyntaxWarning: invalid escape sequence '\\.'\n",
      "<string>:412: SyntaxWarning: invalid escape sequence '\\d'\n",
      "<string>:707: SyntaxWarning: invalid escape sequence '\\s'\n",
      "\n",
      "20it [00:24,  1.24s/it]\u001b[A"
     ]
    },
    {
     "name": "stdout",
     "output_type": "stream",
     "text": [
      "/home/grierjones/DDCASPT2/delta_ML/FLi\n",
      "raddir /home/grierjones/DDCASPT2/delta_ML/FLi/2.60\n",
      "/home/grierjones/DDCASPT2/delta_ML/FLi/2.60\n"
     ]
    },
    {
     "name": "stderr",
     "output_type": "stream",
     "text": [
      "<string>:392: SyntaxWarning: invalid escape sequence '\\.'\n",
      "<string>:401: SyntaxWarning: invalid escape sequence '\\.'\n",
      "<string>:412: SyntaxWarning: invalid escape sequence '\\d'\n",
      "<string>:707: SyntaxWarning: invalid escape sequence '\\s'\n",
      "\n",
      "21it [00:26,  1.24s/it]\u001b[A"
     ]
    },
    {
     "name": "stdout",
     "output_type": "stream",
     "text": [
      "/home/grierjones/DDCASPT2/delta_ML/FLi\n",
      "raddir /home/grierjones/DDCASPT2/delta_ML/FLi/2.70\n",
      "/home/grierjones/DDCASPT2/delta_ML/FLi/2.70\n"
     ]
    },
    {
     "name": "stderr",
     "output_type": "stream",
     "text": [
      "<string>:392: SyntaxWarning: invalid escape sequence '\\.'\n",
      "<string>:401: SyntaxWarning: invalid escape sequence '\\.'\n",
      "<string>:412: SyntaxWarning: invalid escape sequence '\\d'\n",
      "<string>:707: SyntaxWarning: invalid escape sequence '\\s'\n",
      "\n",
      "22it [00:27,  1.24s/it]\u001b[A"
     ]
    },
    {
     "name": "stdout",
     "output_type": "stream",
     "text": [
      "/home/grierjones/DDCASPT2/delta_ML/FLi\n",
      "raddir /home/grierjones/DDCASPT2/delta_ML/FLi/2.80\n",
      "/home/grierjones/DDCASPT2/delta_ML/FLi/2.80\n"
     ]
    },
    {
     "name": "stderr",
     "output_type": "stream",
     "text": [
      "<string>:392: SyntaxWarning: invalid escape sequence '\\.'\n",
      "<string>:401: SyntaxWarning: invalid escape sequence '\\.'\n",
      "<string>:412: SyntaxWarning: invalid escape sequence '\\d'\n",
      "<string>:707: SyntaxWarning: invalid escape sequence '\\s'\n",
      "\n",
      "23it [00:28,  1.25s/it]\u001b[A\n",
      " 67%|████████████████████████████████████████████████████████████████████████████████████████████████████████████████████                                                          | 24/36 [12:16<05:52, 29.40s/it]"
     ]
    },
    {
     "name": "stdout",
     "output_type": "stream",
     "text": [
      "/home/grierjones/DDCASPT2/delta_ML/FLi\n",
      "/home/grierjones/DDCASPT2/delta_ML/FLi\n"
     ]
    },
    {
     "name": "stderr",
     "output_type": "stream",
     "text": [
      "\n",
      "0it [00:00, ?it/s]\u001b[A"
     ]
    },
    {
     "name": "stdout",
     "output_type": "stream",
     "text": [
      "raddir /home/grierjones/DDCASPT2/delta_ML/FN/0.60\n",
      "/home/grierjones/DDCASPT2/delta_ML/FN/0.60\n"
     ]
    },
    {
     "name": "stderr",
     "output_type": "stream",
     "text": [
      "<string>:392: SyntaxWarning: invalid escape sequence '\\.'\n",
      "<string>:401: SyntaxWarning: invalid escape sequence '\\.'\n",
      "<string>:412: SyntaxWarning: invalid escape sequence '\\d'\n",
      "<string>:707: SyntaxWarning: invalid escape sequence '\\s'\n",
      "\n",
      "1it [00:01,  1.27s/it]\u001b[A"
     ]
    },
    {
     "name": "stdout",
     "output_type": "stream",
     "text": [
      "/home/grierjones/DDCASPT2/delta_ML/FN\n",
      "raddir /home/grierjones/DDCASPT2/delta_ML/FN/0.70\n",
      "/home/grierjones/DDCASPT2/delta_ML/FN/0.70\n"
     ]
    },
    {
     "name": "stderr",
     "output_type": "stream",
     "text": [
      "<string>:392: SyntaxWarning: invalid escape sequence '\\.'\n",
      "<string>:401: SyntaxWarning: invalid escape sequence '\\.'\n",
      "<string>:412: SyntaxWarning: invalid escape sequence '\\d'\n",
      "<string>:707: SyntaxWarning: invalid escape sequence '\\s'\n",
      "\n",
      "2it [00:02,  1.26s/it]\u001b[A"
     ]
    },
    {
     "name": "stdout",
     "output_type": "stream",
     "text": [
      "/home/grierjones/DDCASPT2/delta_ML/FN\n",
      "raddir /home/grierjones/DDCASPT2/delta_ML/FN/0.80\n",
      "/home/grierjones/DDCASPT2/delta_ML/FN/0.80\n"
     ]
    },
    {
     "name": "stderr",
     "output_type": "stream",
     "text": [
      "<string>:392: SyntaxWarning: invalid escape sequence '\\.'\n",
      "<string>:401: SyntaxWarning: invalid escape sequence '\\.'\n",
      "<string>:412: SyntaxWarning: invalid escape sequence '\\d'\n",
      "<string>:707: SyntaxWarning: invalid escape sequence '\\s'\n",
      "\n",
      "3it [00:03,  1.28s/it]\u001b[A"
     ]
    },
    {
     "name": "stdout",
     "output_type": "stream",
     "text": [
      "/home/grierjones/DDCASPT2/delta_ML/FN\n",
      "raddir /home/grierjones/DDCASPT2/delta_ML/FN/0.90\n",
      "/home/grierjones/DDCASPT2/delta_ML/FN/0.90\n"
     ]
    },
    {
     "name": "stderr",
     "output_type": "stream",
     "text": [
      "<string>:392: SyntaxWarning: invalid escape sequence '\\.'\n",
      "<string>:401: SyntaxWarning: invalid escape sequence '\\.'\n",
      "<string>:412: SyntaxWarning: invalid escape sequence '\\d'\n",
      "<string>:707: SyntaxWarning: invalid escape sequence '\\s'\n",
      "\n",
      "4it [00:05,  1.28s/it]\u001b[A"
     ]
    },
    {
     "name": "stdout",
     "output_type": "stream",
     "text": [
      "/home/grierjones/DDCASPT2/delta_ML/FN\n",
      "raddir /home/grierjones/DDCASPT2/delta_ML/FN/1.00\n",
      "/home/grierjones/DDCASPT2/delta_ML/FN/1.00\n"
     ]
    },
    {
     "name": "stderr",
     "output_type": "stream",
     "text": [
      "<string>:392: SyntaxWarning: invalid escape sequence '\\.'\n",
      "<string>:401: SyntaxWarning: invalid escape sequence '\\.'\n",
      "<string>:412: SyntaxWarning: invalid escape sequence '\\d'\n",
      "<string>:707: SyntaxWarning: invalid escape sequence '\\s'\n",
      "\n",
      "5it [00:06,  1.29s/it]\u001b[A"
     ]
    },
    {
     "name": "stdout",
     "output_type": "stream",
     "text": [
      "/home/grierjones/DDCASPT2/delta_ML/FN\n",
      "raddir /home/grierjones/DDCASPT2/delta_ML/FN/1.10\n",
      "/home/grierjones/DDCASPT2/delta_ML/FN/1.10\n"
     ]
    },
    {
     "name": "stderr",
     "output_type": "stream",
     "text": [
      "<string>:392: SyntaxWarning: invalid escape sequence '\\.'\n",
      "<string>:401: SyntaxWarning: invalid escape sequence '\\.'\n",
      "<string>:412: SyntaxWarning: invalid escape sequence '\\d'\n",
      "<string>:707: SyntaxWarning: invalid escape sequence '\\s'\n",
      "\n",
      "6it [00:07,  1.29s/it]\u001b[A"
     ]
    },
    {
     "name": "stdout",
     "output_type": "stream",
     "text": [
      "/home/grierjones/DDCASPT2/delta_ML/FN\n",
      "raddir /home/grierjones/DDCASPT2/delta_ML/FN/1.20\n",
      "/home/grierjones/DDCASPT2/delta_ML/FN/1.20\n"
     ]
    },
    {
     "name": "stderr",
     "output_type": "stream",
     "text": [
      "<string>:392: SyntaxWarning: invalid escape sequence '\\.'\n",
      "<string>:401: SyntaxWarning: invalid escape sequence '\\.'\n",
      "<string>:412: SyntaxWarning: invalid escape sequence '\\d'\n",
      "<string>:707: SyntaxWarning: invalid escape sequence '\\s'\n",
      "\n",
      "7it [00:09,  1.30s/it]\u001b[A"
     ]
    },
    {
     "name": "stdout",
     "output_type": "stream",
     "text": [
      "/home/grierjones/DDCASPT2/delta_ML/FN\n",
      "raddir /home/grierjones/DDCASPT2/delta_ML/FN/1.30\n",
      "/home/grierjones/DDCASPT2/delta_ML/FN/1.30\n"
     ]
    },
    {
     "name": "stderr",
     "output_type": "stream",
     "text": [
      "<string>:392: SyntaxWarning: invalid escape sequence '\\.'\n",
      "<string>:401: SyntaxWarning: invalid escape sequence '\\.'\n",
      "<string>:412: SyntaxWarning: invalid escape sequence '\\d'\n",
      "<string>:707: SyntaxWarning: invalid escape sequence '\\s'\n",
      "\n",
      "8it [00:10,  1.35s/it]\u001b[A"
     ]
    },
    {
     "name": "stdout",
     "output_type": "stream",
     "text": [
      "/home/grierjones/DDCASPT2/delta_ML/FN\n",
      "raddir /home/grierjones/DDCASPT2/delta_ML/FN/1.40\n",
      "/home/grierjones/DDCASPT2/delta_ML/FN/1.40\n"
     ]
    },
    {
     "name": "stderr",
     "output_type": "stream",
     "text": [
      "<string>:392: SyntaxWarning: invalid escape sequence '\\.'\n",
      "<string>:401: SyntaxWarning: invalid escape sequence '\\.'\n",
      "<string>:412: SyntaxWarning: invalid escape sequence '\\d'\n",
      "<string>:707: SyntaxWarning: invalid escape sequence '\\s'\n",
      "\n",
      "9it [00:11,  1.33s/it]\u001b[A"
     ]
    },
    {
     "name": "stdout",
     "output_type": "stream",
     "text": [
      "/home/grierjones/DDCASPT2/delta_ML/FN\n",
      "raddir /home/grierjones/DDCASPT2/delta_ML/FN/1.50\n",
      "/home/grierjones/DDCASPT2/delta_ML/FN/1.50\n"
     ]
    },
    {
     "name": "stderr",
     "output_type": "stream",
     "text": [
      "<string>:392: SyntaxWarning: invalid escape sequence '\\.'\n",
      "<string>:401: SyntaxWarning: invalid escape sequence '\\.'\n",
      "<string>:412: SyntaxWarning: invalid escape sequence '\\d'\n",
      "<string>:707: SyntaxWarning: invalid escape sequence '\\s'\n",
      "\n",
      "10it [00:13,  1.33s/it]\u001b[A"
     ]
    },
    {
     "name": "stdout",
     "output_type": "stream",
     "text": [
      "/home/grierjones/DDCASPT2/delta_ML/FN\n",
      "raddir /home/grierjones/DDCASPT2/delta_ML/FN/1.60\n",
      "/home/grierjones/DDCASPT2/delta_ML/FN/1.60\n"
     ]
    },
    {
     "name": "stderr",
     "output_type": "stream",
     "text": [
      "<string>:392: SyntaxWarning: invalid escape sequence '\\.'\n",
      "<string>:401: SyntaxWarning: invalid escape sequence '\\.'\n",
      "<string>:412: SyntaxWarning: invalid escape sequence '\\d'\n",
      "<string>:707: SyntaxWarning: invalid escape sequence '\\s'\n",
      "\n",
      "11it [00:14,  1.32s/it]\u001b[A"
     ]
    },
    {
     "name": "stdout",
     "output_type": "stream",
     "text": [
      "/home/grierjones/DDCASPT2/delta_ML/FN\n",
      "raddir /home/grierjones/DDCASPT2/delta_ML/FN/1.70\n",
      "/home/grierjones/DDCASPT2/delta_ML/FN/1.70\n"
     ]
    },
    {
     "name": "stderr",
     "output_type": "stream",
     "text": [
      "<string>:392: SyntaxWarning: invalid escape sequence '\\.'\n",
      "<string>:401: SyntaxWarning: invalid escape sequence '\\.'\n",
      "<string>:412: SyntaxWarning: invalid escape sequence '\\d'\n",
      "<string>:707: SyntaxWarning: invalid escape sequence '\\s'\n",
      "\n",
      "12it [00:15,  1.32s/it]\u001b[A"
     ]
    },
    {
     "name": "stdout",
     "output_type": "stream",
     "text": [
      "/home/grierjones/DDCASPT2/delta_ML/FN\n",
      "raddir /home/grierjones/DDCASPT2/delta_ML/FN/1.80\n",
      "/home/grierjones/DDCASPT2/delta_ML/FN/1.80\n"
     ]
    },
    {
     "name": "stderr",
     "output_type": "stream",
     "text": [
      "<string>:392: SyntaxWarning: invalid escape sequence '\\.'\n",
      "<string>:401: SyntaxWarning: invalid escape sequence '\\.'\n",
      "<string>:412: SyntaxWarning: invalid escape sequence '\\d'\n",
      "<string>:707: SyntaxWarning: invalid escape sequence '\\s'\n",
      "\n",
      "13it [00:17,  1.31s/it]\u001b[A"
     ]
    },
    {
     "name": "stdout",
     "output_type": "stream",
     "text": [
      "/home/grierjones/DDCASPT2/delta_ML/FN\n",
      "raddir /home/grierjones/DDCASPT2/delta_ML/FN/1.90\n",
      "/home/grierjones/DDCASPT2/delta_ML/FN/1.90\n"
     ]
    },
    {
     "name": "stderr",
     "output_type": "stream",
     "text": [
      "<string>:392: SyntaxWarning: invalid escape sequence '\\.'\n",
      "<string>:401: SyntaxWarning: invalid escape sequence '\\.'\n",
      "<string>:412: SyntaxWarning: invalid escape sequence '\\d'\n",
      "<string>:707: SyntaxWarning: invalid escape sequence '\\s'\n",
      "\n",
      "14it [00:18,  1.30s/it]\u001b[A"
     ]
    },
    {
     "name": "stdout",
     "output_type": "stream",
     "text": [
      "/home/grierjones/DDCASPT2/delta_ML/FN\n",
      "raddir /home/grierjones/DDCASPT2/delta_ML/FN/2.00\n",
      "/home/grierjones/DDCASPT2/delta_ML/FN/2.00\n"
     ]
    },
    {
     "name": "stderr",
     "output_type": "stream",
     "text": [
      "<string>:392: SyntaxWarning: invalid escape sequence '\\.'\n",
      "<string>:401: SyntaxWarning: invalid escape sequence '\\.'\n",
      "<string>:412: SyntaxWarning: invalid escape sequence '\\d'\n",
      "<string>:707: SyntaxWarning: invalid escape sequence '\\s'\n",
      "\n",
      "15it [00:19,  1.29s/it]\u001b[A"
     ]
    },
    {
     "name": "stdout",
     "output_type": "stream",
     "text": [
      "/home/grierjones/DDCASPT2/delta_ML/FN\n",
      "raddir /home/grierjones/DDCASPT2/delta_ML/FN/2.10\n",
      "/home/grierjones/DDCASPT2/delta_ML/FN/2.10\n"
     ]
    },
    {
     "name": "stderr",
     "output_type": "stream",
     "text": [
      "<string>:392: SyntaxWarning: invalid escape sequence '\\.'\n",
      "<string>:401: SyntaxWarning: invalid escape sequence '\\.'\n",
      "<string>:412: SyntaxWarning: invalid escape sequence '\\d'\n",
      "<string>:707: SyntaxWarning: invalid escape sequence '\\s'\n",
      "\n",
      "16it [00:20,  1.29s/it]\u001b[A"
     ]
    },
    {
     "name": "stdout",
     "output_type": "stream",
     "text": [
      "/home/grierjones/DDCASPT2/delta_ML/FN\n",
      "raddir /home/grierjones/DDCASPT2/delta_ML/FN/2.20\n",
      "/home/grierjones/DDCASPT2/delta_ML/FN/2.20\n"
     ]
    },
    {
     "name": "stderr",
     "output_type": "stream",
     "text": [
      "<string>:392: SyntaxWarning: invalid escape sequence '\\.'\n",
      "<string>:401: SyntaxWarning: invalid escape sequence '\\.'\n",
      "<string>:412: SyntaxWarning: invalid escape sequence '\\d'\n",
      "<string>:707: SyntaxWarning: invalid escape sequence '\\s'\n",
      "\n",
      "17it [00:22,  1.29s/it]\u001b[A"
     ]
    },
    {
     "name": "stdout",
     "output_type": "stream",
     "text": [
      "/home/grierjones/DDCASPT2/delta_ML/FN\n",
      "raddir /home/grierjones/DDCASPT2/delta_ML/FN/2.30\n",
      "/home/grierjones/DDCASPT2/delta_ML/FN/2.30\n"
     ]
    },
    {
     "name": "stderr",
     "output_type": "stream",
     "text": [
      "<string>:392: SyntaxWarning: invalid escape sequence '\\.'\n",
      "<string>:401: SyntaxWarning: invalid escape sequence '\\.'\n",
      "<string>:412: SyntaxWarning: invalid escape sequence '\\d'\n",
      "<string>:707: SyntaxWarning: invalid escape sequence '\\s'\n",
      "\n",
      "18it [00:23,  1.28s/it]\u001b[A"
     ]
    },
    {
     "name": "stdout",
     "output_type": "stream",
     "text": [
      "/home/grierjones/DDCASPT2/delta_ML/FN\n",
      "raddir /home/grierjones/DDCASPT2/delta_ML/FN/2.40\n",
      "/home/grierjones/DDCASPT2/delta_ML/FN/2.40\n"
     ]
    },
    {
     "name": "stderr",
     "output_type": "stream",
     "text": [
      "<string>:392: SyntaxWarning: invalid escape sequence '\\.'\n",
      "<string>:401: SyntaxWarning: invalid escape sequence '\\.'\n",
      "<string>:412: SyntaxWarning: invalid escape sequence '\\d'\n",
      "<string>:707: SyntaxWarning: invalid escape sequence '\\s'\n",
      "\n",
      "19it [00:24,  1.29s/it]\u001b[A"
     ]
    },
    {
     "name": "stdout",
     "output_type": "stream",
     "text": [
      "/home/grierjones/DDCASPT2/delta_ML/FN\n",
      "raddir /home/grierjones/DDCASPT2/delta_ML/FN/2.50\n",
      "/home/grierjones/DDCASPT2/delta_ML/FN/2.50\n"
     ]
    },
    {
     "name": "stderr",
     "output_type": "stream",
     "text": [
      "<string>:392: SyntaxWarning: invalid escape sequence '\\.'\n",
      "<string>:401: SyntaxWarning: invalid escape sequence '\\.'\n",
      "<string>:412: SyntaxWarning: invalid escape sequence '\\d'\n",
      "<string>:707: SyntaxWarning: invalid escape sequence '\\s'\n",
      "\n",
      "20it [00:25,  1.28s/it]\u001b[A"
     ]
    },
    {
     "name": "stdout",
     "output_type": "stream",
     "text": [
      "/home/grierjones/DDCASPT2/delta_ML/FN\n",
      "raddir /home/grierjones/DDCASPT2/delta_ML/FN/2.60\n",
      "/home/grierjones/DDCASPT2/delta_ML/FN/2.60\n"
     ]
    },
    {
     "name": "stderr",
     "output_type": "stream",
     "text": [
      "<string>:392: SyntaxWarning: invalid escape sequence '\\.'\n",
      "<string>:401: SyntaxWarning: invalid escape sequence '\\.'\n",
      "<string>:412: SyntaxWarning: invalid escape sequence '\\d'\n",
      "<string>:707: SyntaxWarning: invalid escape sequence '\\s'\n",
      "\n",
      "21it [00:27,  1.28s/it]\u001b[A"
     ]
    },
    {
     "name": "stdout",
     "output_type": "stream",
     "text": [
      "/home/grierjones/DDCASPT2/delta_ML/FN\n",
      "raddir /home/grierjones/DDCASPT2/delta_ML/FN/2.70\n",
      "/home/grierjones/DDCASPT2/delta_ML/FN/2.70\n"
     ]
    },
    {
     "name": "stderr",
     "output_type": "stream",
     "text": [
      "<string>:392: SyntaxWarning: invalid escape sequence '\\.'\n",
      "<string>:401: SyntaxWarning: invalid escape sequence '\\.'\n",
      "<string>:412: SyntaxWarning: invalid escape sequence '\\d'\n",
      "<string>:707: SyntaxWarning: invalid escape sequence '\\s'\n",
      "\n",
      "22it [00:28,  1.29s/it]\u001b[A"
     ]
    },
    {
     "name": "stdout",
     "output_type": "stream",
     "text": [
      "/home/grierjones/DDCASPT2/delta_ML/FN\n",
      "raddir /home/grierjones/DDCASPT2/delta_ML/FN/2.80\n",
      "/home/grierjones/DDCASPT2/delta_ML/FN/2.80\n"
     ]
    },
    {
     "name": "stderr",
     "output_type": "stream",
     "text": [
      "<string>:392: SyntaxWarning: invalid escape sequence '\\.'\n",
      "<string>:401: SyntaxWarning: invalid escape sequence '\\.'\n",
      "<string>:412: SyntaxWarning: invalid escape sequence '\\d'\n",
      "<string>:707: SyntaxWarning: invalid escape sequence '\\s'\n",
      "\n",
      "23it [00:29,  1.30s/it]\u001b[A\n",
      " 69%|████████████████████████████████████████████████████████████████████████████████████████████████████████████████████████▊                                                     | 25/36 [12:46<05:24, 29.53s/it]"
     ]
    },
    {
     "name": "stdout",
     "output_type": "stream",
     "text": [
      "/home/grierjones/DDCASPT2/delta_ML/FN\n",
      "/home/grierjones/DDCASPT2/delta_ML/FN\n"
     ]
    },
    {
     "name": "stderr",
     "output_type": "stream",
     "text": [
      "\n",
      "0it [00:00, ?it/s]\u001b[A"
     ]
    },
    {
     "name": "stdout",
     "output_type": "stream",
     "text": [
      "raddir /home/grierjones/DDCASPT2/delta_ML/FO/0.60\n",
      "/home/grierjones/DDCASPT2/delta_ML/FO/0.60\n"
     ]
    },
    {
     "name": "stderr",
     "output_type": "stream",
     "text": [
      "<string>:392: SyntaxWarning: invalid escape sequence '\\.'\n",
      "<string>:401: SyntaxWarning: invalid escape sequence '\\.'\n",
      "<string>:412: SyntaxWarning: invalid escape sequence '\\d'\n",
      "<string>:707: SyntaxWarning: invalid escape sequence '\\s'\n",
      "\n",
      "1it [00:01,  1.27s/it]\u001b[A"
     ]
    },
    {
     "name": "stdout",
     "output_type": "stream",
     "text": [
      "/home/grierjones/DDCASPT2/delta_ML/FO\n",
      "raddir /home/grierjones/DDCASPT2/delta_ML/FO/0.70\n",
      "/home/grierjones/DDCASPT2/delta_ML/FO/0.70\n"
     ]
    },
    {
     "name": "stderr",
     "output_type": "stream",
     "text": [
      "<string>:392: SyntaxWarning: invalid escape sequence '\\.'\n",
      "<string>:401: SyntaxWarning: invalid escape sequence '\\.'\n",
      "<string>:412: SyntaxWarning: invalid escape sequence '\\d'\n",
      "<string>:707: SyntaxWarning: invalid escape sequence '\\s'\n",
      "\n",
      "2it [00:02,  1.28s/it]\u001b[A"
     ]
    },
    {
     "name": "stdout",
     "output_type": "stream",
     "text": [
      "/home/grierjones/DDCASPT2/delta_ML/FO\n",
      "raddir /home/grierjones/DDCASPT2/delta_ML/FO/0.80\n",
      "/home/grierjones/DDCASPT2/delta_ML/FO/0.80\n"
     ]
    },
    {
     "name": "stderr",
     "output_type": "stream",
     "text": [
      "<string>:392: SyntaxWarning: invalid escape sequence '\\.'\n",
      "<string>:401: SyntaxWarning: invalid escape sequence '\\.'\n",
      "<string>:412: SyntaxWarning: invalid escape sequence '\\d'\n",
      "<string>:707: SyntaxWarning: invalid escape sequence '\\s'\n",
      "\n",
      "3it [00:03,  1.29s/it]\u001b[A"
     ]
    },
    {
     "name": "stdout",
     "output_type": "stream",
     "text": [
      "/home/grierjones/DDCASPT2/delta_ML/FO\n",
      "raddir /home/grierjones/DDCASPT2/delta_ML/FO/0.90\n",
      "/home/grierjones/DDCASPT2/delta_ML/FO/0.90\n"
     ]
    },
    {
     "name": "stderr",
     "output_type": "stream",
     "text": [
      "<string>:392: SyntaxWarning: invalid escape sequence '\\.'\n",
      "<string>:401: SyntaxWarning: invalid escape sequence '\\.'\n",
      "<string>:412: SyntaxWarning: invalid escape sequence '\\d'\n",
      "<string>:707: SyntaxWarning: invalid escape sequence '\\s'\n",
      "\n",
      "4it [00:05,  1.30s/it]\u001b[A"
     ]
    },
    {
     "name": "stdout",
     "output_type": "stream",
     "text": [
      "/home/grierjones/DDCASPT2/delta_ML/FO\n",
      "raddir /home/grierjones/DDCASPT2/delta_ML/FO/1.00\n",
      "/home/grierjones/DDCASPT2/delta_ML/FO/1.00\n"
     ]
    },
    {
     "name": "stderr",
     "output_type": "stream",
     "text": [
      "<string>:392: SyntaxWarning: invalid escape sequence '\\.'\n",
      "<string>:401: SyntaxWarning: invalid escape sequence '\\.'\n",
      "<string>:412: SyntaxWarning: invalid escape sequence '\\d'\n",
      "<string>:707: SyntaxWarning: invalid escape sequence '\\s'\n",
      "\n",
      "5it [00:06,  1.30s/it]\u001b[A"
     ]
    },
    {
     "name": "stdout",
     "output_type": "stream",
     "text": [
      "/home/grierjones/DDCASPT2/delta_ML/FO\n",
      "raddir /home/grierjones/DDCASPT2/delta_ML/FO/1.10\n",
      "/home/grierjones/DDCASPT2/delta_ML/FO/1.10\n"
     ]
    },
    {
     "name": "stderr",
     "output_type": "stream",
     "text": [
      "<string>:392: SyntaxWarning: invalid escape sequence '\\.'\n",
      "<string>:401: SyntaxWarning: invalid escape sequence '\\.'\n",
      "<string>:412: SyntaxWarning: invalid escape sequence '\\d'\n",
      "<string>:707: SyntaxWarning: invalid escape sequence '\\s'\n",
      "\n",
      "6it [00:07,  1.31s/it]\u001b[A"
     ]
    },
    {
     "name": "stdout",
     "output_type": "stream",
     "text": [
      "/home/grierjones/DDCASPT2/delta_ML/FO\n",
      "raddir /home/grierjones/DDCASPT2/delta_ML/FO/1.20\n",
      "/home/grierjones/DDCASPT2/delta_ML/FO/1.20\n"
     ]
    },
    {
     "name": "stderr",
     "output_type": "stream",
     "text": [
      "<string>:392: SyntaxWarning: invalid escape sequence '\\.'\n",
      "<string>:401: SyntaxWarning: invalid escape sequence '\\.'\n",
      "<string>:412: SyntaxWarning: invalid escape sequence '\\d'\n",
      "<string>:707: SyntaxWarning: invalid escape sequence '\\s'\n",
      "\n",
      "7it [00:09,  1.32s/it]\u001b[A"
     ]
    },
    {
     "name": "stdout",
     "output_type": "stream",
     "text": [
      "/home/grierjones/DDCASPT2/delta_ML/FO\n",
      "raddir /home/grierjones/DDCASPT2/delta_ML/FO/1.30\n",
      "/home/grierjones/DDCASPT2/delta_ML/FO/1.30\n"
     ]
    },
    {
     "name": "stderr",
     "output_type": "stream",
     "text": [
      "<string>:392: SyntaxWarning: invalid escape sequence '\\.'\n",
      "<string>:401: SyntaxWarning: invalid escape sequence '\\.'\n",
      "<string>:412: SyntaxWarning: invalid escape sequence '\\d'\n",
      "<string>:707: SyntaxWarning: invalid escape sequence '\\s'\n",
      "\n",
      "8it [00:10,  1.33s/it]\u001b[A"
     ]
    },
    {
     "name": "stdout",
     "output_type": "stream",
     "text": [
      "/home/grierjones/DDCASPT2/delta_ML/FO\n",
      "raddir /home/grierjones/DDCASPT2/delta_ML/FO/1.40\n",
      "/home/grierjones/DDCASPT2/delta_ML/FO/1.40\n"
     ]
    },
    {
     "name": "stderr",
     "output_type": "stream",
     "text": [
      "<string>:392: SyntaxWarning: invalid escape sequence '\\.'\n",
      "<string>:401: SyntaxWarning: invalid escape sequence '\\.'\n",
      "<string>:412: SyntaxWarning: invalid escape sequence '\\d'\n",
      "<string>:707: SyntaxWarning: invalid escape sequence '\\s'\n",
      "\n",
      "9it [00:11,  1.34s/it]\u001b[A"
     ]
    },
    {
     "name": "stdout",
     "output_type": "stream",
     "text": [
      "/home/grierjones/DDCASPT2/delta_ML/FO\n",
      "raddir /home/grierjones/DDCASPT2/delta_ML/FO/1.50\n",
      "/home/grierjones/DDCASPT2/delta_ML/FO/1.50\n"
     ]
    },
    {
     "name": "stderr",
     "output_type": "stream",
     "text": [
      "<string>:392: SyntaxWarning: invalid escape sequence '\\.'\n",
      "<string>:401: SyntaxWarning: invalid escape sequence '\\.'\n",
      "<string>:412: SyntaxWarning: invalid escape sequence '\\d'\n",
      "<string>:707: SyntaxWarning: invalid escape sequence '\\s'\n",
      "\n",
      "10it [00:13,  1.37s/it]\u001b[A"
     ]
    },
    {
     "name": "stdout",
     "output_type": "stream",
     "text": [
      "/home/grierjones/DDCASPT2/delta_ML/FO\n",
      "raddir /home/grierjones/DDCASPT2/delta_ML/FO/1.60\n",
      "/home/grierjones/DDCASPT2/delta_ML/FO/1.60\n"
     ]
    },
    {
     "name": "stderr",
     "output_type": "stream",
     "text": [
      "<string>:392: SyntaxWarning: invalid escape sequence '\\.'\n",
      "<string>:401: SyntaxWarning: invalid escape sequence '\\.'\n",
      "<string>:412: SyntaxWarning: invalid escape sequence '\\d'\n",
      "<string>:707: SyntaxWarning: invalid escape sequence '\\s'\n",
      "\n",
      "11it [00:14,  1.36s/it]\u001b[A"
     ]
    },
    {
     "name": "stdout",
     "output_type": "stream",
     "text": [
      "/home/grierjones/DDCASPT2/delta_ML/FO\n",
      "raddir /home/grierjones/DDCASPT2/delta_ML/FO/1.70\n",
      "/home/grierjones/DDCASPT2/delta_ML/FO/1.70\n"
     ]
    },
    {
     "name": "stderr",
     "output_type": "stream",
     "text": [
      "<string>:392: SyntaxWarning: invalid escape sequence '\\.'\n",
      "<string>:401: SyntaxWarning: invalid escape sequence '\\.'\n",
      "<string>:412: SyntaxWarning: invalid escape sequence '\\d'\n",
      "<string>:707: SyntaxWarning: invalid escape sequence '\\s'\n",
      "\n",
      "12it [00:16,  1.36s/it]\u001b[A"
     ]
    },
    {
     "name": "stdout",
     "output_type": "stream",
     "text": [
      "/home/grierjones/DDCASPT2/delta_ML/FO\n",
      "raddir /home/grierjones/DDCASPT2/delta_ML/FO/1.80\n",
      "/home/grierjones/DDCASPT2/delta_ML/FO/1.80\n"
     ]
    },
    {
     "name": "stderr",
     "output_type": "stream",
     "text": [
      "<string>:392: SyntaxWarning: invalid escape sequence '\\.'\n",
      "<string>:401: SyntaxWarning: invalid escape sequence '\\.'\n",
      "<string>:412: SyntaxWarning: invalid escape sequence '\\d'\n",
      "<string>:707: SyntaxWarning: invalid escape sequence '\\s'\n",
      "\n",
      "13it [00:17,  1.36s/it]\u001b[A"
     ]
    },
    {
     "name": "stdout",
     "output_type": "stream",
     "text": [
      "/home/grierjones/DDCASPT2/delta_ML/FO\n",
      "raddir /home/grierjones/DDCASPT2/delta_ML/FO/1.90\n",
      "/home/grierjones/DDCASPT2/delta_ML/FO/1.90\n"
     ]
    },
    {
     "name": "stderr",
     "output_type": "stream",
     "text": [
      "<string>:392: SyntaxWarning: invalid escape sequence '\\.'\n",
      "<string>:401: SyntaxWarning: invalid escape sequence '\\.'\n",
      "<string>:412: SyntaxWarning: invalid escape sequence '\\d'\n",
      "<string>:707: SyntaxWarning: invalid escape sequence '\\s'\n",
      "\n",
      "14it [00:18,  1.35s/it]\u001b[A"
     ]
    },
    {
     "name": "stdout",
     "output_type": "stream",
     "text": [
      "/home/grierjones/DDCASPT2/delta_ML/FO\n",
      "raddir /home/grierjones/DDCASPT2/delta_ML/FO/2.00\n",
      "/home/grierjones/DDCASPT2/delta_ML/FO/2.00\n"
     ]
    },
    {
     "name": "stderr",
     "output_type": "stream",
     "text": [
      "<string>:392: SyntaxWarning: invalid escape sequence '\\.'\n",
      "<string>:401: SyntaxWarning: invalid escape sequence '\\.'\n",
      "<string>:412: SyntaxWarning: invalid escape sequence '\\d'\n",
      "<string>:707: SyntaxWarning: invalid escape sequence '\\s'\n",
      "\n",
      "15it [00:20,  1.34s/it]\u001b[A"
     ]
    },
    {
     "name": "stdout",
     "output_type": "stream",
     "text": [
      "/home/grierjones/DDCASPT2/delta_ML/FO\n",
      "raddir /home/grierjones/DDCASPT2/delta_ML/FO/2.10\n",
      "/home/grierjones/DDCASPT2/delta_ML/FO/2.10\n"
     ]
    },
    {
     "name": "stderr",
     "output_type": "stream",
     "text": [
      "<string>:392: SyntaxWarning: invalid escape sequence '\\.'\n",
      "<string>:401: SyntaxWarning: invalid escape sequence '\\.'\n",
      "<string>:412: SyntaxWarning: invalid escape sequence '\\d'\n",
      "<string>:707: SyntaxWarning: invalid escape sequence '\\s'\n",
      "\n",
      "16it [00:21,  1.34s/it]\u001b[A"
     ]
    },
    {
     "name": "stdout",
     "output_type": "stream",
     "text": [
      "/home/grierjones/DDCASPT2/delta_ML/FO\n",
      "raddir /home/grierjones/DDCASPT2/delta_ML/FO/2.20\n",
      "/home/grierjones/DDCASPT2/delta_ML/FO/2.20\n"
     ]
    },
    {
     "name": "stderr",
     "output_type": "stream",
     "text": [
      "<string>:392: SyntaxWarning: invalid escape sequence '\\.'\n",
      "<string>:401: SyntaxWarning: invalid escape sequence '\\.'\n",
      "<string>:412: SyntaxWarning: invalid escape sequence '\\d'\n",
      "<string>:707: SyntaxWarning: invalid escape sequence '\\s'\n",
      "\n",
      "17it [00:22,  1.33s/it]\u001b[A"
     ]
    },
    {
     "name": "stdout",
     "output_type": "stream",
     "text": [
      "/home/grierjones/DDCASPT2/delta_ML/FO\n",
      "raddir /home/grierjones/DDCASPT2/delta_ML/FO/2.30\n",
      "/home/grierjones/DDCASPT2/delta_ML/FO/2.30\n"
     ]
    },
    {
     "name": "stderr",
     "output_type": "stream",
     "text": [
      "<string>:392: SyntaxWarning: invalid escape sequence '\\.'\n",
      "<string>:401: SyntaxWarning: invalid escape sequence '\\.'\n",
      "<string>:412: SyntaxWarning: invalid escape sequence '\\d'\n",
      "<string>:707: SyntaxWarning: invalid escape sequence '\\s'\n",
      "\n",
      "18it [00:23,  1.32s/it]\u001b[A"
     ]
    },
    {
     "name": "stdout",
     "output_type": "stream",
     "text": [
      "/home/grierjones/DDCASPT2/delta_ML/FO\n",
      "raddir /home/grierjones/DDCASPT2/delta_ML/FO/2.40\n",
      "/home/grierjones/DDCASPT2/delta_ML/FO/2.40\n"
     ]
    },
    {
     "name": "stderr",
     "output_type": "stream",
     "text": [
      "<string>:392: SyntaxWarning: invalid escape sequence '\\.'\n",
      "<string>:401: SyntaxWarning: invalid escape sequence '\\.'\n",
      "<string>:412: SyntaxWarning: invalid escape sequence '\\d'\n",
      "<string>:707: SyntaxWarning: invalid escape sequence '\\s'\n",
      "\n",
      "19it [00:25,  1.32s/it]\u001b[A"
     ]
    },
    {
     "name": "stdout",
     "output_type": "stream",
     "text": [
      "/home/grierjones/DDCASPT2/delta_ML/FO\n",
      "raddir /home/grierjones/DDCASPT2/delta_ML/FO/2.50\n",
      "/home/grierjones/DDCASPT2/delta_ML/FO/2.50\n"
     ]
    },
    {
     "name": "stderr",
     "output_type": "stream",
     "text": [
      "<string>:392: SyntaxWarning: invalid escape sequence '\\.'\n",
      "<string>:401: SyntaxWarning: invalid escape sequence '\\.'\n",
      "<string>:412: SyntaxWarning: invalid escape sequence '\\d'\n",
      "<string>:707: SyntaxWarning: invalid escape sequence '\\s'\n",
      "\n",
      "20it [00:26,  1.32s/it]\u001b[A"
     ]
    },
    {
     "name": "stdout",
     "output_type": "stream",
     "text": [
      "/home/grierjones/DDCASPT2/delta_ML/FO\n",
      "raddir /home/grierjones/DDCASPT2/delta_ML/FO/2.60\n",
      "/home/grierjones/DDCASPT2/delta_ML/FO/2.60\n"
     ]
    },
    {
     "name": "stderr",
     "output_type": "stream",
     "text": [
      "<string>:392: SyntaxWarning: invalid escape sequence '\\.'\n",
      "<string>:401: SyntaxWarning: invalid escape sequence '\\.'\n",
      "<string>:412: SyntaxWarning: invalid escape sequence '\\d'\n",
      "<string>:707: SyntaxWarning: invalid escape sequence '\\s'\n",
      "\n",
      "21it [00:27,  1.32s/it]\u001b[A"
     ]
    },
    {
     "name": "stdout",
     "output_type": "stream",
     "text": [
      "/home/grierjones/DDCASPT2/delta_ML/FO\n",
      "raddir /home/grierjones/DDCASPT2/delta_ML/FO/2.70\n",
      "/home/grierjones/DDCASPT2/delta_ML/FO/2.70\n"
     ]
    },
    {
     "name": "stderr",
     "output_type": "stream",
     "text": [
      "<string>:392: SyntaxWarning: invalid escape sequence '\\.'\n",
      "<string>:401: SyntaxWarning: invalid escape sequence '\\.'\n",
      "<string>:412: SyntaxWarning: invalid escape sequence '\\d'\n",
      "<string>:707: SyntaxWarning: invalid escape sequence '\\s'\n",
      "\n",
      "22it [00:29,  1.32s/it]\u001b[A"
     ]
    },
    {
     "name": "stdout",
     "output_type": "stream",
     "text": [
      "/home/grierjones/DDCASPT2/delta_ML/FO\n",
      "raddir /home/grierjones/DDCASPT2/delta_ML/FO/2.80\n",
      "/home/grierjones/DDCASPT2/delta_ML/FO/2.80\n"
     ]
    },
    {
     "name": "stderr",
     "output_type": "stream",
     "text": [
      "<string>:392: SyntaxWarning: invalid escape sequence '\\.'\n",
      "<string>:401: SyntaxWarning: invalid escape sequence '\\.'\n",
      "<string>:412: SyntaxWarning: invalid escape sequence '\\d'\n",
      "<string>:707: SyntaxWarning: invalid escape sequence '\\s'\n",
      "\n",
      "23it [00:30,  1.33s/it]\u001b[A\n",
      " 72%|█████████████████████████████████████████████████████████████████████████████████████████████████████████████████████████████▋                                                | 26/36 [13:16<04:58, 29.83s/it]"
     ]
    },
    {
     "name": "stdout",
     "output_type": "stream",
     "text": [
      "/home/grierjones/DDCASPT2/delta_ML/FO\n",
      "/home/grierjones/DDCASPT2/delta_ML/FO\n"
     ]
    },
    {
     "name": "stderr",
     "output_type": "stream",
     "text": [
      "\n",
      "0it [00:00, ?it/s]\u001b[A"
     ]
    },
    {
     "name": "stdout",
     "output_type": "stream",
     "text": [
      "raddir /home/grierjones/DDCASPT2/delta_ML/HH/0.60\n",
      "/home/grierjones/DDCASPT2/delta_ML/HH/0.60\n"
     ]
    },
    {
     "name": "stderr",
     "output_type": "stream",
     "text": [
      "<string>:392: SyntaxWarning: invalid escape sequence '\\.'\n",
      "<string>:401: SyntaxWarning: invalid escape sequence '\\.'\n",
      "<string>:412: SyntaxWarning: invalid escape sequence '\\d'\n",
      "<string>:707: SyntaxWarning: invalid escape sequence '\\s'\n",
      "\n",
      "1it [00:01,  1.15s/it]\u001b[A"
     ]
    },
    {
     "name": "stdout",
     "output_type": "stream",
     "text": [
      "/home/grierjones/DDCASPT2/delta_ML/HH\n",
      "raddir /home/grierjones/DDCASPT2/delta_ML/HH/0.70\n",
      "/home/grierjones/DDCASPT2/delta_ML/HH/0.70\n"
     ]
    },
    {
     "name": "stderr",
     "output_type": "stream",
     "text": [
      "<string>:392: SyntaxWarning: invalid escape sequence '\\.'\n",
      "<string>:401: SyntaxWarning: invalid escape sequence '\\.'\n",
      "<string>:412: SyntaxWarning: invalid escape sequence '\\d'\n",
      "<string>:707: SyntaxWarning: invalid escape sequence '\\s'\n",
      "\n",
      "2it [00:02,  1.15s/it]\u001b[A"
     ]
    },
    {
     "name": "stdout",
     "output_type": "stream",
     "text": [
      "/home/grierjones/DDCASPT2/delta_ML/HH\n",
      "raddir /home/grierjones/DDCASPT2/delta_ML/HH/0.80\n",
      "/home/grierjones/DDCASPT2/delta_ML/HH/0.80\n"
     ]
    },
    {
     "name": "stderr",
     "output_type": "stream",
     "text": [
      "<string>:392: SyntaxWarning: invalid escape sequence '\\.'\n",
      "<string>:401: SyntaxWarning: invalid escape sequence '\\.'\n",
      "<string>:412: SyntaxWarning: invalid escape sequence '\\d'\n",
      "<string>:707: SyntaxWarning: invalid escape sequence '\\s'\n",
      "\n",
      "3it [00:03,  1.15s/it]\u001b[A"
     ]
    },
    {
     "name": "stdout",
     "output_type": "stream",
     "text": [
      "/home/grierjones/DDCASPT2/delta_ML/HH\n",
      "raddir /home/grierjones/DDCASPT2/delta_ML/HH/0.90\n",
      "/home/grierjones/DDCASPT2/delta_ML/HH/0.90\n"
     ]
    },
    {
     "name": "stderr",
     "output_type": "stream",
     "text": [
      "<string>:392: SyntaxWarning: invalid escape sequence '\\.'\n",
      "<string>:401: SyntaxWarning: invalid escape sequence '\\.'\n",
      "<string>:412: SyntaxWarning: invalid escape sequence '\\d'\n",
      "<string>:707: SyntaxWarning: invalid escape sequence '\\s'\n",
      "\n",
      "4it [00:04,  1.15s/it]\u001b[A"
     ]
    },
    {
     "name": "stdout",
     "output_type": "stream",
     "text": [
      "/home/grierjones/DDCASPT2/delta_ML/HH\n",
      "raddir /home/grierjones/DDCASPT2/delta_ML/HH/1.00\n",
      "/home/grierjones/DDCASPT2/delta_ML/HH/1.00\n"
     ]
    },
    {
     "name": "stderr",
     "output_type": "stream",
     "text": [
      "<string>:392: SyntaxWarning: invalid escape sequence '\\.'\n",
      "<string>:401: SyntaxWarning: invalid escape sequence '\\.'\n",
      "<string>:412: SyntaxWarning: invalid escape sequence '\\d'\n",
      "<string>:707: SyntaxWarning: invalid escape sequence '\\s'\n",
      "\n",
      "5it [00:05,  1.15s/it]\u001b[A"
     ]
    },
    {
     "name": "stdout",
     "output_type": "stream",
     "text": [
      "/home/grierjones/DDCASPT2/delta_ML/HH\n",
      "raddir /home/grierjones/DDCASPT2/delta_ML/HH/1.10\n",
      "/home/grierjones/DDCASPT2/delta_ML/HH/1.10\n"
     ]
    },
    {
     "name": "stderr",
     "output_type": "stream",
     "text": [
      "<string>:392: SyntaxWarning: invalid escape sequence '\\.'\n",
      "<string>:401: SyntaxWarning: invalid escape sequence '\\.'\n",
      "<string>:412: SyntaxWarning: invalid escape sequence '\\d'\n",
      "<string>:707: SyntaxWarning: invalid escape sequence '\\s'\n",
      "\n",
      "6it [00:06,  1.15s/it]\u001b[A"
     ]
    },
    {
     "name": "stdout",
     "output_type": "stream",
     "text": [
      "/home/grierjones/DDCASPT2/delta_ML/HH\n",
      "raddir /home/grierjones/DDCASPT2/delta_ML/HH/1.20\n",
      "/home/grierjones/DDCASPT2/delta_ML/HH/1.20\n"
     ]
    },
    {
     "name": "stderr",
     "output_type": "stream",
     "text": [
      "<string>:392: SyntaxWarning: invalid escape sequence '\\.'\n",
      "<string>:401: SyntaxWarning: invalid escape sequence '\\.'\n",
      "<string>:412: SyntaxWarning: invalid escape sequence '\\d'\n",
      "<string>:707: SyntaxWarning: invalid escape sequence '\\s'\n",
      "\n",
      "7it [00:08,  1.15s/it]\u001b[A"
     ]
    },
    {
     "name": "stdout",
     "output_type": "stream",
     "text": [
      "/home/grierjones/DDCASPT2/delta_ML/HH\n",
      "raddir /home/grierjones/DDCASPT2/delta_ML/HH/1.30\n",
      "/home/grierjones/DDCASPT2/delta_ML/HH/1.30\n"
     ]
    },
    {
     "name": "stderr",
     "output_type": "stream",
     "text": [
      "<string>:392: SyntaxWarning: invalid escape sequence '\\.'\n",
      "<string>:401: SyntaxWarning: invalid escape sequence '\\.'\n",
      "<string>:412: SyntaxWarning: invalid escape sequence '\\d'\n",
      "<string>:707: SyntaxWarning: invalid escape sequence '\\s'\n",
      "\n",
      "8it [00:09,  1.15s/it]\u001b[A"
     ]
    },
    {
     "name": "stdout",
     "output_type": "stream",
     "text": [
      "/home/grierjones/DDCASPT2/delta_ML/HH\n",
      "raddir /home/grierjones/DDCASPT2/delta_ML/HH/1.40\n",
      "/home/grierjones/DDCASPT2/delta_ML/HH/1.40\n"
     ]
    },
    {
     "name": "stderr",
     "output_type": "stream",
     "text": [
      "<string>:392: SyntaxWarning: invalid escape sequence '\\.'\n",
      "<string>:401: SyntaxWarning: invalid escape sequence '\\.'\n",
      "<string>:412: SyntaxWarning: invalid escape sequence '\\d'\n",
      "<string>:707: SyntaxWarning: invalid escape sequence '\\s'\n",
      "\n",
      "9it [00:10,  1.15s/it]\u001b[A"
     ]
    },
    {
     "name": "stdout",
     "output_type": "stream",
     "text": [
      "/home/grierjones/DDCASPT2/delta_ML/HH\n",
      "raddir /home/grierjones/DDCASPT2/delta_ML/HH/1.50\n",
      "/home/grierjones/DDCASPT2/delta_ML/HH/1.50\n"
     ]
    },
    {
     "name": "stderr",
     "output_type": "stream",
     "text": [
      "<string>:392: SyntaxWarning: invalid escape sequence '\\.'\n",
      "<string>:401: SyntaxWarning: invalid escape sequence '\\.'\n",
      "<string>:412: SyntaxWarning: invalid escape sequence '\\d'\n",
      "<string>:707: SyntaxWarning: invalid escape sequence '\\s'\n",
      "\n",
      "10it [00:11,  1.15s/it]\u001b[A"
     ]
    },
    {
     "name": "stdout",
     "output_type": "stream",
     "text": [
      "/home/grierjones/DDCASPT2/delta_ML/HH\n",
      "raddir /home/grierjones/DDCASPT2/delta_ML/HH/1.60\n",
      "/home/grierjones/DDCASPT2/delta_ML/HH/1.60\n"
     ]
    },
    {
     "name": "stderr",
     "output_type": "stream",
     "text": [
      "<string>:392: SyntaxWarning: invalid escape sequence '\\.'\n",
      "<string>:401: SyntaxWarning: invalid escape sequence '\\.'\n",
      "<string>:412: SyntaxWarning: invalid escape sequence '\\d'\n",
      "<string>:707: SyntaxWarning: invalid escape sequence '\\s'\n",
      "\n",
      "11it [00:12,  1.15s/it]\u001b[A"
     ]
    },
    {
     "name": "stdout",
     "output_type": "stream",
     "text": [
      "/home/grierjones/DDCASPT2/delta_ML/HH\n",
      "raddir /home/grierjones/DDCASPT2/delta_ML/HH/1.70\n",
      "/home/grierjones/DDCASPT2/delta_ML/HH/1.70\n"
     ]
    },
    {
     "name": "stderr",
     "output_type": "stream",
     "text": [
      "<string>:392: SyntaxWarning: invalid escape sequence '\\.'\n",
      "<string>:401: SyntaxWarning: invalid escape sequence '\\.'\n",
      "<string>:412: SyntaxWarning: invalid escape sequence '\\d'\n",
      "<string>:707: SyntaxWarning: invalid escape sequence '\\s'\n",
      "\n",
      "12it [00:13,  1.15s/it]\u001b[A"
     ]
    },
    {
     "name": "stdout",
     "output_type": "stream",
     "text": [
      "/home/grierjones/DDCASPT2/delta_ML/HH\n",
      "raddir /home/grierjones/DDCASPT2/delta_ML/HH/1.80\n",
      "/home/grierjones/DDCASPT2/delta_ML/HH/1.80\n"
     ]
    },
    {
     "name": "stderr",
     "output_type": "stream",
     "text": [
      "<string>:392: SyntaxWarning: invalid escape sequence '\\.'\n",
      "<string>:401: SyntaxWarning: invalid escape sequence '\\.'\n",
      "<string>:412: SyntaxWarning: invalid escape sequence '\\d'\n",
      "<string>:707: SyntaxWarning: invalid escape sequence '\\s'\n",
      "\n",
      "13it [00:14,  1.15s/it]\u001b[A"
     ]
    },
    {
     "name": "stdout",
     "output_type": "stream",
     "text": [
      "/home/grierjones/DDCASPT2/delta_ML/HH\n",
      "raddir /home/grierjones/DDCASPT2/delta_ML/HH/1.90\n",
      "/home/grierjones/DDCASPT2/delta_ML/HH/1.90\n"
     ]
    },
    {
     "name": "stderr",
     "output_type": "stream",
     "text": [
      "<string>:392: SyntaxWarning: invalid escape sequence '\\.'\n",
      "<string>:401: SyntaxWarning: invalid escape sequence '\\.'\n",
      "<string>:412: SyntaxWarning: invalid escape sequence '\\d'\n",
      "<string>:707: SyntaxWarning: invalid escape sequence '\\s'\n",
      "\n",
      "14it [00:16,  1.15s/it]\u001b[A"
     ]
    },
    {
     "name": "stdout",
     "output_type": "stream",
     "text": [
      "/home/grierjones/DDCASPT2/delta_ML/HH\n",
      "raddir /home/grierjones/DDCASPT2/delta_ML/HH/2.00\n",
      "/home/grierjones/DDCASPT2/delta_ML/HH/2.00\n"
     ]
    },
    {
     "name": "stderr",
     "output_type": "stream",
     "text": [
      "<string>:392: SyntaxWarning: invalid escape sequence '\\.'\n",
      "<string>:401: SyntaxWarning: invalid escape sequence '\\.'\n",
      "<string>:412: SyntaxWarning: invalid escape sequence '\\d'\n",
      "<string>:707: SyntaxWarning: invalid escape sequence '\\s'\n",
      "\n",
      "15it [00:17,  1.15s/it]\u001b[A"
     ]
    },
    {
     "name": "stdout",
     "output_type": "stream",
     "text": [
      "/home/grierjones/DDCASPT2/delta_ML/HH\n",
      "raddir /home/grierjones/DDCASPT2/delta_ML/HH/2.10\n",
      "/home/grierjones/DDCASPT2/delta_ML/HH/2.10\n"
     ]
    },
    {
     "name": "stderr",
     "output_type": "stream",
     "text": [
      "<string>:392: SyntaxWarning: invalid escape sequence '\\.'\n",
      "<string>:401: SyntaxWarning: invalid escape sequence '\\.'\n",
      "<string>:412: SyntaxWarning: invalid escape sequence '\\d'\n",
      "<string>:707: SyntaxWarning: invalid escape sequence '\\s'\n",
      "\n",
      "16it [00:18,  1.15s/it]\u001b[A"
     ]
    },
    {
     "name": "stdout",
     "output_type": "stream",
     "text": [
      "/home/grierjones/DDCASPT2/delta_ML/HH\n",
      "raddir /home/grierjones/DDCASPT2/delta_ML/HH/2.20\n",
      "/home/grierjones/DDCASPT2/delta_ML/HH/2.20\n"
     ]
    },
    {
     "name": "stderr",
     "output_type": "stream",
     "text": [
      "<string>:392: SyntaxWarning: invalid escape sequence '\\.'\n",
      "<string>:401: SyntaxWarning: invalid escape sequence '\\.'\n",
      "<string>:412: SyntaxWarning: invalid escape sequence '\\d'\n",
      "<string>:707: SyntaxWarning: invalid escape sequence '\\s'\n",
      "\n",
      "17it [00:19,  1.15s/it]\u001b[A"
     ]
    },
    {
     "name": "stdout",
     "output_type": "stream",
     "text": [
      "/home/grierjones/DDCASPT2/delta_ML/HH\n",
      "raddir /home/grierjones/DDCASPT2/delta_ML/HH/2.30\n",
      "/home/grierjones/DDCASPT2/delta_ML/HH/2.30\n"
     ]
    },
    {
     "name": "stderr",
     "output_type": "stream",
     "text": [
      "<string>:392: SyntaxWarning: invalid escape sequence '\\.'\n",
      "<string>:401: SyntaxWarning: invalid escape sequence '\\.'\n",
      "<string>:412: SyntaxWarning: invalid escape sequence '\\d'\n",
      "<string>:707: SyntaxWarning: invalid escape sequence '\\s'\n",
      "\n",
      "18it [00:20,  1.15s/it]\u001b[A"
     ]
    },
    {
     "name": "stdout",
     "output_type": "stream",
     "text": [
      "/home/grierjones/DDCASPT2/delta_ML/HH\n",
      "raddir /home/grierjones/DDCASPT2/delta_ML/HH/2.40\n",
      "/home/grierjones/DDCASPT2/delta_ML/HH/2.40\n"
     ]
    },
    {
     "name": "stderr",
     "output_type": "stream",
     "text": [
      "<string>:392: SyntaxWarning: invalid escape sequence '\\.'\n",
      "<string>:401: SyntaxWarning: invalid escape sequence '\\.'\n",
      "<string>:412: SyntaxWarning: invalid escape sequence '\\d'\n",
      "<string>:707: SyntaxWarning: invalid escape sequence '\\s'\n",
      "\n",
      "19it [00:21,  1.15s/it]\u001b[A"
     ]
    },
    {
     "name": "stdout",
     "output_type": "stream",
     "text": [
      "/home/grierjones/DDCASPT2/delta_ML/HH\n",
      "raddir /home/grierjones/DDCASPT2/delta_ML/HH/2.50\n",
      "/home/grierjones/DDCASPT2/delta_ML/HH/2.50\n"
     ]
    },
    {
     "name": "stderr",
     "output_type": "stream",
     "text": [
      "<string>:392: SyntaxWarning: invalid escape sequence '\\.'\n",
      "<string>:401: SyntaxWarning: invalid escape sequence '\\.'\n",
      "<string>:412: SyntaxWarning: invalid escape sequence '\\d'\n",
      "<string>:707: SyntaxWarning: invalid escape sequence '\\s'\n",
      "\n",
      "20it [00:22,  1.15s/it]\u001b[A"
     ]
    },
    {
     "name": "stdout",
     "output_type": "stream",
     "text": [
      "/home/grierjones/DDCASPT2/delta_ML/HH\n",
      "raddir /home/grierjones/DDCASPT2/delta_ML/HH/2.60\n",
      "/home/grierjones/DDCASPT2/delta_ML/HH/2.60\n"
     ]
    },
    {
     "name": "stderr",
     "output_type": "stream",
     "text": [
      "<string>:392: SyntaxWarning: invalid escape sequence '\\.'\n",
      "<string>:401: SyntaxWarning: invalid escape sequence '\\.'\n",
      "<string>:412: SyntaxWarning: invalid escape sequence '\\d'\n",
      "<string>:707: SyntaxWarning: invalid escape sequence '\\s'\n",
      "\n",
      "21it [00:24,  1.15s/it]\u001b[A"
     ]
    },
    {
     "name": "stdout",
     "output_type": "stream",
     "text": [
      "/home/grierjones/DDCASPT2/delta_ML/HH\n",
      "raddir /home/grierjones/DDCASPT2/delta_ML/HH/2.70\n",
      "/home/grierjones/DDCASPT2/delta_ML/HH/2.70\n"
     ]
    },
    {
     "name": "stderr",
     "output_type": "stream",
     "text": [
      "<string>:392: SyntaxWarning: invalid escape sequence '\\.'\n",
      "<string>:401: SyntaxWarning: invalid escape sequence '\\.'\n",
      "<string>:412: SyntaxWarning: invalid escape sequence '\\d'\n",
      "<string>:707: SyntaxWarning: invalid escape sequence '\\s'\n",
      "\n",
      "22it [00:25,  1.14s/it]\u001b[A"
     ]
    },
    {
     "name": "stdout",
     "output_type": "stream",
     "text": [
      "/home/grierjones/DDCASPT2/delta_ML/HH\n",
      "raddir /home/grierjones/DDCASPT2/delta_ML/HH/2.80\n",
      "/home/grierjones/DDCASPT2/delta_ML/HH/2.80\n"
     ]
    },
    {
     "name": "stderr",
     "output_type": "stream",
     "text": [
      "<string>:392: SyntaxWarning: invalid escape sequence '\\.'\n",
      "<string>:401: SyntaxWarning: invalid escape sequence '\\.'\n",
      "<string>:412: SyntaxWarning: invalid escape sequence '\\d'\n",
      "<string>:707: SyntaxWarning: invalid escape sequence '\\s'\n",
      "\n",
      "23it [00:26,  1.15s/it]\u001b[A\n",
      " 75%|██████████████████████████████████████████████████████████████████████████████████████████████████████████████████████████████████▌                                           | 27/36 [13:43<04:19, 28.81s/it]"
     ]
    },
    {
     "name": "stdout",
     "output_type": "stream",
     "text": [
      "/home/grierjones/DDCASPT2/delta_ML/HH\n",
      "/home/grierjones/DDCASPT2/delta_ML/HH\n"
     ]
    },
    {
     "name": "stderr",
     "output_type": "stream",
     "text": [
      "\n",
      "0it [00:00, ?it/s]\u001b[A"
     ]
    },
    {
     "name": "stdout",
     "output_type": "stream",
     "text": [
      "raddir /home/grierjones/DDCASPT2/delta_ML/HLi/0.60\n",
      "/home/grierjones/DDCASPT2/delta_ML/HLi/0.60\n"
     ]
    },
    {
     "name": "stderr",
     "output_type": "stream",
     "text": [
      "<string>:392: SyntaxWarning: invalid escape sequence '\\.'\n",
      "<string>:401: SyntaxWarning: invalid escape sequence '\\.'\n",
      "<string>:412: SyntaxWarning: invalid escape sequence '\\d'\n",
      "<string>:707: SyntaxWarning: invalid escape sequence '\\s'\n",
      "\n",
      "1it [00:01,  1.21s/it]\u001b[A"
     ]
    },
    {
     "name": "stdout",
     "output_type": "stream",
     "text": [
      "/home/grierjones/DDCASPT2/delta_ML/HLi\n",
      "raddir /home/grierjones/DDCASPT2/delta_ML/HLi/0.70\n",
      "/home/grierjones/DDCASPT2/delta_ML/HLi/0.70\n"
     ]
    },
    {
     "name": "stderr",
     "output_type": "stream",
     "text": [
      "<string>:392: SyntaxWarning: invalid escape sequence '\\.'\n",
      "<string>:401: SyntaxWarning: invalid escape sequence '\\.'\n",
      "<string>:412: SyntaxWarning: invalid escape sequence '\\d'\n",
      "<string>:707: SyntaxWarning: invalid escape sequence '\\s'\n",
      "\n",
      "2it [00:02,  1.21s/it]\u001b[A"
     ]
    },
    {
     "name": "stdout",
     "output_type": "stream",
     "text": [
      "/home/grierjones/DDCASPT2/delta_ML/HLi\n",
      "raddir /home/grierjones/DDCASPT2/delta_ML/HLi/0.80\n",
      "/home/grierjones/DDCASPT2/delta_ML/HLi/0.80\n"
     ]
    },
    {
     "name": "stderr",
     "output_type": "stream",
     "text": [
      "<string>:392: SyntaxWarning: invalid escape sequence '\\.'\n",
      "<string>:401: SyntaxWarning: invalid escape sequence '\\.'\n",
      "<string>:412: SyntaxWarning: invalid escape sequence '\\d'\n",
      "<string>:707: SyntaxWarning: invalid escape sequence '\\s'\n",
      "\n",
      "3it [00:03,  1.21s/it]\u001b[A"
     ]
    },
    {
     "name": "stdout",
     "output_type": "stream",
     "text": [
      "/home/grierjones/DDCASPT2/delta_ML/HLi\n",
      "raddir /home/grierjones/DDCASPT2/delta_ML/HLi/0.90\n",
      "/home/grierjones/DDCASPT2/delta_ML/HLi/0.90\n"
     ]
    },
    {
     "name": "stderr",
     "output_type": "stream",
     "text": [
      "<string>:392: SyntaxWarning: invalid escape sequence '\\.'\n",
      "<string>:401: SyntaxWarning: invalid escape sequence '\\.'\n",
      "<string>:412: SyntaxWarning: invalid escape sequence '\\d'\n",
      "<string>:707: SyntaxWarning: invalid escape sequence '\\s'\n",
      "\n",
      "4it [00:04,  1.20s/it]\u001b[A"
     ]
    },
    {
     "name": "stdout",
     "output_type": "stream",
     "text": [
      "/home/grierjones/DDCASPT2/delta_ML/HLi\n",
      "raddir /home/grierjones/DDCASPT2/delta_ML/HLi/1.00\n",
      "/home/grierjones/DDCASPT2/delta_ML/HLi/1.00\n"
     ]
    },
    {
     "name": "stderr",
     "output_type": "stream",
     "text": [
      "<string>:392: SyntaxWarning: invalid escape sequence '\\.'\n",
      "<string>:401: SyntaxWarning: invalid escape sequence '\\.'\n",
      "<string>:412: SyntaxWarning: invalid escape sequence '\\d'\n",
      "<string>:707: SyntaxWarning: invalid escape sequence '\\s'\n",
      "\n",
      "5it [00:06,  1.20s/it]\u001b[A"
     ]
    },
    {
     "name": "stdout",
     "output_type": "stream",
     "text": [
      "/home/grierjones/DDCASPT2/delta_ML/HLi\n",
      "raddir /home/grierjones/DDCASPT2/delta_ML/HLi/1.10\n",
      "/home/grierjones/DDCASPT2/delta_ML/HLi/1.10\n"
     ]
    },
    {
     "name": "stderr",
     "output_type": "stream",
     "text": [
      "<string>:392: SyntaxWarning: invalid escape sequence '\\.'\n",
      "<string>:401: SyntaxWarning: invalid escape sequence '\\.'\n",
      "<string>:412: SyntaxWarning: invalid escape sequence '\\d'\n",
      "<string>:707: SyntaxWarning: invalid escape sequence '\\s'\n",
      "\n",
      "6it [00:07,  1.21s/it]\u001b[A"
     ]
    },
    {
     "name": "stdout",
     "output_type": "stream",
     "text": [
      "/home/grierjones/DDCASPT2/delta_ML/HLi\n",
      "raddir /home/grierjones/DDCASPT2/delta_ML/HLi/1.20\n",
      "/home/grierjones/DDCASPT2/delta_ML/HLi/1.20\n"
     ]
    },
    {
     "name": "stderr",
     "output_type": "stream",
     "text": [
      "<string>:392: SyntaxWarning: invalid escape sequence '\\.'\n",
      "<string>:401: SyntaxWarning: invalid escape sequence '\\.'\n",
      "<string>:412: SyntaxWarning: invalid escape sequence '\\d'\n",
      "<string>:707: SyntaxWarning: invalid escape sequence '\\s'\n",
      "\n",
      "7it [00:08,  1.21s/it]\u001b[A"
     ]
    },
    {
     "name": "stdout",
     "output_type": "stream",
     "text": [
      "/home/grierjones/DDCASPT2/delta_ML/HLi\n",
      "raddir /home/grierjones/DDCASPT2/delta_ML/HLi/1.30\n",
      "/home/grierjones/DDCASPT2/delta_ML/HLi/1.30\n"
     ]
    },
    {
     "name": "stderr",
     "output_type": "stream",
     "text": [
      "<string>:392: SyntaxWarning: invalid escape sequence '\\.'\n",
      "<string>:401: SyntaxWarning: invalid escape sequence '\\.'\n",
      "<string>:412: SyntaxWarning: invalid escape sequence '\\d'\n",
      "<string>:707: SyntaxWarning: invalid escape sequence '\\s'\n",
      "\n",
      "8it [00:09,  1.21s/it]\u001b[A"
     ]
    },
    {
     "name": "stdout",
     "output_type": "stream",
     "text": [
      "/home/grierjones/DDCASPT2/delta_ML/HLi\n",
      "raddir /home/grierjones/DDCASPT2/delta_ML/HLi/1.40\n",
      "/home/grierjones/DDCASPT2/delta_ML/HLi/1.40\n"
     ]
    },
    {
     "name": "stderr",
     "output_type": "stream",
     "text": [
      "<string>:392: SyntaxWarning: invalid escape sequence '\\.'\n",
      "<string>:401: SyntaxWarning: invalid escape sequence '\\.'\n",
      "<string>:412: SyntaxWarning: invalid escape sequence '\\d'\n",
      "<string>:707: SyntaxWarning: invalid escape sequence '\\s'\n",
      "\n",
      "9it [00:10,  1.21s/it]\u001b[A"
     ]
    },
    {
     "name": "stdout",
     "output_type": "stream",
     "text": [
      "/home/grierjones/DDCASPT2/delta_ML/HLi\n",
      "raddir /home/grierjones/DDCASPT2/delta_ML/HLi/1.50\n",
      "/home/grierjones/DDCASPT2/delta_ML/HLi/1.50\n"
     ]
    },
    {
     "name": "stderr",
     "output_type": "stream",
     "text": [
      "<string>:392: SyntaxWarning: invalid escape sequence '\\.'\n",
      "<string>:401: SyntaxWarning: invalid escape sequence '\\.'\n",
      "<string>:412: SyntaxWarning: invalid escape sequence '\\d'\n",
      "<string>:707: SyntaxWarning: invalid escape sequence '\\s'\n",
      "\n",
      "10it [00:12,  1.22s/it]\u001b[A"
     ]
    },
    {
     "name": "stdout",
     "output_type": "stream",
     "text": [
      "/home/grierjones/DDCASPT2/delta_ML/HLi\n",
      "raddir /home/grierjones/DDCASPT2/delta_ML/HLi/1.60\n",
      "/home/grierjones/DDCASPT2/delta_ML/HLi/1.60\n"
     ]
    },
    {
     "name": "stderr",
     "output_type": "stream",
     "text": [
      "<string>:392: SyntaxWarning: invalid escape sequence '\\.'\n",
      "<string>:401: SyntaxWarning: invalid escape sequence '\\.'\n",
      "<string>:412: SyntaxWarning: invalid escape sequence '\\d'\n",
      "<string>:707: SyntaxWarning: invalid escape sequence '\\s'\n",
      "\n",
      "11it [00:13,  1.22s/it]\u001b[A"
     ]
    },
    {
     "name": "stdout",
     "output_type": "stream",
     "text": [
      "/home/grierjones/DDCASPT2/delta_ML/HLi\n",
      "raddir /home/grierjones/DDCASPT2/delta_ML/HLi/1.70\n",
      "/home/grierjones/DDCASPT2/delta_ML/HLi/1.70\n"
     ]
    },
    {
     "name": "stderr",
     "output_type": "stream",
     "text": [
      "<string>:392: SyntaxWarning: invalid escape sequence '\\.'\n",
      "<string>:401: SyntaxWarning: invalid escape sequence '\\.'\n",
      "<string>:412: SyntaxWarning: invalid escape sequence '\\d'\n",
      "<string>:707: SyntaxWarning: invalid escape sequence '\\s'\n",
      "\n",
      "12it [00:14,  1.22s/it]\u001b[A"
     ]
    },
    {
     "name": "stdout",
     "output_type": "stream",
     "text": [
      "/home/grierjones/DDCASPT2/delta_ML/HLi\n",
      "raddir /home/grierjones/DDCASPT2/delta_ML/HLi/1.80\n",
      "/home/grierjones/DDCASPT2/delta_ML/HLi/1.80\n"
     ]
    },
    {
     "name": "stderr",
     "output_type": "stream",
     "text": [
      "<string>:392: SyntaxWarning: invalid escape sequence '\\.'\n",
      "<string>:401: SyntaxWarning: invalid escape sequence '\\.'\n",
      "<string>:412: SyntaxWarning: invalid escape sequence '\\d'\n",
      "<string>:707: SyntaxWarning: invalid escape sequence '\\s'\n",
      "\n",
      "13it [00:15,  1.23s/it]\u001b[A"
     ]
    },
    {
     "name": "stdout",
     "output_type": "stream",
     "text": [
      "/home/grierjones/DDCASPT2/delta_ML/HLi\n",
      "raddir /home/grierjones/DDCASPT2/delta_ML/HLi/1.90\n",
      "/home/grierjones/DDCASPT2/delta_ML/HLi/1.90\n"
     ]
    },
    {
     "name": "stderr",
     "output_type": "stream",
     "text": [
      "<string>:392: SyntaxWarning: invalid escape sequence '\\.'\n",
      "<string>:401: SyntaxWarning: invalid escape sequence '\\.'\n",
      "<string>:412: SyntaxWarning: invalid escape sequence '\\d'\n",
      "<string>:707: SyntaxWarning: invalid escape sequence '\\s'\n",
      "\n",
      "14it [00:17,  1.22s/it]\u001b[A"
     ]
    },
    {
     "name": "stdout",
     "output_type": "stream",
     "text": [
      "/home/grierjones/DDCASPT2/delta_ML/HLi\n",
      "raddir /home/grierjones/DDCASPT2/delta_ML/HLi/2.00\n",
      "/home/grierjones/DDCASPT2/delta_ML/HLi/2.00\n"
     ]
    },
    {
     "name": "stderr",
     "output_type": "stream",
     "text": [
      "<string>:392: SyntaxWarning: invalid escape sequence '\\.'\n",
      "<string>:401: SyntaxWarning: invalid escape sequence '\\.'\n",
      "<string>:412: SyntaxWarning: invalid escape sequence '\\d'\n",
      "<string>:707: SyntaxWarning: invalid escape sequence '\\s'\n",
      "\n",
      "15it [00:18,  1.21s/it]\u001b[A"
     ]
    },
    {
     "name": "stdout",
     "output_type": "stream",
     "text": [
      "/home/grierjones/DDCASPT2/delta_ML/HLi\n",
      "raddir /home/grierjones/DDCASPT2/delta_ML/HLi/2.10\n",
      "/home/grierjones/DDCASPT2/delta_ML/HLi/2.10\n"
     ]
    },
    {
     "name": "stderr",
     "output_type": "stream",
     "text": [
      "<string>:392: SyntaxWarning: invalid escape sequence '\\.'\n",
      "<string>:401: SyntaxWarning: invalid escape sequence '\\.'\n",
      "<string>:412: SyntaxWarning: invalid escape sequence '\\d'\n",
      "<string>:707: SyntaxWarning: invalid escape sequence '\\s'\n",
      "\n",
      "16it [00:19,  1.21s/it]\u001b[A"
     ]
    },
    {
     "name": "stdout",
     "output_type": "stream",
     "text": [
      "/home/grierjones/DDCASPT2/delta_ML/HLi\n",
      "raddir /home/grierjones/DDCASPT2/delta_ML/HLi/2.20\n",
      "/home/grierjones/DDCASPT2/delta_ML/HLi/2.20\n"
     ]
    },
    {
     "name": "stderr",
     "output_type": "stream",
     "text": [
      "<string>:392: SyntaxWarning: invalid escape sequence '\\.'\n",
      "<string>:401: SyntaxWarning: invalid escape sequence '\\.'\n",
      "<string>:412: SyntaxWarning: invalid escape sequence '\\d'\n",
      "<string>:707: SyntaxWarning: invalid escape sequence '\\s'\n",
      "\n",
      "17it [00:20,  1.21s/it]\u001b[A"
     ]
    },
    {
     "name": "stdout",
     "output_type": "stream",
     "text": [
      "/home/grierjones/DDCASPT2/delta_ML/HLi\n",
      "raddir /home/grierjones/DDCASPT2/delta_ML/HLi/2.30\n",
      "/home/grierjones/DDCASPT2/delta_ML/HLi/2.30\n"
     ]
    },
    {
     "name": "stderr",
     "output_type": "stream",
     "text": [
      "<string>:392: SyntaxWarning: invalid escape sequence '\\.'\n",
      "<string>:401: SyntaxWarning: invalid escape sequence '\\.'\n",
      "<string>:412: SyntaxWarning: invalid escape sequence '\\d'\n",
      "<string>:707: SyntaxWarning: invalid escape sequence '\\s'\n",
      "\n",
      "18it [00:21,  1.20s/it]\u001b[A"
     ]
    },
    {
     "name": "stdout",
     "output_type": "stream",
     "text": [
      "/home/grierjones/DDCASPT2/delta_ML/HLi\n",
      "raddir /home/grierjones/DDCASPT2/delta_ML/HLi/2.40\n",
      "/home/grierjones/DDCASPT2/delta_ML/HLi/2.40\n"
     ]
    },
    {
     "name": "stderr",
     "output_type": "stream",
     "text": [
      "<string>:392: SyntaxWarning: invalid escape sequence '\\.'\n",
      "<string>:401: SyntaxWarning: invalid escape sequence '\\.'\n",
      "<string>:412: SyntaxWarning: invalid escape sequence '\\d'\n",
      "<string>:707: SyntaxWarning: invalid escape sequence '\\s'\n",
      "\n",
      "19it [00:23,  1.20s/it]\u001b[A"
     ]
    },
    {
     "name": "stdout",
     "output_type": "stream",
     "text": [
      "/home/grierjones/DDCASPT2/delta_ML/HLi\n",
      "raddir /home/grierjones/DDCASPT2/delta_ML/HLi/2.50\n",
      "/home/grierjones/DDCASPT2/delta_ML/HLi/2.50\n"
     ]
    },
    {
     "name": "stderr",
     "output_type": "stream",
     "text": [
      "<string>:392: SyntaxWarning: invalid escape sequence '\\.'\n",
      "<string>:401: SyntaxWarning: invalid escape sequence '\\.'\n",
      "<string>:412: SyntaxWarning: invalid escape sequence '\\d'\n",
      "<string>:707: SyntaxWarning: invalid escape sequence '\\s'\n",
      "\n",
      "20it [00:24,  1.20s/it]\u001b[A"
     ]
    },
    {
     "name": "stdout",
     "output_type": "stream",
     "text": [
      "/home/grierjones/DDCASPT2/delta_ML/HLi\n",
      "raddir /home/grierjones/DDCASPT2/delta_ML/HLi/2.60\n",
      "/home/grierjones/DDCASPT2/delta_ML/HLi/2.60\n"
     ]
    },
    {
     "name": "stderr",
     "output_type": "stream",
     "text": [
      "<string>:392: SyntaxWarning: invalid escape sequence '\\.'\n",
      "<string>:401: SyntaxWarning: invalid escape sequence '\\.'\n",
      "<string>:412: SyntaxWarning: invalid escape sequence '\\d'\n",
      "<string>:707: SyntaxWarning: invalid escape sequence '\\s'\n",
      "\n",
      "21it [00:25,  1.20s/it]\u001b[A"
     ]
    },
    {
     "name": "stdout",
     "output_type": "stream",
     "text": [
      "/home/grierjones/DDCASPT2/delta_ML/HLi\n",
      "raddir /home/grierjones/DDCASPT2/delta_ML/HLi/2.70\n",
      "/home/grierjones/DDCASPT2/delta_ML/HLi/2.70\n"
     ]
    },
    {
     "name": "stderr",
     "output_type": "stream",
     "text": [
      "<string>:392: SyntaxWarning: invalid escape sequence '\\.'\n",
      "<string>:401: SyntaxWarning: invalid escape sequence '\\.'\n",
      "<string>:412: SyntaxWarning: invalid escape sequence '\\d'\n",
      "<string>:707: SyntaxWarning: invalid escape sequence '\\s'\n",
      "\n",
      "22it [00:26,  1.20s/it]\u001b[A"
     ]
    },
    {
     "name": "stdout",
     "output_type": "stream",
     "text": [
      "/home/grierjones/DDCASPT2/delta_ML/HLi\n",
      "raddir /home/grierjones/DDCASPT2/delta_ML/HLi/2.80\n",
      "/home/grierjones/DDCASPT2/delta_ML/HLi/2.80\n"
     ]
    },
    {
     "name": "stderr",
     "output_type": "stream",
     "text": [
      "<string>:392: SyntaxWarning: invalid escape sequence '\\.'\n",
      "<string>:401: SyntaxWarning: invalid escape sequence '\\.'\n",
      "<string>:412: SyntaxWarning: invalid escape sequence '\\d'\n",
      "<string>:707: SyntaxWarning: invalid escape sequence '\\s'\n",
      "\n",
      "23it [00:27,  1.21s/it]\u001b[A\n",
      " 78%|███████████████████████████████████████████████████████████████████████████████████████████████████████████████████████████████████████▎                                      | 28/36 [14:10<03:48, 28.50s/it]"
     ]
    },
    {
     "name": "stdout",
     "output_type": "stream",
     "text": [
      "/home/grierjones/DDCASPT2/delta_ML/HLi\n",
      "/home/grierjones/DDCASPT2/delta_ML/HLi\n"
     ]
    },
    {
     "name": "stderr",
     "output_type": "stream",
     "text": [
      "\n",
      "0it [00:00, ?it/s]\u001b[A"
     ]
    },
    {
     "name": "stdout",
     "output_type": "stream",
     "text": [
      "raddir /home/grierjones/DDCASPT2/delta_ML/HN/0.60\n",
      "/home/grierjones/DDCASPT2/delta_ML/HN/0.60\n"
     ]
    },
    {
     "name": "stderr",
     "output_type": "stream",
     "text": [
      "<string>:392: SyntaxWarning: invalid escape sequence '\\.'\n",
      "<string>:401: SyntaxWarning: invalid escape sequence '\\.'\n",
      "<string>:412: SyntaxWarning: invalid escape sequence '\\d'\n",
      "<string>:707: SyntaxWarning: invalid escape sequence '\\s'\n",
      "\n",
      "1it [00:01,  1.26s/it]\u001b[A"
     ]
    },
    {
     "name": "stdout",
     "output_type": "stream",
     "text": [
      "/home/grierjones/DDCASPT2/delta_ML/HN\n",
      "raddir /home/grierjones/DDCASPT2/delta_ML/HN/0.70\n",
      "/home/grierjones/DDCASPT2/delta_ML/HN/0.70\n"
     ]
    },
    {
     "name": "stderr",
     "output_type": "stream",
     "text": [
      "<string>:392: SyntaxWarning: invalid escape sequence '\\.'\n",
      "<string>:401: SyntaxWarning: invalid escape sequence '\\.'\n",
      "<string>:412: SyntaxWarning: invalid escape sequence '\\d'\n",
      "<string>:707: SyntaxWarning: invalid escape sequence '\\s'\n",
      "\n",
      "2it [00:02,  1.23s/it]\u001b[A"
     ]
    },
    {
     "name": "stdout",
     "output_type": "stream",
     "text": [
      "/home/grierjones/DDCASPT2/delta_ML/HN\n",
      "raddir /home/grierjones/DDCASPT2/delta_ML/HN/0.80\n",
      "/home/grierjones/DDCASPT2/delta_ML/HN/0.80\n"
     ]
    },
    {
     "name": "stderr",
     "output_type": "stream",
     "text": [
      "<string>:392: SyntaxWarning: invalid escape sequence '\\.'\n",
      "<string>:401: SyntaxWarning: invalid escape sequence '\\.'\n",
      "<string>:412: SyntaxWarning: invalid escape sequence '\\d'\n",
      "<string>:707: SyntaxWarning: invalid escape sequence '\\s'\n",
      "\n",
      "3it [00:03,  1.23s/it]\u001b[A"
     ]
    },
    {
     "name": "stdout",
     "output_type": "stream",
     "text": [
      "/home/grierjones/DDCASPT2/delta_ML/HN\n",
      "raddir /home/grierjones/DDCASPT2/delta_ML/HN/0.90\n",
      "/home/grierjones/DDCASPT2/delta_ML/HN/0.90\n"
     ]
    },
    {
     "name": "stderr",
     "output_type": "stream",
     "text": [
      "<string>:392: SyntaxWarning: invalid escape sequence '\\.'\n",
      "<string>:401: SyntaxWarning: invalid escape sequence '\\.'\n",
      "<string>:412: SyntaxWarning: invalid escape sequence '\\d'\n",
      "<string>:707: SyntaxWarning: invalid escape sequence '\\s'\n",
      "\n",
      "4it [00:04,  1.24s/it]\u001b[A"
     ]
    },
    {
     "name": "stdout",
     "output_type": "stream",
     "text": [
      "/home/grierjones/DDCASPT2/delta_ML/HN\n",
      "raddir /home/grierjones/DDCASPT2/delta_ML/HN/1.00\n",
      "/home/grierjones/DDCASPT2/delta_ML/HN/1.00\n"
     ]
    },
    {
     "name": "stderr",
     "output_type": "stream",
     "text": [
      "<string>:392: SyntaxWarning: invalid escape sequence '\\.'\n",
      "<string>:401: SyntaxWarning: invalid escape sequence '\\.'\n",
      "<string>:412: SyntaxWarning: invalid escape sequence '\\d'\n",
      "<string>:707: SyntaxWarning: invalid escape sequence '\\s'\n",
      "\n",
      "5it [00:06,  1.24s/it]\u001b[A"
     ]
    },
    {
     "name": "stdout",
     "output_type": "stream",
     "text": [
      "/home/grierjones/DDCASPT2/delta_ML/HN\n",
      "raddir /home/grierjones/DDCASPT2/delta_ML/HN/1.10\n",
      "/home/grierjones/DDCASPT2/delta_ML/HN/1.10\n"
     ]
    },
    {
     "name": "stderr",
     "output_type": "stream",
     "text": [
      "<string>:392: SyntaxWarning: invalid escape sequence '\\.'\n",
      "<string>:401: SyntaxWarning: invalid escape sequence '\\.'\n",
      "<string>:412: SyntaxWarning: invalid escape sequence '\\d'\n",
      "<string>:707: SyntaxWarning: invalid escape sequence '\\s'\n",
      "\n",
      "6it [00:07,  1.24s/it]\u001b[A"
     ]
    },
    {
     "name": "stdout",
     "output_type": "stream",
     "text": [
      "/home/grierjones/DDCASPT2/delta_ML/HN\n",
      "raddir /home/grierjones/DDCASPT2/delta_ML/HN/1.20\n",
      "/home/grierjones/DDCASPT2/delta_ML/HN/1.20\n"
     ]
    },
    {
     "name": "stderr",
     "output_type": "stream",
     "text": [
      "<string>:392: SyntaxWarning: invalid escape sequence '\\.'\n",
      "<string>:401: SyntaxWarning: invalid escape sequence '\\.'\n",
      "<string>:412: SyntaxWarning: invalid escape sequence '\\d'\n",
      "<string>:707: SyntaxWarning: invalid escape sequence '\\s'\n",
      "\n",
      "7it [00:08,  1.24s/it]\u001b[A"
     ]
    },
    {
     "name": "stdout",
     "output_type": "stream",
     "text": [
      "/home/grierjones/DDCASPT2/delta_ML/HN\n",
      "raddir /home/grierjones/DDCASPT2/delta_ML/HN/1.30\n",
      "/home/grierjones/DDCASPT2/delta_ML/HN/1.30\n"
     ]
    },
    {
     "name": "stderr",
     "output_type": "stream",
     "text": [
      "<string>:392: SyntaxWarning: invalid escape sequence '\\.'\n",
      "<string>:401: SyntaxWarning: invalid escape sequence '\\.'\n",
      "<string>:412: SyntaxWarning: invalid escape sequence '\\d'\n",
      "<string>:707: SyntaxWarning: invalid escape sequence '\\s'\n",
      "\n",
      "8it [00:09,  1.24s/it]\u001b[A"
     ]
    },
    {
     "name": "stdout",
     "output_type": "stream",
     "text": [
      "/home/grierjones/DDCASPT2/delta_ML/HN\n",
      "raddir /home/grierjones/DDCASPT2/delta_ML/HN/1.40\n",
      "/home/grierjones/DDCASPT2/delta_ML/HN/1.40\n"
     ]
    },
    {
     "name": "stderr",
     "output_type": "stream",
     "text": [
      "<string>:392: SyntaxWarning: invalid escape sequence '\\.'\n",
      "<string>:401: SyntaxWarning: invalid escape sequence '\\.'\n",
      "<string>:412: SyntaxWarning: invalid escape sequence '\\d'\n",
      "<string>:707: SyntaxWarning: invalid escape sequence '\\s'\n",
      "\n",
      "9it [00:11,  1.25s/it]\u001b[A"
     ]
    },
    {
     "name": "stdout",
     "output_type": "stream",
     "text": [
      "/home/grierjones/DDCASPT2/delta_ML/HN\n",
      "raddir /home/grierjones/DDCASPT2/delta_ML/HN/1.50\n",
      "/home/grierjones/DDCASPT2/delta_ML/HN/1.50\n"
     ]
    },
    {
     "name": "stderr",
     "output_type": "stream",
     "text": [
      "<string>:392: SyntaxWarning: invalid escape sequence '\\.'\n",
      "<string>:401: SyntaxWarning: invalid escape sequence '\\.'\n",
      "<string>:412: SyntaxWarning: invalid escape sequence '\\d'\n",
      "<string>:707: SyntaxWarning: invalid escape sequence '\\s'\n",
      "\n",
      "10it [00:12,  1.24s/it]\u001b[A"
     ]
    },
    {
     "name": "stdout",
     "output_type": "stream",
     "text": [
      "/home/grierjones/DDCASPT2/delta_ML/HN\n",
      "raddir /home/grierjones/DDCASPT2/delta_ML/HN/1.60\n",
      "/home/grierjones/DDCASPT2/delta_ML/HN/1.60\n"
     ]
    },
    {
     "name": "stderr",
     "output_type": "stream",
     "text": [
      "<string>:392: SyntaxWarning: invalid escape sequence '\\.'\n",
      "<string>:401: SyntaxWarning: invalid escape sequence '\\.'\n",
      "<string>:412: SyntaxWarning: invalid escape sequence '\\d'\n",
      "<string>:707: SyntaxWarning: invalid escape sequence '\\s'\n",
      "\n",
      "11it [00:13,  1.23s/it]\u001b[A"
     ]
    },
    {
     "name": "stdout",
     "output_type": "stream",
     "text": [
      "/home/grierjones/DDCASPT2/delta_ML/HN\n",
      "raddir /home/grierjones/DDCASPT2/delta_ML/HN/1.70\n",
      "/home/grierjones/DDCASPT2/delta_ML/HN/1.70\n"
     ]
    },
    {
     "name": "stderr",
     "output_type": "stream",
     "text": [
      "<string>:392: SyntaxWarning: invalid escape sequence '\\.'\n",
      "<string>:401: SyntaxWarning: invalid escape sequence '\\.'\n",
      "<string>:412: SyntaxWarning: invalid escape sequence '\\d'\n",
      "<string>:707: SyntaxWarning: invalid escape sequence '\\s'\n",
      "\n",
      "12it [00:14,  1.24s/it]\u001b[A"
     ]
    },
    {
     "name": "stdout",
     "output_type": "stream",
     "text": [
      "/home/grierjones/DDCASPT2/delta_ML/HN\n",
      "raddir /home/grierjones/DDCASPT2/delta_ML/HN/1.80\n",
      "/home/grierjones/DDCASPT2/delta_ML/HN/1.80\n"
     ]
    },
    {
     "name": "stderr",
     "output_type": "stream",
     "text": [
      "<string>:392: SyntaxWarning: invalid escape sequence '\\.'\n",
      "<string>:401: SyntaxWarning: invalid escape sequence '\\.'\n",
      "<string>:412: SyntaxWarning: invalid escape sequence '\\d'\n",
      "<string>:707: SyntaxWarning: invalid escape sequence '\\s'\n",
      "\n",
      "13it [00:16,  1.23s/it]\u001b[A"
     ]
    },
    {
     "name": "stdout",
     "output_type": "stream",
     "text": [
      "/home/grierjones/DDCASPT2/delta_ML/HN\n",
      "raddir /home/grierjones/DDCASPT2/delta_ML/HN/1.90\n",
      "/home/grierjones/DDCASPT2/delta_ML/HN/1.90\n"
     ]
    },
    {
     "name": "stderr",
     "output_type": "stream",
     "text": [
      "<string>:392: SyntaxWarning: invalid escape sequence '\\.'\n",
      "<string>:401: SyntaxWarning: invalid escape sequence '\\.'\n",
      "<string>:412: SyntaxWarning: invalid escape sequence '\\d'\n",
      "<string>:707: SyntaxWarning: invalid escape sequence '\\s'\n",
      "\n",
      "14it [00:17,  1.24s/it]\u001b[A"
     ]
    },
    {
     "name": "stdout",
     "output_type": "stream",
     "text": [
      "/home/grierjones/DDCASPT2/delta_ML/HN\n",
      "raddir /home/grierjones/DDCASPT2/delta_ML/HN/2.00\n",
      "/home/grierjones/DDCASPT2/delta_ML/HN/2.00\n"
     ]
    },
    {
     "name": "stderr",
     "output_type": "stream",
     "text": [
      "<string>:392: SyntaxWarning: invalid escape sequence '\\.'\n",
      "<string>:401: SyntaxWarning: invalid escape sequence '\\.'\n",
      "<string>:412: SyntaxWarning: invalid escape sequence '\\d'\n",
      "<string>:707: SyntaxWarning: invalid escape sequence '\\s'\n",
      "\n",
      "15it [00:18,  1.24s/it]\u001b[A"
     ]
    },
    {
     "name": "stdout",
     "output_type": "stream",
     "text": [
      "/home/grierjones/DDCASPT2/delta_ML/HN\n",
      "raddir /home/grierjones/DDCASPT2/delta_ML/HN/2.10\n",
      "/home/grierjones/DDCASPT2/delta_ML/HN/2.10\n"
     ]
    },
    {
     "name": "stderr",
     "output_type": "stream",
     "text": [
      "<string>:392: SyntaxWarning: invalid escape sequence '\\.'\n",
      "<string>:401: SyntaxWarning: invalid escape sequence '\\.'\n",
      "<string>:412: SyntaxWarning: invalid escape sequence '\\d'\n",
      "<string>:707: SyntaxWarning: invalid escape sequence '\\s'\n",
      "\n",
      "16it [00:19,  1.24s/it]\u001b[A"
     ]
    },
    {
     "name": "stdout",
     "output_type": "stream",
     "text": [
      "/home/grierjones/DDCASPT2/delta_ML/HN\n",
      "raddir /home/grierjones/DDCASPT2/delta_ML/HN/2.20\n",
      "/home/grierjones/DDCASPT2/delta_ML/HN/2.20\n"
     ]
    },
    {
     "name": "stderr",
     "output_type": "stream",
     "text": [
      "<string>:392: SyntaxWarning: invalid escape sequence '\\.'\n",
      "<string>:401: SyntaxWarning: invalid escape sequence '\\.'\n",
      "<string>:412: SyntaxWarning: invalid escape sequence '\\d'\n",
      "<string>:707: SyntaxWarning: invalid escape sequence '\\s'\n",
      "\n",
      "17it [00:21,  1.24s/it]\u001b[A"
     ]
    },
    {
     "name": "stdout",
     "output_type": "stream",
     "text": [
      "/home/grierjones/DDCASPT2/delta_ML/HN\n",
      "raddir /home/grierjones/DDCASPT2/delta_ML/HN/2.30\n",
      "/home/grierjones/DDCASPT2/delta_ML/HN/2.30\n"
     ]
    },
    {
     "name": "stderr",
     "output_type": "stream",
     "text": [
      "<string>:392: SyntaxWarning: invalid escape sequence '\\.'\n",
      "<string>:401: SyntaxWarning: invalid escape sequence '\\.'\n",
      "<string>:412: SyntaxWarning: invalid escape sequence '\\d'\n",
      "<string>:707: SyntaxWarning: invalid escape sequence '\\s'\n",
      "\n",
      "18it [00:22,  1.24s/it]\u001b[A"
     ]
    },
    {
     "name": "stdout",
     "output_type": "stream",
     "text": [
      "/home/grierjones/DDCASPT2/delta_ML/HN\n",
      "raddir /home/grierjones/DDCASPT2/delta_ML/HN/2.40\n",
      "/home/grierjones/DDCASPT2/delta_ML/HN/2.40\n"
     ]
    },
    {
     "name": "stderr",
     "output_type": "stream",
     "text": [
      "<string>:392: SyntaxWarning: invalid escape sequence '\\.'\n",
      "<string>:401: SyntaxWarning: invalid escape sequence '\\.'\n",
      "<string>:412: SyntaxWarning: invalid escape sequence '\\d'\n",
      "<string>:707: SyntaxWarning: invalid escape sequence '\\s'\n",
      "\n",
      "19it [00:23,  1.23s/it]\u001b[A"
     ]
    },
    {
     "name": "stdout",
     "output_type": "stream",
     "text": [
      "/home/grierjones/DDCASPT2/delta_ML/HN\n",
      "raddir /home/grierjones/DDCASPT2/delta_ML/HN/2.50\n",
      "/home/grierjones/DDCASPT2/delta_ML/HN/2.50\n"
     ]
    },
    {
     "name": "stderr",
     "output_type": "stream",
     "text": [
      "<string>:392: SyntaxWarning: invalid escape sequence '\\.'\n",
      "<string>:401: SyntaxWarning: invalid escape sequence '\\.'\n",
      "<string>:412: SyntaxWarning: invalid escape sequence '\\d'\n",
      "<string>:707: SyntaxWarning: invalid escape sequence '\\s'\n",
      "\n",
      "20it [00:24,  1.23s/it]\u001b[A"
     ]
    },
    {
     "name": "stdout",
     "output_type": "stream",
     "text": [
      "/home/grierjones/DDCASPT2/delta_ML/HN\n",
      "raddir /home/grierjones/DDCASPT2/delta_ML/HN/2.60\n",
      "/home/grierjones/DDCASPT2/delta_ML/HN/2.60\n"
     ]
    },
    {
     "name": "stderr",
     "output_type": "stream",
     "text": [
      "<string>:392: SyntaxWarning: invalid escape sequence '\\.'\n",
      "<string>:401: SyntaxWarning: invalid escape sequence '\\.'\n",
      "<string>:412: SyntaxWarning: invalid escape sequence '\\d'\n",
      "<string>:707: SyntaxWarning: invalid escape sequence '\\s'\n",
      "\n",
      "21it [00:25,  1.23s/it]\u001b[A"
     ]
    },
    {
     "name": "stdout",
     "output_type": "stream",
     "text": [
      "/home/grierjones/DDCASPT2/delta_ML/HN\n",
      "raddir /home/grierjones/DDCASPT2/delta_ML/HN/2.70\n",
      "/home/grierjones/DDCASPT2/delta_ML/HN/2.70\n"
     ]
    },
    {
     "name": "stderr",
     "output_type": "stream",
     "text": [
      "<string>:392: SyntaxWarning: invalid escape sequence '\\.'\n",
      "<string>:401: SyntaxWarning: invalid escape sequence '\\.'\n",
      "<string>:412: SyntaxWarning: invalid escape sequence '\\d'\n",
      "<string>:707: SyntaxWarning: invalid escape sequence '\\s'\n",
      "\n",
      "22it [00:27,  1.23s/it]\u001b[A"
     ]
    },
    {
     "name": "stdout",
     "output_type": "stream",
     "text": [
      "/home/grierjones/DDCASPT2/delta_ML/HN\n",
      "raddir /home/grierjones/DDCASPT2/delta_ML/HN/2.80\n",
      "/home/grierjones/DDCASPT2/delta_ML/HN/2.80\n"
     ]
    },
    {
     "name": "stderr",
     "output_type": "stream",
     "text": [
      "<string>:392: SyntaxWarning: invalid escape sequence '\\.'\n",
      "<string>:401: SyntaxWarning: invalid escape sequence '\\.'\n",
      "<string>:412: SyntaxWarning: invalid escape sequence '\\d'\n",
      "<string>:707: SyntaxWarning: invalid escape sequence '\\s'\n",
      "\n",
      "23it [00:28,  1.23s/it]\u001b[A\n",
      " 81%|████████████████████████████████████████████████████████████████████████████████████████████████████████████████████████████████████████████▏                                 | 29/36 [14:39<03:19, 28.47s/it]"
     ]
    },
    {
     "name": "stdout",
     "output_type": "stream",
     "text": [
      "/home/grierjones/DDCASPT2/delta_ML/HN\n",
      "/home/grierjones/DDCASPT2/delta_ML/HN\n"
     ]
    },
    {
     "name": "stderr",
     "output_type": "stream",
     "text": [
      "\n",
      "0it [00:00, ?it/s]\u001b[A"
     ]
    },
    {
     "name": "stdout",
     "output_type": "stream",
     "text": [
      "raddir /home/grierjones/DDCASPT2/delta_ML/HO/0.60\n",
      "/home/grierjones/DDCASPT2/delta_ML/HO/0.60\n"
     ]
    },
    {
     "name": "stderr",
     "output_type": "stream",
     "text": [
      "<string>:392: SyntaxWarning: invalid escape sequence '\\.'\n",
      "<string>:401: SyntaxWarning: invalid escape sequence '\\.'\n",
      "<string>:412: SyntaxWarning: invalid escape sequence '\\d'\n",
      "<string>:707: SyntaxWarning: invalid escape sequence '\\s'\n",
      "\n",
      "1it [00:01,  1.25s/it]\u001b[A"
     ]
    },
    {
     "name": "stdout",
     "output_type": "stream",
     "text": [
      "/home/grierjones/DDCASPT2/delta_ML/HO\n",
      "raddir /home/grierjones/DDCASPT2/delta_ML/HO/0.70\n",
      "/home/grierjones/DDCASPT2/delta_ML/HO/0.70\n"
     ]
    },
    {
     "name": "stderr",
     "output_type": "stream",
     "text": [
      "<string>:392: SyntaxWarning: invalid escape sequence '\\.'\n",
      "<string>:401: SyntaxWarning: invalid escape sequence '\\.'\n",
      "<string>:412: SyntaxWarning: invalid escape sequence '\\d'\n",
      "<string>:707: SyntaxWarning: invalid escape sequence '\\s'\n",
      "\n",
      "2it [00:02,  1.25s/it]\u001b[A"
     ]
    },
    {
     "name": "stdout",
     "output_type": "stream",
     "text": [
      "/home/grierjones/DDCASPT2/delta_ML/HO\n",
      "raddir /home/grierjones/DDCASPT2/delta_ML/HO/0.80\n",
      "/home/grierjones/DDCASPT2/delta_ML/HO/0.80\n"
     ]
    },
    {
     "name": "stderr",
     "output_type": "stream",
     "text": [
      "<string>:392: SyntaxWarning: invalid escape sequence '\\.'\n",
      "<string>:401: SyntaxWarning: invalid escape sequence '\\.'\n",
      "<string>:412: SyntaxWarning: invalid escape sequence '\\d'\n",
      "<string>:707: SyntaxWarning: invalid escape sequence '\\s'\n",
      "\n",
      "3it [00:03,  1.25s/it]\u001b[A"
     ]
    },
    {
     "name": "stdout",
     "output_type": "stream",
     "text": [
      "/home/grierjones/DDCASPT2/delta_ML/HO\n",
      "raddir /home/grierjones/DDCASPT2/delta_ML/HO/0.90\n",
      "/home/grierjones/DDCASPT2/delta_ML/HO/0.90\n"
     ]
    },
    {
     "name": "stderr",
     "output_type": "stream",
     "text": [
      "<string>:392: SyntaxWarning: invalid escape sequence '\\.'\n",
      "<string>:401: SyntaxWarning: invalid escape sequence '\\.'\n",
      "<string>:412: SyntaxWarning: invalid escape sequence '\\d'\n",
      "<string>:707: SyntaxWarning: invalid escape sequence '\\s'\n",
      "\n",
      "4it [00:05,  1.26s/it]\u001b[A"
     ]
    },
    {
     "name": "stdout",
     "output_type": "stream",
     "text": [
      "/home/grierjones/DDCASPT2/delta_ML/HO\n",
      "raddir /home/grierjones/DDCASPT2/delta_ML/HO/1.00\n",
      "/home/grierjones/DDCASPT2/delta_ML/HO/1.00\n"
     ]
    },
    {
     "name": "stderr",
     "output_type": "stream",
     "text": [
      "<string>:392: SyntaxWarning: invalid escape sequence '\\.'\n",
      "<string>:401: SyntaxWarning: invalid escape sequence '\\.'\n",
      "<string>:412: SyntaxWarning: invalid escape sequence '\\d'\n",
      "<string>:707: SyntaxWarning: invalid escape sequence '\\s'\n",
      "\n",
      "5it [00:06,  1.26s/it]\u001b[A"
     ]
    },
    {
     "name": "stdout",
     "output_type": "stream",
     "text": [
      "/home/grierjones/DDCASPT2/delta_ML/HO\n",
      "raddir /home/grierjones/DDCASPT2/delta_ML/HO/1.10\n",
      "/home/grierjones/DDCASPT2/delta_ML/HO/1.10\n"
     ]
    },
    {
     "name": "stderr",
     "output_type": "stream",
     "text": [
      "<string>:392: SyntaxWarning: invalid escape sequence '\\.'\n",
      "<string>:401: SyntaxWarning: invalid escape sequence '\\.'\n",
      "<string>:412: SyntaxWarning: invalid escape sequence '\\d'\n",
      "<string>:707: SyntaxWarning: invalid escape sequence '\\s'\n",
      "\n",
      "6it [00:07,  1.26s/it]\u001b[A"
     ]
    },
    {
     "name": "stdout",
     "output_type": "stream",
     "text": [
      "/home/grierjones/DDCASPT2/delta_ML/HO\n",
      "raddir /home/grierjones/DDCASPT2/delta_ML/HO/1.20\n",
      "/home/grierjones/DDCASPT2/delta_ML/HO/1.20\n"
     ]
    },
    {
     "name": "stderr",
     "output_type": "stream",
     "text": [
      "<string>:392: SyntaxWarning: invalid escape sequence '\\.'\n",
      "<string>:401: SyntaxWarning: invalid escape sequence '\\.'\n",
      "<string>:412: SyntaxWarning: invalid escape sequence '\\d'\n",
      "<string>:707: SyntaxWarning: invalid escape sequence '\\s'\n",
      "\n",
      "7it [00:08,  1.27s/it]\u001b[A"
     ]
    },
    {
     "name": "stdout",
     "output_type": "stream",
     "text": [
      "/home/grierjones/DDCASPT2/delta_ML/HO\n",
      "raddir /home/grierjones/DDCASPT2/delta_ML/HO/1.30\n",
      "/home/grierjones/DDCASPT2/delta_ML/HO/1.30\n"
     ]
    },
    {
     "name": "stderr",
     "output_type": "stream",
     "text": [
      "<string>:392: SyntaxWarning: invalid escape sequence '\\.'\n",
      "<string>:401: SyntaxWarning: invalid escape sequence '\\.'\n",
      "<string>:412: SyntaxWarning: invalid escape sequence '\\d'\n",
      "<string>:707: SyntaxWarning: invalid escape sequence '\\s'\n",
      "\n",
      "8it [00:10,  1.29s/it]\u001b[A"
     ]
    },
    {
     "name": "stdout",
     "output_type": "stream",
     "text": [
      "/home/grierjones/DDCASPT2/delta_ML/HO\n",
      "raddir /home/grierjones/DDCASPT2/delta_ML/HO/1.40\n",
      "/home/grierjones/DDCASPT2/delta_ML/HO/1.40\n"
     ]
    },
    {
     "name": "stderr",
     "output_type": "stream",
     "text": [
      "<string>:392: SyntaxWarning: invalid escape sequence '\\.'\n",
      "<string>:401: SyntaxWarning: invalid escape sequence '\\.'\n",
      "<string>:412: SyntaxWarning: invalid escape sequence '\\d'\n",
      "<string>:707: SyntaxWarning: invalid escape sequence '\\s'\n",
      "\n",
      "9it [00:11,  1.34s/it]\u001b[A"
     ]
    },
    {
     "name": "stdout",
     "output_type": "stream",
     "text": [
      "/home/grierjones/DDCASPT2/delta_ML/HO\n",
      "raddir /home/grierjones/DDCASPT2/delta_ML/HO/1.50\n",
      "/home/grierjones/DDCASPT2/delta_ML/HO/1.50\n"
     ]
    },
    {
     "name": "stderr",
     "output_type": "stream",
     "text": [
      "<string>:392: SyntaxWarning: invalid escape sequence '\\.'\n",
      "<string>:401: SyntaxWarning: invalid escape sequence '\\.'\n",
      "<string>:412: SyntaxWarning: invalid escape sequence '\\d'\n",
      "<string>:707: SyntaxWarning: invalid escape sequence '\\s'\n",
      "\n",
      "10it [00:12,  1.35s/it]\u001b[A"
     ]
    },
    {
     "name": "stdout",
     "output_type": "stream",
     "text": [
      "/home/grierjones/DDCASPT2/delta_ML/HO\n",
      "raddir /home/grierjones/DDCASPT2/delta_ML/HO/1.60\n",
      "/home/grierjones/DDCASPT2/delta_ML/HO/1.60\n"
     ]
    },
    {
     "name": "stderr",
     "output_type": "stream",
     "text": [
      "<string>:392: SyntaxWarning: invalid escape sequence '\\.'\n",
      "<string>:401: SyntaxWarning: invalid escape sequence '\\.'\n",
      "<string>:412: SyntaxWarning: invalid escape sequence '\\d'\n",
      "<string>:707: SyntaxWarning: invalid escape sequence '\\s'\n",
      "\n",
      "11it [00:14,  1.36s/it]\u001b[A"
     ]
    },
    {
     "name": "stdout",
     "output_type": "stream",
     "text": [
      "/home/grierjones/DDCASPT2/delta_ML/HO\n",
      "raddir /home/grierjones/DDCASPT2/delta_ML/HO/1.70\n",
      "/home/grierjones/DDCASPT2/delta_ML/HO/1.70\n"
     ]
    },
    {
     "name": "stderr",
     "output_type": "stream",
     "text": [
      "<string>:392: SyntaxWarning: invalid escape sequence '\\.'\n",
      "<string>:401: SyntaxWarning: invalid escape sequence '\\.'\n",
      "<string>:412: SyntaxWarning: invalid escape sequence '\\d'\n",
      "<string>:707: SyntaxWarning: invalid escape sequence '\\s'\n",
      "\n",
      "12it [00:15,  1.35s/it]\u001b[A"
     ]
    },
    {
     "name": "stdout",
     "output_type": "stream",
     "text": [
      "/home/grierjones/DDCASPT2/delta_ML/HO\n",
      "raddir /home/grierjones/DDCASPT2/delta_ML/HO/1.80\n",
      "/home/grierjones/DDCASPT2/delta_ML/HO/1.80\n"
     ]
    },
    {
     "name": "stderr",
     "output_type": "stream",
     "text": [
      "<string>:392: SyntaxWarning: invalid escape sequence '\\.'\n",
      "<string>:401: SyntaxWarning: invalid escape sequence '\\.'\n",
      "<string>:412: SyntaxWarning: invalid escape sequence '\\d'\n",
      "<string>:707: SyntaxWarning: invalid escape sequence '\\s'\n",
      "\n",
      "13it [00:17,  1.37s/it]\u001b[A"
     ]
    },
    {
     "name": "stdout",
     "output_type": "stream",
     "text": [
      "/home/grierjones/DDCASPT2/delta_ML/HO\n",
      "raddir /home/grierjones/DDCASPT2/delta_ML/HO/1.90\n",
      "/home/grierjones/DDCASPT2/delta_ML/HO/1.90\n"
     ]
    },
    {
     "name": "stderr",
     "output_type": "stream",
     "text": [
      "<string>:392: SyntaxWarning: invalid escape sequence '\\.'\n",
      "<string>:401: SyntaxWarning: invalid escape sequence '\\.'\n",
      "<string>:412: SyntaxWarning: invalid escape sequence '\\d'\n",
      "<string>:707: SyntaxWarning: invalid escape sequence '\\s'\n",
      "\n",
      "14it [00:18,  1.35s/it]\u001b[A"
     ]
    },
    {
     "name": "stdout",
     "output_type": "stream",
     "text": [
      "/home/grierjones/DDCASPT2/delta_ML/HO\n",
      "raddir /home/grierjones/DDCASPT2/delta_ML/HO/2.00\n",
      "/home/grierjones/DDCASPT2/delta_ML/HO/2.00\n"
     ]
    },
    {
     "name": "stderr",
     "output_type": "stream",
     "text": [
      "<string>:392: SyntaxWarning: invalid escape sequence '\\.'\n",
      "<string>:401: SyntaxWarning: invalid escape sequence '\\.'\n",
      "<string>:412: SyntaxWarning: invalid escape sequence '\\d'\n",
      "<string>:707: SyntaxWarning: invalid escape sequence '\\s'\n",
      "\n",
      "15it [00:19,  1.33s/it]\u001b[A"
     ]
    },
    {
     "name": "stdout",
     "output_type": "stream",
     "text": [
      "/home/grierjones/DDCASPT2/delta_ML/HO\n",
      "raddir /home/grierjones/DDCASPT2/delta_ML/HO/2.10\n",
      "/home/grierjones/DDCASPT2/delta_ML/HO/2.10\n"
     ]
    },
    {
     "name": "stderr",
     "output_type": "stream",
     "text": [
      "<string>:392: SyntaxWarning: invalid escape sequence '\\.'\n",
      "<string>:401: SyntaxWarning: invalid escape sequence '\\.'\n",
      "<string>:412: SyntaxWarning: invalid escape sequence '\\d'\n",
      "<string>:707: SyntaxWarning: invalid escape sequence '\\s'\n",
      "\n",
      "16it [00:20,  1.32s/it]\u001b[A"
     ]
    },
    {
     "name": "stdout",
     "output_type": "stream",
     "text": [
      "/home/grierjones/DDCASPT2/delta_ML/HO\n",
      "raddir /home/grierjones/DDCASPT2/delta_ML/HO/2.20\n",
      "/home/grierjones/DDCASPT2/delta_ML/HO/2.20\n"
     ]
    },
    {
     "name": "stderr",
     "output_type": "stream",
     "text": [
      "<string>:392: SyntaxWarning: invalid escape sequence '\\.'\n",
      "<string>:401: SyntaxWarning: invalid escape sequence '\\.'\n",
      "<string>:412: SyntaxWarning: invalid escape sequence '\\d'\n",
      "<string>:707: SyntaxWarning: invalid escape sequence '\\s'\n",
      "\n",
      "17it [00:22,  1.31s/it]\u001b[A"
     ]
    },
    {
     "name": "stdout",
     "output_type": "stream",
     "text": [
      "/home/grierjones/DDCASPT2/delta_ML/HO\n",
      "raddir /home/grierjones/DDCASPT2/delta_ML/HO/2.30\n",
      "/home/grierjones/DDCASPT2/delta_ML/HO/2.30\n"
     ]
    },
    {
     "name": "stderr",
     "output_type": "stream",
     "text": [
      "<string>:392: SyntaxWarning: invalid escape sequence '\\.'\n",
      "<string>:401: SyntaxWarning: invalid escape sequence '\\.'\n",
      "<string>:412: SyntaxWarning: invalid escape sequence '\\d'\n",
      "<string>:707: SyntaxWarning: invalid escape sequence '\\s'\n",
      "\n",
      "18it [00:23,  1.31s/it]\u001b[A"
     ]
    },
    {
     "name": "stdout",
     "output_type": "stream",
     "text": [
      "/home/grierjones/DDCASPT2/delta_ML/HO\n",
      "raddir /home/grierjones/DDCASPT2/delta_ML/HO/2.40\n",
      "/home/grierjones/DDCASPT2/delta_ML/HO/2.40\n"
     ]
    },
    {
     "name": "stderr",
     "output_type": "stream",
     "text": [
      "<string>:392: SyntaxWarning: invalid escape sequence '\\.'\n",
      "<string>:401: SyntaxWarning: invalid escape sequence '\\.'\n",
      "<string>:412: SyntaxWarning: invalid escape sequence '\\d'\n",
      "<string>:707: SyntaxWarning: invalid escape sequence '\\s'\n",
      "\n",
      "19it [00:24,  1.31s/it]\u001b[A"
     ]
    },
    {
     "name": "stdout",
     "output_type": "stream",
     "text": [
      "/home/grierjones/DDCASPT2/delta_ML/HO\n",
      "raddir /home/grierjones/DDCASPT2/delta_ML/HO/2.50\n",
      "/home/grierjones/DDCASPT2/delta_ML/HO/2.50\n"
     ]
    },
    {
     "name": "stderr",
     "output_type": "stream",
     "text": [
      "<string>:392: SyntaxWarning: invalid escape sequence '\\.'\n",
      "<string>:401: SyntaxWarning: invalid escape sequence '\\.'\n",
      "<string>:412: SyntaxWarning: invalid escape sequence '\\d'\n",
      "<string>:707: SyntaxWarning: invalid escape sequence '\\s'\n",
      "\n",
      "20it [00:26,  1.30s/it]\u001b[A"
     ]
    },
    {
     "name": "stdout",
     "output_type": "stream",
     "text": [
      "/home/grierjones/DDCASPT2/delta_ML/HO\n",
      "raddir /home/grierjones/DDCASPT2/delta_ML/HO/2.60\n",
      "/home/grierjones/DDCASPT2/delta_ML/HO/2.60\n"
     ]
    },
    {
     "name": "stderr",
     "output_type": "stream",
     "text": [
      "<string>:392: SyntaxWarning: invalid escape sequence '\\.'\n",
      "<string>:401: SyntaxWarning: invalid escape sequence '\\.'\n",
      "<string>:412: SyntaxWarning: invalid escape sequence '\\d'\n",
      "<string>:707: SyntaxWarning: invalid escape sequence '\\s'\n",
      "\n",
      "21it [00:27,  1.30s/it]\u001b[A"
     ]
    },
    {
     "name": "stdout",
     "output_type": "stream",
     "text": [
      "/home/grierjones/DDCASPT2/delta_ML/HO\n",
      "raddir /home/grierjones/DDCASPT2/delta_ML/HO/2.70\n",
      "/home/grierjones/DDCASPT2/delta_ML/HO/2.70\n"
     ]
    },
    {
     "name": "stderr",
     "output_type": "stream",
     "text": [
      "<string>:392: SyntaxWarning: invalid escape sequence '\\.'\n",
      "<string>:401: SyntaxWarning: invalid escape sequence '\\.'\n",
      "<string>:412: SyntaxWarning: invalid escape sequence '\\d'\n",
      "<string>:707: SyntaxWarning: invalid escape sequence '\\s'\n",
      "\n",
      "22it [00:28,  1.29s/it]\u001b[A"
     ]
    },
    {
     "name": "stdout",
     "output_type": "stream",
     "text": [
      "/home/grierjones/DDCASPT2/delta_ML/HO\n",
      "raddir /home/grierjones/DDCASPT2/delta_ML/HO/2.80\n",
      "/home/grierjones/DDCASPT2/delta_ML/HO/2.80\n"
     ]
    },
    {
     "name": "stderr",
     "output_type": "stream",
     "text": [
      "<string>:392: SyntaxWarning: invalid escape sequence '\\.'\n",
      "<string>:401: SyntaxWarning: invalid escape sequence '\\.'\n",
      "<string>:412: SyntaxWarning: invalid escape sequence '\\d'\n",
      "<string>:707: SyntaxWarning: invalid escape sequence '\\s'\n",
      "\n",
      "23it [00:29,  1.30s/it]\u001b[A\n",
      " 83%|█████████████████████████████████████████████████████████████████████████████████████████████████████████████████████████████████████████████████                             | 30/36 [15:09<02:53, 28.93s/it]"
     ]
    },
    {
     "name": "stdout",
     "output_type": "stream",
     "text": [
      "/home/grierjones/DDCASPT2/delta_ML/HO\n",
      "/home/grierjones/DDCASPT2/delta_ML/HO\n"
     ]
    },
    {
     "name": "stderr",
     "output_type": "stream",
     "text": [
      "\n",
      "0it [00:00, ?it/s]\u001b[A"
     ]
    },
    {
     "name": "stdout",
     "output_type": "stream",
     "text": [
      "raddir /home/grierjones/DDCASPT2/delta_ML/LiLi/0.60\n",
      "/home/grierjones/DDCASPT2/delta_ML/LiLi/0.60\n"
     ]
    },
    {
     "name": "stderr",
     "output_type": "stream",
     "text": [
      "<string>:392: SyntaxWarning: invalid escape sequence '\\.'\n",
      "<string>:401: SyntaxWarning: invalid escape sequence '\\.'\n",
      "<string>:412: SyntaxWarning: invalid escape sequence '\\d'\n",
      "<string>:707: SyntaxWarning: invalid escape sequence '\\s'\n",
      "\n",
      "1it [00:01,  1.26s/it]\u001b[A"
     ]
    },
    {
     "name": "stdout",
     "output_type": "stream",
     "text": [
      "/home/grierjones/DDCASPT2/delta_ML/LiLi\n",
      "raddir /home/grierjones/DDCASPT2/delta_ML/LiLi/0.70\n",
      "/home/grierjones/DDCASPT2/delta_ML/LiLi/0.70\n"
     ]
    },
    {
     "name": "stderr",
     "output_type": "stream",
     "text": [
      "<string>:392: SyntaxWarning: invalid escape sequence '\\.'\n",
      "<string>:401: SyntaxWarning: invalid escape sequence '\\.'\n",
      "<string>:412: SyntaxWarning: invalid escape sequence '\\d'\n",
      "<string>:707: SyntaxWarning: invalid escape sequence '\\s'\n",
      "\n",
      "2it [00:02,  1.24s/it]\u001b[A"
     ]
    },
    {
     "name": "stdout",
     "output_type": "stream",
     "text": [
      "/home/grierjones/DDCASPT2/delta_ML/LiLi\n",
      "raddir /home/grierjones/DDCASPT2/delta_ML/LiLi/0.80\n",
      "/home/grierjones/DDCASPT2/delta_ML/LiLi/0.80\n"
     ]
    },
    {
     "name": "stderr",
     "output_type": "stream",
     "text": [
      "<string>:392: SyntaxWarning: invalid escape sequence '\\.'\n",
      "<string>:401: SyntaxWarning: invalid escape sequence '\\.'\n",
      "<string>:412: SyntaxWarning: invalid escape sequence '\\d'\n",
      "<string>:707: SyntaxWarning: invalid escape sequence '\\s'\n",
      "\n",
      "3it [00:03,  1.26s/it]\u001b[A"
     ]
    },
    {
     "name": "stdout",
     "output_type": "stream",
     "text": [
      "/home/grierjones/DDCASPT2/delta_ML/LiLi\n",
      "raddir /home/grierjones/DDCASPT2/delta_ML/LiLi/0.90\n",
      "/home/grierjones/DDCASPT2/delta_ML/LiLi/0.90\n"
     ]
    },
    {
     "name": "stderr",
     "output_type": "stream",
     "text": [
      "<string>:392: SyntaxWarning: invalid escape sequence '\\.'\n",
      "<string>:401: SyntaxWarning: invalid escape sequence '\\.'\n",
      "<string>:412: SyntaxWarning: invalid escape sequence '\\d'\n",
      "<string>:707: SyntaxWarning: invalid escape sequence '\\s'\n",
      "\n",
      "4it [00:05,  1.26s/it]\u001b[A"
     ]
    },
    {
     "name": "stdout",
     "output_type": "stream",
     "text": [
      "/home/grierjones/DDCASPT2/delta_ML/LiLi\n",
      "raddir /home/grierjones/DDCASPT2/delta_ML/LiLi/1.00\n",
      "/home/grierjones/DDCASPT2/delta_ML/LiLi/1.00\n"
     ]
    },
    {
     "name": "stderr",
     "output_type": "stream",
     "text": [
      "<string>:392: SyntaxWarning: invalid escape sequence '\\.'\n",
      "<string>:401: SyntaxWarning: invalid escape sequence '\\.'\n",
      "<string>:412: SyntaxWarning: invalid escape sequence '\\d'\n",
      "<string>:707: SyntaxWarning: invalid escape sequence '\\s'\n",
      "\n",
      "5it [00:06,  1.26s/it]\u001b[A"
     ]
    },
    {
     "name": "stdout",
     "output_type": "stream",
     "text": [
      "/home/grierjones/DDCASPT2/delta_ML/LiLi\n",
      "raddir /home/grierjones/DDCASPT2/delta_ML/LiLi/1.10\n",
      "/home/grierjones/DDCASPT2/delta_ML/LiLi/1.10\n"
     ]
    },
    {
     "name": "stderr",
     "output_type": "stream",
     "text": [
      "<string>:392: SyntaxWarning: invalid escape sequence '\\.'\n",
      "<string>:401: SyntaxWarning: invalid escape sequence '\\.'\n",
      "<string>:412: SyntaxWarning: invalid escape sequence '\\d'\n",
      "<string>:707: SyntaxWarning: invalid escape sequence '\\s'\n",
      "\n",
      "6it [00:07,  1.25s/it]\u001b[A"
     ]
    },
    {
     "name": "stdout",
     "output_type": "stream",
     "text": [
      "/home/grierjones/DDCASPT2/delta_ML/LiLi\n",
      "raddir /home/grierjones/DDCASPT2/delta_ML/LiLi/1.20\n",
      "/home/grierjones/DDCASPT2/delta_ML/LiLi/1.20\n"
     ]
    },
    {
     "name": "stderr",
     "output_type": "stream",
     "text": [
      "<string>:392: SyntaxWarning: invalid escape sequence '\\.'\n",
      "<string>:401: SyntaxWarning: invalid escape sequence '\\.'\n",
      "<string>:412: SyntaxWarning: invalid escape sequence '\\d'\n",
      "<string>:707: SyntaxWarning: invalid escape sequence '\\s'\n",
      "\n",
      "7it [00:08,  1.24s/it]\u001b[A"
     ]
    },
    {
     "name": "stdout",
     "output_type": "stream",
     "text": [
      "/home/grierjones/DDCASPT2/delta_ML/LiLi\n",
      "raddir /home/grierjones/DDCASPT2/delta_ML/LiLi/1.30\n",
      "/home/grierjones/DDCASPT2/delta_ML/LiLi/1.30\n"
     ]
    },
    {
     "name": "stderr",
     "output_type": "stream",
     "text": [
      "<string>:392: SyntaxWarning: invalid escape sequence '\\.'\n",
      "<string>:401: SyntaxWarning: invalid escape sequence '\\.'\n",
      "<string>:412: SyntaxWarning: invalid escape sequence '\\d'\n",
      "<string>:707: SyntaxWarning: invalid escape sequence '\\s'\n",
      "\n",
      "8it [00:09,  1.23s/it]\u001b[A"
     ]
    },
    {
     "name": "stdout",
     "output_type": "stream",
     "text": [
      "/home/grierjones/DDCASPT2/delta_ML/LiLi\n",
      "raddir /home/grierjones/DDCASPT2/delta_ML/LiLi/1.40\n",
      "/home/grierjones/DDCASPT2/delta_ML/LiLi/1.40\n"
     ]
    },
    {
     "name": "stderr",
     "output_type": "stream",
     "text": [
      "<string>:392: SyntaxWarning: invalid escape sequence '\\.'\n",
      "<string>:401: SyntaxWarning: invalid escape sequence '\\.'\n",
      "<string>:412: SyntaxWarning: invalid escape sequence '\\d'\n",
      "<string>:707: SyntaxWarning: invalid escape sequence '\\s'\n",
      "\n",
      "9it [00:11,  1.23s/it]\u001b[A"
     ]
    },
    {
     "name": "stdout",
     "output_type": "stream",
     "text": [
      "/home/grierjones/DDCASPT2/delta_ML/LiLi\n",
      "raddir /home/grierjones/DDCASPT2/delta_ML/LiLi/1.50\n",
      "/home/grierjones/DDCASPT2/delta_ML/LiLi/1.50\n"
     ]
    },
    {
     "name": "stderr",
     "output_type": "stream",
     "text": [
      "<string>:392: SyntaxWarning: invalid escape sequence '\\.'\n",
      "<string>:401: SyntaxWarning: invalid escape sequence '\\.'\n",
      "<string>:412: SyntaxWarning: invalid escape sequence '\\d'\n",
      "<string>:707: SyntaxWarning: invalid escape sequence '\\s'\n",
      "\n",
      "10it [00:12,  1.22s/it]\u001b[A"
     ]
    },
    {
     "name": "stdout",
     "output_type": "stream",
     "text": [
      "/home/grierjones/DDCASPT2/delta_ML/LiLi\n",
      "raddir /home/grierjones/DDCASPT2/delta_ML/LiLi/1.60\n",
      "/home/grierjones/DDCASPT2/delta_ML/LiLi/1.60\n"
     ]
    },
    {
     "name": "stderr",
     "output_type": "stream",
     "text": [
      "<string>:392: SyntaxWarning: invalid escape sequence '\\.'\n",
      "<string>:401: SyntaxWarning: invalid escape sequence '\\.'\n",
      "<string>:412: SyntaxWarning: invalid escape sequence '\\d'\n",
      "<string>:707: SyntaxWarning: invalid escape sequence '\\s'\n",
      "\n",
      "11it [00:13,  1.22s/it]\u001b[A"
     ]
    },
    {
     "name": "stdout",
     "output_type": "stream",
     "text": [
      "/home/grierjones/DDCASPT2/delta_ML/LiLi\n",
      "raddir /home/grierjones/DDCASPT2/delta_ML/LiLi/1.70\n",
      "/home/grierjones/DDCASPT2/delta_ML/LiLi/1.70\n"
     ]
    },
    {
     "name": "stderr",
     "output_type": "stream",
     "text": [
      "<string>:392: SyntaxWarning: invalid escape sequence '\\.'\n",
      "<string>:401: SyntaxWarning: invalid escape sequence '\\.'\n",
      "<string>:412: SyntaxWarning: invalid escape sequence '\\d'\n",
      "<string>:707: SyntaxWarning: invalid escape sequence '\\s'\n",
      "\n",
      "12it [00:14,  1.23s/it]\u001b[A"
     ]
    },
    {
     "name": "stdout",
     "output_type": "stream",
     "text": [
      "/home/grierjones/DDCASPT2/delta_ML/LiLi\n",
      "raddir /home/grierjones/DDCASPT2/delta_ML/LiLi/1.80\n",
      "/home/grierjones/DDCASPT2/delta_ML/LiLi/1.80\n"
     ]
    },
    {
     "name": "stderr",
     "output_type": "stream",
     "text": [
      "<string>:392: SyntaxWarning: invalid escape sequence '\\.'\n",
      "<string>:401: SyntaxWarning: invalid escape sequence '\\.'\n",
      "<string>:412: SyntaxWarning: invalid escape sequence '\\d'\n",
      "<string>:707: SyntaxWarning: invalid escape sequence '\\s'\n",
      "\n",
      "13it [00:16,  1.23s/it]\u001b[A"
     ]
    },
    {
     "name": "stdout",
     "output_type": "stream",
     "text": [
      "/home/grierjones/DDCASPT2/delta_ML/LiLi\n",
      "raddir /home/grierjones/DDCASPT2/delta_ML/LiLi/1.90\n",
      "/home/grierjones/DDCASPT2/delta_ML/LiLi/1.90\n"
     ]
    },
    {
     "name": "stderr",
     "output_type": "stream",
     "text": [
      "<string>:392: SyntaxWarning: invalid escape sequence '\\.'\n",
      "<string>:401: SyntaxWarning: invalid escape sequence '\\.'\n",
      "<string>:412: SyntaxWarning: invalid escape sequence '\\d'\n",
      "<string>:707: SyntaxWarning: invalid escape sequence '\\s'\n",
      "\n",
      "14it [00:17,  1.23s/it]\u001b[A"
     ]
    },
    {
     "name": "stdout",
     "output_type": "stream",
     "text": [
      "/home/grierjones/DDCASPT2/delta_ML/LiLi\n",
      "raddir /home/grierjones/DDCASPT2/delta_ML/LiLi/2.00\n",
      "/home/grierjones/DDCASPT2/delta_ML/LiLi/2.00\n"
     ]
    },
    {
     "name": "stderr",
     "output_type": "stream",
     "text": [
      "<string>:392: SyntaxWarning: invalid escape sequence '\\.'\n",
      "<string>:401: SyntaxWarning: invalid escape sequence '\\.'\n",
      "<string>:412: SyntaxWarning: invalid escape sequence '\\d'\n",
      "<string>:707: SyntaxWarning: invalid escape sequence '\\s'\n",
      "\n",
      "15it [00:18,  1.24s/it]\u001b[A"
     ]
    },
    {
     "name": "stdout",
     "output_type": "stream",
     "text": [
      "/home/grierjones/DDCASPT2/delta_ML/LiLi\n",
      "raddir /home/grierjones/DDCASPT2/delta_ML/LiLi/2.10\n",
      "/home/grierjones/DDCASPT2/delta_ML/LiLi/2.10\n"
     ]
    },
    {
     "name": "stderr",
     "output_type": "stream",
     "text": [
      "<string>:392: SyntaxWarning: invalid escape sequence '\\.'\n",
      "<string>:401: SyntaxWarning: invalid escape sequence '\\.'\n",
      "<string>:412: SyntaxWarning: invalid escape sequence '\\d'\n",
      "<string>:707: SyntaxWarning: invalid escape sequence '\\s'\n",
      "\n",
      "16it [00:19,  1.25s/it]\u001b[A"
     ]
    },
    {
     "name": "stdout",
     "output_type": "stream",
     "text": [
      "/home/grierjones/DDCASPT2/delta_ML/LiLi\n",
      "raddir /home/grierjones/DDCASPT2/delta_ML/LiLi/2.20\n",
      "/home/grierjones/DDCASPT2/delta_ML/LiLi/2.20\n"
     ]
    },
    {
     "name": "stderr",
     "output_type": "stream",
     "text": [
      "<string>:392: SyntaxWarning: invalid escape sequence '\\.'\n",
      "<string>:401: SyntaxWarning: invalid escape sequence '\\.'\n",
      "<string>:412: SyntaxWarning: invalid escape sequence '\\d'\n",
      "<string>:707: SyntaxWarning: invalid escape sequence '\\s'\n",
      "\n",
      "17it [00:21,  1.26s/it]\u001b[A"
     ]
    },
    {
     "name": "stdout",
     "output_type": "stream",
     "text": [
      "/home/grierjones/DDCASPT2/delta_ML/LiLi\n",
      "raddir /home/grierjones/DDCASPT2/delta_ML/LiLi/2.30\n",
      "/home/grierjones/DDCASPT2/delta_ML/LiLi/2.30\n"
     ]
    },
    {
     "name": "stderr",
     "output_type": "stream",
     "text": [
      "<string>:392: SyntaxWarning: invalid escape sequence '\\.'\n",
      "<string>:401: SyntaxWarning: invalid escape sequence '\\.'\n",
      "<string>:412: SyntaxWarning: invalid escape sequence '\\d'\n",
      "<string>:707: SyntaxWarning: invalid escape sequence '\\s'\n",
      "\n",
      "18it [00:22,  1.26s/it]\u001b[A"
     ]
    },
    {
     "name": "stdout",
     "output_type": "stream",
     "text": [
      "/home/grierjones/DDCASPT2/delta_ML/LiLi\n",
      "raddir /home/grierjones/DDCASPT2/delta_ML/LiLi/2.40\n",
      "/home/grierjones/DDCASPT2/delta_ML/LiLi/2.40\n"
     ]
    },
    {
     "name": "stderr",
     "output_type": "stream",
     "text": [
      "<string>:392: SyntaxWarning: invalid escape sequence '\\.'\n",
      "<string>:401: SyntaxWarning: invalid escape sequence '\\.'\n",
      "<string>:412: SyntaxWarning: invalid escape sequence '\\d'\n",
      "<string>:707: SyntaxWarning: invalid escape sequence '\\s'\n",
      "\n",
      "19it [00:23,  1.25s/it]\u001b[A"
     ]
    },
    {
     "name": "stdout",
     "output_type": "stream",
     "text": [
      "/home/grierjones/DDCASPT2/delta_ML/LiLi\n",
      "raddir /home/grierjones/DDCASPT2/delta_ML/LiLi/2.50\n",
      "/home/grierjones/DDCASPT2/delta_ML/LiLi/2.50\n"
     ]
    },
    {
     "name": "stderr",
     "output_type": "stream",
     "text": [
      "<string>:392: SyntaxWarning: invalid escape sequence '\\.'\n",
      "<string>:401: SyntaxWarning: invalid escape sequence '\\.'\n",
      "<string>:412: SyntaxWarning: invalid escape sequence '\\d'\n",
      "<string>:707: SyntaxWarning: invalid escape sequence '\\s'\n",
      "\n",
      "20it [00:24,  1.25s/it]\u001b[A"
     ]
    },
    {
     "name": "stdout",
     "output_type": "stream",
     "text": [
      "/home/grierjones/DDCASPT2/delta_ML/LiLi\n",
      "raddir /home/grierjones/DDCASPT2/delta_ML/LiLi/2.60\n",
      "/home/grierjones/DDCASPT2/delta_ML/LiLi/2.60\n"
     ]
    },
    {
     "name": "stderr",
     "output_type": "stream",
     "text": [
      "<string>:392: SyntaxWarning: invalid escape sequence '\\.'\n",
      "<string>:401: SyntaxWarning: invalid escape sequence '\\.'\n",
      "<string>:412: SyntaxWarning: invalid escape sequence '\\d'\n",
      "<string>:707: SyntaxWarning: invalid escape sequence '\\s'\n",
      "\n",
      "21it [00:26,  1.24s/it]\u001b[A"
     ]
    },
    {
     "name": "stdout",
     "output_type": "stream",
     "text": [
      "/home/grierjones/DDCASPT2/delta_ML/LiLi\n",
      "raddir /home/grierjones/DDCASPT2/delta_ML/LiLi/2.70\n",
      "/home/grierjones/DDCASPT2/delta_ML/LiLi/2.70\n"
     ]
    },
    {
     "name": "stderr",
     "output_type": "stream",
     "text": [
      "<string>:392: SyntaxWarning: invalid escape sequence '\\.'\n",
      "<string>:401: SyntaxWarning: invalid escape sequence '\\.'\n",
      "<string>:412: SyntaxWarning: invalid escape sequence '\\d'\n",
      "<string>:707: SyntaxWarning: invalid escape sequence '\\s'\n",
      "\n",
      "22it [00:27,  1.23s/it]\u001b[A"
     ]
    },
    {
     "name": "stdout",
     "output_type": "stream",
     "text": [
      "/home/grierjones/DDCASPT2/delta_ML/LiLi\n",
      "raddir /home/grierjones/DDCASPT2/delta_ML/LiLi/2.80\n",
      "/home/grierjones/DDCASPT2/delta_ML/LiLi/2.80\n"
     ]
    },
    {
     "name": "stderr",
     "output_type": "stream",
     "text": [
      "<string>:392: SyntaxWarning: invalid escape sequence '\\.'\n",
      "<string>:401: SyntaxWarning: invalid escape sequence '\\.'\n",
      "<string>:412: SyntaxWarning: invalid escape sequence '\\d'\n",
      "<string>:707: SyntaxWarning: invalid escape sequence '\\s'\n",
      "\n",
      "23it [00:28,  1.24s/it]\u001b[A\n",
      " 86%|█████████████████████████████████████████████████████████████████████████████████████████████████████████████████████████████████████████████████████▊                        | 31/36 [15:37<02:24, 28.81s/it]"
     ]
    },
    {
     "name": "stdout",
     "output_type": "stream",
     "text": [
      "/home/grierjones/DDCASPT2/delta_ML/LiLi\n",
      "/home/grierjones/DDCASPT2/delta_ML/LiLi\n"
     ]
    },
    {
     "name": "stderr",
     "output_type": "stream",
     "text": [
      "\n",
      "0it [00:00, ?it/s]\u001b[A"
     ]
    },
    {
     "name": "stdout",
     "output_type": "stream",
     "text": [
      "raddir /home/grierjones/DDCASPT2/delta_ML/LiN/0.60\n",
      "/home/grierjones/DDCASPT2/delta_ML/LiN/0.60\n"
     ]
    },
    {
     "name": "stderr",
     "output_type": "stream",
     "text": [
      "<string>:392: SyntaxWarning: invalid escape sequence '\\.'\n",
      "<string>:401: SyntaxWarning: invalid escape sequence '\\.'\n",
      "<string>:412: SyntaxWarning: invalid escape sequence '\\d'\n",
      "<string>:707: SyntaxWarning: invalid escape sequence '\\s'\n",
      "\n",
      "1it [00:01,  1.24s/it]\u001b[A"
     ]
    },
    {
     "name": "stdout",
     "output_type": "stream",
     "text": [
      "/home/grierjones/DDCASPT2/delta_ML/LiN\n",
      "raddir /home/grierjones/DDCASPT2/delta_ML/LiN/0.70\n",
      "/home/grierjones/DDCASPT2/delta_ML/LiN/0.70\n"
     ]
    },
    {
     "name": "stderr",
     "output_type": "stream",
     "text": [
      "<string>:392: SyntaxWarning: invalid escape sequence '\\.'\n",
      "<string>:401: SyntaxWarning: invalid escape sequence '\\.'\n",
      "<string>:412: SyntaxWarning: invalid escape sequence '\\d'\n",
      "<string>:707: SyntaxWarning: invalid escape sequence '\\s'\n",
      "\n",
      "2it [00:02,  1.26s/it]\u001b[A"
     ]
    },
    {
     "name": "stdout",
     "output_type": "stream",
     "text": [
      "/home/grierjones/DDCASPT2/delta_ML/LiN\n",
      "raddir /home/grierjones/DDCASPT2/delta_ML/LiN/0.80\n",
      "/home/grierjones/DDCASPT2/delta_ML/LiN/0.80\n"
     ]
    },
    {
     "name": "stderr",
     "output_type": "stream",
     "text": [
      "<string>:392: SyntaxWarning: invalid escape sequence '\\.'\n",
      "<string>:401: SyntaxWarning: invalid escape sequence '\\.'\n",
      "<string>:412: SyntaxWarning: invalid escape sequence '\\d'\n",
      "<string>:707: SyntaxWarning: invalid escape sequence '\\s'\n",
      "\n",
      "3it [00:03,  1.25s/it]\u001b[A"
     ]
    },
    {
     "name": "stdout",
     "output_type": "stream",
     "text": [
      "/home/grierjones/DDCASPT2/delta_ML/LiN\n",
      "raddir /home/grierjones/DDCASPT2/delta_ML/LiN/0.90\n",
      "/home/grierjones/DDCASPT2/delta_ML/LiN/0.90\n"
     ]
    },
    {
     "name": "stderr",
     "output_type": "stream",
     "text": [
      "<string>:392: SyntaxWarning: invalid escape sequence '\\.'\n",
      "<string>:401: SyntaxWarning: invalid escape sequence '\\.'\n",
      "<string>:412: SyntaxWarning: invalid escape sequence '\\d'\n",
      "<string>:707: SyntaxWarning: invalid escape sequence '\\s'\n",
      "\n",
      "4it [00:05,  1.25s/it]\u001b[A"
     ]
    },
    {
     "name": "stdout",
     "output_type": "stream",
     "text": [
      "/home/grierjones/DDCASPT2/delta_ML/LiN\n",
      "raddir /home/grierjones/DDCASPT2/delta_ML/LiN/1.00\n",
      "/home/grierjones/DDCASPT2/delta_ML/LiN/1.00\n"
     ]
    },
    {
     "name": "stderr",
     "output_type": "stream",
     "text": [
      "<string>:392: SyntaxWarning: invalid escape sequence '\\.'\n",
      "<string>:401: SyntaxWarning: invalid escape sequence '\\.'\n",
      "<string>:412: SyntaxWarning: invalid escape sequence '\\d'\n",
      "<string>:707: SyntaxWarning: invalid escape sequence '\\s'\n",
      "\n",
      "5it [00:06,  1.25s/it]\u001b[A"
     ]
    },
    {
     "name": "stdout",
     "output_type": "stream",
     "text": [
      "/home/grierjones/DDCASPT2/delta_ML/LiN\n",
      "raddir /home/grierjones/DDCASPT2/delta_ML/LiN/1.10\n",
      "/home/grierjones/DDCASPT2/delta_ML/LiN/1.10\n"
     ]
    },
    {
     "name": "stderr",
     "output_type": "stream",
     "text": [
      "<string>:392: SyntaxWarning: invalid escape sequence '\\.'\n",
      "<string>:401: SyntaxWarning: invalid escape sequence '\\.'\n",
      "<string>:412: SyntaxWarning: invalid escape sequence '\\d'\n",
      "<string>:707: SyntaxWarning: invalid escape sequence '\\s'\n",
      "\n",
      "6it [00:07,  1.25s/it]\u001b[A"
     ]
    },
    {
     "name": "stdout",
     "output_type": "stream",
     "text": [
      "/home/grierjones/DDCASPT2/delta_ML/LiN\n",
      "raddir /home/grierjones/DDCASPT2/delta_ML/LiN/1.20\n",
      "/home/grierjones/DDCASPT2/delta_ML/LiN/1.20\n"
     ]
    },
    {
     "name": "stderr",
     "output_type": "stream",
     "text": [
      "<string>:392: SyntaxWarning: invalid escape sequence '\\.'\n",
      "<string>:401: SyntaxWarning: invalid escape sequence '\\.'\n",
      "<string>:412: SyntaxWarning: invalid escape sequence '\\d'\n",
      "<string>:707: SyntaxWarning: invalid escape sequence '\\s'\n",
      "\n",
      "7it [00:08,  1.25s/it]\u001b[A"
     ]
    },
    {
     "name": "stdout",
     "output_type": "stream",
     "text": [
      "/home/grierjones/DDCASPT2/delta_ML/LiN\n",
      "raddir /home/grierjones/DDCASPT2/delta_ML/LiN/1.30\n",
      "/home/grierjones/DDCASPT2/delta_ML/LiN/1.30\n"
     ]
    },
    {
     "name": "stderr",
     "output_type": "stream",
     "text": [
      "<string>:392: SyntaxWarning: invalid escape sequence '\\.'\n",
      "<string>:401: SyntaxWarning: invalid escape sequence '\\.'\n",
      "<string>:412: SyntaxWarning: invalid escape sequence '\\d'\n",
      "<string>:707: SyntaxWarning: invalid escape sequence '\\s'\n",
      "\n",
      "8it [00:10,  1.25s/it]\u001b[A"
     ]
    },
    {
     "name": "stdout",
     "output_type": "stream",
     "text": [
      "/home/grierjones/DDCASPT2/delta_ML/LiN\n",
      "raddir /home/grierjones/DDCASPT2/delta_ML/LiN/1.40\n",
      "/home/grierjones/DDCASPT2/delta_ML/LiN/1.40\n"
     ]
    },
    {
     "name": "stderr",
     "output_type": "stream",
     "text": [
      "<string>:392: SyntaxWarning: invalid escape sequence '\\.'\n",
      "<string>:401: SyntaxWarning: invalid escape sequence '\\.'\n",
      "<string>:412: SyntaxWarning: invalid escape sequence '\\d'\n",
      "<string>:707: SyntaxWarning: invalid escape sequence '\\s'\n",
      "\n",
      "9it [00:11,  1.25s/it]\u001b[A"
     ]
    },
    {
     "name": "stdout",
     "output_type": "stream",
     "text": [
      "/home/grierjones/DDCASPT2/delta_ML/LiN\n",
      "raddir /home/grierjones/DDCASPT2/delta_ML/LiN/1.50\n",
      "/home/grierjones/DDCASPT2/delta_ML/LiN/1.50\n"
     ]
    },
    {
     "name": "stderr",
     "output_type": "stream",
     "text": [
      "<string>:392: SyntaxWarning: invalid escape sequence '\\.'\n",
      "<string>:401: SyntaxWarning: invalid escape sequence '\\.'\n",
      "<string>:412: SyntaxWarning: invalid escape sequence '\\d'\n",
      "<string>:707: SyntaxWarning: invalid escape sequence '\\s'\n",
      "\n",
      "10it [00:12,  1.24s/it]\u001b[A"
     ]
    },
    {
     "name": "stdout",
     "output_type": "stream",
     "text": [
      "/home/grierjones/DDCASPT2/delta_ML/LiN\n",
      "raddir /home/grierjones/DDCASPT2/delta_ML/LiN/1.60\n",
      "/home/grierjones/DDCASPT2/delta_ML/LiN/1.60\n"
     ]
    },
    {
     "name": "stderr",
     "output_type": "stream",
     "text": [
      "<string>:392: SyntaxWarning: invalid escape sequence '\\.'\n",
      "<string>:401: SyntaxWarning: invalid escape sequence '\\.'\n",
      "<string>:412: SyntaxWarning: invalid escape sequence '\\d'\n",
      "<string>:707: SyntaxWarning: invalid escape sequence '\\s'\n",
      "\n",
      "11it [00:13,  1.25s/it]\u001b[A"
     ]
    },
    {
     "name": "stdout",
     "output_type": "stream",
     "text": [
      "/home/grierjones/DDCASPT2/delta_ML/LiN\n",
      "raddir /home/grierjones/DDCASPT2/delta_ML/LiN/1.70\n",
      "/home/grierjones/DDCASPT2/delta_ML/LiN/1.70\n"
     ]
    },
    {
     "name": "stderr",
     "output_type": "stream",
     "text": [
      "<string>:392: SyntaxWarning: invalid escape sequence '\\.'\n",
      "<string>:401: SyntaxWarning: invalid escape sequence '\\.'\n",
      "<string>:412: SyntaxWarning: invalid escape sequence '\\d'\n",
      "<string>:707: SyntaxWarning: invalid escape sequence '\\s'\n",
      "\n",
      "12it [00:14,  1.25s/it]\u001b[A"
     ]
    },
    {
     "name": "stdout",
     "output_type": "stream",
     "text": [
      "/home/grierjones/DDCASPT2/delta_ML/LiN\n",
      "raddir /home/grierjones/DDCASPT2/delta_ML/LiN/1.80\n",
      "/home/grierjones/DDCASPT2/delta_ML/LiN/1.80\n"
     ]
    },
    {
     "name": "stderr",
     "output_type": "stream",
     "text": [
      "<string>:392: SyntaxWarning: invalid escape sequence '\\.'\n",
      "<string>:401: SyntaxWarning: invalid escape sequence '\\.'\n",
      "<string>:412: SyntaxWarning: invalid escape sequence '\\d'\n",
      "<string>:707: SyntaxWarning: invalid escape sequence '\\s'\n",
      "\n",
      "13it [00:16,  1.25s/it]\u001b[A"
     ]
    },
    {
     "name": "stdout",
     "output_type": "stream",
     "text": [
      "/home/grierjones/DDCASPT2/delta_ML/LiN\n",
      "raddir /home/grierjones/DDCASPT2/delta_ML/LiN/1.90\n",
      "/home/grierjones/DDCASPT2/delta_ML/LiN/1.90\n"
     ]
    },
    {
     "name": "stderr",
     "output_type": "stream",
     "text": [
      "<string>:392: SyntaxWarning: invalid escape sequence '\\.'\n",
      "<string>:401: SyntaxWarning: invalid escape sequence '\\.'\n",
      "<string>:412: SyntaxWarning: invalid escape sequence '\\d'\n",
      "<string>:707: SyntaxWarning: invalid escape sequence '\\s'\n",
      "\n",
      "14it [00:17,  1.26s/it]\u001b[A"
     ]
    },
    {
     "name": "stdout",
     "output_type": "stream",
     "text": [
      "/home/grierjones/DDCASPT2/delta_ML/LiN\n",
      "raddir /home/grierjones/DDCASPT2/delta_ML/LiN/2.00\n",
      "/home/grierjones/DDCASPT2/delta_ML/LiN/2.00\n"
     ]
    },
    {
     "name": "stderr",
     "output_type": "stream",
     "text": [
      "<string>:392: SyntaxWarning: invalid escape sequence '\\.'\n",
      "<string>:401: SyntaxWarning: invalid escape sequence '\\.'\n",
      "<string>:412: SyntaxWarning: invalid escape sequence '\\d'\n",
      "<string>:707: SyntaxWarning: invalid escape sequence '\\s'\n",
      "\n",
      "15it [00:18,  1.26s/it]\u001b[A"
     ]
    },
    {
     "name": "stdout",
     "output_type": "stream",
     "text": [
      "/home/grierjones/DDCASPT2/delta_ML/LiN\n",
      "raddir /home/grierjones/DDCASPT2/delta_ML/LiN/2.10\n",
      "/home/grierjones/DDCASPT2/delta_ML/LiN/2.10\n"
     ]
    },
    {
     "name": "stderr",
     "output_type": "stream",
     "text": [
      "<string>:392: SyntaxWarning: invalid escape sequence '\\.'\n",
      "<string>:401: SyntaxWarning: invalid escape sequence '\\.'\n",
      "<string>:412: SyntaxWarning: invalid escape sequence '\\d'\n",
      "<string>:707: SyntaxWarning: invalid escape sequence '\\s'\n",
      "\n",
      "16it [00:20,  1.26s/it]\u001b[A"
     ]
    },
    {
     "name": "stdout",
     "output_type": "stream",
     "text": [
      "/home/grierjones/DDCASPT2/delta_ML/LiN\n",
      "raddir /home/grierjones/DDCASPT2/delta_ML/LiN/2.20\n",
      "/home/grierjones/DDCASPT2/delta_ML/LiN/2.20\n"
     ]
    },
    {
     "name": "stderr",
     "output_type": "stream",
     "text": [
      "<string>:392: SyntaxWarning: invalid escape sequence '\\.'\n",
      "<string>:401: SyntaxWarning: invalid escape sequence '\\.'\n",
      "<string>:412: SyntaxWarning: invalid escape sequence '\\d'\n",
      "<string>:707: SyntaxWarning: invalid escape sequence '\\s'\n",
      "\n",
      "17it [00:21,  1.27s/it]\u001b[A"
     ]
    },
    {
     "name": "stdout",
     "output_type": "stream",
     "text": [
      "/home/grierjones/DDCASPT2/delta_ML/LiN\n",
      "raddir /home/grierjones/DDCASPT2/delta_ML/LiN/2.30\n",
      "/home/grierjones/DDCASPT2/delta_ML/LiN/2.30\n"
     ]
    },
    {
     "name": "stderr",
     "output_type": "stream",
     "text": [
      "<string>:392: SyntaxWarning: invalid escape sequence '\\.'\n",
      "<string>:401: SyntaxWarning: invalid escape sequence '\\.'\n",
      "<string>:412: SyntaxWarning: invalid escape sequence '\\d'\n",
      "<string>:707: SyntaxWarning: invalid escape sequence '\\s'\n",
      "\n",
      "18it [00:22,  1.27s/it]\u001b[A"
     ]
    },
    {
     "name": "stdout",
     "output_type": "stream",
     "text": [
      "/home/grierjones/DDCASPT2/delta_ML/LiN\n",
      "raddir /home/grierjones/DDCASPT2/delta_ML/LiN/2.40\n",
      "/home/grierjones/DDCASPT2/delta_ML/LiN/2.40\n"
     ]
    },
    {
     "name": "stderr",
     "output_type": "stream",
     "text": [
      "<string>:392: SyntaxWarning: invalid escape sequence '\\.'\n",
      "<string>:401: SyntaxWarning: invalid escape sequence '\\.'\n",
      "<string>:412: SyntaxWarning: invalid escape sequence '\\d'\n",
      "<string>:707: SyntaxWarning: invalid escape sequence '\\s'\n",
      "\n",
      "19it [00:23,  1.28s/it]\u001b[A"
     ]
    },
    {
     "name": "stdout",
     "output_type": "stream",
     "text": [
      "/home/grierjones/DDCASPT2/delta_ML/LiN\n",
      "raddir /home/grierjones/DDCASPT2/delta_ML/LiN/2.50\n",
      "/home/grierjones/DDCASPT2/delta_ML/LiN/2.50\n"
     ]
    },
    {
     "name": "stderr",
     "output_type": "stream",
     "text": [
      "<string>:392: SyntaxWarning: invalid escape sequence '\\.'\n",
      "<string>:401: SyntaxWarning: invalid escape sequence '\\.'\n",
      "<string>:412: SyntaxWarning: invalid escape sequence '\\d'\n",
      "<string>:707: SyntaxWarning: invalid escape sequence '\\s'\n",
      "\n",
      "20it [00:25,  1.28s/it]\u001b[A"
     ]
    },
    {
     "name": "stdout",
     "output_type": "stream",
     "text": [
      "/home/grierjones/DDCASPT2/delta_ML/LiN\n",
      "raddir /home/grierjones/DDCASPT2/delta_ML/LiN/2.60\n",
      "/home/grierjones/DDCASPT2/delta_ML/LiN/2.60\n"
     ]
    },
    {
     "name": "stderr",
     "output_type": "stream",
     "text": [
      "<string>:392: SyntaxWarning: invalid escape sequence '\\.'\n",
      "<string>:401: SyntaxWarning: invalid escape sequence '\\.'\n",
      "<string>:412: SyntaxWarning: invalid escape sequence '\\d'\n",
      "<string>:707: SyntaxWarning: invalid escape sequence '\\s'\n",
      "\n",
      "21it [00:26,  1.27s/it]\u001b[A"
     ]
    },
    {
     "name": "stdout",
     "output_type": "stream",
     "text": [
      "/home/grierjones/DDCASPT2/delta_ML/LiN\n",
      "raddir /home/grierjones/DDCASPT2/delta_ML/LiN/2.70\n",
      "/home/grierjones/DDCASPT2/delta_ML/LiN/2.70\n"
     ]
    },
    {
     "name": "stderr",
     "output_type": "stream",
     "text": [
      "<string>:392: SyntaxWarning: invalid escape sequence '\\.'\n",
      "<string>:401: SyntaxWarning: invalid escape sequence '\\.'\n",
      "<string>:412: SyntaxWarning: invalid escape sequence '\\d'\n",
      "<string>:707: SyntaxWarning: invalid escape sequence '\\s'\n",
      "\n",
      "22it [00:27,  1.27s/it]\u001b[A"
     ]
    },
    {
     "name": "stdout",
     "output_type": "stream",
     "text": [
      "/home/grierjones/DDCASPT2/delta_ML/LiN\n",
      "raddir /home/grierjones/DDCASPT2/delta_ML/LiN/2.80\n",
      "/home/grierjones/DDCASPT2/delta_ML/LiN/2.80\n"
     ]
    },
    {
     "name": "stderr",
     "output_type": "stream",
     "text": [
      "<string>:392: SyntaxWarning: invalid escape sequence '\\.'\n",
      "<string>:401: SyntaxWarning: invalid escape sequence '\\.'\n",
      "<string>:412: SyntaxWarning: invalid escape sequence '\\d'\n",
      "<string>:707: SyntaxWarning: invalid escape sequence '\\s'\n",
      "\n",
      "23it [00:28,  1.26s/it]\u001b[A\n",
      " 89%|██████████████████████████████████████████████████████████████████████████████████████████████████████████████████████████████████████████████████████████▋                   | 32/36 [16:06<01:55, 28.86s/it]"
     ]
    },
    {
     "name": "stdout",
     "output_type": "stream",
     "text": [
      "/home/grierjones/DDCASPT2/delta_ML/LiN\n",
      "/home/grierjones/DDCASPT2/delta_ML/LiN\n"
     ]
    },
    {
     "name": "stderr",
     "output_type": "stream",
     "text": [
      "\n",
      "0it [00:00, ?it/s]\u001b[A"
     ]
    },
    {
     "name": "stdout",
     "output_type": "stream",
     "text": [
      "raddir /home/grierjones/DDCASPT2/delta_ML/LiO/0.60\n",
      "/home/grierjones/DDCASPT2/delta_ML/LiO/0.60\n"
     ]
    },
    {
     "name": "stderr",
     "output_type": "stream",
     "text": [
      "<string>:392: SyntaxWarning: invalid escape sequence '\\.'\n",
      "<string>:401: SyntaxWarning: invalid escape sequence '\\.'\n",
      "<string>:412: SyntaxWarning: invalid escape sequence '\\d'\n",
      "<string>:707: SyntaxWarning: invalid escape sequence '\\s'\n",
      "\n",
      "1it [00:01,  1.29s/it]\u001b[A"
     ]
    },
    {
     "name": "stdout",
     "output_type": "stream",
     "text": [
      "/home/grierjones/DDCASPT2/delta_ML/LiO\n",
      "raddir /home/grierjones/DDCASPT2/delta_ML/LiO/0.70\n",
      "/home/grierjones/DDCASPT2/delta_ML/LiO/0.70\n"
     ]
    },
    {
     "name": "stderr",
     "output_type": "stream",
     "text": [
      "<string>:392: SyntaxWarning: invalid escape sequence '\\.'\n",
      "<string>:401: SyntaxWarning: invalid escape sequence '\\.'\n",
      "<string>:412: SyntaxWarning: invalid escape sequence '\\d'\n",
      "<string>:707: SyntaxWarning: invalid escape sequence '\\s'\n",
      "\n",
      "2it [00:02,  1.34s/it]\u001b[A"
     ]
    },
    {
     "name": "stdout",
     "output_type": "stream",
     "text": [
      "/home/grierjones/DDCASPT2/delta_ML/LiO\n",
      "raddir /home/grierjones/DDCASPT2/delta_ML/LiO/0.80\n",
      "/home/grierjones/DDCASPT2/delta_ML/LiO/0.80\n"
     ]
    },
    {
     "name": "stderr",
     "output_type": "stream",
     "text": [
      "<string>:392: SyntaxWarning: invalid escape sequence '\\.'\n",
      "<string>:401: SyntaxWarning: invalid escape sequence '\\.'\n",
      "<string>:412: SyntaxWarning: invalid escape sequence '\\d'\n",
      "<string>:707: SyntaxWarning: invalid escape sequence '\\s'\n",
      "\n",
      "3it [00:04,  1.42s/it]\u001b[A"
     ]
    },
    {
     "name": "stdout",
     "output_type": "stream",
     "text": [
      "/home/grierjones/DDCASPT2/delta_ML/LiO\n",
      "raddir /home/grierjones/DDCASPT2/delta_ML/LiO/0.90\n",
      "/home/grierjones/DDCASPT2/delta_ML/LiO/0.90\n"
     ]
    },
    {
     "name": "stderr",
     "output_type": "stream",
     "text": [
      "<string>:392: SyntaxWarning: invalid escape sequence '\\.'\n",
      "<string>:401: SyntaxWarning: invalid escape sequence '\\.'\n",
      "<string>:412: SyntaxWarning: invalid escape sequence '\\d'\n",
      "<string>:707: SyntaxWarning: invalid escape sequence '\\s'\n",
      "\n",
      "4it [00:05,  1.42s/it]\u001b[A"
     ]
    },
    {
     "name": "stdout",
     "output_type": "stream",
     "text": [
      "/home/grierjones/DDCASPT2/delta_ML/LiO\n",
      "raddir /home/grierjones/DDCASPT2/delta_ML/LiO/1.00\n",
      "/home/grierjones/DDCASPT2/delta_ML/LiO/1.00\n"
     ]
    },
    {
     "name": "stderr",
     "output_type": "stream",
     "text": [
      "<string>:392: SyntaxWarning: invalid escape sequence '\\.'\n",
      "<string>:401: SyntaxWarning: invalid escape sequence '\\.'\n",
      "<string>:412: SyntaxWarning: invalid escape sequence '\\d'\n",
      "<string>:707: SyntaxWarning: invalid escape sequence '\\s'\n",
      "\n",
      "5it [00:06,  1.38s/it]\u001b[A"
     ]
    },
    {
     "name": "stdout",
     "output_type": "stream",
     "text": [
      "/home/grierjones/DDCASPT2/delta_ML/LiO\n",
      "raddir /home/grierjones/DDCASPT2/delta_ML/LiO/1.10\n",
      "/home/grierjones/DDCASPT2/delta_ML/LiO/1.10\n"
     ]
    },
    {
     "name": "stderr",
     "output_type": "stream",
     "text": [
      "<string>:392: SyntaxWarning: invalid escape sequence '\\.'\n",
      "<string>:401: SyntaxWarning: invalid escape sequence '\\.'\n",
      "<string>:412: SyntaxWarning: invalid escape sequence '\\d'\n",
      "<string>:707: SyntaxWarning: invalid escape sequence '\\s'\n",
      "\n",
      "6it [00:08,  1.36s/it]\u001b[A"
     ]
    },
    {
     "name": "stdout",
     "output_type": "stream",
     "text": [
      "/home/grierjones/DDCASPT2/delta_ML/LiO\n",
      "raddir /home/grierjones/DDCASPT2/delta_ML/LiO/1.20\n",
      "/home/grierjones/DDCASPT2/delta_ML/LiO/1.20\n"
     ]
    },
    {
     "name": "stderr",
     "output_type": "stream",
     "text": [
      "<string>:392: SyntaxWarning: invalid escape sequence '\\.'\n",
      "<string>:401: SyntaxWarning: invalid escape sequence '\\.'\n",
      "<string>:412: SyntaxWarning: invalid escape sequence '\\d'\n",
      "<string>:707: SyntaxWarning: invalid escape sequence '\\s'\n",
      "\n",
      "7it [00:09,  1.35s/it]\u001b[A"
     ]
    },
    {
     "name": "stdout",
     "output_type": "stream",
     "text": [
      "/home/grierjones/DDCASPT2/delta_ML/LiO\n",
      "raddir /home/grierjones/DDCASPT2/delta_ML/LiO/1.30\n",
      "/home/grierjones/DDCASPT2/delta_ML/LiO/1.30\n"
     ]
    },
    {
     "name": "stderr",
     "output_type": "stream",
     "text": [
      "<string>:392: SyntaxWarning: invalid escape sequence '\\.'\n",
      "<string>:401: SyntaxWarning: invalid escape sequence '\\.'\n",
      "<string>:412: SyntaxWarning: invalid escape sequence '\\d'\n",
      "<string>:707: SyntaxWarning: invalid escape sequence '\\s'\n",
      "\n",
      "8it [00:10,  1.34s/it]\u001b[A"
     ]
    },
    {
     "name": "stdout",
     "output_type": "stream",
     "text": [
      "/home/grierjones/DDCASPT2/delta_ML/LiO\n",
      "raddir /home/grierjones/DDCASPT2/delta_ML/LiO/1.40\n",
      "/home/grierjones/DDCASPT2/delta_ML/LiO/1.40\n"
     ]
    },
    {
     "name": "stderr",
     "output_type": "stream",
     "text": [
      "<string>:392: SyntaxWarning: invalid escape sequence '\\.'\n",
      "<string>:401: SyntaxWarning: invalid escape sequence '\\.'\n",
      "<string>:412: SyntaxWarning: invalid escape sequence '\\d'\n",
      "<string>:707: SyntaxWarning: invalid escape sequence '\\s'\n",
      "\n",
      "9it [00:12,  1.33s/it]\u001b[A"
     ]
    },
    {
     "name": "stdout",
     "output_type": "stream",
     "text": [
      "/home/grierjones/DDCASPT2/delta_ML/LiO\n",
      "raddir /home/grierjones/DDCASPT2/delta_ML/LiO/1.50\n",
      "/home/grierjones/DDCASPT2/delta_ML/LiO/1.50\n"
     ]
    },
    {
     "name": "stderr",
     "output_type": "stream",
     "text": [
      "<string>:392: SyntaxWarning: invalid escape sequence '\\.'\n",
      "<string>:401: SyntaxWarning: invalid escape sequence '\\.'\n",
      "<string>:412: SyntaxWarning: invalid escape sequence '\\d'\n",
      "<string>:707: SyntaxWarning: invalid escape sequence '\\s'\n",
      "\n",
      "10it [00:13,  1.33s/it]\u001b[A"
     ]
    },
    {
     "name": "stdout",
     "output_type": "stream",
     "text": [
      "/home/grierjones/DDCASPT2/delta_ML/LiO\n",
      "raddir /home/grierjones/DDCASPT2/delta_ML/LiO/1.60\n",
      "/home/grierjones/DDCASPT2/delta_ML/LiO/1.60\n"
     ]
    },
    {
     "name": "stderr",
     "output_type": "stream",
     "text": [
      "<string>:392: SyntaxWarning: invalid escape sequence '\\.'\n",
      "<string>:401: SyntaxWarning: invalid escape sequence '\\.'\n",
      "<string>:412: SyntaxWarning: invalid escape sequence '\\d'\n",
      "<string>:707: SyntaxWarning: invalid escape sequence '\\s'\n",
      "\n",
      "11it [00:14,  1.33s/it]\u001b[A"
     ]
    },
    {
     "name": "stdout",
     "output_type": "stream",
     "text": [
      "/home/grierjones/DDCASPT2/delta_ML/LiO\n",
      "raddir /home/grierjones/DDCASPT2/delta_ML/LiO/1.70\n",
      "/home/grierjones/DDCASPT2/delta_ML/LiO/1.70\n"
     ]
    },
    {
     "name": "stderr",
     "output_type": "stream",
     "text": [
      "<string>:392: SyntaxWarning: invalid escape sequence '\\.'\n",
      "<string>:401: SyntaxWarning: invalid escape sequence '\\.'\n",
      "<string>:412: SyntaxWarning: invalid escape sequence '\\d'\n",
      "<string>:707: SyntaxWarning: invalid escape sequence '\\s'\n",
      "\n",
      "12it [00:16,  1.35s/it]\u001b[A"
     ]
    },
    {
     "name": "stdout",
     "output_type": "stream",
     "text": [
      "/home/grierjones/DDCASPT2/delta_ML/LiO\n",
      "raddir /home/grierjones/DDCASPT2/delta_ML/LiO/1.80\n",
      "/home/grierjones/DDCASPT2/delta_ML/LiO/1.80\n"
     ]
    },
    {
     "name": "stderr",
     "output_type": "stream",
     "text": [
      "<string>:392: SyntaxWarning: invalid escape sequence '\\.'\n",
      "<string>:401: SyntaxWarning: invalid escape sequence '\\.'\n",
      "<string>:412: SyntaxWarning: invalid escape sequence '\\d'\n",
      "<string>:707: SyntaxWarning: invalid escape sequence '\\s'\n",
      "\n",
      "13it [00:17,  1.35s/it]\u001b[A"
     ]
    },
    {
     "name": "stdout",
     "output_type": "stream",
     "text": [
      "/home/grierjones/DDCASPT2/delta_ML/LiO\n",
      "raddir /home/grierjones/DDCASPT2/delta_ML/LiO/1.90\n",
      "/home/grierjones/DDCASPT2/delta_ML/LiO/1.90\n"
     ]
    },
    {
     "name": "stderr",
     "output_type": "stream",
     "text": [
      "<string>:392: SyntaxWarning: invalid escape sequence '\\.'\n",
      "<string>:401: SyntaxWarning: invalid escape sequence '\\.'\n",
      "<string>:412: SyntaxWarning: invalid escape sequence '\\d'\n",
      "<string>:707: SyntaxWarning: invalid escape sequence '\\s'\n",
      "\n",
      "14it [00:18,  1.36s/it]\u001b[A"
     ]
    },
    {
     "name": "stdout",
     "output_type": "stream",
     "text": [
      "/home/grierjones/DDCASPT2/delta_ML/LiO\n",
      "raddir /home/grierjones/DDCASPT2/delta_ML/LiO/2.00\n",
      "/home/grierjones/DDCASPT2/delta_ML/LiO/2.00\n"
     ]
    },
    {
     "name": "stderr",
     "output_type": "stream",
     "text": [
      "<string>:392: SyntaxWarning: invalid escape sequence '\\.'\n",
      "<string>:401: SyntaxWarning: invalid escape sequence '\\.'\n",
      "<string>:412: SyntaxWarning: invalid escape sequence '\\d'\n",
      "<string>:707: SyntaxWarning: invalid escape sequence '\\s'\n",
      "\n",
      "15it [00:20,  1.37s/it]\u001b[A"
     ]
    },
    {
     "name": "stdout",
     "output_type": "stream",
     "text": [
      "/home/grierjones/DDCASPT2/delta_ML/LiO\n",
      "raddir /home/grierjones/DDCASPT2/delta_ML/LiO/2.10\n",
      "/home/grierjones/DDCASPT2/delta_ML/LiO/2.10\n"
     ]
    },
    {
     "name": "stderr",
     "output_type": "stream",
     "text": [
      "<string>:392: SyntaxWarning: invalid escape sequence '\\.'\n",
      "<string>:401: SyntaxWarning: invalid escape sequence '\\.'\n",
      "<string>:412: SyntaxWarning: invalid escape sequence '\\d'\n",
      "<string>:707: SyntaxWarning: invalid escape sequence '\\s'\n",
      "\n",
      "16it [00:22,  1.48s/it]\u001b[A"
     ]
    },
    {
     "name": "stdout",
     "output_type": "stream",
     "text": [
      "/home/grierjones/DDCASPT2/delta_ML/LiO\n",
      "raddir /home/grierjones/DDCASPT2/delta_ML/LiO/2.20\n",
      "/home/grierjones/DDCASPT2/delta_ML/LiO/2.20\n"
     ]
    },
    {
     "name": "stderr",
     "output_type": "stream",
     "text": [
      "<string>:392: SyntaxWarning: invalid escape sequence '\\.'\n",
      "<string>:401: SyntaxWarning: invalid escape sequence '\\.'\n",
      "<string>:412: SyntaxWarning: invalid escape sequence '\\d'\n",
      "<string>:707: SyntaxWarning: invalid escape sequence '\\s'\n",
      "\n",
      "17it [00:23,  1.47s/it]\u001b[A"
     ]
    },
    {
     "name": "stdout",
     "output_type": "stream",
     "text": [
      "/home/grierjones/DDCASPT2/delta_ML/LiO\n",
      "raddir /home/grierjones/DDCASPT2/delta_ML/LiO/2.30\n",
      "/home/grierjones/DDCASPT2/delta_ML/LiO/2.30\n"
     ]
    },
    {
     "name": "stderr",
     "output_type": "stream",
     "text": [
      "<string>:392: SyntaxWarning: invalid escape sequence '\\.'\n",
      "<string>:401: SyntaxWarning: invalid escape sequence '\\.'\n",
      "<string>:412: SyntaxWarning: invalid escape sequence '\\d'\n",
      "<string>:707: SyntaxWarning: invalid escape sequence '\\s'\n",
      "\n",
      "18it [00:25,  1.49s/it]\u001b[A"
     ]
    },
    {
     "name": "stdout",
     "output_type": "stream",
     "text": [
      "/home/grierjones/DDCASPT2/delta_ML/LiO\n",
      "raddir /home/grierjones/DDCASPT2/delta_ML/LiO/2.40\n",
      "/home/grierjones/DDCASPT2/delta_ML/LiO/2.40\n"
     ]
    },
    {
     "name": "stderr",
     "output_type": "stream",
     "text": [
      "<string>:392: SyntaxWarning: invalid escape sequence '\\.'\n",
      "<string>:401: SyntaxWarning: invalid escape sequence '\\.'\n",
      "<string>:412: SyntaxWarning: invalid escape sequence '\\d'\n",
      "<string>:707: SyntaxWarning: invalid escape sequence '\\s'\n",
      "\n",
      "19it [00:26,  1.52s/it]\u001b[A"
     ]
    },
    {
     "name": "stdout",
     "output_type": "stream",
     "text": [
      "/home/grierjones/DDCASPT2/delta_ML/LiO\n",
      "raddir /home/grierjones/DDCASPT2/delta_ML/LiO/2.50\n",
      "/home/grierjones/DDCASPT2/delta_ML/LiO/2.50\n"
     ]
    },
    {
     "name": "stderr",
     "output_type": "stream",
     "text": [
      "<string>:392: SyntaxWarning: invalid escape sequence '\\.'\n",
      "<string>:401: SyntaxWarning: invalid escape sequence '\\.'\n",
      "<string>:412: SyntaxWarning: invalid escape sequence '\\d'\n",
      "<string>:707: SyntaxWarning: invalid escape sequence '\\s'\n",
      "\n",
      "20it [00:28,  1.55s/it]\u001b[A"
     ]
    },
    {
     "name": "stdout",
     "output_type": "stream",
     "text": [
      "/home/grierjones/DDCASPT2/delta_ML/LiO\n",
      "raddir /home/grierjones/DDCASPT2/delta_ML/LiO/2.60\n",
      "/home/grierjones/DDCASPT2/delta_ML/LiO/2.60\n"
     ]
    },
    {
     "name": "stderr",
     "output_type": "stream",
     "text": [
      "<string>:392: SyntaxWarning: invalid escape sequence '\\.'\n",
      "<string>:401: SyntaxWarning: invalid escape sequence '\\.'\n",
      "<string>:412: SyntaxWarning: invalid escape sequence '\\d'\n",
      "<string>:707: SyntaxWarning: invalid escape sequence '\\s'\n",
      "\n",
      "21it [00:29,  1.54s/it]\u001b[A"
     ]
    },
    {
     "name": "stdout",
     "output_type": "stream",
     "text": [
      "/home/grierjones/DDCASPT2/delta_ML/LiO\n",
      "raddir /home/grierjones/DDCASPT2/delta_ML/LiO/2.70\n",
      "/home/grierjones/DDCASPT2/delta_ML/LiO/2.70\n"
     ]
    },
    {
     "name": "stderr",
     "output_type": "stream",
     "text": [
      "<string>:392: SyntaxWarning: invalid escape sequence '\\.'\n",
      "<string>:401: SyntaxWarning: invalid escape sequence '\\.'\n",
      "<string>:412: SyntaxWarning: invalid escape sequence '\\d'\n",
      "<string>:707: SyntaxWarning: invalid escape sequence '\\s'\n",
      "\n",
      "22it [00:31,  1.52s/it]\u001b[A"
     ]
    },
    {
     "name": "stdout",
     "output_type": "stream",
     "text": [
      "/home/grierjones/DDCASPT2/delta_ML/LiO\n",
      "raddir /home/grierjones/DDCASPT2/delta_ML/LiO/2.80\n",
      "/home/grierjones/DDCASPT2/delta_ML/LiO/2.80\n"
     ]
    },
    {
     "name": "stderr",
     "output_type": "stream",
     "text": [
      "<string>:392: SyntaxWarning: invalid escape sequence '\\.'\n",
      "<string>:401: SyntaxWarning: invalid escape sequence '\\.'\n",
      "<string>:412: SyntaxWarning: invalid escape sequence '\\d'\n",
      "<string>:707: SyntaxWarning: invalid escape sequence '\\s'\n",
      "\n",
      "23it [00:32,  1.43s/it]\u001b[A\n",
      " 92%|███████████████████████████████████████████████████████████████████████████████████████████████████████████████████████████████████████████████████████████████▌              | 33/36 [16:39<01:30, 30.04s/it]"
     ]
    },
    {
     "name": "stdout",
     "output_type": "stream",
     "text": [
      "/home/grierjones/DDCASPT2/delta_ML/LiO\n",
      "/home/grierjones/DDCASPT2/delta_ML/LiO\n"
     ]
    },
    {
     "name": "stderr",
     "output_type": "stream",
     "text": [
      "\n",
      "0it [00:00, ?it/s]\u001b[A"
     ]
    },
    {
     "name": "stdout",
     "output_type": "stream",
     "text": [
      "raddir /home/grierjones/DDCASPT2/delta_ML/NN/0.60\n",
      "/home/grierjones/DDCASPT2/delta_ML/NN/0.60\n"
     ]
    },
    {
     "name": "stderr",
     "output_type": "stream",
     "text": [
      "<string>:392: SyntaxWarning: invalid escape sequence '\\.'\n",
      "<string>:401: SyntaxWarning: invalid escape sequence '\\.'\n",
      "<string>:412: SyntaxWarning: invalid escape sequence '\\d'\n",
      "<string>:707: SyntaxWarning: invalid escape sequence '\\s'\n",
      "\n",
      "1it [00:01,  1.22s/it]\u001b[A"
     ]
    },
    {
     "name": "stdout",
     "output_type": "stream",
     "text": [
      "/home/grierjones/DDCASPT2/delta_ML/NN\n",
      "raddir /home/grierjones/DDCASPT2/delta_ML/NN/0.70\n",
      "/home/grierjones/DDCASPT2/delta_ML/NN/0.70\n"
     ]
    },
    {
     "name": "stderr",
     "output_type": "stream",
     "text": [
      "<string>:392: SyntaxWarning: invalid escape sequence '\\.'\n",
      "<string>:401: SyntaxWarning: invalid escape sequence '\\.'\n",
      "<string>:412: SyntaxWarning: invalid escape sequence '\\d'\n",
      "<string>:707: SyntaxWarning: invalid escape sequence '\\s'\n",
      "\n",
      "2it [00:02,  1.21s/it]\u001b[A"
     ]
    },
    {
     "name": "stdout",
     "output_type": "stream",
     "text": [
      "/home/grierjones/DDCASPT2/delta_ML/NN\n",
      "raddir /home/grierjones/DDCASPT2/delta_ML/NN/0.80\n",
      "/home/grierjones/DDCASPT2/delta_ML/NN/0.80\n"
     ]
    },
    {
     "name": "stderr",
     "output_type": "stream",
     "text": [
      "<string>:392: SyntaxWarning: invalid escape sequence '\\.'\n",
      "<string>:401: SyntaxWarning: invalid escape sequence '\\.'\n",
      "<string>:412: SyntaxWarning: invalid escape sequence '\\d'\n",
      "<string>:707: SyntaxWarning: invalid escape sequence '\\s'\n",
      "\n",
      "3it [00:03,  1.21s/it]\u001b[A"
     ]
    },
    {
     "name": "stdout",
     "output_type": "stream",
     "text": [
      "/home/grierjones/DDCASPT2/delta_ML/NN\n",
      "raddir /home/grierjones/DDCASPT2/delta_ML/NN/0.90\n",
      "/home/grierjones/DDCASPT2/delta_ML/NN/0.90\n"
     ]
    },
    {
     "name": "stderr",
     "output_type": "stream",
     "text": [
      "<string>:392: SyntaxWarning: invalid escape sequence '\\.'\n",
      "<string>:401: SyntaxWarning: invalid escape sequence '\\.'\n",
      "<string>:412: SyntaxWarning: invalid escape sequence '\\d'\n",
      "<string>:707: SyntaxWarning: invalid escape sequence '\\s'\n",
      "\n",
      "4it [00:04,  1.22s/it]\u001b[A"
     ]
    },
    {
     "name": "stdout",
     "output_type": "stream",
     "text": [
      "/home/grierjones/DDCASPT2/delta_ML/NN\n",
      "raddir /home/grierjones/DDCASPT2/delta_ML/NN/1.00\n",
      "/home/grierjones/DDCASPT2/delta_ML/NN/1.00\n"
     ]
    },
    {
     "name": "stderr",
     "output_type": "stream",
     "text": [
      "<string>:392: SyntaxWarning: invalid escape sequence '\\.'\n",
      "<string>:401: SyntaxWarning: invalid escape sequence '\\.'\n",
      "<string>:412: SyntaxWarning: invalid escape sequence '\\d'\n",
      "<string>:707: SyntaxWarning: invalid escape sequence '\\s'\n",
      "\n",
      "5it [00:06,  1.22s/it]\u001b[A"
     ]
    },
    {
     "name": "stdout",
     "output_type": "stream",
     "text": [
      "/home/grierjones/DDCASPT2/delta_ML/NN\n",
      "raddir /home/grierjones/DDCASPT2/delta_ML/NN/1.10\n",
      "/home/grierjones/DDCASPT2/delta_ML/NN/1.10\n"
     ]
    },
    {
     "name": "stderr",
     "output_type": "stream",
     "text": [
      "<string>:392: SyntaxWarning: invalid escape sequence '\\.'\n",
      "<string>:401: SyntaxWarning: invalid escape sequence '\\.'\n",
      "<string>:412: SyntaxWarning: invalid escape sequence '\\d'\n",
      "<string>:707: SyntaxWarning: invalid escape sequence '\\s'\n",
      "\n",
      "6it [00:07,  1.22s/it]\u001b[A"
     ]
    },
    {
     "name": "stdout",
     "output_type": "stream",
     "text": [
      "/home/grierjones/DDCASPT2/delta_ML/NN\n",
      "raddir /home/grierjones/DDCASPT2/delta_ML/NN/1.20\n",
      "/home/grierjones/DDCASPT2/delta_ML/NN/1.20\n"
     ]
    },
    {
     "name": "stderr",
     "output_type": "stream",
     "text": [
      "<string>:392: SyntaxWarning: invalid escape sequence '\\.'\n",
      "<string>:401: SyntaxWarning: invalid escape sequence '\\.'\n",
      "<string>:412: SyntaxWarning: invalid escape sequence '\\d'\n",
      "<string>:707: SyntaxWarning: invalid escape sequence '\\s'\n",
      "\n",
      "7it [00:08,  1.23s/it]\u001b[A"
     ]
    },
    {
     "name": "stdout",
     "output_type": "stream",
     "text": [
      "/home/grierjones/DDCASPT2/delta_ML/NN\n",
      "raddir /home/grierjones/DDCASPT2/delta_ML/NN/1.30\n",
      "/home/grierjones/DDCASPT2/delta_ML/NN/1.30\n"
     ]
    },
    {
     "name": "stderr",
     "output_type": "stream",
     "text": [
      "<string>:392: SyntaxWarning: invalid escape sequence '\\.'\n",
      "<string>:401: SyntaxWarning: invalid escape sequence '\\.'\n",
      "<string>:412: SyntaxWarning: invalid escape sequence '\\d'\n",
      "<string>:707: SyntaxWarning: invalid escape sequence '\\s'\n",
      "\n",
      "8it [00:09,  1.23s/it]\u001b[A"
     ]
    },
    {
     "name": "stdout",
     "output_type": "stream",
     "text": [
      "/home/grierjones/DDCASPT2/delta_ML/NN\n",
      "raddir /home/grierjones/DDCASPT2/delta_ML/NN/1.40\n",
      "/home/grierjones/DDCASPT2/delta_ML/NN/1.40\n"
     ]
    },
    {
     "name": "stderr",
     "output_type": "stream",
     "text": [
      "<string>:392: SyntaxWarning: invalid escape sequence '\\.'\n",
      "<string>:401: SyntaxWarning: invalid escape sequence '\\.'\n",
      "<string>:412: SyntaxWarning: invalid escape sequence '\\d'\n",
      "<string>:707: SyntaxWarning: invalid escape sequence '\\s'\n",
      "\n",
      "9it [00:11,  1.24s/it]\u001b[A"
     ]
    },
    {
     "name": "stdout",
     "output_type": "stream",
     "text": [
      "/home/grierjones/DDCASPT2/delta_ML/NN\n",
      "raddir /home/grierjones/DDCASPT2/delta_ML/NN/1.50\n",
      "/home/grierjones/DDCASPT2/delta_ML/NN/1.50\n"
     ]
    },
    {
     "name": "stderr",
     "output_type": "stream",
     "text": [
      "<string>:392: SyntaxWarning: invalid escape sequence '\\.'\n",
      "<string>:401: SyntaxWarning: invalid escape sequence '\\.'\n",
      "<string>:412: SyntaxWarning: invalid escape sequence '\\d'\n",
      "<string>:707: SyntaxWarning: invalid escape sequence '\\s'\n",
      "\n",
      "10it [00:12,  1.24s/it]\u001b[A"
     ]
    },
    {
     "name": "stdout",
     "output_type": "stream",
     "text": [
      "/home/grierjones/DDCASPT2/delta_ML/NN\n",
      "raddir /home/grierjones/DDCASPT2/delta_ML/NN/1.60\n",
      "/home/grierjones/DDCASPT2/delta_ML/NN/1.60\n"
     ]
    },
    {
     "name": "stderr",
     "output_type": "stream",
     "text": [
      "<string>:392: SyntaxWarning: invalid escape sequence '\\.'\n",
      "<string>:401: SyntaxWarning: invalid escape sequence '\\.'\n",
      "<string>:412: SyntaxWarning: invalid escape sequence '\\d'\n",
      "<string>:707: SyntaxWarning: invalid escape sequence '\\s'\n",
      "\n",
      "11it [00:13,  1.24s/it]\u001b[A"
     ]
    },
    {
     "name": "stdout",
     "output_type": "stream",
     "text": [
      "/home/grierjones/DDCASPT2/delta_ML/NN\n",
      "raddir /home/grierjones/DDCASPT2/delta_ML/NN/1.70\n",
      "/home/grierjones/DDCASPT2/delta_ML/NN/1.70\n"
     ]
    },
    {
     "name": "stderr",
     "output_type": "stream",
     "text": [
      "<string>:392: SyntaxWarning: invalid escape sequence '\\.'\n",
      "<string>:401: SyntaxWarning: invalid escape sequence '\\.'\n",
      "<string>:412: SyntaxWarning: invalid escape sequence '\\d'\n",
      "<string>:707: SyntaxWarning: invalid escape sequence '\\s'\n",
      "\n",
      "12it [00:14,  1.24s/it]\u001b[A"
     ]
    },
    {
     "name": "stdout",
     "output_type": "stream",
     "text": [
      "/home/grierjones/DDCASPT2/delta_ML/NN\n",
      "raddir /home/grierjones/DDCASPT2/delta_ML/NN/1.80\n",
      "/home/grierjones/DDCASPT2/delta_ML/NN/1.80\n"
     ]
    },
    {
     "name": "stderr",
     "output_type": "stream",
     "text": [
      "<string>:392: SyntaxWarning: invalid escape sequence '\\.'\n",
      "<string>:401: SyntaxWarning: invalid escape sequence '\\.'\n",
      "<string>:412: SyntaxWarning: invalid escape sequence '\\d'\n",
      "<string>:707: SyntaxWarning: invalid escape sequence '\\s'\n",
      "\n",
      "13it [00:16,  1.24s/it]\u001b[A"
     ]
    },
    {
     "name": "stdout",
     "output_type": "stream",
     "text": [
      "/home/grierjones/DDCASPT2/delta_ML/NN\n",
      "raddir /home/grierjones/DDCASPT2/delta_ML/NN/1.90\n",
      "/home/grierjones/DDCASPT2/delta_ML/NN/1.90\n"
     ]
    },
    {
     "name": "stderr",
     "output_type": "stream",
     "text": [
      "<string>:392: SyntaxWarning: invalid escape sequence '\\.'\n",
      "<string>:401: SyntaxWarning: invalid escape sequence '\\.'\n",
      "<string>:412: SyntaxWarning: invalid escape sequence '\\d'\n",
      "<string>:707: SyntaxWarning: invalid escape sequence '\\s'\n",
      "\n",
      "14it [00:17,  1.24s/it]\u001b[A"
     ]
    },
    {
     "name": "stdout",
     "output_type": "stream",
     "text": [
      "/home/grierjones/DDCASPT2/delta_ML/NN\n",
      "raddir /home/grierjones/DDCASPT2/delta_ML/NN/2.00\n",
      "/home/grierjones/DDCASPT2/delta_ML/NN/2.00\n"
     ]
    },
    {
     "name": "stderr",
     "output_type": "stream",
     "text": [
      "<string>:392: SyntaxWarning: invalid escape sequence '\\.'\n",
      "<string>:401: SyntaxWarning: invalid escape sequence '\\.'\n",
      "<string>:412: SyntaxWarning: invalid escape sequence '\\d'\n",
      "<string>:707: SyntaxWarning: invalid escape sequence '\\s'\n",
      "\n",
      "15it [00:18,  1.39s/it]\u001b[A"
     ]
    },
    {
     "name": "stdout",
     "output_type": "stream",
     "text": [
      "/home/grierjones/DDCASPT2/delta_ML/NN\n",
      "raddir /home/grierjones/DDCASPT2/delta_ML/NN/2.10\n",
      "/home/grierjones/DDCASPT2/delta_ML/NN/2.10\n"
     ]
    },
    {
     "name": "stderr",
     "output_type": "stream",
     "text": [
      "<string>:392: SyntaxWarning: invalid escape sequence '\\.'\n",
      "<string>:401: SyntaxWarning: invalid escape sequence '\\.'\n",
      "<string>:412: SyntaxWarning: invalid escape sequence '\\d'\n",
      "<string>:707: SyntaxWarning: invalid escape sequence '\\s'\n",
      "\n",
      "16it [00:20,  1.34s/it]\u001b[A"
     ]
    },
    {
     "name": "stdout",
     "output_type": "stream",
     "text": [
      "/home/grierjones/DDCASPT2/delta_ML/NN\n",
      "raddir /home/grierjones/DDCASPT2/delta_ML/NN/2.20\n",
      "/home/grierjones/DDCASPT2/delta_ML/NN/2.20\n"
     ]
    },
    {
     "name": "stderr",
     "output_type": "stream",
     "text": [
      "<string>:392: SyntaxWarning: invalid escape sequence '\\.'\n",
      "<string>:401: SyntaxWarning: invalid escape sequence '\\.'\n",
      "<string>:412: SyntaxWarning: invalid escape sequence '\\d'\n",
      "<string>:707: SyntaxWarning: invalid escape sequence '\\s'\n",
      "\n",
      "17it [00:21,  1.30s/it]\u001b[A"
     ]
    },
    {
     "name": "stdout",
     "output_type": "stream",
     "text": [
      "/home/grierjones/DDCASPT2/delta_ML/NN\n",
      "raddir /home/grierjones/DDCASPT2/delta_ML/NN/2.30\n",
      "/home/grierjones/DDCASPT2/delta_ML/NN/2.30\n"
     ]
    },
    {
     "name": "stderr",
     "output_type": "stream",
     "text": [
      "<string>:392: SyntaxWarning: invalid escape sequence '\\.'\n",
      "<string>:401: SyntaxWarning: invalid escape sequence '\\.'\n",
      "<string>:412: SyntaxWarning: invalid escape sequence '\\d'\n",
      "<string>:707: SyntaxWarning: invalid escape sequence '\\s'\n",
      "\n",
      "18it [00:22,  1.28s/it]\u001b[A"
     ]
    },
    {
     "name": "stdout",
     "output_type": "stream",
     "text": [
      "/home/grierjones/DDCASPT2/delta_ML/NN\n",
      "raddir /home/grierjones/DDCASPT2/delta_ML/NN/2.40\n",
      "/home/grierjones/DDCASPT2/delta_ML/NN/2.40\n"
     ]
    },
    {
     "name": "stderr",
     "output_type": "stream",
     "text": [
      "<string>:392: SyntaxWarning: invalid escape sequence '\\.'\n",
      "<string>:401: SyntaxWarning: invalid escape sequence '\\.'\n",
      "<string>:412: SyntaxWarning: invalid escape sequence '\\d'\n",
      "<string>:707: SyntaxWarning: invalid escape sequence '\\s'\n",
      "\n",
      "19it [00:23,  1.26s/it]\u001b[A"
     ]
    },
    {
     "name": "stdout",
     "output_type": "stream",
     "text": [
      "/home/grierjones/DDCASPT2/delta_ML/NN\n",
      "raddir /home/grierjones/DDCASPT2/delta_ML/NN/2.50\n",
      "/home/grierjones/DDCASPT2/delta_ML/NN/2.50\n"
     ]
    },
    {
     "name": "stderr",
     "output_type": "stream",
     "text": [
      "<string>:392: SyntaxWarning: invalid escape sequence '\\.'\n",
      "<string>:401: SyntaxWarning: invalid escape sequence '\\.'\n",
      "<string>:412: SyntaxWarning: invalid escape sequence '\\d'\n",
      "<string>:707: SyntaxWarning: invalid escape sequence '\\s'\n",
      "\n",
      "20it [00:25,  1.25s/it]\u001b[A"
     ]
    },
    {
     "name": "stdout",
     "output_type": "stream",
     "text": [
      "/home/grierjones/DDCASPT2/delta_ML/NN\n",
      "raddir /home/grierjones/DDCASPT2/delta_ML/NN/2.60\n",
      "/home/grierjones/DDCASPT2/delta_ML/NN/2.60\n"
     ]
    },
    {
     "name": "stderr",
     "output_type": "stream",
     "text": [
      "<string>:392: SyntaxWarning: invalid escape sequence '\\.'\n",
      "<string>:401: SyntaxWarning: invalid escape sequence '\\.'\n",
      "<string>:412: SyntaxWarning: invalid escape sequence '\\d'\n",
      "<string>:707: SyntaxWarning: invalid escape sequence '\\s'\n",
      "\n",
      "21it [00:26,  1.24s/it]\u001b[A"
     ]
    },
    {
     "name": "stdout",
     "output_type": "stream",
     "text": [
      "/home/grierjones/DDCASPT2/delta_ML/NN\n",
      "raddir /home/grierjones/DDCASPT2/delta_ML/NN/2.70\n",
      "/home/grierjones/DDCASPT2/delta_ML/NN/2.70\n"
     ]
    },
    {
     "name": "stderr",
     "output_type": "stream",
     "text": [
      "<string>:392: SyntaxWarning: invalid escape sequence '\\.'\n",
      "<string>:401: SyntaxWarning: invalid escape sequence '\\.'\n",
      "<string>:412: SyntaxWarning: invalid escape sequence '\\d'\n",
      "<string>:707: SyntaxWarning: invalid escape sequence '\\s'\n",
      "\n",
      "22it [00:27,  1.23s/it]\u001b[A"
     ]
    },
    {
     "name": "stdout",
     "output_type": "stream",
     "text": [
      "/home/grierjones/DDCASPT2/delta_ML/NN\n",
      "raddir /home/grierjones/DDCASPT2/delta_ML/NN/2.80\n",
      "/home/grierjones/DDCASPT2/delta_ML/NN/2.80\n"
     ]
    },
    {
     "name": "stderr",
     "output_type": "stream",
     "text": [
      "<string>:392: SyntaxWarning: invalid escape sequence '\\.'\n",
      "<string>:401: SyntaxWarning: invalid escape sequence '\\.'\n",
      "<string>:412: SyntaxWarning: invalid escape sequence '\\d'\n",
      "<string>:707: SyntaxWarning: invalid escape sequence '\\s'\n",
      "\n",
      "23it [00:28,  1.25s/it]\u001b[A\n",
      " 94%|████████████████████████████████████████████████████████████████████████████████████████████████████████████████████████████████████████████████████████████████████▎         | 34/36 [17:08<00:59, 29.65s/it]"
     ]
    },
    {
     "name": "stdout",
     "output_type": "stream",
     "text": [
      "/home/grierjones/DDCASPT2/delta_ML/NN\n",
      "/home/grierjones/DDCASPT2/delta_ML/NN\n"
     ]
    },
    {
     "name": "stderr",
     "output_type": "stream",
     "text": [
      "\n",
      "0it [00:00, ?it/s]\u001b[A"
     ]
    },
    {
     "name": "stdout",
     "output_type": "stream",
     "text": [
      "raddir /home/grierjones/DDCASPT2/delta_ML/NO/0.60\n",
      "/home/grierjones/DDCASPT2/delta_ML/NO/0.60\n"
     ]
    },
    {
     "name": "stderr",
     "output_type": "stream",
     "text": [
      "<string>:392: SyntaxWarning: invalid escape sequence '\\.'\n",
      "<string>:401: SyntaxWarning: invalid escape sequence '\\.'\n",
      "<string>:412: SyntaxWarning: invalid escape sequence '\\d'\n",
      "<string>:707: SyntaxWarning: invalid escape sequence '\\s'\n",
      "\n",
      "1it [00:01,  1.28s/it]\u001b[A"
     ]
    },
    {
     "name": "stdout",
     "output_type": "stream",
     "text": [
      "/home/grierjones/DDCASPT2/delta_ML/NO\n",
      "raddir /home/grierjones/DDCASPT2/delta_ML/NO/0.70\n",
      "/home/grierjones/DDCASPT2/delta_ML/NO/0.70\n"
     ]
    },
    {
     "name": "stderr",
     "output_type": "stream",
     "text": [
      "<string>:392: SyntaxWarning: invalid escape sequence '\\.'\n",
      "<string>:401: SyntaxWarning: invalid escape sequence '\\.'\n",
      "<string>:412: SyntaxWarning: invalid escape sequence '\\d'\n",
      "<string>:707: SyntaxWarning: invalid escape sequence '\\s'\n",
      "\n",
      "2it [00:02,  1.29s/it]\u001b[A"
     ]
    },
    {
     "name": "stdout",
     "output_type": "stream",
     "text": [
      "/home/grierjones/DDCASPT2/delta_ML/NO\n",
      "raddir /home/grierjones/DDCASPT2/delta_ML/NO/0.80\n",
      "/home/grierjones/DDCASPT2/delta_ML/NO/0.80\n"
     ]
    },
    {
     "name": "stderr",
     "output_type": "stream",
     "text": [
      "<string>:392: SyntaxWarning: invalid escape sequence '\\.'\n",
      "<string>:401: SyntaxWarning: invalid escape sequence '\\.'\n",
      "<string>:412: SyntaxWarning: invalid escape sequence '\\d'\n",
      "<string>:707: SyntaxWarning: invalid escape sequence '\\s'\n",
      "\n",
      "3it [00:03,  1.30s/it]\u001b[A"
     ]
    },
    {
     "name": "stdout",
     "output_type": "stream",
     "text": [
      "/home/grierjones/DDCASPT2/delta_ML/NO\n",
      "raddir /home/grierjones/DDCASPT2/delta_ML/NO/0.90\n",
      "/home/grierjones/DDCASPT2/delta_ML/NO/0.90\n"
     ]
    },
    {
     "name": "stderr",
     "output_type": "stream",
     "text": [
      "<string>:392: SyntaxWarning: invalid escape sequence '\\.'\n",
      "<string>:401: SyntaxWarning: invalid escape sequence '\\.'\n",
      "<string>:412: SyntaxWarning: invalid escape sequence '\\d'\n",
      "<string>:707: SyntaxWarning: invalid escape sequence '\\s'\n",
      "\n",
      "4it [00:05,  1.31s/it]\u001b[A"
     ]
    },
    {
     "name": "stdout",
     "output_type": "stream",
     "text": [
      "/home/grierjones/DDCASPT2/delta_ML/NO\n",
      "raddir /home/grierjones/DDCASPT2/delta_ML/NO/1.00\n",
      "/home/grierjones/DDCASPT2/delta_ML/NO/1.00\n"
     ]
    },
    {
     "name": "stderr",
     "output_type": "stream",
     "text": [
      "<string>:392: SyntaxWarning: invalid escape sequence '\\.'\n",
      "<string>:401: SyntaxWarning: invalid escape sequence '\\.'\n",
      "<string>:412: SyntaxWarning: invalid escape sequence '\\d'\n",
      "<string>:707: SyntaxWarning: invalid escape sequence '\\s'\n",
      "\n",
      "5it [00:06,  1.32s/it]\u001b[A"
     ]
    },
    {
     "name": "stdout",
     "output_type": "stream",
     "text": [
      "/home/grierjones/DDCASPT2/delta_ML/NO\n",
      "raddir /home/grierjones/DDCASPT2/delta_ML/NO/1.10\n",
      "/home/grierjones/DDCASPT2/delta_ML/NO/1.10\n"
     ]
    },
    {
     "name": "stderr",
     "output_type": "stream",
     "text": [
      "<string>:392: SyntaxWarning: invalid escape sequence '\\.'\n",
      "<string>:401: SyntaxWarning: invalid escape sequence '\\.'\n",
      "<string>:412: SyntaxWarning: invalid escape sequence '\\d'\n",
      "<string>:707: SyntaxWarning: invalid escape sequence '\\s'\n",
      "\n",
      "6it [00:07,  1.35s/it]\u001b[A"
     ]
    },
    {
     "name": "stdout",
     "output_type": "stream",
     "text": [
      "/home/grierjones/DDCASPT2/delta_ML/NO\n",
      "raddir /home/grierjones/DDCASPT2/delta_ML/NO/1.20\n",
      "/home/grierjones/DDCASPT2/delta_ML/NO/1.20\n"
     ]
    },
    {
     "name": "stderr",
     "output_type": "stream",
     "text": [
      "<string>:392: SyntaxWarning: invalid escape sequence '\\.'\n",
      "<string>:401: SyntaxWarning: invalid escape sequence '\\.'\n",
      "<string>:412: SyntaxWarning: invalid escape sequence '\\d'\n",
      "<string>:707: SyntaxWarning: invalid escape sequence '\\s'\n",
      "\n",
      "7it [00:09,  1.44s/it]\u001b[A"
     ]
    },
    {
     "name": "stdout",
     "output_type": "stream",
     "text": [
      "/home/grierjones/DDCASPT2/delta_ML/NO\n",
      "raddir /home/grierjones/DDCASPT2/delta_ML/NO/1.30\n",
      "/home/grierjones/DDCASPT2/delta_ML/NO/1.30\n"
     ]
    },
    {
     "name": "stderr",
     "output_type": "stream",
     "text": [
      "<string>:392: SyntaxWarning: invalid escape sequence '\\.'\n",
      "<string>:401: SyntaxWarning: invalid escape sequence '\\.'\n",
      "<string>:412: SyntaxWarning: invalid escape sequence '\\d'\n",
      "<string>:707: SyntaxWarning: invalid escape sequence '\\s'\n",
      "\n",
      "8it [00:11,  1.46s/it]\u001b[A"
     ]
    },
    {
     "name": "stdout",
     "output_type": "stream",
     "text": [
      "/home/grierjones/DDCASPT2/delta_ML/NO\n",
      "raddir /home/grierjones/DDCASPT2/delta_ML/NO/1.40\n",
      "/home/grierjones/DDCASPT2/delta_ML/NO/1.40\n"
     ]
    },
    {
     "name": "stderr",
     "output_type": "stream",
     "text": [
      "<string>:392: SyntaxWarning: invalid escape sequence '\\.'\n",
      "<string>:401: SyntaxWarning: invalid escape sequence '\\.'\n",
      "<string>:412: SyntaxWarning: invalid escape sequence '\\d'\n",
      "<string>:707: SyntaxWarning: invalid escape sequence '\\s'\n",
      "\n",
      "9it [00:12,  1.47s/it]\u001b[A"
     ]
    },
    {
     "name": "stdout",
     "output_type": "stream",
     "text": [
      "/home/grierjones/DDCASPT2/delta_ML/NO\n",
      "raddir /home/grierjones/DDCASPT2/delta_ML/NO/1.50\n",
      "/home/grierjones/DDCASPT2/delta_ML/NO/1.50\n"
     ]
    },
    {
     "name": "stderr",
     "output_type": "stream",
     "text": [
      "<string>:392: SyntaxWarning: invalid escape sequence '\\.'\n",
      "<string>:401: SyntaxWarning: invalid escape sequence '\\.'\n",
      "<string>:412: SyntaxWarning: invalid escape sequence '\\d'\n",
      "<string>:707: SyntaxWarning: invalid escape sequence '\\s'\n",
      "\n",
      "10it [00:14,  1.49s/it]\u001b[A"
     ]
    },
    {
     "name": "stdout",
     "output_type": "stream",
     "text": [
      "/home/grierjones/DDCASPT2/delta_ML/NO\n",
      "raddir /home/grierjones/DDCASPT2/delta_ML/NO/1.60\n",
      "/home/grierjones/DDCASPT2/delta_ML/NO/1.60\n"
     ]
    },
    {
     "name": "stderr",
     "output_type": "stream",
     "text": [
      "<string>:392: SyntaxWarning: invalid escape sequence '\\.'\n",
      "<string>:401: SyntaxWarning: invalid escape sequence '\\.'\n",
      "<string>:412: SyntaxWarning: invalid escape sequence '\\d'\n",
      "<string>:707: SyntaxWarning: invalid escape sequence '\\s'\n",
      "\n",
      "11it [00:15,  1.53s/it]\u001b[A"
     ]
    },
    {
     "name": "stdout",
     "output_type": "stream",
     "text": [
      "/home/grierjones/DDCASPT2/delta_ML/NO\n",
      "raddir /home/grierjones/DDCASPT2/delta_ML/NO/1.70\n",
      "/home/grierjones/DDCASPT2/delta_ML/NO/1.70\n"
     ]
    },
    {
     "name": "stderr",
     "output_type": "stream",
     "text": [
      "<string>:392: SyntaxWarning: invalid escape sequence '\\.'\n",
      "<string>:401: SyntaxWarning: invalid escape sequence '\\.'\n",
      "<string>:412: SyntaxWarning: invalid escape sequence '\\d'\n",
      "<string>:707: SyntaxWarning: invalid escape sequence '\\s'\n",
      "\n",
      "12it [00:17,  1.55s/it]\u001b[A"
     ]
    },
    {
     "name": "stdout",
     "output_type": "stream",
     "text": [
      "/home/grierjones/DDCASPT2/delta_ML/NO\n",
      "raddir /home/grierjones/DDCASPT2/delta_ML/NO/1.80\n",
      "/home/grierjones/DDCASPT2/delta_ML/NO/1.80\n"
     ]
    },
    {
     "name": "stderr",
     "output_type": "stream",
     "text": [
      "<string>:392: SyntaxWarning: invalid escape sequence '\\.'\n",
      "<string>:401: SyntaxWarning: invalid escape sequence '\\.'\n",
      "<string>:412: SyntaxWarning: invalid escape sequence '\\d'\n",
      "<string>:707: SyntaxWarning: invalid escape sequence '\\s'\n",
      "\n",
      "13it [00:18,  1.52s/it]\u001b[A"
     ]
    },
    {
     "name": "stdout",
     "output_type": "stream",
     "text": [
      "/home/grierjones/DDCASPT2/delta_ML/NO\n",
      "raddir /home/grierjones/DDCASPT2/delta_ML/NO/1.90\n",
      "/home/grierjones/DDCASPT2/delta_ML/NO/1.90\n"
     ]
    },
    {
     "name": "stderr",
     "output_type": "stream",
     "text": [
      "<string>:392: SyntaxWarning: invalid escape sequence '\\.'\n",
      "<string>:401: SyntaxWarning: invalid escape sequence '\\.'\n",
      "<string>:412: SyntaxWarning: invalid escape sequence '\\d'\n",
      "<string>:707: SyntaxWarning: invalid escape sequence '\\s'\n",
      "\n",
      "14it [00:20,  1.55s/it]\u001b[A"
     ]
    },
    {
     "name": "stdout",
     "output_type": "stream",
     "text": [
      "/home/grierjones/DDCASPT2/delta_ML/NO\n",
      "raddir /home/grierjones/DDCASPT2/delta_ML/NO/2.00\n",
      "/home/grierjones/DDCASPT2/delta_ML/NO/2.00\n"
     ]
    },
    {
     "name": "stderr",
     "output_type": "stream",
     "text": [
      "<string>:392: SyntaxWarning: invalid escape sequence '\\.'\n",
      "<string>:401: SyntaxWarning: invalid escape sequence '\\.'\n",
      "<string>:412: SyntaxWarning: invalid escape sequence '\\d'\n",
      "<string>:707: SyntaxWarning: invalid escape sequence '\\s'\n",
      "\n",
      "15it [00:21,  1.52s/it]\u001b[A"
     ]
    },
    {
     "name": "stdout",
     "output_type": "stream",
     "text": [
      "/home/grierjones/DDCASPT2/delta_ML/NO\n",
      "raddir /home/grierjones/DDCASPT2/delta_ML/NO/2.10\n",
      "/home/grierjones/DDCASPT2/delta_ML/NO/2.10\n"
     ]
    },
    {
     "name": "stderr",
     "output_type": "stream",
     "text": [
      "<string>:392: SyntaxWarning: invalid escape sequence '\\.'\n",
      "<string>:401: SyntaxWarning: invalid escape sequence '\\.'\n",
      "<string>:412: SyntaxWarning: invalid escape sequence '\\d'\n",
      "<string>:707: SyntaxWarning: invalid escape sequence '\\s'\n",
      "\n",
      "16it [00:23,  1.48s/it]\u001b[A"
     ]
    },
    {
     "name": "stdout",
     "output_type": "stream",
     "text": [
      "/home/grierjones/DDCASPT2/delta_ML/NO\n",
      "raddir /home/grierjones/DDCASPT2/delta_ML/NO/2.20\n",
      "/home/grierjones/DDCASPT2/delta_ML/NO/2.20\n"
     ]
    },
    {
     "name": "stderr",
     "output_type": "stream",
     "text": [
      "<string>:392: SyntaxWarning: invalid escape sequence '\\.'\n",
      "<string>:401: SyntaxWarning: invalid escape sequence '\\.'\n",
      "<string>:412: SyntaxWarning: invalid escape sequence '\\d'\n",
      "<string>:707: SyntaxWarning: invalid escape sequence '\\s'\n",
      "\n",
      "17it [00:24,  1.45s/it]\u001b[A"
     ]
    },
    {
     "name": "stdout",
     "output_type": "stream",
     "text": [
      "/home/grierjones/DDCASPT2/delta_ML/NO\n",
      "raddir /home/grierjones/DDCASPT2/delta_ML/NO/2.30\n",
      "/home/grierjones/DDCASPT2/delta_ML/NO/2.30\n"
     ]
    },
    {
     "name": "stderr",
     "output_type": "stream",
     "text": [
      "<string>:392: SyntaxWarning: invalid escape sequence '\\.'\n",
      "<string>:401: SyntaxWarning: invalid escape sequence '\\.'\n",
      "<string>:412: SyntaxWarning: invalid escape sequence '\\d'\n",
      "<string>:707: SyntaxWarning: invalid escape sequence '\\s'\n",
      "\n",
      "18it [00:25,  1.42s/it]\u001b[A"
     ]
    },
    {
     "name": "stdout",
     "output_type": "stream",
     "text": [
      "/home/grierjones/DDCASPT2/delta_ML/NO\n",
      "raddir /home/grierjones/DDCASPT2/delta_ML/NO/2.40\n",
      "/home/grierjones/DDCASPT2/delta_ML/NO/2.40\n"
     ]
    },
    {
     "name": "stderr",
     "output_type": "stream",
     "text": [
      "<string>:392: SyntaxWarning: invalid escape sequence '\\.'\n",
      "<string>:401: SyntaxWarning: invalid escape sequence '\\.'\n",
      "<string>:412: SyntaxWarning: invalid escape sequence '\\d'\n",
      "<string>:707: SyntaxWarning: invalid escape sequence '\\s'\n",
      "\n",
      "19it [00:27,  1.40s/it]\u001b[A"
     ]
    },
    {
     "name": "stdout",
     "output_type": "stream",
     "text": [
      "/home/grierjones/DDCASPT2/delta_ML/NO\n",
      "raddir /home/grierjones/DDCASPT2/delta_ML/NO/2.50\n",
      "/home/grierjones/DDCASPT2/delta_ML/NO/2.50\n"
     ]
    },
    {
     "name": "stderr",
     "output_type": "stream",
     "text": [
      "<string>:392: SyntaxWarning: invalid escape sequence '\\.'\n",
      "<string>:401: SyntaxWarning: invalid escape sequence '\\.'\n",
      "<string>:412: SyntaxWarning: invalid escape sequence '\\d'\n",
      "<string>:707: SyntaxWarning: invalid escape sequence '\\s'\n",
      "\n",
      "20it [00:28,  1.39s/it]\u001b[A"
     ]
    },
    {
     "name": "stdout",
     "output_type": "stream",
     "text": [
      "/home/grierjones/DDCASPT2/delta_ML/NO\n",
      "raddir /home/grierjones/DDCASPT2/delta_ML/NO/2.60\n",
      "/home/grierjones/DDCASPT2/delta_ML/NO/2.60\n"
     ]
    },
    {
     "name": "stderr",
     "output_type": "stream",
     "text": [
      "<string>:392: SyntaxWarning: invalid escape sequence '\\.'\n",
      "<string>:401: SyntaxWarning: invalid escape sequence '\\.'\n",
      "<string>:412: SyntaxWarning: invalid escape sequence '\\d'\n",
      "<string>:707: SyntaxWarning: invalid escape sequence '\\s'\n",
      "\n",
      "21it [00:30,  1.37s/it]\u001b[A"
     ]
    },
    {
     "name": "stdout",
     "output_type": "stream",
     "text": [
      "/home/grierjones/DDCASPT2/delta_ML/NO\n",
      "raddir /home/grierjones/DDCASPT2/delta_ML/NO/2.70\n",
      "/home/grierjones/DDCASPT2/delta_ML/NO/2.70\n"
     ]
    },
    {
     "name": "stderr",
     "output_type": "stream",
     "text": [
      "<string>:392: SyntaxWarning: invalid escape sequence '\\.'\n",
      "<string>:401: SyntaxWarning: invalid escape sequence '\\.'\n",
      "<string>:412: SyntaxWarning: invalid escape sequence '\\d'\n",
      "<string>:707: SyntaxWarning: invalid escape sequence '\\s'\n",
      "\n",
      "22it [00:31,  1.37s/it]\u001b[A"
     ]
    },
    {
     "name": "stdout",
     "output_type": "stream",
     "text": [
      "/home/grierjones/DDCASPT2/delta_ML/NO\n",
      "raddir /home/grierjones/DDCASPT2/delta_ML/NO/2.80\n",
      "/home/grierjones/DDCASPT2/delta_ML/NO/2.80\n"
     ]
    },
    {
     "name": "stderr",
     "output_type": "stream",
     "text": [
      "<string>:392: SyntaxWarning: invalid escape sequence '\\.'\n",
      "<string>:401: SyntaxWarning: invalid escape sequence '\\.'\n",
      "<string>:412: SyntaxWarning: invalid escape sequence '\\d'\n",
      "<string>:707: SyntaxWarning: invalid escape sequence '\\s'\n",
      "\n",
      "23it [00:32,  1.42s/it]\u001b[A\n",
      " 97%|█████████████████████████████████████████████████████████████████████████████████████████████████████████████████████████████████████████████████████████████████████████▏    | 35/36 [17:41<00:30, 30.57s/it]"
     ]
    },
    {
     "name": "stdout",
     "output_type": "stream",
     "text": [
      "/home/grierjones/DDCASPT2/delta_ML/NO\n",
      "/home/grierjones/DDCASPT2/delta_ML/NO\n"
     ]
    },
    {
     "name": "stderr",
     "output_type": "stream",
     "text": [
      "\n",
      "0it [00:00, ?it/s]\u001b[A"
     ]
    },
    {
     "name": "stdout",
     "output_type": "stream",
     "text": [
      "raddir /home/grierjones/DDCASPT2/delta_ML/OO/0.60\n",
      "/home/grierjones/DDCASPT2/delta_ML/OO/0.60\n"
     ]
    },
    {
     "name": "stderr",
     "output_type": "stream",
     "text": [
      "<string>:392: SyntaxWarning: invalid escape sequence '\\.'\n",
      "<string>:401: SyntaxWarning: invalid escape sequence '\\.'\n",
      "<string>:412: SyntaxWarning: invalid escape sequence '\\d'\n",
      "<string>:707: SyntaxWarning: invalid escape sequence '\\s'\n",
      "\n",
      "1it [00:01,  1.22s/it]\u001b[A"
     ]
    },
    {
     "name": "stdout",
     "output_type": "stream",
     "text": [
      "/home/grierjones/DDCASPT2/delta_ML/OO\n",
      "raddir /home/grierjones/DDCASPT2/delta_ML/OO/0.70\n",
      "/home/grierjones/DDCASPT2/delta_ML/OO/0.70\n"
     ]
    },
    {
     "name": "stderr",
     "output_type": "stream",
     "text": [
      "<string>:392: SyntaxWarning: invalid escape sequence '\\.'\n",
      "<string>:401: SyntaxWarning: invalid escape sequence '\\.'\n",
      "<string>:412: SyntaxWarning: invalid escape sequence '\\d'\n",
      "<string>:707: SyntaxWarning: invalid escape sequence '\\s'\n",
      "\n",
      "2it [00:02,  1.21s/it]\u001b[A"
     ]
    },
    {
     "name": "stdout",
     "output_type": "stream",
     "text": [
      "/home/grierjones/DDCASPT2/delta_ML/OO\n",
      "raddir /home/grierjones/DDCASPT2/delta_ML/OO/0.80\n",
      "/home/grierjones/DDCASPT2/delta_ML/OO/0.80\n"
     ]
    },
    {
     "name": "stderr",
     "output_type": "stream",
     "text": [
      "<string>:392: SyntaxWarning: invalid escape sequence '\\.'\n",
      "<string>:401: SyntaxWarning: invalid escape sequence '\\.'\n",
      "<string>:412: SyntaxWarning: invalid escape sequence '\\d'\n",
      "<string>:707: SyntaxWarning: invalid escape sequence '\\s'\n",
      "\n",
      "3it [00:03,  1.21s/it]\u001b[A"
     ]
    },
    {
     "name": "stdout",
     "output_type": "stream",
     "text": [
      "/home/grierjones/DDCASPT2/delta_ML/OO\n",
      "raddir /home/grierjones/DDCASPT2/delta_ML/OO/0.90\n",
      "/home/grierjones/DDCASPT2/delta_ML/OO/0.90\n"
     ]
    },
    {
     "name": "stderr",
     "output_type": "stream",
     "text": [
      "<string>:392: SyntaxWarning: invalid escape sequence '\\.'\n",
      "<string>:401: SyntaxWarning: invalid escape sequence '\\.'\n",
      "<string>:412: SyntaxWarning: invalid escape sequence '\\d'\n",
      "<string>:707: SyntaxWarning: invalid escape sequence '\\s'\n",
      "\n",
      "4it [00:04,  1.21s/it]\u001b[A"
     ]
    },
    {
     "name": "stdout",
     "output_type": "stream",
     "text": [
      "/home/grierjones/DDCASPT2/delta_ML/OO\n",
      "raddir /home/grierjones/DDCASPT2/delta_ML/OO/1.00\n",
      "/home/grierjones/DDCASPT2/delta_ML/OO/1.00\n"
     ]
    },
    {
     "name": "stderr",
     "output_type": "stream",
     "text": [
      "<string>:392: SyntaxWarning: invalid escape sequence '\\.'\n",
      "<string>:401: SyntaxWarning: invalid escape sequence '\\.'\n",
      "<string>:412: SyntaxWarning: invalid escape sequence '\\d'\n",
      "<string>:707: SyntaxWarning: invalid escape sequence '\\s'\n",
      "\n",
      "5it [00:06,  1.22s/it]\u001b[A"
     ]
    },
    {
     "name": "stdout",
     "output_type": "stream",
     "text": [
      "/home/grierjones/DDCASPT2/delta_ML/OO\n",
      "raddir /home/grierjones/DDCASPT2/delta_ML/OO/1.10\n",
      "/home/grierjones/DDCASPT2/delta_ML/OO/1.10\n"
     ]
    },
    {
     "name": "stderr",
     "output_type": "stream",
     "text": [
      "<string>:392: SyntaxWarning: invalid escape sequence '\\.'\n",
      "<string>:401: SyntaxWarning: invalid escape sequence '\\.'\n",
      "<string>:412: SyntaxWarning: invalid escape sequence '\\d'\n",
      "<string>:707: SyntaxWarning: invalid escape sequence '\\s'\n",
      "\n",
      "6it [00:07,  1.22s/it]\u001b[A"
     ]
    },
    {
     "name": "stdout",
     "output_type": "stream",
     "text": [
      "/home/grierjones/DDCASPT2/delta_ML/OO\n",
      "raddir /home/grierjones/DDCASPT2/delta_ML/OO/1.20\n",
      "/home/grierjones/DDCASPT2/delta_ML/OO/1.20\n"
     ]
    },
    {
     "name": "stderr",
     "output_type": "stream",
     "text": [
      "<string>:392: SyntaxWarning: invalid escape sequence '\\.'\n",
      "<string>:401: SyntaxWarning: invalid escape sequence '\\.'\n",
      "<string>:412: SyntaxWarning: invalid escape sequence '\\d'\n",
      "<string>:707: SyntaxWarning: invalid escape sequence '\\s'\n",
      "\n",
      "7it [00:08,  1.23s/it]\u001b[A"
     ]
    },
    {
     "name": "stdout",
     "output_type": "stream",
     "text": [
      "/home/grierjones/DDCASPT2/delta_ML/OO\n",
      "raddir /home/grierjones/DDCASPT2/delta_ML/OO/1.30\n",
      "/home/grierjones/DDCASPT2/delta_ML/OO/1.30\n"
     ]
    },
    {
     "name": "stderr",
     "output_type": "stream",
     "text": [
      "<string>:392: SyntaxWarning: invalid escape sequence '\\.'\n",
      "<string>:401: SyntaxWarning: invalid escape sequence '\\.'\n",
      "<string>:412: SyntaxWarning: invalid escape sequence '\\d'\n",
      "<string>:707: SyntaxWarning: invalid escape sequence '\\s'\n",
      "\n",
      "8it [00:09,  1.23s/it]\u001b[A"
     ]
    },
    {
     "name": "stdout",
     "output_type": "stream",
     "text": [
      "/home/grierjones/DDCASPT2/delta_ML/OO\n",
      "raddir /home/grierjones/DDCASPT2/delta_ML/OO/1.40\n",
      "/home/grierjones/DDCASPT2/delta_ML/OO/1.40\n"
     ]
    },
    {
     "name": "stderr",
     "output_type": "stream",
     "text": [
      "<string>:392: SyntaxWarning: invalid escape sequence '\\.'\n",
      "<string>:401: SyntaxWarning: invalid escape sequence '\\.'\n",
      "<string>:412: SyntaxWarning: invalid escape sequence '\\d'\n",
      "<string>:707: SyntaxWarning: invalid escape sequence '\\s'\n",
      "\n",
      "9it [00:11,  1.23s/it]\u001b[A"
     ]
    },
    {
     "name": "stdout",
     "output_type": "stream",
     "text": [
      "/home/grierjones/DDCASPT2/delta_ML/OO\n",
      "raddir /home/grierjones/DDCASPT2/delta_ML/OO/1.50\n",
      "/home/grierjones/DDCASPT2/delta_ML/OO/1.50\n"
     ]
    },
    {
     "name": "stderr",
     "output_type": "stream",
     "text": [
      "<string>:392: SyntaxWarning: invalid escape sequence '\\.'\n",
      "<string>:401: SyntaxWarning: invalid escape sequence '\\.'\n",
      "<string>:412: SyntaxWarning: invalid escape sequence '\\d'\n",
      "<string>:707: SyntaxWarning: invalid escape sequence '\\s'\n",
      "\n",
      "10it [00:12,  1.23s/it]\u001b[A"
     ]
    },
    {
     "name": "stdout",
     "output_type": "stream",
     "text": [
      "/home/grierjones/DDCASPT2/delta_ML/OO\n",
      "raddir /home/grierjones/DDCASPT2/delta_ML/OO/1.60\n",
      "/home/grierjones/DDCASPT2/delta_ML/OO/1.60\n"
     ]
    },
    {
     "name": "stderr",
     "output_type": "stream",
     "text": [
      "<string>:392: SyntaxWarning: invalid escape sequence '\\.'\n",
      "<string>:401: SyntaxWarning: invalid escape sequence '\\.'\n",
      "<string>:412: SyntaxWarning: invalid escape sequence '\\d'\n",
      "<string>:707: SyntaxWarning: invalid escape sequence '\\s'\n",
      "\n",
      "11it [00:13,  1.23s/it]\u001b[A"
     ]
    },
    {
     "name": "stdout",
     "output_type": "stream",
     "text": [
      "/home/grierjones/DDCASPT2/delta_ML/OO\n",
      "raddir /home/grierjones/DDCASPT2/delta_ML/OO/1.70\n",
      "/home/grierjones/DDCASPT2/delta_ML/OO/1.70\n"
     ]
    },
    {
     "name": "stderr",
     "output_type": "stream",
     "text": [
      "<string>:392: SyntaxWarning: invalid escape sequence '\\.'\n",
      "<string>:401: SyntaxWarning: invalid escape sequence '\\.'\n",
      "<string>:412: SyntaxWarning: invalid escape sequence '\\d'\n",
      "<string>:707: SyntaxWarning: invalid escape sequence '\\s'\n",
      "\n",
      "12it [00:15,  1.49s/it]\u001b[A"
     ]
    },
    {
     "name": "stdout",
     "output_type": "stream",
     "text": [
      "/home/grierjones/DDCASPT2/delta_ML/OO\n",
      "raddir /home/grierjones/DDCASPT2/delta_ML/OO/1.80\n",
      "/home/grierjones/DDCASPT2/delta_ML/OO/1.80\n"
     ]
    },
    {
     "name": "stderr",
     "output_type": "stream",
     "text": [
      "<string>:392: SyntaxWarning: invalid escape sequence '\\.'\n",
      "<string>:401: SyntaxWarning: invalid escape sequence '\\.'\n",
      "<string>:412: SyntaxWarning: invalid escape sequence '\\d'\n",
      "<string>:707: SyntaxWarning: invalid escape sequence '\\s'\n",
      "\n",
      "13it [00:16,  1.42s/it]\u001b[A"
     ]
    },
    {
     "name": "stdout",
     "output_type": "stream",
     "text": [
      "/home/grierjones/DDCASPT2/delta_ML/OO\n",
      "raddir /home/grierjones/DDCASPT2/delta_ML/OO/1.90\n",
      "/home/grierjones/DDCASPT2/delta_ML/OO/1.90\n"
     ]
    },
    {
     "name": "stderr",
     "output_type": "stream",
     "text": [
      "<string>:392: SyntaxWarning: invalid escape sequence '\\.'\n",
      "<string>:401: SyntaxWarning: invalid escape sequence '\\.'\n",
      "<string>:412: SyntaxWarning: invalid escape sequence '\\d'\n",
      "<string>:707: SyntaxWarning: invalid escape sequence '\\s'\n",
      "\n",
      "14it [00:18,  1.36s/it]\u001b[A"
     ]
    },
    {
     "name": "stdout",
     "output_type": "stream",
     "text": [
      "/home/grierjones/DDCASPT2/delta_ML/OO\n",
      "raddir /home/grierjones/DDCASPT2/delta_ML/OO/2.00\n",
      "/home/grierjones/DDCASPT2/delta_ML/OO/2.00\n"
     ]
    },
    {
     "name": "stderr",
     "output_type": "stream",
     "text": [
      "<string>:392: SyntaxWarning: invalid escape sequence '\\.'\n",
      "<string>:401: SyntaxWarning: invalid escape sequence '\\.'\n",
      "<string>:412: SyntaxWarning: invalid escape sequence '\\d'\n",
      "<string>:707: SyntaxWarning: invalid escape sequence '\\s'\n",
      "\n",
      "15it [00:19,  1.32s/it]\u001b[A"
     ]
    },
    {
     "name": "stdout",
     "output_type": "stream",
     "text": [
      "/home/grierjones/DDCASPT2/delta_ML/OO\n",
      "raddir /home/grierjones/DDCASPT2/delta_ML/OO/2.10\n",
      "/home/grierjones/DDCASPT2/delta_ML/OO/2.10\n"
     ]
    },
    {
     "name": "stderr",
     "output_type": "stream",
     "text": [
      "<string>:392: SyntaxWarning: invalid escape sequence '\\.'\n",
      "<string>:401: SyntaxWarning: invalid escape sequence '\\.'\n",
      "<string>:412: SyntaxWarning: invalid escape sequence '\\d'\n",
      "<string>:707: SyntaxWarning: invalid escape sequence '\\s'\n",
      "\n",
      "16it [00:20,  1.29s/it]\u001b[A"
     ]
    },
    {
     "name": "stdout",
     "output_type": "stream",
     "text": [
      "/home/grierjones/DDCASPT2/delta_ML/OO\n",
      "raddir /home/grierjones/DDCASPT2/delta_ML/OO/2.20\n",
      "/home/grierjones/DDCASPT2/delta_ML/OO/2.20\n"
     ]
    },
    {
     "name": "stderr",
     "output_type": "stream",
     "text": [
      "<string>:392: SyntaxWarning: invalid escape sequence '\\.'\n",
      "<string>:401: SyntaxWarning: invalid escape sequence '\\.'\n",
      "<string>:412: SyntaxWarning: invalid escape sequence '\\d'\n",
      "<string>:707: SyntaxWarning: invalid escape sequence '\\s'\n",
      "\n",
      "17it [00:21,  1.28s/it]\u001b[A"
     ]
    },
    {
     "name": "stdout",
     "output_type": "stream",
     "text": [
      "/home/grierjones/DDCASPT2/delta_ML/OO\n",
      "raddir /home/grierjones/DDCASPT2/delta_ML/OO/2.30\n",
      "/home/grierjones/DDCASPT2/delta_ML/OO/2.30\n"
     ]
    },
    {
     "name": "stderr",
     "output_type": "stream",
     "text": [
      "<string>:392: SyntaxWarning: invalid escape sequence '\\.'\n",
      "<string>:401: SyntaxWarning: invalid escape sequence '\\.'\n",
      "<string>:412: SyntaxWarning: invalid escape sequence '\\d'\n",
      "<string>:707: SyntaxWarning: invalid escape sequence '\\s'\n",
      "\n",
      "18it [00:22,  1.26s/it]\u001b[A"
     ]
    },
    {
     "name": "stdout",
     "output_type": "stream",
     "text": [
      "/home/grierjones/DDCASPT2/delta_ML/OO\n",
      "raddir /home/grierjones/DDCASPT2/delta_ML/OO/2.40\n",
      "/home/grierjones/DDCASPT2/delta_ML/OO/2.40\n"
     ]
    },
    {
     "name": "stderr",
     "output_type": "stream",
     "text": [
      "<string>:392: SyntaxWarning: invalid escape sequence '\\.'\n",
      "<string>:401: SyntaxWarning: invalid escape sequence '\\.'\n",
      "<string>:412: SyntaxWarning: invalid escape sequence '\\d'\n",
      "<string>:707: SyntaxWarning: invalid escape sequence '\\s'\n",
      "\n",
      "19it [00:24,  1.25s/it]\u001b[A"
     ]
    },
    {
     "name": "stdout",
     "output_type": "stream",
     "text": [
      "/home/grierjones/DDCASPT2/delta_ML/OO\n",
      "raddir /home/grierjones/DDCASPT2/delta_ML/OO/2.50\n",
      "/home/grierjones/DDCASPT2/delta_ML/OO/2.50\n"
     ]
    },
    {
     "name": "stderr",
     "output_type": "stream",
     "text": [
      "<string>:392: SyntaxWarning: invalid escape sequence '\\.'\n",
      "<string>:401: SyntaxWarning: invalid escape sequence '\\.'\n",
      "<string>:412: SyntaxWarning: invalid escape sequence '\\d'\n",
      "<string>:707: SyntaxWarning: invalid escape sequence '\\s'\n",
      "\n",
      "20it [00:25,  1.24s/it]\u001b[A"
     ]
    },
    {
     "name": "stdout",
     "output_type": "stream",
     "text": [
      "/home/grierjones/DDCASPT2/delta_ML/OO\n",
      "raddir /home/grierjones/DDCASPT2/delta_ML/OO/2.60\n",
      "/home/grierjones/DDCASPT2/delta_ML/OO/2.60\n"
     ]
    },
    {
     "name": "stderr",
     "output_type": "stream",
     "text": [
      "<string>:392: SyntaxWarning: invalid escape sequence '\\.'\n",
      "<string>:401: SyntaxWarning: invalid escape sequence '\\.'\n",
      "<string>:412: SyntaxWarning: invalid escape sequence '\\d'\n",
      "<string>:707: SyntaxWarning: invalid escape sequence '\\s'\n",
      "\n",
      "21it [00:26,  1.23s/it]\u001b[A"
     ]
    },
    {
     "name": "stdout",
     "output_type": "stream",
     "text": [
      "/home/grierjones/DDCASPT2/delta_ML/OO\n",
      "raddir /home/grierjones/DDCASPT2/delta_ML/OO/2.70\n",
      "/home/grierjones/DDCASPT2/delta_ML/OO/2.70\n"
     ]
    },
    {
     "name": "stderr",
     "output_type": "stream",
     "text": [
      "<string>:392: SyntaxWarning: invalid escape sequence '\\.'\n",
      "<string>:401: SyntaxWarning: invalid escape sequence '\\.'\n",
      "<string>:412: SyntaxWarning: invalid escape sequence '\\d'\n",
      "<string>:707: SyntaxWarning: invalid escape sequence '\\s'\n",
      "\n",
      "22it [00:27,  1.22s/it]\u001b[A"
     ]
    },
    {
     "name": "stdout",
     "output_type": "stream",
     "text": [
      "/home/grierjones/DDCASPT2/delta_ML/OO\n",
      "raddir /home/grierjones/DDCASPT2/delta_ML/OO/2.80\n",
      "/home/grierjones/DDCASPT2/delta_ML/OO/2.80\n"
     ]
    },
    {
     "name": "stderr",
     "output_type": "stream",
     "text": [
      "<string>:392: SyntaxWarning: invalid escape sequence '\\.'\n",
      "<string>:401: SyntaxWarning: invalid escape sequence '\\.'\n",
      "<string>:412: SyntaxWarning: invalid escape sequence '\\d'\n",
      "<string>:707: SyntaxWarning: invalid escape sequence '\\s'\n",
      "\n",
      "23it [00:28,  1.26s/it]\u001b[A\n",
      "100%|██████████████████████████████████████████████████████████████████████████████████████████████████████████████████████████████████████████████████████████████████████████████| 36/36 [18:10<00:00, 30.28s/it]"
     ]
    },
    {
     "name": "stdout",
     "output_type": "stream",
     "text": [
      "/home/grierjones/DDCASPT2/delta_ML/OO\n",
      "/home/grierjones/DDCASPT2/delta_ML/OO\n"
     ]
    },
    {
     "name": "stderr",
     "output_type": "stream",
     "text": [
      "\n"
     ]
    }
   ],
   "source": [
    "basis_set=\"ANO-RCC-MB\"\n",
    "top=os.path.join('/home/grierjones/DDCASPT2/delta_ML')\n",
    "for A,B in tqdm(diatomics):\n",
    "    A_ele=getattr(mendeleev,A).electrons\n",
    "    B_ele=getattr(mendeleev,B).electrons\n",
    "\n",
    "    dirname=os.path.join(top,''.join((A,B)))\n",
    "    if os.path.exists(dirname)==False:\n",
    "        os.mkdir(dirname)\n",
    "        \n",
    "    for idr, r in tqdm(enumerate(radius_range)):\n",
    "        raddir=os.path.join(dirname,f\"{r:.2f}\")\n",
    "        print(f\"raddir {raddir}\")\n",
    "        if os.path.exists(raddir)==False:\n",
    "            os.mkdir(raddir)\n",
    "        writexyz(A,B,r,os.path.join(dirname,f\"{r:.2f}/{r:.2f}.xyz\"))\n",
    "        \n",
    "        if (A_ele+B_ele)%2==0:\n",
    "            allorbs=(A_ele+B_ele)//2\n",
    "            active_o=2\n",
    "            active_e=2\n",
    "            inactive=allorbs-active_o\n",
    "            spin=1\n",
    "            if allorbs>1:\n",
    "                write_input(dirname,basis_set,r,idr,active_o,active_o,inactive,spin)\n",
    "            else:\n",
    "                write_input(dirname,basis_set,r,idr,active_o,active_o,0,spin)\n",
    "        else:\n",
    "            allorbs=(A_ele+B_ele+1)//2\n",
    "            active_o=2\n",
    "            active_e=3\n",
    "            inactive=allorbs-active_o\n",
    "            spin=2\n",
    "            write_input(dirname,basis_set,r,idr,active_e,active_o,inactive,spin)\n",
    "\n",
    "        \n",
    "        if os.getcwd()!=raddir:    \n",
    "            os.chdir(raddir)\n",
    "        print(os.getcwd())\n",
    "        # Run\n",
    "        call(['pymolcas','-new','-clean',f'{r:.2f}.input', '-oe', f'{r:.2f}.output'])\n",
    "\n",
    "        # Back to top dir\n",
    "\n",
    "        if os.getcwd()!=os.path.join(dirname):\n",
    "            os.chdir(os.path.join(dirname))\n",
    "        print(os.getcwd())\n",
    "    print(os.getcwd())"
   ]
  },
  {
   "cell_type": "code",
   "execution_count": null,
   "id": "61625d5d-6391-465d-9f0e-f0bf626b494e",
   "metadata": {},
   "outputs": [],
   "source": []
  },
  {
   "cell_type": "code",
   "execution_count": null,
   "id": "8c4737d7-8d82-483c-b428-662f2bca36fc",
   "metadata": {},
   "outputs": [],
   "source": []
  }
 ],
 "metadata": {
  "kernelspec": {
   "display_name": "Python 3 (ipykernel)",
   "language": "python",
   "name": "python3"
  },
  "language_info": {
   "codemirror_mode": {
    "name": "ipython",
    "version": 3
   },
   "file_extension": ".py",
   "mimetype": "text/x-python",
   "name": "python",
   "nbconvert_exporter": "python",
   "pygments_lexer": "ipython3",
   "version": "3.12.1"
  }
 },
 "nbformat": 4,
 "nbformat_minor": 5
}
